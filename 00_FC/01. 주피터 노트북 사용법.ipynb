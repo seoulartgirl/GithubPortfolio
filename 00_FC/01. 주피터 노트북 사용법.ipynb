{
 "cells": [
  {
   "cell_type": "markdown",
   "id": "57430322",
   "metadata": {},
   "source": [
    "**단축키**\n",
    "- 파란모드에서 shift cmd h 누르면 단축기 shortcut\n",
    "- 파란모드에서 a 누르면 위에 코드 셀 생성\n",
    "- 파란모드에서 b 누르면 아래에 코드 셀 생성\n",
    "- 셀을 지우는건 d를 두번 연속 누르기 or X 지우기\n",
    "- c 복사 v 붙여넣기\n",
    "\n",
    "- 셀 실행, 아래 이동: shift + enter\n",
    "- 셀 실행, 아래 생성: option + enter\n",
    "- 셀 실행 : ctrl + enter / cmd + enter\n",
    "\n",
    "- 마크다운 단축키: 코드모드에서 m 누르기\n",
    "- 다시 코드 모드로 바꾸려면 y 누르기\n",
    "\n",
    "- 파일 저장: cmd + S"
   ]
  },
  {
   "cell_type": "markdown",
   "id": "790bd8dc-615b-48f7-9bcc-ddcad50f3f5d",
   "metadata": {},
   "source": [
    "### 셀 모드\n",
    "- **편집모드** : 마우스나 Enter키를 입력하여 내용을 작성할 수 있는 상태\n",
    "    - 실행을 단축키 cmd + enter | shift + enter | opt + enter\n",
    "    - 셀 나누기: 나누려는 곳에 커서를 두고 ctrl + shift + -\n",
    "    - 선택된 셀의 전체 코드를 선택 : cmd + a\n",
    "    - 실행 취소: cmd + z\n",
    "    - 재실행: ctrl + y\n",
    "    - 주석처리 : 커서 위치 cmd + /\n",
    " \n",
    "---\n",
    "\n",
    "- **명령모드** : 편집모드에서 ESC키 or ctrl + m 를 누름\n",
    "    - 셀의 종류 변경: 단축키 M (Markdown), Y(Code), R(raw)\n",
    "    - 셀 복사(C), 잘라내기(X), 붙여넣기(V)\n",
    "    - 셀 삭제(dd), 삽입(a,b), 이동()\n",
    "    - 여러 셀 선택: shift + 마우스로 셀들을 클릭하여 여러 셀 선택\n",
    "    - 셀 병합: 셀 선택후 shift + m\n",
    "    - 상하 셀 이동: 상하 방향키"
   ]
  },
  {
   "cell_type": "markdown",
   "id": "6d3177f7-fafb-4f8b-88eb-6410712417af",
   "metadata": {},
   "source": [
    "### 셀 종류\n",
    "- code 셀\n",
    "- Markdown 셀\n",
    "- Raw 셀"
   ]
  },
  {
   "cell_type": "markdown",
   "id": "8891e509",
   "metadata": {},
   "source": [
    "Cell-> cell type-> 마크다운(Markdown)\n",
    "# Hello Python\n",
    "## Hello Python\n",
    "### Hello Python\n",
    "#### Hello Python"
   ]
  },
  {
   "cell_type": "markdown",
   "id": "b1b57046-e0cc-40b0-aa4c-0777ed731947",
   "metadata": {},
   "source": [
    "---"
   ]
  },
  {
   "cell_type": "markdown",
   "id": "1052ff23",
   "metadata": {},
   "source": [
    "- 굵은 글씨체: ** \n",
    "- 기울어진 글씨체: *\n",
    "**python** is really *cool*\n",
    "\n",
    "- python\n",
    "    - Panda\n",
    "    - numpy\n",
    "- java\n",
    "- C++\n",
    "- golang\n",
    "\n",
    "1. python\n",
    "2. java\n",
    "3. C++\n",
    "\n",
    "> 파이썬은 재밌다고 하더라 (인용구 들여쓰기)\n",
    "\n",
    "수학 기호처럼 쓰고 싶으면 달러표시\n",
    "$ y=3x $\n",
    "\n",
    "[파이썬 공식페이지](https://fastcampus.co.kr/me/course)"
   ]
  },
  {
   "cell_type": "code",
   "execution_count": 1,
   "id": "06dd7a1b-a9d1-4861-8f0d-050730367fb2",
   "metadata": {
    "scrolled": true
   },
   "outputs": [
    {
     "name": "stdout",
     "output_type": "stream",
     "text": [
      "Hello notebook\n"
     ]
    }
   ],
   "source": [
    "print('Hello notebook')"
   ]
  },
  {
   "cell_type": "code",
   "execution_count": 22,
   "id": "91fc8f99",
   "metadata": {},
   "outputs": [
    {
     "name": "stdout",
     "output_type": "stream",
     "text": [
      "10\n"
     ]
    }
   ],
   "source": [
    "a=10\n",
    "print(a)"
   ]
  },
  {
   "cell_type": "code",
   "execution_count": null,
   "id": "a6708eb7",
   "metadata": {},
   "outputs": [],
   "source": [
    "a=1\n",
    "print(a)"
   ]
  },
  {
   "cell_type": "code",
   "execution_count": 1,
   "id": "744699b7",
   "metadata": {},
   "outputs": [],
   "source": [
    "%config Completer.use_jedi = False"
   ]
  }
 ],
 "metadata": {
  "kernelspec": {
   "display_name": "Python 3 (ipykernel)",
   "language": "python",
   "name": "python3"
  },
  "language_info": {
   "codemirror_mode": {
    "name": "ipython",
    "version": 3
   },
   "file_extension": ".py",
   "mimetype": "text/x-python",
   "name": "python",
   "nbconvert_exporter": "python",
   "pygments_lexer": "ipython3",
   "version": "3.11.7"
  }
 },
 "nbformat": 4,
 "nbformat_minor": 5
}
