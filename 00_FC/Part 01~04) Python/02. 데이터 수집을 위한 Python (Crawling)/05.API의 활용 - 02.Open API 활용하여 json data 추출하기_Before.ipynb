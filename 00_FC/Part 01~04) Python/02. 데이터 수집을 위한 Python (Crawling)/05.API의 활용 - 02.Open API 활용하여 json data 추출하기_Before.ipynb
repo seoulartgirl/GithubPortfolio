{
 "cells": [
  {
   "cell_type": "markdown",
   "metadata": {},
   "source": [
    "### 학습목표\n",
    " 1. OPEN API 사용하여 데이터 획득하기"
   ]
  },
  {
   "cell_type": "markdown",
   "metadata": {},
   "source": [
    "#### 공공데이터 포털 OPEN API 사용하기\n",
    "1. 공공데이터 포털 회원가입/로그인(https://www.data.go.kr/)\n",
    "2. API 사용 요청 / 키 발급\n",
    "3. API 문서(specification) 확인\n",
    "4. API 테스트 및 개발"
   ]
  },
  {
   "cell_type": "markdown",
   "metadata": {},
   "source": [
    "#### Endpoint 확인하기\n",
    " - API가 서비스되는 서버의 IP 혹은 domain 주소"
   ]
  },
  {
   "cell_type": "code",
   "execution_count": 5,
   "metadata": {},
   "outputs": [
    {
     "name": "stdout",
     "output_type": "stream",
     "text": [
      "http://apis.data.go.kr/B551011/EngService1/areaCode1?serviceKey=cu%2Fvd1yTPiOwWiOGHM7joZnZtoybSJqhZuz5TwGib57IeNRYVsfCPOJTccdVOG6TVdwaMmnArC%2Bbr69TOtACJA%3D%3D&numOfRows=10&pageNo=1&MobileOS=ETC&MobileApp=AppTest&_type=json\n"
     ]
    }
   ],
   "source": [
    "endpoint=f'http://apis.data.go.kr/B551011/EngService1/areaCode1?serviceKey={key}&numOfRows=10&pageNo=1&MobileOS=ETC&MobileApp=AppTest&_type=json'\n",
    "print(endpoint)"
   ]
  },
  {
   "cell_type": "markdown",
   "metadata": {},
   "source": [
    "#### key 값 확인하기\n",
    " - 서비스 호출 트래킹할 목적이나 악의적인 사용을 금지할 목적으로 주로 사용\n",
    " - 새로 발급받은 키는 1시간 이후 사용 가능"
   ]
  },
  {
   "cell_type": "code",
   "execution_count": 1,
   "metadata": {},
   "outputs": [],
   "source": [
    "key='cu%2Fvd1yTPiOwWiOGHM7joZnZtoybSJqhZuz5TwGib57IeNRYVsfCPOJTccdVOG6TVdwaMmnArC%2Bbr69TOtACJA%3D%3D'"
   ]
  },
  {
   "cell_type": "markdown",
   "metadata": {},
   "source": [
    "#### Parameter 확인하기\n",
    " - API 호출에 필요한 parameter 값 확인 및 구성"
   ]
  },
  {
   "cell_type": "markdown",
   "metadata": {},
   "source": [
    "#### 요청 및 Response 확인\n",
    " - requests 모듈을 활용하여 API 호출\n",
    " - response 확인하여 원하는 정보 추출\n",
    " - json 데이터의 경우, python dictionary로 변경하여 사용가능"
   ]
  },
  {
   "cell_type": "code",
   "execution_count": 13,
   "metadata": {},
   "outputs": [
    {
     "name": "stdout",
     "output_type": "stream",
     "text": [
      "200\n",
      "{\"response\": {\"header\":{\"resultCode\":\"0000\",\"resultMsg\":\"OK\"},\"body\": {\"items\": {\"item\":[{\"rnum\":1,\"code\":\"1\",\"name\":\"Seoul\"},{\"rnum\":2,\"code\":\"2\",\"name\":\"Incheon\"},{\"rnum\":3,\"code\":\"3\",\"name\":\"Daejeon\"},{\"rnum\":4,\"code\":\"4\",\"name\":\"Daegu\"},{\"rnum\":5,\"code\":\"5\",\"name\":\"Gwangju\"},{\"rnum\":6,\"code\":\"6\",\"name\":\"Busan\"},{\"rnum\":7,\"code\":\"7\",\"name\":\"Ulsan\"},{\"rnum\":8,\"code\":\"8\",\"name\":\"Sejong\"},{\"rnum\":9,\"code\":\"31\",\"name\":\"Gyeonggi-do\"},{\"rnum\":10,\"code\":\"32\",\"name\":\"Gangwon-do\"}]},\"numOfRows\":10,\"pageNo\":1,\"totalCount\":17}}}\n"
     ]
    },
    {
     "data": {
      "text/plain": [
       "{'response': {'header': {'resultCode': '0000', 'resultMsg': 'OK'},\n",
       "  'body': {'items': {'item': [{'rnum': 1, 'code': '1', 'name': 'Seoul'},\n",
       "     {'rnum': 2, 'code': '2', 'name': 'Incheon'},\n",
       "     {'rnum': 3, 'code': '3', 'name': 'Daejeon'},\n",
       "     {'rnum': 4, 'code': '4', 'name': 'Daegu'},\n",
       "     {'rnum': 5, 'code': '5', 'name': 'Gwangju'},\n",
       "     {'rnum': 6, 'code': '6', 'name': 'Busan'},\n",
       "     {'rnum': 7, 'code': '7', 'name': 'Ulsan'},\n",
       "     {'rnum': 8, 'code': '8', 'name': 'Sejong'},\n",
       "     {'rnum': 9, 'code': '31', 'name': 'Gyeonggi-do'},\n",
       "     {'rnum': 10, 'code': '32', 'name': 'Gangwon-do'}]},\n",
       "   'numOfRows': 10,\n",
       "   'pageNo': 1,\n",
       "   'totalCount': 17}}}"
      ]
     },
     "execution_count": 13,
     "metadata": {},
     "output_type": "execute_result"
    }
   ],
   "source": [
    "import requests\n",
    "pageNo=1\n",
    "endpoint=f'http://apis.data.go.kr/B551011/EngService1/areaCode1?serviceKey={key}&numOfRows=10&pageNo={pageNo}&MobileOS=ETC&MobileApp=AppTest&_type=json'\n",
    "resp = requests.get(endpoint)\n",
    "\n",
    "print(resp.status_code)\n",
    "print(resp.text)\n",
    "\n",
    "resp.json()"
   ]
  },
  {
   "cell_type": "code",
   "execution_count": 14,
   "metadata": {},
   "outputs": [
    {
     "data": {
      "text/plain": [
       "dict"
      ]
     },
     "execution_count": 14,
     "metadata": {},
     "output_type": "execute_result"
    }
   ],
   "source": [
    "type(resp.json())"
   ]
  },
  {
   "cell_type": "code",
   "execution_count": 16,
   "metadata": {},
   "outputs": [
    {
     "name": "stdout",
     "output_type": "stream",
     "text": [
      "{'rnum': 1, 'code': '1', 'name': 'Seoul'}\n"
     ]
    }
   ],
   "source": [
    "data = resp.json()\n",
    "print(data['response']['body']['items']['item'][0])"
   ]
  }
 ],
 "metadata": {
  "kernelspec": {
   "display_name": "Python 3 (ipykernel)",
   "language": "python",
   "name": "python3"
  },
  "language_info": {
   "codemirror_mode": {
    "name": "ipython",
    "version": 3
   },
   "file_extension": ".py",
   "mimetype": "text/x-python",
   "name": "python",
   "nbconvert_exporter": "python",
   "pygments_lexer": "ipython3",
   "version": "3.11.7"
  }
 },
 "nbformat": 4,
 "nbformat_minor": 4
}
