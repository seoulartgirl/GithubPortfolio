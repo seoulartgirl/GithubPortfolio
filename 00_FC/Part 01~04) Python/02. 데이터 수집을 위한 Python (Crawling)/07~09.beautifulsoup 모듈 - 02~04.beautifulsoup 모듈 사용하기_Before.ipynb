{
 "cells": [
  {
   "cell_type": "markdown",
   "metadata": {},
   "source": [
    "### 학습목표\n",
    "1. beautifulsoup 모듈 사용하기\n",
    "2. id, class 속성으로 tag 찾기\n",
    "3. CSS를 이용하여 tag 찾기\n",
    "4. 속성 값으로 tag 찾기\n",
    "5. 정규표현식으로 tag 찾기\n",
    "6. 개발자도구를 이용하여 동적으로 로딩되는 데이터 추출하기"
   ]
  },
  {
   "cell_type": "code",
   "execution_count": 1,
   "metadata": {},
   "outputs": [],
   "source": [
    "import requests\n",
    "from bs4 import BeautifulSoup"
   ]
  },
  {
   "cell_type": "markdown",
   "metadata": {},
   "source": [
    "#### 다음 뉴스 데이터 추출\n",
    " - 뉴스기사에서 제목, 작성자, 작성일\n",
    " , 댓글 개수 추출\n",
    " - [뉴스링크](https://news.v.daum.net/v/20190728165812603)\n",
    " - tag를 추출할때는 가장 그 tag를 쉽게 특정할 수 있는 속성을 사용\n",
    "  - id의 경우 원칙적으로 한 html 문서 내에서 유일\n",
    "  "
   ]
  },
  {
   "cell_type": "code",
   "execution_count": 3,
   "metadata": {},
   "outputs": [
    {
     "data": {
      "text/plain": [
       "'<!doctype html>\\n<html class=\"os_window\"> \\n <head data-cloud-area=\"head\"> \\n  <meta charset=\"utf-8\"> \\n  <meta http-equiv=\"X-UA-Compatible\" content=\"IE=edge\"> \\n  <meta name=\"viewport\" content=\"width=device-width,initial-scale=1,maximum-scale=1,user-scalable=no\"> \\n  <meta name=\"format-detection\" content=\"telephone=no\"> \\n  <meta name=\"referrer\" content=\"unsafe-url\"> \\n  <title>일론머스크 \"테슬라에서 넷플릭스·유튜브 즐길 날 온다\"</title> \\n  <link rel=\"shortcut icon\" href=\"//t1.daumcdn.net/top/favicon.ico\"> \\n  <meta property=\"mccp:docId\" content=\"NHT9NtZWBe\"> \\n  <meta property=\"og:site_name\" content=\"언론사 뷰\"> \\n  <meta property=\"og:title\" content=\"일론머스크 &quot;테슬라에서 넷플릭스·유튜브 즐길 날 온다&quot;\"> \\n  <meta property=\"og:regDate\" content=\"20190728165812\"> \\n  <meta property=\"og:type\" content=\"article\"> \\n  <meta property=\"og:article:author\" content=\"아시아경제\"> \\n  <meta property=\"og:url\" content=\"https://v.daum.net/v/20190728165812603\"> \\n  <meta property=\"og:image\" content=\"https://img1.daumcdn.net/thumb/S1200x630/?fname=https://t1.daumcdn.net/news/201907/28/akn/20190728165813230vjsq.jpg\"> \\n  <meta property=\"og:image:width\" content=\"1200\"> \\n  <meta property=\"og:image:height\" content=\"630\"> \\n  <meta property=\"og:description\" content=\"[아시아경제 이민우 기자] 일론 머스크 테슬라 최고경영자(CEO)가 자사 전기 자동차 모델에 넷플릭스와 유튜브 등 온라인동영상서비스(OTT)를 탑재할 것이라고 예고했다. 단순히 자율 주행 전기차가 단순히 주행을 위한 정보를 알려주는 것을 넘어 각종 영상 콘텐츠를 즐기는 공간으로도 확장하겠다는 전략으로 풀이된다.27일(현지시간) 더버지 등 주요 외신들에 따르\"> \\n  <meta property=\"al:android:url\" content=\"daumapps://web?url=https%3A%2F%2Fv.daum.net/v/20190728165812603\"> \\n  <meta property=\"al:android:package\" content=\"net.daum.android.daum\"> \\n  <meta property=\"al:android:app_name\" content=\"다음앱\"> \\n  <meta property=\"al:ios:url\" content=\"daumapps://web?url=https%3A%2F%2Fv.daum.net/v/20190728165812603\"> \\n  <meta property=\"al:ios:app_store_id\" content=\"365494029\"> \\n  <meta property=\"al:ios:app_name\" content=\"다음앱\"> \\n  <meta property=\"twitter:card\" content=\"summary_large_image\"> \\n  <meta property=\"twitter:app:url:googleplay\" content=\"daumapps://web?url=https%3A%2F%2Fv.daum.net/v/20190728165812603\"> \\n  <meta property=\"twitter:app:id:googleplay\" content=\"net.daum.android.daum\"> \\n  <meta property=\"twitter:app:name:googleplay\" content=\"다음앱\"> \\n  <meta property=\"twitter:app:country\" content=\"KR\"> \\n  <meta property=\"twitter:app:url:iphone\" content=\"daumapps://web?url=https%3A%2F%2Fv.daum.net/v/20190728165812603\"> \\n  <meta property=\"twitter:app:id:iphone\" content=\"365494029\"> \\n  <meta property=\"twitter:app:name:iphone\" content=\"다음앱\"> \\n  <meta property=\"twitter:app:url:ipad\" content=\"daumapps://web?url=https%3A%2F%2Fv.daum.net/v/20190728165812603\"> \\n  <meta property=\"twitter:app:id:ipad\" content=\"365494029\"> \\n  <meta property=\"twitter:app:name:ipad\" content=\"다음앱\"> \\n </head> \\n <body> \\n  <link rel=\"preload\" href=\"https://t1.daumcdn.net/harmony_static/font/SF-UI-Display-Regular.woff\" as=\"font\" type=\"font/woff\" crossorigin> \\n  <link rel=\"preload\" href=\"https://t1.daumcdn.net/harmony_static/font/SF-UI-Display-Medium.woff\" as=\"font\" type=\"font/woff\" crossorigin> \\n  <link rel=\"preload\" href=\"https://t1.daumcdn.net/harmony_static/font/SF-UI-Display-Bold.woff\" as=\"font\" type=\"font/woff\" crossorigin> \\n  <link rel=\"stylesheet\" type=\"text/css\" href=\"//t1.daumcdn.net/harmony_static/cloud/2024/01/03/common.4e81a0796222ba0f0c7e.css\">  \\n  <link rel=\"stylesheet\" type=\"text/css\" href=\"//t1.daumcdn.net/harmony_static/cloud/page/a6e6b6c7a97dae256b26e73a7d7ac1825d648db51695360263650.css\">  \\n  <link rel=\"preconnect\" href=\"https://hades-cerberus.v.daum.net\"> \\n  <link rel=\"preconnect\" href=\"https://hades-proxy.v.daum.net\">       \\n  <div id=\"kakaoWrap\" class=\"container-doc wrap_view\" data-tiara-layer=\"pc_news\"> \\n   <header id=\"kakaoHead\" class=\"doc-header\" data-cloud-area=\"header\"> \\n    <div class=\"head_top\" data-tiara-layer=\"news_header_gnb\" data-cloud=\"newsview_pc_gnb\"> \\n     <h1 class=\"doc-title\"> <a href=\"//daum.net\" class=\"link_daum\" data-tiara=\"로고\" data-tiara-action-name=\"GNB다음로고_클릭\"> <img src=\"//t1.daumcdn.net/media/common/newsview_2021/pc/rtn/logo_daum.png\" width=\"44\" height=\"18\" class=\"logo_daum\" alt=\"Daum\"> </a> <a href=\"https://v.daum.net/channel/90/home\" id=\"kakaoServiceLogo\" data-tiara=\"언론사명\" data-tiara-action-name=\"GNB언론사명_클릭\">아시아경제</a> </h1> \\n     <div class=\"user_service\"> \\n      <h2 class=\"screen_out\">검색</h2> <a href=\"#none\" class=\"link_search\" data-tiara=\"검색\" data-tiara-action-name=\"GNB검색_클릭\" data-tiara-action-kind=\"Search\"> <span class=\"ico_view ico_search\">검색</span> </a> \\n      <div id=\"daumSearchLayer\" class=\"search_wrap\">  \\n       <form id=\"daumSearchForm\" action=\"https://search.daum.net/search\" method=\"get\"> \\n        <fieldset class=\"fld_inside\"> <legend class=\"screen_out\">검색어 입력폼</legend> \\n         <div class=\"box_search\"> <label for=\"qVal\" class=\"screen_out\">통합검색</label> \\n          <input type=\"hidden\" name=\"nil_profile\" value=\"search\"> \\n          <input type=\"hidden\" name=\"nil_src\" value=\"media\"> \\n          <input type=\"hidden\" name=\"DA\" value=\"23A\"> \\n          <input type=\"hidden\" name=\"rtmaxcoll\" value=\"DNS,NNS\"> \\n          <input type=\"text\" class=\"tf_keyword\" id=\"qVal\" name=\"q\" value=\"\" title=\"검색어 입력\" autocomplete=\"off\" spellcheck=\"false\"> <button id=\"daumBtnReset\" type=\"reset\" class=\"btn_reset\"> <span class=\"ico_view\">입력삭제</span> </button> <button id=\"daumBtnSubmit\" type=\"submit\" class=\"btn_search\"> <span class=\"ico_view ico_search\"> <span class=\"ir_wa\">검색</span> </span> </button> \\n         </div> \\n        </fieldset> \\n        <div id=\"wrap_suggestBox\" class=\"suggest_wrap\"> \\n         <div id=\"suggestBox\" class=\"suggestBox box_sub\"></div> \\n        </div> \\n       </form> \\n      </div> <a href=\"#none\" class=\"link_closed\"><span class=\"ico_view\">닫기</span></a> \\n     </div> \\n     <div class=\"util_socialchare\"> <button id=\"rSocialShareButton2\" class=\"btn_share\" data-tiara=\"SNS공유하기\" data-tiara-action-name=\"GNB공유_클릭\" data-tiara-action-kind=\"Share\">  <span class=\"ico_view ico_share\">공유목록 펼치기</span> </button> \\n      <div id=\"rSocialShareLayerContainer2\"></div> \\n     </div> \\n    </div>          \\n   </header> \\n   <main id=\"kakaoContent\" class=\"doc-main\"> \\n    <section class=\"inner-main\"> \\n     <h2 class=\"screen_out\">IT</h2> \\n     <div class=\"main-content\" data-cloud-area=\"addition\"> \\n      <article id=\"mArticle\" class=\"box_view\" data-cloud-area=\"article\"> \\n       <div class=\"head_view\" data-tiara-layer=\"article_head\" data-cloud=\"newsview_article_head\"> \\n        <h3 class=\"tit_view\" data-translation=\"true\">일론머스크 \"테슬라에서 넷플릭스·유튜브 즐길 날 온다\"</h3> \\n        <div class=\"info_view\"> <span class=\"txt_info\">이민우</span> <span class=\"txt_info\">입력 <span class=\"num_date\">2019. 7. 28. 16:58</span></span> \\n        </div>  \\n        <div class=\"util_wrap\">  \\n         <div class=\"util_view\"> \\n          <div class=\"item_util\" data-tiara-action-name=\"헤드요약_클릭\"> <button type=\"button\" class=\"btn_util btn_synop\" data-tiara=\"요약보기\"> <span class=\"ico_view\">요약보기</span> </button>  \\n           <div id=\"digestViewLayer\" class=\"view_layer\"> \\n            <div class=\"inner_view_layer inner_synop_layer\"> \\n             <div class=\"layer_head\"> <strong class=\"tit_layer\" data-translation=\"true\">자동요약</strong> <span class=\"info_layer\" data-translation=\"true\">기사 제목과 주요 문장을 기반으로 자동요약한 결과입니다.<br> 전체 맥락을 이해하기 위해서는 본문 보기를 권장합니다.</span> \\n             </div> \\n             <div class=\"layer_body\" data-translation=\"true\"> \\n              <p>일론 머스크 테슬라 최고경영자(CEO)가 자사 전기 자동차 모델에 넷플릭스와 유튜브 등 온라인동영상서비스(OTT)를 탑재할 것이라고 예고했다.</p>\\n              <p>단순히 자율 주행 전기차가 단순히 주행을 위한 정보를 알려주는 것을 넘어 각종 영상 콘텐츠를 즐기는 공간으로도 확장하겠다는 전략으로 풀이된다.</p>\\n              <p>테슬라 측은 규제당국이 자율주행에 대해 완전히 승인하면 차량이 움직일 때에도 승객이 동영상을 즐길 수 있을 것이라고 설명했다.</p> \\n             </div> \\n             <div class=\"layer_foot\"> <a href=\"#none\" class=\"link_close\" data-tiara=\"요약닫기\"> <span class=\"ico_view\">닫기</span> </a> \\n             </div> \\n            </div> \\n           </div>  \\n          </div> \\n          <div class=\"item_util\" data-tiara-action-name=\"헤드음성_클릭\"> <button type=\"button\" class=\"btn_util btn_tts\" data-tiara=\"음성버튼\"> <span class=\"ico_view\">음성으로 듣기</span> </button>  \\n           <div id=\"ttsViewLayer\" class=\"view_layer\"> \\n            <div class=\"inner_view_layer inner_tts_layer\"> \\n             <div class=\"layer_head\"> <strong class=\"tit_layer\">음성재생 설정</strong> \\n             </div> \\n             <div class=\"layer_body\"> \\n              <ul class=\"list_tts\"> \\n               <li> <input type=\"radio\" id=\"inpMale\" name=\"inpGender\" class=\"inp_tts\" value=\"Male\"> <label class=\"lab_tts\" for=\"inpMale\"> <span class=\"ico_view\"></span>남성 </label> </li> \\n               <li> <input type=\"radio\" id=\"inpFemale\" name=\"inpGender\" class=\"inp_tts\" value=\"Female\"> <label class=\"lab_tts\" for=\"inpFemale\"> <span class=\"ico_view\"></span>여성 </label> </li> \\n              </ul> \\n              <ul class=\"list_tts\"> \\n               <li> <input type=\"radio\" id=\"inpSlow\" name=\"inpSpeed\" class=\"inp_tts\" value=\"slow\"> <label class=\"lab_tts\" for=\"inpSlow\"> <span class=\"ico_view\"></span>느림 </label> </li> \\n               <li> <input type=\"radio\" id=\"inpNormal\" name=\"inpSpeed\" class=\"inp_tts\" value=\"normal\"> <label class=\"lab_tts\" for=\"inpNormal\"> <span class=\"ico_view\"></span>보통 </label> </li> \\n               <li> <input type=\"radio\" id=\"inpFast\" name=\"inpSpeed\" class=\"inp_tts\" value=\"fast\"> <label class=\"lab_tts\" for=\"inpFast\"> <span class=\"ico_view\"></span>빠름 </label> </li> \\n              </ul> <button type=\"button\" class=\"btn_play\" data-tiara=\"음성_재생하기\">음성 재생하기</button> \\n             </div> \\n             <div class=\"layer_foot\"> <a href=\"#none\" class=\"link_close\" data-tiara=\"음성_재생중지\"> <span class=\"ico_view\">닫기</span> </a> \\n             </div> \\n            </div> \\n           </div> <button type=\"button\" class=\"btn_soundplay\" data-tiara=\"음성_재생중지\">  <span class=\"ico_sound\"></span>음성 재생 <span class=\"ico_view ico_close\">중지</span> </button> \\n           <audio style=\"display:none\" preload=\"none\" id=\"ttsPlayer\"></audio>  \\n          </div>  \\n          <div class=\"item_util\" data-tiara-action-name=\"헤드번역_클릭\"> <button id=\"btnTranslate\" type=\"button\" class=\"btn_util btn_translate\" data-tiara=\"번역설정\"> <span class=\"ico_view\">번역 설정</span> </button> \\n           <div id=\"layerTranslate\" class=\"view_layer\"> \\n            <div class=\"inner_view_layer inner_translate_layer\"> \\n             <div class=\"layer_head\"> <strong class=\"tit_layer\">번역<em class=\"ico_view\">beta</em></strong> <span class=\"info_translate ico_view\">Translated by <a href=\"https://kakao.ai/\" class=\"link_kakaoi\">kaka i</a></span> \\n             </div> \\n             <div class=\"layer_body\"> \\n              <ul class=\"list_lang\"> \\n               <li> <button type=\"button\" class=\"btn_lang btn_translate_target_lang\" name=\"kr\" data-tiara=\"한국어\"> <strong class=\"tit_lang tit_selected\">한국어</strong> <span class=\"txt_lang\">-</span> </button> </li> \\n               <li> <button type=\"button\" class=\"btn_lang btn_translate_target_lang\" name=\"en\" data-tiara=\"영어\"> <strong class=\"tit_lang\">English</strong> <span class=\"txt_lang\">영어</span> </button> </li> \\n               <li> <button type=\"button\" class=\"btn_lang btn_translate_target_lang\" name=\"jp\" data-tiara=\"일본어\"> <strong class=\"tit_lang\">日本語</strong> <span class=\"txt_lang\">일본어</span> </button> </li> \\n               <li> <button type=\"button\" class=\"btn_lang btn_translate_target_lang\" name=\"cn\" data-tiara=\"중국어\"> <strong class=\"tit_lang\">简体中文</strong> <span class=\"txt_lang\">중국어</span> </button> </li> \\n               <li> <button type=\"button\" class=\"btn_lang btn_translate_target_lang\" name=\"nl\" data-tiara=\"네덜란드어\"> <strong class=\"tit_lang\">Nederlands</strong> <span class=\"txt_lang\">네델란드어</span> </button> </li> \\n               <li> <button type=\"button\" class=\"btn_lang btn_translate_target_lang\" name=\"de\" data-tiara=\"독일어\"> <strong class=\"tit_lang\">Deutsch</strong> <span class=\"txt_lang\">독일어</span> </button> </li> \\n               <li> <button type=\"button\" class=\"btn_lang btn_translate_target_lang\" name=\"ru\" data-tiara=\"러시아어\"> <strong class=\"tit_lang\">Русский</strong> <span class=\"txt_lang\">러시아어</span> </button> </li> \\n               <li> <button type=\"button\" class=\"btn_lang btn_translate_target_lang\" name=\"ms\" data-tiara=\"말레이시아어\"> <strong class=\"tit_lang\">Malaysia</strong> <span class=\"txt_lang\">말레이시아어</span> </button> </li> \\n               <li> <button type=\"button\" class=\"btn_lang btn_translate_target_lang\" name=\"bn\" data-tiara=\"벵골어\"> <strong class=\"tit_lang\">বাঙ্গোল ভাষা</strong> <span class=\"txt_lang\">벵골어</span> </button> </li> \\n               <li> <button type=\"button\" class=\"btn_lang btn_translate_target_lang\" name=\"vi\" data-tiara=\"베트남어\"> <strong class=\"tit_lang\">tiếng Việt</strong> <span class=\"txt_lang\">베트남어</span> </button> </li> \\n               <li> <button type=\"button\" class=\"btn_lang btn_translate_target_lang\" name=\"es\" data-tiara=\"스페인어\"> <strong class=\"tit_lang\">Español</strong> <span class=\"txt_lang\">스페인어</span> </button> </li> \\n               <li> <button type=\"button\" class=\"btn_lang btn_translate_target_lang\" name=\"ar\" data-tiara=\"아랍어\"> <strong class=\"tit_lang\">اللغة العربية</strong> <span class=\"txt_lang\">아랍어</span> </button> </li> \\n               <li> <button type=\"button\" class=\"btn_lang btn_translate_target_lang\" name=\"it\" data-tiara=\"이탈리아어\"> <strong class=\"tit_lang\">Italiano</strong> <span class=\"txt_lang\">이탈리아어</span> </button> </li> \\n               <li> <button type=\"button\" class=\"btn_lang btn_translate_target_lang\" name=\"id\" data-tiara=\"인도네시아어\"> <strong class=\"tit_lang\">bahasa Indonesia</strong> <span class=\"txt_lang\">인도네시아어</span> </button> </li> \\n               <li> <button type=\"button\" class=\"btn_lang btn_translate_target_lang\" name=\"th\" data-tiara=\"태국어\"> <strong class=\"tit_lang\">ภาษาไทย</strong> <span class=\"txt_lang\">태국어</span> </button> </li> \\n               <li> <button type=\"button\" class=\"btn_lang btn_translate_target_lang\" name=\"tr\" data-tiara=\"터키어\"> <strong class=\"tit_lang\">Türkçe</strong> <span class=\"txt_lang\">터키어</span> </button> </li> \\n               <li> <button type=\"button\" class=\"btn_lang btn_translate_target_lang\" name=\"pt\" data-tiara=\"포르투갈어\"> <strong class=\"tit_lang\">Português</strong> <span class=\"txt_lang\">포르투갈어</span> </button> </li> \\n               <li> <button type=\"button\" class=\"btn_lang btn_translate_target_lang\" name=\"fr\" data-tiara=\"프랑스어\"> <strong class=\"tit_lang\">Français</strong> <span class=\"txt_lang\">프랑스어</span> </button> </li> \\n               <li> <button type=\"button\" class=\"btn_lang btn_translate_target_lang\" name=\"hi\" data-tiara=\"힌디어\"> <strong class=\"tit_lang\">हिन्दी</strong> <span class=\"txt_lang\">힌디어</span> </button> </li> \\n              </ul> \\n             </div> \\n             <div class=\"layer_foot\"> <a id=\"btnTranslateClose\" href=\"#none\" class=\"link_close\" data-tiara=\"번역닫기\"> <span class=\"ico_view\">닫기</span> </a> \\n             </div> \\n            </div> \\n           </div> \\n           <div id=\"layerTranslating\" class=\"loading_layer\" style=\"display:none\"> \\n            <div class=\"inner_loading_layer\"> <span class=\"ico_view ico_loading\"></span> <strong class=\"tit_translate\">번역중</strong> <span class=\"ico_view txt_translate\">Now in translation</span> \\n            </div> \\n           </div> \\n          </div>   \\n          <div class=\"item_util\" data-tiara-action-name=\"헤드글씨크기_클릭\"> <button type=\"button\" class=\"btn_util btn_font\" data-tiara=\"글씨크기_조절하기\"> <span class=\"ico_view\">글씨크기 조절하기</span> </button> \\n           <div class=\"view_layer\"> \\n            <div class=\"inner_view_layer inner_fs_layer\"> \\n             <div class=\"layer_head\"> <strong class=\"tit_layer\">글자크기 설정</strong> <span class=\"info_layer\">파란원을 좌우로 움직이시면 글자크기가 변경 됩니다.</span> \\n             </div> \\n             <div class=\"layer_body\"> \\n              <div class=\"set_fs\"> <span class=\"txt_fs txt_small\" aria-hidden=\"true\">가</span> \\n               <ul class=\"list_fs\">  \\n                <li> <input type=\"radio\" id=\"inpFont1\" name=\"inpFont\" class=\"inp_fs\" value=\"17\" checked> <label class=\"lab_fs\" for=\"inpFont1\">매우 작은 폰트</label> </li> \\n                <li> <input type=\"radio\" id=\"inpFont2\" name=\"inpFont\" class=\"inp_fs\" value=\"18\"> <label class=\"lab_fs\" for=\"inpFont2\">작은 폰트</label> </li> \\n                <li> <input type=\"radio\" id=\"inpFont3\" name=\"inpFont\" class=\"inp_fs\" value=\"19\"> <label class=\"lab_fs\" for=\"inpFont3\">보통 폰트</label> </li> \\n                <li> <input type=\"radio\" id=\"inpFont4\" name=\"inpFont\" class=\"inp_fs\" value=\"21\"> <label class=\"lab_fs\" for=\"inpFont4\">큰 폰트</label> </li> \\n                <li> <input type=\"radio\" id=\"inpFont5\" name=\"inpFont\" class=\"inp_fs\" value=\"23\"> <label class=\"lab_fs\" for=\"inpFont5\">매우 큰 폰트</label> </li> \\n               </ul> <span class=\"txt_fs txt_big\" aria-hidden=\"true\">가</span> \\n              </div> \\n              <div class=\"set_view fs_type1\"> \\n               <p>이 글자크기로 변경됩니다.</p> \\n               <p>(예시) 가장 빠른 뉴스가 있고 다양한 정보, 쌍방향 소통이 숨쉬는 다음뉴스를 만나보세요. 다음뉴스는 국내외 주요이슈와 실시간 속보, 문화생활 및 다양한 분야의 뉴스를 입체적으로 전달하고 있습니다.</p> \\n              </div> \\n             </div> \\n             <div class=\"layer_foot\"> <a href=\"#none\" class=\"link_close\" data-tiara=\"글씨크기_닫기\"> <span class=\"ico_view\">닫기</span> </a> \\n             </div> \\n            </div> \\n           </div> \\n          </div> \\n          <div class=\"item_util\"> <button type=\"button\" class=\"btn_util btn_print\" data-tiara-action-name=\"헤드인쇄_클릭\" data-tiara=\"인쇄하기\"> <span class=\"ico_view\">인쇄하기</span> </button> \\n          </div> \\n         </div>  \\n        </div>  \\n       </div>       \\n       <div class=\"news_view fs_type1\" data-cloud=\"article_body\">      \\n        <div id=\"layerTranslateNotice\" style=\"display:none;\"></div>  <strong class=\"summary_view\" data-translation=\"true\">\"주행 중에도 넷플릭스·유튜브 감상 가능할 것\"<br>자율주행 아직까지 안전 우려 남아..실현 시기는 미지수</strong> \\n        <div class=\"article_view\" data-translation-body=\"true\" data-tiara-layer=\"article_body\" data-tiara-action-name=\"본문이미지확대_클릭\"> \\n         <section dmcf-sid=\"NkBWHdyrlY\">\\n          <figure class=\"figure_frm origin_fig\" dmcf-pid=\"N7s2biXYTL\" dmcf-ptype=\"figure\">\\n           <p class=\"link_figure\"><img alt=\"일론 머스크 테슬라 최고경영자(CEO) [이미지출처=로이터연합뉴스]\" class=\"thumb_g_article\" data-org-src=\"https://t1.daumcdn.net/news/201907/28/akn/20190728165813230vjsq.jpg\" data-org-width=\"550\" dmcf-mid=\"NBMY3ZZhN4\" dmcf-mtype=\"image\" height=\"auto\" src=\"https://img2.daumcdn.net/thumb/R658x0.q70/?fname=https://t1.daumcdn.net/news/201907/28/akn/20190728165813230vjsq.jpg\" width=\"658\"></p>\\n           <figcaption class=\"txt_caption default_figure\">\\n            일론 머스크 테슬라 최고경영자(CEO) [이미지출처=로이터연합뉴스]\\n           </figcaption>\\n          </figure>\\n          <div dmcf-pid=\"NU9K9rfDgA\" dmcf-ptype=\"general\">\\n           <p>[아시아경제 이민우 기자] 일론 머스크 테슬라 최고경영자(CEO)가 자사 전기 자동차 모델에 넷플릭스와 유튜브 등 온라인동영상서비스(OTT)를 탑재할 것이라고 예고했다. 단순히 자율 주행 전기차가 단순히 주행을 위한 정보를 알려주는 것을 넘어 각종 영상 콘텐츠를 즐기는 공간으로도 확장하겠다는 전략으로 풀이된다.</p>\\n           <br>\\n           <p>27일(현지시간) 더버지 등 주요 외신들에 따르면 머스크 CEO는 자신의 트위터를 통해 이 같은 계획을 밝혔다. 그는 \"자동차가 정차했을 때 넷플릭스와 유튜브를 감상할 수 있는 기능이 조만간 추가될 것\"이라며 \"편안한 좌석과 서라운드 사운드 오디오를 통해 영화관과 같은 느낌을 받을 수 있을 것\"이라고 강조했다.</p>\\n          </div>\\n          <figure class=\"figure_frm origin_fig\" dmcf-pid=\"NlqQhf4JmF\" dmcf-ptype=\"figure\">\\n           <p class=\"link_figure\"><img alt=\"(출처=일론 머스크 트위터 계정 캡쳐)\" class=\"thumb_g_article\" data-org-src=\"https://t1.daumcdn.net/news/201907/28/akn/20190728165813670hwxf.png\" data-org-width=\"550\" dmcf-mid=\"NRhnb5SRpx\" dmcf-mtype=\"image\" height=\"auto\" src=\"https://img1.daumcdn.net/thumb/R658x0.q70/?fname=https://t1.daumcdn.net/news/201907/28/akn/20190728165813670hwxf.png\" width=\"658\"></p>\\n           <figcaption class=\"txt_caption default_figure\">\\n            (출처=일론 머스크 트위터 계정 캡쳐)\\n           </figcaption>\\n          </figure>\\n          <div dmcf-pid=\"NpkG4d9A6j\" dmcf-ptype=\"general\">\\n           <p>테슬라가 이처럼 콘텐츠 방면으로 확장하려 든 것은 이번이 처음이 아니다. 지난달 세계 최대 게임쇼 E3에서는 이미 운전자가 \\'폴아웃 쉘터\\'라는 게임을 할 수 있을 것이라고 발표한 바 있다. 이후에도 최근 게임업체 아타리사(社)의 자동차 경주 게임 ‘폴포지션’, 슈팅게임 ‘템페스트’, ‘미사일커맨드’ 등 고전 게임을 제공하기도 했다. 운전대로 게임을 조작하는 방식으로, 차가 주차돼 있을 경우에만 즐길 수 있다.</p>\\n           <br>\\n           <p>이번 영상 콘텐츠는 주행 중에도 감상할 수 있도록 하는 방안을 고려하고 있다. 테슬라 측은 규제당국이 자율주행에 대해 완전히 승인하면 차량이 움직일 때에도 승객이 동영상을 즐길 수 있을 것이라고 설명했다.</p>\\n           <br>\\n           <p>하지만 아직까지 자율주행차의 안전에 대한 우려는 완전히 걷혀지지 않은 상황이다. 지난 2017년 차량공유 서비스 우버의 자율주행 시범차량이 보행자와 충돌한 사고가 발생한 바 있다. 게다가 당시 시험 운전자는 디즈니의 동영상 스트리밍 서비스인 \\'훌루\\'를 이용하고 있던 것으로 밝혀졌다.</p>\\n          </div>\\n          <p dmcf-pid=\"NUOWg8Qxyd\" dmcf-ptype=\"general\">이민우 기자 letzwin@asiae.co.kr</p>\\n         </section> \\n        </div> \\n        <p class=\"\" data-translation=\"true\">Copyright © 아시아경제. 무단전재 및 재배포 금지.</p> \\n       </div>   \\n       <div class=\"emotion_wrap\" data-cloud=\"newsview_alex_action_emotion\"> \\n        <div class=\"emotion_tit\"> <strong class=\"tit_emotion\">이 기사에 대해 어떻게 생각하시나요?</strong> \\n        </div> \\n        <div class=\"emotion_list\" data-tiara-layer=\"alex_action_emotion\"> \\n         <div id=\"alex_action_emotion\" class=\"alex-actions\" data-client-id=\"26BXAvKny5WF5Z09lr5k77Y8\" data-item-key=\"20190728165812603\" data-action-mode=\"REACTION\" data-message-channel=\"alex-action-reactions\"> \\n         </div> \\n        </div> \\n       </div>   \\n       <div class=\"viewrelate_wrap\" data-cloud=\"newsview_pc_related_news\"> \\n        <div class=\"viewrelate_tit\"> <strong class=\"tit_viewrelate\">아시아경제에서 직접 확인하세요.</strong> <span class=\"txt_viewrelate\">해당 언론사로 이동합니다.</span> \\n        </div> \\n        <ul class=\"list_viewrelate\" data-tiara-ordnum-layer data-tiara-layer=\"media_related_news\" data-tiara-action-name=\"본문아웃링크_클릭\" data-tiara-action-kind=\"ClickContent\"> \\n         <li> <a href=\"https://view.asiae.co.kr/article/2024041214304043574?utm_source=news.v.daum.net&amp;utm_medium=referral\" class=\"link_txt\" target=\"_blank\" data-type=\"rss\" data-tiara=\"리스트\"> 일본 콘돔회사 직원, 중학교 교실서 콘돔을 들더니 - 아시아경제 </a> </li> \\n         <li> <a href=\"https://view.asiae.co.kr/article/2024041215064742336?utm_source=news.v.daum.net&amp;utm_medium=referral\" class=\"link_txt\" target=\"_blank\" data-type=\"rss\" data-tiara=\"리스트\"> 상주 자리 비우고 밥먹고 온 아내…실망한 남편은 이혼 언급까지 - 아시아경제 </a> </li> \\n         <li> <a href=\"https://view.asiae.co.kr/article/2024041311504909383?utm_source=news.v.daum.net&amp;utm_medium=referral\" class=\"link_txt\" target=\"_blank\" data-type=\"rss\" data-tiara=\"리스트\"> 273만원인데…코스트코에서 날개돋힌듯 팔린 \\'이 제품\\' - 아시아경제 </a> </li> \\n         <li> <a href=\"https://view.asiae.co.kr/article/2024041117180177969?utm_source=news.v.daum.net&amp;utm_medium=referral\" class=\"link_txt\" target=\"_blank\" data-type=\"rss\" data-tiara=\"리스트\"> 최홍만과 맞붙은 \\'열정맨\\'…200㎏ 외국인 천하장사 쓰러뜨린 \\'심부전\\'[일본人사이드] - 아시아경 </a> </li> \\n         <li> <a href=\"https://view.asiae.co.kr/article/2024040513480901874?utm_source=news.v.daum.net&amp;utm_medium=referral\" class=\"link_txt\" target=\"_blank\" data-type=\"rss\" data-tiara=\"리스트\"> 6000원 노가리에 시원한 생맥주 한잔…힙지로에 돌아온 터줏대감[을지로터리] - 아시아경제 </a> </li> \\n         <li> <a href=\"https://view.asiae.co.kr/article/2024041213011671184?utm_source=news.v.daum.net&amp;utm_medium=referral\" class=\"link_txt\" target=\"_blank\" data-type=\"rss\" data-tiara=\"리스트\"> \\'피,피,피\\' 비싼 제주 대신 동남아로 떠났다…손님 없는 韓 골프장 - 아시아경제 </a> </li> \\n         <li> <a href=\"https://view.asiae.co.kr/article/2024041212331446632?utm_source=news.v.daum.net&amp;utm_medium=referral\" class=\"link_txt\" target=\"_blank\" data-type=\"rss\" data-tiara=\"리스트\"> 가수 박보람, 지인과 모임 중 쓰러져 사망…소속사 \"마음 깊이 애도\"(종합) - 아시아경제 </a> </li> \\n         <li> <a href=\"https://view.asiae.co.kr/article/2024041318193429004?utm_source=news.v.daum.net&amp;utm_medium=referral\" class=\"link_txt\" target=\"_blank\" data-type=\"rss\" data-tiara=\"리스트\"> 박지원 \"尹, 국힘 탈당 후 이재명과 거국내각 구성해야\" - 아시아경제 </a> </li> \\n         <li> <a href=\"https://view.asiae.co.kr/article/2024041208575938523?utm_source=news.v.daum.net&amp;utm_medium=referral\" class=\"link_txt\" target=\"_blank\" data-type=\"rss\" data-tiara=\"리스트\"> \"결혼 앞둔 남친, 투자로 진 빚 2억 고백…결혼해도 될까요\" - 아시아경제 </a> </li> \\n         <li> <a href=\"https://view.asiae.co.kr/article/2024040910202157990?utm_source=news.v.daum.net&amp;utm_medium=referral\" class=\"link_txt\" target=\"_blank\" data-type=\"rss\" data-tiara=\"리스트\"> \"학생 나체 사진 막아라\"…전 세계 학교가 딥페이크 음란물과 전쟁중 - 아시아경제 </a> </li> \\n        </ul> \\n       </div> \\n       <div id=\"pc_article_bottom_ad\" class=\"ad_wrap\" style=\"text-align: center;\" data-ab-bucket=\"\" data-ab-bucket-type=\"google\" data-cloud=\"pc_dynamic_article_bottom_ad\"> \\n        <ins class=\"adsbygoogle\" style=\"display:inline-block;width:728px;height:90px\" data-ad-client=\"ca-pub-1682288257759598\" data-ad-slot=\"8783624643\" data-adtest=\"off\"></ins> \\n       </div>  \\n      </article> \\n      <div id=\"related_post_by_news\" class=\"box_cluster box_news_post fold\" style=\"display:none;\" data-cloud=\"newsview_related_post\"></div>  \\n      <div class=\"ttalk_view\" style=\"display:none;\" data-cloud=\"newsview_pc_timetalk\"> \\n       <div class=\"inner_ttalk\"> \\n        <div class=\"ttalk_tit\"> <strong class=\"tit_ttalk\">타임톡<span class=\"ico_view ico_beta\">beta</span></strong> <span class=\"txt_info\"></span> \\n        </div> \\n        <p class=\"txt_ttalk\"> 이 뉴스에 대해 의견을 나눠보세요. <br> 톡방 종료까지 <em class=\"num_ttalk\"><span class=\"txt_g\">00</span>:<span class=\"txt_g\">00</span>:<span class=\"txt_g\">00</span></em> 남았습니다. </p> <a href=\"\" class=\"link_ttalkgo\" data-tiara-layer=\"timetalk\" data-tiara-action-name=\"타임톡\" data-tiara-action-kind=\"ClickContent\"> <span class=\"ico_view ico_ttalk\">타임톡 </span>참여하기 </a> \\n       </div> \\n      </div>   \\n     </div> \\n     <aside class=\"main-etc\" data-cloud-area=\"aside\"> \\n      <div id=\"pc_aside_top_ad\" class=\"box_cluster box_ad\" data-ab-bucket=\"\" data-ab-bucket-type=\"google\" data-cloud=\"pc_dynamic_aside_top_ad\"> \\n       <ins class=\"adsbygoogle\" style=\"display:inline-block;width:300px;height:250px\" data-ad-client=\"ca-pub-1682288257759598\" data-ad-slot=\"5767588220\" data-adtest=\"off\"></ins> \\n      </div>  \\n      <div id=\"news_related_query_comp\" class=\"box_cluster box_search_keyword\" data-tiara-action-kind=\"ClickContent\" data-tiara-action-name=\"검색어_클릭\" data-tiara-layer=\"search_keyword\" data-cloud=\"pc_news_related_query\"></div>  \\n      <div class=\"box_cluster box_news_recomm\" data-cloud=\"newsview_realtime_news\"> \\n       <div class=\"box_tit\"> \\n        <h3 class=\"tit_box\">이 시각 추천뉴스</h3> \\n       </div> \\n       <ul class=\"list_column\" data-tiara-ordnum-layer data-tiara-layer=\"toros_recommend_one_column\" data-tiara-action-name=\"하단추천리스트_클릭\" data-tiara-action-kind=\"ClickContent\"> \\n        <li class=\"item_toros\"></li> \\n        <li class=\"item_toros\"></li> \\n        <li class=\"item_ad\"></li> \\n        <li class=\"item_toros\"></li> \\n        <li class=\"item_toros\"></li> \\n        <li class=\"item_nachu\"></li> \\n        <li class=\"item_nachu\"></li> \\n        <li class=\"item_nachu\"></li> \\n        <li class=\"item_toros\"></li> \\n        <li class=\"item_nachu\"></li> \\n        <li class=\"item_ad\"></li> \\n        <li class=\"item_nachu\"></li> \\n        <li class=\"item_toros\"></li> \\n        <li class=\"item_nachu\"></li> \\n        <li class=\"item_nachu\"></li> \\n        <li class=\"item_toros\"></li> \\n        <li class=\"item_nachu\"></li> \\n        <li class=\"item_toros\"></li> \\n        <li class=\"item_toros\"></li> \\n        <li class=\"item_nachu\"></li> \\n        <li class=\"item_toros\"></li> \\n       </ul> \\n      </div> \\n      <div id=\"special_series_list\" class=\"box_cluster box_news_pick\" data-cloud=\"newsview_special_series\"> \\n      </div>  \\n      <div class=\"box_cluster box_news_press\" data-cloud=\"newsview_similar_news\"> \\n       <div class=\"box_tit\"> \\n        <h3 class=\"tit_box\">이 주제에 주목한 다른 언론사 뉴스</h3> \\n       </div> \\n       <ul class=\"list_column\" data-tiara-ordnum-layer data-tiara-layer=\"notable_news\" data-tiara-action-name=\"하단주제별뉴스_클릭\" data-tiara-action-kind=\"ClickContent\"> \\n       </ul> \\n      </div>  \\n      <div id=\"rankingNewsContainer\" class=\"box_cluster box_news_rank\" style=\"display: none;\" data-cloud=\"newsview_pc_ranking_news\"> \\n       <div>  \\n       </div> \\n      </div> \\n      <div id=\"keyword_news_list\" class=\"box_cluster box_news_keyword\" data-tiara-action-kind=\"ClickContent\" data-tiara-action-name=\"관련키워드_클릭\" data-tiara-layer=\"related_keyword\" data-cloud=\"newsview_pc_keyword_news\"></div>  \\n      <div class=\"box_cluster box_shortcut\" data-tiara-action-kind=\"ClickContent\" data-tiara-action-name=\"서비스바로가기_클릭\" data-tiara-layer=\"service_directlink\" data-cloud=\"service_direct_link_v2\"> \\n       <div class=\"box_tit\"> \\n        <h3 class=\"tit_box\">서비스 바로가기</h3> \\n       </div> \\n       <ul id=\"serviceDirect\" class=\"tab_shortcut\" role=\"tablist\"> \\n        <li role=\"presentation\"> <a class=\"link_tab\" role=\"tab\" data-tiara=\"뉴스\">뉴스</a></li> \\n        <li role=\"presentation\"> <a class=\"link_tab\" role=\"tab\" data-tiara=\"연예\">연예</a> </li> \\n        <li role=\"presentation\"> <a class=\"link_tab\" role=\"tab\" data-tiara=\"스포츠\">스포츠</a> </li> \\n       </ul> \\n       <div> \\n        <div class=\"tabcont_service\" style=\"display: none\"> <strong class=\"screen_out\">뉴스</strong> \\n         <ul class=\"list_linkservice\" data-tiara=\"뉴스\"> \\n          <li><a href=\"//news.daum.net\" class=\"link_linkservice\">뉴스 홈</a></li> \\n          <li><a href=\"//news.daum.net/society\" class=\"link_linkservice\">사회</a></li> \\n          <li><a href=\"//news.daum.net/politics\" class=\"link_linkservice\">정치</a></li> \\n          <li><a href=\"//news.daum.net/economic\" class=\"link_linkservice\">경제</a></li> \\n          <li><a href=\"//news.daum.net/foreign\" class=\"link_linkservice\">국제</a></li> \\n          <li><a href=\"//news.daum.net/culture\" class=\"link_linkservice\">문화</a></li> \\n          <li><a href=\"//news.daum.net/digital\" class=\"link_linkservice\">IT</a></li> \\n          <li><a href=\"//news.daum.net/series\" class=\"link_linkservice\">연재</a></li> \\n          <li><a href=\"//news.daum.net/photo\" class=\"link_linkservice\">포토</a></li> \\n          <li><a href=\"//news.daum.net/info/correct\" class=\"link_linkservice\">정정보도</a></li> \\n          <li><a href=\"//pf.kakao.com/_WlSxbu\" class=\"link_linkservice\">뉴스봇</a></li> \\n          <li><a href=\"//focus.daum.net/ch/news/factcheck\" class=\"link_linkservice\">팩트체크</a></li> \\n         </ul> \\n        </div> \\n        <div class=\"tabcont_service\" style=\"display: none\"> <strong class=\"screen_out\">연예</strong> \\n         <ul class=\"list_linkservice\" data-tiara=\"연예\"> \\n          <li><a href=\"//entertain.daum.net\" class=\"link_linkservice\">연예 홈</a></li> \\n          <li><a href=\"//entertain.daum.net/news\" class=\"link_linkservice\">최신뉴스</a></li> \\n          <li><a href=\"//entertain.daum.net/tv\" class=\"link_linkservice\">TV</a></li> \\n          <li><a href=\"//entertain.daum.net/photo\" class=\"link_linkservice\">포토</a></li> \\n          <li><a href=\"//entertain.daum.net/ranking/popular\" class=\"link_linkservice\">많이 본 뉴스</a></li> \\n          <li><a href=\"//entertain.daum.net/ranking/keyword\" class=\"link_linkservice\">TOP 키워드</a></li> \\n          <li><a href=\"//entertain.daum.net/news/series\" class=\"link_linkservice\">연재</a></li> \\n          <li><a href=\"//entertain.daum.net/poll\" class=\"link_linkservice\">투표</a></li> \\n          <li><a href=\"//entertain.daum.net/news/movie\" class=\"link_linkservice\">영화</a></li> \\n         </ul> \\n        </div> \\n        <div class=\"tabcont_service\" style=\"display: none\"> <strong class=\"screen_out\">스포츠</strong> \\n         <ul class=\"list_linkservice\" data-tiara=\"스포츠\"> \\n          <li><a href=\"//sports.daum.net/\" class=\"link_linkservice\">스포츠 홈</a></li> \\n          <li><a href=\"//sports.daum.net/soccer/\" class=\"link_linkservice\">축구</a></li> \\n          <li><a href=\"//sports.daum.net/worldsoccer/\" class=\"link_linkservice\">해외축구</a></li> \\n          <li><a href=\"//sports.daum.net/baseball/\" class=\"link_linkservice\">야구</a></li> \\n          <li><a href=\"//sports.daum.net/worldbaseball/\" class=\"link_linkservice\">해외야구</a></li> \\n          <li><a href=\"//sports.daum.net/golf/\" class=\"link_linkservice\">골프</a></li> \\n          <li><a href=\"//sports.daum.net/basketball/\" class=\"link_linkservice\">농구</a></li> \\n          <li><a href=\"//sports.daum.net/volleyball/\" class=\"link_linkservice\">배구</a></li> \\n          <li><a href=\"//sports.daum.net/general/\" class=\"link_linkservice\">일반</a></li> \\n          <li><a href=\"//sports.daum.net/esports/\" class=\"link_linkservice\">e-스포츠</a></li> \\n          <li><a href=\"//sports.daum.net/cartoon/\" class=\"link_linkservice\">카툰</a></li> \\n          <li><a href=\"//sports.daum.net/video/\" class=\"link_linkservice\">영상 홈</a></li> \\n         </ul> \\n        </div> \\n       </div> \\n      </div>   \\n      <div id=\"service_notice\" class=\"box_cluster box_notice\" data-tiara-action-name=\"공지사항_클릭\" data-tiara-layer=\"notice\" data-cloud=\"newsview_service_notice\"></div>  \\n      <div id=\"pc_aside_bottom_ad\" class=\"box_cluster box_ad\" data-ab-bucket=\"\" data-ab-bucket-type=\"google\" data-cloud=\"pc_dynamic_aside_bottom_ad\"> \\n       <ins class=\"adsbygoogle\" style=\"display:inline-block;width:300px;height:250px\" data-ad-client=\"ca-pub-1682288257759598\" data-ad-slot=\"8419169270\" data-adtest=\"off\"></ins> \\n      </div>  \\n     </aside> \\n    </section> \\n   </main> \\n   <footer id=\"kakaoFoot\" class=\"doc-footer\" data-cloud-area=\"footer\"> \\n    <div class=\"inner_foot\" data-tiara-layer=\"footer\" data-tiara-action-name=\"푸터_클릭\" data-cloud=\"newsview_pc_footer\"> \\n     <div class=\"direct_link\"> \\n      <h2 class=\"tit_direct\">바로가기</h2> \\n      <div class=\"item_bundle\"> <a class=\"link_txt\" href=\"https://news.daum.net/\">뉴스홈</a> <a class=\"link_txt\" href=\"https://news.daum.net/society/\">사회</a> <a class=\"link_txt\" href=\"https://news.daum.net/politics/\">정치</a> <a class=\"link_txt\" href=\"https://news.daum.net/economic/\">경제</a> <a class=\"link_txt\" href=\"https://news.daum.net/foreign/\">국제</a> <a class=\"link_txt\" href=\"https://news.daum.net/culture/\">문화</a> <a class=\"link_txt\" href=\"https://news.daum.net/digital/\">IT</a> <a class=\"link_txt\" href=\"https://news.daum.net/photo/\">포토</a> \\n      </div> \\n      <div class=\"item_bundle\"> <a class=\"link_txt\" href=\"https://news.daum.net/cp\">제휴 언론사</a> \\n      </div> \\n      <div class=\"item_bundle\"> <a class=\"link_txt\" href=\"https://news.daum.net/newsbox\">배열이력</a> \\n      </div> \\n      <div class=\"item_bundle\"> <a class=\"link_txt\" href=\"https://news.daum.net/breakingnews\">전체뉴스</a> <a class=\"link_txt\" href=\"https://news.daum.net/series\">연재</a> <a class=\"link_txt\" href=\"https://focus.daum.net/ch/news/factcheck\">팩트체크</a> \\n      </div> <button class=\"btn_fold\" type=\"button\"> <span class=\"ico_view\">바로가기 링크 더보기/접기</span> </button> \\n     </div> \\n     <div class=\"footer_service\"> \\n      <h2 class=\"screen_out\">서비스 이용정보</h2> \\n      <div class=\"footer_link\"> <a href=\"//news.daum.net/info/intro\" class=\"link_info #info_daumnews\">다음뉴스 소개</a> <span class=\"txt_dot\"> ・ </span> <a href=\"//news.daum.net/notice\" class=\"link_info #notice\">공지사항</a> <span class=\"txt_dot\"> ・ </span> <a href=\"//news.daum.net/info/bbsrule\" class=\"link_info #bbsrule\">게시물 운영원칙</a> <span class=\"txt_dot\"> ・ </span> <a href=\"//policy.daum.net/info/info\" class=\"link_info #policy\">서비스 약관/정책</a> <span class=\"txt_dot\"> ・ </span> <a href=\"//with.kakao.com/media\" class=\"link_info #harmony\">뉴스제휴</a> <span class=\"txt_dot\"> ・ </span> <a href=\"//business.kakao.com\" class=\"link_info #adinfo\">비즈니스</a> <span class=\"txt_dot\"> ・ </span> <a href=\"//cs.daum.net/redbell/top.html\" class=\"link_info #redbell\">권리침해신고</a> <span class=\"txt_dot\"> ・ </span> <a href=\"//cs.daum.net/faq/63.html\" class=\"link_info #consumer\">다음뉴스 고객센터</a> \\n      </div> \\n      <div class=\"footer_link\"> <a href=\"//news.daum.net/info/newscenter24\" class=\"link_info #newscenter\">24시간 뉴스센터</a> <span class=\"txt_dot\"> ・ </span> <a href=\"//news.daum.net/info/edit\" class=\"link_info #edit\">서비스원칙</a> <span class=\"txt_dot\"> ・ </span> <a href=\"//news.daum.net/info/correct\" class=\"link_info #correct\">고침기사, 정정・반론・추후보도 모음</a> <span class=\"txt_dot\"> ・ </span> <span class=\"link_info\">기사배열책임자 : 황유지</span> <span class=\"txt_dot\"> ・ </span> <span class=\"link_info\">청소년보호책임자 : 손성희</span> \\n      </div> \\n     </div> \\n     <div class=\"info_copyright\"> <em class=\"txt_warn\">위 내용에 대한 저작권 및 법적 책임은 자료제공사 또는 <br>글쓴이에 있으며, Kakao의 입장과 다를 수 있습니다.</em> <small class=\"txt_copyright\">Copyright © <a href=\"https://www.kakaocorp.com\" class=\"link_kakao\">Kakao Corp.</a> All rights reserved.</small> \\n     </div> \\n    </div>  \\n   </footer> \\n  </div> \\n  <div data-cloud-area=\"util\">        \\n  </div>  \\n  <script src=\"//t1.daumcdn.net/harmony_static/cloud/2024/01/03/vendor.7570de936b1d74ede729.js\"></script>\\n  <script src=\"//t1.daumcdn.net/harmony_static/cloud/2024/01/03/common.4e81a0796222ba0f0c7e.js\"></script>\\n  <script src=\"//t1.daumcdn.net/kas/static/ba.min.js\"></script>\\n  <script src=\"//t1.daumcdn.net/kas/static/na.min.js\"></script>\\n  <script src=\"//m1.daumcdn.net/svc/original/U03/cssjs/userAgent/userAgent-1.0.12.min.js\"></script>\\n  <script async src=\"https://pagead2.googlesyndication.com/pagead/js/adsbygoogle.js?client=ca-pub-1682288257759598\" crossorigin=\"anonymous\"></script>\\n  <script src=\"https://t1.daumcdn.net/cssjs/jquery/jquery-1.9.0.min.js\"></script>\\n  <script src=\"https://search1.daumcdn.net/search/suggest_pc/suggest-1.2.16.min.js\"></script>\\n  <script src=\"//t1.daumcdn.net/daumtop_deco/socialshare/socialshare_pc-2.5.1.js\"></script>\\n  <script>\"use strict\";!(function(){var e=document.getElementById(\\'daumSearchLayer\\');function t(){var e=document.getElementById(\\'suggestList\\'),t=null==e?void 0:e.querySelectorAll(\\'li\\');0===a.value.length&&e?e.parentNode.removeChild(e):t&&0<t.length?u.classList.add(\\'sgt_on\\'):u.classList.remove(\\'sgt_on\\')}new suggest.Suggest(e,{inputEl:\\'qVal\\',suggestBoxEl:\\'suggestBox\\',autoFocus:\\'NORMAL\\',suggestLimit:10,isReverse:!1,searchURL:\\'https://search.daum.net/search\\',APIServer:{host:\\'//dapi.kakao.com/suggest/v2/pc.json\\',apiType:suggest.Suggest.APITYPE.DAPISUGGEST,appkey:\\'d7022f6ca2a04430ce1b97b922da58e8\\',queries:{mod:\\'json\\',code:\\'utf_in_out\\'}}}).on(\\'click-item\\',function(){var e=document.getElementById(\\'daumSearchForm\\');e.querySelector(\"input[name=\\'DA\\']\").value=\\'23B\\',e.submit()});var n,s,l,a=document.getElementById(\\'qVal\\'),u=document.getElementById(\\'daumSearchLayer\\');a&&u&&(a.addEventListener?(a.addEventListener(\\'focus\\',function(e){e&&e.preventDefault(),u.classList.add(\\'search_on\\'),t()}),a.addEventListener(\\'blur\\',function(e){e&&e.preventDefault(),0===a.value.length&&u.classList.remove(\\'search_on\\')}),[\"keyup\",\"keydown\",\"cut\",\"paste\"].forEach(function(e){a.addEventListener(e,function(){var e;(e=document.getElementById(\\'daumBtnReset\\'))&&(e.style.display=0===a.value.length?\"\":\"inline-block\",e.onclick=function(){a.value=\\'\\',e.style.display=\\'\\'}),t()})})):(a.attachEvent(\\'onfocus\\',function(e){e&&(e.preventDefault?e.preventDefault():e.returnValue=!1),0<=a.value.length&&(e=(e=u.getAttribute(\\'class\\')).includes(\\'search_on\\')?e:\"\".concat(e,\" search_on\"),u.setAttribute(\\'class\\',e))}),a.attachEvent(\\'onblur\\',function(e){e&&(e.preventDefault?e.preventDefault():e.returnValue=!1),0===a.value.length&&(e=u.getAttribute(\\'class\\'),u.setAttribute(\\'class\\',e.replace(\\'search_on\\',\\'\\')))}),[\"keyup\",\"keydown\",\"cut\",\"paste\"].forEach(function(e){a.attachEvent(e,function(e){var t=u.getAttribute(\\'class\\'),n=document.querySelectorAll(\\'#suggestBox ul > li\\');n&&0<n.length?(n=t.includes(\\'sgt_on\\')?t:\"\".concat(t,\" sgt_on\"),u.setAttribute(\\'class\\',n)):u.setAttribute(\\'class\\',t.replace(\\'sgt_on\\',\\'\\'))})})),n=document.querySelector(\\'.user_service .link_search\\'),s=document.querySelector(\\'.user_service .link_closed\\'),l=document.querySelector(\\'.util_socialchare\\'),n.addEventListener(\"click\",function(e){e.preventDefault(),u.style.display=\\'block\\',s.style.display=\\'inline\\',n.style.display=\\'none\\',l.style.display=\\'none\\'}),s.addEventListener(\"click\",function(e){e.preventDefault(),u.style.display=\\'none\\',s.style.display=\\'none\\',n.style.display=\\'\\',l.style.display=\\'\\'}))})(jQuery);</script>\\n  <script type=\"text/html\" id=\"suggest-list-template\">\\n    <div class=\"baseBox\">\\n        <h3 class=\"screen_out\">검색어 자동완성 목록</h3>\\n        <ul id=\"suggestList\" class=\"list_suggest\" data-bind=\"foreach: $data.items\">\\n            <li data-bind=\"\\n                click: function() {\\n                    $root.keywordInput.setSelectedQuery($data.item);\\n                    $root.forceFormSubmit();\\n                },\\n                event: {\\n                    mouseover: function () {\\n                        $root.suggestList.mouseOverItem($data)\\n                    }\\n                },\\n                mouseoverBubble: false,\\n                css: { on: isActivated() }\"\\n            >\\n                <a href=\"#none\" class=\"item bg link_suggest\" data-bind=\"html: highlight()\"></a>\\n            </li>\\n        </ul>\\n    </div>\\n</script>\\n  <script>\"use strict\";document.addEventListener(\\'DOMContentLoaded\\',function(){var e,a,t=document.getElementById(\\'rSocialShareButton2\\'),n=document.getElementById(\\'rSocialShareLayerContainer2\\'),o=\"https://v.daum.net/v/\".concat(\\'20190728165812603\\'||\\'NHT9NtZWBe\\');new socialshareRenewal.Main(t,{moreViewContainer:n,action:\\'click\\',link:o,prefix:(e=\\'일론머스크 &quot;테슬라에서 넷플릭스·유튜브 즐길 날 온다&quot;\\',(a=document.createElement(\\'div\\')).innerHTML=e,a.textContent),service_name:\\'언론사 뷰\\',kakaoAPI:{appkey:\\'53e566aa17534bc816eb1b5d8f7415ee\\',kakaoLinkData:{shareType:\\'sendScrap\\',shareData:{requestUrl:\"\".concat(o,\"?f=p\"),templateId:7952,installTalk:!0,templateArgs:{\\'${EncodingUrl}\\':encodeURIComponent(\"\".concat(o)),\\'${webUrl}\\':\"\".concat(o,\"?f=p\"),\\'${mobileWebUrl}\\':\"\".concat(o,\"?f=m\")}}}},isDarkMode:window.matchMedia(\\'(prefers-color-scheme: dark)\\').matches})});</script>\\n  <script>\"use strict\";!(function(){var e=document.querySelector(\\'.doc-header\\'),n=document.querySelector(\\'.container-doc\\'),o=null;window.addEventListener(\\'scroll\\',function(){o&&window.cancelAnimationFrame(o),o=window.requestAnimationFrame(function(){(window.scrollY||window.pageYOffset)>e.offsetHeight?n.classList.add(\\'head_fixed\\'):n.classList.remove(\\'head_fixed\\')})})})();</script>\\n  <script>\"use strict\";!(function(){var e,n=document.getElementById(\\'digestViewLayer\\');n&&(null!==(e=document.querySelector(\\'.btn_synop\\'))&&void 0!==e&&e.addEventListener(\\'click\\',function(){n.style.display=\\'block\\'}),null!==(e=n.querySelector(\\'.link_close\\'))&&void 0!==e&&e.addEventListener(\\'click\\',function(e){e.preventDefault(),n.style.display=\\'none\\'}))})();</script>\\n  <script>\"use strict\";!(function(){var e,n,t,a,c,l,o=\"VIEW_TTS\",s={slow_Male:\"http://k-v1.kakaocdn.net/dn/bTYhQf/btqw7dnmMCv/hUbVhtobk3GbFXFCegkk31/original.m4a\",normal_Male:\"http://k-v1.kakaocdn.net/dn/4CTkI/btqw7QSKJ4L/RBxJg5cqNbQyPSQIjMOUT1/original.m4a\",fast_Male:\"http://k-v1.kakaocdn.net/dn/g8O5D/btqw4ocn8Y7/tD8KH19rXvKQXYWbQ5gdr0/original.m4a\",slow_Female:\"http://k-v1.kakaocdn.net/dn/dZVpXE/btqw8AWdkJO/kiq1mIqCrBEVEX22P6YhSK/original.m4a\",normal_Female:\"http://k-v1.kakaocdn.net/dn/ETPxe/btqw6nRmjWq/Yni5zaUkvyxurIIhtFBLS1/original.m4a\",fast_Female:\"http://k-v1.kakaocdn.net/dn/03ztL/btqw7cIJy8D/D2U1Q1f3wdQOQXXUNJMljk/original.m4a\"},d=document.querySelector(\\'.btn_tts\\'),i=document.getElementById(\\'ttsViewLayer\\');d&&i&&(c=d.parentElement,e=i.querySelector(\\'.link_close\\'),d.addEventListener(\\'click\\',function(){i.style.display=\\'block\\'}),e.addEventListener(\\'click\\',function(e){e.preventDefault(),i.style.display=\\'none\\'}),(n=c.querySelector(\\'#ttsPlayer\\'))&&(document.querySelectorAll(\\'.inp_tts\\').forEach(function(e){return e.addEventListener(\\'change\\',function(){var e=i.querySelector(\\'input[name=inpSpeed]:checked\\'),t=i.querySelector(\\'input[name=inpGender]:checked\\');e&&t&&(t=\"\".concat(e.value,\"_\").concat(t.value),n.setAttribute(\\'src\\',s[t]),_Cookies.set(o,\\'\\',{domain:\\'.v.daum.net\\',expires:-1}),_Cookies.set(o,t,{domain:\\'.v.daum.net\\',expires:365}))})}),c=i.querySelector(\\'.btn_play\\'),t=document.querySelector(\\'.btn_soundplay\\'),c&&t&&(c.addEventListener(\\'click\\',function(){i.style.display=\\'none\\',\"false\"==\"true\"&&(document.body.style.overflow=\\'visible\\'),d.disabled=!0,t.className+=\\' play_on\\',n.play()}),t.addEventListener(\\'click\\',function(){n.pause(),n.currentTime=0,t.classList.remove(\\'play_on\\'),d.disabled=!1,d.classList.remove(\\'on\\')}),n.addEventListener(\\'ended\\',function(){t.classList.remove(\\'play_on\\'),d.disabled=!1}),c=(c=_Cookies.get(o))?(a=\\'undefined\\'===(l=c.split(\\'_\\'))[0]?\\'normal\\':l[0],\\'undefined\\'===l[1]?\\'Male\\':l[1]):(a=\\'normal\\',\\'Male\\'),(l=document.getElementById(\"inp\".concat(a.charAt(0).toUpperCase()).concat(a.substring(1))))&&(l.checked=\"checked\"),(l=document.getElementById(\"inp\".concat(c)))&&(l.checked=\"checked\"),n.setAttribute(\\'src\\',s[\"\".concat(a,\"_\").concat(c)]))))})();</script>\\n  <script>\"use strict\";!(function(){var n,s,a,l=document.getElementById(\\'btnTranslate\\'),t=document.getElementById(\\'btnTranslateClose\\'),e=document.querySelectorAll(\\'.btn_translate_target_lang\\'),i=document.getElementById(\\'layerTranslate\\'),r=document.getElementById(\\'layerTranslating\\'),c=document.getElementById(\\'layerTranslateNotice\\');i&&r&&(n={en:\\'<span class=\"inner_status\"><p class=\"txt_status\">The copyright belongs to the original writer of the content, and there may be errors in machine translation results.</p></span>\\',cn:\\'<span class=\"inner_status\"><p class=\"txt_status\">版权归内容原作者所有。机器翻译结果可能存在错误。</p></span>\\',jp:\\'<span class=\"inner_status\"><p class=\"txt_status\">原文の著作権は原著著作者にあり、機械翻訳の結果にエラーが含まれることがあります。</p></span>\\',id:\\'<span class=\"inner_status\"><p class=\"txt_status\">Hak cipta milik penulis asli dari konten, dan mungkin ditemukan kesalahan dalam hasil terjemahan mesin.</p></span>\\',vi:\\'<span class=\"inner_status\"><p class=\"txt_status\">Bản quyền thuộc về tác giả gốc của nội dung và có thể có lỗi trong kết quả dịch bằng máy.</p></span>\\'},s=function(e){setTimeout(function(){var t;i.style.display=\\'none\\',r.style.display=\\'none\\',\"false\"==\"true\"&&(document.body.style.overflow=\\'visible\\'),c&&(e&&\\'kr\\'===e.targetLang?(c.classList.remove(\\'status_view\\'),c.style.display=\\'none\\',c.innerHTML=\\'\\',null!==(t=document.getElementById(\\'kakaoWrap\\'))&&void 0!==t&&t.classList.remove(\\'en\\')):(c.classList.add(\\'status_view\\'),c.style.display=\\'block\\',c.innerHTML=n.hasOwnProperty(e.targetLang)?n[e.targetLang]:n[\\'en\\'],[\\'cn, jp\\'].includes(e.targetLang)||null!==(t=document.getElementById(\\'kakaoWrap\\'))&&void 0!==t&&t.classList.add(\\'en\\')),l.classList.remove(\\'on\\'))},500)},a=function(){s()},null!=l&&l.addEventListener(\\'click\\',function(){i.style.display=\\'block\\'}),null!=t&&t.addEventListener(\\'click\\',function(t){t.preventDefault(),i.style.display=\\'none\\'}),null!=e&&e.forEach(function(t){t.addEventListener(\\'click\\',function(t){var e=t.currentTarget.name;i.querySelectorAll(\\'.tit_lang\\').forEach(function(t){return t.classList.remove(\\'tit_selected\\')}),null!==(t=this.querySelector(\\'.tit_lang\\'))&&void 0!==t&&t.classList.add(\\'tit_selected\\'),r.style.display=\\'block\\',HarmonyTranslator.translate(\"kr\",e,s,a)})}))})();</script>\\n  <script>\"use strict\";!(function(){var e,t,n,i=(t=!(e=[\\'inpFont1\\',\\'inpFont2\\',\\'inpFont3\\',\\'inpFont4\\',\\'inpFont5\\']),n=[],function(e){var t,n,i,o,r=c();if(r){for(o in r){if(!(r[o].x<e)){if(r[o].x>e){n=r[o];break}i=r[o];break}t=r[o]}return(i||(t&&(!n||n.x-e>e-t.x)?t:n)).element}});function c(){return t&&n[0].x==n[0].element.getBoundingClientRect().x?n:(n=(function(e){var n=[];if(!e.some(function(e){var t=document.getElementById(e).getBoundingClientRect();return!(0<t.x)||(n.push({id:e,element:document.getElementById(e),x:t.x}),!1)}))return n.sort(function(e,t){return e.x<t.x?-1:e.x>t.x?1:0})})(e))?(t=!0,n):void 0}var o=document.querySelector(\\'.btn_font\\');if(o){var r=o.parentElement.querySelector(\\'.view_layer\\');if(r){var s,a=r.querySelector(\\'.link_close\\');o.addEventListener(\\'click\\',function(){r.style.display=\\'block\\'}),null!=a&&a.addEventListener(\\'click\\',function(e){e.preventDefault(),r.style.display=\\'none\\'}),null!==(a=r.querySelector(\\'.list_fs\\'))&&void 0!==a&&a.addEventListener(\\'touchmove\\',function(e){e=e.touches[0].clientX,e=i(e);e&&s!=e&&(s=e).click()});for(var u=[\\'mobile_font_size\\',\\'GS_font_size\\'],l=\\'font_size_type\\',f=r.querySelector(\\'.set_view\\'),d=document.querySelector(\\'.news_view\\'),v=r.querySelectorAll(\\'.inp_fs\\'),m=function(){return v.forEach(function(e){return e.removeAttribute(\\'checked\\')})},p=function(e,t){_Cookies.set(e,\\'\\',{domain:\\'.v.daum.net\\',expires:-1}),_Cookies.set(e,t,{domain:\\'.v.daum.net\\',expires:365})},_=0;_<v.length;_++)!(function(e){e+1==\\'1\\'?v[e].setAttribute(\\'checked\\',\\'\\'):v[e].removeAttribute(\\'checked\\'),v[e].addEventListener(\\'change\\',function(){var t=this;m(),this.setAttribute(\\'checked\\',\\'\\'),f.className=\"set_view fs_type\".concat(e+1),d.className=\"news_view fs_type\".concat(e+1),u.forEach(function(e){return p(e,t.value)}),p(l,e+1)})})(_);window.addEventListener(\"pageshow\",function(e){var t;(e.persisted||window.performance&&2===window.performance.navigation.type)&&(t=_Cookies.get(l)||1,isNaN(Number(t))||t<1||v.length<t||(m(),v[t-1].setAttribute(\\'checked\\',\\'\\'),f.className=\"set_view fs_type\".concat(t),d.className=\"news_view fs_type\".concat(t)))})}}})();</script>\\n  <script>\"use strict\";document.body.querySelector(\".btn_print\").parentNode.addEventListener(\"click\",function(e){e.preventDefault(),window.open(\\'https://v.daum.net/v/20190728165812603?s=print_news\\',\\'newsPrint\\',\\'width=750,height=550,scrollbars=yes\\')});</script>\\n  <script>\"use strict\";document.querySelectorAll(\\'.head_view .item_util\\').forEach(function(e){var t,r=e.querySelector(\\'.btn_util\\');null!=r&&(r.addEventListener(\\'click\\',function(){r.classList.add(\\'on\\'),\"false\"==\"true\"&&(document.body.style.overflow=\\'hidden\\');var t=e.querySelector(\\'.view_layer\\');Array.from(document.querySelectorAll(\\'.head_view .item_util .btn_util\\')).filter(function(e){return e!=r}).forEach(function(e){return e.classList.remove(\\'on\\')}),Array.from(document.querySelectorAll(\\'.head_view .item_util .view_layer\\')).filter(function(e){return e!=t}).forEach(function(e){return e.style.display=\\'none\\'})}),null!==(t=e.querySelector(\\'.view_layer .link_close\\'))&&void 0!==t&&t.addEventListener(\\'click\\',function(){r.classList.remove(\\'on\\'),\"false\"==\"true\"&&(document.body.style.overflow=\\'visible\\')}))});</script>\\n  <script>\"use strict\";!(function(){var d,o,c,i,t,e,r,l,s,u=document.querySelector(\\'section[dmcf-sid]\\');function g(t){return e=t,n=[\\'TABLE\\',\\'FIGURE\\',\\'IMG\\',\\'IFRAME\\',\\'VIDEO\\',\\'AUDIO\\'],Array.prototype.find.call(e.querySelectorAll(\\'*\\'),function(e){return n.find(function(t){return t===e.tagName})})?\\'media\\':\\'general\\'===t.getAttribute(\\'dmcf-ptype\\')?\\'text\\':\\'other\\';var e,n}function f(){var t=Array.prototype.map.call(document.querySelectorAll(\\'section[dmcf-sid] [dmcf-pid]\\'),function(t,e){return{element:t,index:e,type:g(t),height:(function(t,e){if(!e)return t.offsetHeight;var n=window.getComputedStyle(t),e=parseInt(n.marginTop),n=parseInt(n.marginBottom);return t.offsetHeight+e+n})(t,!0)}}),n=0;t.forEach(function(t,e){t.top=n,n+=t.height});var a=0;return t.slice().reverse().forEach(function(t,e){t.bottom=a,a+=t.height}),t}!u||u.offsetHeight<600||0!=(d=(function(){var n=f(),t=n.reduce(function(t,e){return\\'media\\'===e.type||(t[t.length-1].push(e),e.index<n.length-1&&\\'media\\'===n[e.index+1].type&&t.push([])),t},[[]]).filter(function(t){return 1<t.length}),a=240,d=240,i=\\'text\\',o=Math.max(.7*(document.documentElement.clientHeight||document.body.clientHeight),600),c=[];return t.forEach(function(t){var e=0,n=t[0].height+t[0].bottom-t[t.length-1].bottom;t.forEach(function(t){e+=t.height,n-=t.height,t.type===i&&a<=e&&d<=n&&(0===c.length||0<c.length&&c[c.length-1].bottom-t.bottom>=o)&&(c.push(t),e=0)})}),c})()).length&&(o=function(t,e,n){var a=\"\"==\"true\"?\"pc_article_middle_ad_\".concat(e+1):\\'\\',e=document.createElement(\"div\");return e.classList.add(\"ad_body2\"),e.innerHTML=\"\\\\n            <ins\\\\n                class=\\\\\"kakao_ad_area\\\\\"\\\\n                data-ad-unit=\\\\\"\".concat(t,\"\\\\\"\\\\n                data-ad-param-cp=\\\\\"\").concat(\"90_pc_media_news\",\"\\\\\"\\\\n                data-ad-param-channel=\\\\\"\").concat(\"harmony\",\"\\\\\"\\\\n                data-ad-onfail=\\\\\"removeParentElement\\\\\"\\\\n                data-ad-width=\\\\\"100%\\\\\"\\\\n                data-ad-onload=\\\\\"sendAbBucketLog\\\\\"\\\\n                data-ab-bucket=\\\\\"\").concat(a,\"\\\\\"\\\\n                data-ab-bucket-type=\\\\\"\").concat(n,\"\\\\\"\\\\n            />\"),e},c=function(t){return\"bodyAd_\".concat(t)},i=function(t,e,n,a){var d=c(t),i=(function(t,e){var n=document.createElement(\"div\");n.setAttribute(\"id\",c(t)),n.classList.add(\"ad_body2\"),n.style.cssText=\"text-align:center;vertical-align:middle;line-height: 0;padding: 0 0px; border: 0px; width:100%; height: 90px;\",n.innerHTML=\"\\\\n            <ins class=\\\\\"adsbygoogle\\\\\" \\\\n                style=\\\\\"display:inline-block;width:680px;height:84px\\\\\" \\\\n                data-ad-client=\\\\\"\".concat(\"ca-pub-1682288257759598\",\"\\\\\" \\\\n                data-ad-slot=\\\\\"\").concat(t,\"\\\\\"\\\\n                data-adtest=\\\\\"\").concat(\"off\",\"\\\\\"\\\\n            />\");return\"\"==\"true\"&&0<=e&&(n.setAttribute(\"data-ab-bucket\",\"pc_article_middle_ad_\".concat(e+1)),n.setAttribute(\"data-ab-bucket-type\",\"google\")),n})(t,a);u.insertBefore(i,e);e=n?function(t){var e=o(n,a,\\'replaced_by_adfit\\');removeGoogleAdElementAndReplaceWithAdfitElement(t,e)}:removeAdElement;document.addEventListener(\\'DOMContentLoaded\\',GoogleAdsUtils.addCallback(d,{doOnFilled:function(){return sendAbBucketLog(i)},doOnUnfilled:e}))},e=(t=function(t,e){return _.isEmpty(t)?e:t})(JSON.parse(\"[\\\\\"google\\\\\",\\\\\"google\\\\\"]\"),[]),r=t(JSON.parse(\"[\\\\\"DAN-LMhCax710HKR6iRC\\\\\",\\\\\"DAN-N84ROaaJI7rOx7GZ\\\\\"]\"),[]),l=t(JSON.parse(\"[\\\\\"7935113225\\\\\",\\\\\"7613652782\\\\\"]\"),[]),s=t(JSON.parse(\"[\\\\\"DAN-LMhCax710HKR6iRC\\\\\",\\\\\"DAN-N84ROaaJI7rOx7GZ\\\\\"]\"),[]),e.forEach(function(t,e){var n,a;e!=d.length&&(\"adfit\"===t&&e<r.length?(a=r[e],n=d[e].element.nextSibling,a=o(a,a=e,\\'adfit\\'),u.insertBefore(a,n),0<(a=(null==a?void 0:a.getElementsByTagName(\"ins\"))||[]).length&&adfit.render(a[0])):\"google\"===t&&e<l.length&&i(l[e],d[e].element.nextSibling,e<s.length?s[e]:void 0,e))}))})();</script>\\n  <script type=\"text/javascript\">\\n    \\n    \\n    \\n    var alex = document.getElementById(\\'alex_action_emotion\\');\\n    alex.setAttribute(\\'data-selections\\',\\'[{\"type\":\"RECOMMEND\",\"animation\":\"SLIDE\",\"image\":\"https://t1.daumcdn.net/harmony_static/alex_emotion/SLIDE_RECOMMEND_1x.png\",\"highResImage\":\"https://t1.daumcdn.net/harmony_static/alex_emotion/SLIDE_RECOMMEND_2x.png\"},{\"type\":\"LIKE\",\"animation\":\"SLIDE\",\"image\":\"https://t1.daumcdn.net/harmony_static/alex_emotion/SLIDE_LIKE_1x.png\",\"highResImage\":\"https://t1.daumcdn.net/harmony_static/alex_emotion/SLIDE_LIKE_2x.png\"},{\"type\":\"IMPRESS\",\"animation\":\"SLIDE\",\"image\":\"https://t1.daumcdn.net/harmony_static/alex_emotion/SLIDE_IMPRESS_1x.png\",\"highResImage\":\"https://t1.daumcdn.net/harmony_static/alex_emotion/SLIDE_IMPRESS_2x.png\"},{\"type\":\"ANGRY\",\"animation\":\"SLIDE\",\"image\":\"https://t1.daumcdn.net/harmony_static/alex_emotion/SLIDE_ANGRY_1x.png\",\"highResImage\":\"https://t1.daumcdn.net/harmony_static/alex_emotion/SLIDE_ANGRY_2x.png\"},{\"type\":\"SAD\",\"animation\":\"SLIDE\",\"image\":\"https://t1.daumcdn.net/harmony_static/alex_emotion/SLIDE_SAD_1x.png\",\"highResImage\":\"https://t1.daumcdn.net/harmony_static/alex_emotion/SLIDE_SAD_2x.png\"}]\\');\\n\\n    var itemKey = alex.getAttribute(\\'data-item-key\\');\\n    if (isNumber(itemKey))\\n        alex.setAttribute(\\'data-item-key\\', \\'@\\' + itemKey);\\n\\n    function isNumber(x) {\\n        return !isNaN(Number(x));\\n    }\\n</script>\\n  <script type=\"text/javascript\" src=\"//action.kakao.com/latest/alex.actions.js\"></script>\\n  <script>\"use strict\";document.addEventListener(\\'DOMContentLoaded\\',GoogleAdsUtils.addCallback(\\'pc_article_bottom_ad\\',{doOnFilled:function(){var a=document.getElementById(\\'pc_article_bottom_ad\\');sendAbBucketLog(a)},doOnUnfilled:function(){var a,t=document.getElementById(\\'pc_article_bottom_ad\\'),a=((a=document.createElement(\"div\")).classList.add(\"ad_wrap\"),a.innerHTML=\"\\\\n            <ins class=\\\\\"kakao_ad_area recomm_ad\\\\\"\\\\n                style=\\\\\"display: block; text-decoration: none; height: 120px; max-height: inherit; min-height: 120px; min-width: 655px; width: 655px;\\\\\"\\\\n                data-ad-unit=\\\\\"\".concat(\"DAN-955mJz2b5oialJmQ\",\"\\\\\"\\\\n                data-ad-param-channel=\\\\\"\").concat(\"harmony\",\"\\\\\"\\\\n                data-ad-param-cp=\\\\\"\").concat(\"90_pc_media_news\",\"\\\\\"\\\\n                data-ad-width=\\\\\"655\\\\\" \\\\n                data-ad-height=\\\\\"120\\\\\"\\\\n                data-ad-onfail=\\\\\"removeParentElement\\\\\"\\\\n                data-ad-onload=\\\\\"sendAbBucketLog\\\\\"\\\\n                data-ab-bucket=\\\\\"\").concat(\"\",\"\\\\\"\\\\n                data-ab-bucket-type=\\\\\"replaced_by_adfit\\\\\"\\\\n            />\"),a);removeGoogleAdElementAndReplaceWithAdfitElement(t,a)}}));</script>\\n  <script>\"use strict\";function _slicedToArray(e,t){return _arrayWithHoles(e)||_iterableToArrayLimit(e,t)||_unsupportedIterableToArray(e,t)||_nonIterableRest()}function _nonIterableRest(){throw new TypeError(\"Invalid attempt to destructure non-iterable instance.\\\\nIn order to be iterable, non-array objects must have a [Symbol.iterator]() method.\")}function _unsupportedIterableToArray(e,t){if(e){if(\"string\"==typeof e)return _arrayLikeToArray(e,t);var a=Object.prototype.toString.call(e).slice(8,-1);return\"Object\"===a&&e.constructor&&(a=e.constructor.name),\"Map\"===a||\"Set\"===a?Array.from(e):\"Arguments\"===a||/^(?:Ui|I)nt(?:8|16|32)(?:Clamped)?Array$/.test(a)?_arrayLikeToArray(e,t):void 0}}function _arrayLikeToArray(e,t){(null==t||t>e.length)&&(t=e.length);for(var a=0,n=new Array(t);a<t;a++)n[a]=e[a];return n}function _iterableToArrayLimit(e,t){if(\"undefined\"!=typeof Symbol&&Symbol.iterator in Object(e)){var a=[],n=!0,r=!1,c=void 0;try{for(var l,i=e[Symbol.iterator]();!(n=(l=i.next()).done)&&(a.push(l.value),!t||a.length!==t);n=!0);}catch(e){r=!0,c=e}finally{try{n||null==i[\"return\"]||i[\"return\"]()}finally{if(r)throw c}}return a}}function _arrayWithHoles(e){if(Array.isArray(e))return e}!(function(){var e,t,i=document.getElementById(\\'related_post_by_news\\'),u=\\'false\\'==\\'true\\';function d(a){var n=React.useRef(null);return React.useEffect(function(){function e(e){var t;null!==(t=n.current)&&void 0!==t&&t.contains(e.target)||a(e)}return document.addEventListener(\\'mousedown\\',e),function(){document.removeEventListener(\\'mousedown\\',e)}},[a]),{ref:n}}function n(e){var t=e.postList,a=_slicedToArray(React.useState(!1),2),n=a[0],r=a[1],e=_slicedToArray(React.useState(!1),2),c=e[0],l=e[1],a=d(function(){return l(!1)}).ref,e=u?3:4;return React.createElement(React.Fragment,null,React.createElement(\"div\",{class:\"box_tit\"},React.createElement(\"h3\",{class:\"tit_box\"},React.createElement(\"span\",{class:\"ico_view ico_post\"}),\\'이 뉴스의 포스트 \\',React.createElement(\"span\",{class:\"ico_beta\"},\"beta\")),u&&React.createElement(\"div\",{class:\"wrap_help\",ref:a},React.createElement(\"button\",{type:\"button\",class:\"btn_help\",\"aria-expanded\":c,onClick:function(){return l(!c)}},React.createElement(\"span\",{class:\"ico_view ico_help\"},\"도움말\")),React.createElement(\"div\",{class:\"layer_tooltip\"},\" \",React.createElement(\"span\",{class:\"ico_view ico_tooltip\"}),React.createElement(\"p\",{class:\"txt_tooltip\"},\"기자가 직접 남긴 뉴스 리뷰를 확인해\",React.createElement(\"br\",null),\"보세요. 포스트는 beta 기간입니다.\"),React.createElement(\"button\",{type:\"button\",class:\"btn_close\",onClick:function(){return l(!1)}},React.createElement(\"span\",{class:\"ico_view ico_close\"},\"도움말 팝업 닫기\"))))),React.createElement(s,{postList:t,isMore:n,basePostLength:e}),t.length>e&&React.createElement(\"div\",{class:\"btnmore_group\"},React.createElement(\"a\",{href:\"#\",class:\"link_morewide\",onClick:function(e){e.preventDefault(),r(!n),n?(i.classList.remove(\\'unfold\\'),i.classList.add(\\'fold\\')):(i.classList.remove(\\'fold\\'),i.classList.add(\\'unfold\\'))},\"data-tiara-layer\":\"post\",\"data-tiara\":\"more\",\"data-tiara-action-name\":\"포스트펼치기_클릭\"},React.createElement(\"span\",{class:\"tit_more\"},\"포스트 \"),n?\\'접어보기\\':\\'펼쳐보기\\',React.createElement(\"span\",{class:\"ico_view ico_more2\"}))),!u&&React.createElement(o,null))}function s(e){var t=e.postList,a=e.isMore,n=e.basePostLength;return React.createElement(\"ul\",{class:\"list_post\",\"data-tiara-ordnum-layer\":!0},t.map(function(e,t){return React.createElement(r,{post:e,index:t,isInvisible:n<=t&&!a})}))}function r(e){var a,t=e.post,n=e.index,r=e.isInvisible,e=_slicedToArray(React.useState(!1),2),c=e[0],l=e[1],e=_slicedToArray(React.useState(null),2),i=e[0],s=e[1],e=d(function(e){return l(!1)}).ref,o=function(){var e=document.createElement(\\'div\\');e.id=\\'socialShareMoreContainer\\',document.getElementById(\\'kakaoWrap\\').appendChild(e)},m=function(e){var t=e.viewUrl,e=e.content.description.split(\\'\\\\n\\')[0];return{moreViewContainer:document.getElementById(\\'socialShareMoreContainer\\'),link:t,prefix:e,service_name:\\'포스트 뷰\\',kakaoAPI:{appkey:\\'53e566aa17534bc816eb1b5d8f7415ee\\',kakaoLinkData:{shareType:\\'sendScrap\\',shareData:{templateId:7952,installTalk:!0,requestUrl:t,templateArgs:{\\'${mobileWebUrl}\\':t+\\'?f=m\\',\\'${webUrl}\\':t,\\'${EncodingUrl}\\':t}}}}}};return React.createElement(\"li\",{key:\"related_post_by_news_\".concat(n),\"data-tiara-ordnum\":n+1,style:{display:r?\\'none\\':\\'block\\'}},React.createElement(\"div\",{class:\"item_post\"},React.createElement(\"div\",{class:\"post_desc\"},React.createElement(\"p\",{class:\"txt_post\"},t.content.description)),React.createElement(\"div\",{class:\"post_info\"},React.createElement(\"span\",{class:\"thumb_profile\"},React.createElement(\"span\",{class:\"squircle_thumb\"},React.createElement(\"svg\",{viewBox:\"0 0 36 36\",class:\"svg_squircle\",\"aria-label\":\"프로필 사진\"},React.createElement(\"g\",null,React.createElement(\"use\",{xlinkHref:\"#shapeSquircle\",class:\"thumb_bg\"}),t.cp.iconImageUrl?React.createElement(\"image\",{\"clip-path\":\"url(#clipThumb)\",height:\"100%\",width:\"100%\",xlinkHref:\"https://img1.daumcdn.net/thumb/C110x110a/?fname=\".concat(t.cp.iconImageUrl),preserveAspectRatio:\"xMidYMid slice\"}):React.createElement(React.Fragment,null,React.createElement(\"image\",{class:\"light\",\"clip-path\":\"url(#clipThumb)\",height:\"100%\",width:\"100%\",xlinkHref:\"https://t1.daumcdn.net/media/common/noimage/bg_noimage_24.png\",preserveAspectRatio:\"xMidYMid slice\"}),u&&React.createElement(\"image\",{class:\"dark\",\"clip-path\":\"url(#clipThumb)\",height:\"100%\",width:\"100%\",xlinkHref:\"https://t1.daumcdn.net/media/common/noimage/bg_noimage_24_dark.png\",preserveAspectRatio:\"xMidYMid slice\"})),React.createElement(\"use\",{xlinkHref:\"#squircleBorder\",class:\"thumb_stroke\"}))))),React.createElement(\"div\",{class:\"info_thumb\"},React.createElement(\"span\",{class:\"thumb_date\"},StringUtil.makeViewTime(t.createdDate)),React.createElement(\"span\",{class:\"thumb_name\"},t.cp.cpName))),React.createElement(\"a\",{href:\"https://channel.daum.net/post/\".concat(t.id),class:\"link_post\",\"data-tiara-layer\":\"post\",\"data-tiara\":\"리스트\",\"data-tiara-action-kind\":\"ClickContent\",\"data-tiara-action-name\":\"포스트_클릭\"}),React.createElement(\"div\",{class:\"post_menu \".concat(c&&\\'open\\'),ref:e,\"data-tiara-action-name\":\"포스트쓰리닷_클릭\",\"data-tiara-layer\":\"post_more\"},React.createElement(\"a\",{href:\"#\",class:\"btn_menu\",onClick:function(e){e.preventDefault(),l(!c)}},React.createElement(\"span\",{class:\"ico_view\"},\"메뉴보기\")),React.createElement(\"div\",{class:\"layer_menu\"},React.createElement(\"div\",{class:\"list_menu\"},React.createElement(\"a\",{href:\"#\",class:\"link_menu\",onClick:(a=t,function(e){var t;e.preventDefault(),i||(document.getElementById(\\'socialShareMoreContainer\\')||o(),t=m(a),t=new window.socialshareRenewal.Main(e.target,t),s(t),t.viewer.show())}),\"data-tiara\":\"share\"},\"공유하기\",React.createElement(\"span\",{class:\"ico_view ico_share\"})),React.createElement(\"a\",{target:\"_blank\",href:\"https://channel.daum.net/report/\".concat(t.id),class:\"link_menu\",\"data-tiara\":\"report\"},\"신고하기\",React.createElement(\"span\",{class:\"ico_view ico_report\"})))))))}function o(){return React.createElement(\"svg\",{className:\"svg_source\",\"aria-hidden\":\"true\",focusable:\"false\"},React.createElement(\"defs\",null,React.createElement(\"path\",{id:\"squircleBorder\",d:\"M18,0 L18.7848444,0.005730084 C18.9139617,0.00764511171 19.0422365,0.0100426461 19.1696724,0.0129264371 L19.9242526,0.0360942589 C20.792923,0.0700009714 21.6208598,0.128101731 22.4093497,0.211682715 L23.0755677,0.289593612 C30.9549774,1.30012499 34.6999425,5.04523784 35.7104226,12.9245322 L35.7883295,13.5907399 C35.8719061,14.3792171 35.9300034,15.2071387 35.963908,16.0757909 L35.9870744,16.8303548 C35.989958,16.9577879 35.9923554,17.0860598 35.9942703,17.2151741 L36,18 L35.9942703,18.7848444 C35.9923554,18.9139617 35.989958,19.0422365 35.9870744,19.1696724 L35.963908,19.9242526 C35.9300034,20.792923 35.8719061,21.6208598 35.7883295,22.4093497 L35.7104226,23.0755677 C35.6542849,23.5133126 35.5897073,23.938297 35.5164499,24.3507608 L35.400024,24.960096 L35.2703983,25.5508304 C33.9983996,30.9781075 30.9781075,33.9983996 25.5508304,35.2703983 L24.960096,35.400024 L24.3507608,35.5164499 C23.938297,35.5897073 23.5133126,35.6542849 23.0755677,35.7104226 L22.4093497,35.7883295 C21.6208598,35.8719061 20.792923,35.9300034 19.9242526,35.963908 L19.1696724,35.9870744 C19.0422365,35.989958 18.9139617,35.9923554 18.7848444,35.9942703 L18,36 L17.2151741,35.9942703 C17.0860598,35.9923554 16.9577879,35.989958 16.8303548,35.9870744 L16.0757909,35.963908 C15.2071387,35.9300034 14.3792171,35.8719061 13.5907399,35.7883295 L12.9245322,35.7104226 C5.04523784,34.6999425 1.30012499,30.9549774 0.289593612,23.0755677 L0.211682715,22.4093497 C0.128101731,21.6208598 0.0700009714,20.792923 0.0360942589,19.9242526 L0.0129264371,19.1696724 C0.0100426461,19.0422365 0.00764511171,18.9139617 0.005730084,18.7848444 L0,18 L0.00584673708,17.2364307 L0.0235106145,16.491116 C0.0274496612,16.368412 0.031888818,16.2464639 0.0368319493,16.1252694 L0.0725693482,15.4071281 L0.120587636,14.7069631 C0.834491736,5.60597993 4.79017605,1.15065404 13.8930229,0.197527337 L14.5943061,0.131853333 L15.3155684,0.0795358451 C16.1687677,0.026246786 17.0631364,0 18,0 Z M18,0.75 L17.2362123,0.755914959 L16.4923098,0.773765633 L15.7681182,0.803710715 L15.0634634,0.845908898 C14.6001671,0.878160652 14.1497792,0.918686936 13.7120674,0.96769934 L13.0649777,1.04760899 C6.36975139,1.95404391 2.79018958,4.9918111 1.41886033,10.987594 L1.29490495,11.5675907 C1.27534879,11.6657562 1.25634173,11.7646736 1.23788016,11.8643462 L1.13362749,12.4714706 C1.06845086,12.882297 1.01188582,13.3053124 0.96370013,13.7407284 L0.897677059,14.4031792 C0.887710953,14.5151465 0.878261299,14.6278955 0.869324465,14.7414295 L0.821828289,15.4320791 C0.801128098,15.7821401 0.784977976,16.1393251 0.773279941,16.5037235 L0.755790953,17.2421646 L0.75,18 L0.755329047,18.7600803 L0.771444428,19.5001406 C0.778635318,19.7435121 0.787655991,19.983579 0.798538506,20.2203733 L0.836803642,20.9209708 L0.886432197,21.6021254 C1.62475734,30.5554225 5.44462413,34.3752528 14.3978898,35.1135695 L15.0790419,35.1631975 L15.7796366,35.2014621 C16.01643,35.2123445 16.2564959,35.2213651 16.4998663,35.2285559 L17.2399233,35.244671 L18,35.25 L18.7600878,35.2446712 L19.5001549,35.2285565 C19.7435286,35.2213659 19.9835976,35.2123455 20.2203939,35.2014634 L20.9209971,35.1631997 L21.6021569,35.113573 C22.7213271,35.0212856 23.7602848,34.8808505 24.723038,34.6882595 L25.2915774,34.5664141 C30.5131949,33.3701777 33.3701777,30.5131949 34.5664141,25.2915774 L34.6882595,24.723038 C34.8808505,23.7602848 35.0212856,22.7213271 35.113573,21.6021569 L35.1631997,20.9209971 L35.2014634,20.2203939 C35.2123455,19.9835976 35.2213659,19.7435286 35.2285565,19.5001549 L35.2446712,18.7600878 L35.25,18 L35.244671,17.2399233 L35.2285559,16.4998663 C35.2213651,16.2564959 35.2123445,16.01643 35.2014621,15.7796366 L35.1631975,15.0790419 L35.1135695,14.3978898 C34.3752528,5.44462413 30.5554225,1.62475734 21.6021254,0.886432197 L20.9209708,0.836803642 L20.2203733,0.798538506 C19.983579,0.787655991 19.7435121,0.778635318 19.5001406,0.771444428 L18.7600803,0.755329047 L18,0.75 Z\"}),React.createElement(\"path\",{id:\"shapeSquircle\",d:\"M18,36 C4.75007143,36 0,31.25025 0,18 C0,5.24989286 4.75007143,0 18,0 C31.25025,0 36,4.75007143 36,18 C36,31.25025 31.25025,36 18,36 Z\"})),React.createElement(\"clipPath\",{id:\"clipThumb\"},React.createElement(\"use\",{xlinkHref:\"#shapeSquircle\"})))}e=\\'NHT9NtZWBe\\',t=u?5:6,axios.get(\"\".concat(Conf.api.hadesRest,\"/post_related_target/data\"),{params:{targetId:e,targetType:\\'NEWS\\',size:6}}).then(function(e){return(e.data||[]).splice(0,t)}).then(function(e){var t,a;0<e.length?(i.style.display=\\'block\\',t=\\'//t1.daumcdn.net/daumtop_deco/socialshare/socialshare_mo-2.5.1.js\\',0===document.querySelectorAll(\"head > script[src=\\'\".concat(t,\"\\']\")).length&&((a=document.createElement(\\'script\\')).src=t,document.head.appendChild(a)),ReactDOM.render(React.createElement(n,{postList:e}),i)):i.parentElement.removeChild(i)}).catch(function(e){console.error(e),i.parentElement.removeChild(i)})})();</script>\\n  <script src=\"https://comment.kakao.com/latest/comment.sdk.loader.v1.js\"></script>\\n  <script>\"use strict\";function asyncGeneratorStep(e,t,n,a,r,o,i){try{var c=e[o](i),s=c.value}catch(e){return void n(e)}c.done?t(s):Promise.resolve(s).then(a,r)}function _asyncToGenerator(c){return function(){var e=this,i=arguments;return new Promise(function(t,n){var a=c.apply(e,i);function r(e){asyncGeneratorStep(a,t,n,r,o,\"next\",e)}function o(e){asyncGeneratorStep(a,t,n,r,o,\"throw\",e)}r(void 0)})}}!(function(){function i(){var e;null==s||null!==(e=s.querySelector(\\'a.btn_ttalk\\'))&&void 0!==e&&e.remove(),null!=l&&l.remove()}var c,n,a,e,r=Number(\\'1564300692871\\')+60*60*24*1e3,t=r<=(new Date).getTime(),s=document.querySelector(\\'div.util_wrap\\'),l=document.querySelector(\\'div.ttalk_view\\'),o=l.querySelector(\\'em.num_ttalk\\');function d(){var e=document.createElement(\\'div\\');e.setAttribute(\\'id\\',\\'timetalkDimmed\\'),e.style.cssText=\\'position:fixed;width:100%;height:100%;z-index:9000;background-color:rgba(0,0,0,0.4);\\',e.addEventListener(\\'click\\',function(){var e=document.getElementById(\\'timetalkFrame\\'),t=document.getElementById(\\'timetalkDimmed\\');null!=e&&e.classList.remove(\\'open\\'),setTimeout(function(){null!=e&&e.remove(),null!=t&&t.remove(),document.body.style.overflow=\\'visible\\'},3*100)});var t=document.createElement(\\'iframe\\');t.setAttribute(\\'id\\',\\'timetalkFrame\\'),t.setAttribute(\\'src\\',\\'/timetalk/NHT9NtZWBe\\'),t.style.cssText=\\'position:fixed;right:0;width:400px;height:100%;z-index:9001;border:none;\\',t.addEventListener(\\'load\\',function(e){e.currentTarget.classList.add(\\'open\\');e=window.parent;a(e.location)&&e.history.replaceState({},document.title,e.location.href.replace(new RegExp(\"\\\\\\\\??\".concat(n)),\\'\\'))}),document.body.style.overflow=\\'hidden\\',document.body.prepend(t),document.body.prepend(e)}t?i():(l.style.display=\\'block\\',c=setInterval(function(){var e=(new Date).getTime();if(r<=e||!o)return clearInterval(c),void i();var t=r-e,n=Math.floor(t/1e3),e=Math.floor(n/60),t=Math.floor(e/60),n=(n%60).toString().padStart(2,\\'0\\'),e=(e%60).toString().padStart(2,\\'0\\'),t=(t%24).toString().padStart(2,\\'0\\');o.innerHTML=\"<span class=\\\\\"txt_g\\\\\">\".concat(t,\"</span>:<span class=\\\\\"txt_g\\\\\">\").concat(e,\"</span>:<span class=\\\\\"txt_g\\\\\">\").concat(n,\"</span>\")},100),n=\\'isOpenTimetalk=true\\',e=function(e){e.preventDefault(),d()},(a=function(e){return e.search.includes(n)})(window.location)&&d(),(t=document.createElement(\\'a\\')).setAttribute(\\'href\\',\\'\\'),t.setAttribute(\\'target\\',\\'_blank\\'),t.setAttribute(\\'data-tiara\\',\\'타임톡버튼\\'),t.setAttribute(\\'data-tiara-action-name\\',\\'헤드타임톡_클릭\\'),t.classList.add(\\'btn_ttalk\\'),t.innerHTML=\"<span class=\\\\\"ico_view ico_ttalk\\\\\">타임톡</span>\",t.addEventListener(\\'click\\',e),s.insertBefore(t,s.querySelector(\\'div.util_view\\')),l.querySelector(\\'a.link_ttalkgo\\').addEventListener(\\'click\\',e),window.addEventListener(\\'alex-comment-sdk\\',(function(){var t=_asyncToGenerator(regeneratorRuntime.mark(function e(t){var n,a,r,o;return regeneratorRuntime.wrap(function(e){for(;1;)switch(e.prev=e.next){case 0:return e.prev=0,n=t.detail,r={phase:\"production\",clientId:\"Y6z3VwK78FOFN59061b64xYu@timetalk\",postKey:a=\"NHT9NtZWBe\"},e.next=6,n(r);case 6:return o=e.sent,e.next=9,o.getPostsCommentCount([a]);case 9:o=e.sent,o=StringUtil.numberWithCommas(o[a]||0),s.querySelector(\\'a.btn_ttalk\\').innerHTML=\"<span class=\\\\\"ico_view ico_ttalk\\\\\">타임톡</span>\\xa0\".concat(o,\"<span class=\\\\\"screen_out\\\\\">개</span>\"),l.querySelector(\\'span.txt_info\\').innerHTML=\"<span class=\\\\\"screen_out\\\\\">현재 톡 갯수</span><em class=\\\\\"txt_num\\\\\">\".concat(o,\"</em>개\"),e.next=19;break;case 15:e.prev=15,e.t0=e[\"catch\"](0),i(),clearInterval(c);case 19:case\"end\":return e.stop()}},e,null,[[0,15]])}));return function(e){return t.apply(this,arguments)}})()))})();</script>\\n  <script>\"use strict\";document.addEventListener(\\'DOMContentLoaded\\',GoogleAdsUtils.addCallback(\\'pc_aside_top_ad\\',{doOnFilled:function(){var a=document.getElementById(\\'pc_aside_top_ad\\');sendAbBucketLog(a)},doOnUnfilled:function(){var a,d=document.getElementById(\\'pc_aside_top_ad\\'),a=((a=document.createElement(\"div\")).classList.add(\"box_cluster\",\"box_ad\"),a.innerHTML=\"\\\\n            <ins style=\\\\\"display: block; width: 250px; height: 250px; text-decoration: none; max-height: inherit; min-height: 250px; min-width: 250px;\\\\\"\\\\n                class=\\\\\"kakao_ad_area aside_g aside_ad\\\\\"\\\\n                data-ad-unit=\\\\\"\".concat(\"05d24\",\"\\\\\"\\\\n                data-ad-param-channel=\\\\\"\").concat(\"harmony\",\"\\\\\"\\\\n                data-ad-param-cp=\\\\\"\").concat(\"90_pc_media_news\",\"\\\\\"\\\\n                data-ad-width=\\\\\"250\\\\\"\\\\n                data-ad-height=\\\\\"250\\\\\"\\\\n                data-ad-onfail=\\\\\"removeParentElement\\\\\"\\\\n                data-ad-onload=\\\\\"sendAbBucketLog\\\\\"\\\\n                data-ab-bucket=\\\\\"\").concat(\"\",\"\\\\\"\\\\n                data-ab-bucket-type=\\\\\"replaced_by_adfit\\\\\"\\\\n            />\"),a);removeGoogleAdElementAndReplaceWithAdfitElement(d,a)}}));</script>\\n  <script>\"use strict\";function asyncGeneratorStep(e,n,t,r,a,c,o){try{var s=e[c](o),i=s.value}catch(e){return void t(e)}s.done?n(i):Promise.resolve(i).then(r,a)}function _asyncToGenerator(s){return function(){var e=this,o=arguments;return new Promise(function(n,t){var r=s.apply(e,o);function a(e){asyncGeneratorStep(r,n,t,a,c,\"next\",e)}function c(e){asyncGeneratorStep(r,n,t,a,c,\"throw\",e)}a(void 0)})}}_asyncToGenerator(regeneratorRuntime.mark(function e(){var n,t,r,a,c,o,s;return regeneratorRuntime.wrap(function(e){for(;1;)switch(e.prev=e.next){case 0:return n=document.getElementById(\\'news_related_query_comp\\'),e.prev=1,t=\\'20190728165812603\\',e.next=5,axios.get(\"\".concat(Conf.api.hadesRest,\"/news_related_query/data?size=6&maxTextLen=12&newsId=\")+t);case 5:if(s=e.sent,0==(r=s.data).length)return n.parentElement.removeChild(n),e.abrupt(\"return\");e.next=10;break;case 10:a=10,c=s=2,o=3,s=_.flatten(r.reduce(function(e,n){var t=e[e.length-1];return t.length<c||t.reduce(function(e,n){return e+n.length},0)+n.length<=a&&t.length<o?t.push(n):e.push([n]),e},[[]]).slice(0,s)),n.innerHTML=\"\\\\n            <div class=\\\\\"box_tit\\\\\">\\\\n                <h3 class=\\\\\"tit_box\\\\\">함께 찾은 검색어</h3>\\\\n            </div>\\\\n            <ul class=\\\\\"list_keyword\\\\\" data-tiara=\\\\\"검색어\\\\\">\\\\n                \".concat(s.map(function(e){return\"<li> <a href=\\\\\"https://search.daum.net/search?w=tot&DA=NDT&rtmaxcoll=NNS&q=\".concat(encodeURIComponent(e),\"\\\\\" class=\\\\\"link_keyword\\\\\" title=\\\\\"\").concat(_.escape(e),\"\\\\\"><span class=\\\\\"ico_view ico_keyword\\\\\"></span>\").concat(_.escape(e),\"</a> </li>\")}).join(\\'\\'),\"\\\\n            </ul>\\\\n        \"),e.next=21;break;case 18:e.prev=18,e.t0=e[\"catch\"](1),n.parentElement.removeChild(n);case 21:case\"end\":return e.stop()}},e,null,[[1,18]])}))();</script>\\n  <script>\"use strict\";function _slicedToArray(e,t){return _arrayWithHoles(e)||_iterableToArrayLimit(e,t)||_unsupportedIterableToArray(e,t)||_nonIterableRest()}function _nonIterableRest(){throw new TypeError(\"Invalid attempt to destructure non-iterable instance.\\\\nIn order to be iterable, non-array objects must have a [Symbol.iterator]() method.\")}function _unsupportedIterableToArray(e,t){if(e){if(\"string\"==typeof e)return _arrayLikeToArray(e,t);var a=Object.prototype.toString.call(e).slice(8,-1);return\"Object\"===a&&e.constructor&&(a=e.constructor.name),\"Map\"===a||\"Set\"===a?Array.from(e):\"Arguments\"===a||/^(?:Ui|I)nt(?:8|16|32)(?:Clamped)?Array$/.test(a)?_arrayLikeToArray(e,t):void 0}}function _arrayLikeToArray(e,t){(null==t||t>e.length)&&(t=e.length);for(var a=0,r=new Array(t);a<t;a++)r[a]=e[a];return r}function _iterableToArrayLimit(e,t){if(\"undefined\"!=typeof Symbol&&Symbol.iterator in Object(e)){var a=[],r=!0,n=!1,i=void 0;try{for(var c,o=e[Symbol.iterator]();!(r=(c=o.next()).done)&&(a.push(c.value),!t||a.length!==t);r=!0);}catch(e){n=!0,i=e}finally{try{r||null==o[\"return\"]||o[\"return\"]()}finally{if(n)throw i}}return a}}function _arrayWithHoles(e){if(Array.isArray(e))return e}function ownKeys(t,e){var a,r=Object.keys(t);return Object.getOwnPropertySymbols&&(a=Object.getOwnPropertySymbols(t),e&&(a=a.filter(function(e){return Object.getOwnPropertyDescriptor(t,e).enumerable})),r.push.apply(r,a)),r}function _objectSpread(t){for(var e=1;e<arguments.length;e++){var a=null!=arguments[e]?arguments[e]:{};e%2?ownKeys(Object(a),!0).forEach(function(e){_defineProperty(t,e,a[e])}):Object.getOwnPropertyDescriptors?Object.defineProperties(t,Object.getOwnPropertyDescriptors(a)):ownKeys(Object(a)).forEach(function(e){Object.defineProperty(t,e,Object.getOwnPropertyDescriptor(a,e))})}return t}function _defineProperty(e,t,a){return t in e?Object.defineProperty(e,t,{value:a,enumerable:!0,configurable:!0,writable:!0}):e[t]=a,e}!(function(){var e,t,a,r,n,c=\\'true\\'==\\'false\\',i=document.getElementById(\\'special_series_list\\');function o(e){var t=e.seriesList,e=_slicedToArray(React.useState(t[0]),2),i=e[0],a=e[1];return React.createElement(React.Fragment,null,React.createElement(\"div\",{className:\"box_tit\"},React.createElement(\"h3\",{className:\"tit_box\"},\"아시아경제\",\" PICK\")),c&&React.createElement(\"div\",{className:\"tabg_wrap\"},React.createElement(\"div\",{className:\"inner_wrap\"},React.createElement(\"ul\",{className:\"tab_g\",role:\"tablist\",\"data-tiara-layer\":\"media_pick_news\",\"data-tiara-action-name\":\"본문기획뉴스_클릭\"},t.map(function(t){return React.createElement(\"li\",{key:t.id,role:\"presentation\"},React.createElement(\"a\",{href:\"#none\",role:\"tab\",\"data-tiara\":\"탭\",\"aria-selected\":t.id==i.id?\"true\":\"false\",className:\"link_tab\",onClick:function(e){t.id!=i.id&&a(t),e.preventDefault()}},t.title))})))),!c&&React.createElement(\"ul\",{role:\"tablist\",className:\"tab_g\",\"data-tiara-layer\":\"media_pick_news\",\"data-tiara-action-name\":\"본문기획뉴스_클릭\"},t.map(function(t){return React.createElement(\"li\",{key:t.id,role:\"presentation\"},React.createElement(\"a\",{href:\"#none\",role:\"tab\",\"data-tiara\":\"탭\",\"aria-selected\":t.id==i.id?\"true\":\"false\",className:\"link_tab\",onClick:function(e){t.id!=i.id&&a(t),e.preventDefault()}},t.title))})),React.createElement(\"ul\",{className:\"list_column\",\"data-tiara-ordnum-layer\":!0,\"data-tiara-layer\":\"media_pick_news\",\"data-tiara-action-name\":\"본문기획뉴스_클릭\",\"data-tiara-action-kind\":\"ClickContent\"},i.contents.map(function(e){var t=e.contentId,a=e.title,r=e.thumbnail,n=e.createDt,e=e.mobileLink;return React.createElement(\"li\",{key:t},React.createElement(\"div\",{className:\"item_column\"},React.createElement(\"a\",{href:e,className:\"link_thumb\",\"data-tiara\":\"탭\".concat(i.index+1,\"_리스트\")},React.createElement(\"div\",{className:\"wrap_thumb\"},React.createElement(\"img\",{src:StringUtil.makeThumbnail(r,\\'S200x132\\',\\'70\\'),className:\"thumb_g\",alt:\"\"})),React.createElement(\"div\",{className:\"cont_thumb\"},React.createElement(\"div\",{className:\"inner_cont\"},React.createElement(\"div\",{className:\"thumb_wrap\"},React.createElement(\"strong\",{className:\"tit_txt\"},a),\" \",React.createElement(\"span\",{className:\"info_thumb\"},StringUtil.makeViewTime(n))))))))})),React.createElement(\"div\",{className:\"btnmore_group\",\"data-tiara-layer\":\"media_pick_news\",\"data-tiara-action-name\":\"본문기획뉴스_클릭\",\"data-tiara-action-kind\":\"ClickContent\"},React.createElement(\"a\",{href:i.link,className:\"link_morewide\",\"data-tiara\":\"더보기\"},React.createElement(\"span\",{className:\"tit_more\"},i.title,\" \"),\"더보기\",React.createElement(\"span\",{className:\"ico_view ico_more\"}))))}t=(e={cpId:\\'90\\',group:\\'special\\',size:10,sort:\\'favorite:desc,lastModifiedDate:desc\\',minContentCount:4}).cpId,a=e.group,r=e.size,n=e.sort,e=e.minContentCount,axios.get(\"\".concat(Conf.api.hadesRest,\"/series_sorted_favorite_list\"),{params:{cpId:t,group:a,sort:n,size:r,minContentCount:e}}).then(function(e){return e.data.body.data}).then(function(e){0<e.length?(e=e.map(function(e,t){return _objectSpread(_objectSpread({},e),{},{index:t})}),ReactDOM.render(React.createElement(o,{seriesList:e}),i)):i.parentNode.removeChild(i)}).catch(function(e){return i.parentNode.removeChild(i)})})();</script>\\n  <script>\"use strict\";function asyncGeneratorStep(n,t,e,r,a,i,c){try{var o=n[i](c),s=o.value}catch(n){return void e(n)}o.done?t(s):Promise.resolve(s).then(r,a)}function _asyncToGenerator(o){return function(){var n=this,c=arguments;return new Promise(function(t,e){var r=o.apply(n,c);function a(n){asyncGeneratorStep(r,t,e,a,i,\"next\",n)}function i(n){asyncGeneratorStep(r,t,e,a,i,\"throw\",n)}a(void 0)})}}_asyncToGenerator(regeneratorRuntime.mark(function n(){var t,e,r,a;return regeneratorRuntime.wrap(function(n){for(;1;)switch(n.prev=n.next){case 0:return t=document.querySelector(\\'.box_news_press ul\\'),a=\\'20190728165812603\\',n.next=4,axios.get(\"\".concat(Conf.api.hadesRest,\"/newsview_similar_news?newsId=\")+a).then(function(n){return n.data.body});case 4:if(e=n.sent,a=e.data,r=\"false\"==\"true\",0==(e=void 0===a?[]:a).length)return(a=t.parentElement).parentElement.removeChild(a),n.abrupt(\"return\");n.next=12;break;case 12:t.innerHTML=e.map(function(n){return\"\\\\n            <li>\\\\n                <div class=\\\\\"item_column\\\\\"> \\\\n                    <a href=\\\\\"\".concat(r?n.mobileLink:n.pcLink,\"\\\\\" class=\\\\\"link_thumb\\\\\" data-tiara=\\\\\"리스트\\\\\">\\\\n                        <div class=\\\\\"wrap_thumb\\\\\"> \\\\n                            <img src=\\\\\"\").concat(StringUtil.makeThumbnail(n.thumbnail,\\'S200x132\\',\\'70\\'),\"\\\\\" class=\\\\\"thumb_g\\\\\" alt=\\\\\"\\\\\"> \\\\n                        </div>\\\\n                        <div class=\\\\\"cont_thumb\\\\\">\\\\n                            <div class=\\\\\"inner_cont\\\\\">\\\\n                                <div class=\\\\\"thumb_wrap\\\\\"> \\\\n                                    <strong class=\\\\\"tit_txt\\\\\">\").concat(n.title,\"</strong> \\\\n                                    <span class=\\\\\"info_thumb\\\\\"> \").concat(n.cpKorName,\" · \").concat(StringUtil.makeViewTime(n.createdAt),\"</span> \\\\n                                </div>\\\\n                            </div>\\\\n                        </div>\\\\n                    </a> \\\\n                </div>\\\\n            </li>\\\\n        \")}).join(\\'\\');case 13:case\"end\":return n.stop()}},n)}))();</script>\\n  <script>\"use strict\";function _slicedToArray(e,t){return _arrayWithHoles(e)||_iterableToArrayLimit(e,t)||_unsupportedIterableToArray(e,t)||_nonIterableRest()}function _nonIterableRest(){throw new TypeError(\"Invalid attempt to destructure non-iterable instance.\\\\nIn order to be iterable, non-array objects must have a [Symbol.iterator]() method.\")}function _unsupportedIterableToArray(e,t){if(e){if(\"string\"==typeof e)return _arrayLikeToArray(e,t);var a=Object.prototype.toString.call(e).slice(8,-1);return\"Object\"===a&&e.constructor&&(a=e.constructor.name),\"Map\"===a||\"Set\"===a?Array.from(e):\"Arguments\"===a||/^(?:Ui|I)nt(?:8|16|32)(?:Clamped)?Array$/.test(a)?_arrayLikeToArray(e,t):void 0}}function _arrayLikeToArray(e,t){(null==t||t>e.length)&&(t=e.length);for(var a=0,r=new Array(t);a<t;a++)r[a]=e[a];return r}function _iterableToArrayLimit(e,t){if(\"undefined\"!=typeof Symbol&&Symbol.iterator in Object(e)){var a=[],r=!0,n=!1,i=void 0;try{for(var c,o=e[Symbol.iterator]();!(r=(c=o.next()).done)&&(a.push(c.value),!t||a.length!==t);r=!0);}catch(e){n=!0,i=e}finally{try{r||null==o[\"return\"]||o[\"return\"]()}finally{if(n)throw i}}return a}}function _arrayWithHoles(e){if(Array.isArray(e))return e}function asyncGeneratorStep(e,t,a,r,n,i,c){try{var o=e[i](c),s=o.value}catch(e){return void a(e)}o.done?t(s):Promise.resolve(s).then(r,n)}function _asyncToGenerator(o){return function(){var e=this,c=arguments;return new Promise(function(t,a){var r=o.apply(e,c);function n(e){asyncGeneratorStep(r,t,a,n,i,\"next\",e)}function i(e){asyncGeneratorStep(r,t,a,n,i,\"throw\",e)}n(void 0)})}}_asyncToGenerator(regeneratorRuntime.mark(function e(){var t,a,r,n,i,c,o,s,l,u;return regeneratorRuntime.wrap(function(e){for(;1;)switch(e.prev=e.next){case 0:return u=function(e){e=e.contents;return React.createElement(React.Fragment,null,e.map(function(e){var t=e.pcLink,a=e.thumbnail,r=e.index,n=e.title,e=e.createDt;return React.createElement(\"li\",null,React.createElement(\"div\",{class:\"item_column\"},React.createElement(\"a\",{href:t,class:\"link_thumb\",\"data-tiara\":\"리스트\"},React.createElement(\"div\",{class:\"wrap_thumb\"},React.createElement(\"img\",{src:StringUtil.makeThumbnail(a,\\'S200x132\\',\\'70\\'),class:\"thumb_g\",alt:\"\"})),React.createElement(\"div\",{class:\"cont_thumb\"},React.createElement(\"div\",{class:\"inner_cont\"},React.createElement(\"div\",{class:\"thumb_wrap\"},React.createElement(\"strong\",{class:\"tit_txt\"},React.createElement(\"span\",{class:\"rank_num\"},r,React.createElement(\"span\",{class:\"screen_out\"},\"위\")),n),React.createElement(\"span\",{class:\"info_thumb\"},StringUtil.makeViewTime(e))))))))}))},l=function(e){var t=e.title,a=e.isVisible,r=e.tabIdx,n=e.activeTabIdx,i=e.setActiveTabIdx;return React.createElement(React.Fragment,null,a&&React.createElement(\"li\",{role:\"presentation\"},React.createElement(\"a\",{onClick:function(){i(r)},id:\"popularNews\",href:\"javascript:void(0)\",role:\"tab\",\"aria-selected\":n===r,class:\"link_tab\"},t)))},s=function(e){var t=e.tabInfos,a=e.popularNews,r=e.driNews,e=_slicedToArray(React.useState(5===a.length?0:1),2),n=e[0],i=e[1];return React.createElement(React.Fragment,null,React.createElement(\"div\",{class:\"box_tit\"},React.createElement(\"h3\",{class:\"tit_box\"},\"아시아경제 랭킹 뉴스\"),React.createElement(\"p\",{class:\"txt_box\"},t[n].title)),React.createElement(\"ul\",{class:\"tab_g tablist2\",role:\"tablist\"},t.map(function(e,t){return React.createElement(l,{isVisible:e.isVisible,title:e.tabTitle,tabIdx:t,activeTabIdx:n,setActiveTabIdx:i})})),React.createElement(\"ol\",{class:\"list_rank_news\",\"data-tiara-action-name\":t[n].tiaraActionName,\"data-tiara-layer\":t[n].tiaraSecondLayer,\"data-tiara-action-kind\":\"ClickContent\",\"data-tiara-ordnum-layer\":!0},React.createElement(u,{contents:0===n?a:r})))},o=function(){return(o=_asyncToGenerator(regeneratorRuntime.mark(function e(t){var a,r;return regeneratorRuntime.wrap(function(e){for(;1;)switch(e.prev=e.next){case 0:return a=t.key,r=t.params,e.next=3,axios.get(\"\".concat(Conf.api.hadesRest,\"/\").concat(a),{params:r}).then(function(e){return e.data.body.data||[]});case 3:return e.abrupt(\"return\",e.sent);case 4:case\"end\":return e.stop()}},e)}))).apply(this,arguments)},c=function(){return o.apply(this,arguments)},t=document.getElementById(\\'rankingNewsContainer\\'),a=[{key:\"channel_home_ranking_latest\",params:{size:5,consumerId:\"media\",cpId:\"90\",hours:3}},{key:\"dri_ranking_news\",params:{size:5,hours:168,from:\"media\",cpId:\"90\"}}],e.next=9,c(a[0]);case 9:return r=e.sent,e.next=12,c(a[1]);case 12:n=e.sent,(i=[{isVisible:5===r.length,title:\\'최근 3시간 집계 결과입니다.\\',tabTitle:\\'많이 본 뉴스\\',tiaraActionName:\\'하단많이본랭킹_클릭\\',tiaraSecondLayer:\\'media_ranking_news_popular\\'},{isVisible:5===n.length,title:\\'이용자의 본문 주목도 높은 뉴스입니다.\\',tabTitle:\\'탐독한 뉴스\\',tiaraActionName:\\'하단열독률랭킹_클릭\\',tiaraSecondLayer:\\'media_ranking_news_duration\\'}])[0].isVisible||i[1].isVisible?(t.style.display=\\'block\\',ReactDOM.render(React.createElement(s,{tabInfos:i,popularNews:r,driNews:n}),t)):t.parentElement.removeChild(t);case 15:case\"end\":return e.stop()}},e)}))();</script>\\n  <script>\"use strict\";function _slicedToArray(e,t){return _arrayWithHoles(e)||_iterableToArrayLimit(e,t)||_unsupportedIterableToArray(e,t)||_nonIterableRest()}function _nonIterableRest(){throw new TypeError(\"Invalid attempt to destructure non-iterable instance.\\\\nIn order to be iterable, non-array objects must have a [Symbol.iterator]() method.\")}function _unsupportedIterableToArray(e,t){if(e){if(\"string\"==typeof e)return _arrayLikeToArray(e,t);var r=Object.prototype.toString.call(e).slice(8,-1);return\"Object\"===r&&e.constructor&&(r=e.constructor.name),\"Map\"===r||\"Set\"===r?Array.from(e):\"Arguments\"===r||/^(?:Ui|I)nt(?:8|16|32)(?:Clamped)?Array$/.test(r)?_arrayLikeToArray(e,t):void 0}}function _arrayLikeToArray(e,t){(null==t||t>e.length)&&(t=e.length);for(var r=0,a=new Array(t);r<t;r++)a[r]=e[r];return a}function _iterableToArrayLimit(e,t){if(\"undefined\"!=typeof Symbol&&Symbol.iterator in Object(e)){var r=[],a=!0,n=!1,c=void 0;try{for(var o,i=e[Symbol.iterator]();!(a=(o=i.next()).done)&&(r.push(o.value),!t||r.length!==t);a=!0);}catch(e){n=!0,c=e}finally{try{a||null==i[\"return\"]||i[\"return\"]()}finally{if(n)throw c}}return r}}function _arrayWithHoles(e){if(Array.isArray(e))return e}function ownKeys(t,e){var r,a=Object.keys(t);return Object.getOwnPropertySymbols&&(r=Object.getOwnPropertySymbols(t),e&&(r=r.filter(function(e){return Object.getOwnPropertyDescriptor(t,e).enumerable})),a.push.apply(a,r)),a}function _objectSpread(t){for(var e=1;e<arguments.length;e++){var r=null!=arguments[e]?arguments[e]:{};e%2?ownKeys(Object(r),!0).forEach(function(e){_defineProperty(t,e,r[e])}):Object.getOwnPropertyDescriptors?Object.defineProperties(t,Object.getOwnPropertyDescriptors(r)):ownKeys(Object(r)).forEach(function(e){Object.defineProperty(t,e,Object.getOwnPropertyDescriptor(r,e))})}return t}function _defineProperty(e,t,r){return t in e?Object.defineProperty(e,t,{value:r,enumerable:!0,configurable:!0,writable:!0}):e[t]=r,e}!(function(){var r=document.getElementById(\\'keyword_news_list\\');axios.get(\"\".concat(Conf.api.hadesRest,\"/newsview_keyword_news\"),{params:{contentId:\"20190728165812603\"}}).then(function(e){return e.data.body.data}).then(function(e){function t(e){return(e=new URL(e)).searchParams.set(\"t_src\",\"daum\"),e.searchParams.set(\"t_ch\",\"view\"),e.searchParams.set(\"t_obj\",\"news\"),e.toString()}var r=e.keywordHomeUrl,e=e.keywordList;return{keywordHomeUrl:t(r),keywordList:e.map(function(e){return _objectSpread(_objectSpread({},e),{},{moreLink:t(e.moreLink)})})}}).then(function(e){var t=e.keywordHomeUrl,e=e.keywordList;_.isEmpty(e)?null!=r&&r.parentNode.removeChild(r):ReactDOM.render(React.createElement(c,{keywordHomeUrl:t,keywordList:e}),r)}).catch(function(){null!=r&&r.parentNode.removeChild(r)});var a,n,c=function(e){var t=e.keywordHomeUrl,r=e.keywordList,e=_slicedToArray(React.useState(r[0]),2),a=e[0],n=e[1],c=\"clusterId=\".concat(a.clusterId,\"&clusterTitle=\").concat(a.keyword,\"&keywordType=\").concat(a.keywordType);return React.createElement(React.Fragment,null,React.createElement(\"div\",{class:\"box_tit\"},React.createElement(\"h3\",{class:\"tit_box\"},\"이 뉴스와 관련된 키워드\"),React.createElement(\"a\",{href:t,class:\"btn_viewgo\",\"data-tiara-custom\":c},\"키워드 탐색\",React.createElement(\"span\",{class:\"ico_view\"}))),React.createElement(\"ul\",{class:\"tab_g\",role:\"tablist\",\"data-tiara\":\"탭\"},r.map(function(t){var e=o(t.operationGroup,t.clusterTypeId);return React.createElement(\"li\",{role:\"presentation\"},React.createElement(\"a\",{href:\"#none\",class:\"link_tab\",role:\"tab\",\"aria-selected\":t.keyword==a.keyword?\"true\":\"false\",onClick:function(e){e.preventDefault(),n(t)},style:t.keyword==a.keyword&&e?{backgroundColor:e,borderColor:e}:{},\"data-tiara-custom\":\"clusterId=\".concat(t.clusterId,\"&clusterTitle=\").concat(t.keyword,\"&keywordType=\").concat(t.keywordType)},t.thumbnail&&React.createElement(\"span\",{class:\"thumb_img\"},React.createElement(\"img\",{src:StringUtil.makeThumbnail(t.thumbnail,\\'S80x80\\'),class:\"thumb_g\",alt:\"\"})),t.keyword))})),React.createElement(\"ul\",{class:\"list_column\",\"data-tiara\":\"리스트\"},a.subContents.map(function(e){return React.createElement(\"li\",null,React.createElement(\"div\",{class:\"item_column\"},React.createElement(\"a\",{href:e.pcLink,class:\"link_thumb\",\"data-tiara-custom\":c},React.createElement(\"div\",{class:\"wrap_thumb\"},React.createElement(\"img\",{src:StringUtil.makeThumbnail(e.thumbnail,\\'S200x132\\',\\'70\\'),class:\"thumb_g\",alt:\"\"})),React.createElement(\"div\",{class:\"cont_thumb\"},React.createElement(\"div\",{class:\"inner_cont\"},React.createElement(\"div\",{class:\"thumb_wrap\"},React.createElement(\"strong\",{class:\"tit_txt\"},e.title),React.createElement(\"span\",{class:\"info_thumb\"},\"\".concat(e.mediaName,\" · \").concat(StringUtil.makeViewTime(e.createdAt)))))))))})),React.createElement(\"div\",{class:\"btnmore_group\"},React.createElement(\"a\",{href:a.moreLink,class:\"link_morewide\",\"data-tiara-custom\":c},React.createElement(\"span\",{class:\"tit_more\"},a.keyword,\" \"),\"더보기\",React.createElement(\"span\",{class:\"ico_view ico_more\"}))))},o=(a=window.matchMedia(\\'(prefers-color-scheme: dark)\\').matches,n=new Map(a?[[\\'NEWS_2\\',\\'#557CCC\\'],[\\'NEWS_6\\',\\'#557CCC\\'],[\\'ENTER_2\\',\\'#8267B8\\'],[\\'ENTER_3\\',\\'#8267B8\\'],[\\'SPORTS_1\\',\\'#D45551\\'],[\\'SPORTS_2\\',\\'#D45551\\'],[\\'SPORTS_4\\',\\'#D45551\\'],[\\'AUTO_27\\',\\'#3D8071\\'],[\\'AUTO_28\\',\\'#3D8071\\'],[\\'INTEREST_15\\',\\'#3D8071\\'],[\\'MOVIE_5\\',\\'#4A5861\\'],[\\'INTEREST_8\\',\\'#6D911C\\'],[\\'INTEREST_11\\',\\'#304C94\\'],[\\'INTEREST_12\\',\\'#D4633A\\'],[\\'INTEREST_13\\',\\'#593822\\'],[\\'INTEREST_17\\',\\'#304C94\\'],[\\'INTEREST_18\\',\\'#593822\\'],[\\'INTEREST_14\\',\\'#D45840\\'],[\\'INTEREST_16\\',\\'#5BA1CC\\'],[\\'INTEREST_62\\',\\'#6D911C\\'],[\\'INTEREST_63\\',\\'#7A5127\\'],[\\'INTEREST_65\\',\\'#5E7034\\'],[\\'INTEREST_68\\',\\'#5E7034\\'],[\\'INTEREST_64\\',\\'#D47500\\'],[\\'INTEREST_66\\',\\'#545CB0\\'],[\\'INTEREST_67\\',\\'#1C5C41\\']]:[[\\'NEWS_2\\',\\'#6796F6\\'],[\\'NEWS_6\\',\\'#6796F6\\'],[\\'ENTER_2\\',\\'#9F7EE0\\'],[\\'ENTER_3\\',\\'#9F7EE0\\'],[\\'SPORTS_1\\',\\'#FB6560\\'],[\\'SPORTS_2\\',\\'#FB6560\\'],[\\'SPORTS_4\\',\\'#FB6560\\'],[\\'AUTO_27\\',\\'#51A996\\'],[\\'AUTO_28\\',\\'#51A996\\'],[\\'INTEREST_15\\',\\'#51A996\\'],[\\'MOVIE_5\\',\\'#4A5861\\'],[\\'INTEREST_8\\',\\'#8BB924\\'],[\\'INTEREST_11\\',\\'#304C94\\'],[\\'INTEREST_12\\',\\'#FD7645\\'],[\\'INTEREST_13\\',\\'#6E452A\\'],[\\'INTEREST_17\\',\\'#304C94\\'],[\\'INTEREST_18\\',\\'#6E452A\\'],[\\'INTEREST_14\\',\\'#FC694D\\'],[\\'INTEREST_16\\',\\'#6DC1F5\\'],[\\'INTEREST_62\\',\\'#8BB924\\'],[\\'INTEREST_63\\',\\'#A36C34\\'],[\\'INTEREST_65\\',\\'#6F853D\\'],[\\'INTEREST_68\\',\\'#6F853D\\'],[\\'INTEREST_64\\',\\'#FD8C00\\'],[\\'INTEREST_66\\',\\'#6771D8\\'],[\\'INTEREST_67\\',\\'#227050\\']]),function(e,t){return n.get(\"\".concat(e,\"_\").concat(t))||(a?\\'#557CCC\\':\\'#6796F6\\')})})();</script>\\n  <script>\"use strict\";!(function(){var e=0,t=\\'1008\\'||\\'media\\',s=document.querySelectorAll(\\'.tabcont_service\\');function a(e,t,c){t=0===t?\\'뉴스\\':1===t?\\'연예\\':\\'스포츠\\',e.innerHTML=c?\"\".concat(t,\" <span class=\\\\\"screen_out\\\\\">선택됨</span>\"):t}\\'1005\\'===t?e=1:\\'1004\\'!==t&&\\'sports\\'!==t||(e=2),(t=document.querySelectorAll(\\'#serviceDirect li a\\'))[e].classList.add(\\'on\\'),s[e].style.display=\"block\",t.forEach(function(e,r){return e.addEventListener(\\'click\\',function(){Array.from(document.getElementById(\\'serviceDirect\\').children).forEach(function(e,t){var c=e.querySelector(\\'.link_tab\\');t===r?(e.setAttribute(\\'aria-selected\\',\"true\"),c.classList.add(\\'on\\'),a(c,t,!0),s[t].style.display=\"block\"):(e.setAttribute(\\'aria-selected\\',\"false\"),c.classList.remove(\\'on\\'),a(c,t,!1),s[t].style.display=\"none\")})})})})();</script>\\n  <script>\"use strict\";!(function(){var e=document.getElementById(\\'service_notice\\');axios.get(\"\".concat(Conf.api.hadesRest,\"/service_notice?id=3393\")).then(function(n){var t=n.data.body.data,n=t.noticeTitle,t=t.noticeUrl;null!==n?e.innerHTML=\"\\\\n                    <a href=\\\\\"\".concat(t,\"\\\\\" class=\\\\\"link_cont\\\\\" data-tiara=\\\\\"공지사항\\\\\">\\\\n                        <strong class=\\\\\"tit_notice\\\\\">공지</strong>\\\\n                        <span class=\\\\\"txt_notice\\\\\">\").concat(n,\"</span>\\\\n                    </a>\\\\n                \"):e.parentNode.removeChild(e)}).catch(function(n){e.parentNode.removeChild(e)})})();</script>\\n  <script>\"use strict\";document.addEventListener(\\'DOMContentLoaded\\',GoogleAdsUtils.addCallback(\\'pc_aside_bottom_ad\\',{doOnFilled:function(){var a=document.getElementById(\\'pc_aside_bottom_ad\\');sendAbBucketLog(a)},doOnUnfilled:function(){var a,t=document.getElementById(\\'pc_aside_bottom_ad\\'),a=((a=document.createElement(\"div\")).classList.add(\"box_cluster\",\"box_ad\"),a.innerHTML=\"\\\\n            <ins style=\\\\\"display: block; width: 250px; height: 250px; text-decoration: none; max-height: inherit; min-height: 250px; min-width: 250px;\\\\\"\\\\n                class=\\\\\"kakao_ad_area aside_g aside_ad\\\\\"\\\\n                data-ad-unit=\\\\\"\".concat(\"0QH44\",\"\\\\\"\\\\n                data-ad-param-channel=\\\\\"\").concat(\"harmony\",\"\\\\\"\\\\n                data-ad-param-cp=\\\\\"\").concat(\"90_pc_media_news\",\"\\\\\"\\\\n                data-ad-width=\\\\\"250\\\\\"\\\\n                data-ad-height=\\\\\"250\\\\\"\\\\n                data-ad-onfail=\\\\\"removeParentElement\\\\\"\\\\n                data-ad-onload=\\\\\"sendAbBucketLog\\\\\"\\\\n                data-ab-bucket=\\\\\"\").concat(\"\",\"\\\\\"\\\\n                data-ab-bucket-type=\\\\\"replaced_by_adfit\\\\\"\\\\n            />\"),a);removeGoogleAdElementAndReplaceWithAdfitElement(t,a)}}));</script>\\n  <script>\"use strict\";!(function(){var e=document.querySelector(\\'.direct_link\\'),t=document.querySelector(\\'.btn_fold\\');null!=t&&t.addEventListener(\\'click\\',function(){e.classList.toggle(\"direct_open\")})})();</script>\\n  <script src=\"//search1.daumcdn.net/search/statics/common/js/g/search_dragselection.min.js\"></script>\\n  <script>\"use strict\";function _slicedToArray(t,n){return _arrayWithHoles(t)||_iterableToArrayLimit(t,n)||_unsupportedIterableToArray(t,n)||_nonIterableRest()}function _nonIterableRest(){throw new TypeError(\"Invalid attempt to destructure non-iterable instance.\\\\nIn order to be iterable, non-array objects must have a [Symbol.iterator]() method.\")}function _unsupportedIterableToArray(t,n){if(t){if(\"string\"==typeof t)return _arrayLikeToArray(t,n);var e=Object.prototype.toString.call(t).slice(8,-1);return\"Object\"===e&&t.constructor&&(e=t.constructor.name),\"Map\"===e||\"Set\"===e?Array.from(t):\"Arguments\"===e||/^(?:Ui|I)nt(?:8|16|32)(?:Clamped)?Array$/.test(e)?_arrayLikeToArray(t,n):void 0}}function _arrayLikeToArray(t,n){(null==n||n>t.length)&&(n=t.length);for(var e=0,a=new Array(n);e<n;e++)a[e]=t[e];return a}function _iterableToArrayLimit(t,n){if(\"undefined\"!=typeof Symbol&&Symbol.iterator in Object(t)){var e=[],a=!0,i=!1,r=void 0;try{for(var o,s=t[Symbol.iterator]();!(a=(o=s.next()).done)&&(e.push(o.value),!n||e.length!==n);a=!0);}catch(t){i=!0,r=t}finally{try{a||null==s[\"return\"]||s[\"return\"]()}finally{if(i)throw r}}return e}}function _arrayWithHoles(t){if(Array.isArray(t))return t}!(function(){function t(t){var n=t.newsid,e=t.cp_name,a=t.title,i=t.image,t=t.moddt;return{newsid:n,cp_name:e,title:(a=a,\"enter\"===s?a.replace(/\\\\[.*?]+/gi,\\'\\'):a),url:\"https://v.daum.net/v/\".concat(n),thumbnail:StringUtil.makeThumbnail(i,r,o),update_dt:StringUtil.makeViewTime((function(t){try{if(\\'string\\'!=typeof t||14!==t.length)throw new Error(\"[IllegalArgumentException] 유효하지 않은 날짜형식입니다. | \".concat(t));var n=t.slice(0,4),e=t.slice(4,6),a=t.slice(6,8),i=t.slice(8,10),r=t.slice(10,12),o=t.slice(12);return dateUtil.addMinutes(new Date(n,e-1,a,i,r,o),-540-(new Date).getTimezoneOffset())}catch(t){console.error(t)}})(t))}}var n=20,r=\\'S200x132\\',o=\\'70\\',e=\"20190728165812603\",s=(function(){switch(\"1008\"){case\"1004\":return\"sports\";case\"1005\":return\"enter\";default:return\"news\"}})(),a=encodeURIComponent(JSON.stringify({itemid:e,category:s})),i={source:e},c=\"\\\\n        <div class=\\\\\"item_column\\\\\">\\\\n            <a href=\\\\\"<%=obj.url%>\\\\\" class=\\\\\"link_thumb\\\\\" data-itemid=\\\\\"<%=obj.newsid%>\\\\\" data-pos=\\\\\"<%=obj.pos%>\\\\\" data-tiara=\\\\\"리스트\\\\\">\\\\n                <div class=\\\\\"wrap_thumb\\\\\">\\\\n                    <img src=\\\\\"<%=obj.thumbnail%>\\\\\" class=\\\\\"thumb_g\\\\\" alt=\\\\\"\\\\\">\\\\n                </div>\\\\n                <div class=\\\\\"cont_thumb\\\\\">\\\\n                    <div class=\\\\\"inner_cont\\\\\">\\\\n                        <div class=\\\\\"thumb_wrap\\\\\">\\\\n                            <strong class=\\\\\"tit_txt\\\\\"><%=obj.title%></strong>\\\\n                            <span class=\\\\\"info_thumb\\\\\"><%=obj.cp_name%> · <%=obj.update_dt%></span>\\\\n                        </div>\\\\n                    </div>\\\\n                </div>\\\\n            </a>\\\\n        </div>\\\\n    \",l=new Set;(e=new Toros.Connector({url:\\'mediadaum/most_similar\\',queryParams:a,slice:16,filter:function(t){t=t._id;return l.add(t),!0},map:t,targetClass:\\'item_toros\\',template:c,svc:\\'mediadaum_sim\\',impLabel:\\'toros_mediadaum_sim_imp\\',impProps:i,viewLabel:\\'toros_mediadaum_sim_vimp\\',viewProps:i,clickLabel:\\'toros_mediadaum_sim_click\\',clickProps:i})).render(),e.fetchPromise.then(function(){0<n&&new Toros.Connector({url:\\'mediadaum/soonsal_v2\\',queryParams:a,slice:n,filter:function(t){t=t._id;return!l.has(t)},map:t,targetClass:\\'item_nachu\\',template:c,svc:\\'mediadaum_personal\\',impLabel:\\'toros_mediadaum_personal_imp\\',impProps:i,viewLabel:\\'toros_mediadaum_personal_vimp\\',viewProps:i,clickLabel:\\'toros_mediadaum_personal_click\\',clickProps:i}).render()});var d,m=\"\\\\n        <li adfit-unit-id=\\\\\"{0}\\\\\" adfit-param-cp=\\\\\"\".concat(\"90_pc_media_news\",\"\\\\\" adfit-param-channel=\\\\\"\").concat(\"harmony\",\"\\\\\" adfit-unit-idx=\\\\\"{1}\\\\\">\\\\n            <div class=\\\\\"item_column item_ad\\\\\">\\\\n                <a href=\\\\\"#none\\\\\" class=\\\\\"link_thumb\\\\\" adfit-landing-url adfit-action-url adfit-land-type=\\\\\"right\\\\\">\\\\n                    <div class=\\\\\"wrap_thumb\\\\\">\\\\n                        <img class=\\\\\"thumb_g\\\\\" adfit-main-img-url adfit-image-width=\\\\\"200\\\\\" adfit-image-height=\\\\\"132\\\\\">\\\\n                    </div>\\\\n                    <div class=\\\\\"cont_thumb\\\\\">\\\\n                        <div class=\\\\\"inner_cont\\\\\">\\\\n                            <div class=\\\\\"thumb_wrap\\\\\">\\\\n                                <strong class=\\\\\"tit_txt\\\\\" adfit-title></strong>\\\\n                                <span class=\\\\\"info_ad\\\\\">\\\\n                                    <span class=\\\\\"\").concat(\"false\"==\"false\"?\\'ico_view ico_ad\\':\\'ico_ad\\',\"\\\\\" adfit-ad-info>AD</span>\\\\n                                    <span class=\\\\\"txt_adname\\\\\" adfit-profile-name></span>\\\\n                                </span>\\\\n                            </div>\\\\n                        </div>\\\\n                    </div>\\\\n                </a>\\\\n            </div>\\\\n        </li>\\\\n    \"),u=document.querySelectorAll(\\'.item_ad\\');(e=\\'[\"DAN-DKlQvio8ceI9FgFm\",\"DAN-DKlQvio8ceI9FgFm\"]\\')&&(e=JSON.parse(e),d={},e.forEach(function(t,n){d[t]?d[t].push(n):d[t]=[n]}),e=d,Object.entries(e).forEach(function(t){var n=_slicedToArray(t,2),e=n[0],a=n[1].filter(function(t){return t<u.length}),t=a.length,n=new Array(t).fill(0).map(function(t,n){return StringUtil.format(m,e,n)}).join(\\'\\'),i=a.map(function(t){return u[t]});new AdfitNativeAds({unitId:e,adCount:t}).renderAs(n,function(t){t.forEach(function(t,n){n=i[n];t?n.appendChild(t):n.parentNode.removeChild(n)})}).renderFail(function(){return i.forEach(function(t){return removeAdElement(t)})}).init()}))})();</script>\\n  <script>\"use strict\";window.adsbygoogle=window.adsbygoogle||[],Array.from(document.querySelectorAll(\\'ins.adsbygoogle\\')).filter(function(e){return!e.dataset.adStatus&&!e.dataset.adsbygoogleStatus}).forEach(function(){return adsbygoogle.push({})});var removeParentElement=function(e){var n=null==e?void 0:e.parentElement;null==n||null!==(e=n.parentElement)&&void 0!==e&&e.removeChild(n)},removeAdElement=function(e){var n;null==e||null!==(n=e.parentElement)&&void 0!==n&&n.removeChild(e)},removeGoogleAdElementAndReplaceWithAdfitElement=function(e,n){null!=e&&e.insertAdjacentElement(\\'beforebegin\\',n),null!=e&&e.remove();n=(null==n?void 0:n.getElementsByTagName(\"ins\"))||[];window.adfit&&0<n.length&&window.adfit.render(n[0])};</script>\\n  <script type=\"text/javascript\" src=\"//t1.daumcdn.net/tiara/js/v1/tiara.min.js\"></script>\\n  <script>\"use strict\";function ownKeys(t,e){var a,o=Object.keys(t);return Object.getOwnPropertySymbols&&(a=Object.getOwnPropertySymbols(t),e&&(a=a.filter(function(e){return Object.getOwnPropertyDescriptor(t,e).enumerable})),o.push.apply(o,a)),o}function _objectSpread(t){for(var e=1;e<arguments.length;e++){var a=null!=arguments[e]?arguments[e]:{};e%2?ownKeys(Object(a),!0).forEach(function(e){_defineProperty(t,e,a[e])}):Object.getOwnPropertyDescriptors?Object.defineProperties(t,Object.getOwnPropertyDescriptors(a)):ownKeys(Object(a)).forEach(function(e){Object.defineProperty(t,e,Object.getOwnPropertyDescriptor(a,e))})}return t}function _defineProperty(e,t,a){return t in e?Object.defineProperty(e,t,{value:a,enumerable:!0,configurable:!0,writable:!0}):e[t]=a,e}!(function(){if(window.TiaraTracker){var d=!1,u=new Date,s=window.scrollY||document.documentElement.scrollTop,e=\"\",t=e&&\"false\"==\"true\",l=null;try{l=_Cookies.get(\\'DAUMTOP\\')||_Cookies.get(\\'HARMONY_TOROS_IMP\\')&&window.atob(_Cookies.get(\\'HARMONY_TOROS_IMP\\'))}catch(e){l=_Cookies.get(\\'DAUMTOP\\')}var m=TiaraTracker.getInstance().setSvcDomain(\"media.daum.net\").setPage(\"newsview\").setDeployment(\"production\").trackPage(\"newsview\").setSection(\"digital\").setEnableAlwaysImage(!0),g={id:\"20190728165812603\",type:\"article\",name:\"\\\\uC77C\\\\uB860\\\\uBA38\\\\uC2A4\\\\uD06C \\\\\"\\\\uD14C\\\\uC2AC\\\\uB77C\\\\uC5D0\\\\uC11C \\\\uB137\\\\uD50C\\\\uB9AD\\\\uC2A4\\\\u00B7\\\\uC720\\\\uD29C\\\\uBE0C \\\\uC990\\\\uAE38 \\\\uB0A0 \\\\uC628\\\\uB2E4\\\\\"\",category_id:\"100031\",category:\"digital\",author:\"\\\\uC774\\\\uBBFC\\\\uC6B0\",author_id:\"letzwin@asiae.co.kr\",provider:\"\\\\uC544\\\\uC2DC\\\\uC544\\\\uACBD\\\\uC81C\",provider_id:\"90\",regdate:\"2019-07-28 16:58:12\",plink:\"https://v.daum.net/v/20190728165812603\",image:\"https://t1.daumcdn.net/news/201907/28/akn/20190728165813230vjsq.jpg\",harmony_consumer_id:\"media\",media:\"pcweb\"};t&&(g[\"series\"]=\"mainnews\",g[\"series_id\"]=e);var a,p={contentUniqueKey:\"hamny-\".concat(g.id),docId:\"NHT9NtZWBe\",harmony_consumer_id:\"media\",media:\"pcweb\",reg_dt:\"2019-07-28 16:58:12\",reg_timestamp:\"1564300692871\",tromm_sub_category:\"\"},y=(a=!1,window.addEventListener(\"pageshow\",function(e){(e.persisted||window.performance&&2===window.performance.navigation.type)&&(a=!0)}),function(){return a}),f=(function(){try{var o=\\'article_body\\',e=document.querySelector(\\'.article_view\\'),t=(d=c=0,document.querySelectorAll(\\'[dmcf-ptype=\"general\"]\\').forEach(function(e){var t=(null===(e=e.innerText)||void 0===e||null===(t=e.trim())||void 0===t?void 0:t.length)||0;0<t&&c++,d+=t}),{paragraphCount:c,textLength:d}),n={article_scroll_height_ratio:(e.getBoundingClientRect().height/1200).toFixed(2),article_text_length:t.textLength,article_paragraph_count:t.paragraphCount,\\'media_count:video\\':e.querySelectorAll(\\'[dmcf-mtype^=\"video\"]\\').length,\\'media_count:image\\':e.querySelectorAll(\\'[dmcf-mtype=\"image\"]\\').length,\\'media_count:audio\\':e.querySelectorAll(\\'[dmcf-mtype^=\"audio\"]\\').length,article_out_height_pct:0};n[\\'media_count\\']=n[\\'media_count:video\\']+n[\\'media_count:image\\']+n[\\'media_count:audio\\'];var a=function(e){var t=e.name,a=(e.element,e.elementRect),e=e.intersectionRect;t==o&&(n[\\'article_out_height_pct\\']=Math.max(n[\\'article_out_height_pct\\']||0,Math.round(e.bottom/a.bottom*100)))},r=[];document.querySelectorAll(\\'[data-cloud]\\').forEach(function(e){var t=e.querySelector(\\'[data-tiara-layer\\'),t=e.getAttribute(\\'data-tiara-layer\\')||(null==t?void 0:t.getAttribute(\\'data-tiara-layer\\'))||e.getAttribute(\\'data-cloud\\');r.push({name:t,element:e,config:{inRatio:.3,outRatio:.3,outCallback:a}})});var i=new ComponentViewDurationChecker({components:r,rootMargin:\"-\".concat(document.getElementById(\\'kakaoHead\\').getBoundingClientRect().height,\"px 0px 0px 0px\"),interval:300}).start();return function(){try{i.stop();var t=_objectSpread({},n);return Object.keys(i.duration).forEach(function(e){t[\"duration:\".concat(e)]=i.duration[e].reduce(function(e,t){return e+t[1]-t[0]},0)}),t}catch(e){return{}}}}catch(e){return function(){return{}}}var c,d})(),o=function(){d||m.trackPage(\"p_newsview_보기\").actionKind(\"ViewContent\").pageMeta(g).customProps(p).track()},n=function(){if(!d){d=!0;var e=document.body.scrollHeight,t=window.scrollY,a=e-t,o=window.innerHeight,n=Math.round(t/(e-o)*100),r={},o={duration:(new Date).getTime()-u.getTime(),scroll_percent:n,scroll_height:e,scroll_top:t,scroll_bottom:a,scroll_inner_height:o};try{var i,c;!l||(c=JSON.parse(l)).contents_unique_key===p.contentUniqueKey&&(r={toros_imp_id:c.impression_id,toros_file_hash_key:c.toros_file_hash_key,toros_user_id_type:\"uuid\",toros_page_meta_id:p.contentUniqueKey,toros_event_meta_id:p.contentUniqueKey,toros_action_type:\"dwelltime\"},i=3<location.hostname.split(\\'.\\').length?location.hostname.substring(location.hostname.indexOf(\\'.\\')):location.hostname,(c=_Cookies.remove||_Cookies.expire)(\\'HARMONY_TOROS_IMP\\',{path:\\'/\\',domain:i}),c(\\'DAUMTOP\\',{path:\\'/\\',domain:\\'.daum.net\\'}),0)}catch(e){}m.trackUsage().actionKind(\"UsagePage\").pageMeta(g).usage(o).customProps(_.assignIn(p,r)).track(),m.trackEvent(\\'UsagePageComponent\\').pageMeta(g).customProps(_objectSpread(_objectSpread({},f()),{},{start_scroll_top:s,bfcache:y(),duration:(new Date).getTime()-u.getTime()})).track()}};window.addEventListener(\"pageshow\",o,!1),window.addEventListener(\"pagehide\",n,!1),document.addEventListener(\"visibilitychange\",function(){(document[\"hidden\"]?n:o)()},!1),document.addEventListener(\"click\",function(e){var t,a,o,n,r,i,c,d=e.target,u=d.closest(\"[data-cloud]\"),s=d.closest(\"a\")||d.closest(\"button\")||d.closest(\\'input[type=\"radio\"], input[type=\"checkbox\"]\\');s&&null!=u&&u.contains(s)&&((i=TiaraTracker.getClickInfo(e))&&(t=i.action,a=i.click,o=(null==t?void 0:t.name)||\"\",n=(null==t?void 0:t.kind)||\"\",r=_.assignIn(p,i.customProps),u=d.closest(\"[data-tiara]\"),i=s.querySelector(\"img\"),d=(function(e,t,a){e=e.closest(\\'[data-tiara-ordnum-layer]\\');if(e&&!t.closest(\\'[adfit-unit-id]\\')){if(!!e.querySelector(\\'[data-tiara-ordnum]\\')&&!isNaN(Number(a)))return a;e=e.querySelectorAll(\\'a, button\\');return Array.from(e).filter(function(e){return!e.closest(\\'[adfit-unit-id]\\')}).findIndex(function(e){return e===t})+1}})(d,s,a.ordnum),e={layer1:a.layer1,layer2:a.layer2||\"\",layer3:(null==u?void 0:u.dataset.tiara)||a.layer3||\"\",click_url:s.href||\"\",ordnum:d,copy:(c=s.getAttribute(\\'data-action-type\\'),[\\'RECOMMEND\\',\\'LIKE\\',\\'IMPRESS\\',\\'ANGRY\\',\\'SAD\\'].includes(c)?null==t?void 0:t.name:s.innerText),image:(null==i?void 0:i.src)||\"\",posX:e.clientX,posY:e.clientY},m.trackEvent(o).pageMeta(g).actionKind(n).customProps(r).click(e).track()))}),document.addEventListener(\\'mainnews-viewimp\\',function(e){e=(null===(e=e.detail)||void 0===e?void 0:e.tiara).customProps;m.trackViewImp().customProps(e).track()}),window.sendAbBucketLog=function(e){try{var t=null==e?void 0:e.getAttribute(\\'data-ab-bucket\\'),a=null==e?void 0:e.getAttribute(\\'data-ab-bucket-type\\');t&&a&&m.trackEvent(\\'NewsAbBucket\\').pageMeta(g).eventMeta({id:t,name:t,type:a}).track()}catch(e){}}}})();</script>\\n  <script>\"use strict\";!(function(){var o=\\'v.daum.net\\',e=_Cookies.remove||_Cookies.expire;e(\\'_H_CT\\',{path:\\'/\\',domain:o}),e(\\'_H_MN\\',{path:\\'/\\',domain:o}),e(\\'_H_DOC_ID\\',{path:\\'/\\',domain:o})})();</script>\\n </body>\\n</html>'"
      ]
     },
     "execution_count": 3,
     "metadata": {},
     "output_type": "execute_result"
    }
   ],
   "source": [
    "url = 'https://v.daum.net/v/20190728165812603'\n",
    "resp = requests.get(url)\n",
    "resp.text"
   ]
  },
  {
   "cell_type": "code",
   "execution_count": 4,
   "metadata": {},
   "outputs": [
    {
     "data": {
      "text/plain": [
       "<!DOCTYPE html>\n",
       "<html class=\"os_window\">\n",
       "<head data-cloud-area=\"head\">\n",
       "<meta charset=\"utf-8\"/>\n",
       "<meta content=\"IE=edge\" http-equiv=\"X-UA-Compatible\"/>\n",
       "<meta content=\"width=device-width,initial-scale=1,maximum-scale=1,user-scalable=no\" name=\"viewport\"/>\n",
       "<meta content=\"telephone=no\" name=\"format-detection\"/>\n",
       "<meta content=\"unsafe-url\" name=\"referrer\"/>\n",
       "<title>일론머스크 \"테슬라에서 넷플릭스·유튜브 즐길 날 온다\"</title>\n",
       "<link href=\"//t1.daumcdn.net/top/favicon.ico\" rel=\"shortcut icon\"/>\n",
       "<meta content=\"NHT9NtZWBe\" property=\"mccp:docId\"/>\n",
       "<meta content=\"언론사 뷰\" property=\"og:site_name\"/>\n",
       "<meta content='일론머스크 \"테슬라에서 넷플릭스·유튜브 즐길 날 온다\"' property=\"og:title\"/>\n",
       "<meta content=\"20190728165812\" property=\"og:regDate\"/>\n",
       "<meta content=\"article\" property=\"og:type\"/>\n",
       "<meta content=\"아시아경제\" property=\"og:article:author\"/>\n",
       "<meta content=\"https://v.daum.net/v/20190728165812603\" property=\"og:url\"/>\n",
       "<meta content=\"https://img1.daumcdn.net/thumb/S1200x630/?fname=https://t1.daumcdn.net/news/201907/28/akn/20190728165813230vjsq.jpg\" property=\"og:image\"/>\n",
       "<meta content=\"1200\" property=\"og:image:width\"/>\n",
       "<meta content=\"630\" property=\"og:image:height\"/>\n",
       "<meta content=\"[아시아경제 이민우 기자] 일론 머스크 테슬라 최고경영자(CEO)가 자사 전기 자동차 모델에 넷플릭스와 유튜브 등 온라인동영상서비스(OTT)를 탑재할 것이라고 예고했다. 단순히 자율 주행 전기차가 단순히 주행을 위한 정보를 알려주는 것을 넘어 각종 영상 콘텐츠를 즐기는 공간으로도 확장하겠다는 전략으로 풀이된다.27일(현지시간) 더버지 등 주요 외신들에 따르\" property=\"og:description\"/>\n",
       "<meta content=\"daumapps://web?url=https%3A%2F%2Fv.daum.net/v/20190728165812603\" property=\"al:android:url\"/>\n",
       "<meta content=\"net.daum.android.daum\" property=\"al:android:package\"/>\n",
       "<meta content=\"다음앱\" property=\"al:android:app_name\"/>\n",
       "<meta content=\"daumapps://web?url=https%3A%2F%2Fv.daum.net/v/20190728165812603\" property=\"al:ios:url\"/>\n",
       "<meta content=\"365494029\" property=\"al:ios:app_store_id\"/>\n",
       "<meta content=\"다음앱\" property=\"al:ios:app_name\"/>\n",
       "<meta content=\"summary_large_image\" property=\"twitter:card\"/>\n",
       "<meta content=\"daumapps://web?url=https%3A%2F%2Fv.daum.net/v/20190728165812603\" property=\"twitter:app:url:googleplay\"/>\n",
       "<meta content=\"net.daum.android.daum\" property=\"twitter:app:id:googleplay\"/>\n",
       "<meta content=\"다음앱\" property=\"twitter:app:name:googleplay\"/>\n",
       "<meta content=\"KR\" property=\"twitter:app:country\"/>\n",
       "<meta content=\"daumapps://web?url=https%3A%2F%2Fv.daum.net/v/20190728165812603\" property=\"twitter:app:url:iphone\"/>\n",
       "<meta content=\"365494029\" property=\"twitter:app:id:iphone\"/>\n",
       "<meta content=\"다음앱\" property=\"twitter:app:name:iphone\"/>\n",
       "<meta content=\"daumapps://web?url=https%3A%2F%2Fv.daum.net/v/20190728165812603\" property=\"twitter:app:url:ipad\"/>\n",
       "<meta content=\"365494029\" property=\"twitter:app:id:ipad\"/>\n",
       "<meta content=\"다음앱\" property=\"twitter:app:name:ipad\"/>\n",
       "</head>\n",
       "<body>\n",
       "<link as=\"font\" crossorigin=\"\" href=\"https://t1.daumcdn.net/harmony_static/font/SF-UI-Display-Regular.woff\" rel=\"preload\" type=\"font/woff\"/>\n",
       "<link as=\"font\" crossorigin=\"\" href=\"https://t1.daumcdn.net/harmony_static/font/SF-UI-Display-Medium.woff\" rel=\"preload\" type=\"font/woff\"/>\n",
       "<link as=\"font\" crossorigin=\"\" href=\"https://t1.daumcdn.net/harmony_static/font/SF-UI-Display-Bold.woff\" rel=\"preload\" type=\"font/woff\"/>\n",
       "<link href=\"//t1.daumcdn.net/harmony_static/cloud/2024/01/03/common.4e81a0796222ba0f0c7e.css\" rel=\"stylesheet\" type=\"text/css\"/>\n",
       "<link href=\"//t1.daumcdn.net/harmony_static/cloud/page/a6e6b6c7a97dae256b26e73a7d7ac1825d648db51695360263650.css\" rel=\"stylesheet\" type=\"text/css\"/>\n",
       "<link href=\"https://hades-cerberus.v.daum.net\" rel=\"preconnect\"/>\n",
       "<link href=\"https://hades-proxy.v.daum.net\" rel=\"preconnect\"/>\n",
       "<div class=\"container-doc wrap_view\" data-tiara-layer=\"pc_news\" id=\"kakaoWrap\">\n",
       "<header class=\"doc-header\" data-cloud-area=\"header\" id=\"kakaoHead\">\n",
       "<div class=\"head_top\" data-cloud=\"newsview_pc_gnb\" data-tiara-layer=\"news_header_gnb\">\n",
       "<h1 class=\"doc-title\"> <a class=\"link_daum\" data-tiara=\"로고\" data-tiara-action-name=\"GNB다음로고_클릭\" href=\"//daum.net\"> <img alt=\"Daum\" class=\"logo_daum\" height=\"18\" src=\"//t1.daumcdn.net/media/common/newsview_2021/pc/rtn/logo_daum.png\" width=\"44\"/> </a> <a data-tiara=\"언론사명\" data-tiara-action-name=\"GNB언론사명_클릭\" href=\"https://v.daum.net/channel/90/home\" id=\"kakaoServiceLogo\">아시아경제</a> </h1>\n",
       "<div class=\"user_service\">\n",
       "<h2 class=\"screen_out\">검색</h2> <a class=\"link_search\" data-tiara=\"검색\" data-tiara-action-kind=\"Search\" data-tiara-action-name=\"GNB검색_클릭\" href=\"#none\"> <span class=\"ico_view ico_search\">검색</span> </a>\n",
       "<div class=\"search_wrap\" id=\"daumSearchLayer\">\n",
       "<form action=\"https://search.daum.net/search\" id=\"daumSearchForm\" method=\"get\">\n",
       "<fieldset class=\"fld_inside\"> <legend class=\"screen_out\">검색어 입력폼</legend>\n",
       "<div class=\"box_search\"> <label class=\"screen_out\" for=\"qVal\">통합검색</label>\n",
       "<input name=\"nil_profile\" type=\"hidden\" value=\"search\"/>\n",
       "<input name=\"nil_src\" type=\"hidden\" value=\"media\"/>\n",
       "<input name=\"DA\" type=\"hidden\" value=\"23A\"/>\n",
       "<input name=\"rtmaxcoll\" type=\"hidden\" value=\"DNS,NNS\"/>\n",
       "<input autocomplete=\"off\" class=\"tf_keyword\" id=\"qVal\" name=\"q\" spellcheck=\"false\" title=\"검색어 입력\" type=\"text\" value=\"\"/> <button class=\"btn_reset\" id=\"daumBtnReset\" type=\"reset\"> <span class=\"ico_view\">입력삭제</span> </button> <button class=\"btn_search\" id=\"daumBtnSubmit\" type=\"submit\"> <span class=\"ico_view ico_search\"> <span class=\"ir_wa\">검색</span> </span> </button>\n",
       "</div>\n",
       "</fieldset>\n",
       "<div class=\"suggest_wrap\" id=\"wrap_suggestBox\">\n",
       "<div class=\"suggestBox box_sub\" id=\"suggestBox\"></div>\n",
       "</div>\n",
       "</form>\n",
       "</div> <a class=\"link_closed\" href=\"#none\"><span class=\"ico_view\">닫기</span></a>\n",
       "</div>\n",
       "<div class=\"util_socialchare\"> <button class=\"btn_share\" data-tiara=\"SNS공유하기\" data-tiara-action-kind=\"Share\" data-tiara-action-name=\"GNB공유_클릭\" id=\"rSocialShareButton2\"> <span class=\"ico_view ico_share\">공유목록 펼치기</span> </button>\n",
       "<div id=\"rSocialShareLayerContainer2\"></div>\n",
       "</div>\n",
       "</div>\n",
       "</header>\n",
       "<main class=\"doc-main\" id=\"kakaoContent\">\n",
       "<section class=\"inner-main\">\n",
       "<h2 class=\"screen_out\">IT</h2>\n",
       "<div class=\"main-content\" data-cloud-area=\"addition\">\n",
       "<article class=\"box_view\" data-cloud-area=\"article\" id=\"mArticle\">\n",
       "<div class=\"head_view\" data-cloud=\"newsview_article_head\" data-tiara-layer=\"article_head\">\n",
       "<h3 class=\"tit_view\" data-translation=\"true\">일론머스크 \"테슬라에서 넷플릭스·유튜브 즐길 날 온다\"</h3>\n",
       "<div class=\"info_view\"> <span class=\"txt_info\">이민우</span> <span class=\"txt_info\">입력 <span class=\"num_date\">2019. 7. 28. 16:58</span></span>\n",
       "</div>\n",
       "<div class=\"util_wrap\">\n",
       "<div class=\"util_view\">\n",
       "<div class=\"item_util\" data-tiara-action-name=\"헤드요약_클릭\"> <button class=\"btn_util btn_synop\" data-tiara=\"요약보기\" type=\"button\"> <span class=\"ico_view\">요약보기</span> </button>\n",
       "<div class=\"view_layer\" id=\"digestViewLayer\">\n",
       "<div class=\"inner_view_layer inner_synop_layer\">\n",
       "<div class=\"layer_head\"> <strong class=\"tit_layer\" data-translation=\"true\">자동요약</strong> <span class=\"info_layer\" data-translation=\"true\">기사 제목과 주요 문장을 기반으로 자동요약한 결과입니다.<br/> 전체 맥락을 이해하기 위해서는 본문 보기를 권장합니다.</span>\n",
       "</div>\n",
       "<div class=\"layer_body\" data-translation=\"true\">\n",
       "<p>일론 머스크 테슬라 최고경영자(CEO)가 자사 전기 자동차 모델에 넷플릭스와 유튜브 등 온라인동영상서비스(OTT)를 탑재할 것이라고 예고했다.</p>\n",
       "<p>단순히 자율 주행 전기차가 단순히 주행을 위한 정보를 알려주는 것을 넘어 각종 영상 콘텐츠를 즐기는 공간으로도 확장하겠다는 전략으로 풀이된다.</p>\n",
       "<p>테슬라 측은 규제당국이 자율주행에 대해 완전히 승인하면 차량이 움직일 때에도 승객이 동영상을 즐길 수 있을 것이라고 설명했다.</p>\n",
       "</div>\n",
       "<div class=\"layer_foot\"> <a class=\"link_close\" data-tiara=\"요약닫기\" href=\"#none\"> <span class=\"ico_view\">닫기</span> </a>\n",
       "</div>\n",
       "</div>\n",
       "</div>\n",
       "</div>\n",
       "<div class=\"item_util\" data-tiara-action-name=\"헤드음성_클릭\"> <button class=\"btn_util btn_tts\" data-tiara=\"음성버튼\" type=\"button\"> <span class=\"ico_view\">음성으로 듣기</span> </button>\n",
       "<div class=\"view_layer\" id=\"ttsViewLayer\">\n",
       "<div class=\"inner_view_layer inner_tts_layer\">\n",
       "<div class=\"layer_head\"> <strong class=\"tit_layer\">음성재생 설정</strong>\n",
       "</div>\n",
       "<div class=\"layer_body\">\n",
       "<ul class=\"list_tts\">\n",
       "<li> <input class=\"inp_tts\" id=\"inpMale\" name=\"inpGender\" type=\"radio\" value=\"Male\"/> <label class=\"lab_tts\" for=\"inpMale\"> <span class=\"ico_view\"></span>남성 </label> </li>\n",
       "<li> <input class=\"inp_tts\" id=\"inpFemale\" name=\"inpGender\" type=\"radio\" value=\"Female\"/> <label class=\"lab_tts\" for=\"inpFemale\"> <span class=\"ico_view\"></span>여성 </label> </li>\n",
       "</ul>\n",
       "<ul class=\"list_tts\">\n",
       "<li> <input class=\"inp_tts\" id=\"inpSlow\" name=\"inpSpeed\" type=\"radio\" value=\"slow\"/> <label class=\"lab_tts\" for=\"inpSlow\"> <span class=\"ico_view\"></span>느림 </label> </li>\n",
       "<li> <input class=\"inp_tts\" id=\"inpNormal\" name=\"inpSpeed\" type=\"radio\" value=\"normal\"/> <label class=\"lab_tts\" for=\"inpNormal\"> <span class=\"ico_view\"></span>보통 </label> </li>\n",
       "<li> <input class=\"inp_tts\" id=\"inpFast\" name=\"inpSpeed\" type=\"radio\" value=\"fast\"/> <label class=\"lab_tts\" for=\"inpFast\"> <span class=\"ico_view\"></span>빠름 </label> </li>\n",
       "</ul> <button class=\"btn_play\" data-tiara=\"음성_재생하기\" type=\"button\">음성 재생하기</button>\n",
       "</div>\n",
       "<div class=\"layer_foot\"> <a class=\"link_close\" data-tiara=\"음성_재생중지\" href=\"#none\"> <span class=\"ico_view\">닫기</span> </a>\n",
       "</div>\n",
       "</div>\n",
       "</div> <button class=\"btn_soundplay\" data-tiara=\"음성_재생중지\" type=\"button\"> <span class=\"ico_sound\"></span>음성 재생 <span class=\"ico_view ico_close\">중지</span> </button>\n",
       "<audio id=\"ttsPlayer\" preload=\"none\" style=\"display:none\"></audio>\n",
       "</div>\n",
       "<div class=\"item_util\" data-tiara-action-name=\"헤드번역_클릭\"> <button class=\"btn_util btn_translate\" data-tiara=\"번역설정\" id=\"btnTranslate\" type=\"button\"> <span class=\"ico_view\">번역 설정</span> </button>\n",
       "<div class=\"view_layer\" id=\"layerTranslate\">\n",
       "<div class=\"inner_view_layer inner_translate_layer\">\n",
       "<div class=\"layer_head\"> <strong class=\"tit_layer\">번역<em class=\"ico_view\">beta</em></strong> <span class=\"info_translate ico_view\">Translated by <a class=\"link_kakaoi\" href=\"https://kakao.ai/\">kaka i</a></span>\n",
       "</div>\n",
       "<div class=\"layer_body\">\n",
       "<ul class=\"list_lang\">\n",
       "<li> <button class=\"btn_lang btn_translate_target_lang\" data-tiara=\"한국어\" name=\"kr\" type=\"button\"> <strong class=\"tit_lang tit_selected\">한국어</strong> <span class=\"txt_lang\">-</span> </button> </li>\n",
       "<li> <button class=\"btn_lang btn_translate_target_lang\" data-tiara=\"영어\" name=\"en\" type=\"button\"> <strong class=\"tit_lang\">English</strong> <span class=\"txt_lang\">영어</span> </button> </li>\n",
       "<li> <button class=\"btn_lang btn_translate_target_lang\" data-tiara=\"일본어\" name=\"jp\" type=\"button\"> <strong class=\"tit_lang\">日本語</strong> <span class=\"txt_lang\">일본어</span> </button> </li>\n",
       "<li> <button class=\"btn_lang btn_translate_target_lang\" data-tiara=\"중국어\" name=\"cn\" type=\"button\"> <strong class=\"tit_lang\">简体中文</strong> <span class=\"txt_lang\">중국어</span> </button> </li>\n",
       "<li> <button class=\"btn_lang btn_translate_target_lang\" data-tiara=\"네덜란드어\" name=\"nl\" type=\"button\"> <strong class=\"tit_lang\">Nederlands</strong> <span class=\"txt_lang\">네델란드어</span> </button> </li>\n",
       "<li> <button class=\"btn_lang btn_translate_target_lang\" data-tiara=\"독일어\" name=\"de\" type=\"button\"> <strong class=\"tit_lang\">Deutsch</strong> <span class=\"txt_lang\">독일어</span> </button> </li>\n",
       "<li> <button class=\"btn_lang btn_translate_target_lang\" data-tiara=\"러시아어\" name=\"ru\" type=\"button\"> <strong class=\"tit_lang\">Русский</strong> <span class=\"txt_lang\">러시아어</span> </button> </li>\n",
       "<li> <button class=\"btn_lang btn_translate_target_lang\" data-tiara=\"말레이시아어\" name=\"ms\" type=\"button\"> <strong class=\"tit_lang\">Malaysia</strong> <span class=\"txt_lang\">말레이시아어</span> </button> </li>\n",
       "<li> <button class=\"btn_lang btn_translate_target_lang\" data-tiara=\"벵골어\" name=\"bn\" type=\"button\"> <strong class=\"tit_lang\">বাঙ্গোল ভাষা</strong> <span class=\"txt_lang\">벵골어</span> </button> </li>\n",
       "<li> <button class=\"btn_lang btn_translate_target_lang\" data-tiara=\"베트남어\" name=\"vi\" type=\"button\"> <strong class=\"tit_lang\">tiếng Việt</strong> <span class=\"txt_lang\">베트남어</span> </button> </li>\n",
       "<li> <button class=\"btn_lang btn_translate_target_lang\" data-tiara=\"스페인어\" name=\"es\" type=\"button\"> <strong class=\"tit_lang\">Español</strong> <span class=\"txt_lang\">스페인어</span> </button> </li>\n",
       "<li> <button class=\"btn_lang btn_translate_target_lang\" data-tiara=\"아랍어\" name=\"ar\" type=\"button\"> <strong class=\"tit_lang\">اللغة العربية</strong> <span class=\"txt_lang\">아랍어</span> </button> </li>\n",
       "<li> <button class=\"btn_lang btn_translate_target_lang\" data-tiara=\"이탈리아어\" name=\"it\" type=\"button\"> <strong class=\"tit_lang\">Italiano</strong> <span class=\"txt_lang\">이탈리아어</span> </button> </li>\n",
       "<li> <button class=\"btn_lang btn_translate_target_lang\" data-tiara=\"인도네시아어\" name=\"id\" type=\"button\"> <strong class=\"tit_lang\">bahasa Indonesia</strong> <span class=\"txt_lang\">인도네시아어</span> </button> </li>\n",
       "<li> <button class=\"btn_lang btn_translate_target_lang\" data-tiara=\"태국어\" name=\"th\" type=\"button\"> <strong class=\"tit_lang\">ภาษาไทย</strong> <span class=\"txt_lang\">태국어</span> </button> </li>\n",
       "<li> <button class=\"btn_lang btn_translate_target_lang\" data-tiara=\"터키어\" name=\"tr\" type=\"button\"> <strong class=\"tit_lang\">Türkçe</strong> <span class=\"txt_lang\">터키어</span> </button> </li>\n",
       "<li> <button class=\"btn_lang btn_translate_target_lang\" data-tiara=\"포르투갈어\" name=\"pt\" type=\"button\"> <strong class=\"tit_lang\">Português</strong> <span class=\"txt_lang\">포르투갈어</span> </button> </li>\n",
       "<li> <button class=\"btn_lang btn_translate_target_lang\" data-tiara=\"프랑스어\" name=\"fr\" type=\"button\"> <strong class=\"tit_lang\">Français</strong> <span class=\"txt_lang\">프랑스어</span> </button> </li>\n",
       "<li> <button class=\"btn_lang btn_translate_target_lang\" data-tiara=\"힌디어\" name=\"hi\" type=\"button\"> <strong class=\"tit_lang\">हिन्दी</strong> <span class=\"txt_lang\">힌디어</span> </button> </li>\n",
       "</ul>\n",
       "</div>\n",
       "<div class=\"layer_foot\"> <a class=\"link_close\" data-tiara=\"번역닫기\" href=\"#none\" id=\"btnTranslateClose\"> <span class=\"ico_view\">닫기</span> </a>\n",
       "</div>\n",
       "</div>\n",
       "</div>\n",
       "<div class=\"loading_layer\" id=\"layerTranslating\" style=\"display:none\">\n",
       "<div class=\"inner_loading_layer\"> <span class=\"ico_view ico_loading\"></span> <strong class=\"tit_translate\">번역중</strong> <span class=\"ico_view txt_translate\">Now in translation</span>\n",
       "</div>\n",
       "</div>\n",
       "</div>\n",
       "<div class=\"item_util\" data-tiara-action-name=\"헤드글씨크기_클릭\"> <button class=\"btn_util btn_font\" data-tiara=\"글씨크기_조절하기\" type=\"button\"> <span class=\"ico_view\">글씨크기 조절하기</span> </button>\n",
       "<div class=\"view_layer\">\n",
       "<div class=\"inner_view_layer inner_fs_layer\">\n",
       "<div class=\"layer_head\"> <strong class=\"tit_layer\">글자크기 설정</strong> <span class=\"info_layer\">파란원을 좌우로 움직이시면 글자크기가 변경 됩니다.</span>\n",
       "</div>\n",
       "<div class=\"layer_body\">\n",
       "<div class=\"set_fs\"> <span aria-hidden=\"true\" class=\"txt_fs txt_small\">가</span>\n",
       "<ul class=\"list_fs\">\n",
       "<li> <input checked=\"\" class=\"inp_fs\" id=\"inpFont1\" name=\"inpFont\" type=\"radio\" value=\"17\"/> <label class=\"lab_fs\" for=\"inpFont1\">매우 작은 폰트</label> </li>\n",
       "<li> <input class=\"inp_fs\" id=\"inpFont2\" name=\"inpFont\" type=\"radio\" value=\"18\"/> <label class=\"lab_fs\" for=\"inpFont2\">작은 폰트</label> </li>\n",
       "<li> <input class=\"inp_fs\" id=\"inpFont3\" name=\"inpFont\" type=\"radio\" value=\"19\"/> <label class=\"lab_fs\" for=\"inpFont3\">보통 폰트</label> </li>\n",
       "<li> <input class=\"inp_fs\" id=\"inpFont4\" name=\"inpFont\" type=\"radio\" value=\"21\"/> <label class=\"lab_fs\" for=\"inpFont4\">큰 폰트</label> </li>\n",
       "<li> <input class=\"inp_fs\" id=\"inpFont5\" name=\"inpFont\" type=\"radio\" value=\"23\"/> <label class=\"lab_fs\" for=\"inpFont5\">매우 큰 폰트</label> </li>\n",
       "</ul> <span aria-hidden=\"true\" class=\"txt_fs txt_big\">가</span>\n",
       "</div>\n",
       "<div class=\"set_view fs_type1\">\n",
       "<p>이 글자크기로 변경됩니다.</p>\n",
       "<p>(예시) 가장 빠른 뉴스가 있고 다양한 정보, 쌍방향 소통이 숨쉬는 다음뉴스를 만나보세요. 다음뉴스는 국내외 주요이슈와 실시간 속보, 문화생활 및 다양한 분야의 뉴스를 입체적으로 전달하고 있습니다.</p>\n",
       "</div>\n",
       "</div>\n",
       "<div class=\"layer_foot\"> <a class=\"link_close\" data-tiara=\"글씨크기_닫기\" href=\"#none\"> <span class=\"ico_view\">닫기</span> </a>\n",
       "</div>\n",
       "</div>\n",
       "</div>\n",
       "</div>\n",
       "<div class=\"item_util\"> <button class=\"btn_util btn_print\" data-tiara=\"인쇄하기\" data-tiara-action-name=\"헤드인쇄_클릭\" type=\"button\"> <span class=\"ico_view\">인쇄하기</span> </button>\n",
       "</div>\n",
       "</div>\n",
       "</div>\n",
       "</div>\n",
       "<div class=\"news_view fs_type1\" data-cloud=\"article_body\">\n",
       "<div id=\"layerTranslateNotice\" style=\"display:none;\"></div> <strong class=\"summary_view\" data-translation=\"true\">\"주행 중에도 넷플릭스·유튜브 감상 가능할 것\"<br/>자율주행 아직까지 안전 우려 남아..실현 시기는 미지수</strong>\n",
       "<div class=\"article_view\" data-tiara-action-name=\"본문이미지확대_클릭\" data-tiara-layer=\"article_body\" data-translation-body=\"true\">\n",
       "<section dmcf-sid=\"NkBWHdyrlY\">\n",
       "<figure class=\"figure_frm origin_fig\" dmcf-pid=\"N7s2biXYTL\" dmcf-ptype=\"figure\">\n",
       "<p class=\"link_figure\"><img alt=\"일론 머스크 테슬라 최고경영자(CEO) [이미지출처=로이터연합뉴스]\" class=\"thumb_g_article\" data-org-src=\"https://t1.daumcdn.net/news/201907/28/akn/20190728165813230vjsq.jpg\" data-org-width=\"550\" dmcf-mid=\"NBMY3ZZhN4\" dmcf-mtype=\"image\" height=\"auto\" src=\"https://img2.daumcdn.net/thumb/R658x0.q70/?fname=https://t1.daumcdn.net/news/201907/28/akn/20190728165813230vjsq.jpg\" width=\"658\"/></p>\n",
       "<figcaption class=\"txt_caption default_figure\">\n",
       "            일론 머스크 테슬라 최고경영자(CEO) [이미지출처=로이터연합뉴스]\n",
       "           </figcaption>\n",
       "</figure>\n",
       "<div dmcf-pid=\"NU9K9rfDgA\" dmcf-ptype=\"general\">\n",
       "<p>[아시아경제 이민우 기자] 일론 머스크 테슬라 최고경영자(CEO)가 자사 전기 자동차 모델에 넷플릭스와 유튜브 등 온라인동영상서비스(OTT)를 탑재할 것이라고 예고했다. 단순히 자율 주행 전기차가 단순히 주행을 위한 정보를 알려주는 것을 넘어 각종 영상 콘텐츠를 즐기는 공간으로도 확장하겠다는 전략으로 풀이된다.</p>\n",
       "<br/>\n",
       "<p>27일(현지시간) 더버지 등 주요 외신들에 따르면 머스크 CEO는 자신의 트위터를 통해 이 같은 계획을 밝혔다. 그는 \"자동차가 정차했을 때 넷플릭스와 유튜브를 감상할 수 있는 기능이 조만간 추가될 것\"이라며 \"편안한 좌석과 서라운드 사운드 오디오를 통해 영화관과 같은 느낌을 받을 수 있을 것\"이라고 강조했다.</p>\n",
       "</div>\n",
       "<figure class=\"figure_frm origin_fig\" dmcf-pid=\"NlqQhf4JmF\" dmcf-ptype=\"figure\">\n",
       "<p class=\"link_figure\"><img alt=\"(출처=일론 머스크 트위터 계정 캡쳐)\" class=\"thumb_g_article\" data-org-src=\"https://t1.daumcdn.net/news/201907/28/akn/20190728165813670hwxf.png\" data-org-width=\"550\" dmcf-mid=\"NRhnb5SRpx\" dmcf-mtype=\"image\" height=\"auto\" src=\"https://img1.daumcdn.net/thumb/R658x0.q70/?fname=https://t1.daumcdn.net/news/201907/28/akn/20190728165813670hwxf.png\" width=\"658\"/></p>\n",
       "<figcaption class=\"txt_caption default_figure\">\n",
       "            (출처=일론 머스크 트위터 계정 캡쳐)\n",
       "           </figcaption>\n",
       "</figure>\n",
       "<div dmcf-pid=\"NpkG4d9A6j\" dmcf-ptype=\"general\">\n",
       "<p>테슬라가 이처럼 콘텐츠 방면으로 확장하려 든 것은 이번이 처음이 아니다. 지난달 세계 최대 게임쇼 E3에서는 이미 운전자가 '폴아웃 쉘터'라는 게임을 할 수 있을 것이라고 발표한 바 있다. 이후에도 최근 게임업체 아타리사(社)의 자동차 경주 게임 ‘폴포지션’, 슈팅게임 ‘템페스트’, ‘미사일커맨드’ 등 고전 게임을 제공하기도 했다. 운전대로 게임을 조작하는 방식으로, 차가 주차돼 있을 경우에만 즐길 수 있다.</p>\n",
       "<br/>\n",
       "<p>이번 영상 콘텐츠는 주행 중에도 감상할 수 있도록 하는 방안을 고려하고 있다. 테슬라 측은 규제당국이 자율주행에 대해 완전히 승인하면 차량이 움직일 때에도 승객이 동영상을 즐길 수 있을 것이라고 설명했다.</p>\n",
       "<br/>\n",
       "<p>하지만 아직까지 자율주행차의 안전에 대한 우려는 완전히 걷혀지지 않은 상황이다. 지난 2017년 차량공유 서비스 우버의 자율주행 시범차량이 보행자와 충돌한 사고가 발생한 바 있다. 게다가 당시 시험 운전자는 디즈니의 동영상 스트리밍 서비스인 '훌루'를 이용하고 있던 것으로 밝혀졌다.</p>\n",
       "</div>\n",
       "<p dmcf-pid=\"NUOWg8Qxyd\" dmcf-ptype=\"general\">이민우 기자 letzwin@asiae.co.kr</p>\n",
       "</section>\n",
       "</div>\n",
       "<p class=\"\" data-translation=\"true\">Copyright © 아시아경제. 무단전재 및 재배포 금지.</p>\n",
       "</div>\n",
       "<div class=\"emotion_wrap\" data-cloud=\"newsview_alex_action_emotion\">\n",
       "<div class=\"emotion_tit\"> <strong class=\"tit_emotion\">이 기사에 대해 어떻게 생각하시나요?</strong>\n",
       "</div>\n",
       "<div class=\"emotion_list\" data-tiara-layer=\"alex_action_emotion\">\n",
       "<div class=\"alex-actions\" data-action-mode=\"REACTION\" data-client-id=\"26BXAvKny5WF5Z09lr5k77Y8\" data-item-key=\"20190728165812603\" data-message-channel=\"alex-action-reactions\" id=\"alex_action_emotion\">\n",
       "</div>\n",
       "</div>\n",
       "</div>\n",
       "<div class=\"viewrelate_wrap\" data-cloud=\"newsview_pc_related_news\">\n",
       "<div class=\"viewrelate_tit\"> <strong class=\"tit_viewrelate\">아시아경제에서 직접 확인하세요.</strong> <span class=\"txt_viewrelate\">해당 언론사로 이동합니다.</span>\n",
       "</div>\n",
       "<ul class=\"list_viewrelate\" data-tiara-action-kind=\"ClickContent\" data-tiara-action-name=\"본문아웃링크_클릭\" data-tiara-layer=\"media_related_news\" data-tiara-ordnum-layer=\"\">\n",
       "<li> <a class=\"link_txt\" data-tiara=\"리스트\" data-type=\"rss\" href=\"https://view.asiae.co.kr/article/2024041214304043574?utm_source=news.v.daum.net&amp;utm_medium=referral\" target=\"_blank\"> 일본 콘돔회사 직원, 중학교 교실서 콘돔을 들더니 - 아시아경제 </a> </li>\n",
       "<li> <a class=\"link_txt\" data-tiara=\"리스트\" data-type=\"rss\" href=\"https://view.asiae.co.kr/article/2024041215064742336?utm_source=news.v.daum.net&amp;utm_medium=referral\" target=\"_blank\"> 상주 자리 비우고 밥먹고 온 아내…실망한 남편은 이혼 언급까지 - 아시아경제 </a> </li>\n",
       "<li> <a class=\"link_txt\" data-tiara=\"리스트\" data-type=\"rss\" href=\"https://view.asiae.co.kr/article/2024041311504909383?utm_source=news.v.daum.net&amp;utm_medium=referral\" target=\"_blank\"> 273만원인데…코스트코에서 날개돋힌듯 팔린 '이 제품' - 아시아경제 </a> </li>\n",
       "<li> <a class=\"link_txt\" data-tiara=\"리스트\" data-type=\"rss\" href=\"https://view.asiae.co.kr/article/2024041117180177969?utm_source=news.v.daum.net&amp;utm_medium=referral\" target=\"_blank\"> 최홍만과 맞붙은 '열정맨'…200㎏ 외국인 천하장사 쓰러뜨린 '심부전'[일본人사이드] - 아시아경 </a> </li>\n",
       "<li> <a class=\"link_txt\" data-tiara=\"리스트\" data-type=\"rss\" href=\"https://view.asiae.co.kr/article/2024040513480901874?utm_source=news.v.daum.net&amp;utm_medium=referral\" target=\"_blank\"> 6000원 노가리에 시원한 생맥주 한잔…힙지로에 돌아온 터줏대감[을지로터리] - 아시아경제 </a> </li>\n",
       "<li> <a class=\"link_txt\" data-tiara=\"리스트\" data-type=\"rss\" href=\"https://view.asiae.co.kr/article/2024041213011671184?utm_source=news.v.daum.net&amp;utm_medium=referral\" target=\"_blank\"> '피,피,피' 비싼 제주 대신 동남아로 떠났다…손님 없는 韓 골프장 - 아시아경제 </a> </li>\n",
       "<li> <a class=\"link_txt\" data-tiara=\"리스트\" data-type=\"rss\" href=\"https://view.asiae.co.kr/article/2024041212331446632?utm_source=news.v.daum.net&amp;utm_medium=referral\" target=\"_blank\"> 가수 박보람, 지인과 모임 중 쓰러져 사망…소속사 \"마음 깊이 애도\"(종합) - 아시아경제 </a> </li>\n",
       "<li> <a class=\"link_txt\" data-tiara=\"리스트\" data-type=\"rss\" href=\"https://view.asiae.co.kr/article/2024041318193429004?utm_source=news.v.daum.net&amp;utm_medium=referral\" target=\"_blank\"> 박지원 \"尹, 국힘 탈당 후 이재명과 거국내각 구성해야\" - 아시아경제 </a> </li>\n",
       "<li> <a class=\"link_txt\" data-tiara=\"리스트\" data-type=\"rss\" href=\"https://view.asiae.co.kr/article/2024041208575938523?utm_source=news.v.daum.net&amp;utm_medium=referral\" target=\"_blank\"> \"결혼 앞둔 남친, 투자로 진 빚 2억 고백…결혼해도 될까요\" - 아시아경제 </a> </li>\n",
       "<li> <a class=\"link_txt\" data-tiara=\"리스트\" data-type=\"rss\" href=\"https://view.asiae.co.kr/article/2024040910202157990?utm_source=news.v.daum.net&amp;utm_medium=referral\" target=\"_blank\"> \"학생 나체 사진 막아라\"…전 세계 학교가 딥페이크 음란물과 전쟁중 - 아시아경제 </a> </li>\n",
       "</ul>\n",
       "</div>\n",
       "<div class=\"ad_wrap\" data-ab-bucket=\"\" data-ab-bucket-type=\"google\" data-cloud=\"pc_dynamic_article_bottom_ad\" id=\"pc_article_bottom_ad\" style=\"text-align: center;\">\n",
       "<ins class=\"adsbygoogle\" data-ad-client=\"ca-pub-1682288257759598\" data-ad-slot=\"8783624643\" data-adtest=\"off\" style=\"display:inline-block;width:728px;height:90px\"></ins>\n",
       "</div>\n",
       "</article>\n",
       "<div class=\"box_cluster box_news_post fold\" data-cloud=\"newsview_related_post\" id=\"related_post_by_news\" style=\"display:none;\"></div>\n",
       "<div class=\"ttalk_view\" data-cloud=\"newsview_pc_timetalk\" style=\"display:none;\">\n",
       "<div class=\"inner_ttalk\">\n",
       "<div class=\"ttalk_tit\"> <strong class=\"tit_ttalk\">타임톡<span class=\"ico_view ico_beta\">beta</span></strong> <span class=\"txt_info\"></span>\n",
       "</div>\n",
       "<p class=\"txt_ttalk\"> 이 뉴스에 대해 의견을 나눠보세요. <br/> 톡방 종료까지 <em class=\"num_ttalk\"><span class=\"txt_g\">00</span>:<span class=\"txt_g\">00</span>:<span class=\"txt_g\">00</span></em> 남았습니다. </p> <a class=\"link_ttalkgo\" data-tiara-action-kind=\"ClickContent\" data-tiara-action-name=\"타임톡\" data-tiara-layer=\"timetalk\" href=\"\"> <span class=\"ico_view ico_ttalk\">타임톡 </span>참여하기 </a>\n",
       "</div>\n",
       "</div>\n",
       "</div>\n",
       "<aside class=\"main-etc\" data-cloud-area=\"aside\">\n",
       "<div class=\"box_cluster box_ad\" data-ab-bucket=\"\" data-ab-bucket-type=\"google\" data-cloud=\"pc_dynamic_aside_top_ad\" id=\"pc_aside_top_ad\">\n",
       "<ins class=\"adsbygoogle\" data-ad-client=\"ca-pub-1682288257759598\" data-ad-slot=\"5767588220\" data-adtest=\"off\" style=\"display:inline-block;width:300px;height:250px\"></ins>\n",
       "</div>\n",
       "<div class=\"box_cluster box_search_keyword\" data-cloud=\"pc_news_related_query\" data-tiara-action-kind=\"ClickContent\" data-tiara-action-name=\"검색어_클릭\" data-tiara-layer=\"search_keyword\" id=\"news_related_query_comp\"></div>\n",
       "<div class=\"box_cluster box_news_recomm\" data-cloud=\"newsview_realtime_news\">\n",
       "<div class=\"box_tit\">\n",
       "<h3 class=\"tit_box\">이 시각 추천뉴스</h3>\n",
       "</div>\n",
       "<ul class=\"list_column\" data-tiara-action-kind=\"ClickContent\" data-tiara-action-name=\"하단추천리스트_클릭\" data-tiara-layer=\"toros_recommend_one_column\" data-tiara-ordnum-layer=\"\">\n",
       "<li class=\"item_toros\"></li>\n",
       "<li class=\"item_toros\"></li>\n",
       "<li class=\"item_ad\"></li>\n",
       "<li class=\"item_toros\"></li>\n",
       "<li class=\"item_toros\"></li>\n",
       "<li class=\"item_nachu\"></li>\n",
       "<li class=\"item_nachu\"></li>\n",
       "<li class=\"item_nachu\"></li>\n",
       "<li class=\"item_toros\"></li>\n",
       "<li class=\"item_nachu\"></li>\n",
       "<li class=\"item_ad\"></li>\n",
       "<li class=\"item_nachu\"></li>\n",
       "<li class=\"item_toros\"></li>\n",
       "<li class=\"item_nachu\"></li>\n",
       "<li class=\"item_nachu\"></li>\n",
       "<li class=\"item_toros\"></li>\n",
       "<li class=\"item_nachu\"></li>\n",
       "<li class=\"item_toros\"></li>\n",
       "<li class=\"item_toros\"></li>\n",
       "<li class=\"item_nachu\"></li>\n",
       "<li class=\"item_toros\"></li>\n",
       "</ul>\n",
       "</div>\n",
       "<div class=\"box_cluster box_news_pick\" data-cloud=\"newsview_special_series\" id=\"special_series_list\">\n",
       "</div>\n",
       "<div class=\"box_cluster box_news_press\" data-cloud=\"newsview_similar_news\">\n",
       "<div class=\"box_tit\">\n",
       "<h3 class=\"tit_box\">이 주제에 주목한 다른 언론사 뉴스</h3>\n",
       "</div>\n",
       "<ul class=\"list_column\" data-tiara-action-kind=\"ClickContent\" data-tiara-action-name=\"하단주제별뉴스_클릭\" data-tiara-layer=\"notable_news\" data-tiara-ordnum-layer=\"\">\n",
       "</ul>\n",
       "</div>\n",
       "<div class=\"box_cluster box_news_rank\" data-cloud=\"newsview_pc_ranking_news\" id=\"rankingNewsContainer\" style=\"display: none;\">\n",
       "<div>\n",
       "</div>\n",
       "</div>\n",
       "<div class=\"box_cluster box_news_keyword\" data-cloud=\"newsview_pc_keyword_news\" data-tiara-action-kind=\"ClickContent\" data-tiara-action-name=\"관련키워드_클릭\" data-tiara-layer=\"related_keyword\" id=\"keyword_news_list\"></div>\n",
       "<div class=\"box_cluster box_shortcut\" data-cloud=\"service_direct_link_v2\" data-tiara-action-kind=\"ClickContent\" data-tiara-action-name=\"서비스바로가기_클릭\" data-tiara-layer=\"service_directlink\">\n",
       "<div class=\"box_tit\">\n",
       "<h3 class=\"tit_box\">서비스 바로가기</h3>\n",
       "</div>\n",
       "<ul class=\"tab_shortcut\" id=\"serviceDirect\" role=\"tablist\">\n",
       "<li role=\"presentation\"> <a class=\"link_tab\" data-tiara=\"뉴스\" role=\"tab\">뉴스</a></li>\n",
       "<li role=\"presentation\"> <a class=\"link_tab\" data-tiara=\"연예\" role=\"tab\">연예</a> </li>\n",
       "<li role=\"presentation\"> <a class=\"link_tab\" data-tiara=\"스포츠\" role=\"tab\">스포츠</a> </li>\n",
       "</ul>\n",
       "<div>\n",
       "<div class=\"tabcont_service\" style=\"display: none\"> <strong class=\"screen_out\">뉴스</strong>\n",
       "<ul class=\"list_linkservice\" data-tiara=\"뉴스\">\n",
       "<li><a class=\"link_linkservice\" href=\"//news.daum.net\">뉴스 홈</a></li>\n",
       "<li><a class=\"link_linkservice\" href=\"//news.daum.net/society\">사회</a></li>\n",
       "<li><a class=\"link_linkservice\" href=\"//news.daum.net/politics\">정치</a></li>\n",
       "<li><a class=\"link_linkservice\" href=\"//news.daum.net/economic\">경제</a></li>\n",
       "<li><a class=\"link_linkservice\" href=\"//news.daum.net/foreign\">국제</a></li>\n",
       "<li><a class=\"link_linkservice\" href=\"//news.daum.net/culture\">문화</a></li>\n",
       "<li><a class=\"link_linkservice\" href=\"//news.daum.net/digital\">IT</a></li>\n",
       "<li><a class=\"link_linkservice\" href=\"//news.daum.net/series\">연재</a></li>\n",
       "<li><a class=\"link_linkservice\" href=\"//news.daum.net/photo\">포토</a></li>\n",
       "<li><a class=\"link_linkservice\" href=\"//news.daum.net/info/correct\">정정보도</a></li>\n",
       "<li><a class=\"link_linkservice\" href=\"//pf.kakao.com/_WlSxbu\">뉴스봇</a></li>\n",
       "<li><a class=\"link_linkservice\" href=\"//focus.daum.net/ch/news/factcheck\">팩트체크</a></li>\n",
       "</ul>\n",
       "</div>\n",
       "<div class=\"tabcont_service\" style=\"display: none\"> <strong class=\"screen_out\">연예</strong>\n",
       "<ul class=\"list_linkservice\" data-tiara=\"연예\">\n",
       "<li><a class=\"link_linkservice\" href=\"//entertain.daum.net\">연예 홈</a></li>\n",
       "<li><a class=\"link_linkservice\" href=\"//entertain.daum.net/news\">최신뉴스</a></li>\n",
       "<li><a class=\"link_linkservice\" href=\"//entertain.daum.net/tv\">TV</a></li>\n",
       "<li><a class=\"link_linkservice\" href=\"//entertain.daum.net/photo\">포토</a></li>\n",
       "<li><a class=\"link_linkservice\" href=\"//entertain.daum.net/ranking/popular\">많이 본 뉴스</a></li>\n",
       "<li><a class=\"link_linkservice\" href=\"//entertain.daum.net/ranking/keyword\">TOP 키워드</a></li>\n",
       "<li><a class=\"link_linkservice\" href=\"//entertain.daum.net/news/series\">연재</a></li>\n",
       "<li><a class=\"link_linkservice\" href=\"//entertain.daum.net/poll\">투표</a></li>\n",
       "<li><a class=\"link_linkservice\" href=\"//entertain.daum.net/news/movie\">영화</a></li>\n",
       "</ul>\n",
       "</div>\n",
       "<div class=\"tabcont_service\" style=\"display: none\"> <strong class=\"screen_out\">스포츠</strong>\n",
       "<ul class=\"list_linkservice\" data-tiara=\"스포츠\">\n",
       "<li><a class=\"link_linkservice\" href=\"//sports.daum.net/\">스포츠 홈</a></li>\n",
       "<li><a class=\"link_linkservice\" href=\"//sports.daum.net/soccer/\">축구</a></li>\n",
       "<li><a class=\"link_linkservice\" href=\"//sports.daum.net/worldsoccer/\">해외축구</a></li>\n",
       "<li><a class=\"link_linkservice\" href=\"//sports.daum.net/baseball/\">야구</a></li>\n",
       "<li><a class=\"link_linkservice\" href=\"//sports.daum.net/worldbaseball/\">해외야구</a></li>\n",
       "<li><a class=\"link_linkservice\" href=\"//sports.daum.net/golf/\">골프</a></li>\n",
       "<li><a class=\"link_linkservice\" href=\"//sports.daum.net/basketball/\">농구</a></li>\n",
       "<li><a class=\"link_linkservice\" href=\"//sports.daum.net/volleyball/\">배구</a></li>\n",
       "<li><a class=\"link_linkservice\" href=\"//sports.daum.net/general/\">일반</a></li>\n",
       "<li><a class=\"link_linkservice\" href=\"//sports.daum.net/esports/\">e-스포츠</a></li>\n",
       "<li><a class=\"link_linkservice\" href=\"//sports.daum.net/cartoon/\">카툰</a></li>\n",
       "<li><a class=\"link_linkservice\" href=\"//sports.daum.net/video/\">영상 홈</a></li>\n",
       "</ul>\n",
       "</div>\n",
       "</div>\n",
       "</div>\n",
       "<div class=\"box_cluster box_notice\" data-cloud=\"newsview_service_notice\" data-tiara-action-name=\"공지사항_클릭\" data-tiara-layer=\"notice\" id=\"service_notice\"></div>\n",
       "<div class=\"box_cluster box_ad\" data-ab-bucket=\"\" data-ab-bucket-type=\"google\" data-cloud=\"pc_dynamic_aside_bottom_ad\" id=\"pc_aside_bottom_ad\">\n",
       "<ins class=\"adsbygoogle\" data-ad-client=\"ca-pub-1682288257759598\" data-ad-slot=\"8419169270\" data-adtest=\"off\" style=\"display:inline-block;width:300px;height:250px\"></ins>\n",
       "</div>\n",
       "</aside>\n",
       "</section>\n",
       "</main>\n",
       "<footer class=\"doc-footer\" data-cloud-area=\"footer\" id=\"kakaoFoot\">\n",
       "<div class=\"inner_foot\" data-cloud=\"newsview_pc_footer\" data-tiara-action-name=\"푸터_클릭\" data-tiara-layer=\"footer\">\n",
       "<div class=\"direct_link\">\n",
       "<h2 class=\"tit_direct\">바로가기</h2>\n",
       "<div class=\"item_bundle\"> <a class=\"link_txt\" href=\"https://news.daum.net/\">뉴스홈</a> <a class=\"link_txt\" href=\"https://news.daum.net/society/\">사회</a> <a class=\"link_txt\" href=\"https://news.daum.net/politics/\">정치</a> <a class=\"link_txt\" href=\"https://news.daum.net/economic/\">경제</a> <a class=\"link_txt\" href=\"https://news.daum.net/foreign/\">국제</a> <a class=\"link_txt\" href=\"https://news.daum.net/culture/\">문화</a> <a class=\"link_txt\" href=\"https://news.daum.net/digital/\">IT</a> <a class=\"link_txt\" href=\"https://news.daum.net/photo/\">포토</a>\n",
       "</div>\n",
       "<div class=\"item_bundle\"> <a class=\"link_txt\" href=\"https://news.daum.net/cp\">제휴 언론사</a>\n",
       "</div>\n",
       "<div class=\"item_bundle\"> <a class=\"link_txt\" href=\"https://news.daum.net/newsbox\">배열이력</a>\n",
       "</div>\n",
       "<div class=\"item_bundle\"> <a class=\"link_txt\" href=\"https://news.daum.net/breakingnews\">전체뉴스</a> <a class=\"link_txt\" href=\"https://news.daum.net/series\">연재</a> <a class=\"link_txt\" href=\"https://focus.daum.net/ch/news/factcheck\">팩트체크</a>\n",
       "</div> <button class=\"btn_fold\" type=\"button\"> <span class=\"ico_view\">바로가기 링크 더보기/접기</span> </button>\n",
       "</div>\n",
       "<div class=\"footer_service\">\n",
       "<h2 class=\"screen_out\">서비스 이용정보</h2>\n",
       "<div class=\"footer_link\"> <a class=\"link_info #info_daumnews\" href=\"//news.daum.net/info/intro\">다음뉴스 소개</a> <span class=\"txt_dot\"> ・ </span> <a class=\"link_info #notice\" href=\"//news.daum.net/notice\">공지사항</a> <span class=\"txt_dot\"> ・ </span> <a class=\"link_info #bbsrule\" href=\"//news.daum.net/info/bbsrule\">게시물 운영원칙</a> <span class=\"txt_dot\"> ・ </span> <a class=\"link_info #policy\" href=\"//policy.daum.net/info/info\">서비스 약관/정책</a> <span class=\"txt_dot\"> ・ </span> <a class=\"link_info #harmony\" href=\"//with.kakao.com/media\">뉴스제휴</a> <span class=\"txt_dot\"> ・ </span> <a class=\"link_info #adinfo\" href=\"//business.kakao.com\">비즈니스</a> <span class=\"txt_dot\"> ・ </span> <a class=\"link_info #redbell\" href=\"//cs.daum.net/redbell/top.html\">권리침해신고</a> <span class=\"txt_dot\"> ・ </span> <a class=\"link_info #consumer\" href=\"//cs.daum.net/faq/63.html\">다음뉴스 고객센터</a>\n",
       "</div>\n",
       "<div class=\"footer_link\"> <a class=\"link_info #newscenter\" href=\"//news.daum.net/info/newscenter24\">24시간 뉴스센터</a> <span class=\"txt_dot\"> ・ </span> <a class=\"link_info #edit\" href=\"//news.daum.net/info/edit\">서비스원칙</a> <span class=\"txt_dot\"> ・ </span> <a class=\"link_info #correct\" href=\"//news.daum.net/info/correct\">고침기사, 정정・반론・추후보도 모음</a> <span class=\"txt_dot\"> ・ </span> <span class=\"link_info\">기사배열책임자 : 황유지</span> <span class=\"txt_dot\"> ・ </span> <span class=\"link_info\">청소년보호책임자 : 손성희</span>\n",
       "</div>\n",
       "</div>\n",
       "<div class=\"info_copyright\"> <em class=\"txt_warn\">위 내용에 대한 저작권 및 법적 책임은 자료제공사 또는 <br/>글쓴이에 있으며, Kakao의 입장과 다를 수 있습니다.</em> <small class=\"txt_copyright\">Copyright © <a class=\"link_kakao\" href=\"https://www.kakaocorp.com\">Kakao Corp.</a> All rights reserved.</small>\n",
       "</div>\n",
       "</div>\n",
       "</footer>\n",
       "</div>\n",
       "<div data-cloud-area=\"util\">\n",
       "</div>\n",
       "<script src=\"//t1.daumcdn.net/harmony_static/cloud/2024/01/03/vendor.7570de936b1d74ede729.js\"></script>\n",
       "<script src=\"//t1.daumcdn.net/harmony_static/cloud/2024/01/03/common.4e81a0796222ba0f0c7e.js\"></script>\n",
       "<script src=\"//t1.daumcdn.net/kas/static/ba.min.js\"></script>\n",
       "<script src=\"//t1.daumcdn.net/kas/static/na.min.js\"></script>\n",
       "<script src=\"//m1.daumcdn.net/svc/original/U03/cssjs/userAgent/userAgent-1.0.12.min.js\"></script>\n",
       "<script async=\"\" crossorigin=\"anonymous\" src=\"https://pagead2.googlesyndication.com/pagead/js/adsbygoogle.js?client=ca-pub-1682288257759598\"></script>\n",
       "<script src=\"https://t1.daumcdn.net/cssjs/jquery/jquery-1.9.0.min.js\"></script>\n",
       "<script src=\"https://search1.daumcdn.net/search/suggest_pc/suggest-1.2.16.min.js\"></script>\n",
       "<script src=\"//t1.daumcdn.net/daumtop_deco/socialshare/socialshare_pc-2.5.1.js\"></script>\n",
       "<script>\"use strict\";!(function(){var e=document.getElementById('daumSearchLayer');function t(){var e=document.getElementById('suggestList'),t=null==e?void 0:e.querySelectorAll('li');0===a.value.length&&e?e.parentNode.removeChild(e):t&&0<t.length?u.classList.add('sgt_on'):u.classList.remove('sgt_on')}new suggest.Suggest(e,{inputEl:'qVal',suggestBoxEl:'suggestBox',autoFocus:'NORMAL',suggestLimit:10,isReverse:!1,searchURL:'https://search.daum.net/search',APIServer:{host:'//dapi.kakao.com/suggest/v2/pc.json',apiType:suggest.Suggest.APITYPE.DAPISUGGEST,appkey:'d7022f6ca2a04430ce1b97b922da58e8',queries:{mod:'json',code:'utf_in_out'}}}).on('click-item',function(){var e=document.getElementById('daumSearchForm');e.querySelector(\"input[name='DA']\").value='23B',e.submit()});var n,s,l,a=document.getElementById('qVal'),u=document.getElementById('daumSearchLayer');a&&u&&(a.addEventListener?(a.addEventListener('focus',function(e){e&&e.preventDefault(),u.classList.add('search_on'),t()}),a.addEventListener('blur',function(e){e&&e.preventDefault(),0===a.value.length&&u.classList.remove('search_on')}),[\"keyup\",\"keydown\",\"cut\",\"paste\"].forEach(function(e){a.addEventListener(e,function(){var e;(e=document.getElementById('daumBtnReset'))&&(e.style.display=0===a.value.length?\"\":\"inline-block\",e.onclick=function(){a.value='',e.style.display=''}),t()})})):(a.attachEvent('onfocus',function(e){e&&(e.preventDefault?e.preventDefault():e.returnValue=!1),0<=a.value.length&&(e=(e=u.getAttribute('class')).includes('search_on')?e:\"\".concat(e,\" search_on\"),u.setAttribute('class',e))}),a.attachEvent('onblur',function(e){e&&(e.preventDefault?e.preventDefault():e.returnValue=!1),0===a.value.length&&(e=u.getAttribute('class'),u.setAttribute('class',e.replace('search_on','')))}),[\"keyup\",\"keydown\",\"cut\",\"paste\"].forEach(function(e){a.attachEvent(e,function(e){var t=u.getAttribute('class'),n=document.querySelectorAll('#suggestBox ul > li');n&&0<n.length?(n=t.includes('sgt_on')?t:\"\".concat(t,\" sgt_on\"),u.setAttribute('class',n)):u.setAttribute('class',t.replace('sgt_on',''))})})),n=document.querySelector('.user_service .link_search'),s=document.querySelector('.user_service .link_closed'),l=document.querySelector('.util_socialchare'),n.addEventListener(\"click\",function(e){e.preventDefault(),u.style.display='block',s.style.display='inline',n.style.display='none',l.style.display='none'}),s.addEventListener(\"click\",function(e){e.preventDefault(),u.style.display='none',s.style.display='none',n.style.display='',l.style.display=''}))})(jQuery);</script>\n",
       "<script id=\"suggest-list-template\" type=\"text/html\">\n",
       "    <div class=\"baseBox\">\n",
       "        <h3 class=\"screen_out\">검색어 자동완성 목록</h3>\n",
       "        <ul id=\"suggestList\" class=\"list_suggest\" data-bind=\"foreach: $data.items\">\n",
       "            <li data-bind=\"\n",
       "                click: function() {\n",
       "                    $root.keywordInput.setSelectedQuery($data.item);\n",
       "                    $root.forceFormSubmit();\n",
       "                },\n",
       "                event: {\n",
       "                    mouseover: function () {\n",
       "                        $root.suggestList.mouseOverItem($data)\n",
       "                    }\n",
       "                },\n",
       "                mouseoverBubble: false,\n",
       "                css: { on: isActivated() }\"\n",
       "            >\n",
       "                <a href=\"#none\" class=\"item bg link_suggest\" data-bind=\"html: highlight()\"></a>\n",
       "            </li>\n",
       "        </ul>\n",
       "    </div>\n",
       "</script>\n",
       "<script>\"use strict\";document.addEventListener('DOMContentLoaded',function(){var e,a,t=document.getElementById('rSocialShareButton2'),n=document.getElementById('rSocialShareLayerContainer2'),o=\"https://v.daum.net/v/\".concat('20190728165812603'||'NHT9NtZWBe');new socialshareRenewal.Main(t,{moreViewContainer:n,action:'click',link:o,prefix:(e='일론머스크 &quot;테슬라에서 넷플릭스·유튜브 즐길 날 온다&quot;',(a=document.createElement('div')).innerHTML=e,a.textContent),service_name:'언론사 뷰',kakaoAPI:{appkey:'53e566aa17534bc816eb1b5d8f7415ee',kakaoLinkData:{shareType:'sendScrap',shareData:{requestUrl:\"\".concat(o,\"?f=p\"),templateId:7952,installTalk:!0,templateArgs:{'${EncodingUrl}':encodeURIComponent(\"\".concat(o)),'${webUrl}':\"\".concat(o,\"?f=p\"),'${mobileWebUrl}':\"\".concat(o,\"?f=m\")}}}},isDarkMode:window.matchMedia('(prefers-color-scheme: dark)').matches})});</script>\n",
       "<script>\"use strict\";!(function(){var e=document.querySelector('.doc-header'),n=document.querySelector('.container-doc'),o=null;window.addEventListener('scroll',function(){o&&window.cancelAnimationFrame(o),o=window.requestAnimationFrame(function(){(window.scrollY||window.pageYOffset)>e.offsetHeight?n.classList.add('head_fixed'):n.classList.remove('head_fixed')})})})();</script>\n",
       "<script>\"use strict\";!(function(){var e,n=document.getElementById('digestViewLayer');n&&(null!==(e=document.querySelector('.btn_synop'))&&void 0!==e&&e.addEventListener('click',function(){n.style.display='block'}),null!==(e=n.querySelector('.link_close'))&&void 0!==e&&e.addEventListener('click',function(e){e.preventDefault(),n.style.display='none'}))})();</script>\n",
       "<script>\"use strict\";!(function(){var e,n,t,a,c,l,o=\"VIEW_TTS\",s={slow_Male:\"http://k-v1.kakaocdn.net/dn/bTYhQf/btqw7dnmMCv/hUbVhtobk3GbFXFCegkk31/original.m4a\",normal_Male:\"http://k-v1.kakaocdn.net/dn/4CTkI/btqw7QSKJ4L/RBxJg5cqNbQyPSQIjMOUT1/original.m4a\",fast_Male:\"http://k-v1.kakaocdn.net/dn/g8O5D/btqw4ocn8Y7/tD8KH19rXvKQXYWbQ5gdr0/original.m4a\",slow_Female:\"http://k-v1.kakaocdn.net/dn/dZVpXE/btqw8AWdkJO/kiq1mIqCrBEVEX22P6YhSK/original.m4a\",normal_Female:\"http://k-v1.kakaocdn.net/dn/ETPxe/btqw6nRmjWq/Yni5zaUkvyxurIIhtFBLS1/original.m4a\",fast_Female:\"http://k-v1.kakaocdn.net/dn/03ztL/btqw7cIJy8D/D2U1Q1f3wdQOQXXUNJMljk/original.m4a\"},d=document.querySelector('.btn_tts'),i=document.getElementById('ttsViewLayer');d&&i&&(c=d.parentElement,e=i.querySelector('.link_close'),d.addEventListener('click',function(){i.style.display='block'}),e.addEventListener('click',function(e){e.preventDefault(),i.style.display='none'}),(n=c.querySelector('#ttsPlayer'))&&(document.querySelectorAll('.inp_tts').forEach(function(e){return e.addEventListener('change',function(){var e=i.querySelector('input[name=inpSpeed]:checked'),t=i.querySelector('input[name=inpGender]:checked');e&&t&&(t=\"\".concat(e.value,\"_\").concat(t.value),n.setAttribute('src',s[t]),_Cookies.set(o,'',{domain:'.v.daum.net',expires:-1}),_Cookies.set(o,t,{domain:'.v.daum.net',expires:365}))})}),c=i.querySelector('.btn_play'),t=document.querySelector('.btn_soundplay'),c&&t&&(c.addEventListener('click',function(){i.style.display='none',\"false\"==\"true\"&&(document.body.style.overflow='visible'),d.disabled=!0,t.className+=' play_on',n.play()}),t.addEventListener('click',function(){n.pause(),n.currentTime=0,t.classList.remove('play_on'),d.disabled=!1,d.classList.remove('on')}),n.addEventListener('ended',function(){t.classList.remove('play_on'),d.disabled=!1}),c=(c=_Cookies.get(o))?(a='undefined'===(l=c.split('_'))[0]?'normal':l[0],'undefined'===l[1]?'Male':l[1]):(a='normal','Male'),(l=document.getElementById(\"inp\".concat(a.charAt(0).toUpperCase()).concat(a.substring(1))))&&(l.checked=\"checked\"),(l=document.getElementById(\"inp\".concat(c)))&&(l.checked=\"checked\"),n.setAttribute('src',s[\"\".concat(a,\"_\").concat(c)]))))})();</script>\n",
       "<script>\"use strict\";!(function(){var n,s,a,l=document.getElementById('btnTranslate'),t=document.getElementById('btnTranslateClose'),e=document.querySelectorAll('.btn_translate_target_lang'),i=document.getElementById('layerTranslate'),r=document.getElementById('layerTranslating'),c=document.getElementById('layerTranslateNotice');i&&r&&(n={en:'<span class=\"inner_status\"><p class=\"txt_status\">The copyright belongs to the original writer of the content, and there may be errors in machine translation results.</p></span>',cn:'<span class=\"inner_status\"><p class=\"txt_status\">版权归内容原作者所有。机器翻译结果可能存在错误。</p></span>',jp:'<span class=\"inner_status\"><p class=\"txt_status\">原文の著作権は原著著作者にあり、機械翻訳の結果にエラーが含まれることがあります。</p></span>',id:'<span class=\"inner_status\"><p class=\"txt_status\">Hak cipta milik penulis asli dari konten, dan mungkin ditemukan kesalahan dalam hasil terjemahan mesin.</p></span>',vi:'<span class=\"inner_status\"><p class=\"txt_status\">Bản quyền thuộc về tác giả gốc của nội dung và có thể có lỗi trong kết quả dịch bằng máy.</p></span>'},s=function(e){setTimeout(function(){var t;i.style.display='none',r.style.display='none',\"false\"==\"true\"&&(document.body.style.overflow='visible'),c&&(e&&'kr'===e.targetLang?(c.classList.remove('status_view'),c.style.display='none',c.innerHTML='',null!==(t=document.getElementById('kakaoWrap'))&&void 0!==t&&t.classList.remove('en')):(c.classList.add('status_view'),c.style.display='block',c.innerHTML=n.hasOwnProperty(e.targetLang)?n[e.targetLang]:n['en'],['cn, jp'].includes(e.targetLang)||null!==(t=document.getElementById('kakaoWrap'))&&void 0!==t&&t.classList.add('en')),l.classList.remove('on'))},500)},a=function(){s()},null!=l&&l.addEventListener('click',function(){i.style.display='block'}),null!=t&&t.addEventListener('click',function(t){t.preventDefault(),i.style.display='none'}),null!=e&&e.forEach(function(t){t.addEventListener('click',function(t){var e=t.currentTarget.name;i.querySelectorAll('.tit_lang').forEach(function(t){return t.classList.remove('tit_selected')}),null!==(t=this.querySelector('.tit_lang'))&&void 0!==t&&t.classList.add('tit_selected'),r.style.display='block',HarmonyTranslator.translate(\"kr\",e,s,a)})}))})();</script>\n",
       "<script>\"use strict\";!(function(){var e,t,n,i=(t=!(e=['inpFont1','inpFont2','inpFont3','inpFont4','inpFont5']),n=[],function(e){var t,n,i,o,r=c();if(r){for(o in r){if(!(r[o].x<e)){if(r[o].x>e){n=r[o];break}i=r[o];break}t=r[o]}return(i||(t&&(!n||n.x-e>e-t.x)?t:n)).element}});function c(){return t&&n[0].x==n[0].element.getBoundingClientRect().x?n:(n=(function(e){var n=[];if(!e.some(function(e){var t=document.getElementById(e).getBoundingClientRect();return!(0<t.x)||(n.push({id:e,element:document.getElementById(e),x:t.x}),!1)}))return n.sort(function(e,t){return e.x<t.x?-1:e.x>t.x?1:0})})(e))?(t=!0,n):void 0}var o=document.querySelector('.btn_font');if(o){var r=o.parentElement.querySelector('.view_layer');if(r){var s,a=r.querySelector('.link_close');o.addEventListener('click',function(){r.style.display='block'}),null!=a&&a.addEventListener('click',function(e){e.preventDefault(),r.style.display='none'}),null!==(a=r.querySelector('.list_fs'))&&void 0!==a&&a.addEventListener('touchmove',function(e){e=e.touches[0].clientX,e=i(e);e&&s!=e&&(s=e).click()});for(var u=['mobile_font_size','GS_font_size'],l='font_size_type',f=r.querySelector('.set_view'),d=document.querySelector('.news_view'),v=r.querySelectorAll('.inp_fs'),m=function(){return v.forEach(function(e){return e.removeAttribute('checked')})},p=function(e,t){_Cookies.set(e,'',{domain:'.v.daum.net',expires:-1}),_Cookies.set(e,t,{domain:'.v.daum.net',expires:365})},_=0;_<v.length;_++)!(function(e){e+1=='1'?v[e].setAttribute('checked',''):v[e].removeAttribute('checked'),v[e].addEventListener('change',function(){var t=this;m(),this.setAttribute('checked',''),f.className=\"set_view fs_type\".concat(e+1),d.className=\"news_view fs_type\".concat(e+1),u.forEach(function(e){return p(e,t.value)}),p(l,e+1)})})(_);window.addEventListener(\"pageshow\",function(e){var t;(e.persisted||window.performance&&2===window.performance.navigation.type)&&(t=_Cookies.get(l)||1,isNaN(Number(t))||t<1||v.length<t||(m(),v[t-1].setAttribute('checked',''),f.className=\"set_view fs_type\".concat(t),d.className=\"news_view fs_type\".concat(t)))})}}})();</script>\n",
       "<script>\"use strict\";document.body.querySelector(\".btn_print\").parentNode.addEventListener(\"click\",function(e){e.preventDefault(),window.open('https://v.daum.net/v/20190728165812603?s=print_news','newsPrint','width=750,height=550,scrollbars=yes')});</script>\n",
       "<script>\"use strict\";document.querySelectorAll('.head_view .item_util').forEach(function(e){var t,r=e.querySelector('.btn_util');null!=r&&(r.addEventListener('click',function(){r.classList.add('on'),\"false\"==\"true\"&&(document.body.style.overflow='hidden');var t=e.querySelector('.view_layer');Array.from(document.querySelectorAll('.head_view .item_util .btn_util')).filter(function(e){return e!=r}).forEach(function(e){return e.classList.remove('on')}),Array.from(document.querySelectorAll('.head_view .item_util .view_layer')).filter(function(e){return e!=t}).forEach(function(e){return e.style.display='none'})}),null!==(t=e.querySelector('.view_layer .link_close'))&&void 0!==t&&t.addEventListener('click',function(){r.classList.remove('on'),\"false\"==\"true\"&&(document.body.style.overflow='visible')}))});</script>\n",
       "<script>\"use strict\";!(function(){var d,o,c,i,t,e,r,l,s,u=document.querySelector('section[dmcf-sid]');function g(t){return e=t,n=['TABLE','FIGURE','IMG','IFRAME','VIDEO','AUDIO'],Array.prototype.find.call(e.querySelectorAll('*'),function(e){return n.find(function(t){return t===e.tagName})})?'media':'general'===t.getAttribute('dmcf-ptype')?'text':'other';var e,n}function f(){var t=Array.prototype.map.call(document.querySelectorAll('section[dmcf-sid] [dmcf-pid]'),function(t,e){return{element:t,index:e,type:g(t),height:(function(t,e){if(!e)return t.offsetHeight;var n=window.getComputedStyle(t),e=parseInt(n.marginTop),n=parseInt(n.marginBottom);return t.offsetHeight+e+n})(t,!0)}}),n=0;t.forEach(function(t,e){t.top=n,n+=t.height});var a=0;return t.slice().reverse().forEach(function(t,e){t.bottom=a,a+=t.height}),t}!u||u.offsetHeight<600||0!=(d=(function(){var n=f(),t=n.reduce(function(t,e){return'media'===e.type||(t[t.length-1].push(e),e.index<n.length-1&&'media'===n[e.index+1].type&&t.push([])),t},[[]]).filter(function(t){return 1<t.length}),a=240,d=240,i='text',o=Math.max(.7*(document.documentElement.clientHeight||document.body.clientHeight),600),c=[];return t.forEach(function(t){var e=0,n=t[0].height+t[0].bottom-t[t.length-1].bottom;t.forEach(function(t){e+=t.height,n-=t.height,t.type===i&&a<=e&&d<=n&&(0===c.length||0<c.length&&c[c.length-1].bottom-t.bottom>=o)&&(c.push(t),e=0)})}),c})()).length&&(o=function(t,e,n){var a=\"\"==\"true\"?\"pc_article_middle_ad_\".concat(e+1):'',e=document.createElement(\"div\");return e.classList.add(\"ad_body2\"),e.innerHTML=\"\\n            <ins\\n                class=\\\"kakao_ad_area\\\"\\n                data-ad-unit=\\\"\".concat(t,\"\\\"\\n                data-ad-param-cp=\\\"\").concat(\"90_pc_media_news\",\"\\\"\\n                data-ad-param-channel=\\\"\").concat(\"harmony\",\"\\\"\\n                data-ad-onfail=\\\"removeParentElement\\\"\\n                data-ad-width=\\\"100%\\\"\\n                data-ad-onload=\\\"sendAbBucketLog\\\"\\n                data-ab-bucket=\\\"\").concat(a,\"\\\"\\n                data-ab-bucket-type=\\\"\").concat(n,\"\\\"\\n            />\"),e},c=function(t){return\"bodyAd_\".concat(t)},i=function(t,e,n,a){var d=c(t),i=(function(t,e){var n=document.createElement(\"div\");n.setAttribute(\"id\",c(t)),n.classList.add(\"ad_body2\"),n.style.cssText=\"text-align:center;vertical-align:middle;line-height: 0;padding: 0 0px; border: 0px; width:100%; height: 90px;\",n.innerHTML=\"\\n            <ins class=\\\"adsbygoogle\\\" \\n                style=\\\"display:inline-block;width:680px;height:84px\\\" \\n                data-ad-client=\\\"\".concat(\"ca-pub-1682288257759598\",\"\\\" \\n                data-ad-slot=\\\"\").concat(t,\"\\\"\\n                data-adtest=\\\"\").concat(\"off\",\"\\\"\\n            />\");return\"\"==\"true\"&&0<=e&&(n.setAttribute(\"data-ab-bucket\",\"pc_article_middle_ad_\".concat(e+1)),n.setAttribute(\"data-ab-bucket-type\",\"google\")),n})(t,a);u.insertBefore(i,e);e=n?function(t){var e=o(n,a,'replaced_by_adfit');removeGoogleAdElementAndReplaceWithAdfitElement(t,e)}:removeAdElement;document.addEventListener('DOMContentLoaded',GoogleAdsUtils.addCallback(d,{doOnFilled:function(){return sendAbBucketLog(i)},doOnUnfilled:e}))},e=(t=function(t,e){return _.isEmpty(t)?e:t})(JSON.parse(\"[\\\"google\\\",\\\"google\\\"]\"),[]),r=t(JSON.parse(\"[\\\"DAN-LMhCax710HKR6iRC\\\",\\\"DAN-N84ROaaJI7rOx7GZ\\\"]\"),[]),l=t(JSON.parse(\"[\\\"7935113225\\\",\\\"7613652782\\\"]\"),[]),s=t(JSON.parse(\"[\\\"DAN-LMhCax710HKR6iRC\\\",\\\"DAN-N84ROaaJI7rOx7GZ\\\"]\"),[]),e.forEach(function(t,e){var n,a;e!=d.length&&(\"adfit\"===t&&e<r.length?(a=r[e],n=d[e].element.nextSibling,a=o(a,a=e,'adfit'),u.insertBefore(a,n),0<(a=(null==a?void 0:a.getElementsByTagName(\"ins\"))||[]).length&&adfit.render(a[0])):\"google\"===t&&e<l.length&&i(l[e],d[e].element.nextSibling,e<s.length?s[e]:void 0,e))}))})();</script>\n",
       "<script type=\"text/javascript\">\n",
       "    \n",
       "    \n",
       "    \n",
       "    var alex = document.getElementById('alex_action_emotion');\n",
       "    alex.setAttribute('data-selections','[{\"type\":\"RECOMMEND\",\"animation\":\"SLIDE\",\"image\":\"https://t1.daumcdn.net/harmony_static/alex_emotion/SLIDE_RECOMMEND_1x.png\",\"highResImage\":\"https://t1.daumcdn.net/harmony_static/alex_emotion/SLIDE_RECOMMEND_2x.png\"},{\"type\":\"LIKE\",\"animation\":\"SLIDE\",\"image\":\"https://t1.daumcdn.net/harmony_static/alex_emotion/SLIDE_LIKE_1x.png\",\"highResImage\":\"https://t1.daumcdn.net/harmony_static/alex_emotion/SLIDE_LIKE_2x.png\"},{\"type\":\"IMPRESS\",\"animation\":\"SLIDE\",\"image\":\"https://t1.daumcdn.net/harmony_static/alex_emotion/SLIDE_IMPRESS_1x.png\",\"highResImage\":\"https://t1.daumcdn.net/harmony_static/alex_emotion/SLIDE_IMPRESS_2x.png\"},{\"type\":\"ANGRY\",\"animation\":\"SLIDE\",\"image\":\"https://t1.daumcdn.net/harmony_static/alex_emotion/SLIDE_ANGRY_1x.png\",\"highResImage\":\"https://t1.daumcdn.net/harmony_static/alex_emotion/SLIDE_ANGRY_2x.png\"},{\"type\":\"SAD\",\"animation\":\"SLIDE\",\"image\":\"https://t1.daumcdn.net/harmony_static/alex_emotion/SLIDE_SAD_1x.png\",\"highResImage\":\"https://t1.daumcdn.net/harmony_static/alex_emotion/SLIDE_SAD_2x.png\"}]');\n",
       "\n",
       "    var itemKey = alex.getAttribute('data-item-key');\n",
       "    if (isNumber(itemKey))\n",
       "        alex.setAttribute('data-item-key', '@' + itemKey);\n",
       "\n",
       "    function isNumber(x) {\n",
       "        return !isNaN(Number(x));\n",
       "    }\n",
       "</script>\n",
       "<script src=\"//action.kakao.com/latest/alex.actions.js\" type=\"text/javascript\"></script>\n",
       "<script>\"use strict\";document.addEventListener('DOMContentLoaded',GoogleAdsUtils.addCallback('pc_article_bottom_ad',{doOnFilled:function(){var a=document.getElementById('pc_article_bottom_ad');sendAbBucketLog(a)},doOnUnfilled:function(){var a,t=document.getElementById('pc_article_bottom_ad'),a=((a=document.createElement(\"div\")).classList.add(\"ad_wrap\"),a.innerHTML=\"\\n            <ins class=\\\"kakao_ad_area recomm_ad\\\"\\n                style=\\\"display: block; text-decoration: none; height: 120px; max-height: inherit; min-height: 120px; min-width: 655px; width: 655px;\\\"\\n                data-ad-unit=\\\"\".concat(\"DAN-955mJz2b5oialJmQ\",\"\\\"\\n                data-ad-param-channel=\\\"\").concat(\"harmony\",\"\\\"\\n                data-ad-param-cp=\\\"\").concat(\"90_pc_media_news\",\"\\\"\\n                data-ad-width=\\\"655\\\" \\n                data-ad-height=\\\"120\\\"\\n                data-ad-onfail=\\\"removeParentElement\\\"\\n                data-ad-onload=\\\"sendAbBucketLog\\\"\\n                data-ab-bucket=\\\"\").concat(\"\",\"\\\"\\n                data-ab-bucket-type=\\\"replaced_by_adfit\\\"\\n            />\"),a);removeGoogleAdElementAndReplaceWithAdfitElement(t,a)}}));</script>\n",
       "<script>\"use strict\";function _slicedToArray(e,t){return _arrayWithHoles(e)||_iterableToArrayLimit(e,t)||_unsupportedIterableToArray(e,t)||_nonIterableRest()}function _nonIterableRest(){throw new TypeError(\"Invalid attempt to destructure non-iterable instance.\\nIn order to be iterable, non-array objects must have a [Symbol.iterator]() method.\")}function _unsupportedIterableToArray(e,t){if(e){if(\"string\"==typeof e)return _arrayLikeToArray(e,t);var a=Object.prototype.toString.call(e).slice(8,-1);return\"Object\"===a&&e.constructor&&(a=e.constructor.name),\"Map\"===a||\"Set\"===a?Array.from(e):\"Arguments\"===a||/^(?:Ui|I)nt(?:8|16|32)(?:Clamped)?Array$/.test(a)?_arrayLikeToArray(e,t):void 0}}function _arrayLikeToArray(e,t){(null==t||t>e.length)&&(t=e.length);for(var a=0,n=new Array(t);a<t;a++)n[a]=e[a];return n}function _iterableToArrayLimit(e,t){if(\"undefined\"!=typeof Symbol&&Symbol.iterator in Object(e)){var a=[],n=!0,r=!1,c=void 0;try{for(var l,i=e[Symbol.iterator]();!(n=(l=i.next()).done)&&(a.push(l.value),!t||a.length!==t);n=!0);}catch(e){r=!0,c=e}finally{try{n||null==i[\"return\"]||i[\"return\"]()}finally{if(r)throw c}}return a}}function _arrayWithHoles(e){if(Array.isArray(e))return e}!(function(){var e,t,i=document.getElementById('related_post_by_news'),u='false'=='true';function d(a){var n=React.useRef(null);return React.useEffect(function(){function e(e){var t;null!==(t=n.current)&&void 0!==t&&t.contains(e.target)||a(e)}return document.addEventListener('mousedown',e),function(){document.removeEventListener('mousedown',e)}},[a]),{ref:n}}function n(e){var t=e.postList,a=_slicedToArray(React.useState(!1),2),n=a[0],r=a[1],e=_slicedToArray(React.useState(!1),2),c=e[0],l=e[1],a=d(function(){return l(!1)}).ref,e=u?3:4;return React.createElement(React.Fragment,null,React.createElement(\"div\",{class:\"box_tit\"},React.createElement(\"h3\",{class:\"tit_box\"},React.createElement(\"span\",{class:\"ico_view ico_post\"}),'이 뉴스의 포스트 ',React.createElement(\"span\",{class:\"ico_beta\"},\"beta\")),u&&React.createElement(\"div\",{class:\"wrap_help\",ref:a},React.createElement(\"button\",{type:\"button\",class:\"btn_help\",\"aria-expanded\":c,onClick:function(){return l(!c)}},React.createElement(\"span\",{class:\"ico_view ico_help\"},\"도움말\")),React.createElement(\"div\",{class:\"layer_tooltip\"},\" \",React.createElement(\"span\",{class:\"ico_view ico_tooltip\"}),React.createElement(\"p\",{class:\"txt_tooltip\"},\"기자가 직접 남긴 뉴스 리뷰를 확인해\",React.createElement(\"br\",null),\"보세요. 포스트는 beta 기간입니다.\"),React.createElement(\"button\",{type:\"button\",class:\"btn_close\",onClick:function(){return l(!1)}},React.createElement(\"span\",{class:\"ico_view ico_close\"},\"도움말 팝업 닫기\"))))),React.createElement(s,{postList:t,isMore:n,basePostLength:e}),t.length>e&&React.createElement(\"div\",{class:\"btnmore_group\"},React.createElement(\"a\",{href:\"#\",class:\"link_morewide\",onClick:function(e){e.preventDefault(),r(!n),n?(i.classList.remove('unfold'),i.classList.add('fold')):(i.classList.remove('fold'),i.classList.add('unfold'))},\"data-tiara-layer\":\"post\",\"data-tiara\":\"more\",\"data-tiara-action-name\":\"포스트펼치기_클릭\"},React.createElement(\"span\",{class:\"tit_more\"},\"포스트 \"),n?'접어보기':'펼쳐보기',React.createElement(\"span\",{class:\"ico_view ico_more2\"}))),!u&&React.createElement(o,null))}function s(e){var t=e.postList,a=e.isMore,n=e.basePostLength;return React.createElement(\"ul\",{class:\"list_post\",\"data-tiara-ordnum-layer\":!0},t.map(function(e,t){return React.createElement(r,{post:e,index:t,isInvisible:n<=t&&!a})}))}function r(e){var a,t=e.post,n=e.index,r=e.isInvisible,e=_slicedToArray(React.useState(!1),2),c=e[0],l=e[1],e=_slicedToArray(React.useState(null),2),i=e[0],s=e[1],e=d(function(e){return l(!1)}).ref,o=function(){var e=document.createElement('div');e.id='socialShareMoreContainer',document.getElementById('kakaoWrap').appendChild(e)},m=function(e){var t=e.viewUrl,e=e.content.description.split('\\n')[0];return{moreViewContainer:document.getElementById('socialShareMoreContainer'),link:t,prefix:e,service_name:'포스트 뷰',kakaoAPI:{appkey:'53e566aa17534bc816eb1b5d8f7415ee',kakaoLinkData:{shareType:'sendScrap',shareData:{templateId:7952,installTalk:!0,requestUrl:t,templateArgs:{'${mobileWebUrl}':t+'?f=m','${webUrl}':t,'${EncodingUrl}':t}}}}}};return React.createElement(\"li\",{key:\"related_post_by_news_\".concat(n),\"data-tiara-ordnum\":n+1,style:{display:r?'none':'block'}},React.createElement(\"div\",{class:\"item_post\"},React.createElement(\"div\",{class:\"post_desc\"},React.createElement(\"p\",{class:\"txt_post\"},t.content.description)),React.createElement(\"div\",{class:\"post_info\"},React.createElement(\"span\",{class:\"thumb_profile\"},React.createElement(\"span\",{class:\"squircle_thumb\"},React.createElement(\"svg\",{viewBox:\"0 0 36 36\",class:\"svg_squircle\",\"aria-label\":\"프로필 사진\"},React.createElement(\"g\",null,React.createElement(\"use\",{xlinkHref:\"#shapeSquircle\",class:\"thumb_bg\"}),t.cp.iconImageUrl?React.createElement(\"image\",{\"clip-path\":\"url(#clipThumb)\",height:\"100%\",width:\"100%\",xlinkHref:\"https://img1.daumcdn.net/thumb/C110x110a/?fname=\".concat(t.cp.iconImageUrl),preserveAspectRatio:\"xMidYMid slice\"}):React.createElement(React.Fragment,null,React.createElement(\"image\",{class:\"light\",\"clip-path\":\"url(#clipThumb)\",height:\"100%\",width:\"100%\",xlinkHref:\"https://t1.daumcdn.net/media/common/noimage/bg_noimage_24.png\",preserveAspectRatio:\"xMidYMid slice\"}),u&&React.createElement(\"image\",{class:\"dark\",\"clip-path\":\"url(#clipThumb)\",height:\"100%\",width:\"100%\",xlinkHref:\"https://t1.daumcdn.net/media/common/noimage/bg_noimage_24_dark.png\",preserveAspectRatio:\"xMidYMid slice\"})),React.createElement(\"use\",{xlinkHref:\"#squircleBorder\",class:\"thumb_stroke\"}))))),React.createElement(\"div\",{class:\"info_thumb\"},React.createElement(\"span\",{class:\"thumb_date\"},StringUtil.makeViewTime(t.createdDate)),React.createElement(\"span\",{class:\"thumb_name\"},t.cp.cpName))),React.createElement(\"a\",{href:\"https://channel.daum.net/post/\".concat(t.id),class:\"link_post\",\"data-tiara-layer\":\"post\",\"data-tiara\":\"리스트\",\"data-tiara-action-kind\":\"ClickContent\",\"data-tiara-action-name\":\"포스트_클릭\"}),React.createElement(\"div\",{class:\"post_menu \".concat(c&&'open'),ref:e,\"data-tiara-action-name\":\"포스트쓰리닷_클릭\",\"data-tiara-layer\":\"post_more\"},React.createElement(\"a\",{href:\"#\",class:\"btn_menu\",onClick:function(e){e.preventDefault(),l(!c)}},React.createElement(\"span\",{class:\"ico_view\"},\"메뉴보기\")),React.createElement(\"div\",{class:\"layer_menu\"},React.createElement(\"div\",{class:\"list_menu\"},React.createElement(\"a\",{href:\"#\",class:\"link_menu\",onClick:(a=t,function(e){var t;e.preventDefault(),i||(document.getElementById('socialShareMoreContainer')||o(),t=m(a),t=new window.socialshareRenewal.Main(e.target,t),s(t),t.viewer.show())}),\"data-tiara\":\"share\"},\"공유하기\",React.createElement(\"span\",{class:\"ico_view ico_share\"})),React.createElement(\"a\",{target:\"_blank\",href:\"https://channel.daum.net/report/\".concat(t.id),class:\"link_menu\",\"data-tiara\":\"report\"},\"신고하기\",React.createElement(\"span\",{class:\"ico_view ico_report\"})))))))}function o(){return React.createElement(\"svg\",{className:\"svg_source\",\"aria-hidden\":\"true\",focusable:\"false\"},React.createElement(\"defs\",null,React.createElement(\"path\",{id:\"squircleBorder\",d:\"M18,0 L18.7848444,0.005730084 C18.9139617,0.00764511171 19.0422365,0.0100426461 19.1696724,0.0129264371 L19.9242526,0.0360942589 C20.792923,0.0700009714 21.6208598,0.128101731 22.4093497,0.211682715 L23.0755677,0.289593612 C30.9549774,1.30012499 34.6999425,5.04523784 35.7104226,12.9245322 L35.7883295,13.5907399 C35.8719061,14.3792171 35.9300034,15.2071387 35.963908,16.0757909 L35.9870744,16.8303548 C35.989958,16.9577879 35.9923554,17.0860598 35.9942703,17.2151741 L36,18 L35.9942703,18.7848444 C35.9923554,18.9139617 35.989958,19.0422365 35.9870744,19.1696724 L35.963908,19.9242526 C35.9300034,20.792923 35.8719061,21.6208598 35.7883295,22.4093497 L35.7104226,23.0755677 C35.6542849,23.5133126 35.5897073,23.938297 35.5164499,24.3507608 L35.400024,24.960096 L35.2703983,25.5508304 C33.9983996,30.9781075 30.9781075,33.9983996 25.5508304,35.2703983 L24.960096,35.400024 L24.3507608,35.5164499 C23.938297,35.5897073 23.5133126,35.6542849 23.0755677,35.7104226 L22.4093497,35.7883295 C21.6208598,35.8719061 20.792923,35.9300034 19.9242526,35.963908 L19.1696724,35.9870744 C19.0422365,35.989958 18.9139617,35.9923554 18.7848444,35.9942703 L18,36 L17.2151741,35.9942703 C17.0860598,35.9923554 16.9577879,35.989958 16.8303548,35.9870744 L16.0757909,35.963908 C15.2071387,35.9300034 14.3792171,35.8719061 13.5907399,35.7883295 L12.9245322,35.7104226 C5.04523784,34.6999425 1.30012499,30.9549774 0.289593612,23.0755677 L0.211682715,22.4093497 C0.128101731,21.6208598 0.0700009714,20.792923 0.0360942589,19.9242526 L0.0129264371,19.1696724 C0.0100426461,19.0422365 0.00764511171,18.9139617 0.005730084,18.7848444 L0,18 L0.00584673708,17.2364307 L0.0235106145,16.491116 C0.0274496612,16.368412 0.031888818,16.2464639 0.0368319493,16.1252694 L0.0725693482,15.4071281 L0.120587636,14.7069631 C0.834491736,5.60597993 4.79017605,1.15065404 13.8930229,0.197527337 L14.5943061,0.131853333 L15.3155684,0.0795358451 C16.1687677,0.026246786 17.0631364,0 18,0 Z M18,0.75 L17.2362123,0.755914959 L16.4923098,0.773765633 L15.7681182,0.803710715 L15.0634634,0.845908898 C14.6001671,0.878160652 14.1497792,0.918686936 13.7120674,0.96769934 L13.0649777,1.04760899 C6.36975139,1.95404391 2.79018958,4.9918111 1.41886033,10.987594 L1.29490495,11.5675907 C1.27534879,11.6657562 1.25634173,11.7646736 1.23788016,11.8643462 L1.13362749,12.4714706 C1.06845086,12.882297 1.01188582,13.3053124 0.96370013,13.7407284 L0.897677059,14.4031792 C0.887710953,14.5151465 0.878261299,14.6278955 0.869324465,14.7414295 L0.821828289,15.4320791 C0.801128098,15.7821401 0.784977976,16.1393251 0.773279941,16.5037235 L0.755790953,17.2421646 L0.75,18 L0.755329047,18.7600803 L0.771444428,19.5001406 C0.778635318,19.7435121 0.787655991,19.983579 0.798538506,20.2203733 L0.836803642,20.9209708 L0.886432197,21.6021254 C1.62475734,30.5554225 5.44462413,34.3752528 14.3978898,35.1135695 L15.0790419,35.1631975 L15.7796366,35.2014621 C16.01643,35.2123445 16.2564959,35.2213651 16.4998663,35.2285559 L17.2399233,35.244671 L18,35.25 L18.7600878,35.2446712 L19.5001549,35.2285565 C19.7435286,35.2213659 19.9835976,35.2123455 20.2203939,35.2014634 L20.9209971,35.1631997 L21.6021569,35.113573 C22.7213271,35.0212856 23.7602848,34.8808505 24.723038,34.6882595 L25.2915774,34.5664141 C30.5131949,33.3701777 33.3701777,30.5131949 34.5664141,25.2915774 L34.6882595,24.723038 C34.8808505,23.7602848 35.0212856,22.7213271 35.113573,21.6021569 L35.1631997,20.9209971 L35.2014634,20.2203939 C35.2123455,19.9835976 35.2213659,19.7435286 35.2285565,19.5001549 L35.2446712,18.7600878 L35.25,18 L35.244671,17.2399233 L35.2285559,16.4998663 C35.2213651,16.2564959 35.2123445,16.01643 35.2014621,15.7796366 L35.1631975,15.0790419 L35.1135695,14.3978898 C34.3752528,5.44462413 30.5554225,1.62475734 21.6021254,0.886432197 L20.9209708,0.836803642 L20.2203733,0.798538506 C19.983579,0.787655991 19.7435121,0.778635318 19.5001406,0.771444428 L18.7600803,0.755329047 L18,0.75 Z\"}),React.createElement(\"path\",{id:\"shapeSquircle\",d:\"M18,36 C4.75007143,36 0,31.25025 0,18 C0,5.24989286 4.75007143,0 18,0 C31.25025,0 36,4.75007143 36,18 C36,31.25025 31.25025,36 18,36 Z\"})),React.createElement(\"clipPath\",{id:\"clipThumb\"},React.createElement(\"use\",{xlinkHref:\"#shapeSquircle\"})))}e='NHT9NtZWBe',t=u?5:6,axios.get(\"\".concat(Conf.api.hadesRest,\"/post_related_target/data\"),{params:{targetId:e,targetType:'NEWS',size:6}}).then(function(e){return(e.data||[]).splice(0,t)}).then(function(e){var t,a;0<e.length?(i.style.display='block',t='//t1.daumcdn.net/daumtop_deco/socialshare/socialshare_mo-2.5.1.js',0===document.querySelectorAll(\"head > script[src='\".concat(t,\"']\")).length&&((a=document.createElement('script')).src=t,document.head.appendChild(a)),ReactDOM.render(React.createElement(n,{postList:e}),i)):i.parentElement.removeChild(i)}).catch(function(e){console.error(e),i.parentElement.removeChild(i)})})();</script>\n",
       "<script src=\"https://comment.kakao.com/latest/comment.sdk.loader.v1.js\"></script>\n",
       "<script>\"use strict\";function asyncGeneratorStep(e,t,n,a,r,o,i){try{var c=e[o](i),s=c.value}catch(e){return void n(e)}c.done?t(s):Promise.resolve(s).then(a,r)}function _asyncToGenerator(c){return function(){var e=this,i=arguments;return new Promise(function(t,n){var a=c.apply(e,i);function r(e){asyncGeneratorStep(a,t,n,r,o,\"next\",e)}function o(e){asyncGeneratorStep(a,t,n,r,o,\"throw\",e)}r(void 0)})}}!(function(){function i(){var e;null==s||null!==(e=s.querySelector('a.btn_ttalk'))&&void 0!==e&&e.remove(),null!=l&&l.remove()}var c,n,a,e,r=Number('1564300692871')+60*60*24*1e3,t=r<=(new Date).getTime(),s=document.querySelector('div.util_wrap'),l=document.querySelector('div.ttalk_view'),o=l.querySelector('em.num_ttalk');function d(){var e=document.createElement('div');e.setAttribute('id','timetalkDimmed'),e.style.cssText='position:fixed;width:100%;height:100%;z-index:9000;background-color:rgba(0,0,0,0.4);',e.addEventListener('click',function(){var e=document.getElementById('timetalkFrame'),t=document.getElementById('timetalkDimmed');null!=e&&e.classList.remove('open'),setTimeout(function(){null!=e&&e.remove(),null!=t&&t.remove(),document.body.style.overflow='visible'},3*100)});var t=document.createElement('iframe');t.setAttribute('id','timetalkFrame'),t.setAttribute('src','/timetalk/NHT9NtZWBe'),t.style.cssText='position:fixed;right:0;width:400px;height:100%;z-index:9001;border:none;',t.addEventListener('load',function(e){e.currentTarget.classList.add('open');e=window.parent;a(e.location)&&e.history.replaceState({},document.title,e.location.href.replace(new RegExp(\"\\\\??\".concat(n)),''))}),document.body.style.overflow='hidden',document.body.prepend(t),document.body.prepend(e)}t?i():(l.style.display='block',c=setInterval(function(){var e=(new Date).getTime();if(r<=e||!o)return clearInterval(c),void i();var t=r-e,n=Math.floor(t/1e3),e=Math.floor(n/60),t=Math.floor(e/60),n=(n%60).toString().padStart(2,'0'),e=(e%60).toString().padStart(2,'0'),t=(t%24).toString().padStart(2,'0');o.innerHTML=\"<span class=\\\"txt_g\\\">\".concat(t,\"</span>:<span class=\\\"txt_g\\\">\").concat(e,\"</span>:<span class=\\\"txt_g\\\">\").concat(n,\"</span>\")},100),n='isOpenTimetalk=true',e=function(e){e.preventDefault(),d()},(a=function(e){return e.search.includes(n)})(window.location)&&d(),(t=document.createElement('a')).setAttribute('href',''),t.setAttribute('target','_blank'),t.setAttribute('data-tiara','타임톡버튼'),t.setAttribute('data-tiara-action-name','헤드타임톡_클릭'),t.classList.add('btn_ttalk'),t.innerHTML=\"<span class=\\\"ico_view ico_ttalk\\\">타임톡</span>\",t.addEventListener('click',e),s.insertBefore(t,s.querySelector('div.util_view')),l.querySelector('a.link_ttalkgo').addEventListener('click',e),window.addEventListener('alex-comment-sdk',(function(){var t=_asyncToGenerator(regeneratorRuntime.mark(function e(t){var n,a,r,o;return regeneratorRuntime.wrap(function(e){for(;1;)switch(e.prev=e.next){case 0:return e.prev=0,n=t.detail,r={phase:\"production\",clientId:\"Y6z3VwK78FOFN59061b64xYu@timetalk\",postKey:a=\"NHT9NtZWBe\"},e.next=6,n(r);case 6:return o=e.sent,e.next=9,o.getPostsCommentCount([a]);case 9:o=e.sent,o=StringUtil.numberWithCommas(o[a]||0),s.querySelector('a.btn_ttalk').innerHTML=\"<span class=\\\"ico_view ico_ttalk\\\">타임톡</span> \".concat(o,\"<span class=\\\"screen_out\\\">개</span>\"),l.querySelector('span.txt_info').innerHTML=\"<span class=\\\"screen_out\\\">현재 톡 갯수</span><em class=\\\"txt_num\\\">\".concat(o,\"</em>개\"),e.next=19;break;case 15:e.prev=15,e.t0=e[\"catch\"](0),i(),clearInterval(c);case 19:case\"end\":return e.stop()}},e,null,[[0,15]])}));return function(e){return t.apply(this,arguments)}})()))})();</script>\n",
       "<script>\"use strict\";document.addEventListener('DOMContentLoaded',GoogleAdsUtils.addCallback('pc_aside_top_ad',{doOnFilled:function(){var a=document.getElementById('pc_aside_top_ad');sendAbBucketLog(a)},doOnUnfilled:function(){var a,d=document.getElementById('pc_aside_top_ad'),a=((a=document.createElement(\"div\")).classList.add(\"box_cluster\",\"box_ad\"),a.innerHTML=\"\\n            <ins style=\\\"display: block; width: 250px; height: 250px; text-decoration: none; max-height: inherit; min-height: 250px; min-width: 250px;\\\"\\n                class=\\\"kakao_ad_area aside_g aside_ad\\\"\\n                data-ad-unit=\\\"\".concat(\"05d24\",\"\\\"\\n                data-ad-param-channel=\\\"\").concat(\"harmony\",\"\\\"\\n                data-ad-param-cp=\\\"\").concat(\"90_pc_media_news\",\"\\\"\\n                data-ad-width=\\\"250\\\"\\n                data-ad-height=\\\"250\\\"\\n                data-ad-onfail=\\\"removeParentElement\\\"\\n                data-ad-onload=\\\"sendAbBucketLog\\\"\\n                data-ab-bucket=\\\"\").concat(\"\",\"\\\"\\n                data-ab-bucket-type=\\\"replaced_by_adfit\\\"\\n            />\"),a);removeGoogleAdElementAndReplaceWithAdfitElement(d,a)}}));</script>\n",
       "<script>\"use strict\";function asyncGeneratorStep(e,n,t,r,a,c,o){try{var s=e[c](o),i=s.value}catch(e){return void t(e)}s.done?n(i):Promise.resolve(i).then(r,a)}function _asyncToGenerator(s){return function(){var e=this,o=arguments;return new Promise(function(n,t){var r=s.apply(e,o);function a(e){asyncGeneratorStep(r,n,t,a,c,\"next\",e)}function c(e){asyncGeneratorStep(r,n,t,a,c,\"throw\",e)}a(void 0)})}}_asyncToGenerator(regeneratorRuntime.mark(function e(){var n,t,r,a,c,o,s;return regeneratorRuntime.wrap(function(e){for(;1;)switch(e.prev=e.next){case 0:return n=document.getElementById('news_related_query_comp'),e.prev=1,t='20190728165812603',e.next=5,axios.get(\"\".concat(Conf.api.hadesRest,\"/news_related_query/data?size=6&maxTextLen=12&newsId=\")+t);case 5:if(s=e.sent,0==(r=s.data).length)return n.parentElement.removeChild(n),e.abrupt(\"return\");e.next=10;break;case 10:a=10,c=s=2,o=3,s=_.flatten(r.reduce(function(e,n){var t=e[e.length-1];return t.length<c||t.reduce(function(e,n){return e+n.length},0)+n.length<=a&&t.length<o?t.push(n):e.push([n]),e},[[]]).slice(0,s)),n.innerHTML=\"\\n            <div class=\\\"box_tit\\\">\\n                <h3 class=\\\"tit_box\\\">함께 찾은 검색어</h3>\\n            </div>\\n            <ul class=\\\"list_keyword\\\" data-tiara=\\\"검색어\\\">\\n                \".concat(s.map(function(e){return\"<li> <a href=\\\"https://search.daum.net/search?w=tot&DA=NDT&rtmaxcoll=NNS&q=\".concat(encodeURIComponent(e),\"\\\" class=\\\"link_keyword\\\" title=\\\"\").concat(_.escape(e),\"\\\"><span class=\\\"ico_view ico_keyword\\\"></span>\").concat(_.escape(e),\"</a> </li>\")}).join(''),\"\\n            </ul>\\n        \"),e.next=21;break;case 18:e.prev=18,e.t0=e[\"catch\"](1),n.parentElement.removeChild(n);case 21:case\"end\":return e.stop()}},e,null,[[1,18]])}))();</script>\n",
       "<script>\"use strict\";function _slicedToArray(e,t){return _arrayWithHoles(e)||_iterableToArrayLimit(e,t)||_unsupportedIterableToArray(e,t)||_nonIterableRest()}function _nonIterableRest(){throw new TypeError(\"Invalid attempt to destructure non-iterable instance.\\nIn order to be iterable, non-array objects must have a [Symbol.iterator]() method.\")}function _unsupportedIterableToArray(e,t){if(e){if(\"string\"==typeof e)return _arrayLikeToArray(e,t);var a=Object.prototype.toString.call(e).slice(8,-1);return\"Object\"===a&&e.constructor&&(a=e.constructor.name),\"Map\"===a||\"Set\"===a?Array.from(e):\"Arguments\"===a||/^(?:Ui|I)nt(?:8|16|32)(?:Clamped)?Array$/.test(a)?_arrayLikeToArray(e,t):void 0}}function _arrayLikeToArray(e,t){(null==t||t>e.length)&&(t=e.length);for(var a=0,r=new Array(t);a<t;a++)r[a]=e[a];return r}function _iterableToArrayLimit(e,t){if(\"undefined\"!=typeof Symbol&&Symbol.iterator in Object(e)){var a=[],r=!0,n=!1,i=void 0;try{for(var c,o=e[Symbol.iterator]();!(r=(c=o.next()).done)&&(a.push(c.value),!t||a.length!==t);r=!0);}catch(e){n=!0,i=e}finally{try{r||null==o[\"return\"]||o[\"return\"]()}finally{if(n)throw i}}return a}}function _arrayWithHoles(e){if(Array.isArray(e))return e}function ownKeys(t,e){var a,r=Object.keys(t);return Object.getOwnPropertySymbols&&(a=Object.getOwnPropertySymbols(t),e&&(a=a.filter(function(e){return Object.getOwnPropertyDescriptor(t,e).enumerable})),r.push.apply(r,a)),r}function _objectSpread(t){for(var e=1;e<arguments.length;e++){var a=null!=arguments[e]?arguments[e]:{};e%2?ownKeys(Object(a),!0).forEach(function(e){_defineProperty(t,e,a[e])}):Object.getOwnPropertyDescriptors?Object.defineProperties(t,Object.getOwnPropertyDescriptors(a)):ownKeys(Object(a)).forEach(function(e){Object.defineProperty(t,e,Object.getOwnPropertyDescriptor(a,e))})}return t}function _defineProperty(e,t,a){return t in e?Object.defineProperty(e,t,{value:a,enumerable:!0,configurable:!0,writable:!0}):e[t]=a,e}!(function(){var e,t,a,r,n,c='true'=='false',i=document.getElementById('special_series_list');function o(e){var t=e.seriesList,e=_slicedToArray(React.useState(t[0]),2),i=e[0],a=e[1];return React.createElement(React.Fragment,null,React.createElement(\"div\",{className:\"box_tit\"},React.createElement(\"h3\",{className:\"tit_box\"},\"아시아경제\",\" PICK\")),c&&React.createElement(\"div\",{className:\"tabg_wrap\"},React.createElement(\"div\",{className:\"inner_wrap\"},React.createElement(\"ul\",{className:\"tab_g\",role:\"tablist\",\"data-tiara-layer\":\"media_pick_news\",\"data-tiara-action-name\":\"본문기획뉴스_클릭\"},t.map(function(t){return React.createElement(\"li\",{key:t.id,role:\"presentation\"},React.createElement(\"a\",{href:\"#none\",role:\"tab\",\"data-tiara\":\"탭\",\"aria-selected\":t.id==i.id?\"true\":\"false\",className:\"link_tab\",onClick:function(e){t.id!=i.id&&a(t),e.preventDefault()}},t.title))})))),!c&&React.createElement(\"ul\",{role:\"tablist\",className:\"tab_g\",\"data-tiara-layer\":\"media_pick_news\",\"data-tiara-action-name\":\"본문기획뉴스_클릭\"},t.map(function(t){return React.createElement(\"li\",{key:t.id,role:\"presentation\"},React.createElement(\"a\",{href:\"#none\",role:\"tab\",\"data-tiara\":\"탭\",\"aria-selected\":t.id==i.id?\"true\":\"false\",className:\"link_tab\",onClick:function(e){t.id!=i.id&&a(t),e.preventDefault()}},t.title))})),React.createElement(\"ul\",{className:\"list_column\",\"data-tiara-ordnum-layer\":!0,\"data-tiara-layer\":\"media_pick_news\",\"data-tiara-action-name\":\"본문기획뉴스_클릭\",\"data-tiara-action-kind\":\"ClickContent\"},i.contents.map(function(e){var t=e.contentId,a=e.title,r=e.thumbnail,n=e.createDt,e=e.mobileLink;return React.createElement(\"li\",{key:t},React.createElement(\"div\",{className:\"item_column\"},React.createElement(\"a\",{href:e,className:\"link_thumb\",\"data-tiara\":\"탭\".concat(i.index+1,\"_리스트\")},React.createElement(\"div\",{className:\"wrap_thumb\"},React.createElement(\"img\",{src:StringUtil.makeThumbnail(r,'S200x132','70'),className:\"thumb_g\",alt:\"\"})),React.createElement(\"div\",{className:\"cont_thumb\"},React.createElement(\"div\",{className:\"inner_cont\"},React.createElement(\"div\",{className:\"thumb_wrap\"},React.createElement(\"strong\",{className:\"tit_txt\"},a),\" \",React.createElement(\"span\",{className:\"info_thumb\"},StringUtil.makeViewTime(n))))))))})),React.createElement(\"div\",{className:\"btnmore_group\",\"data-tiara-layer\":\"media_pick_news\",\"data-tiara-action-name\":\"본문기획뉴스_클릭\",\"data-tiara-action-kind\":\"ClickContent\"},React.createElement(\"a\",{href:i.link,className:\"link_morewide\",\"data-tiara\":\"더보기\"},React.createElement(\"span\",{className:\"tit_more\"},i.title,\" \"),\"더보기\",React.createElement(\"span\",{className:\"ico_view ico_more\"}))))}t=(e={cpId:'90',group:'special',size:10,sort:'favorite:desc,lastModifiedDate:desc',minContentCount:4}).cpId,a=e.group,r=e.size,n=e.sort,e=e.minContentCount,axios.get(\"\".concat(Conf.api.hadesRest,\"/series_sorted_favorite_list\"),{params:{cpId:t,group:a,sort:n,size:r,minContentCount:e}}).then(function(e){return e.data.body.data}).then(function(e){0<e.length?(e=e.map(function(e,t){return _objectSpread(_objectSpread({},e),{},{index:t})}),ReactDOM.render(React.createElement(o,{seriesList:e}),i)):i.parentNode.removeChild(i)}).catch(function(e){return i.parentNode.removeChild(i)})})();</script>\n",
       "<script>\"use strict\";function asyncGeneratorStep(n,t,e,r,a,i,c){try{var o=n[i](c),s=o.value}catch(n){return void e(n)}o.done?t(s):Promise.resolve(s).then(r,a)}function _asyncToGenerator(o){return function(){var n=this,c=arguments;return new Promise(function(t,e){var r=o.apply(n,c);function a(n){asyncGeneratorStep(r,t,e,a,i,\"next\",n)}function i(n){asyncGeneratorStep(r,t,e,a,i,\"throw\",n)}a(void 0)})}}_asyncToGenerator(regeneratorRuntime.mark(function n(){var t,e,r,a;return regeneratorRuntime.wrap(function(n){for(;1;)switch(n.prev=n.next){case 0:return t=document.querySelector('.box_news_press ul'),a='20190728165812603',n.next=4,axios.get(\"\".concat(Conf.api.hadesRest,\"/newsview_similar_news?newsId=\")+a).then(function(n){return n.data.body});case 4:if(e=n.sent,a=e.data,r=\"false\"==\"true\",0==(e=void 0===a?[]:a).length)return(a=t.parentElement).parentElement.removeChild(a),n.abrupt(\"return\");n.next=12;break;case 12:t.innerHTML=e.map(function(n){return\"\\n            <li>\\n                <div class=\\\"item_column\\\"> \\n                    <a href=\\\"\".concat(r?n.mobileLink:n.pcLink,\"\\\" class=\\\"link_thumb\\\" data-tiara=\\\"리스트\\\">\\n                        <div class=\\\"wrap_thumb\\\"> \\n                            <img src=\\\"\").concat(StringUtil.makeThumbnail(n.thumbnail,'S200x132','70'),\"\\\" class=\\\"thumb_g\\\" alt=\\\"\\\"> \\n                        </div>\\n                        <div class=\\\"cont_thumb\\\">\\n                            <div class=\\\"inner_cont\\\">\\n                                <div class=\\\"thumb_wrap\\\"> \\n                                    <strong class=\\\"tit_txt\\\">\").concat(n.title,\"</strong> \\n                                    <span class=\\\"info_thumb\\\"> \").concat(n.cpKorName,\" · \").concat(StringUtil.makeViewTime(n.createdAt),\"</span> \\n                                </div>\\n                            </div>\\n                        </div>\\n                    </a> \\n                </div>\\n            </li>\\n        \")}).join('');case 13:case\"end\":return n.stop()}},n)}))();</script>\n",
       "<script>\"use strict\";function _slicedToArray(e,t){return _arrayWithHoles(e)||_iterableToArrayLimit(e,t)||_unsupportedIterableToArray(e,t)||_nonIterableRest()}function _nonIterableRest(){throw new TypeError(\"Invalid attempt to destructure non-iterable instance.\\nIn order to be iterable, non-array objects must have a [Symbol.iterator]() method.\")}function _unsupportedIterableToArray(e,t){if(e){if(\"string\"==typeof e)return _arrayLikeToArray(e,t);var a=Object.prototype.toString.call(e).slice(8,-1);return\"Object\"===a&&e.constructor&&(a=e.constructor.name),\"Map\"===a||\"Set\"===a?Array.from(e):\"Arguments\"===a||/^(?:Ui|I)nt(?:8|16|32)(?:Clamped)?Array$/.test(a)?_arrayLikeToArray(e,t):void 0}}function _arrayLikeToArray(e,t){(null==t||t>e.length)&&(t=e.length);for(var a=0,r=new Array(t);a<t;a++)r[a]=e[a];return r}function _iterableToArrayLimit(e,t){if(\"undefined\"!=typeof Symbol&&Symbol.iterator in Object(e)){var a=[],r=!0,n=!1,i=void 0;try{for(var c,o=e[Symbol.iterator]();!(r=(c=o.next()).done)&&(a.push(c.value),!t||a.length!==t);r=!0);}catch(e){n=!0,i=e}finally{try{r||null==o[\"return\"]||o[\"return\"]()}finally{if(n)throw i}}return a}}function _arrayWithHoles(e){if(Array.isArray(e))return e}function asyncGeneratorStep(e,t,a,r,n,i,c){try{var o=e[i](c),s=o.value}catch(e){return void a(e)}o.done?t(s):Promise.resolve(s).then(r,n)}function _asyncToGenerator(o){return function(){var e=this,c=arguments;return new Promise(function(t,a){var r=o.apply(e,c);function n(e){asyncGeneratorStep(r,t,a,n,i,\"next\",e)}function i(e){asyncGeneratorStep(r,t,a,n,i,\"throw\",e)}n(void 0)})}}_asyncToGenerator(regeneratorRuntime.mark(function e(){var t,a,r,n,i,c,o,s,l,u;return regeneratorRuntime.wrap(function(e){for(;1;)switch(e.prev=e.next){case 0:return u=function(e){e=e.contents;return React.createElement(React.Fragment,null,e.map(function(e){var t=e.pcLink,a=e.thumbnail,r=e.index,n=e.title,e=e.createDt;return React.createElement(\"li\",null,React.createElement(\"div\",{class:\"item_column\"},React.createElement(\"a\",{href:t,class:\"link_thumb\",\"data-tiara\":\"리스트\"},React.createElement(\"div\",{class:\"wrap_thumb\"},React.createElement(\"img\",{src:StringUtil.makeThumbnail(a,'S200x132','70'),class:\"thumb_g\",alt:\"\"})),React.createElement(\"div\",{class:\"cont_thumb\"},React.createElement(\"div\",{class:\"inner_cont\"},React.createElement(\"div\",{class:\"thumb_wrap\"},React.createElement(\"strong\",{class:\"tit_txt\"},React.createElement(\"span\",{class:\"rank_num\"},r,React.createElement(\"span\",{class:\"screen_out\"},\"위\")),n),React.createElement(\"span\",{class:\"info_thumb\"},StringUtil.makeViewTime(e))))))))}))},l=function(e){var t=e.title,a=e.isVisible,r=e.tabIdx,n=e.activeTabIdx,i=e.setActiveTabIdx;return React.createElement(React.Fragment,null,a&&React.createElement(\"li\",{role:\"presentation\"},React.createElement(\"a\",{onClick:function(){i(r)},id:\"popularNews\",href:\"javascript:void(0)\",role:\"tab\",\"aria-selected\":n===r,class:\"link_tab\"},t)))},s=function(e){var t=e.tabInfos,a=e.popularNews,r=e.driNews,e=_slicedToArray(React.useState(5===a.length?0:1),2),n=e[0],i=e[1];return React.createElement(React.Fragment,null,React.createElement(\"div\",{class:\"box_tit\"},React.createElement(\"h3\",{class:\"tit_box\"},\"아시아경제 랭킹 뉴스\"),React.createElement(\"p\",{class:\"txt_box\"},t[n].title)),React.createElement(\"ul\",{class:\"tab_g tablist2\",role:\"tablist\"},t.map(function(e,t){return React.createElement(l,{isVisible:e.isVisible,title:e.tabTitle,tabIdx:t,activeTabIdx:n,setActiveTabIdx:i})})),React.createElement(\"ol\",{class:\"list_rank_news\",\"data-tiara-action-name\":t[n].tiaraActionName,\"data-tiara-layer\":t[n].tiaraSecondLayer,\"data-tiara-action-kind\":\"ClickContent\",\"data-tiara-ordnum-layer\":!0},React.createElement(u,{contents:0===n?a:r})))},o=function(){return(o=_asyncToGenerator(regeneratorRuntime.mark(function e(t){var a,r;return regeneratorRuntime.wrap(function(e){for(;1;)switch(e.prev=e.next){case 0:return a=t.key,r=t.params,e.next=3,axios.get(\"\".concat(Conf.api.hadesRest,\"/\").concat(a),{params:r}).then(function(e){return e.data.body.data||[]});case 3:return e.abrupt(\"return\",e.sent);case 4:case\"end\":return e.stop()}},e)}))).apply(this,arguments)},c=function(){return o.apply(this,arguments)},t=document.getElementById('rankingNewsContainer'),a=[{key:\"channel_home_ranking_latest\",params:{size:5,consumerId:\"media\",cpId:\"90\",hours:3}},{key:\"dri_ranking_news\",params:{size:5,hours:168,from:\"media\",cpId:\"90\"}}],e.next=9,c(a[0]);case 9:return r=e.sent,e.next=12,c(a[1]);case 12:n=e.sent,(i=[{isVisible:5===r.length,title:'최근 3시간 집계 결과입니다.',tabTitle:'많이 본 뉴스',tiaraActionName:'하단많이본랭킹_클릭',tiaraSecondLayer:'media_ranking_news_popular'},{isVisible:5===n.length,title:'이용자의 본문 주목도 높은 뉴스입니다.',tabTitle:'탐독한 뉴스',tiaraActionName:'하단열독률랭킹_클릭',tiaraSecondLayer:'media_ranking_news_duration'}])[0].isVisible||i[1].isVisible?(t.style.display='block',ReactDOM.render(React.createElement(s,{tabInfos:i,popularNews:r,driNews:n}),t)):t.parentElement.removeChild(t);case 15:case\"end\":return e.stop()}},e)}))();</script>\n",
       "<script>\"use strict\";function _slicedToArray(e,t){return _arrayWithHoles(e)||_iterableToArrayLimit(e,t)||_unsupportedIterableToArray(e,t)||_nonIterableRest()}function _nonIterableRest(){throw new TypeError(\"Invalid attempt to destructure non-iterable instance.\\nIn order to be iterable, non-array objects must have a [Symbol.iterator]() method.\")}function _unsupportedIterableToArray(e,t){if(e){if(\"string\"==typeof e)return _arrayLikeToArray(e,t);var r=Object.prototype.toString.call(e).slice(8,-1);return\"Object\"===r&&e.constructor&&(r=e.constructor.name),\"Map\"===r||\"Set\"===r?Array.from(e):\"Arguments\"===r||/^(?:Ui|I)nt(?:8|16|32)(?:Clamped)?Array$/.test(r)?_arrayLikeToArray(e,t):void 0}}function _arrayLikeToArray(e,t){(null==t||t>e.length)&&(t=e.length);for(var r=0,a=new Array(t);r<t;r++)a[r]=e[r];return a}function _iterableToArrayLimit(e,t){if(\"undefined\"!=typeof Symbol&&Symbol.iterator in Object(e)){var r=[],a=!0,n=!1,c=void 0;try{for(var o,i=e[Symbol.iterator]();!(a=(o=i.next()).done)&&(r.push(o.value),!t||r.length!==t);a=!0);}catch(e){n=!0,c=e}finally{try{a||null==i[\"return\"]||i[\"return\"]()}finally{if(n)throw c}}return r}}function _arrayWithHoles(e){if(Array.isArray(e))return e}function ownKeys(t,e){var r,a=Object.keys(t);return Object.getOwnPropertySymbols&&(r=Object.getOwnPropertySymbols(t),e&&(r=r.filter(function(e){return Object.getOwnPropertyDescriptor(t,e).enumerable})),a.push.apply(a,r)),a}function _objectSpread(t){for(var e=1;e<arguments.length;e++){var r=null!=arguments[e]?arguments[e]:{};e%2?ownKeys(Object(r),!0).forEach(function(e){_defineProperty(t,e,r[e])}):Object.getOwnPropertyDescriptors?Object.defineProperties(t,Object.getOwnPropertyDescriptors(r)):ownKeys(Object(r)).forEach(function(e){Object.defineProperty(t,e,Object.getOwnPropertyDescriptor(r,e))})}return t}function _defineProperty(e,t,r){return t in e?Object.defineProperty(e,t,{value:r,enumerable:!0,configurable:!0,writable:!0}):e[t]=r,e}!(function(){var r=document.getElementById('keyword_news_list');axios.get(\"\".concat(Conf.api.hadesRest,\"/newsview_keyword_news\"),{params:{contentId:\"20190728165812603\"}}).then(function(e){return e.data.body.data}).then(function(e){function t(e){return(e=new URL(e)).searchParams.set(\"t_src\",\"daum\"),e.searchParams.set(\"t_ch\",\"view\"),e.searchParams.set(\"t_obj\",\"news\"),e.toString()}var r=e.keywordHomeUrl,e=e.keywordList;return{keywordHomeUrl:t(r),keywordList:e.map(function(e){return _objectSpread(_objectSpread({},e),{},{moreLink:t(e.moreLink)})})}}).then(function(e){var t=e.keywordHomeUrl,e=e.keywordList;_.isEmpty(e)?null!=r&&r.parentNode.removeChild(r):ReactDOM.render(React.createElement(c,{keywordHomeUrl:t,keywordList:e}),r)}).catch(function(){null!=r&&r.parentNode.removeChild(r)});var a,n,c=function(e){var t=e.keywordHomeUrl,r=e.keywordList,e=_slicedToArray(React.useState(r[0]),2),a=e[0],n=e[1],c=\"clusterId=\".concat(a.clusterId,\"&clusterTitle=\").concat(a.keyword,\"&keywordType=\").concat(a.keywordType);return React.createElement(React.Fragment,null,React.createElement(\"div\",{class:\"box_tit\"},React.createElement(\"h3\",{class:\"tit_box\"},\"이 뉴스와 관련된 키워드\"),React.createElement(\"a\",{href:t,class:\"btn_viewgo\",\"data-tiara-custom\":c},\"키워드 탐색\",React.createElement(\"span\",{class:\"ico_view\"}))),React.createElement(\"ul\",{class:\"tab_g\",role:\"tablist\",\"data-tiara\":\"탭\"},r.map(function(t){var e=o(t.operationGroup,t.clusterTypeId);return React.createElement(\"li\",{role:\"presentation\"},React.createElement(\"a\",{href:\"#none\",class:\"link_tab\",role:\"tab\",\"aria-selected\":t.keyword==a.keyword?\"true\":\"false\",onClick:function(e){e.preventDefault(),n(t)},style:t.keyword==a.keyword&&e?{backgroundColor:e,borderColor:e}:{},\"data-tiara-custom\":\"clusterId=\".concat(t.clusterId,\"&clusterTitle=\").concat(t.keyword,\"&keywordType=\").concat(t.keywordType)},t.thumbnail&&React.createElement(\"span\",{class:\"thumb_img\"},React.createElement(\"img\",{src:StringUtil.makeThumbnail(t.thumbnail,'S80x80'),class:\"thumb_g\",alt:\"\"})),t.keyword))})),React.createElement(\"ul\",{class:\"list_column\",\"data-tiara\":\"리스트\"},a.subContents.map(function(e){return React.createElement(\"li\",null,React.createElement(\"div\",{class:\"item_column\"},React.createElement(\"a\",{href:e.pcLink,class:\"link_thumb\",\"data-tiara-custom\":c},React.createElement(\"div\",{class:\"wrap_thumb\"},React.createElement(\"img\",{src:StringUtil.makeThumbnail(e.thumbnail,'S200x132','70'),class:\"thumb_g\",alt:\"\"})),React.createElement(\"div\",{class:\"cont_thumb\"},React.createElement(\"div\",{class:\"inner_cont\"},React.createElement(\"div\",{class:\"thumb_wrap\"},React.createElement(\"strong\",{class:\"tit_txt\"},e.title),React.createElement(\"span\",{class:\"info_thumb\"},\"\".concat(e.mediaName,\" · \").concat(StringUtil.makeViewTime(e.createdAt)))))))))})),React.createElement(\"div\",{class:\"btnmore_group\"},React.createElement(\"a\",{href:a.moreLink,class:\"link_morewide\",\"data-tiara-custom\":c},React.createElement(\"span\",{class:\"tit_more\"},a.keyword,\" \"),\"더보기\",React.createElement(\"span\",{class:\"ico_view ico_more\"}))))},o=(a=window.matchMedia('(prefers-color-scheme: dark)').matches,n=new Map(a?[['NEWS_2','#557CCC'],['NEWS_6','#557CCC'],['ENTER_2','#8267B8'],['ENTER_3','#8267B8'],['SPORTS_1','#D45551'],['SPORTS_2','#D45551'],['SPORTS_4','#D45551'],['AUTO_27','#3D8071'],['AUTO_28','#3D8071'],['INTEREST_15','#3D8071'],['MOVIE_5','#4A5861'],['INTEREST_8','#6D911C'],['INTEREST_11','#304C94'],['INTEREST_12','#D4633A'],['INTEREST_13','#593822'],['INTEREST_17','#304C94'],['INTEREST_18','#593822'],['INTEREST_14','#D45840'],['INTEREST_16','#5BA1CC'],['INTEREST_62','#6D911C'],['INTEREST_63','#7A5127'],['INTEREST_65','#5E7034'],['INTEREST_68','#5E7034'],['INTEREST_64','#D47500'],['INTEREST_66','#545CB0'],['INTEREST_67','#1C5C41']]:[['NEWS_2','#6796F6'],['NEWS_6','#6796F6'],['ENTER_2','#9F7EE0'],['ENTER_3','#9F7EE0'],['SPORTS_1','#FB6560'],['SPORTS_2','#FB6560'],['SPORTS_4','#FB6560'],['AUTO_27','#51A996'],['AUTO_28','#51A996'],['INTEREST_15','#51A996'],['MOVIE_5','#4A5861'],['INTEREST_8','#8BB924'],['INTEREST_11','#304C94'],['INTEREST_12','#FD7645'],['INTEREST_13','#6E452A'],['INTEREST_17','#304C94'],['INTEREST_18','#6E452A'],['INTEREST_14','#FC694D'],['INTEREST_16','#6DC1F5'],['INTEREST_62','#8BB924'],['INTEREST_63','#A36C34'],['INTEREST_65','#6F853D'],['INTEREST_68','#6F853D'],['INTEREST_64','#FD8C00'],['INTEREST_66','#6771D8'],['INTEREST_67','#227050']]),function(e,t){return n.get(\"\".concat(e,\"_\").concat(t))||(a?'#557CCC':'#6796F6')})})();</script>\n",
       "<script>\"use strict\";!(function(){var e=0,t='1008'||'media',s=document.querySelectorAll('.tabcont_service');function a(e,t,c){t=0===t?'뉴스':1===t?'연예':'스포츠',e.innerHTML=c?\"\".concat(t,\" <span class=\\\"screen_out\\\">선택됨</span>\"):t}'1005'===t?e=1:'1004'!==t&&'sports'!==t||(e=2),(t=document.querySelectorAll('#serviceDirect li a'))[e].classList.add('on'),s[e].style.display=\"block\",t.forEach(function(e,r){return e.addEventListener('click',function(){Array.from(document.getElementById('serviceDirect').children).forEach(function(e,t){var c=e.querySelector('.link_tab');t===r?(e.setAttribute('aria-selected',\"true\"),c.classList.add('on'),a(c,t,!0),s[t].style.display=\"block\"):(e.setAttribute('aria-selected',\"false\"),c.classList.remove('on'),a(c,t,!1),s[t].style.display=\"none\")})})})})();</script>\n",
       "<script>\"use strict\";!(function(){var e=document.getElementById('service_notice');axios.get(\"\".concat(Conf.api.hadesRest,\"/service_notice?id=3393\")).then(function(n){var t=n.data.body.data,n=t.noticeTitle,t=t.noticeUrl;null!==n?e.innerHTML=\"\\n                    <a href=\\\"\".concat(t,\"\\\" class=\\\"link_cont\\\" data-tiara=\\\"공지사항\\\">\\n                        <strong class=\\\"tit_notice\\\">공지</strong>\\n                        <span class=\\\"txt_notice\\\">\").concat(n,\"</span>\\n                    </a>\\n                \"):e.parentNode.removeChild(e)}).catch(function(n){e.parentNode.removeChild(e)})})();</script>\n",
       "<script>\"use strict\";document.addEventListener('DOMContentLoaded',GoogleAdsUtils.addCallback('pc_aside_bottom_ad',{doOnFilled:function(){var a=document.getElementById('pc_aside_bottom_ad');sendAbBucketLog(a)},doOnUnfilled:function(){var a,t=document.getElementById('pc_aside_bottom_ad'),a=((a=document.createElement(\"div\")).classList.add(\"box_cluster\",\"box_ad\"),a.innerHTML=\"\\n            <ins style=\\\"display: block; width: 250px; height: 250px; text-decoration: none; max-height: inherit; min-height: 250px; min-width: 250px;\\\"\\n                class=\\\"kakao_ad_area aside_g aside_ad\\\"\\n                data-ad-unit=\\\"\".concat(\"0QH44\",\"\\\"\\n                data-ad-param-channel=\\\"\").concat(\"harmony\",\"\\\"\\n                data-ad-param-cp=\\\"\").concat(\"90_pc_media_news\",\"\\\"\\n                data-ad-width=\\\"250\\\"\\n                data-ad-height=\\\"250\\\"\\n                data-ad-onfail=\\\"removeParentElement\\\"\\n                data-ad-onload=\\\"sendAbBucketLog\\\"\\n                data-ab-bucket=\\\"\").concat(\"\",\"\\\"\\n                data-ab-bucket-type=\\\"replaced_by_adfit\\\"\\n            />\"),a);removeGoogleAdElementAndReplaceWithAdfitElement(t,a)}}));</script>\n",
       "<script>\"use strict\";!(function(){var e=document.querySelector('.direct_link'),t=document.querySelector('.btn_fold');null!=t&&t.addEventListener('click',function(){e.classList.toggle(\"direct_open\")})})();</script>\n",
       "<script src=\"//search1.daumcdn.net/search/statics/common/js/g/search_dragselection.min.js\"></script>\n",
       "<script>\"use strict\";function _slicedToArray(t,n){return _arrayWithHoles(t)||_iterableToArrayLimit(t,n)||_unsupportedIterableToArray(t,n)||_nonIterableRest()}function _nonIterableRest(){throw new TypeError(\"Invalid attempt to destructure non-iterable instance.\\nIn order to be iterable, non-array objects must have a [Symbol.iterator]() method.\")}function _unsupportedIterableToArray(t,n){if(t){if(\"string\"==typeof t)return _arrayLikeToArray(t,n);var e=Object.prototype.toString.call(t).slice(8,-1);return\"Object\"===e&&t.constructor&&(e=t.constructor.name),\"Map\"===e||\"Set\"===e?Array.from(t):\"Arguments\"===e||/^(?:Ui|I)nt(?:8|16|32)(?:Clamped)?Array$/.test(e)?_arrayLikeToArray(t,n):void 0}}function _arrayLikeToArray(t,n){(null==n||n>t.length)&&(n=t.length);for(var e=0,a=new Array(n);e<n;e++)a[e]=t[e];return a}function _iterableToArrayLimit(t,n){if(\"undefined\"!=typeof Symbol&&Symbol.iterator in Object(t)){var e=[],a=!0,i=!1,r=void 0;try{for(var o,s=t[Symbol.iterator]();!(a=(o=s.next()).done)&&(e.push(o.value),!n||e.length!==n);a=!0);}catch(t){i=!0,r=t}finally{try{a||null==s[\"return\"]||s[\"return\"]()}finally{if(i)throw r}}return e}}function _arrayWithHoles(t){if(Array.isArray(t))return t}!(function(){function t(t){var n=t.newsid,e=t.cp_name,a=t.title,i=t.image,t=t.moddt;return{newsid:n,cp_name:e,title:(a=a,\"enter\"===s?a.replace(/\\[.*?]+/gi,''):a),url:\"https://v.daum.net/v/\".concat(n),thumbnail:StringUtil.makeThumbnail(i,r,o),update_dt:StringUtil.makeViewTime((function(t){try{if('string'!=typeof t||14!==t.length)throw new Error(\"[IllegalArgumentException] 유효하지 않은 날짜형식입니다. | \".concat(t));var n=t.slice(0,4),e=t.slice(4,6),a=t.slice(6,8),i=t.slice(8,10),r=t.slice(10,12),o=t.slice(12);return dateUtil.addMinutes(new Date(n,e-1,a,i,r,o),-540-(new Date).getTimezoneOffset())}catch(t){console.error(t)}})(t))}}var n=20,r='S200x132',o='70',e=\"20190728165812603\",s=(function(){switch(\"1008\"){case\"1004\":return\"sports\";case\"1005\":return\"enter\";default:return\"news\"}})(),a=encodeURIComponent(JSON.stringify({itemid:e,category:s})),i={source:e},c=\"\\n        <div class=\\\"item_column\\\">\\n            <a href=\\\"<%=obj.url%>\\\" class=\\\"link_thumb\\\" data-itemid=\\\"<%=obj.newsid%>\\\" data-pos=\\\"<%=obj.pos%>\\\" data-tiara=\\\"리스트\\\">\\n                <div class=\\\"wrap_thumb\\\">\\n                    <img src=\\\"<%=obj.thumbnail%>\\\" class=\\\"thumb_g\\\" alt=\\\"\\\">\\n                </div>\\n                <div class=\\\"cont_thumb\\\">\\n                    <div class=\\\"inner_cont\\\">\\n                        <div class=\\\"thumb_wrap\\\">\\n                            <strong class=\\\"tit_txt\\\"><%=obj.title%></strong>\\n                            <span class=\\\"info_thumb\\\"><%=obj.cp_name%> · <%=obj.update_dt%></span>\\n                        </div>\\n                    </div>\\n                </div>\\n            </a>\\n        </div>\\n    \",l=new Set;(e=new Toros.Connector({url:'mediadaum/most_similar',queryParams:a,slice:16,filter:function(t){t=t._id;return l.add(t),!0},map:t,targetClass:'item_toros',template:c,svc:'mediadaum_sim',impLabel:'toros_mediadaum_sim_imp',impProps:i,viewLabel:'toros_mediadaum_sim_vimp',viewProps:i,clickLabel:'toros_mediadaum_sim_click',clickProps:i})).render(),e.fetchPromise.then(function(){0<n&&new Toros.Connector({url:'mediadaum/soonsal_v2',queryParams:a,slice:n,filter:function(t){t=t._id;return!l.has(t)},map:t,targetClass:'item_nachu',template:c,svc:'mediadaum_personal',impLabel:'toros_mediadaum_personal_imp',impProps:i,viewLabel:'toros_mediadaum_personal_vimp',viewProps:i,clickLabel:'toros_mediadaum_personal_click',clickProps:i}).render()});var d,m=\"\\n        <li adfit-unit-id=\\\"{0}\\\" adfit-param-cp=\\\"\".concat(\"90_pc_media_news\",\"\\\" adfit-param-channel=\\\"\").concat(\"harmony\",\"\\\" adfit-unit-idx=\\\"{1}\\\">\\n            <div class=\\\"item_column item_ad\\\">\\n                <a href=\\\"#none\\\" class=\\\"link_thumb\\\" adfit-landing-url adfit-action-url adfit-land-type=\\\"right\\\">\\n                    <div class=\\\"wrap_thumb\\\">\\n                        <img class=\\\"thumb_g\\\" adfit-main-img-url adfit-image-width=\\\"200\\\" adfit-image-height=\\\"132\\\">\\n                    </div>\\n                    <div class=\\\"cont_thumb\\\">\\n                        <div class=\\\"inner_cont\\\">\\n                            <div class=\\\"thumb_wrap\\\">\\n                                <strong class=\\\"tit_txt\\\" adfit-title></strong>\\n                                <span class=\\\"info_ad\\\">\\n                                    <span class=\\\"\").concat(\"false\"==\"false\"?'ico_view ico_ad':'ico_ad',\"\\\" adfit-ad-info>AD</span>\\n                                    <span class=\\\"txt_adname\\\" adfit-profile-name></span>\\n                                </span>\\n                            </div>\\n                        </div>\\n                    </div>\\n                </a>\\n            </div>\\n        </li>\\n    \"),u=document.querySelectorAll('.item_ad');(e='[\"DAN-DKlQvio8ceI9FgFm\",\"DAN-DKlQvio8ceI9FgFm\"]')&&(e=JSON.parse(e),d={},e.forEach(function(t,n){d[t]?d[t].push(n):d[t]=[n]}),e=d,Object.entries(e).forEach(function(t){var n=_slicedToArray(t,2),e=n[0],a=n[1].filter(function(t){return t<u.length}),t=a.length,n=new Array(t).fill(0).map(function(t,n){return StringUtil.format(m,e,n)}).join(''),i=a.map(function(t){return u[t]});new AdfitNativeAds({unitId:e,adCount:t}).renderAs(n,function(t){t.forEach(function(t,n){n=i[n];t?n.appendChild(t):n.parentNode.removeChild(n)})}).renderFail(function(){return i.forEach(function(t){return removeAdElement(t)})}).init()}))})();</script>\n",
       "<script>\"use strict\";window.adsbygoogle=window.adsbygoogle||[],Array.from(document.querySelectorAll('ins.adsbygoogle')).filter(function(e){return!e.dataset.adStatus&&!e.dataset.adsbygoogleStatus}).forEach(function(){return adsbygoogle.push({})});var removeParentElement=function(e){var n=null==e?void 0:e.parentElement;null==n||null!==(e=n.parentElement)&&void 0!==e&&e.removeChild(n)},removeAdElement=function(e){var n;null==e||null!==(n=e.parentElement)&&void 0!==n&&n.removeChild(e)},removeGoogleAdElementAndReplaceWithAdfitElement=function(e,n){null!=e&&e.insertAdjacentElement('beforebegin',n),null!=e&&e.remove();n=(null==n?void 0:n.getElementsByTagName(\"ins\"))||[];window.adfit&&0<n.length&&window.adfit.render(n[0])};</script>\n",
       "<script src=\"//t1.daumcdn.net/tiara/js/v1/tiara.min.js\" type=\"text/javascript\"></script>\n",
       "<script>\"use strict\";function ownKeys(t,e){var a,o=Object.keys(t);return Object.getOwnPropertySymbols&&(a=Object.getOwnPropertySymbols(t),e&&(a=a.filter(function(e){return Object.getOwnPropertyDescriptor(t,e).enumerable})),o.push.apply(o,a)),o}function _objectSpread(t){for(var e=1;e<arguments.length;e++){var a=null!=arguments[e]?arguments[e]:{};e%2?ownKeys(Object(a),!0).forEach(function(e){_defineProperty(t,e,a[e])}):Object.getOwnPropertyDescriptors?Object.defineProperties(t,Object.getOwnPropertyDescriptors(a)):ownKeys(Object(a)).forEach(function(e){Object.defineProperty(t,e,Object.getOwnPropertyDescriptor(a,e))})}return t}function _defineProperty(e,t,a){return t in e?Object.defineProperty(e,t,{value:a,enumerable:!0,configurable:!0,writable:!0}):e[t]=a,e}!(function(){if(window.TiaraTracker){var d=!1,u=new Date,s=window.scrollY||document.documentElement.scrollTop,e=\"\",t=e&&\"false\"==\"true\",l=null;try{l=_Cookies.get('DAUMTOP')||_Cookies.get('HARMONY_TOROS_IMP')&&window.atob(_Cookies.get('HARMONY_TOROS_IMP'))}catch(e){l=_Cookies.get('DAUMTOP')}var m=TiaraTracker.getInstance().setSvcDomain(\"media.daum.net\").setPage(\"newsview\").setDeployment(\"production\").trackPage(\"newsview\").setSection(\"digital\").setEnableAlwaysImage(!0),g={id:\"20190728165812603\",type:\"article\",name:\"\\uC77C\\uB860\\uBA38\\uC2A4\\uD06C \\\"\\uD14C\\uC2AC\\uB77C\\uC5D0\\uC11C \\uB137\\uD50C\\uB9AD\\uC2A4\\u00B7\\uC720\\uD29C\\uBE0C \\uC990\\uAE38 \\uB0A0 \\uC628\\uB2E4\\\"\",category_id:\"100031\",category:\"digital\",author:\"\\uC774\\uBBFC\\uC6B0\",author_id:\"letzwin@asiae.co.kr\",provider:\"\\uC544\\uC2DC\\uC544\\uACBD\\uC81C\",provider_id:\"90\",regdate:\"2019-07-28 16:58:12\",plink:\"https://v.daum.net/v/20190728165812603\",image:\"https://t1.daumcdn.net/news/201907/28/akn/20190728165813230vjsq.jpg\",harmony_consumer_id:\"media\",media:\"pcweb\"};t&&(g[\"series\"]=\"mainnews\",g[\"series_id\"]=e);var a,p={contentUniqueKey:\"hamny-\".concat(g.id),docId:\"NHT9NtZWBe\",harmony_consumer_id:\"media\",media:\"pcweb\",reg_dt:\"2019-07-28 16:58:12\",reg_timestamp:\"1564300692871\",tromm_sub_category:\"\"},y=(a=!1,window.addEventListener(\"pageshow\",function(e){(e.persisted||window.performance&&2===window.performance.navigation.type)&&(a=!0)}),function(){return a}),f=(function(){try{var o='article_body',e=document.querySelector('.article_view'),t=(d=c=0,document.querySelectorAll('[dmcf-ptype=\"general\"]').forEach(function(e){var t=(null===(e=e.innerText)||void 0===e||null===(t=e.trim())||void 0===t?void 0:t.length)||0;0<t&&c++,d+=t}),{paragraphCount:c,textLength:d}),n={article_scroll_height_ratio:(e.getBoundingClientRect().height/1200).toFixed(2),article_text_length:t.textLength,article_paragraph_count:t.paragraphCount,'media_count:video':e.querySelectorAll('[dmcf-mtype^=\"video\"]').length,'media_count:image':e.querySelectorAll('[dmcf-mtype=\"image\"]').length,'media_count:audio':e.querySelectorAll('[dmcf-mtype^=\"audio\"]').length,article_out_height_pct:0};n['media_count']=n['media_count:video']+n['media_count:image']+n['media_count:audio'];var a=function(e){var t=e.name,a=(e.element,e.elementRect),e=e.intersectionRect;t==o&&(n['article_out_height_pct']=Math.max(n['article_out_height_pct']||0,Math.round(e.bottom/a.bottom*100)))},r=[];document.querySelectorAll('[data-cloud]').forEach(function(e){var t=e.querySelector('[data-tiara-layer'),t=e.getAttribute('data-tiara-layer')||(null==t?void 0:t.getAttribute('data-tiara-layer'))||e.getAttribute('data-cloud');r.push({name:t,element:e,config:{inRatio:.3,outRatio:.3,outCallback:a}})});var i=new ComponentViewDurationChecker({components:r,rootMargin:\"-\".concat(document.getElementById('kakaoHead').getBoundingClientRect().height,\"px 0px 0px 0px\"),interval:300}).start();return function(){try{i.stop();var t=_objectSpread({},n);return Object.keys(i.duration).forEach(function(e){t[\"duration:\".concat(e)]=i.duration[e].reduce(function(e,t){return e+t[1]-t[0]},0)}),t}catch(e){return{}}}}catch(e){return function(){return{}}}var c,d})(),o=function(){d||m.trackPage(\"p_newsview_보기\").actionKind(\"ViewContent\").pageMeta(g).customProps(p).track()},n=function(){if(!d){d=!0;var e=document.body.scrollHeight,t=window.scrollY,a=e-t,o=window.innerHeight,n=Math.round(t/(e-o)*100),r={},o={duration:(new Date).getTime()-u.getTime(),scroll_percent:n,scroll_height:e,scroll_top:t,scroll_bottom:a,scroll_inner_height:o};try{var i,c;!l||(c=JSON.parse(l)).contents_unique_key===p.contentUniqueKey&&(r={toros_imp_id:c.impression_id,toros_file_hash_key:c.toros_file_hash_key,toros_user_id_type:\"uuid\",toros_page_meta_id:p.contentUniqueKey,toros_event_meta_id:p.contentUniqueKey,toros_action_type:\"dwelltime\"},i=3<location.hostname.split('.').length?location.hostname.substring(location.hostname.indexOf('.')):location.hostname,(c=_Cookies.remove||_Cookies.expire)('HARMONY_TOROS_IMP',{path:'/',domain:i}),c('DAUMTOP',{path:'/',domain:'.daum.net'}),0)}catch(e){}m.trackUsage().actionKind(\"UsagePage\").pageMeta(g).usage(o).customProps(_.assignIn(p,r)).track(),m.trackEvent('UsagePageComponent').pageMeta(g).customProps(_objectSpread(_objectSpread({},f()),{},{start_scroll_top:s,bfcache:y(),duration:(new Date).getTime()-u.getTime()})).track()}};window.addEventListener(\"pageshow\",o,!1),window.addEventListener(\"pagehide\",n,!1),document.addEventListener(\"visibilitychange\",function(){(document[\"hidden\"]?n:o)()},!1),document.addEventListener(\"click\",function(e){var t,a,o,n,r,i,c,d=e.target,u=d.closest(\"[data-cloud]\"),s=d.closest(\"a\")||d.closest(\"button\")||d.closest('input[type=\"radio\"], input[type=\"checkbox\"]');s&&null!=u&&u.contains(s)&&((i=TiaraTracker.getClickInfo(e))&&(t=i.action,a=i.click,o=(null==t?void 0:t.name)||\"\",n=(null==t?void 0:t.kind)||\"\",r=_.assignIn(p,i.customProps),u=d.closest(\"[data-tiara]\"),i=s.querySelector(\"img\"),d=(function(e,t,a){e=e.closest('[data-tiara-ordnum-layer]');if(e&&!t.closest('[adfit-unit-id]')){if(!!e.querySelector('[data-tiara-ordnum]')&&!isNaN(Number(a)))return a;e=e.querySelectorAll('a, button');return Array.from(e).filter(function(e){return!e.closest('[adfit-unit-id]')}).findIndex(function(e){return e===t})+1}})(d,s,a.ordnum),e={layer1:a.layer1,layer2:a.layer2||\"\",layer3:(null==u?void 0:u.dataset.tiara)||a.layer3||\"\",click_url:s.href||\"\",ordnum:d,copy:(c=s.getAttribute('data-action-type'),['RECOMMEND','LIKE','IMPRESS','ANGRY','SAD'].includes(c)?null==t?void 0:t.name:s.innerText),image:(null==i?void 0:i.src)||\"\",posX:e.clientX,posY:e.clientY},m.trackEvent(o).pageMeta(g).actionKind(n).customProps(r).click(e).track()))}),document.addEventListener('mainnews-viewimp',function(e){e=(null===(e=e.detail)||void 0===e?void 0:e.tiara).customProps;m.trackViewImp().customProps(e).track()}),window.sendAbBucketLog=function(e){try{var t=null==e?void 0:e.getAttribute('data-ab-bucket'),a=null==e?void 0:e.getAttribute('data-ab-bucket-type');t&&a&&m.trackEvent('NewsAbBucket').pageMeta(g).eventMeta({id:t,name:t,type:a}).track()}catch(e){}}}})();</script>\n",
       "<script>\"use strict\";!(function(){var o='v.daum.net',e=_Cookies.remove||_Cookies.expire;e('_H_CT',{path:'/',domain:o}),e('_H_MN',{path:'/',domain:o}),e('_H_DOC_ID',{path:'/',domain:o})})();</script>\n",
       "</body>\n",
       "</html>"
      ]
     },
     "execution_count": 4,
     "metadata": {},
     "output_type": "execute_result"
    }
   ],
   "source": [
    "url = 'https://v.daum.net/v/20190728165812603'\n",
    "resp = requests.get(url)\n",
    "soup = BeautifulSoup(resp.text)\n",
    "soup"
   ]
  },
  {
   "cell_type": "markdown",
   "metadata": {},
   "source": [
    "* id, class 속성으로 tag 찾기\n",
    " - 타이틀\n",
    " - 작성자, 작성일"
   ]
  },
  {
   "cell_type": "code",
   "execution_count": 7,
   "metadata": {},
   "outputs": [
    {
     "name": "stdout",
     "output_type": "stream",
     "text": [
      "<h3 class=\"tit_view\" data-translation=\"true\">일론머스크 \"테슬라에서 넷플릭스·유튜브 즐길 날 온다\"</h3>\n"
     ]
    },
    {
     "data": {
      "text/plain": [
       "'일론머스크 \"테슬라에서 넷플릭스·유튜브 즐길 날 온다\"'"
      ]
     },
     "execution_count": 7,
     "metadata": {},
     "output_type": "execute_result"
    }
   ],
   "source": [
    "title = soup.find('h3', class_='tit_view')\n",
    "print(title)\n",
    "title.get_text()"
   ]
  },
  {
   "cell_type": "code",
   "execution_count": 22,
   "metadata": {},
   "outputs": [
    {
     "data": {
      "text/plain": [
       "<span class=\"txt_info\">이민우</span>"
      ]
     },
     "execution_count": 22,
     "metadata": {},
     "output_type": "execute_result"
    }
   ],
   "source": [
    "soup.findAll('span', class_='txt_info')[0]"
   ]
  },
  {
   "cell_type": "code",
   "execution_count": 23,
   "metadata": {},
   "outputs": [
    {
     "data": {
      "text/plain": [
       "'이민우'"
      ]
     },
     "execution_count": 23,
     "metadata": {},
     "output_type": "execute_result"
    }
   ],
   "source": [
    "soup.findAll('span', class_='txt_info')[0].get_text()"
   ]
  },
  {
   "cell_type": "code",
   "execution_count": 24,
   "metadata": {},
   "outputs": [
    {
     "data": {
      "text/plain": [
       "<span class=\"txt_info\">입력 <span class=\"num_date\">2019. 7. 28. 16:58</span></span>"
      ]
     },
     "execution_count": 24,
     "metadata": {},
     "output_type": "execute_result"
    }
   ],
   "source": [
    "soup.findAll('span', class_='txt_info')[1]"
   ]
  },
  {
   "cell_type": "code",
   "execution_count": 25,
   "metadata": {},
   "outputs": [
    {
     "data": {
      "text/plain": [
       "'입력 2019. 7. 28. 16:58'"
      ]
     },
     "execution_count": 25,
     "metadata": {},
     "output_type": "execute_result"
    }
   ],
   "source": [
    "soup.findAll('span', class_='txt_info')[1].get_text()"
   ]
  },
  {
   "cell_type": "code",
   "execution_count": 33,
   "metadata": {},
   "outputs": [
    {
     "data": {
      "text/plain": [
       "'\\n\\n\\n\\n\\n            일론 머스크 테슬라 최고경영자(CEO) [이미지출처=로이터연합뉴스]\\n           \\n\\n\\n[아시아경제 이민우 기자] 일론 머스크 테슬라 최고경영자(CEO)가 자사 전기 자동차 모델에 넷플릭스와 유튜브 등 온라인동영상서비스(OTT)를 탑재할 것이라고 예고했다. 단순히 자율 주행 전기차가 단순히 주행을 위한 정보를 알려주는 것을 넘어 각종 영상 콘텐츠를 즐기는 공간으로도 확장하겠다는 전략으로 풀이된다.\\n\\n27일(현지시간) 더버지 등 주요 외신들에 따르면 머스크 CEO는 자신의 트위터를 통해 이 같은 계획을 밝혔다. 그는 \"자동차가 정차했을 때 넷플릭스와 유튜브를 감상할 수 있는 기능이 조만간 추가될 것\"이라며 \"편안한 좌석과 서라운드 사운드 오디오를 통해 영화관과 같은 느낌을 받을 수 있을 것\"이라고 강조했다.\\n\\n\\n\\n\\n            (출처=일론 머스크 트위터 계정 캡쳐)\\n           \\n\\n\\n테슬라가 이처럼 콘텐츠 방면으로 확장하려 든 것은 이번이 처음이 아니다. 지난달 세계 최대 게임쇼 E3에서는 이미 운전자가 \\'폴아웃 쉘터\\'라는 게임을 할 수 있을 것이라고 발표한 바 있다. 이후에도 최근 게임업체 아타리사(社)의 자동차 경주 게임 ‘폴포지션’, 슈팅게임 ‘템페스트’, ‘미사일커맨드’ 등 고전 게임을 제공하기도 했다. 운전대로 게임을 조작하는 방식으로, 차가 주차돼 있을 경우에만 즐길 수 있다.\\n\\n이번 영상 콘텐츠는 주행 중에도 감상할 수 있도록 하는 방안을 고려하고 있다. 테슬라 측은 규제당국이 자율주행에 대해 완전히 승인하면 차량이 움직일 때에도 승객이 동영상을 즐길 수 있을 것이라고 설명했다.\\n\\n하지만 아직까지 자율주행차의 안전에 대한 우려는 완전히 걷혀지지 않은 상황이다. 지난 2017년 차량공유 서비스 우버의 자율주행 시범차량이 보행자와 충돌한 사고가 발생한 바 있다. 게다가 당시 시험 운전자는 디즈니의 동영상 스트리밍 서비스인 \\'훌루\\'를 이용하고 있던 것으로 밝혀졌다.\\n\\n이민우 기자 letzwin@asiae.co.kr\\n\\n'"
      ]
     },
     "execution_count": 33,
     "metadata": {},
     "output_type": "execute_result"
    }
   ],
   "source": [
    "#본문 내용 가져오기\n",
    "soup.find('div', class_='article_view').get_text()"
   ]
  },
  {
   "cell_type": "code",
   "execution_count": 36,
   "metadata": {},
   "outputs": [
    {
     "data": {
      "text/plain": [
       "'[아시아경제 이민우 기자] 일론 머스크 테슬라 최고경영자(CEO)가 자사 전기 자동차 모델에 넷플릭스와 유튜브 등 온라인동영상서비스(OTT)를 탑재할 것이라고 예고했다. 단순히 자율 주행 전기차가 단순히 주행을 위한 정보를 알려주는 것을 넘어 각종 영상 콘텐츠를 즐기는 공간으로도 확장하겠다는 전략으로 풀이된다.27일(현지시간) 더버지 등 주요 외신들에 따르면 머스크 CEO는 자신의 트위터를 통해 이 같은 계획을 밝혔다. 그는 \"자동차가 정차했을 때 넷플릭스와 유튜브를 감상할 수 있는 기능이 조만간 추가될 것\"이라며 \"편안한 좌석과 서라운드 사운드 오디오를 통해 영화관과 같은 느낌을 받을 수 있을 것\"이라고 강조했다.테슬라가 이처럼 콘텐츠 방면으로 확장하려 든 것은 이번이 처음이 아니다. 지난달 세계 최대 게임쇼 E3에서는 이미 운전자가 \\'폴아웃 쉘터\\'라는 게임을 할 수 있을 것이라고 발표한 바 있다. 이후에도 최근 게임업체 아타리사(社)의 자동차 경주 게임 ‘폴포지션’, 슈팅게임 ‘템페스트’, ‘미사일커맨드’ 등 고전 게임을 제공하기도 했다. 운전대로 게임을 조작하는 방식으로, 차가 주차돼 있을 경우에만 즐길 수 있다.이번 영상 콘텐츠는 주행 중에도 감상할 수 있도록 하는 방안을 고려하고 있다. 테슬라 측은 규제당국이 자율주행에 대해 완전히 승인하면 차량이 움직일 때에도 승객이 동영상을 즐길 수 있을 것이라고 설명했다.하지만 아직까지 자율주행차의 안전에 대한 우려는 완전히 걷혀지지 않은 상황이다. 지난 2017년 차량공유 서비스 우버의 자율주행 시범차량이 보행자와 충돌한 사고가 발생한 바 있다. 게다가 당시 시험 운전자는 디즈니의 동영상 스트리밍 서비스인 \\'훌루\\'를 이용하고 있던 것으로 밝혀졌다.이민우 기자 letzwin@asiae.co.kr'"
      ]
     },
     "execution_count": 36,
     "metadata": {},
     "output_type": "execute_result"
    }
   ],
   "source": [
    "article = soup.find('div', class_='article_view')\n",
    "contents = ''\n",
    "for p in article.find_all('p'):\n",
    "    contents += p.get_text()\n",
    "contents"
   ]
  },
  {
   "cell_type": "markdown",
   "metadata": {},
   "source": [
    "* CSS를 이용하여 tag 찾기\n",
    " - select, select_one함수 사용 \n",
    " - css selector 사용법\n",
    "   - 태그명 찾기 tag \n",
    "   - 자손 태그 찾기 - 자손 관계 (tag tag)\n",
    "   - 자식 태그 찾기 - 다이렉트 자식 관계 (tag > tag)\n",
    "   - 아이디 찾기 #id\n",
    "   - 클래스 찾기 .class\n",
    "   - 속성값 찾기 [name='test']\n",
    "     - 속성값 prefix 찾기 [name ^='test']\n",
    "     - 속성값 suffix 찾기 [name $='test']\n",
    "     - 속성값 substring 찾기 [name *='test]\n",
    "   - n번째 자식 tag 찾기 :nth-child(n)"
   ]
  },
  {
   "cell_type": "code",
   "execution_count": 44,
   "metadata": {},
   "outputs": [
    {
     "data": {
      "text/plain": [
       "[<div class=\"container-doc wrap_view\" data-tiara-layer=\"pc_news\" id=\"kakaoWrap\">\n",
       " <header class=\"doc-header\" data-cloud-area=\"header\" id=\"kakaoHead\">\n",
       " <div class=\"head_top\" data-cloud=\"newsview_pc_gnb\" data-tiara-layer=\"news_header_gnb\">\n",
       " <h1 class=\"doc-title\"> <a class=\"link_daum\" data-tiara=\"로고\" data-tiara-action-name=\"GNB다음로고_클릭\" href=\"//daum.net\"> <img alt=\"Daum\" class=\"logo_daum\" height=\"18\" src=\"//t1.daumcdn.net/media/common/newsview_2021/pc/rtn/logo_daum.png\" width=\"44\"/> </a> <a data-tiara=\"언론사명\" data-tiara-action-name=\"GNB언론사명_클릭\" href=\"https://v.daum.net/channel/90/home\" id=\"kakaoServiceLogo\">아시아경제</a> </h1>\n",
       " <div class=\"user_service\">\n",
       " <h2 class=\"screen_out\">검색</h2> <a class=\"link_search\" data-tiara=\"검색\" data-tiara-action-kind=\"Search\" data-tiara-action-name=\"GNB검색_클릭\" href=\"#none\"> <span class=\"ico_view ico_search\">검색</span> </a>\n",
       " <div class=\"search_wrap\" id=\"daumSearchLayer\">\n",
       " <form action=\"https://search.daum.net/search\" id=\"daumSearchForm\" method=\"get\">\n",
       " <fieldset class=\"fld_inside\"> <legend class=\"screen_out\">검색어 입력폼</legend>\n",
       " <div class=\"box_search\"> <label class=\"screen_out\" for=\"qVal\">통합검색</label>\n",
       " <input name=\"nil_profile\" type=\"hidden\" value=\"search\"/>\n",
       " <input name=\"nil_src\" type=\"hidden\" value=\"media\"/>\n",
       " <input name=\"DA\" type=\"hidden\" value=\"23A\"/>\n",
       " <input name=\"rtmaxcoll\" type=\"hidden\" value=\"DNS,NNS\"/>\n",
       " <input autocomplete=\"off\" class=\"tf_keyword\" id=\"qVal\" name=\"q\" spellcheck=\"false\" title=\"검색어 입력\" type=\"text\" value=\"\"/> <button class=\"btn_reset\" id=\"daumBtnReset\" type=\"reset\"> <span class=\"ico_view\">입력삭제</span> </button> <button class=\"btn_search\" id=\"daumBtnSubmit\" type=\"submit\"> <span class=\"ico_view ico_search\"> <span class=\"ir_wa\">검색</span> </span> </button>\n",
       " </div>\n",
       " </fieldset>\n",
       " <div class=\"suggest_wrap\" id=\"wrap_suggestBox\">\n",
       " <div class=\"suggestBox box_sub\" id=\"suggestBox\"></div>\n",
       " </div>\n",
       " </form>\n",
       " </div> <a class=\"link_closed\" href=\"#none\"><span class=\"ico_view\">닫기</span></a>\n",
       " </div>\n",
       " <div class=\"util_socialchare\"> <button class=\"btn_share\" data-tiara=\"SNS공유하기\" data-tiara-action-kind=\"Share\" data-tiara-action-name=\"GNB공유_클릭\" id=\"rSocialShareButton2\"> <span class=\"ico_view ico_share\">공유목록 펼치기</span> </button>\n",
       " <div id=\"rSocialShareLayerContainer2\"></div>\n",
       " </div>\n",
       " </div>\n",
       " </header>\n",
       " <main class=\"doc-main\" id=\"kakaoContent\">\n",
       " <section class=\"inner-main\">\n",
       " <h2 class=\"screen_out\">IT</h2>\n",
       " <div class=\"main-content\" data-cloud-area=\"addition\">\n",
       " <article class=\"box_view\" data-cloud-area=\"article\" id=\"mArticle\">\n",
       " <div class=\"head_view\" data-cloud=\"newsview_article_head\" data-tiara-layer=\"article_head\">\n",
       " <h3 class=\"tit_view\" data-translation=\"true\">일론머스크 \"테슬라에서 넷플릭스·유튜브 즐길 날 온다\"</h3>\n",
       " <div class=\"info_view\"> <span class=\"txt_info\">이민우</span> <span class=\"txt_info\">입력 <span class=\"num_date\">2019. 7. 28. 16:58</span></span>\n",
       " </div>\n",
       " <div class=\"util_wrap\">\n",
       " <div class=\"util_view\">\n",
       " <div class=\"item_util\" data-tiara-action-name=\"헤드요약_클릭\"> <button class=\"btn_util btn_synop\" data-tiara=\"요약보기\" type=\"button\"> <span class=\"ico_view\">요약보기</span> </button>\n",
       " <div class=\"view_layer\" id=\"digestViewLayer\">\n",
       " <div class=\"inner_view_layer inner_synop_layer\">\n",
       " <div class=\"layer_head\"> <strong class=\"tit_layer\" data-translation=\"true\">자동요약</strong> <span class=\"info_layer\" data-translation=\"true\">기사 제목과 주요 문장을 기반으로 자동요약한 결과입니다.<br/> 전체 맥락을 이해하기 위해서는 본문 보기를 권장합니다.</span>\n",
       " </div>\n",
       " <div class=\"layer_body\" data-translation=\"true\">\n",
       " <p>일론 머스크 테슬라 최고경영자(CEO)가 자사 전기 자동차 모델에 넷플릭스와 유튜브 등 온라인동영상서비스(OTT)를 탑재할 것이라고 예고했다.</p>\n",
       " <p>단순히 자율 주행 전기차가 단순히 주행을 위한 정보를 알려주는 것을 넘어 각종 영상 콘텐츠를 즐기는 공간으로도 확장하겠다는 전략으로 풀이된다.</p>\n",
       " <p>테슬라 측은 규제당국이 자율주행에 대해 완전히 승인하면 차량이 움직일 때에도 승객이 동영상을 즐길 수 있을 것이라고 설명했다.</p>\n",
       " </div>\n",
       " <div class=\"layer_foot\"> <a class=\"link_close\" data-tiara=\"요약닫기\" href=\"#none\"> <span class=\"ico_view\">닫기</span> </a>\n",
       " </div>\n",
       " </div>\n",
       " </div>\n",
       " </div>\n",
       " <div class=\"item_util\" data-tiara-action-name=\"헤드음성_클릭\"> <button class=\"btn_util btn_tts\" data-tiara=\"음성버튼\" type=\"button\"> <span class=\"ico_view\">음성으로 듣기</span> </button>\n",
       " <div class=\"view_layer\" id=\"ttsViewLayer\">\n",
       " <div class=\"inner_view_layer inner_tts_layer\">\n",
       " <div class=\"layer_head\"> <strong class=\"tit_layer\">음성재생 설정</strong>\n",
       " </div>\n",
       " <div class=\"layer_body\">\n",
       " <ul class=\"list_tts\">\n",
       " <li> <input class=\"inp_tts\" id=\"inpMale\" name=\"inpGender\" type=\"radio\" value=\"Male\"/> <label class=\"lab_tts\" for=\"inpMale\"> <span class=\"ico_view\"></span>남성 </label> </li>\n",
       " <li> <input class=\"inp_tts\" id=\"inpFemale\" name=\"inpGender\" type=\"radio\" value=\"Female\"/> <label class=\"lab_tts\" for=\"inpFemale\"> <span class=\"ico_view\"></span>여성 </label> </li>\n",
       " </ul>\n",
       " <ul class=\"list_tts\">\n",
       " <li> <input class=\"inp_tts\" id=\"inpSlow\" name=\"inpSpeed\" type=\"radio\" value=\"slow\"/> <label class=\"lab_tts\" for=\"inpSlow\"> <span class=\"ico_view\"></span>느림 </label> </li>\n",
       " <li> <input class=\"inp_tts\" id=\"inpNormal\" name=\"inpSpeed\" type=\"radio\" value=\"normal\"/> <label class=\"lab_tts\" for=\"inpNormal\"> <span class=\"ico_view\"></span>보통 </label> </li>\n",
       " <li> <input class=\"inp_tts\" id=\"inpFast\" name=\"inpSpeed\" type=\"radio\" value=\"fast\"/> <label class=\"lab_tts\" for=\"inpFast\"> <span class=\"ico_view\"></span>빠름 </label> </li>\n",
       " </ul> <button class=\"btn_play\" data-tiara=\"음성_재생하기\" type=\"button\">음성 재생하기</button>\n",
       " </div>\n",
       " <div class=\"layer_foot\"> <a class=\"link_close\" data-tiara=\"음성_재생중지\" href=\"#none\"> <span class=\"ico_view\">닫기</span> </a>\n",
       " </div>\n",
       " </div>\n",
       " </div> <button class=\"btn_soundplay\" data-tiara=\"음성_재생중지\" type=\"button\"> <span class=\"ico_sound\"></span>음성 재생 <span class=\"ico_view ico_close\">중지</span> </button>\n",
       " <audio id=\"ttsPlayer\" preload=\"none\" style=\"display:none\"></audio>\n",
       " </div>\n",
       " <div class=\"item_util\" data-tiara-action-name=\"헤드번역_클릭\"> <button class=\"btn_util btn_translate\" data-tiara=\"번역설정\" id=\"btnTranslate\" type=\"button\"> <span class=\"ico_view\">번역 설정</span> </button>\n",
       " <div class=\"view_layer\" id=\"layerTranslate\">\n",
       " <div class=\"inner_view_layer inner_translate_layer\">\n",
       " <div class=\"layer_head\"> <strong class=\"tit_layer\">번역<em class=\"ico_view\">beta</em></strong> <span class=\"info_translate ico_view\">Translated by <a class=\"link_kakaoi\" href=\"https://kakao.ai/\">kaka i</a></span>\n",
       " </div>\n",
       " <div class=\"layer_body\">\n",
       " <ul class=\"list_lang\">\n",
       " <li> <button class=\"btn_lang btn_translate_target_lang\" data-tiara=\"한국어\" name=\"kr\" type=\"button\"> <strong class=\"tit_lang tit_selected\">한국어</strong> <span class=\"txt_lang\">-</span> </button> </li>\n",
       " <li> <button class=\"btn_lang btn_translate_target_lang\" data-tiara=\"영어\" name=\"en\" type=\"button\"> <strong class=\"tit_lang\">English</strong> <span class=\"txt_lang\">영어</span> </button> </li>\n",
       " <li> <button class=\"btn_lang btn_translate_target_lang\" data-tiara=\"일본어\" name=\"jp\" type=\"button\"> <strong class=\"tit_lang\">日本語</strong> <span class=\"txt_lang\">일본어</span> </button> </li>\n",
       " <li> <button class=\"btn_lang btn_translate_target_lang\" data-tiara=\"중국어\" name=\"cn\" type=\"button\"> <strong class=\"tit_lang\">简体中文</strong> <span class=\"txt_lang\">중국어</span> </button> </li>\n",
       " <li> <button class=\"btn_lang btn_translate_target_lang\" data-tiara=\"네덜란드어\" name=\"nl\" type=\"button\"> <strong class=\"tit_lang\">Nederlands</strong> <span class=\"txt_lang\">네델란드어</span> </button> </li>\n",
       " <li> <button class=\"btn_lang btn_translate_target_lang\" data-tiara=\"독일어\" name=\"de\" type=\"button\"> <strong class=\"tit_lang\">Deutsch</strong> <span class=\"txt_lang\">독일어</span> </button> </li>\n",
       " <li> <button class=\"btn_lang btn_translate_target_lang\" data-tiara=\"러시아어\" name=\"ru\" type=\"button\"> <strong class=\"tit_lang\">Русский</strong> <span class=\"txt_lang\">러시아어</span> </button> </li>\n",
       " <li> <button class=\"btn_lang btn_translate_target_lang\" data-tiara=\"말레이시아어\" name=\"ms\" type=\"button\"> <strong class=\"tit_lang\">Malaysia</strong> <span class=\"txt_lang\">말레이시아어</span> </button> </li>\n",
       " <li> <button class=\"btn_lang btn_translate_target_lang\" data-tiara=\"벵골어\" name=\"bn\" type=\"button\"> <strong class=\"tit_lang\">বাঙ্গোল ভাষা</strong> <span class=\"txt_lang\">벵골어</span> </button> </li>\n",
       " <li> <button class=\"btn_lang btn_translate_target_lang\" data-tiara=\"베트남어\" name=\"vi\" type=\"button\"> <strong class=\"tit_lang\">tiếng Việt</strong> <span class=\"txt_lang\">베트남어</span> </button> </li>\n",
       " <li> <button class=\"btn_lang btn_translate_target_lang\" data-tiara=\"스페인어\" name=\"es\" type=\"button\"> <strong class=\"tit_lang\">Español</strong> <span class=\"txt_lang\">스페인어</span> </button> </li>\n",
       " <li> <button class=\"btn_lang btn_translate_target_lang\" data-tiara=\"아랍어\" name=\"ar\" type=\"button\"> <strong class=\"tit_lang\">اللغة العربية</strong> <span class=\"txt_lang\">아랍어</span> </button> </li>\n",
       " <li> <button class=\"btn_lang btn_translate_target_lang\" data-tiara=\"이탈리아어\" name=\"it\" type=\"button\"> <strong class=\"tit_lang\">Italiano</strong> <span class=\"txt_lang\">이탈리아어</span> </button> </li>\n",
       " <li> <button class=\"btn_lang btn_translate_target_lang\" data-tiara=\"인도네시아어\" name=\"id\" type=\"button\"> <strong class=\"tit_lang\">bahasa Indonesia</strong> <span class=\"txt_lang\">인도네시아어</span> </button> </li>\n",
       " <li> <button class=\"btn_lang btn_translate_target_lang\" data-tiara=\"태국어\" name=\"th\" type=\"button\"> <strong class=\"tit_lang\">ภาษาไทย</strong> <span class=\"txt_lang\">태국어</span> </button> </li>\n",
       " <li> <button class=\"btn_lang btn_translate_target_lang\" data-tiara=\"터키어\" name=\"tr\" type=\"button\"> <strong class=\"tit_lang\">Türkçe</strong> <span class=\"txt_lang\">터키어</span> </button> </li>\n",
       " <li> <button class=\"btn_lang btn_translate_target_lang\" data-tiara=\"포르투갈어\" name=\"pt\" type=\"button\"> <strong class=\"tit_lang\">Português</strong> <span class=\"txt_lang\">포르투갈어</span> </button> </li>\n",
       " <li> <button class=\"btn_lang btn_translate_target_lang\" data-tiara=\"프랑스어\" name=\"fr\" type=\"button\"> <strong class=\"tit_lang\">Français</strong> <span class=\"txt_lang\">프랑스어</span> </button> </li>\n",
       " <li> <button class=\"btn_lang btn_translate_target_lang\" data-tiara=\"힌디어\" name=\"hi\" type=\"button\"> <strong class=\"tit_lang\">हिन्दी</strong> <span class=\"txt_lang\">힌디어</span> </button> </li>\n",
       " </ul>\n",
       " </div>\n",
       " <div class=\"layer_foot\"> <a class=\"link_close\" data-tiara=\"번역닫기\" href=\"#none\" id=\"btnTranslateClose\"> <span class=\"ico_view\">닫기</span> </a>\n",
       " </div>\n",
       " </div>\n",
       " </div>\n",
       " <div class=\"loading_layer\" id=\"layerTranslating\" style=\"display:none\">\n",
       " <div class=\"inner_loading_layer\"> <span class=\"ico_view ico_loading\"></span> <strong class=\"tit_translate\">번역중</strong> <span class=\"ico_view txt_translate\">Now in translation</span>\n",
       " </div>\n",
       " </div>\n",
       " </div>\n",
       " <div class=\"item_util\" data-tiara-action-name=\"헤드글씨크기_클릭\"> <button class=\"btn_util btn_font\" data-tiara=\"글씨크기_조절하기\" type=\"button\"> <span class=\"ico_view\">글씨크기 조절하기</span> </button>\n",
       " <div class=\"view_layer\">\n",
       " <div class=\"inner_view_layer inner_fs_layer\">\n",
       " <div class=\"layer_head\"> <strong class=\"tit_layer\">글자크기 설정</strong> <span class=\"info_layer\">파란원을 좌우로 움직이시면 글자크기가 변경 됩니다.</span>\n",
       " </div>\n",
       " <div class=\"layer_body\">\n",
       " <div class=\"set_fs\"> <span aria-hidden=\"true\" class=\"txt_fs txt_small\">가</span>\n",
       " <ul class=\"list_fs\">\n",
       " <li> <input checked=\"\" class=\"inp_fs\" id=\"inpFont1\" name=\"inpFont\" type=\"radio\" value=\"17\"/> <label class=\"lab_fs\" for=\"inpFont1\">매우 작은 폰트</label> </li>\n",
       " <li> <input class=\"inp_fs\" id=\"inpFont2\" name=\"inpFont\" type=\"radio\" value=\"18\"/> <label class=\"lab_fs\" for=\"inpFont2\">작은 폰트</label> </li>\n",
       " <li> <input class=\"inp_fs\" id=\"inpFont3\" name=\"inpFont\" type=\"radio\" value=\"19\"/> <label class=\"lab_fs\" for=\"inpFont3\">보통 폰트</label> </li>\n",
       " <li> <input class=\"inp_fs\" id=\"inpFont4\" name=\"inpFont\" type=\"radio\" value=\"21\"/> <label class=\"lab_fs\" for=\"inpFont4\">큰 폰트</label> </li>\n",
       " <li> <input class=\"inp_fs\" id=\"inpFont5\" name=\"inpFont\" type=\"radio\" value=\"23\"/> <label class=\"lab_fs\" for=\"inpFont5\">매우 큰 폰트</label> </li>\n",
       " </ul> <span aria-hidden=\"true\" class=\"txt_fs txt_big\">가</span>\n",
       " </div>\n",
       " <div class=\"set_view fs_type1\">\n",
       " <p>이 글자크기로 변경됩니다.</p>\n",
       " <p>(예시) 가장 빠른 뉴스가 있고 다양한 정보, 쌍방향 소통이 숨쉬는 다음뉴스를 만나보세요. 다음뉴스는 국내외 주요이슈와 실시간 속보, 문화생활 및 다양한 분야의 뉴스를 입체적으로 전달하고 있습니다.</p>\n",
       " </div>\n",
       " </div>\n",
       " <div class=\"layer_foot\"> <a class=\"link_close\" data-tiara=\"글씨크기_닫기\" href=\"#none\"> <span class=\"ico_view\">닫기</span> </a>\n",
       " </div>\n",
       " </div>\n",
       " </div>\n",
       " </div>\n",
       " <div class=\"item_util\"> <button class=\"btn_util btn_print\" data-tiara=\"인쇄하기\" data-tiara-action-name=\"헤드인쇄_클릭\" type=\"button\"> <span class=\"ico_view\">인쇄하기</span> </button>\n",
       " </div>\n",
       " </div>\n",
       " </div>\n",
       " </div>\n",
       " <div class=\"news_view fs_type1\" data-cloud=\"article_body\">\n",
       " <div id=\"layerTranslateNotice\" style=\"display:none;\"></div> <strong class=\"summary_view\" data-translation=\"true\">\"주행 중에도 넷플릭스·유튜브 감상 가능할 것\"<br/>자율주행 아직까지 안전 우려 남아..실현 시기는 미지수</strong>\n",
       " <div class=\"article_view\" data-tiara-action-name=\"본문이미지확대_클릭\" data-tiara-layer=\"article_body\" data-translation-body=\"true\">\n",
       " <section dmcf-sid=\"NkBWHdyrlY\">\n",
       " <figure class=\"figure_frm origin_fig\" dmcf-pid=\"N7s2biXYTL\" dmcf-ptype=\"figure\">\n",
       " <p class=\"link_figure\"><img alt=\"일론 머스크 테슬라 최고경영자(CEO) [이미지출처=로이터연합뉴스]\" class=\"thumb_g_article\" data-org-src=\"https://t1.daumcdn.net/news/201907/28/akn/20190728165813230vjsq.jpg\" data-org-width=\"550\" dmcf-mid=\"NBMY3ZZhN4\" dmcf-mtype=\"image\" height=\"auto\" src=\"https://img2.daumcdn.net/thumb/R658x0.q70/?fname=https://t1.daumcdn.net/news/201907/28/akn/20190728165813230vjsq.jpg\" width=\"658\"/></p>\n",
       " <figcaption class=\"txt_caption default_figure\">\n",
       "             일론 머스크 테슬라 최고경영자(CEO) [이미지출처=로이터연합뉴스]\n",
       "            </figcaption>\n",
       " </figure>\n",
       " <div dmcf-pid=\"NU9K9rfDgA\" dmcf-ptype=\"general\">\n",
       " <p>[아시아경제 이민우 기자] 일론 머스크 테슬라 최고경영자(CEO)가 자사 전기 자동차 모델에 넷플릭스와 유튜브 등 온라인동영상서비스(OTT)를 탑재할 것이라고 예고했다. 단순히 자율 주행 전기차가 단순히 주행을 위한 정보를 알려주는 것을 넘어 각종 영상 콘텐츠를 즐기는 공간으로도 확장하겠다는 전략으로 풀이된다.</p>\n",
       " <br/>\n",
       " <p>27일(현지시간) 더버지 등 주요 외신들에 따르면 머스크 CEO는 자신의 트위터를 통해 이 같은 계획을 밝혔다. 그는 \"자동차가 정차했을 때 넷플릭스와 유튜브를 감상할 수 있는 기능이 조만간 추가될 것\"이라며 \"편안한 좌석과 서라운드 사운드 오디오를 통해 영화관과 같은 느낌을 받을 수 있을 것\"이라고 강조했다.</p>\n",
       " </div>\n",
       " <figure class=\"figure_frm origin_fig\" dmcf-pid=\"NlqQhf4JmF\" dmcf-ptype=\"figure\">\n",
       " <p class=\"link_figure\"><img alt=\"(출처=일론 머스크 트위터 계정 캡쳐)\" class=\"thumb_g_article\" data-org-src=\"https://t1.daumcdn.net/news/201907/28/akn/20190728165813670hwxf.png\" data-org-width=\"550\" dmcf-mid=\"NRhnb5SRpx\" dmcf-mtype=\"image\" height=\"auto\" src=\"https://img1.daumcdn.net/thumb/R658x0.q70/?fname=https://t1.daumcdn.net/news/201907/28/akn/20190728165813670hwxf.png\" width=\"658\"/></p>\n",
       " <figcaption class=\"txt_caption default_figure\">\n",
       "             (출처=일론 머스크 트위터 계정 캡쳐)\n",
       "            </figcaption>\n",
       " </figure>\n",
       " <div dmcf-pid=\"NpkG4d9A6j\" dmcf-ptype=\"general\">\n",
       " <p>테슬라가 이처럼 콘텐츠 방면으로 확장하려 든 것은 이번이 처음이 아니다. 지난달 세계 최대 게임쇼 E3에서는 이미 운전자가 '폴아웃 쉘터'라는 게임을 할 수 있을 것이라고 발표한 바 있다. 이후에도 최근 게임업체 아타리사(社)의 자동차 경주 게임 ‘폴포지션’, 슈팅게임 ‘템페스트’, ‘미사일커맨드’ 등 고전 게임을 제공하기도 했다. 운전대로 게임을 조작하는 방식으로, 차가 주차돼 있을 경우에만 즐길 수 있다.</p>\n",
       " <br/>\n",
       " <p>이번 영상 콘텐츠는 주행 중에도 감상할 수 있도록 하는 방안을 고려하고 있다. 테슬라 측은 규제당국이 자율주행에 대해 완전히 승인하면 차량이 움직일 때에도 승객이 동영상을 즐길 수 있을 것이라고 설명했다.</p>\n",
       " <br/>\n",
       " <p>하지만 아직까지 자율주행차의 안전에 대한 우려는 완전히 걷혀지지 않은 상황이다. 지난 2017년 차량공유 서비스 우버의 자율주행 시범차량이 보행자와 충돌한 사고가 발생한 바 있다. 게다가 당시 시험 운전자는 디즈니의 동영상 스트리밍 서비스인 '훌루'를 이용하고 있던 것으로 밝혀졌다.</p>\n",
       " </div>\n",
       " <p dmcf-pid=\"NUOWg8Qxyd\" dmcf-ptype=\"general\">이민우 기자 letzwin@asiae.co.kr</p>\n",
       " </section>\n",
       " </div>\n",
       " <p class=\"\" data-translation=\"true\">Copyright © 아시아경제. 무단전재 및 재배포 금지.</p>\n",
       " </div>\n",
       " <div class=\"emotion_wrap\" data-cloud=\"newsview_alex_action_emotion\">\n",
       " <div class=\"emotion_tit\"> <strong class=\"tit_emotion\">이 기사에 대해 어떻게 생각하시나요?</strong>\n",
       " </div>\n",
       " <div class=\"emotion_list\" data-tiara-layer=\"alex_action_emotion\">\n",
       " <div class=\"alex-actions\" data-action-mode=\"REACTION\" data-client-id=\"26BXAvKny5WF5Z09lr5k77Y8\" data-item-key=\"20190728165812603\" data-message-channel=\"alex-action-reactions\" id=\"alex_action_emotion\">\n",
       " </div>\n",
       " </div>\n",
       " </div>\n",
       " <div class=\"viewrelate_wrap\" data-cloud=\"newsview_pc_related_news\">\n",
       " <div class=\"viewrelate_tit\"> <strong class=\"tit_viewrelate\">아시아경제에서 직접 확인하세요.</strong> <span class=\"txt_viewrelate\">해당 언론사로 이동합니다.</span>\n",
       " </div>\n",
       " <ul class=\"list_viewrelate\" data-tiara-action-kind=\"ClickContent\" data-tiara-action-name=\"본문아웃링크_클릭\" data-tiara-layer=\"media_related_news\" data-tiara-ordnum-layer=\"\">\n",
       " <li> <a class=\"link_txt\" data-tiara=\"리스트\" data-type=\"rss\" href=\"https://view.asiae.co.kr/article/2024041214304043574?utm_source=news.v.daum.net&amp;utm_medium=referral\" target=\"_blank\"> 일본 콘돔회사 직원, 중학교 교실서 콘돔을 들더니 - 아시아경제 </a> </li>\n",
       " <li> <a class=\"link_txt\" data-tiara=\"리스트\" data-type=\"rss\" href=\"https://view.asiae.co.kr/article/2024041215064742336?utm_source=news.v.daum.net&amp;utm_medium=referral\" target=\"_blank\"> 상주 자리 비우고 밥먹고 온 아내…실망한 남편은 이혼 언급까지 - 아시아경제 </a> </li>\n",
       " <li> <a class=\"link_txt\" data-tiara=\"리스트\" data-type=\"rss\" href=\"https://view.asiae.co.kr/article/2024041311504909383?utm_source=news.v.daum.net&amp;utm_medium=referral\" target=\"_blank\"> 273만원인데…코스트코에서 날개돋힌듯 팔린 '이 제품' - 아시아경제 </a> </li>\n",
       " <li> <a class=\"link_txt\" data-tiara=\"리스트\" data-type=\"rss\" href=\"https://view.asiae.co.kr/article/2024041117180177969?utm_source=news.v.daum.net&amp;utm_medium=referral\" target=\"_blank\"> 최홍만과 맞붙은 '열정맨'…200㎏ 외국인 천하장사 쓰러뜨린 '심부전'[일본人사이드] - 아시아경 </a> </li>\n",
       " <li> <a class=\"link_txt\" data-tiara=\"리스트\" data-type=\"rss\" href=\"https://view.asiae.co.kr/article/2024040513480901874?utm_source=news.v.daum.net&amp;utm_medium=referral\" target=\"_blank\"> 6000원 노가리에 시원한 생맥주 한잔…힙지로에 돌아온 터줏대감[을지로터리] - 아시아경제 </a> </li>\n",
       " <li> <a class=\"link_txt\" data-tiara=\"리스트\" data-type=\"rss\" href=\"https://view.asiae.co.kr/article/2024041213011671184?utm_source=news.v.daum.net&amp;utm_medium=referral\" target=\"_blank\"> '피,피,피' 비싼 제주 대신 동남아로 떠났다…손님 없는 韓 골프장 - 아시아경제 </a> </li>\n",
       " <li> <a class=\"link_txt\" data-tiara=\"리스트\" data-type=\"rss\" href=\"https://view.asiae.co.kr/article/2024041212331446632?utm_source=news.v.daum.net&amp;utm_medium=referral\" target=\"_blank\"> 가수 박보람, 지인과 모임 중 쓰러져 사망…소속사 \"마음 깊이 애도\"(종합) - 아시아경제 </a> </li>\n",
       " <li> <a class=\"link_txt\" data-tiara=\"리스트\" data-type=\"rss\" href=\"https://view.asiae.co.kr/article/2024041318193429004?utm_source=news.v.daum.net&amp;utm_medium=referral\" target=\"_blank\"> 박지원 \"尹, 국힘 탈당 후 이재명과 거국내각 구성해야\" - 아시아경제 </a> </li>\n",
       " <li> <a class=\"link_txt\" data-tiara=\"리스트\" data-type=\"rss\" href=\"https://view.asiae.co.kr/article/2024041208575938523?utm_source=news.v.daum.net&amp;utm_medium=referral\" target=\"_blank\"> \"결혼 앞둔 남친, 투자로 진 빚 2억 고백…결혼해도 될까요\" - 아시아경제 </a> </li>\n",
       " <li> <a class=\"link_txt\" data-tiara=\"리스트\" data-type=\"rss\" href=\"https://view.asiae.co.kr/article/2024040910202157990?utm_source=news.v.daum.net&amp;utm_medium=referral\" target=\"_blank\"> \"학생 나체 사진 막아라\"…전 세계 학교가 딥페이크 음란물과 전쟁중 - 아시아경제 </a> </li>\n",
       " </ul>\n",
       " </div>\n",
       " <div class=\"ad_wrap\" data-ab-bucket=\"\" data-ab-bucket-type=\"google\" data-cloud=\"pc_dynamic_article_bottom_ad\" id=\"pc_article_bottom_ad\" style=\"text-align: center;\">\n",
       " <ins class=\"adsbygoogle\" data-ad-client=\"ca-pub-1682288257759598\" data-ad-slot=\"8783624643\" data-adtest=\"off\" style=\"display:inline-block;width:728px;height:90px\"></ins>\n",
       " </div>\n",
       " </article>\n",
       " <div class=\"box_cluster box_news_post fold\" data-cloud=\"newsview_related_post\" id=\"related_post_by_news\" style=\"display:none;\"></div>\n",
       " <div class=\"ttalk_view\" data-cloud=\"newsview_pc_timetalk\" style=\"display:none;\">\n",
       " <div class=\"inner_ttalk\">\n",
       " <div class=\"ttalk_tit\"> <strong class=\"tit_ttalk\">타임톡<span class=\"ico_view ico_beta\">beta</span></strong> <span class=\"txt_info\"></span>\n",
       " </div>\n",
       " <p class=\"txt_ttalk\"> 이 뉴스에 대해 의견을 나눠보세요. <br/> 톡방 종료까지 <em class=\"num_ttalk\"><span class=\"txt_g\">00</span>:<span class=\"txt_g\">00</span>:<span class=\"txt_g\">00</span></em> 남았습니다. </p> <a class=\"link_ttalkgo\" data-tiara-action-kind=\"ClickContent\" data-tiara-action-name=\"타임톡\" data-tiara-layer=\"timetalk\" href=\"\"> <span class=\"ico_view ico_ttalk\">타임톡 </span>참여하기 </a>\n",
       " </div>\n",
       " </div>\n",
       " </div>\n",
       " <aside class=\"main-etc\" data-cloud-area=\"aside\">\n",
       " <div class=\"box_cluster box_ad\" data-ab-bucket=\"\" data-ab-bucket-type=\"google\" data-cloud=\"pc_dynamic_aside_top_ad\" id=\"pc_aside_top_ad\">\n",
       " <ins class=\"adsbygoogle\" data-ad-client=\"ca-pub-1682288257759598\" data-ad-slot=\"5767588220\" data-adtest=\"off\" style=\"display:inline-block;width:300px;height:250px\"></ins>\n",
       " </div>\n",
       " <div class=\"box_cluster box_search_keyword\" data-cloud=\"pc_news_related_query\" data-tiara-action-kind=\"ClickContent\" data-tiara-action-name=\"검색어_클릭\" data-tiara-layer=\"search_keyword\" id=\"news_related_query_comp\"></div>\n",
       " <div class=\"box_cluster box_news_recomm\" data-cloud=\"newsview_realtime_news\">\n",
       " <div class=\"box_tit\">\n",
       " <h3 class=\"tit_box\">이 시각 추천뉴스</h3>\n",
       " </div>\n",
       " <ul class=\"list_column\" data-tiara-action-kind=\"ClickContent\" data-tiara-action-name=\"하단추천리스트_클릭\" data-tiara-layer=\"toros_recommend_one_column\" data-tiara-ordnum-layer=\"\">\n",
       " <li class=\"item_toros\"></li>\n",
       " <li class=\"item_toros\"></li>\n",
       " <li class=\"item_ad\"></li>\n",
       " <li class=\"item_toros\"></li>\n",
       " <li class=\"item_toros\"></li>\n",
       " <li class=\"item_nachu\"></li>\n",
       " <li class=\"item_nachu\"></li>\n",
       " <li class=\"item_nachu\"></li>\n",
       " <li class=\"item_toros\"></li>\n",
       " <li class=\"item_nachu\"></li>\n",
       " <li class=\"item_ad\"></li>\n",
       " <li class=\"item_nachu\"></li>\n",
       " <li class=\"item_toros\"></li>\n",
       " <li class=\"item_nachu\"></li>\n",
       " <li class=\"item_nachu\"></li>\n",
       " <li class=\"item_toros\"></li>\n",
       " <li class=\"item_nachu\"></li>\n",
       " <li class=\"item_toros\"></li>\n",
       " <li class=\"item_toros\"></li>\n",
       " <li class=\"item_nachu\"></li>\n",
       " <li class=\"item_toros\"></li>\n",
       " </ul>\n",
       " </div>\n",
       " <div class=\"box_cluster box_news_pick\" data-cloud=\"newsview_special_series\" id=\"special_series_list\">\n",
       " </div>\n",
       " <div class=\"box_cluster box_news_press\" data-cloud=\"newsview_similar_news\">\n",
       " <div class=\"box_tit\">\n",
       " <h3 class=\"tit_box\">이 주제에 주목한 다른 언론사 뉴스</h3>\n",
       " </div>\n",
       " <ul class=\"list_column\" data-tiara-action-kind=\"ClickContent\" data-tiara-action-name=\"하단주제별뉴스_클릭\" data-tiara-layer=\"notable_news\" data-tiara-ordnum-layer=\"\">\n",
       " </ul>\n",
       " </div>\n",
       " <div class=\"box_cluster box_news_rank\" data-cloud=\"newsview_pc_ranking_news\" id=\"rankingNewsContainer\" style=\"display: none;\">\n",
       " <div>\n",
       " </div>\n",
       " </div>\n",
       " <div class=\"box_cluster box_news_keyword\" data-cloud=\"newsview_pc_keyword_news\" data-tiara-action-kind=\"ClickContent\" data-tiara-action-name=\"관련키워드_클릭\" data-tiara-layer=\"related_keyword\" id=\"keyword_news_list\"></div>\n",
       " <div class=\"box_cluster box_shortcut\" data-cloud=\"service_direct_link_v2\" data-tiara-action-kind=\"ClickContent\" data-tiara-action-name=\"서비스바로가기_클릭\" data-tiara-layer=\"service_directlink\">\n",
       " <div class=\"box_tit\">\n",
       " <h3 class=\"tit_box\">서비스 바로가기</h3>\n",
       " </div>\n",
       " <ul class=\"tab_shortcut\" id=\"serviceDirect\" role=\"tablist\">\n",
       " <li role=\"presentation\"> <a class=\"link_tab\" data-tiara=\"뉴스\" role=\"tab\">뉴스</a></li>\n",
       " <li role=\"presentation\"> <a class=\"link_tab\" data-tiara=\"연예\" role=\"tab\">연예</a> </li>\n",
       " <li role=\"presentation\"> <a class=\"link_tab\" data-tiara=\"스포츠\" role=\"tab\">스포츠</a> </li>\n",
       " </ul>\n",
       " <div>\n",
       " <div class=\"tabcont_service\" style=\"display: none\"> <strong class=\"screen_out\">뉴스</strong>\n",
       " <ul class=\"list_linkservice\" data-tiara=\"뉴스\">\n",
       " <li><a class=\"link_linkservice\" href=\"//news.daum.net\">뉴스 홈</a></li>\n",
       " <li><a class=\"link_linkservice\" href=\"//news.daum.net/society\">사회</a></li>\n",
       " <li><a class=\"link_linkservice\" href=\"//news.daum.net/politics\">정치</a></li>\n",
       " <li><a class=\"link_linkservice\" href=\"//news.daum.net/economic\">경제</a></li>\n",
       " <li><a class=\"link_linkservice\" href=\"//news.daum.net/foreign\">국제</a></li>\n",
       " <li><a class=\"link_linkservice\" href=\"//news.daum.net/culture\">문화</a></li>\n",
       " <li><a class=\"link_linkservice\" href=\"//news.daum.net/digital\">IT</a></li>\n",
       " <li><a class=\"link_linkservice\" href=\"//news.daum.net/series\">연재</a></li>\n",
       " <li><a class=\"link_linkservice\" href=\"//news.daum.net/photo\">포토</a></li>\n",
       " <li><a class=\"link_linkservice\" href=\"//news.daum.net/info/correct\">정정보도</a></li>\n",
       " <li><a class=\"link_linkservice\" href=\"//pf.kakao.com/_WlSxbu\">뉴스봇</a></li>\n",
       " <li><a class=\"link_linkservice\" href=\"//focus.daum.net/ch/news/factcheck\">팩트체크</a></li>\n",
       " </ul>\n",
       " </div>\n",
       " <div class=\"tabcont_service\" style=\"display: none\"> <strong class=\"screen_out\">연예</strong>\n",
       " <ul class=\"list_linkservice\" data-tiara=\"연예\">\n",
       " <li><a class=\"link_linkservice\" href=\"//entertain.daum.net\">연예 홈</a></li>\n",
       " <li><a class=\"link_linkservice\" href=\"//entertain.daum.net/news\">최신뉴스</a></li>\n",
       " <li><a class=\"link_linkservice\" href=\"//entertain.daum.net/tv\">TV</a></li>\n",
       " <li><a class=\"link_linkservice\" href=\"//entertain.daum.net/photo\">포토</a></li>\n",
       " <li><a class=\"link_linkservice\" href=\"//entertain.daum.net/ranking/popular\">많이 본 뉴스</a></li>\n",
       " <li><a class=\"link_linkservice\" href=\"//entertain.daum.net/ranking/keyword\">TOP 키워드</a></li>\n",
       " <li><a class=\"link_linkservice\" href=\"//entertain.daum.net/news/series\">연재</a></li>\n",
       " <li><a class=\"link_linkservice\" href=\"//entertain.daum.net/poll\">투표</a></li>\n",
       " <li><a class=\"link_linkservice\" href=\"//entertain.daum.net/news/movie\">영화</a></li>\n",
       " </ul>\n",
       " </div>\n",
       " <div class=\"tabcont_service\" style=\"display: none\"> <strong class=\"screen_out\">스포츠</strong>\n",
       " <ul class=\"list_linkservice\" data-tiara=\"스포츠\">\n",
       " <li><a class=\"link_linkservice\" href=\"//sports.daum.net/\">스포츠 홈</a></li>\n",
       " <li><a class=\"link_linkservice\" href=\"//sports.daum.net/soccer/\">축구</a></li>\n",
       " <li><a class=\"link_linkservice\" href=\"//sports.daum.net/worldsoccer/\">해외축구</a></li>\n",
       " <li><a class=\"link_linkservice\" href=\"//sports.daum.net/baseball/\">야구</a></li>\n",
       " <li><a class=\"link_linkservice\" href=\"//sports.daum.net/worldbaseball/\">해외야구</a></li>\n",
       " <li><a class=\"link_linkservice\" href=\"//sports.daum.net/golf/\">골프</a></li>\n",
       " <li><a class=\"link_linkservice\" href=\"//sports.daum.net/basketball/\">농구</a></li>\n",
       " <li><a class=\"link_linkservice\" href=\"//sports.daum.net/volleyball/\">배구</a></li>\n",
       " <li><a class=\"link_linkservice\" href=\"//sports.daum.net/general/\">일반</a></li>\n",
       " <li><a class=\"link_linkservice\" href=\"//sports.daum.net/esports/\">e-스포츠</a></li>\n",
       " <li><a class=\"link_linkservice\" href=\"//sports.daum.net/cartoon/\">카툰</a></li>\n",
       " <li><a class=\"link_linkservice\" href=\"//sports.daum.net/video/\">영상 홈</a></li>\n",
       " </ul>\n",
       " </div>\n",
       " </div>\n",
       " </div>\n",
       " <div class=\"box_cluster box_notice\" data-cloud=\"newsview_service_notice\" data-tiara-action-name=\"공지사항_클릭\" data-tiara-layer=\"notice\" id=\"service_notice\"></div>\n",
       " <div class=\"box_cluster box_ad\" data-ab-bucket=\"\" data-ab-bucket-type=\"google\" data-cloud=\"pc_dynamic_aside_bottom_ad\" id=\"pc_aside_bottom_ad\">\n",
       " <ins class=\"adsbygoogle\" data-ad-client=\"ca-pub-1682288257759598\" data-ad-slot=\"8419169270\" data-adtest=\"off\" style=\"display:inline-block;width:300px;height:250px\"></ins>\n",
       " </div>\n",
       " </aside>\n",
       " </section>\n",
       " </main>\n",
       " <footer class=\"doc-footer\" data-cloud-area=\"footer\" id=\"kakaoFoot\">\n",
       " <div class=\"inner_foot\" data-cloud=\"newsview_pc_footer\" data-tiara-action-name=\"푸터_클릭\" data-tiara-layer=\"footer\">\n",
       " <div class=\"direct_link\">\n",
       " <h2 class=\"tit_direct\">바로가기</h2>\n",
       " <div class=\"item_bundle\"> <a class=\"link_txt\" href=\"https://news.daum.net/\">뉴스홈</a> <a class=\"link_txt\" href=\"https://news.daum.net/society/\">사회</a> <a class=\"link_txt\" href=\"https://news.daum.net/politics/\">정치</a> <a class=\"link_txt\" href=\"https://news.daum.net/economic/\">경제</a> <a class=\"link_txt\" href=\"https://news.daum.net/foreign/\">국제</a> <a class=\"link_txt\" href=\"https://news.daum.net/culture/\">문화</a> <a class=\"link_txt\" href=\"https://news.daum.net/digital/\">IT</a> <a class=\"link_txt\" href=\"https://news.daum.net/photo/\">포토</a>\n",
       " </div>\n",
       " <div class=\"item_bundle\"> <a class=\"link_txt\" href=\"https://news.daum.net/cp\">제휴 언론사</a>\n",
       " </div>\n",
       " <div class=\"item_bundle\"> <a class=\"link_txt\" href=\"https://news.daum.net/newsbox\">배열이력</a>\n",
       " </div>\n",
       " <div class=\"item_bundle\"> <a class=\"link_txt\" href=\"https://news.daum.net/breakingnews\">전체뉴스</a> <a class=\"link_txt\" href=\"https://news.daum.net/series\">연재</a> <a class=\"link_txt\" href=\"https://focus.daum.net/ch/news/factcheck\">팩트체크</a>\n",
       " </div> <button class=\"btn_fold\" type=\"button\"> <span class=\"ico_view\">바로가기 링크 더보기/접기</span> </button>\n",
       " </div>\n",
       " <div class=\"footer_service\">\n",
       " <h2 class=\"screen_out\">서비스 이용정보</h2>\n",
       " <div class=\"footer_link\"> <a class=\"link_info #info_daumnews\" href=\"//news.daum.net/info/intro\">다음뉴스 소개</a> <span class=\"txt_dot\"> ・ </span> <a class=\"link_info #notice\" href=\"//news.daum.net/notice\">공지사항</a> <span class=\"txt_dot\"> ・ </span> <a class=\"link_info #bbsrule\" href=\"//news.daum.net/info/bbsrule\">게시물 운영원칙</a> <span class=\"txt_dot\"> ・ </span> <a class=\"link_info #policy\" href=\"//policy.daum.net/info/info\">서비스 약관/정책</a> <span class=\"txt_dot\"> ・ </span> <a class=\"link_info #harmony\" href=\"//with.kakao.com/media\">뉴스제휴</a> <span class=\"txt_dot\"> ・ </span> <a class=\"link_info #adinfo\" href=\"//business.kakao.com\">비즈니스</a> <span class=\"txt_dot\"> ・ </span> <a class=\"link_info #redbell\" href=\"//cs.daum.net/redbell/top.html\">권리침해신고</a> <span class=\"txt_dot\"> ・ </span> <a class=\"link_info #consumer\" href=\"//cs.daum.net/faq/63.html\">다음뉴스 고객센터</a>\n",
       " </div>\n",
       " <div class=\"footer_link\"> <a class=\"link_info #newscenter\" href=\"//news.daum.net/info/newscenter24\">24시간 뉴스센터</a> <span class=\"txt_dot\"> ・ </span> <a class=\"link_info #edit\" href=\"//news.daum.net/info/edit\">서비스원칙</a> <span class=\"txt_dot\"> ・ </span> <a class=\"link_info #correct\" href=\"//news.daum.net/info/correct\">고침기사, 정정・반론・추후보도 모음</a> <span class=\"txt_dot\"> ・ </span> <span class=\"link_info\">기사배열책임자 : 황유지</span> <span class=\"txt_dot\"> ・ </span> <span class=\"link_info\">청소년보호책임자 : 손성희</span>\n",
       " </div>\n",
       " </div>\n",
       " <div class=\"info_copyright\"> <em class=\"txt_warn\">위 내용에 대한 저작권 및 법적 책임은 자료제공사 또는 <br/>글쓴이에 있으며, Kakao의 입장과 다를 수 있습니다.</em> <small class=\"txt_copyright\">Copyright © <a class=\"link_kakao\" href=\"https://www.kakaocorp.com\">Kakao Corp.</a> All rights reserved.</small>\n",
       " </div>\n",
       " </div>\n",
       " </footer>\n",
       " </div>]"
      ]
     },
     "execution_count": 44,
     "metadata": {},
     "output_type": "execute_result"
    }
   ],
   "source": [
    "#id는 '#'\n",
    "soup.select('#kakaoWrap')"
   ]
  },
  {
   "cell_type": "code",
   "execution_count": 45,
   "metadata": {},
   "outputs": [
    {
     "data": {
      "text/plain": [
       "[<h3 class=\"tit_view\" data-translation=\"true\">일론머스크 \"테슬라에서 넷플릭스·유튜브 즐길 날 온다\"</h3>,\n",
       " <h3 class=\"tit_box\">이 시각 추천뉴스</h3>,\n",
       " <h3 class=\"tit_box\">이 주제에 주목한 다른 언론사 뉴스</h3>,\n",
       " <h3 class=\"tit_box\">서비스 바로가기</h3>]"
      ]
     },
     "execution_count": 45,
     "metadata": {},
     "output_type": "execute_result"
    }
   ],
   "source": [
    "#id kakaoWrap 안의 h3 모든 자손 태그 찾기\n",
    "soup.select('#kakaoWrap h3')"
   ]
  },
  {
   "cell_type": "code",
   "execution_count": 46,
   "metadata": {},
   "outputs": [
    {
     "data": {
      "text/plain": [
       "[]"
      ]
     },
     "execution_count": 46,
     "metadata": {},
     "output_type": "execute_result"
    }
   ],
   "source": [
    "#바로 하위의 자식 태그\n",
    "soup.select('#kakaoWrap > h3')"
   ]
  },
  {
   "cell_type": "code",
   "execution_count": 40,
   "metadata": {},
   "outputs": [
    {
     "data": {
      "text/plain": [
       "[<h3 class=\"tit_view\" data-translation=\"true\">일론머스크 \"테슬라에서 넷플릭스·유튜브 즐길 날 온다\"</h3>,\n",
       " <h3 class=\"tit_box\">이 시각 추천뉴스</h3>,\n",
       " <h3 class=\"tit_box\">이 주제에 주목한 다른 언론사 뉴스</h3>,\n",
       " <h3 class=\"tit_box\">서비스 바로가기</h3>]"
      ]
     },
     "execution_count": 40,
     "metadata": {},
     "output_type": "execute_result"
    }
   ],
   "source": [
    "soup.select('h3')"
   ]
  },
  {
   "cell_type": "code",
   "execution_count": 47,
   "metadata": {},
   "outputs": [
    {
     "data": {
      "text/plain": [
       "[<h3 class=\"tit_view\" data-translation=\"true\">일론머스크 \"테슬라에서 넷플릭스·유튜브 즐길 날 온다\"</h3>]"
      ]
     },
     "execution_count": 47,
     "metadata": {},
     "output_type": "execute_result"
    }
   ],
   "source": [
    "#class는 '.'\n",
    "soup.select('h3.tit_view')"
   ]
  },
  {
   "cell_type": "code",
   "execution_count": 48,
   "metadata": {},
   "outputs": [
    {
     "data": {
      "text/plain": [
       "[<h3 class=\"tit_view\" data-translation=\"true\">일론머스크 \"테슬라에서 넷플릭스·유튜브 즐길 날 온다\"</h3>]"
      ]
     },
     "execution_count": 48,
     "metadata": {},
     "output_type": "execute_result"
    }
   ],
   "source": [
    "#class는 '.'\n",
    "soup.select('.tit_view')"
   ]
  },
  {
   "cell_type": "code",
   "execution_count": 49,
   "metadata": {},
   "outputs": [
    {
     "data": {
      "text/plain": [
       "[<h3 class=\"tit_view\" data-translation=\"true\">일론머스크 \"테슬라에서 넷플릭스·유튜브 즐길 날 온다\"</h3>]"
      ]
     },
     "execution_count": 49,
     "metadata": {},
     "output_type": "execute_result"
    }
   ],
   "source": [
    "soup.select('h3[class=\"tit_view\"]')"
   ]
  },
  {
   "cell_type": "code",
   "execution_count": 50,
   "metadata": {},
   "outputs": [
    {
     "data": {
      "text/plain": [
       "[<h3 class=\"tit_view\" data-translation=\"true\">일론머스크 \"테슬라에서 넷플릭스·유튜브 즐길 날 온다\"</h3>,\n",
       " <h3 class=\"tit_box\">이 시각 추천뉴스</h3>,\n",
       " <h3 class=\"tit_box\">이 주제에 주목한 다른 언론사 뉴스</h3>,\n",
       " <h3 class=\"tit_box\">서비스 바로가기</h3>]"
      ]
     },
     "execution_count": 50,
     "metadata": {},
     "output_type": "execute_result"
    }
   ],
   "source": [
    "soup.select('h3')"
   ]
  },
  {
   "cell_type": "code",
   "execution_count": 53,
   "metadata": {},
   "outputs": [
    {
     "data": {
      "text/plain": [
       "[<h3 class=\"tit_view\" data-translation=\"true\">일론머스크 \"테슬라에서 넷플릭스·유튜브 즐길 날 온다\"</h3>,\n",
       " <h3 class=\"tit_box\">이 시각 추천뉴스</h3>,\n",
       " <h3 class=\"tit_box\">이 주제에 주목한 다른 언론사 뉴스</h3>,\n",
       " <h3 class=\"tit_box\">서비스 바로가기</h3>]"
      ]
     },
     "execution_count": 53,
     "metadata": {},
     "output_type": "execute_result"
    }
   ],
   "source": [
    "#class중에 prefix 찾기 - tit으로 시작하는 것만 가져오기\n",
    "soup.select('h3[class^=\"tit\"]')"
   ]
  },
  {
   "cell_type": "code",
   "execution_count": 54,
   "metadata": {},
   "outputs": [
    {
     "data": {
      "text/plain": [
       "[<h3 class=\"tit_box\">이 시각 추천뉴스</h3>,\n",
       " <h3 class=\"tit_box\">이 주제에 주목한 다른 언론사 뉴스</h3>,\n",
       " <h3 class=\"tit_box\">서비스 바로가기</h3>]"
      ]
     },
     "execution_count": 54,
     "metadata": {},
     "output_type": "execute_result"
    }
   ],
   "source": [
    "#class중에 \bsuffix 찾기 - box으로 끝나는 것만 가져오기\n",
    "soup.select('h3[class$=\"box\"]')"
   ]
  },
  {
   "cell_type": "code",
   "execution_count": 56,
   "metadata": {},
   "outputs": [
    {
     "data": {
      "text/plain": [
       "[<h3 class=\"tit_view\" data-translation=\"true\">일론머스크 \"테슬라에서 넷플릭스·유튜브 즐길 날 온다\"</h3>,\n",
       " <h3 class=\"tit_box\">이 시각 추천뉴스</h3>,\n",
       " <h3 class=\"tit_box\">이 주제에 주목한 다른 언론사 뉴스</h3>,\n",
       " <h3 class=\"tit_box\">서비스 바로가기</h3>]"
      ]
     },
     "execution_count": 56,
     "metadata": {},
     "output_type": "execute_result"
    }
   ],
   "source": [
    "#class중에 \bsuffix 찾기 - '_' 포함하는 것 가져오기\n",
    "soup.select('h3[class*=\"_\"]')"
   ]
  },
  {
   "cell_type": "code",
   "execution_count": 58,
   "metadata": {},
   "outputs": [
    {
     "data": {
      "text/plain": [
       "<span class=\"txt_info\">이민우</span>"
      ]
     },
     "execution_count": 58,
     "metadata": {},
     "output_type": "execute_result"
    }
   ],
   "source": [
    "soup.select('span.txt_info')[0]"
   ]
  },
  {
   "cell_type": "code",
   "execution_count": 65,
   "metadata": {},
   "outputs": [
    {
     "data": {
      "text/plain": [
       "[<span class=\"txt_info\">이민우</span>]"
      ]
     },
     "execution_count": 65,
     "metadata": {},
     "output_type": "execute_result"
    }
   ],
   "source": [
    "soup.select('span.txt_info:nth-child(1)')"
   ]
  },
  {
   "cell_type": "code",
   "execution_count": 61,
   "metadata": {},
   "outputs": [
    {
     "data": {
      "text/plain": [
       "[<span class=\"txt_info\">입력 <span class=\"num_date\">2019. 7. 28. 16:58</span></span>,\n",
       " <span class=\"txt_info\"></span>]"
      ]
     },
     "execution_count": 61,
     "metadata": {},
     "output_type": "execute_result"
    }
   ],
   "source": [
    "soup.select('span.txt_info:nth-child(2)')"
   ]
  },
  {
   "cell_type": "markdown",
   "metadata": {},
   "source": [
    "* 정규표현식으로 tag 찾기"
   ]
  },
  {
   "cell_type": "code",
   "execution_count": 66,
   "metadata": {},
   "outputs": [],
   "source": [
    "import re"
   ]
  },
  {
   "cell_type": "code",
   "execution_count": 67,
   "metadata": {},
   "outputs": [
    {
     "data": {
      "text/plain": [
       "[<h3 class=\"tit_view\" data-translation=\"true\">일론머스크 \"테슬라에서 넷플릭스·유튜브 즐길 날 온다\"</h3>,\n",
       " <h3 class=\"tit_box\">이 시각 추천뉴스</h3>,\n",
       " <h3 class=\"tit_box\">이 주제에 주목한 다른 언론사 뉴스</h3>,\n",
       " <h3 class=\"tit_box\">서비스 바로가기</h3>]"
      ]
     },
     "execution_count": 67,
     "metadata": {},
     "output_type": "execute_result"
    }
   ],
   "source": [
    "soup.findAll('h3')"
   ]
  },
  {
   "cell_type": "code",
   "execution_count": 68,
   "metadata": {},
   "outputs": [
    {
     "data": {
      "text/plain": [
       "[<h1 class=\"doc-title\"> <a class=\"link_daum\" data-tiara=\"로고\" data-tiara-action-name=\"GNB다음로고_클릭\" href=\"//daum.net\"> <img alt=\"Daum\" class=\"logo_daum\" height=\"18\" src=\"//t1.daumcdn.net/media/common/newsview_2021/pc/rtn/logo_daum.png\" width=\"44\"/> </a> <a data-tiara=\"언론사명\" data-tiara-action-name=\"GNB언론사명_클릭\" href=\"https://v.daum.net/channel/90/home\" id=\"kakaoServiceLogo\">아시아경제</a> </h1>,\n",
       " <h2 class=\"screen_out\">검색</h2>,\n",
       " <h2 class=\"screen_out\">IT</h2>,\n",
       " <h3 class=\"tit_view\" data-translation=\"true\">일론머스크 \"테슬라에서 넷플릭스·유튜브 즐길 날 온다\"</h3>,\n",
       " <h3 class=\"tit_box\">이 시각 추천뉴스</h3>,\n",
       " <h3 class=\"tit_box\">이 주제에 주목한 다른 언론사 뉴스</h3>,\n",
       " <h3 class=\"tit_box\">서비스 바로가기</h3>,\n",
       " <h2 class=\"tit_direct\">바로가기</h2>,\n",
       " <h2 class=\"screen_out\">서비스 이용정보</h2>]"
      ]
     },
     "execution_count": 68,
     "metadata": {},
     "output_type": "execute_result"
    }
   ],
   "source": [
    "#h1,h2,h3를 동시에 다 불러오고자 할 때\n",
    "soup.find_all(re.compile('h\\d'))"
   ]
  },
  {
   "cell_type": "code",
   "execution_count": 71,
   "metadata": {},
   "outputs": [
    {
     "data": {
      "text/plain": [
       "[<img alt=\"Daum\" class=\"logo_daum\" height=\"18\" src=\"//t1.daumcdn.net/media/common/newsview_2021/pc/rtn/logo_daum.png\" width=\"44\"/>,\n",
       " <img alt=\"일론 머스크 테슬라 최고경영자(CEO) [이미지출처=로이터연합뉴스]\" class=\"thumb_g_article\" data-org-src=\"https://t1.daumcdn.net/news/201907/28/akn/20190728165813230vjsq.jpg\" data-org-width=\"550\" dmcf-mid=\"NBMY3ZZhN4\" dmcf-mtype=\"image\" height=\"auto\" src=\"https://img2.daumcdn.net/thumb/R658x0.q70/?fname=https://t1.daumcdn.net/news/201907/28/akn/20190728165813230vjsq.jpg\" width=\"658\"/>,\n",
       " <img alt=\"(출처=일론 머스크 트위터 계정 캡쳐)\" class=\"thumb_g_article\" data-org-src=\"https://t1.daumcdn.net/news/201907/28/akn/20190728165813670hwxf.png\" data-org-width=\"550\" dmcf-mid=\"NRhnb5SRpx\" dmcf-mtype=\"image\" height=\"auto\" src=\"https://img1.daumcdn.net/thumb/R658x0.q70/?fname=https://t1.daumcdn.net/news/201907/28/akn/20190728165813670hwxf.png\" width=\"658\"/>]"
      ]
     },
     "execution_count": 71,
     "metadata": {},
     "output_type": "execute_result"
    }
   ],
   "source": [
    "soup.findAll('img')"
   ]
  },
  {
   "cell_type": "code",
   "execution_count": 74,
   "metadata": {},
   "outputs": [
    {
     "data": {
      "text/plain": [
       "[<img alt=\"Daum\" class=\"logo_daum\" height=\"18\" src=\"//t1.daumcdn.net/media/common/newsview_2021/pc/rtn/logo_daum.png\" width=\"44\"/>,\n",
       " <img alt=\"(출처=일론 머스크 트위터 계정 캡쳐)\" class=\"thumb_g_article\" data-org-src=\"https://t1.daumcdn.net/news/201907/28/akn/20190728165813670hwxf.png\" data-org-width=\"550\" dmcf-mid=\"NRhnb5SRpx\" dmcf-mtype=\"image\" height=\"auto\" src=\"https://img1.daumcdn.net/thumb/R658x0.q70/?fname=https://t1.daumcdn.net/news/201907/28/akn/20190728165813670hwxf.png\" width=\"658\"/>]"
      ]
     },
     "execution_count": 74,
     "metadata": {},
     "output_type": "execute_result"
    }
   ],
   "source": [
    "soup.findAll('img', attrs={'src': re.compile('.+\\.png')})"
   ]
  },
  {
   "cell_type": "code",
   "execution_count": 78,
   "metadata": {},
   "outputs": [
    {
     "data": {
      "text/plain": [
       "[<h3 class=\"tit_view\" data-translation=\"true\">일론머스크 \"테슬라에서 넷플릭스·유튜브 즐길 날 온다\"</h3>]"
      ]
     },
     "execution_count": 78,
     "metadata": {},
     "output_type": "execute_result"
    }
   ],
   "source": [
    "#클래스가 'view'로 끝나는 모든 h3태그 출력\n",
    "soup.find_all('h3', class_=re.compile('.+view$'))"
   ]
  }
 ],
 "metadata": {
  "kernelspec": {
   "display_name": "Python 3 (ipykernel)",
   "language": "python",
   "name": "python3"
  },
  "language_info": {
   "codemirror_mode": {
    "name": "ipython",
    "version": 3
   },
   "file_extension": ".py",
   "mimetype": "text/x-python",
   "name": "python",
   "nbconvert_exporter": "python",
   "pygments_lexer": "ipython3",
   "version": "3.11.7"
  }
 },
 "nbformat": 4,
 "nbformat_minor": 4
}
