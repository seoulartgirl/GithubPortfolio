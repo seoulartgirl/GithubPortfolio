{
 "cells": [
  {
   "cell_type": "markdown",
   "metadata": {},
   "source": [
    "### 학습목표\n",
    " - random 서브모듈 함수를 통해 ndarray 생성하기"
   ]
  },
  {
   "cell_type": "code",
   "execution_count": 1,
   "metadata": {},
   "outputs": [],
   "source": [
    "import numpy as np"
   ]
  },
  {
   "cell_type": "markdown",
   "metadata": {},
   "source": [
    "#### random 서브모듈"
   ]
  },
  {
   "cell_type": "markdown",
   "metadata": {},
   "source": [
    "#### rand 함수\n",
    " - 0, 1사이의 분포로 랜덤한 ndarray 생성"
   ]
  },
  {
   "cell_type": "code",
   "execution_count": 2,
   "metadata": {},
   "outputs": [
    {
     "data": {
      "text/plain": [
       "array([[0.51805919, 0.70538037, 0.28490845],\n",
       "       [0.75431839, 0.44748451, 0.95278344]])"
      ]
     },
     "execution_count": 2,
     "metadata": {},
     "output_type": "execute_result"
    }
   ],
   "source": [
    "np.random.rand(2,3)"
   ]
  },
  {
   "cell_type": "code",
   "execution_count": 5,
   "metadata": {},
   "outputs": [
    {
     "data": {
      "text/plain": [
       "array([0.85711446, 0.3819803 , 0.06646758, 0.97528345, 0.80203283])"
      ]
     },
     "execution_count": 5,
     "metadata": {},
     "output_type": "execute_result"
    }
   ],
   "source": [
    "np.random.rand(5)"
   ]
  },
  {
   "cell_type": "code",
   "execution_count": 3,
   "metadata": {},
   "outputs": [
    {
     "data": {
      "text/plain": [
       "array([[[0.89452058, 0.79379101, 0.33550644],\n",
       "        [0.98053802, 0.89820876, 0.4581132 ],\n",
       "        [0.4663728 , 0.05567153, 0.22102645],\n",
       "        [0.25548326, 0.96146413, 0.75813874],\n",
       "        [0.85029573, 0.3154489 , 0.24982338]],\n",
       "\n",
       "       [[0.91838777, 0.58448994, 0.12667555],\n",
       "        [0.50765212, 0.73855907, 0.72706784],\n",
       "        [0.88738865, 0.05387605, 0.52725074],\n",
       "        [0.70202432, 0.70019042, 0.27181037],\n",
       "        [0.9094896 , 0.96529875, 0.26236792]],\n",
       "\n",
       "       [[0.3497954 , 0.32297954, 0.72520867],\n",
       "        [0.00742706, 0.13447154, 0.58484094],\n",
       "        [0.65847962, 0.32692883, 0.21465778],\n",
       "        [0.32923774, 0.78760794, 0.46776307],\n",
       "        [0.09784407, 0.08499759, 0.94214765]],\n",
       "\n",
       "       [[0.28124828, 0.59599097, 0.83290459],\n",
       "        [0.9738956 , 0.29703348, 0.60993465],\n",
       "        [0.68537794, 0.89332517, 0.74940548],\n",
       "        [0.17606084, 0.69657031, 0.03571581],\n",
       "        [0.66605984, 0.69052426, 0.87655148]]])"
      ]
     },
     "execution_count": 3,
     "metadata": {},
     "output_type": "execute_result"
    }
   ],
   "source": [
    "np.random.rand(4,5,3)"
   ]
  },
  {
   "cell_type": "markdown",
   "metadata": {},
   "source": [
    "#### randn함수\n",
    " - n: normal distribution(정규분포)\n",
    " - 정규분포로 샘플링된 랜덤 ndarray 생성"
   ]
  },
  {
   "cell_type": "code",
   "execution_count": 6,
   "metadata": {},
   "outputs": [
    {
     "data": {
      "text/plain": [
       "array([-0.45179916,  0.08628136,  1.32102775, -1.00741835, -0.25740139])"
      ]
     },
     "execution_count": 6,
     "metadata": {},
     "output_type": "execute_result"
    }
   ],
   "source": [
    "np.random.randn(5)"
   ]
  },
  {
   "cell_type": "code",
   "execution_count": 7,
   "metadata": {},
   "outputs": [
    {
     "data": {
      "text/plain": [
       "array([[-0.32229552,  0.58942897, -1.12485287, -0.32747321],\n",
       "       [ 1.1386342 , -1.11526846, -0.17084629, -1.75900464],\n",
       "       [ 1.88623319,  0.23144937,  1.09802342, -1.89058252]])"
      ]
     },
     "execution_count": 7,
     "metadata": {},
     "output_type": "execute_result"
    }
   ],
   "source": [
    "np.random.randn(3,4)"
   ]
  },
  {
   "cell_type": "code",
   "execution_count": 8,
   "metadata": {},
   "outputs": [
    {
     "data": {
      "text/plain": [
       "array([[[ 0.26960182,  0.35084458],\n",
       "        [ 0.65117245, -0.88359818],\n",
       "        [ 0.52606421,  0.15383101],\n",
       "        [ 0.93328663, -0.71249155]],\n",
       "\n",
       "       [[ 0.11304856, -1.48304862],\n",
       "        [-0.45255511, -1.34699659],\n",
       "        [-0.07584512, -0.88205032],\n",
       "        [-0.37630221,  0.62640733]],\n",
       "\n",
       "       [[-0.35645659,  0.82516855],\n",
       "        [ 0.59104473,  0.37381785],\n",
       "        [-0.42472253,  0.31207415],\n",
       "        [-0.5857517 , -0.60269273]]])"
      ]
     },
     "execution_count": 8,
     "metadata": {},
     "output_type": "execute_result"
    }
   ],
   "source": [
    "np.random.randn(3,4,2)"
   ]
  },
  {
   "cell_type": "markdown",
   "metadata": {},
   "source": [
    "#### randint 함수\n",
    " - 특정 정수 사이에서 랜덤하게 샘플링"
   ]
  },
  {
   "cell_type": "code",
   "execution_count": 10,
   "metadata": {},
   "outputs": [
    {
     "data": {
      "text/plain": [
       "array([[71, 68, 79, 74,  2],\n",
       "       [94, 47, 14, 57, 67],\n",
       "       [ 1, 91, 67, 25,  9]])"
      ]
     },
     "execution_count": 10,
     "metadata": {},
     "output_type": "execute_result"
    }
   ],
   "source": [
    "np.random.randint(1,100,size=(3,5))"
   ]
  },
  {
   "cell_type": "code",
   "execution_count": 11,
   "metadata": {},
   "outputs": [
    {
     "data": {
      "text/plain": [
       "array([64,  3, 17, 30, 72])"
      ]
     },
     "execution_count": 11,
     "metadata": {},
     "output_type": "execute_result"
    }
   ],
   "source": [
    "np.random.randint(1,100,5)"
   ]
  },
  {
   "cell_type": "code",
   "execution_count": 12,
   "metadata": {},
   "outputs": [
    {
     "data": {
      "text/plain": [
       "array([[80,  5, 13],\n",
       "       [30, 81, 62]])"
      ]
     },
     "execution_count": 12,
     "metadata": {},
     "output_type": "execute_result"
    }
   ],
   "source": [
    "np.random.randint(1,100,(2,3))"
   ]
  },
  {
   "cell_type": "markdown",
   "metadata": {},
   "source": [
    "#### seed 함수\n",
    " - 랜덤한 값을 동일하게 다시 생성하고자 할때 사용"
   ]
  },
  {
   "cell_type": "code",
   "execution_count": 21,
   "metadata": {},
   "outputs": [
    {
     "data": {
      "text/plain": [
       "array([[-1.74976547,  0.3426804 ,  1.1530358 , -0.25243604],\n",
       "       [ 0.98132079,  0.51421884,  0.22117967, -1.07004333],\n",
       "       [-0.18949583,  0.25500144, -0.45802699,  0.43516349]])"
      ]
     },
     "execution_count": 21,
     "metadata": {},
     "output_type": "execute_result"
    }
   ],
   "source": [
    "np.random.seed(100) #숫자는 아무거나 넣으면 됨\n",
    "np.random.randn(3,4) #값이 고정됨"
   ]
  },
  {
   "cell_type": "markdown",
   "metadata": {},
   "source": [
    "#### choice\n",
    " - 주어진 1차원 ndarray로 부터 랜덤으로 샘플링\n",
    " - 정수가 주어진 경우, np.arange(해당숫자)로 간주"
   ]
  },
  {
   "cell_type": "code",
   "execution_count": 22,
   "metadata": {},
   "outputs": [
    {
     "data": {
      "text/plain": [
       "array([[83,  4, 91, 59],\n",
       "       [67,  7, 49, 47],\n",
       "       [65, 61, 14, 55]])"
      ]
     },
     "execution_count": 22,
     "metadata": {},
     "output_type": "execute_result"
    }
   ],
   "source": [
    "np.random.choice(100, (3, 4)) #0~99중 3,4로 가져오게"
   ]
  },
  {
   "cell_type": "code",
   "execution_count": 23,
   "metadata": {},
   "outputs": [
    {
     "data": {
      "text/plain": [
       "array([[1.5, 1. ],\n",
       "       [3. , 2. ]])"
      ]
     },
     "execution_count": 23,
     "metadata": {},
     "output_type": "execute_result"
    }
   ],
   "source": [
    "x= np.array([1,2,3,1.5,2.6,4.9])\n",
    "np.random.choice(x,(2,2))"
   ]
  },
  {
   "cell_type": "code",
   "execution_count": 26,
   "metadata": {},
   "outputs": [
    {
     "data": {
      "text/plain": [
       "array([[2. , 4.9],\n",
       "       [1.5, 1. ]])"
      ]
     },
     "execution_count": 26,
     "metadata": {},
     "output_type": "execute_result"
    }
   ],
   "source": [
    "x= np.array([1,2,3,1.5,2.6,4.9])\n",
    "np.random.choice(x,(2,2), replace=False)"
   ]
  },
  {
   "cell_type": "markdown",
   "metadata": {},
   "source": [
    "#### 확률분포에 따른 ndarray 생성\n",
    " - uniform\n",
    " - normal 등등"
   ]
  },
  {
   "cell_type": "code",
   "execution_count": 30,
   "metadata": {},
   "outputs": [
    {
     "data": {
      "text/plain": [
       "array([[2.78109189, 2.153803  , 2.48495938, 2.26036787, 2.16368438],\n",
       "       [1.04087826, 1.42005316, 2.08936976, 2.53823034, 1.50139046],\n",
       "       [1.57179138, 2.70479018, 2.95001299, 2.76970659, 1.71901569],\n",
       "       [2.19771789, 1.70959122, 1.68038043, 1.35616198, 1.47538842]])"
      ]
     },
     "execution_count": 30,
     "metadata": {},
     "output_type": "execute_result"
    }
   ],
   "source": [
    "np.random.uniform(1.0, 3.0, size=(4,5))"
   ]
  },
  {
   "cell_type": "code",
   "execution_count": 32,
   "metadata": {},
   "outputs": [
    {
     "data": {
      "text/plain": [
       "array([[ 1.29974807, -1.73309562, -0.9833101 ,  0.35750775],\n",
       "       [-1.6135785 ,  1.47071387, -1.1880176 , -0.54974619],\n",
       "       [-0.94004616, -0.82793236,  0.10886347,  0.50780959]])"
      ]
     },
     "execution_count": 32,
     "metadata": {},
     "output_type": "execute_result"
    }
   ],
   "source": [
    "np.random.normal(size=(3,4))"
   ]
  },
  {
   "cell_type": "code",
   "execution_count": 33,
   "metadata": {},
   "outputs": [
    {
     "data": {
      "text/plain": [
       "array([[-0.86222735,  1.24946974, -0.07961125, -0.88973148],\n",
       "       [-0.88179839,  0.01863895,  0.23784462,  0.01354855],\n",
       "       [-1.6355294 , -1.04420988,  0.61303888,  0.73620521]])"
      ]
     },
     "execution_count": 33,
     "metadata": {},
     "output_type": "execute_result"
    }
   ],
   "source": [
    "np.random.randn(3,4)"
   ]
  }
 ],
 "metadata": {
  "kernelspec": {
   "display_name": "Python 3 (ipykernel)",
   "language": "python",
   "name": "python3"
  },
  "language_info": {
   "codemirror_mode": {
    "name": "ipython",
    "version": 3
   },
   "file_extension": ".py",
   "mimetype": "text/x-python",
   "name": "python",
   "nbconvert_exporter": "python",
   "pygments_lexer": "ipython3",
   "version": "3.11.7"
  }
 },
 "nbformat": 4,
 "nbformat_minor": 4
}
