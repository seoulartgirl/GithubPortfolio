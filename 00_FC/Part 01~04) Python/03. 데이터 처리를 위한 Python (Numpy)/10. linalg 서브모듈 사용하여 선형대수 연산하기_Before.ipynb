{
 "cells": [
  {
   "cell_type": "markdown",
   "metadata": {},
   "source": [
    "## 학습목표\n",
    " 1. linalg 서브모듈 함수 활용여 선형대수 연산하기"
   ]
  },
  {
   "cell_type": "code",
   "execution_count": 1,
   "metadata": {},
   "outputs": [],
   "source": [
    "import numpy as np"
   ]
  },
  {
   "cell_type": "markdown",
   "metadata": {},
   "source": [
    "#### np.linalg.inv\n",
    " - 역행렬을 구할 때 사용\n",
    " - 모든 차원의 값이 같아야 함"
   ]
  },
  {
   "cell_type": "code",
   "execution_count": 2,
   "metadata": {},
   "outputs": [
    {
     "data": {
      "text/plain": [
       "array([[0.86354388, 0.57601157, 0.17290922],\n",
       "       [0.47225736, 0.38074685, 0.83502122],\n",
       "       [0.62641361, 0.86306768, 0.74591016]])"
      ]
     },
     "execution_count": 2,
     "metadata": {},
     "output_type": "execute_result"
    }
   ],
   "source": [
    "x = np.random.rand(3,3)\n",
    "x"
   ]
  },
  {
   "cell_type": "code",
   "execution_count": 3,
   "metadata": {},
   "outputs": [
    {
     "data": {
      "text/plain": [
       "array([[ 1.75044353,  1.12408122, -1.66414077],\n",
       "       [-0.68468971, -2.14783801,  2.5631498 ],\n",
       "       [-0.67778685,  1.54119067, -0.22754927]])"
      ]
     },
     "execution_count": 3,
     "metadata": {},
     "output_type": "execute_result"
    }
   ],
   "source": [
    "np.linalg.inv(x)"
   ]
  },
  {
   "cell_type": "code",
   "execution_count": 4,
   "metadata": {},
   "outputs": [
    {
     "data": {
      "text/plain": [
       "array([[ 1.00000000e+00,  1.64010434e-16, -2.45186552e-16],\n",
       "       [ 1.06643047e-16,  1.00000000e+00,  4.26689108e-17],\n",
       "       [ 8.07081239e-18, -3.18816139e-17,  1.00000000e+00]])"
      ]
     },
     "execution_count": 4,
     "metadata": {},
     "output_type": "execute_result"
    }
   ],
   "source": [
    "x @ np.linalg.inv(x) #행렬의 곱은 @골뱅이로 표시\n",
    "np.matmul(x, np.linalg.inv(x)) #또는 행렬의 곱 matmul 사용 "
   ]
  },
  {
   "cell_type": "code",
   "execution_count": 6,
   "metadata": {},
   "outputs": [
    {
     "data": {
      "text/plain": [
       "array([[[ 1.00000000e+00, -9.83548687e-17, -2.65011203e-16],\n",
       "        [-1.68852024e-16,  1.00000000e+00, -1.59658440e-16],\n",
       "        [ 2.35618352e-17, -8.56834079e-17,  1.00000000e+00]],\n",
       "\n",
       "       [[ 1.00000000e+00,  6.62299576e-17,  1.37134786e-16],\n",
       "        [ 1.21733493e-16,  1.00000000e+00,  8.03005985e-17],\n",
       "        [ 6.49422276e-17, -2.24517027e-16,  1.00000000e+00]],\n",
       "\n",
       "       [[ 1.00000000e+00, -3.06740347e-17,  4.05152131e-17],\n",
       "        [ 5.04569501e-17,  1.00000000e+00, -3.93490127e-16],\n",
       "        [ 6.59785437e-18, -1.38064170e-16,  1.00000000e+00]]])"
      ]
     },
     "execution_count": 6,
     "metadata": {},
     "output_type": "execute_result"
    }
   ],
   "source": [
    "#x = np.random.rand(3,4) # linAlgError 행렬은 3,3 처럼 값이 정사각형 꼴이어야함\n",
    "x = np.random.rand(3,3,3)\n",
    "x @ np.linalg.inv(x) #행렬의 곱은 @골뱅이로 표시\n",
    "np.matmul(x, np.linalg.inv(x)) #또는 행렬의 곱 matmul 사용 "
   ]
  },
  {
   "cell_type": "markdown",
   "metadata": {},
   "source": [
    "#### np.linalg.solve\n",
    " - Ax = B 형태의 선형대수식 솔루션을 제공\n",
    " - 예제) 호랑이와 홍합의 합 : 25 호랑이 다리와 홍합 다리의 합은 64\n",
    "   - x + y = 25\n",
    "   - 2x + 4y = 64\n",
    "   \n",
    " $$\\begin{pmatrix} 1 & 1 \\\\ 2 & 4 \\end{pmatrix}\\begin{pmatrix} x \\\\ y \\end{pmatrix}= \\begin{pmatrix} 25 \\\\ 64 \\end{pmatrix}$$\n"
   ]
  },
  {
   "cell_type": "code",
   "execution_count": 7,
   "metadata": {},
   "outputs": [
    {
     "data": {
      "text/plain": [
       "array([18.,  7.])"
      ]
     },
     "execution_count": 7,
     "metadata": {},
     "output_type": "execute_result"
    }
   ],
   "source": [
    "A = np.array([[1,1],[2,4]])\n",
    "B = np.array([25,64])\n",
    "\n",
    "x = np.linalg.solve(A,B)\n",
    "x"
   ]
  },
  {
   "cell_type": "code",
   "execution_count": 8,
   "metadata": {},
   "outputs": [
    {
     "data": {
      "text/plain": [
       "True"
      ]
     },
     "execution_count": 8,
     "metadata": {},
     "output_type": "execute_result"
    }
   ],
   "source": [
    "np.allclose(A@x, B)"
   ]
  }
 ],
 "metadata": {
  "kernelspec": {
   "display_name": "Python 3 (ipykernel)",
   "language": "python",
   "name": "python3"
  },
  "language_info": {
   "codemirror_mode": {
    "name": "ipython",
    "version": 3
   },
   "file_extension": ".py",
   "mimetype": "text/x-python",
   "name": "python",
   "nbconvert_exporter": "python",
   "pygments_lexer": "ipython3",
   "version": "3.11.7"
  }
 },
 "nbformat": 4,
 "nbformat_minor": 4
}
