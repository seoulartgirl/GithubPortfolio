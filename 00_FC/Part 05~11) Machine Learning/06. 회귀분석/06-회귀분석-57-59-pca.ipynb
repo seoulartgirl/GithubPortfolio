{
  "nbformat": 4,
  "nbformat_minor": 0,
  "metadata": {
    "kernelspec": {
      "display_name": "Python 3",
      "language": "python",
      "name": "python3"
    },
    "language_info": {
      "codemirror_mode": {
        "name": "ipython",
        "version": 3
      },
      "file_extension": ".py",
      "mimetype": "text/x-python",
      "name": "python",
      "nbconvert_exporter": "python",
      "pygments_lexer": "ipython3",
      "version": "3.6.1"
    },
    "colab": {
      "name": "(2020.11.09 updated - matplotlib 버전 이슈 수정 파일)06.회귀분석 - 57~59. PCA.ipynb",
      "provenance": []
    }
  },
  "cells": [
    {
      "cell_type": "markdown",
      "metadata": {
        "id": "bGd3wtI-v4P-"
      },
      "source": [
        "# Principal compoenet analysis 실습"
      ]
    },
    {
      "cell_type": "markdown",
      "metadata": {
        "id": "oWCiS4Vzv4QA"
      },
      "source": [
        "대부분의 머신러닝을 모듈에 포함하고, 이에 대한 예제와 정보가 담겨있는 웹사이트 참고: https://scikit-learn.org"
      ]
    },
    {
      "cell_type": "markdown",
      "metadata": {
        "id": "Qn4ip3Lmv4QB"
      },
      "source": [
        "# 1. 데이터 전처리 및 데이터 파악"
      ]
    },
    {
      "cell_type": "markdown",
      "metadata": {
        "id": "PeD8URRmv4QC"
      },
      "source": [
        "- scikit-lean 패키지에서 데이터와 PCA 로드."
      ]
    },
    {
      "cell_type": "code",
      "metadata": {
        "id": "GLAqkSXRv4QD"
      },
      "source": [
        "from sklearn import datasets\n",
        "from sklearn.decomposition import PCA"
      ],
      "execution_count": null,
      "outputs": []
    },
    {
      "cell_type": "markdown",
      "metadata": {
        "id": "rAlm4IyMv4QJ"
      },
      "source": [
        "- 자료 처리에 도움을 줄 pandas, numpy와 시각화를 위한 pyplot, seaborn 로드."
      ]
    },
    {
      "cell_type": "code",
      "metadata": {
        "id": "mcgXmhJhv4QK"
      },
      "source": [
        "import pandas as pd\n",
        "import numpy as np\n",
        "import matplotlib.pyplot as plt\n",
        "import seaborn as sns"
      ],
      "execution_count": null,
      "outputs": []
    },
    {
      "cell_type": "markdown",
      "metadata": {
        "id": "X5GCsKxEv4QO"
      },
      "source": [
        "- iris 데이터를 불러오고, 구조를 살핌."
      ]
    },
    {
      "cell_type": "code",
      "metadata": {
        "id": "m0yIFffDv4QO",
        "outputId": "be044d0f-09aa-42b6-9aeb-03893ba88c3e",
        "colab": {
          "base_uri": "https://localhost:8080/"
        }
      },
      "source": [
        "iris=datasets.load_iris()\n",
        "dir(iris)"
      ],
      "execution_count": null,
      "outputs": [
        {
          "output_type": "execute_result",
          "data": {
            "text/plain": [
              "['DESCR', 'data', 'feature_names', 'filename', 'target', 'target_names']"
            ]
          },
          "metadata": {
            "tags": []
          },
          "execution_count": 3
        }
      ]
    },
    {
      "cell_type": "markdown",
      "metadata": {
        "id": "W9PHg9Dkv4QR"
      },
      "source": [
        "- 설명의 편의를 위하여, 독립변수 중 처음 2개만을 사용."
      ]
    },
    {
      "cell_type": "code",
      "metadata": {
        "id": "cMcKvZ2Fv4QS"
      },
      "source": [
        "X=iris.data[:,[0,2]]\n",
        "y=iris.target"
      ],
      "execution_count": null,
      "outputs": []
    },
    {
      "cell_type": "code",
      "metadata": {
        "id": "U-XA1yIdv4QU",
        "outputId": "df3ca6f2-7a88-410a-ca42-cedef772aa74",
        "colab": {
          "base_uri": "https://localhost:8080/",
          "height": 222
        }
      },
      "source": [
        "print(X.shape)\n",
        "feature_names=[iris.feature_names[0],iris.feature_names[2]]\n",
        "df_X=pd.DataFrame(X)\n",
        "df_X.head()"
      ],
      "execution_count": null,
      "outputs": [
        {
          "output_type": "stream",
          "text": [
            "(150, 2)\n"
          ],
          "name": "stdout"
        },
        {
          "output_type": "execute_result",
          "data": {
            "text/html": [
              "<div>\n",
              "<style scoped>\n",
              "    .dataframe tbody tr th:only-of-type {\n",
              "        vertical-align: middle;\n",
              "    }\n",
              "\n",
              "    .dataframe tbody tr th {\n",
              "        vertical-align: top;\n",
              "    }\n",
              "\n",
              "    .dataframe thead th {\n",
              "        text-align: right;\n",
              "    }\n",
              "</style>\n",
              "<table border=\"1\" class=\"dataframe\">\n",
              "  <thead>\n",
              "    <tr style=\"text-align: right;\">\n",
              "      <th></th>\n",
              "      <th>0</th>\n",
              "      <th>1</th>\n",
              "    </tr>\n",
              "  </thead>\n",
              "  <tbody>\n",
              "    <tr>\n",
              "      <th>0</th>\n",
              "      <td>5.1</td>\n",
              "      <td>1.4</td>\n",
              "    </tr>\n",
              "    <tr>\n",
              "      <th>1</th>\n",
              "      <td>4.9</td>\n",
              "      <td>1.4</td>\n",
              "    </tr>\n",
              "    <tr>\n",
              "      <th>2</th>\n",
              "      <td>4.7</td>\n",
              "      <td>1.3</td>\n",
              "    </tr>\n",
              "    <tr>\n",
              "      <th>3</th>\n",
              "      <td>4.6</td>\n",
              "      <td>1.5</td>\n",
              "    </tr>\n",
              "    <tr>\n",
              "      <th>4</th>\n",
              "      <td>5.0</td>\n",
              "      <td>1.4</td>\n",
              "    </tr>\n",
              "  </tbody>\n",
              "</table>\n",
              "</div>"
            ],
            "text/plain": [
              "     0    1\n",
              "0  5.1  1.4\n",
              "1  4.9  1.4\n",
              "2  4.7  1.3\n",
              "3  4.6  1.5\n",
              "4  5.0  1.4"
            ]
          },
          "metadata": {
            "tags": []
          },
          "execution_count": 5
        }
      ]
    },
    {
      "cell_type": "code",
      "metadata": {
        "scrolled": true,
        "id": "PrvRgsC1v4QW",
        "outputId": "8ea79736-2abc-4ecd-bf2c-294d1f7c4df9",
        "colab": {
          "base_uri": "https://localhost:8080/",
          "height": 222
        }
      },
      "source": [
        "print(y.shape)\n",
        "df_Y=pd.DataFrame(y)\n",
        "df_Y.head()"
      ],
      "execution_count": null,
      "outputs": [
        {
          "output_type": "stream",
          "text": [
            "(150,)\n"
          ],
          "name": "stdout"
        },
        {
          "output_type": "execute_result",
          "data": {
            "text/html": [
              "<div>\n",
              "<style scoped>\n",
              "    .dataframe tbody tr th:only-of-type {\n",
              "        vertical-align: middle;\n",
              "    }\n",
              "\n",
              "    .dataframe tbody tr th {\n",
              "        vertical-align: top;\n",
              "    }\n",
              "\n",
              "    .dataframe thead th {\n",
              "        text-align: right;\n",
              "    }\n",
              "</style>\n",
              "<table border=\"1\" class=\"dataframe\">\n",
              "  <thead>\n",
              "    <tr style=\"text-align: right;\">\n",
              "      <th></th>\n",
              "      <th>0</th>\n",
              "    </tr>\n",
              "  </thead>\n",
              "  <tbody>\n",
              "    <tr>\n",
              "      <th>0</th>\n",
              "      <td>0</td>\n",
              "    </tr>\n",
              "    <tr>\n",
              "      <th>1</th>\n",
              "      <td>0</td>\n",
              "    </tr>\n",
              "    <tr>\n",
              "      <th>2</th>\n",
              "      <td>0</td>\n",
              "    </tr>\n",
              "    <tr>\n",
              "      <th>3</th>\n",
              "      <td>0</td>\n",
              "    </tr>\n",
              "    <tr>\n",
              "      <th>4</th>\n",
              "      <td>0</td>\n",
              "    </tr>\n",
              "  </tbody>\n",
              "</table>\n",
              "</div>"
            ],
            "text/plain": [
              "   0\n",
              "0  0\n",
              "1  0\n",
              "2  0\n",
              "3  0\n",
              "4  0"
            ]
          },
          "metadata": {
            "tags": []
          },
          "execution_count": 6
        }
      ]
    },
    {
      "cell_type": "markdown",
      "metadata": {
        "id": "YtBJbkK7v4QY"
      },
      "source": [
        "- 결측치 여부를 파악."
      ]
    },
    {
      "cell_type": "code",
      "metadata": {
        "id": "kk1Lctdev4QY",
        "outputId": "799dc243-9cf4-4bde-ac21-e465931dcd12",
        "colab": {
          "base_uri": "https://localhost:8080/"
        }
      },
      "source": [
        "print(df_X.isnull().sum())\n",
        "print(df_Y.isnull().sum())"
      ],
      "execution_count": null,
      "outputs": [
        {
          "output_type": "stream",
          "text": [
            "0    0\n",
            "1    0\n",
            "dtype: int64\n",
            "0    0\n",
            "dtype: int64\n"
          ],
          "name": "stdout"
        }
      ]
    },
    {
      "cell_type": "code",
      "metadata": {
        "id": "SGEaHwR-v4Qa",
        "outputId": "e1d94574-b51b-4d73-8b6c-9a9da262167b",
        "colab": {
          "base_uri": "https://localhost:8080/"
        }
      },
      "source": [
        "print(set(y))\n",
        "iris.target_names"
      ],
      "execution_count": null,
      "outputs": [
        {
          "output_type": "stream",
          "text": [
            "{0, 1, 2}\n"
          ],
          "name": "stdout"
        },
        {
          "output_type": "execute_result",
          "data": {
            "text/plain": [
              "array(['setosa', 'versicolor', 'virginica'], dtype='<U10')"
            ]
          },
          "metadata": {
            "tags": []
          },
          "execution_count": 8
        }
      ]
    },
    {
      "cell_type": "markdown",
      "metadata": {
        "id": "vAL6WKbav4Qc"
      },
      "source": [
        "- 종속 변수 (출력변수, 반응변수)의 분포를 살핌."
      ]
    },
    {
      "cell_type": "code",
      "metadata": {
        "id": "YNZk5sB-v4Qc",
        "outputId": "54b53af8-d9d1-423f-cc30-88039d3a6ecf",
        "colab": {
          "base_uri": "https://localhost:8080/",
          "height": 262
        }
      },
      "source": [
        "df_Y[0].value_counts().plot(kind='bar')\n",
        "plt.show()"
      ],
      "execution_count": null,
      "outputs": [
        {
          "output_type": "display_data",
          "data": {
            "image/png": "[encoded data removed]",
            "text/plain": [
              "<Figure size 432x288 with 1 Axes>"
            ]
          },
          "metadata": {
            "tags": [],
            "needs_background": "light"
          }
        }
      ]
    },
    {
      "cell_type": "markdown",
      "metadata": {
        "id": "uDkWyDXVv4Qe"
      },
      "source": [
        "- 독립 변수 (속성, 입력변수, 설명변수)의 분포를 살핌."
      ]
    },
    {
      "cell_type": "code",
      "metadata": {
        "scrolled": true,
        "id": "hrynVdjev4Qe",
        "outputId": "701612e9-c565-42b3-9529-361bf88646b3",
        "colab": {
          "base_uri": "https://localhost:8080/",
          "height": 665
        }
      },
      "source": [
        "for i in range(df_X.shape[1]):\n",
        "    sns.distplot(df_X[i])\n",
        "    plt.title(feature_names[i])\n",
        "    plt.show()"
      ],
      "execution_count": null,
      "outputs": [
        {
          "output_type": "stream",
          "text": [
            "/usr/local/lib/python3.6/dist-packages/seaborn/distributions.py:2551: FutureWarning: `distplot` is a deprecated function and will be removed in a future version. Please adapt your code to use either `displot` (a figure-level function with similar flexibility) or `histplot` (an axes-level function for histograms).\n",
            "  warnings.warn(msg, FutureWarning)\n"
          ],
          "name": "stderr"
        },
        {
          "output_type": "display_data",
          "data": {
            "image/png": "[encoded data removed]",
            "text/plain": [
              "<Figure size 432x288 with 1 Axes>"
            ]
          },
          "metadata": {
            "tags": [],
            "needs_background": "light"
          }
        },
        {
          "output_type": "stream",
          "text": [
            "/usr/local/lib/python3.6/dist-packages/seaborn/distributions.py:2551: FutureWarning: `distplot` is a deprecated function and will be removed in a future version. Please adapt your code to use either `displot` (a figure-level function with similar flexibility) or `histplot` (an axes-level function for histograms).\n",
            "  warnings.warn(msg, FutureWarning)\n"
          ],
          "name": "stderr"
        },
        {
          "output_type": "display_data",
          "data": {
            "image/png": "[encoded data removed]",
            "text/plain": [
              "<Figure size 432x288 with 1 Axes>"
            ]
          },
          "metadata": {
            "tags": [],
            "needs_background": "light"
          }
        }
      ]
    },
    {
      "cell_type": "markdown",
      "metadata": {
        "id": "u5iS64CCv4Qf"
      },
      "source": [
        "# 2. PCA 함수 활용 및 아웃풋 의미파악"
      ]
    },
    {
      "cell_type": "markdown",
      "metadata": {
        "id": "MCAaJHibv4Qf"
      },
      "source": [
        "- PCA 함수를 활용하여 PC를 얻어냄. 아래의 경우 PC 2개를 뽑아냄."
      ]
    },
    {
      "cell_type": "code",
      "metadata": {
        "id": "vjjBdwDrv4Qg",
        "outputId": "d860236a-b945-4b38-c47c-2c4119bb318b",
        "colab": {
          "base_uri": "https://localhost:8080/"
        }
      },
      "source": [
        "pca=PCA(n_components=2)\n",
        "pca.fit(X)"
      ],
      "execution_count": null,
      "outputs": [
        {
          "output_type": "execute_result",
          "data": {
            "text/plain": [
              "PCA(copy=True, iterated_power='auto', n_components=2, random_state=None,\n",
              "    svd_solver='auto', tol=0.0, whiten=False)"
            ]
          },
          "metadata": {
            "tags": []
          },
          "execution_count": 11
        }
      ]
    },
    {
      "cell_type": "markdown",
      "metadata": {
        "id": "lu5XmSTLv4Qh"
      },
      "source": [
        "- 아래와 같이 PC score를 얻어냄. 아래의 PC score를 이용하여, 회귀분석에 활용할 수 있음."
      ]
    },
    {
      "cell_type": "code",
      "metadata": {
        "id": "pq6eUEcev4Qh",
        "outputId": "144c6eb3-c115-435d-d4b6-d6d424c45bdf",
        "colab": {
          "base_uri": "https://localhost:8080/"
        }
      },
      "source": [
        "PCscore=pca.transform(X)\n",
        "PCscore[0:5]"
      ],
      "execution_count": null,
      "outputs": [
        {
          "output_type": "execute_result",
          "data": {
            "text/plain": [
              "array([[-2.46024094, -0.24479165],\n",
              "       [-2.53896211, -0.06093579],\n",
              "       [-2.70961121,  0.08355948],\n",
              "       [-2.56511594,  0.25420858],\n",
              "       [-2.49960153, -0.15286372]])"
            ]
          },
          "metadata": {
            "tags": []
          },
          "execution_count": 12
        }
      ]
    },
    {
      "cell_type": "code",
      "metadata": {
        "id": "MdJj3BBgv4Qi",
        "outputId": "85210af6-f4e7-40e7-e64d-08bf298a3606",
        "colab": {
          "base_uri": "https://localhost:8080/"
        }
      },
      "source": [
        "eigens_v=pca.components_.transpose()\n",
        "print(eigens_v)"
      ],
      "execution_count": null,
      "outputs": [
        {
          "output_type": "stream",
          "text": [
            "[[ 0.39360585 -0.9192793 ]\n",
            " [ 0.9192793   0.39360585]]\n"
          ],
          "name": "stdout"
        }
      ]
    },
    {
      "cell_type": "code",
      "metadata": {
        "id": "CMTeS8e3v4Qk"
      },
      "source": [
        "mX=np.matrix(X)\n",
        "for i in range(X.shape[1]):\n",
        "    mX[:,i]=mX[:,i]-np.mean(X[:,i])\n",
        "dfmX=pd.DataFrame(mX)"
      ],
      "execution_count": null,
      "outputs": []
    },
    {
      "cell_type": "code",
      "metadata": {
        "id": "bIMpWa1wv4Ql",
        "outputId": "5c337d15-78d6-4aa7-e4ac-33d258cf0fb4",
        "colab": {
          "base_uri": "https://localhost:8080/"
        }
      },
      "source": [
        "(mX*eigens_v)[0:5]"
      ],
      "execution_count": null,
      "outputs": [
        {
          "output_type": "execute_result",
          "data": {
            "text/plain": [
              "matrix([[-2.46024094, -0.24479165],\n",
              "        [-2.53896211, -0.06093579],\n",
              "        [-2.70961121,  0.08355948],\n",
              "        [-2.56511594,  0.25420858],\n",
              "        [-2.49960153, -0.15286372]])"
            ]
          },
          "metadata": {
            "tags": []
          },
          "execution_count": 15
        }
      ]
    },
    {
      "cell_type": "code",
      "metadata": {
        "scrolled": true,
        "id": "rbaRw5arv4Qn",
        "outputId": "f7e4dc52-b1ea-49ce-e15f-74c2c3b473fd",
        "colab": {
          "base_uri": "https://localhost:8080/",
          "height": 265
        }
      },
      "source": [
        "plt.scatter(PCscore[:,0],PCscore[:,1])\n",
        "plt.show()"
      ],
      "execution_count": null,
      "outputs": [
        {
          "output_type": "display_data",
          "data": {
            "image/png": "[encoded data removed]",
            "text/plain": [
              "<Figure size 432x288 with 1 Axes>"
            ]
          },
          "metadata": {
            "tags": [],
            "needs_background": "light"
          }
        }
      ]
    },
    {
      "cell_type": "code",
      "metadata": {
        "scrolled": true,
        "id": "fvbr4qoPv4Qo",
        "outputId": "300e066c-59df-4be2-fed8-2a8af675ac25",
        "colab": {
          "base_uri": "https://localhost:8080/",
          "height": 265
        }
      },
      "source": [
        "plt.scatter(dfmX[0],dfmX[1])\n",
        "origin = [0], [0] # origin point\n",
        "plt.quiver(*origin, eigens_v[0,0], eigens_v[1,0], color=['r','b'], scale=3)\n",
        "plt.quiver(*origin, eigens_v[0,1], eigens_v[1,1], color=['r','b'], scale=3)\n",
        "plt.show()"
      ],
      "execution_count": null,
      "outputs": [
        {
          "output_type": "display_data",
          "data": {
            "image/png": "[encoded data removed]",
            "text/plain": [
              "<Figure size 432x288 with 1 Axes>"
            ]
          },
          "metadata": {
            "tags": [],
            "needs_background": "light"
          }
        }
      ]
    },
    {
      "cell_type": "markdown",
      "metadata": {
        "id": "XSGGn5wEv4Qp"
      },
      "source": [
        "# 3. PC를 활용한 회귀분석"
      ]
    },
    {
      "cell_type": "markdown",
      "metadata": {
        "id": "4REE9PJqv4Qp"
      },
      "source": [
        "- 이번에는 모든 독립변수를 활용하여 PC를 뽑아냄."
      ]
    },
    {
      "cell_type": "code",
      "metadata": {
        "id": "9z0PkCtNv4Qq"
      },
      "source": [
        "X2 = iris.data\n",
        "pca2 = PCA(n_components=4)\n",
        "pca2.fit(X2)"
      ],
      "execution_count": null,
      "outputs": []
    },
    {
      "cell_type": "code",
      "metadata": {
        "id": "jt3qCyUdv4Qr"
      },
      "source": [
        "pca2.explained_variance_"
      ],
      "execution_count": null,
      "outputs": []
    },
    {
      "cell_type": "code",
      "metadata": {
        "id": "Nzax_7O3v4Qs"
      },
      "source": [
        "PCs=pca2.transform(X2)[:,0:2]"
      ],
      "execution_count": null,
      "outputs": []
    },
    {
      "cell_type": "code",
      "metadata": {
        "id": "rA-XesrFv4Qt"
      },
      "source": [
        "from sklearn.linear_model import LogisticRegression\n",
        "from sklearn.metrics import confusion_matrix"
      ],
      "execution_count": null,
      "outputs": []
    },
    {
      "cell_type": "markdown",
      "metadata": {
        "id": "G-i_-S6bv4Qu"
      },
      "source": [
        "- 모델의 복잡성으로 인하여 기존 자료를 이용한 분석은 수렴하지 않는 모습."
      ]
    },
    {
      "cell_type": "code",
      "metadata": {
        "id": "nE0MPB3gv4Qu"
      },
      "source": [
        "clf = LogisticRegression(solver=\"sag\",multi_class=\"multinomial\").fit(X2,y)"
      ],
      "execution_count": null,
      "outputs": []
    },
    {
      "cell_type": "markdown",
      "metadata": {
        "id": "Cv-YBQaEv4Qv"
      },
      "source": [
        "- PC 2개 만을 뽑아내여 분석한 경우 모델이 수렴."
      ]
    },
    {
      "cell_type": "code",
      "metadata": {
        "id": "fBA4G1IIv4Qv"
      },
      "source": [
        "clf2 = LogisticRegression(solver=\"sag\",multi_class=\"multinomial\").fit(PCs,y)"
      ],
      "execution_count": null,
      "outputs": []
    },
    {
      "cell_type": "code",
      "metadata": {
        "id": "9Tq9W5zcv4Qw"
      },
      "source": [
        "confusion_matrix(y,clf2.predict(PCs))"
      ],
      "execution_count": null,
      "outputs": []
    },
    {
      "cell_type": "markdown",
      "metadata": {
        "id": "tX1E-ZjXv4Qx"
      },
      "source": [
        "- 임의로 변수 2개 만을 뽑아내여 분석한 경우 모델의 퍼포먼스가 하락함."
      ]
    },
    {
      "cell_type": "code",
      "metadata": {
        "id": "coio26gNv4Qx"
      },
      "source": [
        "clf = LogisticRegression(solver='sag', max_iter=1000, random_state=0,\n",
        "                             multi_class=\"multinomial\").fit(X2[:,0:2], y)"
      ],
      "execution_count": null,
      "outputs": []
    },
    {
      "cell_type": "code",
      "metadata": {
        "id": "g123Vzqpv4Qy"
      },
      "source": [
        "confusion_matrix(y, clf.predict(X2[:,0:2]))"
      ],
      "execution_count": null,
      "outputs": []
    },
    {
      "cell_type": "markdown",
      "metadata": {
        "id": "PxjBePV5v4Qz"
      },
      "source": [
        "- 위와 같이, 차원축소를 통하여 모델의 복잡성을 줄이는 동시에 최대한 많은 정보를 활용하여 분석할 수 있음."
      ]
    },
    {
      "cell_type": "code",
      "metadata": {
        "id": "JYBLBOSFwEpz"
      },
      "source": [
        "\n",
        "\n"
      ],
      "execution_count": null,
      "outputs": []
    }
  ]
}