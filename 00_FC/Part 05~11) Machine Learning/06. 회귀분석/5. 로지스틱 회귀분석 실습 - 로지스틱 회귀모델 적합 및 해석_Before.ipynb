{
 "cells": [
  {
   "cell_type": "code",
   "execution_count": 1,
   "metadata": {},
   "outputs": [],
   "source": [
    "# 분석에 필요한 패키지 불러오기\n",
    "import os\n",
    "import numpy as np\n",
    "import pandas as pd\n",
    "from sklearn.linear_model import LogisticRegression\n",
    "from sklearn.model_selection import train_test_split\n",
    "from sklearn import metrics\n",
    "from sklearn.metrics import confusion_matrix\n",
    "from sklearn.metrics import accuracy_score, roc_auc_score, roc_curve\n",
    "import statsmodels.api as sm\n",
    "import matplotlib.pyplot as plt\n",
    "import itertools\n",
    "import time"
   ]
  },
  {
   "cell_type": "markdown",
   "metadata": {},
   "source": [
    "# 로지스틱 회귀분석"
   ]
  },
  {
   "cell_type": "code",
   "execution_count": 2,
   "metadata": {},
   "outputs": [
    {
     "data": {
      "text/plain": [
       "'/Users/crystal.moon/crystal.moon/00_FastCam/Part 05~11) Machine Learning/06. 회귀분석/실습코드'"
      ]
     },
     "execution_count": 2,
     "metadata": {},
     "output_type": "execute_result"
    }
   ],
   "source": [
    "# 현재경로 확인\n",
    "os.getcwd()"
   ]
  },
  {
   "cell_type": "code",
   "execution_count": 4,
   "metadata": {},
   "outputs": [
    {
     "data": {
      "text/html": [
       "<div>\n",
       "<style scoped>\n",
       "    .dataframe tbody tr th:only-of-type {\n",
       "        vertical-align: middle;\n",
       "    }\n",
       "\n",
       "    .dataframe tbody tr th {\n",
       "        vertical-align: top;\n",
       "    }\n",
       "\n",
       "    .dataframe thead th {\n",
       "        text-align: right;\n",
       "    }\n",
       "</style>\n",
       "<table border=\"1\" class=\"dataframe\">\n",
       "  <thead>\n",
       "    <tr style=\"text-align: right;\">\n",
       "      <th></th>\n",
       "      <th>ID</th>\n",
       "      <th>Age</th>\n",
       "      <th>Experience</th>\n",
       "      <th>Income</th>\n",
       "      <th>ZIP Code</th>\n",
       "      <th>Family</th>\n",
       "      <th>CCAvg</th>\n",
       "      <th>Education</th>\n",
       "      <th>Mortgage</th>\n",
       "      <th>Personal Loan</th>\n",
       "      <th>Securities Account</th>\n",
       "      <th>CD Account</th>\n",
       "      <th>Online</th>\n",
       "      <th>CreditCard</th>\n",
       "    </tr>\n",
       "  </thead>\n",
       "  <tbody>\n",
       "    <tr>\n",
       "      <th>0</th>\n",
       "      <td>1</td>\n",
       "      <td>25</td>\n",
       "      <td>1</td>\n",
       "      <td>49</td>\n",
       "      <td>91107</td>\n",
       "      <td>4</td>\n",
       "      <td>1.6</td>\n",
       "      <td>1</td>\n",
       "      <td>0</td>\n",
       "      <td>0</td>\n",
       "      <td>1</td>\n",
       "      <td>0</td>\n",
       "      <td>0</td>\n",
       "      <td>0</td>\n",
       "    </tr>\n",
       "    <tr>\n",
       "      <th>1</th>\n",
       "      <td>2</td>\n",
       "      <td>45</td>\n",
       "      <td>19</td>\n",
       "      <td>34</td>\n",
       "      <td>90089</td>\n",
       "      <td>3</td>\n",
       "      <td>1.5</td>\n",
       "      <td>1</td>\n",
       "      <td>0</td>\n",
       "      <td>0</td>\n",
       "      <td>1</td>\n",
       "      <td>0</td>\n",
       "      <td>0</td>\n",
       "      <td>0</td>\n",
       "    </tr>\n",
       "    <tr>\n",
       "      <th>2</th>\n",
       "      <td>3</td>\n",
       "      <td>39</td>\n",
       "      <td>15</td>\n",
       "      <td>11</td>\n",
       "      <td>94720</td>\n",
       "      <td>1</td>\n",
       "      <td>1.0</td>\n",
       "      <td>1</td>\n",
       "      <td>0</td>\n",
       "      <td>0</td>\n",
       "      <td>0</td>\n",
       "      <td>0</td>\n",
       "      <td>0</td>\n",
       "      <td>0</td>\n",
       "    </tr>\n",
       "    <tr>\n",
       "      <th>3</th>\n",
       "      <td>4</td>\n",
       "      <td>35</td>\n",
       "      <td>9</td>\n",
       "      <td>100</td>\n",
       "      <td>94112</td>\n",
       "      <td>1</td>\n",
       "      <td>2.7</td>\n",
       "      <td>2</td>\n",
       "      <td>0</td>\n",
       "      <td>0</td>\n",
       "      <td>0</td>\n",
       "      <td>0</td>\n",
       "      <td>0</td>\n",
       "      <td>0</td>\n",
       "    </tr>\n",
       "    <tr>\n",
       "      <th>4</th>\n",
       "      <td>5</td>\n",
       "      <td>35</td>\n",
       "      <td>8</td>\n",
       "      <td>45</td>\n",
       "      <td>91330</td>\n",
       "      <td>4</td>\n",
       "      <td>1.0</td>\n",
       "      <td>2</td>\n",
       "      <td>0</td>\n",
       "      <td>0</td>\n",
       "      <td>0</td>\n",
       "      <td>0</td>\n",
       "      <td>0</td>\n",
       "      <td>1</td>\n",
       "    </tr>\n",
       "  </tbody>\n",
       "</table>\n",
       "</div>"
      ],
      "text/plain": [
       "   ID  Age  Experience  Income  ZIP Code  Family  CCAvg  Education  Mortgage  \\\n",
       "0   1   25           1      49     91107       4    1.6          1         0   \n",
       "1   2   45          19      34     90089       3    1.5          1         0   \n",
       "2   3   39          15      11     94720       1    1.0          1         0   \n",
       "3   4   35           9     100     94112       1    2.7          2         0   \n",
       "4   5   35           8      45     91330       4    1.0          2         0   \n",
       "\n",
       "   Personal Loan  Securities Account  CD Account  Online  CreditCard  \n",
       "0              0                   1           0       0           0  \n",
       "1              0                   1           0       0           0  \n",
       "2              0                   0           0       0           0  \n",
       "3              0                   0           0       0           0  \n",
       "4              0                   0           0       0           1  "
      ]
     },
     "execution_count": 4,
     "metadata": {},
     "output_type": "execute_result"
    }
   ],
   "source": [
    "# Personal Loan 데이터 불러오기\n",
    "ploan = pd.read_csv('data/Personal Loan.csv')\n",
    "ploan.head()"
   ]
  },
  {
   "cell_type": "code",
   "execution_count": 3,
   "metadata": {
    "scrolled": true
   },
   "outputs": [
    {
     "data": {
      "text/plain": [
       "'\\nExperience 경력\\nIncome 수입\\nFamliy 가족단위\\nCCAvg 월 카드사용량 \\nEducation 교육수준 (1: undergrad; 2, Graduate; 3; Advance )\\nMortgage 가계대출\\nSecurities account 유가증권계좌유무\\nCD account 양도예금증서 계좌 유무\\nOnline 온라인계좌유무\\nCreidtCard 신용카드유무 \\n\\n'"
      ]
     },
     "execution_count": 3,
     "metadata": {},
     "output_type": "execute_result"
    }
   ],
   "source": [
    "'''\n",
    "Experience 경력\n",
    "Income 수입\n",
    "Famliy 가족단위\n",
    "CCAvg 월 카드사용량 \n",
    "Education 교육수준 (1: undergrad; 2, Graduate; 3; Advance )\n",
    "Mortgage 가계대출\n",
    "Securities account 유가증권계좌유무\n",
    "CD account 양도예금증서 계좌 유무\n",
    "Online 온라인계좌유무\n",
    "CreidtCard 신용카드유무 \n",
    "'''"
   ]
  },
  {
   "cell_type": "code",
   "execution_count": 6,
   "metadata": {},
   "outputs": [],
   "source": [
    "# 의미없는 변수 제거 ID, zip code 제외\n",
    "ploan_processed = ploan.dropna().drop(['ID', 'ZIP Code'], axis=1, inplace=False)"
   ]
  },
  {
   "cell_type": "code",
   "execution_count": 7,
   "metadata": {
    "scrolled": true
   },
   "outputs": [
    {
     "data": {
      "text/html": [
       "<div>\n",
       "<style scoped>\n",
       "    .dataframe tbody tr th:only-of-type {\n",
       "        vertical-align: middle;\n",
       "    }\n",
       "\n",
       "    .dataframe tbody tr th {\n",
       "        vertical-align: top;\n",
       "    }\n",
       "\n",
       "    .dataframe thead th {\n",
       "        text-align: right;\n",
       "    }\n",
       "</style>\n",
       "<table border=\"1\" class=\"dataframe\">\n",
       "  <thead>\n",
       "    <tr style=\"text-align: right;\">\n",
       "      <th></th>\n",
       "      <th>const</th>\n",
       "      <th>Age</th>\n",
       "      <th>Experience</th>\n",
       "      <th>Income</th>\n",
       "      <th>Family</th>\n",
       "      <th>CCAvg</th>\n",
       "      <th>Education</th>\n",
       "      <th>Mortgage</th>\n",
       "      <th>Personal Loan</th>\n",
       "      <th>Securities Account</th>\n",
       "      <th>CD Account</th>\n",
       "      <th>Online</th>\n",
       "      <th>CreditCard</th>\n",
       "    </tr>\n",
       "  </thead>\n",
       "  <tbody>\n",
       "    <tr>\n",
       "      <th>0</th>\n",
       "      <td>1.0</td>\n",
       "      <td>25</td>\n",
       "      <td>1</td>\n",
       "      <td>49</td>\n",
       "      <td>4</td>\n",
       "      <td>1.6</td>\n",
       "      <td>1</td>\n",
       "      <td>0</td>\n",
       "      <td>0</td>\n",
       "      <td>1</td>\n",
       "      <td>0</td>\n",
       "      <td>0</td>\n",
       "      <td>0</td>\n",
       "    </tr>\n",
       "    <tr>\n",
       "      <th>1</th>\n",
       "      <td>1.0</td>\n",
       "      <td>45</td>\n",
       "      <td>19</td>\n",
       "      <td>34</td>\n",
       "      <td>3</td>\n",
       "      <td>1.5</td>\n",
       "      <td>1</td>\n",
       "      <td>0</td>\n",
       "      <td>0</td>\n",
       "      <td>1</td>\n",
       "      <td>0</td>\n",
       "      <td>0</td>\n",
       "      <td>0</td>\n",
       "    </tr>\n",
       "    <tr>\n",
       "      <th>2</th>\n",
       "      <td>1.0</td>\n",
       "      <td>39</td>\n",
       "      <td>15</td>\n",
       "      <td>11</td>\n",
       "      <td>1</td>\n",
       "      <td>1.0</td>\n",
       "      <td>1</td>\n",
       "      <td>0</td>\n",
       "      <td>0</td>\n",
       "      <td>0</td>\n",
       "      <td>0</td>\n",
       "      <td>0</td>\n",
       "      <td>0</td>\n",
       "    </tr>\n",
       "    <tr>\n",
       "      <th>3</th>\n",
       "      <td>1.0</td>\n",
       "      <td>35</td>\n",
       "      <td>9</td>\n",
       "      <td>100</td>\n",
       "      <td>1</td>\n",
       "      <td>2.7</td>\n",
       "      <td>2</td>\n",
       "      <td>0</td>\n",
       "      <td>0</td>\n",
       "      <td>0</td>\n",
       "      <td>0</td>\n",
       "      <td>0</td>\n",
       "      <td>0</td>\n",
       "    </tr>\n",
       "    <tr>\n",
       "      <th>4</th>\n",
       "      <td>1.0</td>\n",
       "      <td>35</td>\n",
       "      <td>8</td>\n",
       "      <td>45</td>\n",
       "      <td>4</td>\n",
       "      <td>1.0</td>\n",
       "      <td>2</td>\n",
       "      <td>0</td>\n",
       "      <td>0</td>\n",
       "      <td>0</td>\n",
       "      <td>0</td>\n",
       "      <td>0</td>\n",
       "      <td>1</td>\n",
       "    </tr>\n",
       "  </tbody>\n",
       "</table>\n",
       "</div>"
      ],
      "text/plain": [
       "   const  Age  Experience  Income  Family  CCAvg  Education  Mortgage  \\\n",
       "0    1.0   25           1      49       4    1.6          1         0   \n",
       "1    1.0   45          19      34       3    1.5          1         0   \n",
       "2    1.0   39          15      11       1    1.0          1         0   \n",
       "3    1.0   35           9     100       1    2.7          2         0   \n",
       "4    1.0   35           8      45       4    1.0          2         0   \n",
       "\n",
       "   Personal Loan  Securities Account  CD Account  Online  CreditCard  \n",
       "0              0                   1           0       0           0  \n",
       "1              0                   1           0       0           0  \n",
       "2              0                   0           0       0           0  \n",
       "3              0                   0           0       0           0  \n",
       "4              0                   0           0       0           1  "
      ]
     },
     "execution_count": 7,
     "metadata": {},
     "output_type": "execute_result"
    }
   ],
   "source": [
    "# 상수항 추가\n",
    "ploan_processed = sm.add_constant(ploan_processed, has_constant='add')\n",
    "ploan_processed.head()"
   ]
  },
  {
   "cell_type": "markdown",
   "metadata": {},
   "source": [
    "# 설명변수(X), 타켓변수(Y) 분리 및 학습데이터와 평가데이터"
   ]
  },
  {
   "cell_type": "code",
   "execution_count": 9,
   "metadata": {},
   "outputs": [
    {
     "name": "stdout",
     "output_type": "stream",
     "text": [
      "Index(['Age', 'CCAvg', 'CD Account', 'CreditCard', 'Education', 'Experience',\n",
      "       'Family', 'Income', 'Mortgage', 'Online', 'Securities Account',\n",
      "       'const'],\n",
      "      dtype='object')\n"
     ]
    }
   ],
   "source": [
    " # 대출여부: 1 or 0\n",
    "feature_columns = ploan_processed.columns.difference(['Personal Loan'])\n",
    "print(feature_columns)\n",
    "X = ploan_processed[feature_columns]\n",
    "y = ploan_processed['Personal Loan']"
   ]
  },
  {
   "cell_type": "code",
   "execution_count": 11,
   "metadata": {},
   "outputs": [
    {
     "name": "stdout",
     "output_type": "stream",
     "text": [
      "(1750, 12) (750, 12) (1750,) (750,)\n"
     ]
    }
   ],
   "source": [
    "train_x, test_x, train_y, test_y = train_test_split(X, y, stratify=y, test_size=0.3,random_state=42)\n",
    "print(train_x.shape, test_x.shape, train_y.shape, test_y.shape)"
   ]
  },
  {
   "cell_type": "markdown",
   "metadata": {},
   "source": [
    "# 로지스틱회귀모형 모델링 y = f(x)"
   ]
  },
  {
   "cell_type": "code",
   "execution_count": 13,
   "metadata": {},
   "outputs": [
    {
     "name": "stdout",
     "output_type": "stream",
     "text": [
      "Optimization terminated successfully.\n",
      "         Current function value: 0.131055\n",
      "         Iterations 9\n"
     ]
    }
   ],
   "source": [
    "## 로지스틱 모형 적합 \n",
    "model = sm.Logit(train_y, train_x)\n",
    "results = model.fit(method='newton')"
   ]
  },
  {
   "cell_type": "code",
   "execution_count": 14,
   "metadata": {
    "scrolled": true
   },
   "outputs": [
    {
     "data": {
      "text/html": [
       "<table class=\"simpletable\">\n",
       "<caption>Logit Regression Results</caption>\n",
       "<tr>\n",
       "  <th>Dep. Variable:</th>     <td>Personal Loan</td>  <th>  No. Observations:  </th>   <td>  1750</td>  \n",
       "</tr>\n",
       "<tr>\n",
       "  <th>Model:</th>                 <td>Logit</td>      <th>  Df Residuals:      </th>   <td>  1738</td>  \n",
       "</tr>\n",
       "<tr>\n",
       "  <th>Method:</th>                 <td>MLE</td>       <th>  Df Model:          </th>   <td>    11</td>  \n",
       "</tr>\n",
       "<tr>\n",
       "  <th>Date:</th>            <td>Sun, 16 Jun 2024</td> <th>  Pseudo R-squ.:     </th>   <td>0.6030</td>  \n",
       "</tr>\n",
       "<tr>\n",
       "  <th>Time:</th>                <td>13:18:27</td>     <th>  Log-Likelihood:    </th>  <td> -229.35</td> \n",
       "</tr>\n",
       "<tr>\n",
       "  <th>converged:</th>             <td>True</td>       <th>  LL-Null:           </th>  <td> -577.63</td> \n",
       "</tr>\n",
       "<tr>\n",
       "  <th>Covariance Type:</th>     <td>nonrobust</td>    <th>  LLR p-value:       </th> <td>2.927e-142</td>\n",
       "</tr>\n",
       "</table>\n",
       "<table class=\"simpletable\">\n",
       "<tr>\n",
       "           <td></td>             <th>coef</th>     <th>std err</th>      <th>z</th>      <th>P>|z|</th>  <th>[0.025</th>    <th>0.975]</th>  \n",
       "</tr>\n",
       "<tr>\n",
       "  <th>Age</th>                <td>    0.0245</td> <td>    0.102</td> <td>    0.240</td> <td> 0.810</td> <td>   -0.175</td> <td>    0.224</td>\n",
       "</tr>\n",
       "<tr>\n",
       "  <th>CCAvg</th>              <td>    0.0985</td> <td>    0.063</td> <td>    1.562</td> <td> 0.118</td> <td>   -0.025</td> <td>    0.222</td>\n",
       "</tr>\n",
       "<tr>\n",
       "  <th>CD Account</th>         <td>    4.3726</td> <td>    0.568</td> <td>    7.703</td> <td> 0.000</td> <td>    3.260</td> <td>    5.485</td>\n",
       "</tr>\n",
       "<tr>\n",
       "  <th>CreditCard</th>         <td>   -1.2374</td> <td>    0.337</td> <td>   -3.667</td> <td> 0.000</td> <td>   -1.899</td> <td>   -0.576</td>\n",
       "</tr>\n",
       "<tr>\n",
       "  <th>Education</th>          <td>    1.5203</td> <td>    0.190</td> <td>    7.999</td> <td> 0.000</td> <td>    1.148</td> <td>    1.893</td>\n",
       "</tr>\n",
       "<tr>\n",
       "  <th>Experience</th>         <td>   -0.0070</td> <td>    0.102</td> <td>   -0.069</td> <td> 0.945</td> <td>   -0.206</td> <td>    0.192</td>\n",
       "</tr>\n",
       "<tr>\n",
       "  <th>Family</th>             <td>    0.7579</td> <td>    0.128</td> <td>    5.914</td> <td> 0.000</td> <td>    0.507</td> <td>    1.009</td>\n",
       "</tr>\n",
       "<tr>\n",
       "  <th>Income</th>             <td>    0.0547</td> <td>    0.004</td> <td>   12.659</td> <td> 0.000</td> <td>    0.046</td> <td>    0.063</td>\n",
       "</tr>\n",
       "<tr>\n",
       "  <th>Mortgage</th>           <td>   -0.0001</td> <td>    0.001</td> <td>   -0.144</td> <td> 0.885</td> <td>   -0.002</td> <td>    0.002</td>\n",
       "</tr>\n",
       "<tr>\n",
       "  <th>Online</th>             <td>   -0.4407</td> <td>    0.263</td> <td>   -1.674</td> <td> 0.094</td> <td>   -0.957</td> <td>    0.075</td>\n",
       "</tr>\n",
       "<tr>\n",
       "  <th>Securities Account</th> <td>   -1.8520</td> <td>    0.561</td> <td>   -3.299</td> <td> 0.001</td> <td>   -2.952</td> <td>   -0.752</td>\n",
       "</tr>\n",
       "<tr>\n",
       "  <th>const</th>              <td>  -13.9203</td> <td>    2.773</td> <td>   -5.021</td> <td> 0.000</td> <td>  -19.354</td> <td>   -8.486</td>\n",
       "</tr>\n",
       "</table>"
      ],
      "text/latex": [
       "\\begin{center}\n",
       "\\begin{tabular}{lclc}\n",
       "\\toprule\n",
       "\\textbf{Dep. Variable:}     &  Personal Loan   & \\textbf{  No. Observations:  } &     1750    \\\\\n",
       "\\textbf{Model:}             &      Logit       & \\textbf{  Df Residuals:      } &     1738    \\\\\n",
       "\\textbf{Method:}            &       MLE        & \\textbf{  Df Model:          } &       11    \\\\\n",
       "\\textbf{Date:}              & Sun, 16 Jun 2024 & \\textbf{  Pseudo R-squ.:     } &   0.6030    \\\\\n",
       "\\textbf{Time:}              &     13:18:27     & \\textbf{  Log-Likelihood:    } &   -229.35   \\\\\n",
       "\\textbf{converged:}         &       True       & \\textbf{  LL-Null:           } &   -577.63   \\\\\n",
       "\\textbf{Covariance Type:}   &    nonrobust     & \\textbf{  LLR p-value:       } & 2.927e-142  \\\\\n",
       "\\bottomrule\n",
       "\\end{tabular}\n",
       "\\begin{tabular}{lcccccc}\n",
       "                            & \\textbf{coef} & \\textbf{std err} & \\textbf{z} & \\textbf{P$> |$z$|$} & \\textbf{[0.025} & \\textbf{0.975]}  \\\\\n",
       "\\midrule\n",
       "\\textbf{Age}                &       0.0245  &        0.102     &     0.240  &         0.810        &       -0.175    &        0.224     \\\\\n",
       "\\textbf{CCAvg}              &       0.0985  &        0.063     &     1.562  &         0.118        &       -0.025    &        0.222     \\\\\n",
       "\\textbf{CD Account}         &       4.3726  &        0.568     &     7.703  &         0.000        &        3.260    &        5.485     \\\\\n",
       "\\textbf{CreditCard}         &      -1.2374  &        0.337     &    -3.667  &         0.000        &       -1.899    &       -0.576     \\\\\n",
       "\\textbf{Education}          &       1.5203  &        0.190     &     7.999  &         0.000        &        1.148    &        1.893     \\\\\n",
       "\\textbf{Experience}         &      -0.0070  &        0.102     &    -0.069  &         0.945        &       -0.206    &        0.192     \\\\\n",
       "\\textbf{Family}             &       0.7579  &        0.128     &     5.914  &         0.000        &        0.507    &        1.009     \\\\\n",
       "\\textbf{Income}             &       0.0547  &        0.004     &    12.659  &         0.000        &        0.046    &        0.063     \\\\\n",
       "\\textbf{Mortgage}           &      -0.0001  &        0.001     &    -0.144  &         0.885        &       -0.002    &        0.002     \\\\\n",
       "\\textbf{Online}             &      -0.4407  &        0.263     &    -1.674  &         0.094        &       -0.957    &        0.075     \\\\\n",
       "\\textbf{Securities Account} &      -1.8520  &        0.561     &    -3.299  &         0.001        &       -2.952    &       -0.752     \\\\\n",
       "\\textbf{const}              &     -13.9203  &        2.773     &    -5.021  &         0.000        &      -19.354    &       -8.486     \\\\\n",
       "\\bottomrule\n",
       "\\end{tabular}\n",
       "%\\caption{Logit Regression Results}\n",
       "\\end{center}"
      ],
      "text/plain": [
       "<class 'statsmodels.iolib.summary.Summary'>\n",
       "\"\"\"\n",
       "                           Logit Regression Results                           \n",
       "==============================================================================\n",
       "Dep. Variable:          Personal Loan   No. Observations:                 1750\n",
       "Model:                          Logit   Df Residuals:                     1738\n",
       "Method:                           MLE   Df Model:                           11\n",
       "Date:                Sun, 16 Jun 2024   Pseudo R-squ.:                  0.6030\n",
       "Time:                        13:18:27   Log-Likelihood:                -229.35\n",
       "converged:                       True   LL-Null:                       -577.63\n",
       "Covariance Type:            nonrobust   LLR p-value:                2.927e-142\n",
       "======================================================================================\n",
       "                         coef    std err          z      P>|z|      [0.025      0.975]\n",
       "--------------------------------------------------------------------------------------\n",
       "Age                    0.0245      0.102      0.240      0.810      -0.175       0.224\n",
       "CCAvg                  0.0985      0.063      1.562      0.118      -0.025       0.222\n",
       "CD Account             4.3726      0.568      7.703      0.000       3.260       5.485\n",
       "CreditCard            -1.2374      0.337     -3.667      0.000      -1.899      -0.576\n",
       "Education              1.5203      0.190      7.999      0.000       1.148       1.893\n",
       "Experience            -0.0070      0.102     -0.069      0.945      -0.206       0.192\n",
       "Family                 0.7579      0.128      5.914      0.000       0.507       1.009\n",
       "Income                 0.0547      0.004     12.659      0.000       0.046       0.063\n",
       "Mortgage              -0.0001      0.001     -0.144      0.885      -0.002       0.002\n",
       "Online                -0.4407      0.263     -1.674      0.094      -0.957       0.075\n",
       "Securities Account    -1.8520      0.561     -3.299      0.001      -2.952      -0.752\n",
       "const                -13.9203      2.773     -5.021      0.000     -19.354      -8.486\n",
       "======================================================================================\n",
       "\"\"\""
      ]
     },
     "execution_count": 14,
     "metadata": {},
     "output_type": "execute_result"
    }
   ],
   "source": [
    "results.summary()"
   ]
  },
  {
   "cell_type": "code",
   "execution_count": 15,
   "metadata": {},
   "outputs": [
    {
     "data": {
      "text/plain": [
       "Age                    0.024471\n",
       "CCAvg                  0.098468\n",
       "CD Account             4.372577\n",
       "CreditCard            -1.237447\n",
       "Education              1.520329\n",
       "Experience            -0.007032\n",
       "Family                 0.757911\n",
       "Income                 0.054695\n",
       "Mortgage              -0.000133\n",
       "Online                -0.440746\n",
       "Securities Account    -1.852006\n",
       "const                -13.920298\n",
       "dtype: float64"
      ]
     },
     "execution_count": 15,
     "metadata": {},
     "output_type": "execute_result"
    }
   ],
   "source": [
    "results.params"
   ]
  },
  {
   "cell_type": "code",
   "execution_count": 2,
   "metadata": {},
   "outputs": [],
   "source": [
    "#회귀계수 출력 "
   ]
  },
  {
   "cell_type": "code",
   "execution_count": 14,
   "metadata": {},
   "outputs": [
    {
     "data": {
      "text/plain": [
       "Age                   1.024773e+00\n",
       "CCAvg                 1.103479e+00\n",
       "CD Account            7.924761e+01\n",
       "CreditCard            2.901239e-01\n",
       "Education             4.573729e+00\n",
       "Experience            9.929928e-01\n",
       "Family                2.133814e+00\n",
       "Income                1.056218e+00\n",
       "Mortgage              9.998665e-01\n",
       "Online                6.435563e-01\n",
       "Securities Account    1.569221e-01\n",
       "const                 9.005163e-07\n",
       "dtype: float64"
      ]
     },
     "execution_count": 14,
     "metadata": {},
     "output_type": "execute_result"
    }
   ],
   "source": [
    "## 나이가 한살 많을수록록 대출할 확률이 1.024 높다.\n",
    "## 수입이 1단위 높을소룩 대출할 확률이 1.05배 높다 \n",
    "## 가족 구성원수가 1많을수록 대출할 확률이 2.13배 높다\n",
    "## 경력이 1단위 높을수록 대출할 확률이 0.99배 높다(귀무가설 채택)\n",
    "# Experience,  Mortgage는 제외할 필요성이 있어보임\n",
    "np.exp(results.params)"
   ]
  },
  {
   "cell_type": "code",
   "execution_count": 16,
   "metadata": {},
   "outputs": [
    {
     "data": {
      "text/plain": [
       "1065    0.012968\n",
       "487     0.023841\n",
       "2157    0.001210\n",
       "1765    0.196245\n",
       "525     0.006610\n",
       "          ...   \n",
       "277     0.019982\n",
       "914     0.959460\n",
       "542     0.005239\n",
       "32      0.011344\n",
       "2360    0.084464\n",
       "Length: 750, dtype: float64"
      ]
     },
     "execution_count": 16,
     "metadata": {},
     "output_type": "execute_result"
    }
   ],
   "source": [
    "## y_hat 예측\n",
    "pred_y = results.predict(test_x)\n",
    "pred_y # threshold 0.5이상이면 1 아니면 0으로 판단"
   ]
  },
  {
   "cell_type": "code",
   "execution_count": 19,
   "metadata": {
    "scrolled": true
   },
   "outputs": [
    {
     "data": {
      "text/plain": [
       "1065    0\n",
       "487     0\n",
       "2157    0\n",
       "1765    0\n",
       "525     0\n",
       "       ..\n",
       "277     0\n",
       "914     1\n",
       "542     0\n",
       "32      0\n",
       "2360    0\n",
       "Length: 750, dtype: int64"
      ]
     },
     "execution_count": 19,
     "metadata": {},
     "output_type": "execute_result"
    }
   ],
   "source": [
    "def cut_off(y,threshold):\n",
    "    Y = y.copy() # copy함수를 사용하여 이전의 y값이 변화지 않게 함\n",
    "    Y[Y>threshold]=1\n",
    "    Y[Y<=threshold]=0\n",
    "    return(Y.astype(int))\n",
    "\n",
    "pred_Y = cut_off(pred_y,0.5)\n",
    "pred_Y"
   ]
  },
  {
   "cell_type": "code",
   "execution_count": 20,
   "metadata": {},
   "outputs": [
    {
     "data": {
      "text/plain": [
       "array([[661,  12],\n",
       "       [ 28,  49]])"
      ]
     },
     "execution_count": 20,
     "metadata": {},
     "output_type": "execute_result"
    }
   ],
   "source": [
    "# confusion matrix\n",
    "cfmat = confusion_matrix(test_y, pred_Y)\n",
    "cfmat"
   ]
  },
  {
   "cell_type": "code",
   "execution_count": 22,
   "metadata": {},
   "outputs": [
    {
     "data": {
      "text/plain": [
       "0.9466666666666667"
      ]
     },
     "execution_count": 22,
     "metadata": {},
     "output_type": "execute_result"
    }
   ],
   "source": [
    "## confusion matrix accuracy계산하기\n",
    "(cfmat[0,0] + cfmat[1,1]) / len(pred_Y)"
   ]
  },
  {
   "cell_type": "code",
   "execution_count": 23,
   "metadata": {},
   "outputs": [],
   "source": [
    "def acc(cfmat):\n",
    "    acc = (cfmat[0,0] + cfmat[1,1]) / len(pred_Y)    \n",
    "    return acc"
   ]
  },
  {
   "cell_type": "code",
   "execution_count": 24,
   "metadata": {},
   "outputs": [
    {
     "data": {
      "text/plain": [
       "0.9466666666666667"
      ]
     },
     "execution_count": 24,
     "metadata": {},
     "output_type": "execute_result"
    }
   ],
   "source": [
    "acc(cfmat)"
   ]
  },
  {
   "cell_type": "markdown",
   "metadata": {},
   "source": [
    "## 임계값(cut-off)에 따른 성능지표 비교\n"
   ]
  },
  {
   "cell_type": "code",
   "execution_count": 25,
   "metadata": {},
   "outputs": [
    {
     "data": {
      "text/html": [
       "<div>\n",
       "<style scoped>\n",
       "    .dataframe tbody tr th:only-of-type {\n",
       "        vertical-align: middle;\n",
       "    }\n",
       "\n",
       "    .dataframe tbody tr th {\n",
       "        vertical-align: top;\n",
       "    }\n",
       "\n",
       "    .dataframe thead th {\n",
       "        text-align: right;\n",
       "    }\n",
       "</style>\n",
       "<table border=\"1\" class=\"dataframe\">\n",
       "  <thead>\n",
       "    <tr style=\"text-align: right;\">\n",
       "      <th>performance</th>\n",
       "      <th>ACC</th>\n",
       "    </tr>\n",
       "    <tr>\n",
       "      <th>threshold</th>\n",
       "      <th></th>\n",
       "    </tr>\n",
       "  </thead>\n",
       "  <tbody>\n",
       "    <tr>\n",
       "      <th>0.0</th>\n",
       "      <td>0.102667</td>\n",
       "    </tr>\n",
       "    <tr>\n",
       "      <th>0.1</th>\n",
       "      <td>0.908000</td>\n",
       "    </tr>\n",
       "    <tr>\n",
       "      <th>0.2</th>\n",
       "      <td>0.922667</td>\n",
       "    </tr>\n",
       "    <tr>\n",
       "      <th>0.3</th>\n",
       "      <td>0.933333</td>\n",
       "    </tr>\n",
       "    <tr>\n",
       "      <th>0.4</th>\n",
       "      <td>0.934667</td>\n",
       "    </tr>\n",
       "    <tr>\n",
       "      <th>0.5</th>\n",
       "      <td>0.946667</td>\n",
       "    </tr>\n",
       "    <tr>\n",
       "      <th>0.6</th>\n",
       "      <td>0.949333</td>\n",
       "    </tr>\n",
       "    <tr>\n",
       "      <th>0.7</th>\n",
       "      <td>0.946667</td>\n",
       "    </tr>\n",
       "    <tr>\n",
       "      <th>0.8</th>\n",
       "      <td>0.941333</td>\n",
       "    </tr>\n",
       "    <tr>\n",
       "      <th>0.9</th>\n",
       "      <td>0.937333</td>\n",
       "    </tr>\n",
       "  </tbody>\n",
       "</table>\n",
       "</div>"
      ],
      "text/plain": [
       "performance       ACC\n",
       "threshold            \n",
       "0.0          0.102667\n",
       "0.1          0.908000\n",
       "0.2          0.922667\n",
       "0.3          0.933333\n",
       "0.4          0.934667\n",
       "0.5          0.946667\n",
       "0.6          0.949333\n",
       "0.7          0.946667\n",
       "0.8          0.941333\n",
       "0.9          0.937333"
      ]
     },
     "execution_count": 25,
     "metadata": {},
     "output_type": "execute_result"
    }
   ],
   "source": [
    "threshold = np.arange(0,1,0.1)\n",
    "table = pd.DataFrame(columns=['ACC'])\n",
    "for i in threshold:\n",
    "    pred_Y = cut_off(pred_y,i)\n",
    "    cfmat = confusion_matrix(test_y, pred_Y)\n",
    "    table.loc[i] = acc(cfmat)\n",
    "table.index.name='threshold'\n",
    "table.columns.name='performance'\n",
    "table #0.5, 0.6, 0.7이 가장 확률이 좋게 나옴"
   ]
  },
  {
   "cell_type": "code",
   "execution_count": 26,
   "metadata": {
    "scrolled": false
   },
   "outputs": [
    {
     "name": "stdout",
     "output_type": "stream",
     "text": [
      "AUC: 0.9463923891858513\n"
     ]
    },
    {
     "data": {
      "image/png": "[encoded data removed]",
      "text/plain": [
       "<Figure size 640x480 with 1 Axes>"
      ]
     },
     "metadata": {},
     "output_type": "display_data"
    }
   ],
   "source": [
    "# sklearn ROC 패키지 제공\n",
    "fpr, tpr, thresholds = metrics.roc_curve(test_y, pred_y, pos_label=1)\n",
    "\n",
    "# Print ROC curve\n",
    "plt.plot(fpr,tpr)\n",
    "\n",
    "# Print AUC\n",
    "auc = np.trapz(tpr,fpr)\n",
    "print('AUC:', auc)"
   ]
  },
  {
   "cell_type": "code",
   "execution_count": 42,
   "metadata": {},
   "outputs": [],
   "source": [
    "### Experience, Mortage 변수 제거 \n",
    "feature_columns = list(ploan_processed.columns.difference([\"Personal Loan\", \"Experience\", \"Mortgage\"]))\n",
    "X = ploan_processed[feature_columns]\n",
    "y = ploan_processed['Personal Loan'] # 대출여부: 1 or 0"
   ]
  },
  {
   "cell_type": "code",
   "execution_count": 43,
   "metadata": {},
   "outputs": [
    {
     "name": "stdout",
     "output_type": "stream",
     "text": [
      "(1750, 10) (750, 10) (1750,) (750,)\n"
     ]
    }
   ],
   "source": [
    "train_x2, test_x2, train_y2, test_y2 = train_test_split(X, y, stratify=y, test_size=0.3, random_state=42)\n",
    "print(train_x2.shape, test_x2.shape, train_y2.shape, test_y2.shape)"
   ]
  },
  {
   "cell_type": "code",
   "execution_count": 47,
   "metadata": {},
   "outputs": [
    {
     "name": "stdout",
     "output_type": "stream",
     "text": [
      "Optimization terminated successfully.\n",
      "         Current function value: 0.131062\n",
      "         Iterations 9\n"
     ]
    }
   ],
   "source": [
    "## 로지스틱 모델 적합\n",
    "model = sm.Logit(train_y2, train_x2)\n",
    "result2 = model.fit(method='newton')"
   ]
  },
  {
   "cell_type": "code",
   "execution_count": 48,
   "metadata": {},
   "outputs": [
    {
     "data": {
      "text/html": [
       "<table class=\"simpletable\">\n",
       "<caption>Logit Regression Results</caption>\n",
       "<tr>\n",
       "  <th>Dep. Variable:</th>     <td>Personal Loan</td>  <th>  No. Observations:  </th>   <td>  1750</td>  \n",
       "</tr>\n",
       "<tr>\n",
       "  <th>Model:</th>                 <td>Logit</td>      <th>  Df Residuals:      </th>   <td>  1738</td>  \n",
       "</tr>\n",
       "<tr>\n",
       "  <th>Method:</th>                 <td>MLE</td>       <th>  Df Model:          </th>   <td>    11</td>  \n",
       "</tr>\n",
       "<tr>\n",
       "  <th>Date:</th>            <td>Sun, 16 Jun 2024</td> <th>  Pseudo R-squ.:     </th>   <td>0.6030</td>  \n",
       "</tr>\n",
       "<tr>\n",
       "  <th>Time:</th>                <td>13:31:47</td>     <th>  Log-Likelihood:    </th>  <td> -229.35</td> \n",
       "</tr>\n",
       "<tr>\n",
       "  <th>converged:</th>             <td>True</td>       <th>  LL-Null:           </th>  <td> -577.63</td> \n",
       "</tr>\n",
       "<tr>\n",
       "  <th>Covariance Type:</th>     <td>nonrobust</td>    <th>  LLR p-value:       </th> <td>2.927e-142</td>\n",
       "</tr>\n",
       "</table>\n",
       "<table class=\"simpletable\">\n",
       "<tr>\n",
       "           <td></td>             <th>coef</th>     <th>std err</th>      <th>z</th>      <th>P>|z|</th>  <th>[0.025</th>    <th>0.975]</th>  \n",
       "</tr>\n",
       "<tr>\n",
       "  <th>Age</th>                <td>    0.0245</td> <td>    0.102</td> <td>    0.240</td> <td> 0.810</td> <td>   -0.175</td> <td>    0.224</td>\n",
       "</tr>\n",
       "<tr>\n",
       "  <th>CCAvg</th>              <td>    0.0985</td> <td>    0.063</td> <td>    1.562</td> <td> 0.118</td> <td>   -0.025</td> <td>    0.222</td>\n",
       "</tr>\n",
       "<tr>\n",
       "  <th>CD Account</th>         <td>    4.3726</td> <td>    0.568</td> <td>    7.703</td> <td> 0.000</td> <td>    3.260</td> <td>    5.485</td>\n",
       "</tr>\n",
       "<tr>\n",
       "  <th>CreditCard</th>         <td>   -1.2374</td> <td>    0.337</td> <td>   -3.667</td> <td> 0.000</td> <td>   -1.899</td> <td>   -0.576</td>\n",
       "</tr>\n",
       "<tr>\n",
       "  <th>Education</th>          <td>    1.5203</td> <td>    0.190</td> <td>    7.999</td> <td> 0.000</td> <td>    1.148</td> <td>    1.893</td>\n",
       "</tr>\n",
       "<tr>\n",
       "  <th>Experience</th>         <td>   -0.0070</td> <td>    0.102</td> <td>   -0.069</td> <td> 0.945</td> <td>   -0.206</td> <td>    0.192</td>\n",
       "</tr>\n",
       "<tr>\n",
       "  <th>Family</th>             <td>    0.7579</td> <td>    0.128</td> <td>    5.914</td> <td> 0.000</td> <td>    0.507</td> <td>    1.009</td>\n",
       "</tr>\n",
       "<tr>\n",
       "  <th>Income</th>             <td>    0.0547</td> <td>    0.004</td> <td>   12.659</td> <td> 0.000</td> <td>    0.046</td> <td>    0.063</td>\n",
       "</tr>\n",
       "<tr>\n",
       "  <th>Mortgage</th>           <td>   -0.0001</td> <td>    0.001</td> <td>   -0.144</td> <td> 0.885</td> <td>   -0.002</td> <td>    0.002</td>\n",
       "</tr>\n",
       "<tr>\n",
       "  <th>Online</th>             <td>   -0.4407</td> <td>    0.263</td> <td>   -1.674</td> <td> 0.094</td> <td>   -0.957</td> <td>    0.075</td>\n",
       "</tr>\n",
       "<tr>\n",
       "  <th>Securities Account</th> <td>   -1.8520</td> <td>    0.561</td> <td>   -3.299</td> <td> 0.001</td> <td>   -2.952</td> <td>   -0.752</td>\n",
       "</tr>\n",
       "<tr>\n",
       "  <th>const</th>              <td>  -13.9203</td> <td>    2.773</td> <td>   -5.021</td> <td> 0.000</td> <td>  -19.354</td> <td>   -8.486</td>\n",
       "</tr>\n",
       "</table>"
      ],
      "text/latex": [
       "\\begin{center}\n",
       "\\begin{tabular}{lclc}\n",
       "\\toprule\n",
       "\\textbf{Dep. Variable:}     &  Personal Loan   & \\textbf{  No. Observations:  } &     1750    \\\\\n",
       "\\textbf{Model:}             &      Logit       & \\textbf{  Df Residuals:      } &     1738    \\\\\n",
       "\\textbf{Method:}            &       MLE        & \\textbf{  Df Model:          } &       11    \\\\\n",
       "\\textbf{Date:}              & Sun, 16 Jun 2024 & \\textbf{  Pseudo R-squ.:     } &   0.6030    \\\\\n",
       "\\textbf{Time:}              &     13:31:47     & \\textbf{  Log-Likelihood:    } &   -229.35   \\\\\n",
       "\\textbf{converged:}         &       True       & \\textbf{  LL-Null:           } &   -577.63   \\\\\n",
       "\\textbf{Covariance Type:}   &    nonrobust     & \\textbf{  LLR p-value:       } & 2.927e-142  \\\\\n",
       "\\bottomrule\n",
       "\\end{tabular}\n",
       "\\begin{tabular}{lcccccc}\n",
       "                            & \\textbf{coef} & \\textbf{std err} & \\textbf{z} & \\textbf{P$> |$z$|$} & \\textbf{[0.025} & \\textbf{0.975]}  \\\\\n",
       "\\midrule\n",
       "\\textbf{Age}                &       0.0245  &        0.102     &     0.240  &         0.810        &       -0.175    &        0.224     \\\\\n",
       "\\textbf{CCAvg}              &       0.0985  &        0.063     &     1.562  &         0.118        &       -0.025    &        0.222     \\\\\n",
       "\\textbf{CD Account}         &       4.3726  &        0.568     &     7.703  &         0.000        &        3.260    &        5.485     \\\\\n",
       "\\textbf{CreditCard}         &      -1.2374  &        0.337     &    -3.667  &         0.000        &       -1.899    &       -0.576     \\\\\n",
       "\\textbf{Education}          &       1.5203  &        0.190     &     7.999  &         0.000        &        1.148    &        1.893     \\\\\n",
       "\\textbf{Experience}         &      -0.0070  &        0.102     &    -0.069  &         0.945        &       -0.206    &        0.192     \\\\\n",
       "\\textbf{Family}             &       0.7579  &        0.128     &     5.914  &         0.000        &        0.507    &        1.009     \\\\\n",
       "\\textbf{Income}             &       0.0547  &        0.004     &    12.659  &         0.000        &        0.046    &        0.063     \\\\\n",
       "\\textbf{Mortgage}           &      -0.0001  &        0.001     &    -0.144  &         0.885        &       -0.002    &        0.002     \\\\\n",
       "\\textbf{Online}             &      -0.4407  &        0.263     &    -1.674  &         0.094        &       -0.957    &        0.075     \\\\\n",
       "\\textbf{Securities Account} &      -1.8520  &        0.561     &    -3.299  &         0.001        &       -2.952    &       -0.752     \\\\\n",
       "\\textbf{const}              &     -13.9203  &        2.773     &    -5.021  &         0.000        &      -19.354    &       -8.486     \\\\\n",
       "\\bottomrule\n",
       "\\end{tabular}\n",
       "%\\caption{Logit Regression Results}\n",
       "\\end{center}"
      ],
      "text/plain": [
       "<class 'statsmodels.iolib.summary.Summary'>\n",
       "\"\"\"\n",
       "                           Logit Regression Results                           \n",
       "==============================================================================\n",
       "Dep. Variable:          Personal Loan   No. Observations:                 1750\n",
       "Model:                          Logit   Df Residuals:                     1738\n",
       "Method:                           MLE   Df Model:                           11\n",
       "Date:                Sun, 16 Jun 2024   Pseudo R-squ.:                  0.6030\n",
       "Time:                        13:31:47   Log-Likelihood:                -229.35\n",
       "converged:                       True   LL-Null:                       -577.63\n",
       "Covariance Type:            nonrobust   LLR p-value:                2.927e-142\n",
       "======================================================================================\n",
       "                         coef    std err          z      P>|z|      [0.025      0.975]\n",
       "--------------------------------------------------------------------------------------\n",
       "Age                    0.0245      0.102      0.240      0.810      -0.175       0.224\n",
       "CCAvg                  0.0985      0.063      1.562      0.118      -0.025       0.222\n",
       "CD Account             4.3726      0.568      7.703      0.000       3.260       5.485\n",
       "CreditCard            -1.2374      0.337     -3.667      0.000      -1.899      -0.576\n",
       "Education              1.5203      0.190      7.999      0.000       1.148       1.893\n",
       "Experience            -0.0070      0.102     -0.069      0.945      -0.206       0.192\n",
       "Family                 0.7579      0.128      5.914      0.000       0.507       1.009\n",
       "Income                 0.0547      0.004     12.659      0.000       0.046       0.063\n",
       "Mortgage              -0.0001      0.001     -0.144      0.885      -0.002       0.002\n",
       "Online                -0.4407      0.263     -1.674      0.094      -0.957       0.075\n",
       "Securities Account    -1.8520      0.561     -3.299      0.001      -2.952      -0.752\n",
       "const                -13.9203      2.773     -5.021      0.000     -19.354      -8.486\n",
       "======================================================================================\n",
       "\"\"\""
      ]
     },
     "execution_count": 48,
     "metadata": {},
     "output_type": "execute_result"
    }
   ],
   "source": [
    "#이전 모델과 비교\n",
    "results.summary()"
   ]
  },
  {
   "cell_type": "code",
   "execution_count": 49,
   "metadata": {
    "scrolled": true
   },
   "outputs": [
    {
     "data": {
      "text/html": [
       "<table class=\"simpletable\">\n",
       "<caption>Logit Regression Results</caption>\n",
       "<tr>\n",
       "  <th>Dep. Variable:</th>     <td>Personal Loan</td>  <th>  No. Observations:  </th>   <td>  1750</td>  \n",
       "</tr>\n",
       "<tr>\n",
       "  <th>Model:</th>                 <td>Logit</td>      <th>  Df Residuals:      </th>   <td>  1740</td>  \n",
       "</tr>\n",
       "<tr>\n",
       "  <th>Method:</th>                 <td>MLE</td>       <th>  Df Model:          </th>   <td>     9</td>  \n",
       "</tr>\n",
       "<tr>\n",
       "  <th>Date:</th>            <td>Sun, 16 Jun 2024</td> <th>  Pseudo R-squ.:     </th>   <td>0.6029</td>  \n",
       "</tr>\n",
       "<tr>\n",
       "  <th>Time:</th>                <td>13:31:48</td>     <th>  Log-Likelihood:    </th>  <td> -229.36</td> \n",
       "</tr>\n",
       "<tr>\n",
       "  <th>converged:</th>             <td>True</td>       <th>  LL-Null:           </th>  <td> -577.63</td> \n",
       "</tr>\n",
       "<tr>\n",
       "  <th>Covariance Type:</th>     <td>nonrobust</td>    <th>  LLR p-value:       </th> <td>3.817e-144</td>\n",
       "</tr>\n",
       "</table>\n",
       "<table class=\"simpletable\">\n",
       "<tr>\n",
       "           <td></td>             <th>coef</th>     <th>std err</th>      <th>z</th>      <th>P>|z|</th>  <th>[0.025</th>    <th>0.975]</th>  \n",
       "</tr>\n",
       "<tr>\n",
       "  <th>Age</th>                <td>    0.0174</td> <td>    0.011</td> <td>    1.569</td> <td> 0.117</td> <td>   -0.004</td> <td>    0.039</td>\n",
       "</tr>\n",
       "<tr>\n",
       "  <th>CCAvg</th>              <td>    0.0997</td> <td>    0.062</td> <td>    1.596</td> <td> 0.111</td> <td>   -0.023</td> <td>    0.222</td>\n",
       "</tr>\n",
       "<tr>\n",
       "  <th>CD Account</th>         <td>    4.3699</td> <td>    0.567</td> <td>    7.705</td> <td> 0.000</td> <td>    3.258</td> <td>    5.481</td>\n",
       "</tr>\n",
       "<tr>\n",
       "  <th>CreditCard</th>         <td>   -1.2350</td> <td>    0.337</td> <td>   -3.668</td> <td> 0.000</td> <td>   -1.895</td> <td>   -0.575</td>\n",
       "</tr>\n",
       "<tr>\n",
       "  <th>Education</th>          <td>    1.5249</td> <td>    0.187</td> <td>    8.156</td> <td> 0.000</td> <td>    1.158</td> <td>    1.891</td>\n",
       "</tr>\n",
       "<tr>\n",
       "  <th>Family</th>             <td>    0.7572</td> <td>    0.127</td> <td>    5.948</td> <td> 0.000</td> <td>    0.508</td> <td>    1.007</td>\n",
       "</tr>\n",
       "<tr>\n",
       "  <th>Income</th>             <td>    0.0546</td> <td>    0.004</td> <td>   12.833</td> <td> 0.000</td> <td>    0.046</td> <td>    0.063</td>\n",
       "</tr>\n",
       "<tr>\n",
       "  <th>Online</th>             <td>   -0.4418</td> <td>    0.263</td> <td>   -1.678</td> <td> 0.093</td> <td>   -0.958</td> <td>    0.074</td>\n",
       "</tr>\n",
       "<tr>\n",
       "  <th>Securities Account</th> <td>   -1.8526</td> <td>    0.561</td> <td>   -3.302</td> <td> 0.001</td> <td>   -2.952</td> <td>   -0.753</td>\n",
       "</tr>\n",
       "<tr>\n",
       "  <th>const</th>              <td>  -13.7465</td> <td>    1.164</td> <td>  -11.814</td> <td> 0.000</td> <td>  -16.027</td> <td>  -11.466</td>\n",
       "</tr>\n",
       "</table>"
      ],
      "text/latex": [
       "\\begin{center}\n",
       "\\begin{tabular}{lclc}\n",
       "\\toprule\n",
       "\\textbf{Dep. Variable:}     &  Personal Loan   & \\textbf{  No. Observations:  } &     1750    \\\\\n",
       "\\textbf{Model:}             &      Logit       & \\textbf{  Df Residuals:      } &     1740    \\\\\n",
       "\\textbf{Method:}            &       MLE        & \\textbf{  Df Model:          } &        9    \\\\\n",
       "\\textbf{Date:}              & Sun, 16 Jun 2024 & \\textbf{  Pseudo R-squ.:     } &   0.6029    \\\\\n",
       "\\textbf{Time:}              &     13:31:48     & \\textbf{  Log-Likelihood:    } &   -229.36   \\\\\n",
       "\\textbf{converged:}         &       True       & \\textbf{  LL-Null:           } &   -577.63   \\\\\n",
       "\\textbf{Covariance Type:}   &    nonrobust     & \\textbf{  LLR p-value:       } & 3.817e-144  \\\\\n",
       "\\bottomrule\n",
       "\\end{tabular}\n",
       "\\begin{tabular}{lcccccc}\n",
       "                            & \\textbf{coef} & \\textbf{std err} & \\textbf{z} & \\textbf{P$> |$z$|$} & \\textbf{[0.025} & \\textbf{0.975]}  \\\\\n",
       "\\midrule\n",
       "\\textbf{Age}                &       0.0174  &        0.011     &     1.569  &         0.117        &       -0.004    &        0.039     \\\\\n",
       "\\textbf{CCAvg}              &       0.0997  &        0.062     &     1.596  &         0.111        &       -0.023    &        0.222     \\\\\n",
       "\\textbf{CD Account}         &       4.3699  &        0.567     &     7.705  &         0.000        &        3.258    &        5.481     \\\\\n",
       "\\textbf{CreditCard}         &      -1.2350  &        0.337     &    -3.668  &         0.000        &       -1.895    &       -0.575     \\\\\n",
       "\\textbf{Education}          &       1.5249  &        0.187     &     8.156  &         0.000        &        1.158    &        1.891     \\\\\n",
       "\\textbf{Family}             &       0.7572  &        0.127     &     5.948  &         0.000        &        0.508    &        1.007     \\\\\n",
       "\\textbf{Income}             &       0.0546  &        0.004     &    12.833  &         0.000        &        0.046    &        0.063     \\\\\n",
       "\\textbf{Online}             &      -0.4418  &        0.263     &    -1.678  &         0.093        &       -0.958    &        0.074     \\\\\n",
       "\\textbf{Securities Account} &      -1.8526  &        0.561     &    -3.302  &         0.001        &       -2.952    &       -0.753     \\\\\n",
       "\\textbf{const}              &     -13.7465  &        1.164     &   -11.814  &         0.000        &      -16.027    &      -11.466     \\\\\n",
       "\\bottomrule\n",
       "\\end{tabular}\n",
       "%\\caption{Logit Regression Results}\n",
       "\\end{center}"
      ],
      "text/plain": [
       "<class 'statsmodels.iolib.summary.Summary'>\n",
       "\"\"\"\n",
       "                           Logit Regression Results                           \n",
       "==============================================================================\n",
       "Dep. Variable:          Personal Loan   No. Observations:                 1750\n",
       "Model:                          Logit   Df Residuals:                     1740\n",
       "Method:                           MLE   Df Model:                            9\n",
       "Date:                Sun, 16 Jun 2024   Pseudo R-squ.:                  0.6029\n",
       "Time:                        13:31:48   Log-Likelihood:                -229.36\n",
       "converged:                       True   LL-Null:                       -577.63\n",
       "Covariance Type:            nonrobust   LLR p-value:                3.817e-144\n",
       "======================================================================================\n",
       "                         coef    std err          z      P>|z|      [0.025      0.975]\n",
       "--------------------------------------------------------------------------------------\n",
       "Age                    0.0174      0.011      1.569      0.117      -0.004       0.039\n",
       "CCAvg                  0.0997      0.062      1.596      0.111      -0.023       0.222\n",
       "CD Account             4.3699      0.567      7.705      0.000       3.258       5.481\n",
       "CreditCard            -1.2350      0.337     -3.668      0.000      -1.895      -0.575\n",
       "Education              1.5249      0.187      8.156      0.000       1.158       1.891\n",
       "Family                 0.7572      0.127      5.948      0.000       0.508       1.007\n",
       "Income                 0.0546      0.004     12.833      0.000       0.046       0.063\n",
       "Online                -0.4418      0.263     -1.678      0.093      -0.958       0.074\n",
       "Securities Account    -1.8526      0.561     -3.302      0.001      -2.952      -0.753\n",
       "const                -13.7465      1.164    -11.814      0.000     -16.027     -11.466\n",
       "======================================================================================\n",
       "\"\"\""
      ]
     },
     "execution_count": 49,
     "metadata": {},
     "output_type": "execute_result"
    }
   ],
   "source": [
    "result2.summary()"
   ]
  },
  {
   "cell_type": "code",
   "execution_count": 54,
   "metadata": {},
   "outputs": [],
   "source": [
    "## 예측\n",
    "pred_y2 = result2.predict(test_x2)"
   ]
  },
  {
   "cell_type": "code",
   "execution_count": 55,
   "metadata": {
    "scrolled": true
   },
   "outputs": [],
   "source": [
    "# threshold 0.5\n",
    "pred_y2 = cut_off(pred_y, 0.5)"
   ]
  },
  {
   "cell_type": "code",
   "execution_count": 56,
   "metadata": {},
   "outputs": [
    {
     "data": {
      "text/plain": [
       "0.944"
      ]
     },
     "execution_count": 56,
     "metadata": {},
     "output_type": "execute_result"
    }
   ],
   "source": [
    "##  accuracy계산\n",
    "cfmat = confusion_matrix(test_y2, pred_y2)\n",
    "acc(cfmat)"
   ]
  },
  {
   "cell_type": "code",
   "execution_count": 58,
   "metadata": {},
   "outputs": [
    {
     "data": {
      "text/html": [
       "<div>\n",
       "<style scoped>\n",
       "    .dataframe tbody tr th:only-of-type {\n",
       "        vertical-align: middle;\n",
       "    }\n",
       "\n",
       "    .dataframe tbody tr th {\n",
       "        vertical-align: top;\n",
       "    }\n",
       "\n",
       "    .dataframe thead th {\n",
       "        text-align: right;\n",
       "    }\n",
       "</style>\n",
       "<table border=\"1\" class=\"dataframe\">\n",
       "  <thead>\n",
       "    <tr style=\"text-align: right;\">\n",
       "      <th>performance</th>\n",
       "      <th>ACC</th>\n",
       "    </tr>\n",
       "    <tr>\n",
       "      <th>threshold</th>\n",
       "      <th></th>\n",
       "    </tr>\n",
       "  </thead>\n",
       "  <tbody>\n",
       "    <tr>\n",
       "      <th>0.0</th>\n",
       "      <td>0.102667</td>\n",
       "    </tr>\n",
       "    <tr>\n",
       "      <th>0.1</th>\n",
       "      <td>0.908000</td>\n",
       "    </tr>\n",
       "    <tr>\n",
       "      <th>0.2</th>\n",
       "      <td>0.922667</td>\n",
       "    </tr>\n",
       "    <tr>\n",
       "      <th>0.3</th>\n",
       "      <td>0.932000</td>\n",
       "    </tr>\n",
       "    <tr>\n",
       "      <th>0.4</th>\n",
       "      <td>0.936000</td>\n",
       "    </tr>\n",
       "    <tr>\n",
       "      <th>0.5</th>\n",
       "      <td>0.944000</td>\n",
       "    </tr>\n",
       "    <tr>\n",
       "      <th>0.6</th>\n",
       "      <td>0.949333</td>\n",
       "    </tr>\n",
       "    <tr>\n",
       "      <th>0.7</th>\n",
       "      <td>0.946667</td>\n",
       "    </tr>\n",
       "    <tr>\n",
       "      <th>0.8</th>\n",
       "      <td>0.941333</td>\n",
       "    </tr>\n",
       "    <tr>\n",
       "      <th>0.9</th>\n",
       "      <td>0.937333</td>\n",
       "    </tr>\n",
       "  </tbody>\n",
       "</table>\n",
       "</div>"
      ],
      "text/plain": [
       "performance       ACC\n",
       "threshold            \n",
       "0.0          0.102667\n",
       "0.1          0.908000\n",
       "0.2          0.922667\n",
       "0.3          0.932000\n",
       "0.4          0.936000\n",
       "0.5          0.944000\n",
       "0.6          0.949333\n",
       "0.7          0.946667\n",
       "0.8          0.941333\n",
       "0.9          0.937333"
      ]
     },
     "execution_count": 58,
     "metadata": {},
     "output_type": "execute_result"
    }
   ],
   "source": [
    "threshold = np.arange(0,1,0.1)\n",
    "pred_y2 = result2.predict(test_x2)\n",
    "table = pd.DataFrame(columns=['ACC'])\n",
    "for i in threshold:\n",
    "    pred_Y2 = cut_off(pred_y2,i)\n",
    "    cfmat = confusion_matrix(test_y2, pred_Y2)\n",
    "    table.loc[i] = acc(cfmat)\n",
    "table.index.name='threshold'\n",
    "table.columns.name='performance'\n",
    "table #0.6에서 가장 높음, 두개의 변수를 제거했는데 성능에 큰 차이가 없었다"
   ]
  },
  {
   "cell_type": "code",
   "execution_count": 60,
   "metadata": {},
   "outputs": [
    {
     "name": "stdout",
     "output_type": "stream",
     "text": [
      "AUC: 0.9465467667547905\n"
     ]
    },
    {
     "data": {
      "image/png": "[encoded data removed]",
      "text/plain": [
       "<Figure size 640x480 with 1 Axes>"
      ]
     },
     "metadata": {},
     "output_type": "display_data"
    }
   ],
   "source": [
    "# sklearn ROC 패키지 제공\n",
    "fpr, tpr, thresholds = metrics.roc_curve(test_y2, pred_y2, pos_label=1)\n",
    "\n",
    "# Print ROC curve\n",
    "plt.plot(fpr,tpr)\n",
    "\n",
    "# Print AUC\n",
    "auc = np.trapz(tpr,fpr)\n",
    "print('AUC:', auc)"
   ]
  },
  {
   "cell_type": "markdown",
   "metadata": {},
   "source": [
    "# 변수선택법"
   ]
  },
  {
   "cell_type": "code",
   "execution_count": 61,
   "metadata": {},
   "outputs": [],
   "source": [
    "feature_columns = list(ploan_processed.columns.difference([\"Personal Loan\"]))\n",
    "X = ploan_processed[feature_columns]\n",
    "y = ploan_processed['Personal Loan'] # 대출여부: 1 or 0"
   ]
  },
  {
   "cell_type": "code",
   "execution_count": 62,
   "metadata": {},
   "outputs": [
    {
     "name": "stdout",
     "output_type": "stream",
     "text": [
      "(1750, 12) (750, 12) (1750,) (750,)\n"
     ]
    }
   ],
   "source": [
    "train_x, test_x, train_y, test_y = train_test_split(X, y, stratify=y,train_size=0.7,test_size=0.3,random_state=42)\n",
    "print(train_x.shape, test_x.shape, train_y.shape, test_y.shape)"
   ]
  },
  {
   "cell_type": "code",
   "execution_count": 63,
   "metadata": {},
   "outputs": [],
   "source": [
    "def processSubset(X,y, feature_set):\n",
    "            model = sm.Logit(y,X[list(feature_set)])\n",
    "            regr = model.fit()\n",
    "            AIC = regr.aic\n",
    "            return {\"model\":regr, \"AIC\":AIC}\n",
    "        \n",
    "'''\n",
    "전진선택법\n",
    "'''\n",
    "def forward(X, y, predictors):\n",
    "    # 데이터 변수들이 미리정의된 predictors에 있는지 없는지 확인 및 분류\n",
    "    remaining_predictors = [p for p in X.columns.difference(['const']) if p not in predictors]\n",
    "    tic = time.time()\n",
    "    results = []\n",
    "    for p in remaining_predictors:\n",
    "        results.append(processSubset(X=X, y= y, feature_set=predictors+[p]+['const']))\n",
    "    # 데이터프레임으로 변환\n",
    "    models = pd.DataFrame(results)\n",
    "\n",
    "    # AIC가 가장 낮은 것을 선택\n",
    "    best_model = models.loc[models['AIC'].argmin()] # index\n",
    "    toc = time.time()\n",
    "    print(\"Processed \", models.shape[0], \"models on\", len(predictors)+1, \"predictors in\", (toc-tic))\n",
    "    print('Selected predictors:',best_model['model'].model.exog_names,' AIC:',best_model[0] )\n",
    "    return best_model\n",
    "\n",
    "def forward_model(X,y):\n",
    "    Fmodels = pd.DataFrame(columns=[\"AIC\", \"model\"])\n",
    "    tic = time.time()\n",
    "    # 미리 정의된 데이터 변수\n",
    "    predictors = []\n",
    "    # 변수 1~10개 : 0~9 -> 1~10\n",
    "    for i in range(1, len(X.columns.difference(['const'])) + 1):\n",
    "        Forward_result = forward(X=X,y=y,predictors=predictors)\n",
    "        if i > 1:\n",
    "            if Forward_result['AIC'] > Fmodel_before:\n",
    "                break\n",
    "        Fmodels.loc[i] = Forward_result\n",
    "        predictors = Fmodels.loc[i][\"model\"].model.exog_names\n",
    "        Fmodel_before = Fmodels.loc[i][\"AIC\"]\n",
    "        predictors = [ k for k in predictors if k != 'const']\n",
    "    toc = time.time()\n",
    "    print(\"Total elapsed time:\", (toc - tic), \"seconds.\")\n",
    "\n",
    "    return(Fmodels['model'][len(Fmodels['model'])])\n",
    "\n",
    "\n",
    "'''\n",
    "후진소거법\n",
    "'''\n",
    "def backward(X,y,predictors):\n",
    "    tic = time.time()\n",
    "    results = []\n",
    "    \n",
    "    # 데이터 변수들이 미리정의된 predictors 조합 확인\n",
    "    for combo in itertools.combinations(predictors, len(predictors) - 1):\n",
    "        results.append(processSubset(X=X, y= y,feature_set=list(combo)+['const']))\n",
    "    models = pd.DataFrame(results)\n",
    "    \n",
    "    # 가장 낮은 AIC를 가진 모델을 선택\n",
    "    best_model = models.loc[models['AIC'].argmin()]\n",
    "    toc = time.time()\n",
    "    print(\"Processed \", models.shape[0], \"models on\", len(predictors) - 1, \"predictors in\",\n",
    "          (toc - tic))\n",
    "    print('Selected predictors:',best_model['model'].model.exog_names,' AIC:',best_model[0] )\n",
    "    return best_model\n",
    "\n",
    "\n",
    "def backward_model(X, y):\n",
    "    Bmodels = pd.DataFrame(columns=[\"AIC\", \"model\"], index = range(1,len(X.columns)))\n",
    "    tic = time.time()\n",
    "    predictors = X.columns.difference(['const'])\n",
    "    Bmodel_before = processSubset(X,y,predictors)['AIC']\n",
    "    while (len(predictors) > 1):\n",
    "        Backward_result = backward(X=train_x, y= train_y, predictors = predictors)\n",
    "        if Backward_result['AIC'] > Bmodel_before:\n",
    "            break\n",
    "        Bmodels.loc[len(predictors) - 1] = Backward_result\n",
    "        predictors = Bmodels.loc[len(predictors) - 1][\"model\"].model.exog_names\n",
    "        Bmodel_before = Backward_result['AIC']\n",
    "        predictors = [ k for k in predictors if k != 'const']\n",
    "\n",
    "    toc = time.time()\n",
    "    print(\"Total elapsed time:\", (toc - tic), \"seconds.\")\n",
    "    return (Bmodels['model'].dropna().iloc[0])\n",
    "\n",
    "\n",
    "'''\n",
    "단계적 선택법\n",
    "'''\n",
    "def Stepwise_model(X,y):\n",
    "    Stepmodels = pd.DataFrame(columns=[\"AIC\", \"model\"])\n",
    "    tic = time.time()\n",
    "    predictors = []\n",
    "    Smodel_before = processSubset(X,y,predictors+['const'])['AIC']\n",
    "    # 변수 1~10개 : 0~9 -> 1~10\n",
    "    for i in range(1, len(X.columns.difference(['const'])) + 1):\n",
    "        Forward_result = forward(X=X, y=y, predictors=predictors) # constant added\n",
    "        print('forward')\n",
    "        Stepmodels.loc[i] = Forward_result\n",
    "        predictors = Stepmodels.loc[i][\"model\"].model.exog_names\n",
    "        predictors = [ k for k in predictors if k != 'const']\n",
    "        Backward_result = backward(X=X, y=y, predictors=predictors)\n",
    "        if Backward_result['AIC']< Forward_result['AIC']:\n",
    "            Stepmodels.loc[i] = Backward_result\n",
    "            predictors = Stepmodels.loc[i][\"model\"].model.exog_names\n",
    "            Smodel_before = Stepmodels.loc[i][\"AIC\"]\n",
    "            predictors = [ k for k in predictors if k != 'const']\n",
    "            print('backward')\n",
    "        if Stepmodels.loc[i]['AIC']> Smodel_before:\n",
    "            break\n",
    "        else:\n",
    "            Smodel_before = Stepmodels.loc[i][\"AIC\"]\n",
    "    toc = time.time()\n",
    "    print(\"Total elapsed time:\", (toc - tic), \"seconds.\")\n",
    "    return (Stepmodels['model'][len(Stepmodels['model'])])"
   ]
  },
  {
   "cell_type": "code",
   "execution_count": 64,
   "metadata": {},
   "outputs": [
    {
     "name": "stdout",
     "output_type": "stream",
     "text": [
      "Optimization terminated successfully.\n",
      "         Current function value: 0.329986\n",
      "         Iterations 6\n",
      "Optimization terminated successfully.\n",
      "         Current function value: 0.284217\n",
      "         Iterations 7\n",
      "Optimization terminated successfully.\n",
      "         Current function value: 0.296731\n",
      "         Iterations 6\n",
      "Optimization terminated successfully.\n",
      "         Current function value: 0.330062\n",
      "         Iterations 6\n",
      "Optimization terminated successfully.\n",
      "         Current function value: 0.322763\n",
      "         Iterations 7\n",
      "Optimization terminated successfully.\n",
      "         Current function value: 0.329995\n",
      "         Iterations 6\n",
      "Optimization terminated successfully.\n",
      "         Current function value: 0.327824\n",
      "         Iterations 6\n",
      "Optimization terminated successfully.\n",
      "         Current function value: 0.205738\n",
      "         Iterations 8\n",
      "Optimization terminated successfully.\n",
      "         Current function value: 0.324953\n",
      "         Iterations 6\n",
      "Optimization terminated successfully.\n",
      "         Current function value: 0.329912\n",
      "         Iterations 6\n",
      "Optimization terminated successfully.\n",
      "         Current function value: 0.330059\n",
      "         Iterations 6\n",
      "Processed  11 models on 1 predictors in 0.02955007553100586\n",
      "Selected predictors: ['Income', 'const']  AIC: <statsmodels.discrete.discrete_model.BinaryResultsWrapper object at 0x3108ade10>\n",
      "Optimization terminated successfully.\n",
      "         Current function value: 0.205431\n",
      "         Iterations 8\n",
      "Optimization terminated successfully.\n",
      "         Current function value: 0.205682\n",
      "         Iterations 8\n",
      "Optimization terminated successfully.\n",
      "         Current function value: 0.185721\n",
      "         Iterations 8\n",
      "Optimization terminated successfully.\n",
      "         Current function value: 0.205517\n",
      "         Iterations 8\n",
      "Optimization terminated successfully.\n",
      "         Current function value: 0.169107\n",
      "         Iterations 8\n",
      "Optimization terminated successfully.\n",
      "         Current function value: 0.205563\n",
      "         Iterations 8\n",
      "Optimization terminated successfully.\n",
      "         Current function value: 0.182286\n",
      "         Iterations 8\n",
      "Optimization terminated successfully.\n",
      "         Current function value: 0.205735\n",
      "         Iterations 8\n",
      "Optimization terminated successfully.\n",
      "         Current function value: 0.205561\n",
      "         Iterations 8\n",
      "Optimization terminated successfully.\n",
      "         Current function value: 0.205167\n",
      "         Iterations 8\n",
      "Processed  10 models on 2 predictors in 0.020101308822631836\n",
      "Selected predictors: ['Income', 'Education', 'const']  AIC: <statsmodels.discrete.discrete_model.BinaryResultsWrapper object at 0x310d75110>\n",
      "Optimization terminated successfully.\n",
      "         Current function value: 0.168881\n",
      "         Iterations 9\n",
      "Optimization terminated successfully.\n",
      "         Current function value: 0.168679\n",
      "         Iterations 9\n",
      "Optimization terminated successfully.\n",
      "         Current function value: 0.152041\n",
      "         Iterations 9\n",
      "Optimization terminated successfully.\n",
      "         Current function value: 0.168833\n",
      "         Iterations 8\n",
      "Optimization terminated successfully.\n",
      "         Current function value: 0.168897\n",
      "         Iterations 9\n",
      "Optimization terminated successfully.\n",
      "         Current function value: 0.154924\n",
      "         Iterations 9\n",
      "Optimization terminated successfully.\n",
      "         Current function value: 0.169073\n",
      "         Iterations 8\n",
      "Optimization terminated successfully.\n",
      "         Current function value: 0.169052\n",
      "         Iterations 8\n",
      "Optimization terminated successfully.\n",
      "         Current function value: 0.168642\n",
      "         Iterations 9\n",
      "Processed  9 models on 3 predictors in 0.017084836959838867\n",
      "Selected predictors: ['Income', 'Education', 'CD Account', 'const']  AIC: <statsmodels.discrete.discrete_model.BinaryResultsWrapper object at 0x310d76b50>\n",
      "Optimization terminated successfully.\n",
      "         Current function value: 0.152028\n",
      "         Iterations 9\n",
      "Optimization terminated successfully.\n",
      "         Current function value: 0.151411\n",
      "         Iterations 9\n",
      "Optimization terminated successfully.\n",
      "         Current function value: 0.148163\n",
      "         Iterations 9\n",
      "Optimization terminated successfully.\n",
      "         Current function value: 0.152036\n",
      "         Iterations 9\n",
      "Optimization terminated successfully.\n",
      "         Current function value: 0.139352\n",
      "         Iterations 9\n",
      "Optimization terminated successfully.\n",
      "         Current function value: 0.152015\n",
      "         Iterations 9\n",
      "Optimization terminated successfully.\n",
      "         Current function value: 0.151151\n",
      "         Iterations 9\n",
      "Optimization terminated successfully.\n",
      "         Current function value: 0.150075\n",
      "         Iterations 9\n",
      "Processed  8 models on 4 predictors in 0.022908926010131836\n",
      "Selected predictors: ['Income', 'Education', 'CD Account', 'Family', 'const']  AIC: <statsmodels.discrete.discrete_model.BinaryResultsWrapper object at 0x310d09d90>\n",
      "Optimization terminated successfully.\n",
      "         Current function value: 0.138887\n",
      "         Iterations 9\n"
     ]
    },
    {
     "name": "stderr",
     "output_type": "stream",
     "text": [
      "/var/folders/d8/9nns59h14_z0hzcqldblr_v00000gn/T/ipykernel_18847/2442983475.py:24: FutureWarning: Series.__getitem__ treating keys as positions is deprecated. In a future version, integer keys will always be treated as labels (consistent with DataFrame behavior). To access a value by position, use `ser.iloc[pos]`\n",
      "  print('Selected predictors:',best_model['model'].model.exog_names,' AIC:',best_model[0] )\n",
      "/var/folders/d8/9nns59h14_z0hzcqldblr_v00000gn/T/ipykernel_18847/2442983475.py:24: FutureWarning: Series.__getitem__ treating keys as positions is deprecated. In a future version, integer keys will always be treated as labels (consistent with DataFrame behavior). To access a value by position, use `ser.iloc[pos]`\n",
      "  print('Selected predictors:',best_model['model'].model.exog_names,' AIC:',best_model[0] )\n",
      "/var/folders/d8/9nns59h14_z0hzcqldblr_v00000gn/T/ipykernel_18847/2442983475.py:24: FutureWarning: Series.__getitem__ treating keys as positions is deprecated. In a future version, integer keys will always be treated as labels (consistent with DataFrame behavior). To access a value by position, use `ser.iloc[pos]`\n",
      "  print('Selected predictors:',best_model['model'].model.exog_names,' AIC:',best_model[0] )\n",
      "/var/folders/d8/9nns59h14_z0hzcqldblr_v00000gn/T/ipykernel_18847/2442983475.py:24: FutureWarning: Series.__getitem__ treating keys as positions is deprecated. In a future version, integer keys will always be treated as labels (consistent with DataFrame behavior). To access a value by position, use `ser.iloc[pos]`\n",
      "  print('Selected predictors:',best_model['model'].model.exog_names,' AIC:',best_model[0] )\n"
     ]
    },
    {
     "name": "stdout",
     "output_type": "stream",
     "text": [
      "Optimization terminated successfully.\n",
      "         Current function value: 0.138758\n",
      "         Iterations 9\n",
      "Optimization terminated successfully.\n",
      "         Current function value: 0.136599\n",
      "         Iterations 9\n",
      "Optimization terminated successfully.\n",
      "         Current function value: 0.138901\n",
      "         Iterations 9\n",
      "Optimization terminated successfully.\n",
      "         Current function value: 0.139349\n",
      "         Iterations 9\n",
      "Optimization terminated successfully.\n",
      "         Current function value: 0.138959\n",
      "         Iterations 9\n",
      "Optimization terminated successfully.\n",
      "         Current function value: 0.137180\n",
      "         Iterations 9\n",
      "Processed  7 models on 5 predictors in 0.4500160217285156\n",
      "Selected predictors: ['Income', 'Education', 'CD Account', 'Family', 'CreditCard', 'const']  AIC: <statsmodels.discrete.discrete_model.BinaryResultsWrapper object at 0x310d5e450>\n",
      "Optimization terminated successfully.\n",
      "         Current function value: 0.136127\n",
      "         Iterations 9\n",
      "Optimization terminated successfully.\n",
      "         Current function value: 0.135996\n",
      "         Iterations 9\n"
     ]
    },
    {
     "name": "stderr",
     "output_type": "stream",
     "text": [
      "/var/folders/d8/9nns59h14_z0hzcqldblr_v00000gn/T/ipykernel_18847/2442983475.py:24: FutureWarning: Series.__getitem__ treating keys as positions is deprecated. In a future version, integer keys will always be treated as labels (consistent with DataFrame behavior). To access a value by position, use `ser.iloc[pos]`\n",
      "  print('Selected predictors:',best_model['model'].model.exog_names,' AIC:',best_model[0] )\n"
     ]
    },
    {
     "name": "stdout",
     "output_type": "stream",
     "text": [
      "Optimization terminated successfully.\n",
      "         Current function value: 0.136142\n",
      "         Iterations 9\n",
      "Optimization terminated successfully.\n",
      "         Current function value: 0.136574\n",
      "         Iterations 9\n",
      "Optimization terminated successfully.\n",
      "         Current function value: 0.135928\n",
      "         Iterations 9\n",
      "Optimization terminated successfully.\n",
      "         Current function value: 0.133263\n",
      "         Iterations 9\n",
      "Processed  6 models on 6 predictors in 0.22284579277038574\n",
      "Selected predictors: ['Income', 'Education', 'CD Account', 'Family', 'CreditCard', 'Securities Account', 'const']  AIC: <statsmodels.discrete.discrete_model.BinaryResultsWrapper object at 0x310d96050>\n",
      "Optimization terminated successfully.\n",
      "         Current function value: 0.132630\n",
      "         Iterations 9\n",
      "Optimization terminated successfully.\n",
      "         Current function value: 0.132650\n",
      "         Iterations 9\n",
      "Optimization terminated successfully.\n",
      "         Current function value: 0.132646\n",
      "         Iterations 9\n"
     ]
    },
    {
     "name": "stderr",
     "output_type": "stream",
     "text": [
      "/var/folders/d8/9nns59h14_z0hzcqldblr_v00000gn/T/ipykernel_18847/2442983475.py:24: FutureWarning: Series.__getitem__ treating keys as positions is deprecated. In a future version, integer keys will always be treated as labels (consistent with DataFrame behavior). To access a value by position, use `ser.iloc[pos]`\n",
      "  print('Selected predictors:',best_model['model'].model.exog_names,' AIC:',best_model[0] )\n",
      "/var/folders/d8/9nns59h14_z0hzcqldblr_v00000gn/T/ipykernel_18847/2442983475.py:24: FutureWarning: Series.__getitem__ treating keys as positions is deprecated. In a future version, integer keys will always be treated as labels (consistent with DataFrame behavior). To access a value by position, use `ser.iloc[pos]`\n",
      "  print('Selected predictors:',best_model['model'].model.exog_names,' AIC:',best_model[0] )\n"
     ]
    },
    {
     "name": "stdout",
     "output_type": "stream",
     "text": [
      "Optimization terminated successfully.\n",
      "         Current function value: 0.133238\n",
      "         Iterations 9\n",
      "Optimization terminated successfully.\n",
      "         Current function value: 0.132361\n",
      "         Iterations 9\n",
      "Processed  5 models on 7 predictors in 0.17232894897460938\n",
      "Selected predictors: ['Income', 'Education', 'CD Account', 'Family', 'CreditCard', 'Securities Account', 'Online', 'const']  AIC: <statsmodels.discrete.discrete_model.BinaryResultsWrapper object at 0x310d75610>\n",
      "Optimization terminated successfully.\n",
      "         Current function value: 0.131791\n",
      "         Iterations 9\n",
      "Optimization terminated successfully.\n",
      "         Current function value: 0.131772\n",
      "         Iterations 9\n",
      "Optimization terminated successfully.\n",
      "         Current function value: 0.131803\n",
      "         Iterations 9\n",
      "Optimization terminated successfully.\n",
      "         Current function value: 0.132343\n",
      "         Iterations 9\n",
      "Processed  4 models on 8 predictors in 0.1548159122467041\n",
      "Selected predictors: ['Income', 'Education', 'CD Account', 'Family', 'CreditCard', 'Securities Account', 'Online', 'CCAvg', 'const']  AIC: <statsmodels.discrete.discrete_model.BinaryResultsWrapper object at 0x310d7a350>\n"
     ]
    },
    {
     "name": "stderr",
     "output_type": "stream",
     "text": [
      "/var/folders/d8/9nns59h14_z0hzcqldblr_v00000gn/T/ipykernel_18847/2442983475.py:24: FutureWarning: Series.__getitem__ treating keys as positions is deprecated. In a future version, integer keys will always be treated as labels (consistent with DataFrame behavior). To access a value by position, use `ser.iloc[pos]`\n",
      "  print('Selected predictors:',best_model['model'].model.exog_names,' AIC:',best_model[0] )\n"
     ]
    },
    {
     "name": "stdout",
     "output_type": "stream",
     "text": [
      "Optimization terminated successfully.\n",
      "         Current function value: 0.131062\n",
      "         Iterations 9\n",
      "Optimization terminated successfully.\n",
      "         Current function value: 0.131077\n",
      "         Iterations 9\n",
      "Optimization terminated successfully.\n",
      "         Current function value: 0.131771\n",
      "         Iterations 9\n",
      "Processed  3 models on 9 predictors in 0.4134998321533203\n",
      "Selected predictors: ['Income', 'Education', 'CD Account', 'Family', 'CreditCard', 'Securities Account', 'Online', 'CCAvg', 'Age', 'const']  AIC: <statsmodels.discrete.discrete_model.BinaryResultsWrapper object at 0x310d5d0d0>\n",
      "Optimization terminated successfully.\n",
      "         Current function value: 0.131061\n",
      "         Iterations 9\n"
     ]
    },
    {
     "name": "stderr",
     "output_type": "stream",
     "text": [
      "/var/folders/d8/9nns59h14_z0hzcqldblr_v00000gn/T/ipykernel_18847/2442983475.py:24: FutureWarning: Series.__getitem__ treating keys as positions is deprecated. In a future version, integer keys will always be treated as labels (consistent with DataFrame behavior). To access a value by position, use `ser.iloc[pos]`\n",
      "  print('Selected predictors:',best_model['model'].model.exog_names,' AIC:',best_model[0] )\n"
     ]
    },
    {
     "name": "stdout",
     "output_type": "stream",
     "text": [
      "Optimization terminated successfully.\n",
      "         Current function value: 0.131057\n",
      "         Iterations 9\n",
      "Processed  2 models on 10 predictors in 0.22073674201965332\n",
      "Selected predictors: ['Income', 'Education', 'CD Account', 'Family', 'CreditCard', 'Securities Account', 'Online', 'CCAvg', 'Age', 'Mortgage', 'const']  AIC: <statsmodels.discrete.discrete_model.BinaryResultsWrapper object at 0x310d6cb50>\n",
      "Total elapsed time: 1.745682954788208 seconds.\n"
     ]
    },
    {
     "name": "stderr",
     "output_type": "stream",
     "text": [
      "/var/folders/d8/9nns59h14_z0hzcqldblr_v00000gn/T/ipykernel_18847/2442983475.py:24: FutureWarning: Series.__getitem__ treating keys as positions is deprecated. In a future version, integer keys will always be treated as labels (consistent with DataFrame behavior). To access a value by position, use `ser.iloc[pos]`\n",
      "  print('Selected predictors:',best_model['model'].model.exog_names,' AIC:',best_model[0] )\n"
     ]
    }
   ],
   "source": [
    "Forward_best_model = forward_model(X=train_x, y= train_y)"
   ]
  },
  {
   "cell_type": "code",
   "execution_count": 65,
   "metadata": {
    "scrolled": true
   },
   "outputs": [
    {
     "name": "stdout",
     "output_type": "stream",
     "text": [
      "Optimization terminated successfully.\n",
      "         Current function value: 0.137663\n",
      "         Iterations 9\n",
      "Optimization terminated successfully.\n",
      "         Current function value: 0.134821\n",
      "         Iterations 9\n",
      "Optimization terminated successfully.\n",
      "         Current function value: 0.131859\n",
      "         Iterations 9\n",
      "Optimization terminated successfully.\n",
      "         Current function value: 0.131061\n",
      "         Iterations 9\n",
      "Optimization terminated successfully.\n",
      "         Current function value: 0.214795\n",
      "         Iterations 8\n",
      "Optimization terminated successfully.\n",
      "         Current function value: 0.142500\n",
      "         Iterations 9\n",
      "Optimization terminated successfully.\n",
      "         Current function value: 0.131057\n",
      "         Iterations 9\n",
      "Optimization terminated successfully.\n",
      "         Current function value: 0.154241\n",
      "         Iterations 9\n",
      "Optimization terminated successfully.\n",
      "         Current function value: 0.135440\n",
      "         Iterations 9\n",
      "Optimization terminated successfully.\n",
      "         Current function value: 0.152443\n",
      "         Iterations 9\n",
      "Optimization terminated successfully.\n",
      "         Current function value: 0.131753\n",
      "         Iterations 9\n",
      "Optimization terminated successfully.\n",
      "         Current function value: 0.131072\n",
      "         Iterations 9\n",
      "Processed  11 models on 10 predictors in 1.760101079940796\n",
      "Selected predictors: ['Age', 'CCAvg', 'CD Account', 'CreditCard', 'Education', 'Family', 'Income', 'Mortgage', 'Online', 'Securities Account', 'const']  AIC: <statsmodels.discrete.discrete_model.BinaryResultsWrapper object at 0x3108c5690>\n",
      "Optimization terminated successfully.\n",
      "         Current function value: 0.134824\n",
      "         Iterations 9\n",
      "Optimization terminated successfully.\n",
      "         Current function value: 0.131862\n",
      "         Iterations 9\n",
      "Optimization terminated successfully.\n",
      "         Current function value: 0.131062\n",
      "         Iterations 9\n"
     ]
    },
    {
     "name": "stderr",
     "output_type": "stream",
     "text": [
      "/var/folders/d8/9nns59h14_z0hzcqldblr_v00000gn/T/ipykernel_18847/2442983475.py:65: FutureWarning: Series.__getitem__ treating keys as positions is deprecated. In a future version, integer keys will always be treated as labels (consistent with DataFrame behavior). To access a value by position, use `ser.iloc[pos]`\n",
      "  print('Selected predictors:',best_model['model'].model.exog_names,' AIC:',best_model[0] )\n"
     ]
    },
    {
     "name": "stdout",
     "output_type": "stream",
     "text": [
      "Optimization terminated successfully.\n",
      "         Current function value: 0.215827\n",
      "         Iterations 8\n",
      "Optimization terminated successfully.\n",
      "         Current function value: 0.142665\n",
      "         Iterations 9\n",
      "Optimization terminated successfully.\n",
      "         Current function value: 0.155447\n",
      "         Iterations 9\n",
      "Optimization terminated successfully.\n",
      "         Current function value: 0.135443\n",
      "         Iterations 9\n",
      "Optimization terminated successfully.\n",
      "         Current function value: 0.152478\n",
      "         Iterations 9\n",
      "Optimization terminated successfully.\n",
      "         Current function value: 0.131755\n",
      "         Iterations 9\n",
      "Optimization terminated successfully.\n",
      "         Current function value: 0.131771\n",
      "         Iterations 9\n",
      "Processed  10 models on 9 predictors in 1.7141239643096924\n",
      "Selected predictors: ['Age', 'CCAvg', 'CD Account', 'CreditCard', 'Education', 'Family', 'Income', 'Online', 'Securities Account', 'const']  AIC: <statsmodels.discrete.discrete_model.BinaryResultsWrapper object at 0x310d2dc90>\n",
      "Optimization terminated successfully.\n",
      "         Current function value: 0.134831\n",
      "         Iterations 9\n",
      "Optimization terminated successfully.\n",
      "         Current function value: 0.131871\n",
      "         Iterations 9\n"
     ]
    },
    {
     "name": "stderr",
     "output_type": "stream",
     "text": [
      "/var/folders/d8/9nns59h14_z0hzcqldblr_v00000gn/T/ipykernel_18847/2442983475.py:65: FutureWarning: Series.__getitem__ treating keys as positions is deprecated. In a future version, integer keys will always be treated as labels (consistent with DataFrame behavior). To access a value by position, use `ser.iloc[pos]`\n",
      "  print('Selected predictors:',best_model['model'].model.exog_names,' AIC:',best_model[0] )\n"
     ]
    },
    {
     "name": "stdout",
     "output_type": "stream",
     "text": [
      "Optimization terminated successfully.\n",
      "         Current function value: 0.218281\n",
      "         Iterations 8\n",
      "Optimization terminated successfully.\n",
      "         Current function value: 0.142684\n",
      "         Iterations 9\n",
      "Optimization terminated successfully.\n",
      "         Current function value: 0.155797\n",
      "         Iterations 9\n",
      "Optimization terminated successfully.\n",
      "         Current function value: 0.135444\n",
      "         Iterations 9\n",
      "Optimization terminated successfully.\n",
      "         Current function value: 0.152482\n",
      "         Iterations 9\n",
      "Optimization terminated successfully.\n",
      "         Current function value: 0.131791\n",
      "         Iterations 9\n",
      "Optimization terminated successfully.\n",
      "         Current function value: 0.131772\n",
      "         Iterations 9\n",
      "Processed  9 models on 8 predictors in 0.5335488319396973\n",
      "Selected predictors: ['CCAvg', 'CD Account', 'CreditCard', 'Education', 'Family', 'Income', 'Online', 'Securities Account', 'const']  AIC: <statsmodels.discrete.discrete_model.BinaryResultsWrapper object at 0x3109f8e90>\n",
      "Total elapsed time: 4.284281015396118 seconds.\n"
     ]
    },
    {
     "name": "stderr",
     "output_type": "stream",
     "text": [
      "/var/folders/d8/9nns59h14_z0hzcqldblr_v00000gn/T/ipykernel_18847/2442983475.py:65: FutureWarning: Series.__getitem__ treating keys as positions is deprecated. In a future version, integer keys will always be treated as labels (consistent with DataFrame behavior). To access a value by position, use `ser.iloc[pos]`\n",
      "  print('Selected predictors:',best_model['model'].model.exog_names,' AIC:',best_model[0] )\n"
     ]
    }
   ],
   "source": [
    "Backward_best_model = backward_model(X=train_x,y=train_y)"
   ]
  },
  {
   "cell_type": "code",
   "execution_count": 66,
   "metadata": {
    "scrolled": true
   },
   "outputs": [
    {
     "name": "stdout",
     "output_type": "stream",
     "text": [
      "Optimization terminated successfully.\n",
      "         Current function value: 0.330076\n",
      "         Iterations 6\n",
      "Optimization terminated successfully.\n",
      "         Current function value: 0.329986\n",
      "         Iterations 6\n",
      "Optimization terminated successfully.\n",
      "         Current function value: 0.284217\n",
      "         Iterations 7\n",
      "Optimization terminated successfully.\n",
      "         Current function value: 0.296731\n",
      "         Iterations 6\n",
      "Optimization terminated successfully.\n",
      "         Current function value: 0.330062\n",
      "         Iterations 6\n",
      "Optimization terminated successfully.\n",
      "         Current function value: 0.322763\n",
      "         Iterations 7\n",
      "Optimization terminated successfully.\n",
      "         Current function value: 0.329995\n",
      "         Iterations 6\n",
      "Optimization terminated successfully.\n",
      "         Current function value: 0.327824\n",
      "         Iterations 6\n",
      "Optimization terminated successfully.\n",
      "         Current function value: 0.205738\n",
      "         Iterations 8\n",
      "Optimization terminated successfully.\n",
      "         Current function value: 0.324953\n",
      "         Iterations 6\n",
      "Optimization terminated successfully.\n",
      "         Current function value: 0.329912\n",
      "         Iterations 6\n",
      "Optimization terminated successfully.\n",
      "         Current function value: 0.330059\n",
      "         Iterations 6\n",
      "Processed  11 models on 1 predictors in 0.02033686637878418\n",
      "Selected predictors: ['Income', 'const']  AIC: <statsmodels.discrete.discrete_model.BinaryResultsWrapper object at 0x310d76010>\n",
      "forward\n",
      "Optimization terminated successfully.\n",
      "         Current function value: 0.330076\n",
      "         Iterations 6\n",
      "Processed  1 models on 0 predictors in 0.0029449462890625\n",
      "Selected predictors: ['const']  AIC: <statsmodels.discrete.discrete_model.BinaryResultsWrapper object at 0x310ab4b50>\n",
      "Optimization terminated successfully.\n",
      "         Current function value: 0.205431\n",
      "         Iterations 8\n",
      "Optimization terminated successfully.\n",
      "         Current function value: 0.205682\n",
      "         Iterations 8\n",
      "Optimization terminated successfully.\n",
      "         Current function value: 0.185721\n",
      "         Iterations 8\n",
      "Optimization terminated successfully.\n",
      "         Current function value: 0.205517\n",
      "         Iterations 8\n",
      "Optimization terminated successfully.\n",
      "         Current function value: 0.169107\n",
      "         Iterations 8\n",
      "Optimization terminated successfully.\n",
      "         Current function value: 0.205563\n",
      "         Iterations 8\n",
      "Optimization terminated successfully.\n",
      "         Current function value: 0.182286\n",
      "         Iterations 8\n",
      "Optimization terminated successfully.\n",
      "         Current function value: 0.205735\n",
      "         Iterations 8\n",
      "Optimization terminated successfully.\n",
      "         Current function value: 0.205561\n",
      "         Iterations 8\n",
      "Optimization terminated successfully.\n",
      "         Current function value: 0.205167\n",
      "         Iterations 8\n",
      "Processed  10 models on 2 predictors in 0.028778076171875\n",
      "Selected predictors: ['Income', 'Education', 'const']  AIC: <statsmodels.discrete.discrete_model.BinaryResultsWrapper object at 0x310cf59d0>\n",
      "forward\n",
      "Optimization terminated successfully.\n",
      "         Current function value: 0.205738\n",
      "         Iterations 8\n",
      "Optimization terminated successfully.\n",
      "         Current function value: 0.322763\n",
      "         Iterations 7\n",
      "Processed  2 models on 1 predictors in 0.00693511962890625\n",
      "Selected predictors: ['Income', 'const']  AIC: <statsmodels.discrete.discrete_model.BinaryResultsWrapper object at 0x310d48cd0>\n",
      "Optimization terminated successfully.\n",
      "         Current function value: 0.168881\n",
      "         Iterations 9\n"
     ]
    },
    {
     "name": "stderr",
     "output_type": "stream",
     "text": [
      "/var/folders/d8/9nns59h14_z0hzcqldblr_v00000gn/T/ipykernel_18847/2442983475.py:24: FutureWarning: Series.__getitem__ treating keys as positions is deprecated. In a future version, integer keys will always be treated as labels (consistent with DataFrame behavior). To access a value by position, use `ser.iloc[pos]`\n",
      "  print('Selected predictors:',best_model['model'].model.exog_names,' AIC:',best_model[0] )\n",
      "/var/folders/d8/9nns59h14_z0hzcqldblr_v00000gn/T/ipykernel_18847/2442983475.py:65: FutureWarning: Series.__getitem__ treating keys as positions is deprecated. In a future version, integer keys will always be treated as labels (consistent with DataFrame behavior). To access a value by position, use `ser.iloc[pos]`\n",
      "  print('Selected predictors:',best_model['model'].model.exog_names,' AIC:',best_model[0] )\n",
      "/var/folders/d8/9nns59h14_z0hzcqldblr_v00000gn/T/ipykernel_18847/2442983475.py:24: FutureWarning: Series.__getitem__ treating keys as positions is deprecated. In a future version, integer keys will always be treated as labels (consistent with DataFrame behavior). To access a value by position, use `ser.iloc[pos]`\n",
      "  print('Selected predictors:',best_model['model'].model.exog_names,' AIC:',best_model[0] )\n",
      "/var/folders/d8/9nns59h14_z0hzcqldblr_v00000gn/T/ipykernel_18847/2442983475.py:65: FutureWarning: Series.__getitem__ treating keys as positions is deprecated. In a future version, integer keys will always be treated as labels (consistent with DataFrame behavior). To access a value by position, use `ser.iloc[pos]`\n",
      "  print('Selected predictors:',best_model['model'].model.exog_names,' AIC:',best_model[0] )\n",
      "/var/folders/d8/9nns59h14_z0hzcqldblr_v00000gn/T/ipykernel_18847/2442983475.py:24: FutureWarning: Series.__getitem__ treating keys as positions is deprecated. In a future version, integer keys will always be treated as labels (consistent with DataFrame behavior). To access a value by position, use `ser.iloc[pos]`\n",
      "  print('Selected predictors:',best_model['model'].model.exog_names,' AIC:',best_model[0] )\n",
      "/var/folders/d8/9nns59h14_z0hzcqldblr_v00000gn/T/ipykernel_18847/2442983475.py:65: FutureWarning: Series.__getitem__ treating keys as positions is deprecated. In a future version, integer keys will always be treated as labels (consistent with DataFrame behavior). To access a value by position, use `ser.iloc[pos]`\n",
      "  print('Selected predictors:',best_model['model'].model.exog_names,' AIC:',best_model[0] )\n",
      "/var/folders/d8/9nns59h14_z0hzcqldblr_v00000gn/T/ipykernel_18847/2442983475.py:24: FutureWarning: Series.__getitem__ treating keys as positions is deprecated. In a future version, integer keys will always be treated as labels (consistent with DataFrame behavior). To access a value by position, use `ser.iloc[pos]`\n",
      "  print('Selected predictors:',best_model['model'].model.exog_names,' AIC:',best_model[0] )\n",
      "/var/folders/d8/9nns59h14_z0hzcqldblr_v00000gn/T/ipykernel_18847/2442983475.py:65: FutureWarning: Series.__getitem__ treating keys as positions is deprecated. In a future version, integer keys will always be treated as labels (consistent with DataFrame behavior). To access a value by position, use `ser.iloc[pos]`\n",
      "  print('Selected predictors:',best_model['model'].model.exog_names,' AIC:',best_model[0] )\n"
     ]
    },
    {
     "name": "stdout",
     "output_type": "stream",
     "text": [
      "Optimization terminated successfully.\n",
      "         Current function value: 0.168679\n",
      "         Iterations 9\n",
      "Optimization terminated successfully.\n",
      "         Current function value: 0.152041\n",
      "         Iterations 9\n",
      "Optimization terminated successfully.\n",
      "         Current function value: 0.168833\n",
      "         Iterations 8\n",
      "Optimization terminated successfully.\n",
      "         Current function value: 0.168897\n",
      "         Iterations 9\n",
      "Optimization terminated successfully.\n",
      "         Current function value: 0.154924\n",
      "         Iterations 9\n",
      "Optimization terminated successfully.\n",
      "         Current function value: 0.169073\n",
      "         Iterations 8\n",
      "Optimization terminated successfully.\n",
      "         Current function value: 0.169052\n",
      "         Iterations 8\n",
      "Optimization terminated successfully.\n",
      "         Current function value: 0.168642\n",
      "         Iterations 9\n",
      "Processed  9 models on 3 predictors in 0.05112481117248535\n",
      "Selected predictors: ['Income', 'Education', 'CD Account', 'const']  AIC: <statsmodels.discrete.discrete_model.BinaryResultsWrapper object at 0x310d5d550>\n",
      "forward\n",
      "Optimization terminated successfully.\n",
      "         Current function value: 0.169107\n",
      "         Iterations 8\n",
      "Optimization terminated successfully.\n",
      "         Current function value: 0.185721\n",
      "         Iterations 8\n",
      "Optimization terminated successfully.\n",
      "         Current function value: 0.288940\n",
      "         Iterations 7\n",
      "Processed  3 models on 2 predictors in 0.011363983154296875\n",
      "Selected predictors: ['Income', 'Education', 'const']  AIC: <statsmodels.discrete.discrete_model.BinaryResultsWrapper object at 0x310a10b10>\n",
      "Optimization terminated successfully.\n",
      "         Current function value: 0.152028\n",
      "         Iterations 9\n",
      "Optimization terminated successfully.\n",
      "         Current function value: 0.151411\n",
      "         Iterations 9\n",
      "Optimization terminated successfully.\n",
      "         Current function value: 0.148163\n",
      "         Iterations 9\n",
      "Optimization terminated successfully.\n",
      "         Current function value: 0.152036\n",
      "         Iterations 9\n",
      "Optimization terminated successfully.\n",
      "         Current function value: 0.139352\n",
      "         Iterations 9\n",
      "Optimization terminated successfully.\n",
      "         Current function value: 0.152015\n",
      "         Iterations 9\n",
      "Optimization terminated successfully.\n",
      "         Current function value: 0.151151\n",
      "         Iterations 9\n",
      "Optimization terminated successfully.\n",
      "         Current function value: 0.150075\n",
      "         Iterations 9\n",
      "Processed  8 models on 4 predictors in 0.03899073600769043\n",
      "Selected predictors: ['Income', 'Education', 'CD Account', 'Family', 'const']  AIC: <statsmodels.discrete.discrete_model.BinaryResultsWrapper object at 0x310cf65d0>\n",
      "forward\n",
      "Optimization terminated successfully.\n",
      "         Current function value: 0.152041\n",
      "         Iterations 9\n",
      "Optimization terminated successfully.\n",
      "         Current function value: 0.154924\n",
      "         Iterations 9\n",
      "Optimization terminated successfully.\n",
      "         Current function value: 0.164270\n",
      "         Iterations 9\n",
      "Optimization terminated successfully.\n",
      "         Current function value: 0.287431\n",
      "         Iterations 7\n",
      "Processed  4 models on 3 predictors in 0.007346153259277344\n",
      "Selected predictors: ['Income', 'Education', 'CD Account', 'const']  AIC: <statsmodels.discrete.discrete_model.BinaryResultsWrapper object at 0x310d3b350>\n",
      "Optimization terminated successfully.\n",
      "         Current function value: 0.138887\n",
      "         Iterations 9\n",
      "Optimization terminated successfully.\n",
      "         Current function value: 0.138758\n",
      "         Iterations 9\n",
      "Optimization terminated successfully.\n",
      "         Current function value: 0.136599\n",
      "         Iterations 9\n",
      "Optimization terminated successfully.\n",
      "         Current function value: 0.138901\n",
      "         Iterations 9\n",
      "Optimization terminated successfully.\n",
      "         Current function value: 0.139349\n",
      "         Iterations 9\n",
      "Optimization terminated successfully.\n",
      "         Current function value: 0.138959\n",
      "         Iterations 9\n",
      "Optimization terminated successfully.\n",
      "         Current function value: 0.137180\n",
      "         Iterations 9\n",
      "Processed  7 models on 5 predictors in 0.27733826637268066\n",
      "Selected predictors: ['Income', 'Education', 'CD Account', 'Family', 'CreditCard', 'const']  AIC: <statsmodels.discrete.discrete_model.BinaryResultsWrapper object at 0x310ca4150>\n",
      "forward\n",
      "Optimization terminated successfully.\n",
      "         Current function value: 0.139352\n",
      "         Iterations 9\n",
      "Optimization terminated successfully.\n",
      "         Current function value: 0.148163\n",
      "         Iterations 9\n",
      "Optimization terminated successfully.\n",
      "         Current function value: 0.154854\n",
      "         Iterations 9\n",
      "Optimization terminated successfully.\n",
      "         Current function value: 0.160828\n",
      "         Iterations 9\n",
      "Optimization terminated successfully.\n",
      "         Current function value: 0.282426\n",
      "         Iterations 7\n",
      "Processed  5 models on 4 predictors in 0.02142786979675293\n",
      "Selected predictors: ['Income', 'Education', 'CD Account', 'Family', 'const']  AIC: <statsmodels.discrete.discrete_model.BinaryResultsWrapper object at 0x310d87550>\n"
     ]
    },
    {
     "name": "stderr",
     "output_type": "stream",
     "text": [
      "/var/folders/d8/9nns59h14_z0hzcqldblr_v00000gn/T/ipykernel_18847/2442983475.py:24: FutureWarning: Series.__getitem__ treating keys as positions is deprecated. In a future version, integer keys will always be treated as labels (consistent with DataFrame behavior). To access a value by position, use `ser.iloc[pos]`\n",
      "  print('Selected predictors:',best_model['model'].model.exog_names,' AIC:',best_model[0] )\n",
      "/var/folders/d8/9nns59h14_z0hzcqldblr_v00000gn/T/ipykernel_18847/2442983475.py:65: FutureWarning: Series.__getitem__ treating keys as positions is deprecated. In a future version, integer keys will always be treated as labels (consistent with DataFrame behavior). To access a value by position, use `ser.iloc[pos]`\n",
      "  print('Selected predictors:',best_model['model'].model.exog_names,' AIC:',best_model[0] )\n"
     ]
    },
    {
     "name": "stdout",
     "output_type": "stream",
     "text": [
      "Optimization terminated successfully.\n",
      "         Current function value: 0.136127\n",
      "         Iterations 9\n",
      "Optimization terminated successfully.\n",
      "         Current function value: 0.135996\n",
      "         Iterations 9\n",
      "Optimization terminated successfully.\n",
      "         Current function value: 0.136142\n",
      "         Iterations 9\n",
      "Optimization terminated successfully.\n",
      "         Current function value: 0.136574\n",
      "         Iterations 9\n",
      "Optimization terminated successfully.\n",
      "         Current function value: 0.135928\n",
      "         Iterations 9\n",
      "Optimization terminated successfully.\n",
      "         Current function value: 0.133263\n",
      "         Iterations 9\n",
      "Processed  6 models on 6 predictors in 0.2586989402770996\n",
      "Selected predictors: ['Income', 'Education', 'CD Account', 'Family', 'CreditCard', 'Securities Account', 'const']  AIC: <statsmodels.discrete.discrete_model.BinaryResultsWrapper object at 0x310d19c10>\n",
      "forward\n",
      "Optimization terminated successfully.\n",
      "         Current function value: 0.136599\n",
      "         Iterations 9\n",
      "Optimization terminated successfully.\n",
      "         Current function value: 0.137180\n",
      "         Iterations 9\n",
      "Optimization terminated successfully.\n",
      "         Current function value: 0.144927\n",
      "         Iterations 9\n"
     ]
    },
    {
     "name": "stderr",
     "output_type": "stream",
     "text": [
      "/var/folders/d8/9nns59h14_z0hzcqldblr_v00000gn/T/ipykernel_18847/2442983475.py:24: FutureWarning: Series.__getitem__ treating keys as positions is deprecated. In a future version, integer keys will always be treated as labels (consistent with DataFrame behavior). To access a value by position, use `ser.iloc[pos]`\n",
      "  print('Selected predictors:',best_model['model'].model.exog_names,' AIC:',best_model[0] )\n"
     ]
    },
    {
     "name": "stdout",
     "output_type": "stream",
     "text": [
      "Optimization terminated successfully.\n",
      "         Current function value: 0.154299\n",
      "         Iterations 9\n",
      "Optimization terminated successfully.\n",
      "         Current function value: 0.157364\n",
      "         Iterations 9\n",
      "Optimization terminated successfully.\n",
      "         Current function value: 0.273321\n",
      "         Iterations 7\n",
      "Processed  6 models on 5 predictors in 0.7439830303192139\n",
      "Selected predictors: ['Income', 'Education', 'CD Account', 'Family', 'CreditCard', 'const']  AIC: <statsmodels.discrete.discrete_model.BinaryResultsWrapper object at 0x310d77bd0>\n",
      "Optimization terminated successfully.\n",
      "         Current function value: 0.132630\n",
      "         Iterations 9\n"
     ]
    },
    {
     "name": "stderr",
     "output_type": "stream",
     "text": [
      "/var/folders/d8/9nns59h14_z0hzcqldblr_v00000gn/T/ipykernel_18847/2442983475.py:65: FutureWarning: Series.__getitem__ treating keys as positions is deprecated. In a future version, integer keys will always be treated as labels (consistent with DataFrame behavior). To access a value by position, use `ser.iloc[pos]`\n",
      "  print('Selected predictors:',best_model['model'].model.exog_names,' AIC:',best_model[0] )\n"
     ]
    },
    {
     "name": "stdout",
     "output_type": "stream",
     "text": [
      "Optimization terminated successfully.\n",
      "         Current function value: 0.132650\n",
      "         Iterations 9\n",
      "Optimization terminated successfully.\n",
      "         Current function value: 0.132646\n",
      "         Iterations 9\n",
      "Optimization terminated successfully.\n",
      "         Current function value: 0.133238\n",
      "         Iterations 9\n",
      "Optimization terminated successfully.\n",
      "         Current function value: 0.132361\n",
      "         Iterations 9\n",
      "Processed  5 models on 7 predictors in 0.3861987590789795\n",
      "Selected predictors: ['Income', 'Education', 'CD Account', 'Family', 'CreditCard', 'Securities Account', 'Online', 'const']  AIC: <statsmodels.discrete.discrete_model.BinaryResultsWrapper object at 0x310d6fa90>\n",
      "forward\n",
      "Optimization terminated successfully.\n",
      "         Current function value: 0.133263\n",
      "         Iterations 9\n",
      "Optimization terminated successfully.\n",
      "         Current function value: 0.135928\n",
      "         Iterations 9\n",
      "Optimization terminated successfully.\n",
      "         Current function value: 0.136688\n",
      "         Iterations 9\n",
      "Optimization terminated successfully.\n",
      "         Current function value: 0.143335\n",
      "         Iterations 9\n",
      "Optimization terminated successfully.\n",
      "         Current function value: 0.154141\n",
      "         Iterations 9\n"
     ]
    },
    {
     "name": "stderr",
     "output_type": "stream",
     "text": [
      "/var/folders/d8/9nns59h14_z0hzcqldblr_v00000gn/T/ipykernel_18847/2442983475.py:24: FutureWarning: Series.__getitem__ treating keys as positions is deprecated. In a future version, integer keys will always be treated as labels (consistent with DataFrame behavior). To access a value by position, use `ser.iloc[pos]`\n",
      "  print('Selected predictors:',best_model['model'].model.exog_names,' AIC:',best_model[0] )\n"
     ]
    },
    {
     "name": "stdout",
     "output_type": "stream",
     "text": [
      "Optimization terminated successfully.\n",
      "         Current function value: 0.156593\n",
      "         Iterations 9\n",
      "Optimization terminated successfully.\n",
      "         Current function value: 0.271509\n",
      "         Iterations 7\n",
      "Processed  7 models on 6 predictors in 0.2521049976348877\n",
      "Selected predictors: ['Income', 'Education', 'CD Account', 'Family', 'CreditCard', 'Securities Account', 'const']  AIC: <statsmodels.discrete.discrete_model.BinaryResultsWrapper object at 0x310a54510>\n",
      "Optimization terminated successfully.\n",
      "         Current function value: 0.131791\n",
      "         Iterations 9\n",
      "Optimization terminated successfully.\n",
      "         Current function value: 0.131772\n",
      "         Iterations 9\n"
     ]
    },
    {
     "name": "stderr",
     "output_type": "stream",
     "text": [
      "/var/folders/d8/9nns59h14_z0hzcqldblr_v00000gn/T/ipykernel_18847/2442983475.py:65: FutureWarning: Series.__getitem__ treating keys as positions is deprecated. In a future version, integer keys will always be treated as labels (consistent with DataFrame behavior). To access a value by position, use `ser.iloc[pos]`\n",
      "  print('Selected predictors:',best_model['model'].model.exog_names,' AIC:',best_model[0] )\n"
     ]
    },
    {
     "name": "stdout",
     "output_type": "stream",
     "text": [
      "Optimization terminated successfully.\n",
      "         Current function value: 0.131803\n",
      "         Iterations 9\n",
      "Optimization terminated successfully.\n",
      "         Current function value: 0.132343\n",
      "         Iterations 9\n",
      "Processed  4 models on 8 predictors in 0.23356103897094727\n",
      "Selected predictors: ['Income', 'Education', 'CD Account', 'Family', 'CreditCard', 'Securities Account', 'Online', 'CCAvg', 'const']  AIC: <statsmodels.discrete.discrete_model.BinaryResultsWrapper object at 0x310d3b010>\n",
      "forward\n",
      "Optimization terminated successfully.\n",
      "         Current function value: 0.132361\n",
      "         Iterations 9\n",
      "Optimization terminated successfully.\n",
      "         Current function value: 0.132650\n",
      "         Iterations 9\n"
     ]
    },
    {
     "name": "stderr",
     "output_type": "stream",
     "text": [
      "/var/folders/d8/9nns59h14_z0hzcqldblr_v00000gn/T/ipykernel_18847/2442983475.py:24: FutureWarning: Series.__getitem__ treating keys as positions is deprecated. In a future version, integer keys will always be treated as labels (consistent with DataFrame behavior). To access a value by position, use `ser.iloc[pos]`\n",
      "  print('Selected predictors:',best_model['model'].model.exog_names,' AIC:',best_model[0] )\n"
     ]
    },
    {
     "name": "stdout",
     "output_type": "stream",
     "text": [
      "Optimization terminated successfully.\n",
      "         Current function value: 0.135373\n",
      "         Iterations 9\n",
      "Optimization terminated successfully.\n",
      "         Current function value: 0.136112\n",
      "         Iterations 9\n",
      "Optimization terminated successfully.\n",
      "         Current function value: 0.142716\n",
      "         Iterations 9\n",
      "Optimization terminated successfully.\n",
      "         Current function value: 0.153670\n",
      "         Iterations 9\n",
      "Optimization terminated successfully.\n",
      "         Current function value: 0.156410\n",
      "         Iterations 9\n",
      "Optimization terminated successfully.\n",
      "         Current function value: 0.218291\n",
      "         Iterations 8\n",
      "Processed  8 models on 7 predictors in 0.4294898509979248\n",
      "Selected predictors: ['Income', 'Education', 'CD Account', 'Family', 'CreditCard', 'Securities Account', 'Online', 'const']  AIC: <statsmodels.discrete.discrete_model.BinaryResultsWrapper object at 0x310d95a90>\n"
     ]
    },
    {
     "name": "stderr",
     "output_type": "stream",
     "text": [
      "/var/folders/d8/9nns59h14_z0hzcqldblr_v00000gn/T/ipykernel_18847/2442983475.py:65: FutureWarning: Series.__getitem__ treating keys as positions is deprecated. In a future version, integer keys will always be treated as labels (consistent with DataFrame behavior). To access a value by position, use `ser.iloc[pos]`\n",
      "  print('Selected predictors:',best_model['model'].model.exog_names,' AIC:',best_model[0] )\n"
     ]
    },
    {
     "name": "stdout",
     "output_type": "stream",
     "text": [
      "Optimization terminated successfully.\n",
      "         Current function value: 0.131062\n",
      "         Iterations 9\n",
      "Optimization terminated successfully.\n",
      "         Current function value: 0.131077\n",
      "         Iterations 9\n",
      "Optimization terminated successfully.\n",
      "         Current function value: 0.131771\n",
      "         Iterations 9\n",
      "Processed  3 models on 9 predictors in 0.5217878818511963\n",
      "Selected predictors: ['Income', 'Education', 'CD Account', 'Family', 'CreditCard', 'Securities Account', 'Online', 'CCAvg', 'Age', 'const']  AIC: <statsmodels.discrete.discrete_model.BinaryResultsWrapper object at 0x310b6fe10>\n",
      "forward\n",
      "Optimization terminated successfully.\n",
      "         Current function value: 0.131772\n",
      "         Iterations 9\n",
      "Optimization terminated successfully.\n",
      "         Current function value: 0.131791\n",
      "         Iterations 9\n"
     ]
    },
    {
     "name": "stderr",
     "output_type": "stream",
     "text": [
      "/var/folders/d8/9nns59h14_z0hzcqldblr_v00000gn/T/ipykernel_18847/2442983475.py:24: FutureWarning: Series.__getitem__ treating keys as positions is deprecated. In a future version, integer keys will always be treated as labels (consistent with DataFrame behavior). To access a value by position, use `ser.iloc[pos]`\n",
      "  print('Selected predictors:',best_model['model'].model.exog_names,' AIC:',best_model[0] )\n"
     ]
    },
    {
     "name": "stdout",
     "output_type": "stream",
     "text": [
      "Optimization terminated successfully.\n",
      "         Current function value: 0.131871\n",
      "         Iterations 9\n",
      "Optimization terminated successfully.\n",
      "         Current function value: 0.134831\n",
      "         Iterations 9\n",
      "Optimization terminated successfully.\n",
      "         Current function value: 0.135444\n",
      "         Iterations 9\n",
      "Optimization terminated successfully.\n",
      "         Current function value: 0.142684\n",
      "         Iterations 9\n",
      "Optimization terminated successfully.\n",
      "         Current function value: 0.152482\n",
      "         Iterations 9\n",
      "Optimization terminated successfully.\n",
      "         Current function value: 0.155797\n",
      "         Iterations 9\n",
      "Optimization terminated successfully.\n",
      "         Current function value: 0.218281\n",
      "         Iterations 8\n",
      "Processed  9 models on 8 predictors in 0.5057559013366699\n",
      "Selected predictors: ['Income', 'Education', 'CD Account', 'Family', 'CreditCard', 'Securities Account', 'Online', 'CCAvg', 'const']  AIC: <statsmodels.discrete.discrete_model.BinaryResultsWrapper object at 0x3106fbd10>\n"
     ]
    },
    {
     "name": "stderr",
     "output_type": "stream",
     "text": [
      "/var/folders/d8/9nns59h14_z0hzcqldblr_v00000gn/T/ipykernel_18847/2442983475.py:65: FutureWarning: Series.__getitem__ treating keys as positions is deprecated. In a future version, integer keys will always be treated as labels (consistent with DataFrame behavior). To access a value by position, use `ser.iloc[pos]`\n",
      "  print('Selected predictors:',best_model['model'].model.exog_names,' AIC:',best_model[0] )\n"
     ]
    },
    {
     "name": "stdout",
     "output_type": "stream",
     "text": [
      "Optimization terminated successfully.\n",
      "         Current function value: 0.131061\n",
      "         Iterations 9\n",
      "Optimization terminated successfully.\n",
      "         Current function value: 0.131057\n",
      "         Iterations 9\n",
      "Processed  2 models on 10 predictors in 0.5305700302124023\n",
      "Selected predictors: ['Income', 'Education', 'CD Account', 'Family', 'CreditCard', 'Securities Account', 'Online', 'CCAvg', 'Age', 'Mortgage', 'const']  AIC: <statsmodels.discrete.discrete_model.BinaryResultsWrapper object at 0x310d26d50>\n",
      "forward\n",
      "Optimization terminated successfully.\n",
      "         Current function value: 0.131062\n",
      "         Iterations 9\n",
      "Optimization terminated successfully.\n",
      "         Current function value: 0.131771\n",
      "         Iterations 9\n"
     ]
    },
    {
     "name": "stderr",
     "output_type": "stream",
     "text": [
      "/var/folders/d8/9nns59h14_z0hzcqldblr_v00000gn/T/ipykernel_18847/2442983475.py:24: FutureWarning: Series.__getitem__ treating keys as positions is deprecated. In a future version, integer keys will always be treated as labels (consistent with DataFrame behavior). To access a value by position, use `ser.iloc[pos]`\n",
      "  print('Selected predictors:',best_model['model'].model.exog_names,' AIC:',best_model[0] )\n"
     ]
    },
    {
     "name": "stdout",
     "output_type": "stream",
     "text": [
      "Optimization terminated successfully.\n",
      "         Current function value: 0.131755\n",
      "         Iterations 9\n",
      "Optimization terminated successfully.\n",
      "         Current function value: 0.131862\n",
      "         Iterations 9\n",
      "Optimization terminated successfully.\n",
      "         Current function value: 0.134824\n",
      "         Iterations 9\n",
      "Optimization terminated successfully.\n",
      "         Current function value: 0.135443\n",
      "         Iterations 9\n",
      "Optimization terminated successfully.\n",
      "         Current function value: 0.142665\n",
      "         Iterations 9\n",
      "Optimization terminated successfully.\n",
      "         Current function value: 0.152478\n",
      "         Iterations 9\n",
      "Optimization terminated successfully.\n",
      "         Current function value: 0.155447\n",
      "         Iterations 9\n",
      "Optimization terminated successfully.\n",
      "         Current function value: 0.215827\n",
      "         Iterations 8\n",
      "Processed  10 models on 9 predictors in 1.5463221073150635\n",
      "Selected predictors: ['Income', 'Education', 'CD Account', 'Family', 'CreditCard', 'Securities Account', 'Online', 'CCAvg', 'Age', 'const']  AIC: <statsmodels.discrete.discrete_model.BinaryResultsWrapper object at 0x310c7bd90>\n",
      "backward\n"
     ]
    },
    {
     "name": "stderr",
     "output_type": "stream",
     "text": [
      "/var/folders/d8/9nns59h14_z0hzcqldblr_v00000gn/T/ipykernel_18847/2442983475.py:65: FutureWarning: Series.__getitem__ treating keys as positions is deprecated. In a future version, integer keys will always be treated as labels (consistent with DataFrame behavior). To access a value by position, use `ser.iloc[pos]`\n",
      "  print('Selected predictors:',best_model['model'].model.exog_names,' AIC:',best_model[0] )\n"
     ]
    },
    {
     "name": "stdout",
     "output_type": "stream",
     "text": [
      "Optimization terminated successfully.\n",
      "         Current function value: 0.131061\n",
      "         Iterations 9\n",
      "Optimization terminated successfully.\n",
      "         Current function value: 0.131057\n",
      "         Iterations 9\n",
      "Processed  2 models on 10 predictors in 0.5539977550506592\n",
      "Selected predictors: ['Income', 'Education', 'CD Account', 'Family', 'CreditCard', 'Securities Account', 'Online', 'CCAvg', 'Age', 'Mortgage', 'const']  AIC: <statsmodels.discrete.discrete_model.BinaryResultsWrapper object at 0x3106faf50>\n",
      "forward\n",
      "Optimization terminated successfully.\n",
      "         Current function value: 0.131062\n",
      "         Iterations 9\n"
     ]
    },
    {
     "name": "stderr",
     "output_type": "stream",
     "text": [
      "/var/folders/d8/9nns59h14_z0hzcqldblr_v00000gn/T/ipykernel_18847/2442983475.py:24: FutureWarning: Series.__getitem__ treating keys as positions is deprecated. In a future version, integer keys will always be treated as labels (consistent with DataFrame behavior). To access a value by position, use `ser.iloc[pos]`\n",
      "  print('Selected predictors:',best_model['model'].model.exog_names,' AIC:',best_model[0] )\n"
     ]
    },
    {
     "name": "stdout",
     "output_type": "stream",
     "text": [
      "Optimization terminated successfully.\n",
      "         Current function value: 0.131771\n",
      "         Iterations 9\n",
      "Optimization terminated successfully.\n",
      "         Current function value: 0.131755\n",
      "         Iterations 9\n",
      "Optimization terminated successfully.\n",
      "         Current function value: 0.131862\n",
      "         Iterations 9\n",
      "Optimization terminated successfully.\n",
      "         Current function value: 0.134824\n",
      "         Iterations 9\n",
      "Optimization terminated successfully.\n",
      "         Current function value: 0.135443\n",
      "         Iterations 9\n",
      "Optimization terminated successfully.\n",
      "         Current function value: 0.142665\n",
      "         Iterations 9\n",
      "Optimization terminated successfully.\n",
      "         Current function value: 0.152478\n",
      "         Iterations 9\n",
      "Optimization terminated successfully.\n",
      "         Current function value: 0.155447\n",
      "         Iterations 9\n",
      "Optimization terminated successfully.\n",
      "         Current function value: 0.215827\n",
      "         Iterations 8\n",
      "Processed  10 models on 9 predictors in 1.6337831020355225\n",
      "Selected predictors: ['Income', 'Education', 'CD Account', 'Family', 'CreditCard', 'Securities Account', 'Online', 'CCAvg', 'Age', 'const']  AIC: <statsmodels.discrete.discrete_model.BinaryResultsWrapper object at 0x31095ed90>\n",
      "backward\n",
      "Total elapsed time: 8.142307996749878 seconds.\n"
     ]
    },
    {
     "name": "stderr",
     "output_type": "stream",
     "text": [
      "/var/folders/d8/9nns59h14_z0hzcqldblr_v00000gn/T/ipykernel_18847/2442983475.py:65: FutureWarning: Series.__getitem__ treating keys as positions is deprecated. In a future version, integer keys will always be treated as labels (consistent with DataFrame behavior). To access a value by position, use `ser.iloc[pos]`\n",
      "  print('Selected predictors:',best_model['model'].model.exog_names,' AIC:',best_model[0] )\n"
     ]
    }
   ],
   "source": [
    "Stepwise_best_model = Stepwise_model(X=train_x,y=train_y)"
   ]
  },
  {
   "cell_type": "code",
   "execution_count": 78,
   "metadata": {},
   "outputs": [],
   "source": [
    "pred_y_full = results.predict(test_x) # full model\n",
    "pred_y_forward = Forward_best_model.predict(test_x[Forward_best_model.model.exog_names])\n",
    "pred_y_backward = Backward_best_model.predict(test_x[Backward_best_model.model.exog_names])\n",
    "pred_y_stepwise = Stepwise_best_model.predict(test_x[Stepwise_best_model.model.exog_names])"
   ]
  },
  {
   "cell_type": "code",
   "execution_count": 79,
   "metadata": {},
   "outputs": [],
   "source": [
    "pred_Y_full= cut_off(pred_y_full,0.5)\n",
    "pred_Y_forward = cut_off(pred_y_forward,0.5)\n",
    "pred_Y_backward = cut_off(pred_y_backward,0.5)\n",
    "pred_Y_stepwise = cut_off(pred_y_stepwise,0.5)"
   ]
  },
  {
   "cell_type": "code",
   "execution_count": 80,
   "metadata": {},
   "outputs": [],
   "source": [
    "cfmat_full = confusion_matrix(test_y, pred_Y_full)\n",
    "cfmat_forward = confusion_matrix(test_y, pred_Y_forward)\n",
    "cfmat_backward = confusion_matrix(test_y, pred_Y_backward)\n",
    "cfmat_stepwise = confusion_matrix(test_y, pred_Y_stepwise)"
   ]
  },
  {
   "cell_type": "code",
   "execution_count": 81,
   "metadata": {},
   "outputs": [
    {
     "name": "stdout",
     "output_type": "stream",
     "text": [
      "0.9466666666666667\n",
      "0.944\n",
      "0.944\n",
      "0.944\n"
     ]
    }
   ],
   "source": [
    "print(acc(cfmat_full))\n",
    "print(acc(cfmat_forward))\n",
    "print(acc(cfmat_backward))\n",
    "print(acc(cfmat_stepwise))"
   ]
  },
  {
   "cell_type": "code",
   "execution_count": 82,
   "metadata": {},
   "outputs": [
    {
     "name": "stdout",
     "output_type": "stream",
     "text": [
      "AUC: 0.9463923891858513\n"
     ]
    },
    {
     "data": {
      "image/png": "[encoded data removed]",
      "text/plain": [
       "<Figure size 640x480 with 1 Axes>"
      ]
     },
     "metadata": {},
     "output_type": "display_data"
    }
   ],
   "source": [
    "fpr, tpr, thresholds = metrics.roc_curve(test_y, pred_y_full, pos_label=1)\n",
    "# Print ROC curve\n",
    "plt.plot(fpr,tpr)\n",
    "# Print AUC\n",
    "auc = np.trapz(tpr,fpr)\n",
    "print('AUC:', auc)"
   ]
  },
  {
   "cell_type": "code",
   "execution_count": 83,
   "metadata": {},
   "outputs": [
    {
     "name": "stdout",
     "output_type": "stream",
     "text": [
      "AUC: 0.9465467667547905\n"
     ]
    },
    {
     "data": {
      "image/png": "[encoded data removed]",
      "text/plain": [
       "<Figure size 640x480 with 1 Axes>"
      ]
     },
     "metadata": {},
     "output_type": "display_data"
    }
   ],
   "source": [
    "fpr, tpr, thresholds = metrics.roc_curve(test_y, pred_y_forward, pos_label=1)\n",
    "# Print ROC curve\n",
    "plt.plot(fpr,tpr)\n",
    "# Print AUC\n",
    "auc = np.trapz(tpr,fpr)\n",
    "print('AUC:', auc)"
   ]
  },
  {
   "cell_type": "code",
   "execution_count": 142,
   "metadata": {},
   "outputs": [
    {
     "name": "stdout",
     "output_type": "stream",
     "text": [
      "AUC: 0.9465467667547905\n"
     ]
    },
    {
     "data": {
      "image/png": "[encoded data removed]",
      "text/plain": [
       "<Figure size 432x288 with 1 Axes>"
      ]
     },
     "metadata": {},
     "output_type": "display_data"
    }
   ],
   "source": [
    "fpr, tpr, thresholds = metrics.roc_curve(test_y, pred_y_backward, pos_label=1)\n",
    "# Print ROC curve\n",
    "plt.plot(fpr,tpr)\n",
    "# Print AUC\n",
    "auc = np.trapz(tpr,fpr)\n",
    "print('AUC:', auc)"
   ]
  },
  {
   "cell_type": "code",
   "execution_count": 143,
   "metadata": {},
   "outputs": [
    {
     "name": "stdout",
     "output_type": "stream",
     "text": [
      "AUC: 0.9465467667547905\n"
     ]
    },
    {
     "data": {
      "image/png": "[encoded data removed]",
      "text/plain": [
       "<Figure size 432x288 with 1 Axes>"
      ]
     },
     "metadata": {},
     "output_type": "display_data"
    }
   ],
   "source": [
    "fpr, tpr, thresholds = metrics.roc_curve(test_y, pred_y_stepwise, pos_label=1)\n",
    "# Print ROC curve\n",
    "plt.plot(fpr,tpr)\n",
    "# Print AUC\n",
    "auc = np.trapz(tpr,fpr)\n",
    "print('AUC:', auc)"
   ]
  },
  {
   "cell_type": "code",
   "execution_count": 144,
   "metadata": {},
   "outputs": [],
   "source": [
    "###성능면에서는 네 모델이 큰 차이가 없음"
   ]
  }
 ],
 "metadata": {
  "kernelspec": {
   "display_name": "Python 3 (ipykernel)",
   "language": "python",
   "name": "python3"
  },
  "language_info": {
   "codemirror_mode": {
    "name": "ipython",
    "version": 3
   },
   "file_extension": ".py",
   "mimetype": "text/x-python",
   "name": "python",
   "nbconvert_exporter": "python",
   "pygments_lexer": "ipython3",
   "version": "3.11.8"
  }
 },
 "nbformat": 4,
 "nbformat_minor": 2
}
