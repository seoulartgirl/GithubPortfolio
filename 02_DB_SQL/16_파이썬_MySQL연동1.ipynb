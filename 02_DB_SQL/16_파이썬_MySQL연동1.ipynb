{
 "cells": [
  {
   "cell_type": "markdown",
   "id": "bb5553a4-9215-4ab8-aa13-1b13a1ad3c84",
   "metadata": {},
   "source": [
    "## 파이썬과 MySQL 연동 #1"
   ]
  },
  {
   "cell_type": "markdown",
   "id": "f47aa48b-bd65-4b39-a81f-b3d2c2066e15",
   "metadata": {},
   "source": [
    "### 1. 파이썬에서 MySQL 연동을 위한 pymysql 라이브러리 설치\n",
    "\n",
    "- https://github.com/PyMySQL/PyMySQL\n",
    "- https://pymysql.readthedocs.io/en/latest/\n",
    "- https://peps.python.org/pep-0249/"
   ]
  },
  {
   "cell_type": "code",
   "execution_count": 1,
   "id": "aa5d3571-0135-426a-90e8-676c3a3fa95d",
   "metadata": {},
   "outputs": [
    {
     "name": "stdout",
     "output_type": "stream",
     "text": [
      "Collecting pymysql\n",
      "  Downloading PyMySQL-1.1.0-py3-none-any.whl.metadata (4.4 kB)\n",
      "Downloading PyMySQL-1.1.0-py3-none-any.whl (44 kB)\n",
      "\u001b[2K   \u001b[90m━━━━━━━━━━━━━━━━━━━━━━━━━━━━━━━━━━━━━━━━\u001b[0m \u001b[32m44.8/44.8 kB\u001b[0m \u001b[31m4.7 MB/s\u001b[0m eta \u001b[36m0:00:00\u001b[0m\n",
      "\u001b[?25hInstalling collected packages: pymysql\n",
      "Successfully installed pymysql-1.1.0\n"
     ]
    }
   ],
   "source": [
    "!pip install pymysql"
   ]
  },
  {
   "cell_type": "code",
   "execution_count": 3,
   "id": "ef214b9d-24a5-4746-a16f-5af0164d9ae7",
   "metadata": {},
   "outputs": [
    {
     "data": {
      "text/plain": [
       "'1.4.6'"
      ]
     },
     "execution_count": 3,
     "metadata": {},
     "output_type": "execute_result"
    }
   ],
   "source": [
    "import pymysql\n",
    "pymysql.__version__"
   ]
  },
  {
   "cell_type": "markdown",
   "id": "29ed6d52-86a0-4ba0-92ec-18ea37a2fe35",
   "metadata": {},
   "source": [
    "### 2 MySQL workbench에서 DB 생성"
   ]
  },
  {
   "cell_type": "raw",
   "id": "cc6cb5c1-ad67-4599-b3ea-6b64f0069797",
   "metadata": {},
   "source": [
    "drop database if exists shopdb;\n",
    "create database shopdb default character set utf8mb4;"
   ]
  },
  {
   "cell_type": "markdown",
   "id": "f1d0aea9-2737-490e-98f4-99e2ba631737",
   "metadata": {},
   "source": [
    "### 3. 파이썬에서 MySQL 데이터 생성"
   ]
  },
  {
   "cell_type": "markdown",
   "id": "2a6ea5c8-75df-4210-a601-7d74a58d9db0",
   "metadata": {},
   "source": [
    "#### 1) pymysql 라이브러리 임포트"
   ]
  },
  {
   "cell_type": "code",
   "execution_count": 3,
   "id": "714f548d-942f-4532-b8f9-c3ced95cfb7f",
   "metadata": {},
   "outputs": [],
   "source": [
    "import pymysql"
   ]
  },
  {
   "cell_type": "markdown",
   "id": "186eaf61-0355-4d1a-9044-e27de60b9d9f",
   "metadata": {},
   "source": [
    "#### 2) MySQL 연결\n",
    "\n",
    "- **pymysql.connect(host=서버IP주소, user=사용자, password=암호, df=데이터베이스, charset=문자세트)**\n",
    "- 연결자 = pymysql.connect(연결옵션)\n",
    "- 연결자는 파이썬에서 MySQL의 DB를 연결해 줌\n",
    "- 연결이 성공해도 메시지가 나오지 않음\n",
    "- https://pymysql.readthedocs.io/en/latest/modules/connections.html"
   ]
  },
  {
   "cell_type": "code",
   "execution_count": 8,
   "id": "8c821374-a608-4505-9c7d-f37655b0e691",
   "metadata": {},
   "outputs": [],
   "source": [
    "conn = pymysql.connect(host='localhost', #127.0.0.1\n",
    "                       user='root',\n",
    "                       password='Na0319na!!',\n",
    "                       db='shopDB', charset='utf8')"
   ]
  },
  {
   "cell_type": "markdown",
   "id": "f1276ea4-c79a-491e-bce7-f68e54db5b52",
   "metadata": {},
   "source": [
    "#### 3) cursor 생성\n",
    "\n",
    "- cursor이름 = 연결자.**cursor()**\n",
    "- cursor는 데이터베이스에 SQL문을 실행하거나 실행된 결과를 돌려받는 통로\n",
    "- https://pymysql.readthedocs.io/en/latest/modules/cursors.html"
   ]
  },
  {
   "cell_type": "code",
   "execution_count": 9,
   "id": "2f9dea53-06df-460b-85de-961acdb7b784",
   "metadata": {},
   "outputs": [],
   "source": [
    "cur = conn.cursor()"
   ]
  },
  {
   "cell_type": "markdown",
   "id": "48c14977-3f5e-418a-a6ff-c1a5001d07e8",
   "metadata": {},
   "source": [
    "#### 4) 테이블 생성\n",
    "\n",
    "- SQL 문을 커서이름.execute() 함수의 매개변수로 넘겨주면 SQL문이 데이터베이스에서 실행됨\n",
    "- cursor이름.**execute**(SQL문)\n",
    "- 실행결과는 0 또는 다른 번호가 나옴"
   ]
  },
  {
   "cell_type": "code",
   "execution_count": 10,
   "id": "a45e069b-3215-4aa3-a434-4d7dc8c690c4",
   "metadata": {},
   "outputs": [
    {
     "data": {
      "text/plain": [
       "0"
      ]
     },
     "execution_count": 10,
     "metadata": {},
     "output_type": "execute_result"
    }
   ],
   "source": [
    "sql1 = 'drop table if exists customer;'\n",
    "cur.execute(sql1)\n",
    "\n",
    "sql2 = '''\n",
    "        create table customer (\n",
    "        customer_id int not null primary key,\n",
    "        customer_name varchar(45) not null,\n",
    "        phone char(13),\n",
    "        birthday date);'''\n",
    "\n",
    "cur.execute(sql2)"
   ]
  },
  {
   "cell_type": "markdown",
   "id": "9e8e3187-bda9-48a7-b8cd-238e692412f1",
   "metadata": {},
   "source": [
    "#### 5) 테이블 데이터 삽입(insert)\n",
    "\n",
    "- cursor이름.execute(삽입SQL문)\n",
    "- 실행결과의 번호는 삽입한 데이터 수가 됨"
   ]
  },
  {
   "cell_type": "code",
   "execution_count": 11,
   "id": "a1842ecf-81f4-49d1-a5b6-25bf4037f384",
   "metadata": {},
   "outputs": [
    {
     "data": {
      "text/plain": [
       "5"
      ]
     },
     "execution_count": 11,
     "metadata": {},
     "output_type": "execute_result"
    }
   ],
   "source": [
    "sql = '''\n",
    "    insert into customer values\n",
    "    \t(1, '김바람', '010-123-1234', '1984-06-24'),\n",
    "    \t(2, '이구름', '010-111-2222', '1990-07-16'),\n",
    "    \t(3, '박하늘', '010-2222-1111', '1976-03-09'),\n",
    "    \t(4, '강산', '010-234-1234', '1991-05-04'),\n",
    "    \t(5, '유바다', '010-333-4444', '1993-04-21'); '''\n",
    "cur.execute(sql)"
   ]
  },
  {
   "cell_type": "markdown",
   "id": "31f1bc52-107e-4e48-83e0-17664e7932e2",
   "metadata": {},
   "source": [
    "#### 6) 데이터베이스 변경사항 저장 : commit()\n",
    "\n",
    "- **연결자.commit()**\n",
    "- 데이터베이스에 삽입한 데이터를 확실하게 저장 : 변경 내용 확정"
   ]
  },
  {
   "cell_type": "code",
   "execution_count": 12,
   "id": "68f499cb-15f4-4c2b-b00c-7a1fd46f5a38",
   "metadata": {},
   "outputs": [],
   "source": [
    "conn.commit()"
   ]
  },
  {
   "cell_type": "markdown",
   "id": "9a188d4a-ea3c-4509-b536-cb9c254899d1",
   "metadata": {},
   "source": [
    "#### 7) MySQL 연결 종료 : close()\n",
    "- **연결자.close()**"
   ]
  },
  {
   "cell_type": "code",
   "execution_count": 13,
   "id": "3e8bf34d-3e72-4477-a106-5c59fcc9a88c",
   "metadata": {},
   "outputs": [],
   "source": [
    "conn.close()"
   ]
  },
  {
   "cell_type": "markdown",
   "id": "53e87fed-781a-404c-9e36-967df6e3b993",
   "metadata": {},
   "source": [
    "### 4. 파이썬에서 MySQL 데이터 조회"
   ]
  },
  {
   "cell_type": "markdown",
   "id": "10a6c9d5-4e04-4e2a-95da-a1c11fcf04f5",
   "metadata": {},
   "source": [
    "#### 1) MySQL 연결"
   ]
  },
  {
   "cell_type": "code",
   "execution_count": 15,
   "id": "f87feb8c-6ada-421d-b34b-8e18b308fc1c",
   "metadata": {},
   "outputs": [],
   "source": [
    "conn = pymysql.connect(host='127.0.0.1', \n",
    "                       user='root',\n",
    "                       password='Na0319na!!',\n",
    "                       db='shopDB', charset='utf8')"
   ]
  },
  {
   "cell_type": "markdown",
   "id": "1b492e7a-7de0-488a-ae10-45f481512d0c",
   "metadata": {},
   "source": [
    "#### 2) cursor 생성"
   ]
  },
  {
   "cell_type": "code",
   "execution_count": 16,
   "id": "cbded0d8-1732-4fff-ba67-bad8a0a4dd5d",
   "metadata": {},
   "outputs": [],
   "source": [
    "cur = conn.cursor()"
   ]
  },
  {
   "cell_type": "markdown",
   "id": "c4ec3d2e-7f44-4cd5-bc17-9de854050c47",
   "metadata": {},
   "source": [
    "#### 3) 조회 SQL문 실행"
   ]
  },
  {
   "cell_type": "code",
   "execution_count": 24,
   "id": "bac7d397-e6fc-41f1-9700-4472f1fbc894",
   "metadata": {},
   "outputs": [
    {
     "data": {
      "text/plain": [
       "5"
      ]
     },
     "execution_count": 24,
     "metadata": {},
     "output_type": "execute_result"
    }
   ],
   "source": [
    "sql = 'select * from customer; '\n",
    "cur.execute(sql)"
   ]
  },
  {
   "cell_type": "markdown",
   "id": "33defe34-baec-4716-8408-0eb95638a0ef",
   "metadata": {},
   "source": [
    "#### 4) 조회한 데이터 추출\n",
    "\n",
    "- fetchone() : 한 행씩 데이터 추출\n",
    "- fetchall() : 모든 행의 데이터 추출\n",
    "- https://pymysql.readthedocs.io/en/latest/modules/cursors.html"
   ]
  },
  {
   "cell_type": "code",
   "execution_count": 25,
   "id": "4976d5d8-5ba2-4f16-92ad-1860af4cfb74",
   "metadata": {},
   "outputs": [
    {
     "data": {
      "text/plain": [
       "[{'id': 1,\n",
       "  'name': '김바람',\n",
       "  'phone': '010-123-1234',\n",
       "  'birthday': datetime.date(1984, 6, 24)},\n",
       " {'id': 2,\n",
       "  'name': '이구름',\n",
       "  'phone': '010-111-2222',\n",
       "  'birthday': datetime.date(1990, 7, 16)},\n",
       " {'id': 3,\n",
       "  'name': '박하늘',\n",
       "  'phone': '010-2222-1111',\n",
       "  'birthday': datetime.date(1976, 3, 9)},\n",
       " {'id': 4,\n",
       "  'name': '강산',\n",
       "  'phone': '010-234-1234',\n",
       "  'birthday': datetime.date(1991, 5, 4)},\n",
       " {'id': 5,\n",
       "  'name': '유바다',\n",
       "  'phone': '010-333-4444',\n",
       "  'birthday': datetime.date(1993, 4, 21)}]"
      ]
     },
     "execution_count": 25,
     "metadata": {},
     "output_type": "execute_result"
    }
   ],
   "source": [
    "rows = []\n",
    "while(True):\n",
    "    row = cur.fetchone()\n",
    "    dic = {}\n",
    "    if row == None:\n",
    "        break\n",
    "    dic['id'] = row[0]\n",
    "    dic['name'] = row[1]\n",
    "    dic['phone'] = row[2]\n",
    "    dic['birthday'] = row[3]\n",
    "    rows.append(dic)\n",
    "rows"
   ]
  },
  {
   "cell_type": "code",
   "execution_count": 19,
   "id": "bb462cb8-e17b-4194-8861-89e5b85a8460",
   "metadata": {},
   "outputs": [
    {
     "data": {
      "text/plain": [
       "((1, '김바람', '010-123-1234', datetime.date(1984, 6, 24)),\n",
       " (2, '이구름', '010-111-2222', datetime.date(1990, 7, 16)),\n",
       " (3, '박하늘', '010-2222-1111', datetime.date(1976, 3, 9)),\n",
       " (4, '강산', '010-234-1234', datetime.date(1991, 5, 4)),\n",
       " (5, '유바다', '010-333-4444', datetime.date(1993, 4, 21)))"
      ]
     },
     "execution_count": 19,
     "metadata": {},
     "output_type": "execute_result"
    }
   ],
   "source": [
    "rows2 = cur.fetchall()\n",
    "rows2"
   ]
  },
  {
   "cell_type": "markdown",
   "id": "7750502a-15d3-4d97-9c08-9d0343c4211c",
   "metadata": {},
   "source": [
    "#### 5) 추출한 데이터를 데이터프레임으로 생성"
   ]
  },
  {
   "cell_type": "code",
   "execution_count": 20,
   "id": "2a145e1e-3537-4329-9a36-ad776a6c3e3b",
   "metadata": {},
   "outputs": [],
   "source": [
    "import pandas as pd"
   ]
  },
  {
   "cell_type": "code",
   "execution_count": 26,
   "id": "3c0aaf9a-91d0-4f30-aebd-2be6a1f8db86",
   "metadata": {},
   "outputs": [
    {
     "data": {
      "text/html": [
       "<div>\n",
       "<style scoped>\n",
       "    .dataframe tbody tr th:only-of-type {\n",
       "        vertical-align: middle;\n",
       "    }\n",
       "\n",
       "    .dataframe tbody tr th {\n",
       "        vertical-align: top;\n",
       "    }\n",
       "\n",
       "    .dataframe thead th {\n",
       "        text-align: right;\n",
       "    }\n",
       "</style>\n",
       "<table border=\"1\" class=\"dataframe\">\n",
       "  <thead>\n",
       "    <tr style=\"text-align: right;\">\n",
       "      <th></th>\n",
       "      <th>id</th>\n",
       "      <th>name</th>\n",
       "      <th>phone</th>\n",
       "      <th>birthday</th>\n",
       "    </tr>\n",
       "  </thead>\n",
       "  <tbody>\n",
       "    <tr>\n",
       "      <th>0</th>\n",
       "      <td>1</td>\n",
       "      <td>김바람</td>\n",
       "      <td>010-123-1234</td>\n",
       "      <td>1984-06-24</td>\n",
       "    </tr>\n",
       "    <tr>\n",
       "      <th>1</th>\n",
       "      <td>2</td>\n",
       "      <td>이구름</td>\n",
       "      <td>010-111-2222</td>\n",
       "      <td>1990-07-16</td>\n",
       "    </tr>\n",
       "    <tr>\n",
       "      <th>2</th>\n",
       "      <td>3</td>\n",
       "      <td>박하늘</td>\n",
       "      <td>010-2222-1111</td>\n",
       "      <td>1976-03-09</td>\n",
       "    </tr>\n",
       "    <tr>\n",
       "      <th>3</th>\n",
       "      <td>4</td>\n",
       "      <td>강산</td>\n",
       "      <td>010-234-1234</td>\n",
       "      <td>1991-05-04</td>\n",
       "    </tr>\n",
       "    <tr>\n",
       "      <th>4</th>\n",
       "      <td>5</td>\n",
       "      <td>유바다</td>\n",
       "      <td>010-333-4444</td>\n",
       "      <td>1993-04-21</td>\n",
       "    </tr>\n",
       "  </tbody>\n",
       "</table>\n",
       "</div>"
      ],
      "text/plain": [
       "   id name          phone    birthday\n",
       "0   1  김바람   010-123-1234  1984-06-24\n",
       "1   2  이구름   010-111-2222  1990-07-16\n",
       "2   3  박하늘  010-2222-1111  1976-03-09\n",
       "3   4   강산   010-234-1234  1991-05-04\n",
       "4   5  유바다   010-333-4444  1993-04-21"
      ]
     },
     "execution_count": 26,
     "metadata": {},
     "output_type": "execute_result"
    }
   ],
   "source": [
    "df = pd.DataFrame(rows)\n",
    "df"
   ]
  },
  {
   "cell_type": "code",
   "execution_count": 23,
   "id": "f7bf92d2-5b6d-4b4d-904e-f61a7a359b84",
   "metadata": {},
   "outputs": [
    {
     "data": {
      "text/html": [
       "<div>\n",
       "<style scoped>\n",
       "    .dataframe tbody tr th:only-of-type {\n",
       "        vertical-align: middle;\n",
       "    }\n",
       "\n",
       "    .dataframe tbody tr th {\n",
       "        vertical-align: top;\n",
       "    }\n",
       "\n",
       "    .dataframe thead th {\n",
       "        text-align: right;\n",
       "    }\n",
       "</style>\n",
       "<table border=\"1\" class=\"dataframe\">\n",
       "  <thead>\n",
       "    <tr style=\"text-align: right;\">\n",
       "      <th></th>\n",
       "      <th>id</th>\n",
       "      <th>name</th>\n",
       "      <th>phone</th>\n",
       "      <th>birthday</th>\n",
       "    </tr>\n",
       "  </thead>\n",
       "  <tbody>\n",
       "    <tr>\n",
       "      <th>0</th>\n",
       "      <td>1</td>\n",
       "      <td>김바람</td>\n",
       "      <td>010-123-1234</td>\n",
       "      <td>1984-06-24</td>\n",
       "    </tr>\n",
       "    <tr>\n",
       "      <th>1</th>\n",
       "      <td>2</td>\n",
       "      <td>이구름</td>\n",
       "      <td>010-111-2222</td>\n",
       "      <td>1990-07-16</td>\n",
       "    </tr>\n",
       "    <tr>\n",
       "      <th>2</th>\n",
       "      <td>3</td>\n",
       "      <td>박하늘</td>\n",
       "      <td>010-2222-1111</td>\n",
       "      <td>1976-03-09</td>\n",
       "    </tr>\n",
       "    <tr>\n",
       "      <th>3</th>\n",
       "      <td>4</td>\n",
       "      <td>강산</td>\n",
       "      <td>010-234-1234</td>\n",
       "      <td>1991-05-04</td>\n",
       "    </tr>\n",
       "    <tr>\n",
       "      <th>4</th>\n",
       "      <td>5</td>\n",
       "      <td>유바다</td>\n",
       "      <td>010-333-4444</td>\n",
       "      <td>1993-04-21</td>\n",
       "    </tr>\n",
       "  </tbody>\n",
       "</table>\n",
       "</div>"
      ],
      "text/plain": [
       "   id name          phone    birthday\n",
       "0   1  김바람   010-123-1234  1984-06-24\n",
       "1   2  이구름   010-111-2222  1990-07-16\n",
       "2   3  박하늘  010-2222-1111  1976-03-09\n",
       "3   4   강산   010-234-1234  1991-05-04\n",
       "4   5  유바다   010-333-4444  1993-04-21"
      ]
     },
     "execution_count": 23,
     "metadata": {},
     "output_type": "execute_result"
    }
   ],
   "source": [
    "pd.DataFrame(rows2, columns=['id','name','phone','birthday'])"
   ]
  },
  {
   "cell_type": "markdown",
   "id": "ac40d730-3dad-4016-bc45-472f1c0e8f61",
   "metadata": {},
   "source": [
    "#### 6) MySQL 연결 종료"
   ]
  },
  {
   "cell_type": "code",
   "execution_count": 27,
   "id": "54918b2e-f903-417a-97b8-53ed23eb228c",
   "metadata": {},
   "outputs": [],
   "source": [
    "conn.close()"
   ]
  },
  {
   "cell_type": "markdown",
   "id": "b1622b03-bcb5-4d94-83bc-fc14a311d2fd",
   "metadata": {},
   "source": [
    "---"
   ]
  },
  {
   "cell_type": "markdown",
   "id": "eabc6819-31ee-41f6-9e7c-edb3aecb7e57",
   "metadata": {},
   "source": [
    "### MySQL 연동을 위한 함수 정의"
   ]
  },
  {
   "cell_type": "markdown",
   "id": "fc1f22ea-0aad-4bc8-b9b5-25c66a66a8d0",
   "metadata": {},
   "source": [
    "#### MySQL 연결 함수"
   ]
  },
  {
   "cell_type": "code",
   "execution_count": 31,
   "id": "66a9b5d4-2fa3-4772-81c8-2efa824099bb",
   "metadata": {},
   "outputs": [],
   "source": [
    "def connectMysql(db_name):\n",
    "    host='127.0.0.1' \n",
    "    port=3306\n",
    "    user='root'\n",
    "    password='Na0319na!!'\n",
    "    conn = pymysql.connect(host=host, port=port,\n",
    "                           user=user, password=password,\n",
    "                           db=db_name, charset='utf8')\n",
    "    print(type(conn))\n",
    "    return conn"
   ]
  },
  {
   "cell_type": "code",
   "execution_count": 32,
   "id": "157fbf70-eec1-4112-92af-2f0618e0659f",
   "metadata": {},
   "outputs": [
    {
     "name": "stdout",
     "output_type": "stream",
     "text": [
      "<class 'pymysql.connections.Connection'>\n"
     ]
    }
   ],
   "source": [
    "conn = connectMysql('shopdb')\n",
    "\n",
    "cur = conn.cursor()\n",
    "sql = 'select * from customer; '\n",
    "cur.execute(sql)\n",
    "rows = cur.fetchall()\n",
    "rows\n",
    "\n",
    "conn.close()"
   ]
  },
  {
   "cell_type": "markdown",
   "id": "409a25cf-24b3-40ff-92bf-b4dacc9336de",
   "metadata": {},
   "source": [
    "----"
   ]
  }
 ],
 "metadata": {
  "kernelspec": {
   "display_name": "Python 3 (ipykernel)",
   "language": "python",
   "name": "python3"
  },
  "language_info": {
   "codemirror_mode": {
    "name": "ipython",
    "version": 3
   },
   "file_extension": ".py",
   "mimetype": "text/x-python",
   "name": "python",
   "nbconvert_exporter": "python",
   "pygments_lexer": "ipython3",
   "version": "3.11.8"
  }
 },
 "nbformat": 4,
 "nbformat_minor": 5
}
