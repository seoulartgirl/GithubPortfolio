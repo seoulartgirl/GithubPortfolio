{
 "cells": [
  {
   "cell_type": "markdown",
   "id": "6882d7f7-4bc8-4d7c-8497-2610383d0e4a",
   "metadata": {},
   "source": [
    "# 노트북 사용"
   ]
  },
  {
   "cell_type": "markdown",
   "id": "252bc17a-3d93-4167-a672-b4f9c71fd158",
   "metadata": {
    "jp-MarkdownHeadingCollapsed": true
   },
   "source": [
    "## 셀 종류\n",
    "* code 셀\n",
    "* Markdown 셀\n",
    "* Raw 셀"
   ]
  },
  {
   "cell_type": "markdown",
   "id": "e7e233cd-bcf5-4700-80d7-c8835ad473ce",
   "metadata": {},
   "source": [
    "## 셀 모드\n",
    "\n",
    "- **편집**모드 : 마우스나 Enter키를 입력하여 내용을 작성할 수 있는 상태 (셀의 테두리가 파란색, 흰색 배경)\n",
    "    - 실행 단축키 : Ctrl+Enter | Shift+Enter | Alt+Enter\n",
    "    - 셀 나누기 : 나누려는 곳에 커서를 두고 Ctrl + Shift + -\n",
    "    - 선택된 셀의 전체 코드 선택 : Ctrl+a\n",
    "    - 실행 취소 : Ctrl + z\n",
    "    - 재실행 : Ctrl + y\n",
    "    - 주석처리 : 커서 위치한 후 Ctrl + /"
   ]
  },
  {
   "cell_type": "markdown",
   "id": "8d1bec35-6ec2-492f-ba9e-27c28f192054",
   "metadata": {},
   "source": [
    "- **명령**모드 : 편집모드에서 Esc키 또는 Ctrl+m 을  누름\n",
    "  - 셀의 종류 변경 : 단축키 M (markdown), Y (code),  R (Raw)\n",
    "  - 셀 복사(c) , 잘라내기(x), 붙여넣기(v)\n",
    "  - 셀 삭제(dd), 삽입(a, b), 이동\n",
    "  - 여러 셀 선택 : shift + 마우스로 셀들을 클릭하여 여러 셀 선택\n",
    "  - 상하 셀 이동 : 상하 방향키\n",
    "  - 셀 병합 : 명령모드에서 셀 선택 후 shift+m\n",
    "  "
   ]
  },
  {
   "cell_type": "markdown",
   "id": "221cf2dd-5711-4c19-b231-e8324190a804",
   "metadata": {},
   "source": [
    "---"
   ]
  },
  {
   "cell_type": "markdown",
   "id": "ee20b407-44e2-41e7-914b-e7a740689363",
   "metadata": {},
   "source": [
    "셀은 위에서 아래로 차례로 실행된 순서대로 적용"
   ]
  },
  {
   "cell_type": "code",
   "execution_count": 4,
   "id": "d187f8b4-ebce-4143-abf9-14941e7545d9",
   "metadata": {},
   "outputs": [
    {
     "name": "stdout",
     "output_type": "stream",
     "text": [
      "Hello notebook!\n"
     ]
    }
   ],
   "source": [
    "print('Hello notebook!')"
   ]
  }
 ],
 "metadata": {
  "kernelspec": {
   "display_name": "Python 3 (ipykernel)",
   "language": "python",
   "name": "python3"
  },
  "language_info": {
   "codemirror_mode": {
    "name": "ipython",
    "version": 3
   },
   "file_extension": ".py",
   "mimetype": "text/x-python",
   "name": "python",
   "nbconvert_exporter": "python",
   "pygments_lexer": "ipython3",
   "version": "3.11.7"
  }
 },
 "nbformat": 4,
 "nbformat_minor": 5
}
