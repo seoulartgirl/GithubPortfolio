{
 "cells": [
  {
   "cell_type": "markdown",
   "metadata": {},
   "source": [
    "# 파이썬을 이용한  웹 데이터 수집"
   ]
  },
  {
   "cell_type": "markdown",
   "metadata": {},
   "source": [
    "#### 웹 데이터 수집 방법\n",
    "\n",
    "- 데이터 제공 사이트에서 파일로 다운로드\n",
    "- 크롤링(스크래핑)을 통한 수집\n",
    "- 오픈API를 이용하여 수집"
   ]
  },
  {
   "cell_type": "markdown",
   "metadata": {},
   "source": [
    "## 1. 웹 크롤링(Web Crawling)"
   ]
  },
  {
   "cell_type": "markdown",
   "metadata": {},
   "source": [
    "### 웹 크롤링 개념\n",
    "\n",
    "- 웹의 정보를 자동으로 수집하는 것\n",
    "- 웹 크롤러(crawler) :  웹의 정보를 수집하기 위해 만든 프로그램\n",
    "- 웹 페이지의 링크를 통해 계속해서 정보를 찾아 나감\n",
    "    - 중복된 데이트 수집이 될 수 있으므로 중복된 데이터 처리가 필수\n",
    "\n",
    "- 웹 스크래핑(scrapping) : 특정 웹 사이트에서만 데이터를 추적(수집)"
   ]
  },
  {
   "cell_type": "markdown",
   "metadata": {},
   "source": [
    "### 웹 크롤링의 활용 예\n",
    "\n",
    "- 기업의 경우 웹 크롤링 과정을 통해 고객과 제품의 정보를 다양한 소셜미디어 플랫폼에서 웹 크롤링을 통해 정보를 수집하고 브랜드 성과와 고객 만족도를 파악\n",
    "- 주식시장 : 웹 크롤링을 통해 다양한 플랫폼에서 원하는 기간의 주가 데이터 수집하여 트렌드 발견 및 미래 주가 예측 모델에 활용\n",
    "- 부동산 시장 : 부동산 가격 예측과 책정에 활용\n",
    "    - 미국의 부동산 거래 플랫폼 질로우(zillow) : 웹 크롤링을 통해 정보를 수집하여 부동산 가격을 평가\n",
    "        - https://zillow.com"
   ]
  },
  {
   "cell_type": "markdown",
   "metadata": {},
   "source": [
    "### 웹 크롤링 허용 문제"
   ]
  },
  {
   "cell_type": "markdown",
   "metadata": {},
   "source": [
    "- 모든 사이트는 웹 크롤링 권한에 관해 명시한 페이지가 존재함\n",
    "- robots.txt 파일 : 크롤링을 위한 규칙 명시한 페이지\n",
    "- 사이트 URL 끝에 robots.txt 를 붙이면 크롤링 권한에 관한 내용 확인"
   ]
  },
  {
   "attachments": {
    "image.png": {
     "image/png": "[encoded data removed]"
    }
   },
   "cell_type": "markdown",
   "metadata": {},
   "source": [
    "![image.png](attachment:image.png)"
   ]
  },
  {
   "cell_type": "markdown",
   "metadata": {},
   "source": [
    "- 'Disallow' : 크롤링 허용하지 않는 경로\n",
    "- 'Allow' : 크롤링 허용 경로"
   ]
  },
  {
   "cell_type": "markdown",
   "metadata": {},
   "source": [
    "#### 예. http://www.google.com/robots.txt"
   ]
  },
  {
   "cell_type": "markdown",
   "metadata": {},
   "source": [
    "- 크롤링 전에 항상 robots.txt 파일을 확인할 것"
   ]
  },
  {
   "cell_type": "markdown",
   "metadata": {},
   "source": [
    "----"
   ]
  },
  {
   "cell_type": "markdown",
   "metadata": {
    "collapsed": true,
    "jupyter": {
     "outputs_hidden": true
    }
   },
   "source": [
    "## 2. 파이썬을 이용한  웹 크롤링"
   ]
  },
  {
   "cell_type": "markdown",
   "metadata": {},
   "source": [
    "## 2.1 웹크롤링 준비"
   ]
  },
  {
   "cell_type": "markdown",
   "metadata": {},
   "source": [
    "#### 크롤링하는 웹사이트 살펴보기\n",
    "\n",
    "- http://www.naver.com"
   ]
  },
  {
   "cell_type": "markdown",
   "metadata": {
    "collapsed": true,
    "jupyter": {
     "outputs_hidden": true
    }
   },
   "source": [
    "### 기본 모듈 임포트"
   ]
  },
  {
   "cell_type": "code",
   "execution_count": null,
   "metadata": {},
   "outputs": [],
   "source": []
  },
  {
   "cell_type": "markdown",
   "metadata": {},
   "source": [
    "### requests 모듈\n",
    "- Python에서 HTTP 요청을 보내는 모듈\n",
    "- URL 주소에 있는 내용을 요청할 때 사용\n",
    "    - HTTP request types: GET, PUT, DELETE, HEAD and OPTIONS\n",
    "\n",
    "- https://requests.readthedocs.io/en/latest/\n",
    "- https://requests.readthedocs.io/en/latest/user/quickstart/\n",
    "- https://requests.readthedocs.io/en/latest/api/"
   ]
  },
  {
   "cell_type": "markdown",
   "metadata": {},
   "source": [
    "#### requests 모듈의 get() 함수\n",
    "\n",
    "형식 : request(method, url, **kwargs)\n",
    "    \n",
    "- 지정된 url을 요청하면 response 객체 반환"
   ]
  },
  {
   "cell_type": "code",
   "execution_count": null,
   "metadata": {},
   "outputs": [],
   "source": []
  },
  {
   "cell_type": "markdown",
   "metadata": {},
   "source": [
    "#### response 객체의 필드들"
   ]
  },
  {
   "cell_type": "markdown",
   "metadata": {},
   "source": [
    "response 객체의 필드 : status-code \n",
    "- Integer Code of responded HTTP Status\n",
    "- 예.404 or 200"
   ]
  },
  {
   "cell_type": "code",
   "execution_count": null,
   "metadata": {},
   "outputs": [],
   "source": []
  },
  {
   "cell_type": "markdown",
   "metadata": {},
   "source": [
    "response 객체의 필드 : headers"
   ]
  },
  {
   "cell_type": "code",
   "execution_count": null,
   "metadata": {},
   "outputs": [],
   "source": []
  },
  {
   "cell_type": "markdown",
   "metadata": {},
   "source": [
    "response 객체의 필드 : encoding"
   ]
  },
  {
   "cell_type": "code",
   "execution_count": null,
   "metadata": {},
   "outputs": [],
   "source": []
  },
  {
   "cell_type": "markdown",
   "metadata": {},
   "source": [
    "response 객체의 필드 : text\n",
    "- 브라우저가 사이트에 요청해서 받은 결과와 같은 결과"
   ]
  },
  {
   "cell_type": "code",
   "execution_count": null,
   "metadata": {},
   "outputs": [],
   "source": []
  },
  {
   "cell_type": "markdown",
   "metadata": {},
   "source": [
    "##### 예1.\n",
    "\n",
    "request모듈의 get()을 이용하여 http://www.tistory.com 사이트 메인페이지 요청"
   ]
  },
  {
   "cell_type": "code",
   "execution_count": null,
   "metadata": {},
   "outputs": [],
   "source": []
  },
  {
   "cell_type": "markdown",
   "metadata": {},
   "source": [
    "##### 예2.\n",
    "\n",
    "request모듈의 get()을 이용하여 https://www.google.co.kr 사이트 메인페이지 요청"
   ]
  },
  {
   "cell_type": "code",
   "execution_count": null,
   "metadata": {},
   "outputs": [],
   "source": []
  },
  {
   "cell_type": "markdown",
   "metadata": {},
   "source": [
    "#### 파라미터 전달 : requests.get(URL, params= {} )\n",
    "\n",
    "- 파라미터란? : 사이트의 문서를 요청할 때 서버로 전달되는 정보\n",
    "- 함수의 파라미터 처럼 문서를 찾기위한 정보나 명령을 수행하기 위한 정보를 같이 전달하게 되는데 그 정보를 파라미터라고 함    \n",
    "\n",
    "- https://sports.news.naver.com/news?oid=144&aid=0000948747\n",
    "\n",
    "\n",
    "- params = {'param1': 'value1', 'param2': 'value'}\n",
    "- res = requests.get(URL, params=params)"
   ]
  },
  {
   "cell_type": "code",
   "execution_count": null,
   "metadata": {},
   "outputs": [],
   "source": []
  },
  {
   "cell_type": "code",
   "execution_count": null,
   "metadata": {},
   "outputs": [],
   "source": []
  },
  {
   "cell_type": "code",
   "execution_count": null,
   "metadata": {},
   "outputs": [],
   "source": []
  },
  {
   "cell_type": "code",
   "execution_count": null,
   "metadata": {},
   "outputs": [],
   "source": []
  },
  {
   "cell_type": "code",
   "execution_count": null,
   "metadata": {},
   "outputs": [],
   "source": []
  },
  {
   "cell_type": "markdown",
   "metadata": {},
   "source": [
    "## 2.2 웹크롤링"
   ]
  },
  {
   "cell_type": "markdown",
   "metadata": {},
   "source": [
    "### 데이터 수집을 위한 절차"
   ]
  },
  {
   "cell_type": "markdown",
   "metadata": {
    "collapsed": true,
    "jupyter": {
     "outputs_hidden": true
    }
   },
   "source": [
    "1. 문서 내용 읽어오기\n",
    "    - **urllib.request 패키지** 사용 :\n",
    "        - url을 넘겨주면 데이터를 텍스트 형태로 반환(기본 내장 패키지)\n",
    "        - urlopen() : url 접속\n",
    "        - read() : 데이터 읽어오기\n",
    "        - text 속성을 사용해서 데이터 읽어올 수도 있음 \n",
    "    \n",
    "\n",
    "2. 문서에서 원하는 내용 추출하기(파싱)  \n",
    "    - **BeautifulSoup 패키지** 사용\n",
    "    - find() / findAll() 함수 사용"
   ]
  },
  {
   "cell_type": "markdown",
   "metadata": {},
   "source": [
    "### ① 웹페이지 데이터 가져오기"
   ]
  },
  {
   "cell_type": "markdown",
   "metadata": {},
   "source": [
    "### urllib 모듈\n",
    "\n",
    "- 웹에서 얻은 데이터를 다루는 파이썬 패키지\n",
    "- 총 4개의 모듈로 구성\n",
    "    - urllib.request : opening and reading URLs\n",
    "    - urllib.error : containing the exceptions raised by urllib.request\n",
    "    - urllib.parse : parsing URLs\n",
    "    - urllib.robotparser : parsing robots.txt files\n",
    "    \n",
    "    \n",
    "- https://docs.python.org/3/library/urllib.html"
   ]
  },
  {
   "cell_type": "markdown",
   "metadata": {},
   "source": [
    "### urllib.request"
   ]
  },
  {
   "cell_type": "markdown",
   "metadata": {},
   "source": [
    "- 웹문서를 열어 데이터를 읽어오는 모듈\n",
    "- higher-level HTTP client interface.\n",
    "\n",
    "\n",
    "- https://docs.python.org/3/library/urllib.request.html"
   ]
  },
  {
   "cell_type": "markdown",
   "metadata": {},
   "source": [
    "#### 웹 데이터를 다루기 위한 모듈 임포트"
   ]
  },
  {
   "cell_type": "code",
   "execution_count": null,
   "metadata": {},
   "outputs": [],
   "source": []
  },
  {
   "cell_type": "markdown",
   "metadata": {},
   "source": [
    "#### urllib.request.urlopen() 함수\n",
    "\n",
    "- Open the URL url, which can be either a string or a Request object\n",
    "- \n",
    "urllib.request.urlopen(url, data=None, [timeout, ]*, cafile=None, capath=None, cadefault=False, context=None)\n"
   ]
  },
  {
   "cell_type": "code",
   "execution_count": null,
   "metadata": {},
   "outputs": [],
   "source": []
  },
  {
   "cell_type": "markdown",
   "metadata": {},
   "source": [
    "- HTTPResponse 객체에서 소스 코드 읽기 : read()"
   ]
  },
  {
   "cell_type": "code",
   "execution_count": null,
   "metadata": {},
   "outputs": [],
   "source": []
  },
  {
   "cell_type": "markdown",
   "metadata": {},
   "source": [
    "### ② 원하는 내용 추출하기(parsing)  \n",
    "\n",
    "- html 문서에서 필요한 내용만 추출\n",
    "- **BeautifulSoup** 라이브러리 사용\n",
    "- find() / findAll() 등 함수 사용"
   ]
  },
  {
   "cell_type": "markdown",
   "metadata": {},
   "source": [
    "### BeautifulSoup\n",
    "\n",
    "- 데이터를 추출하는데 필요한 기능이 들어 있는 라이브러리 (파싱 라이브러리)\n",
    "- 외부 라이브러리\n",
    "- https://beautiful-soup-4.readthedocs.io/en/latest/\n",
    "- https://www.crummy.com/software/BeautifulSoup/bs4/doc/"
   ]
  },
  {
   "cell_type": "markdown",
   "metadata": {},
   "source": [
    "#### BeautifulSoup 패키지 설치"
   ]
  },
  {
   "cell_type": "code",
   "execution_count": null,
   "metadata": {
    "scrolled": true
   },
   "outputs": [],
   "source": []
  },
  {
   "cell_type": "markdown",
   "metadata": {},
   "source": [
    "- 파이참 설치방법\n",
    "    - File/Settings\n",
    "    - Project Interpreter에서 bs4 검색\n",
    "    - [Install Package]"
   ]
  },
  {
   "cell_type": "code",
   "execution_count": null,
   "metadata": {},
   "outputs": [],
   "source": []
  },
  {
   "cell_type": "code",
   "execution_count": null,
   "metadata": {},
   "outputs": [],
   "source": []
  },
  {
   "cell_type": "markdown",
   "metadata": {},
   "source": [
    "#### bs4 파싱 객체 생성하기"
   ]
  },
  {
   "cell_type": "markdown",
   "metadata": {},
   "source": [
    "- BeautifulSoup 패키지 임포트"
   ]
  },
  {
   "cell_type": "code",
   "execution_count": null,
   "metadata": {},
   "outputs": [],
   "source": []
  },
  {
   "cell_type": "markdown",
   "metadata": {},
   "source": [
    "- BeautifulSoup(접속객체, 파서기)"
   ]
  },
  {
   "cell_type": "code",
   "execution_count": null,
   "metadata": {},
   "outputs": [],
   "source": []
  },
  {
   "cell_type": "markdown",
   "metadata": {},
   "source": [
    "- prettify()\n",
    "    - 들여쓰기, 계층적인 구조로 출력\n",
    "    - 가독성 높음"
   ]
  },
  {
   "cell_type": "code",
   "execution_count": null,
   "metadata": {},
   "outputs": [],
   "source": []
  },
  {
   "cell_type": "markdown",
   "metadata": {},
   "source": [
    "### 특정 태그에서 텍스트 추출하기\n",
    "\n",
    ": BeautifulSoup의 find(), find_all(), findAll() 메서드 사용\n",
    "- find(name, attrs, recursive, string, **kwargs)\n",
    "- find_all(name, attrs, recursive, string, limit, **kwargs)"
   ]
  },
  {
   "cell_type": "markdown",
   "metadata": {},
   "source": [
    "##### find() 메서드\n",
    "\n",
    "- find(name, attrs, recursive, string, **kwargs)\n",
    "    - attrs : {\"속성\":\"값\"}\n",
    "- 찾은 태그의 첫번째 태그 반환"
   ]
  },
  {
   "cell_type": "code",
   "execution_count": null,
   "metadata": {},
   "outputs": [],
   "source": []
  },
  {
   "cell_type": "code",
   "execution_count": null,
   "metadata": {},
   "outputs": [],
   "source": []
  },
  {
   "cell_type": "markdown",
   "metadata": {},
   "source": [
    "- find().text : 찾은 태그의 텍스트 가져오기"
   ]
  },
  {
   "cell_type": "code",
   "execution_count": null,
   "metadata": {},
   "outputs": [],
   "source": []
  },
  {
   "cell_type": "markdown",
   "metadata": {},
   "source": [
    "##### find_all() 메서드\n",
    "\n",
    "- find_all(name, attrs, recursive, string, **kwargs)\n",
    "    - attrs : {\"속성\":\"값\"}\n",
    "- 기준에 맞는 태그를 모두 가져옴\n",
    "- 리스트 타입을 반환"
   ]
  },
  {
   "cell_type": "code",
   "execution_count": null,
   "metadata": {},
   "outputs": [],
   "source": [
    "html_str = \"\"\"\n",
    "<html>\n",
    "    <body>\n",
    "        <!-- 예. 찾은 태그들의 모든 text 가져오기 -->\n",
    "        <ul>\n",
    "            <li>hello</li>\n",
    "            <li>bye</li>\n",
    "            <li>welcome</li>\n",
    "        </ul>\n",
    "    </body>\n",
    "</html>\n",
    "\"\"\""
   ]
  },
  {
   "cell_type": "code",
   "execution_count": null,
   "metadata": {},
   "outputs": [],
   "source": []
  },
  {
   "cell_type": "code",
   "execution_count": null,
   "metadata": {},
   "outputs": [],
   "source": []
  },
  {
   "cell_type": "code",
   "execution_count": null,
   "metadata": {},
   "outputs": [],
   "source": []
  },
  {
   "cell_type": "code",
   "execution_count": null,
   "metadata": {},
   "outputs": [],
   "source": []
  },
  {
   "cell_type": "code",
   "execution_count": null,
   "metadata": {
    "scrolled": true
   },
   "outputs": [],
   "source": []
  },
  {
   "cell_type": "markdown",
   "metadata": {},
   "source": [
    "#### 해당 태그의 class 속성을 기준으로 찾기"
   ]
  },
  {
   "cell_type": "code",
   "execution_count": null,
   "metadata": {},
   "outputs": [],
   "source": [
    "html_str = \"\"\"\n",
    "<html>\n",
    "    <body>\n",
    "        <ul class=\"greet\">\n",
    "            <li>hello</li>\n",
    "            <li>bye</li>\n",
    "            <li>welcome</li>\n",
    "        </ul>\n",
    "        <ul class=\"reply\">\n",
    "            <li>ok</li>\n",
    "            <li>no</li>\n",
    "            <li>sure</li>\n",
    "        </ul>\n",
    "    </body>\n",
    "</html>\n",
    "\"\"\""
   ]
  },
  {
   "cell_type": "code",
   "execution_count": null,
   "metadata": {},
   "outputs": [],
   "source": []
  },
  {
   "cell_type": "code",
   "execution_count": null,
   "metadata": {
    "scrolled": true
   },
   "outputs": [],
   "source": []
  },
  {
   "cell_type": "code",
   "execution_count": null,
   "metadata": {},
   "outputs": [],
   "source": []
  },
  {
   "cell_type": "markdown",
   "metadata": {},
   "source": [
    "#### 해당 태그의 id 속성을 기준으로 찾기"
   ]
  },
  {
   "cell_type": "code",
   "execution_count": null,
   "metadata": {},
   "outputs": [],
   "source": [
    "html_str = \"\"\"\n",
    "<html>\n",
    "    <body>\n",
    "        <h1 id='title'>Hello Python</h1>\n",
    "        <p id=\"crawling\">웹 크롤링</p>\n",
    "        <p id=\"parsing\">파싱</p>\n",
    "    </body>\n",
    "</html>\n",
    "\"\"\""
   ]
  },
  {
   "cell_type": "code",
   "execution_count": null,
   "metadata": {},
   "outputs": [],
   "source": []
  },
  {
   "cell_type": "code",
   "execution_count": null,
   "metadata": {},
   "outputs": [],
   "source": []
  },
  {
   "cell_type": "code",
   "execution_count": null,
   "metadata": {},
   "outputs": [],
   "source": []
  },
  {
   "cell_type": "markdown",
   "metadata": {},
   "source": [
    "------"
   ]
  },
  {
   "cell_type": "code",
   "execution_count": null,
   "metadata": {},
   "outputs": [],
   "source": [
    "html_str = \"\"\"\n",
    "<html>\n",
    "    <head><title>크롤링예제</title></head>\n",
    "    <body>\n",
    "        <h1>파이썬 프로그래밍</h1>\n",
    "        <p>웹 페이지 분석</p>\n",
    "        <p>크롤링</p>\n",
    "        <p>파싱</p>        \n",
    "    </body>\n",
    "</html>\n",
    "\"\"\""
   ]
  },
  {
   "cell_type": "code",
   "execution_count": null,
   "metadata": {},
   "outputs": [],
   "source": []
  },
  {
   "cell_type": "markdown",
   "metadata": {},
   "source": [
    "### 태그 이름 사용하여 찾기\n",
    "\n",
    ": .태그명\n",
    "\n",
    "- .title\n",
    "- .head\n",
    "- .body\n",
    "- .p"
   ]
  },
  {
   "cell_type": "markdown",
   "metadata": {},
   "source": [
    "#### title 태그 찾기"
   ]
  },
  {
   "cell_type": "code",
   "execution_count": null,
   "metadata": {},
   "outputs": [],
   "source": []
  },
  {
   "cell_type": "markdown",
   "metadata": {},
   "source": [
    "#### head 태그 찾기"
   ]
  },
  {
   "cell_type": "code",
   "execution_count": null,
   "metadata": {},
   "outputs": [],
   "source": []
  },
  {
   "cell_type": "markdown",
   "metadata": {},
   "source": [
    "#### body 태그 찾기"
   ]
  },
  {
   "cell_type": "code",
   "execution_count": null,
   "metadata": {
    "scrolled": true
   },
   "outputs": [],
   "source": []
  },
  {
   "cell_type": "code",
   "execution_count": null,
   "metadata": {},
   "outputs": [],
   "source": []
  },
  {
   "cell_type": "markdown",
   "metadata": {},
   "source": [
    "### 형제, 부모, 자식(자손) 태그 찾기\n",
    "\n",
    "- 속성 :\n",
    "    - .children, .contents\n",
    "    - .next_sibling, .next_siblings\n",
    "    - .previous_sibling, .previous_siblings\n",
    "    - .parent, .parents\n",
    "    \n",
    "    \n",
    "- 메서드 : \n",
    "    - find_next_siblings(name, attrs, string, limit, **kwargs)\n",
    "    - find_next_sibling(name, attrs, string, **kwargs)\n",
    "    - find_previous_sibling(name, attrs, string, **kwargs)\n",
    "    - find_previous_siblings(name, attrs, string, limit, **kwargs)\n",
    "    - find_parent(name, attrs, string, **kwargs)\n",
    "    - find_parents(name, attrs, string, limit, **kwargs)"
   ]
  },
  {
   "cell_type": "markdown",
   "metadata": {},
   "source": [
    "#### 태그의 자손 태그 찾기 : .contents, .children"
   ]
  },
  {
   "cell_type": "code",
   "execution_count": null,
   "metadata": {},
   "outputs": [],
   "source": []
  },
  {
   "cell_type": "code",
   "execution_count": null,
   "metadata": {},
   "outputs": [],
   "source": []
  },
  {
   "cell_type": "markdown",
   "metadata": {},
   "source": [
    "#### 형제 태그 찾기 : **.next_sibling**, **.next_siblings**"
   ]
  },
  {
   "cell_type": "code",
   "execution_count": null,
   "metadata": {},
   "outputs": [],
   "source": []
  },
  {
   "cell_type": "code",
   "execution_count": null,
   "metadata": {},
   "outputs": [],
   "source": []
  },
  {
   "cell_type": "code",
   "execution_count": null,
   "metadata": {},
   "outputs": [],
   "source": []
  },
  {
   "cell_type": "code",
   "execution_count": null,
   "metadata": {},
   "outputs": [],
   "source": []
  },
  {
   "cell_type": "markdown",
   "metadata": {},
   "source": [
    "#### 형제 태그 찾기2 :  .previous_sibling, .previous_siblings"
   ]
  },
  {
   "cell_type": "code",
   "execution_count": null,
   "metadata": {},
   "outputs": [],
   "source": []
  },
  {
   "cell_type": "code",
   "execution_count": null,
   "metadata": {},
   "outputs": [],
   "source": []
  },
  {
   "cell_type": "markdown",
   "metadata": {},
   "source": [
    "#### 부모 태그 찾기 : **.parent**,  **.parents**"
   ]
  },
  {
   "cell_type": "code",
   "execution_count": null,
   "metadata": {
    "scrolled": true
   },
   "outputs": [],
   "source": []
  },
  {
   "cell_type": "code",
   "execution_count": null,
   "metadata": {},
   "outputs": [],
   "source": []
  },
  {
   "cell_type": "code",
   "execution_count": null,
   "metadata": {},
   "outputs": [],
   "source": []
  },
  {
   "cell_type": "markdown",
   "metadata": {},
   "source": [
    "### 다음/이전 태그 찾기 \n",
    "\n",
    "- find_all_next(name, attrs, string, limit, **kwargs)\n",
    "- find_next(name, attrs, string, **kwargs)\n",
    "- find_all_previous(name, attrs, string, limit, **kwargs)\n",
    "- find_previous(name, attrs, string, **kwargs"
   ]
  },
  {
   "cell_type": "markdown",
   "metadata": {},
   "source": [
    "###  태그의 속성값 추출하기\n",
    "\n",
    "- a 태그의 href 속성"
   ]
  },
  {
   "cell_type": "code",
   "execution_count": null,
   "metadata": {},
   "outputs": [],
   "source": [
    "html_str = \"\"\"\n",
    "<html>\n",
    "    <body>\n",
    "        <ul class=\"ko\">\n",
    "            <li><a href=\"https://www.naver.com/\">네이버</a></li>\n",
    "            <li><a href=\"https://www.daum.net/\">다음</a></li>\n",
    "        </ul>\n",
    "        <ul class=\"sns\">\n",
    "            <li><a href=\"https://www.goole.com/\">구글</a></li>\n",
    "            <li><a href=\"https://www.facebook.net/\">페이스북</a></li>\n",
    "        </ul>\n",
    "    </body>\n",
    "</html>\n",
    "\"\"\""
   ]
  },
  {
   "cell_type": "code",
   "execution_count": null,
   "metadata": {},
   "outputs": [],
   "source": []
  },
  {
   "cell_type": "code",
   "execution_count": null,
   "metadata": {},
   "outputs": [],
   "source": []
  },
  {
   "cell_type": "code",
   "execution_count": null,
   "metadata": {},
   "outputs": [],
   "source": []
  },
  {
   "cell_type": "code",
   "execution_count": null,
   "metadata": {},
   "outputs": [],
   "source": []
  },
  {
   "cell_type": "code",
   "execution_count": null,
   "metadata": {},
   "outputs": [],
   "source": []
  },
  {
   "cell_type": "code",
   "execution_count": null,
   "metadata": {},
   "outputs": [],
   "source": []
  },
  {
   "cell_type": "markdown",
   "metadata": {},
   "source": [
    "### select() 메서드를 사용하여 찾기"
   ]
  },
  {
   "cell_type": "code",
   "execution_count": null,
   "metadata": {},
   "outputs": [],
   "source": [
    "html_str = \"\"\"\n",
    "<html>\n",
    "   <body>\n",
    "        <div id=\"wrap\">\n",
    "            <div id=\"mainMenuBox\">\n",
    "                <ul>  \n",
    "                    <li><a href=\"#\">패션잡화</a></li>    \n",
    "                    <li><a href=\"#\">주방용품</a></li>         \n",
    "                    <li><a href=\"#\">생활건강</a></li>\n",
    "                    <li><a href=\"#\">DIY가구</a></li>\n",
    "                </ul>\n",
    "            </div>\n",
    "            <div>\n",
    "                <table>\n",
    "                    <tr>\n",
    "                        <td><img src=\"shoes1.jpg\"></td>\n",
    "                        <td><img src=\"shoes2.jpg\"></td>\n",
    "                        <td><img src=\"shoes3.jpg\"></td></tr>\n",
    "                    <tr id=\"prdName\">\n",
    "                        <td>솔로이스트<br>걸리쉬 리본단화</td>\n",
    "                        <td>맥컬린<br>그레이가보시스트랩 펌프스</td>\n",
    "                        <td>맥컬린<br>섹슈얼인사이드펌프스</td></tr>\n",
    "                    <tr id=\"price\">\n",
    "                        <td>100,000원</td><td>200,000원</td><td>120,000원</td></tr>\n",
    "                </table>\n",
    "            </div>\n",
    "            <div id=\"out_box\">\n",
    "                <div class=\"box\">\n",
    "                    <h4>공지사항</h4>\n",
    "                    <hr>\n",
    "                    <a href=\"#\">[배송] : 무표배송 변경 안내 18.10.20</a><br>\n",
    "                    <a href=\"#\">[전시] : DIY 가구 전시 안내 18.10.31</a><br>\n",
    "                    <a href=\"#\">[판매] : 11월 특가 상품 안내 18.11.05</a>                               \n",
    "                </div>\n",
    "                <div class=\"box\">\n",
    "                    <h4>커뮤니티</h4>\n",
    "                    <hr>\n",
    "                    <a href=\"#\">[레시피] : 살 안찌는 야식 만들기</a><br>\n",
    "                    <a href=\"#\">[가구] : 헌집 새집 베스트 가구</a><br>\n",
    "                    <a href=\"#\">[후기] : 배송이 잘못 됐어요 ㅠㅠ</a><br>\n",
    "                 </div>\n",
    "            </div>            \n",
    "        </div>\n",
    "    </body>\n",
    "</html>\"\"\""
   ]
  },
  {
   "cell_type": "code",
   "execution_count": null,
   "metadata": {},
   "outputs": [],
   "source": []
  },
  {
   "cell_type": "markdown",
   "metadata": {},
   "source": [
    "- select(태그명[속성])"
   ]
  },
  {
   "cell_type": "code",
   "execution_count": null,
   "metadata": {},
   "outputs": [],
   "source": []
  },
  {
   "cell_type": "markdown",
   "metadata": {},
   "source": [
    "- select(아이디선택자)"
   ]
  },
  {
   "cell_type": "code",
   "execution_count": null,
   "metadata": {},
   "outputs": [],
   "source": []
  },
  {
   "cell_type": "code",
   "execution_count": null,
   "metadata": {},
   "outputs": [],
   "source": []
  },
  {
   "cell_type": "markdown",
   "metadata": {},
   "source": [
    "- select(클래스선택자)"
   ]
  },
  {
   "cell_type": "code",
   "execution_count": null,
   "metadata": {},
   "outputs": [],
   "source": []
  },
  {
   "cell_type": "code",
   "execution_count": null,
   "metadata": {},
   "outputs": [],
   "source": []
  },
  {
   "cell_type": "code",
   "execution_count": null,
   "metadata": {},
   "outputs": [],
   "source": []
  },
  {
   "cell_type": "code",
   "execution_count": null,
   "metadata": {},
   "outputs": [],
   "source": []
  },
  {
   "cell_type": "code",
   "execution_count": null,
   "metadata": {},
   "outputs": [],
   "source": []
  },
  {
   "cell_type": "markdown",
   "metadata": {},
   "source": [
    "-----"
   ]
  },
  {
   "cell_type": "markdown",
   "metadata": {
    "jp-MarkdownHeadingCollapsed": true
   },
   "source": [
    "#### [정리] 크롤링 단계\n",
    "\n",
    "1. 크롤링하려는 HTML 페이지의 구조와 코드 살펴보기\n",
    "    - F12 (개발자도구) : URL주소, 태그 확인\n",
    "2. 문서 내용 읽어오기 : \n",
    "    - html = urllib.request.urlopen(URL주소).read()\n",
    "3. 원하는 내용 추출하기(parsing)\n",
    "    - soup = bs4.BeautifulSoup(html, 'html.parser')\n",
    "    - soup.find_all(찾아낼태그)"
   ]
  },
  {
   "cell_type": "markdown",
   "metadata": {},
   "source": [
    "----"
   ]
  }
 ],
 "metadata": {
  "kernelspec": {
   "display_name": "Python 3 (ipykernel)",
   "language": "python",
   "name": "python3"
  },
  "language_info": {
   "codemirror_mode": {
    "name": "ipython",
    "version": 3
   },
   "file_extension": ".py",
   "mimetype": "text/x-python",
   "name": "python",
   "nbconvert_exporter": "python",
   "pygments_lexer": "ipython3",
   "version": "3.11.7"
  }
 },
 "nbformat": 4,
 "nbformat_minor": 4
}
