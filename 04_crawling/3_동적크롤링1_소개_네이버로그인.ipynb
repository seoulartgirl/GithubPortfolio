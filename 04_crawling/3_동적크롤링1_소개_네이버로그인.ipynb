{
 "cells": [
  {
   "cell_type": "markdown",
   "metadata": {},
   "source": [
    "# selenium을 이용한 동적크롤링"
   ]
  },
  {
   "cell_type": "markdown",
   "metadata": {},
   "source": [
    "### 웹페이지 크롤링 프로세스"
   ]
  },
  {
   "cell_type": "markdown",
   "metadata": {},
   "source": [
    "1. 크롤링하려는 웹사이트 접속\n",
    "2. 분석하려는 페이지를 찾고, 페이지 분석을 통해 어떤 태그와 속성이 사용되었는지 파악\n",
    "3. 파이썬을 이용해 필요 데이터 추출\n",
    "4. 추출한 데이터를 기반으로 분석 진행"
   ]
  },
  {
   "cell_type": "code",
   "execution_count": 1,
   "metadata": {},
   "outputs": [],
   "source": [
    "# import numpy as np\n",
    "import pandas as pd\n",
    "from bs4 import BeautifulSoup"
   ]
  },
  {
   "cell_type": "markdown",
   "metadata": {},
   "source": [
    "## #1.selenium 소개"
   ]
  },
  {
   "cell_type": "markdown",
   "metadata": {},
   "source": [
    "- https://www.selenium.dev/\n",
    "- 주로 웹앱을 테스트하는데 이용하는 프레임워크\n",
    "    - 웹 애플리케이션이 특정 브라우저에 잘 작동하는지 확인하기 위해 사용\n",
    "    \n",
    "    \n",
    "- 웹브라우저 이용하는 자동화 프로그램\n",
    "- 웹브라우저를 이용하여 할 수 있는 행동들을 코드로 작성하여 selenium이 이 코드를 웹브라우저에 전달하여 실행"
   ]
  },
  {
   "cell_type": "markdown",
   "metadata": {},
   "source": [
    "- **webdriver**라는 API를 통해 운영체제에 설치된 Chrome등의 **브라우저를 제어**함\n",
    "    - 브라우저를 직접 동작시킨다는 것은 JavaScript를 이용해 비동기적으로 혹은 뒤늦게 불러와지는 컨텐츠들을 가져올 수 있다는 것. 즉, '눈에 보이는' 컨텐츠라면 모두 가져올 수 있다는 뜻\n",
    "    - requests모듈에서 요청은 브라우저에서 '소스보기'를 한 것과 같이 동작하여, JS등을 통해 동적으로 DOM이 변화한 이후의 HTML을 보여주지 않으나\n",
    "    - Selenium은 실제 웹 브라우저가 동작하기 때문에 JS로 렌더링이 완료된 후의 DOM결과물에 접근이 가능함\n",
    "\n",
    "- 웹 브라우저를 제어하는 함수(webdriver)를 포함한 패키지\n",
    "- 서드파티 라이브러리"
   ]
  },
  {
   "cell_type": "markdown",
   "metadata": {},
   "source": [
    "### selenium 설치"
   ]
  },
  {
   "cell_type": "code",
   "execution_count": 2,
   "metadata": {
    "scrolled": true
   },
   "outputs": [
    {
     "name": "stdout",
     "output_type": "stream",
     "text": [
      "Requirement already satisfied: selenium in /opt/anaconda3/lib/python3.11/site-packages (3.141.0)\n",
      "Requirement already satisfied: urllib3 in /opt/anaconda3/lib/python3.11/site-packages (from selenium) (2.0.3)\n"
     ]
    }
   ],
   "source": [
    "!pip install selenium "
   ]
  },
  {
   "cell_type": "code",
   "execution_count": 6,
   "metadata": {
    "scrolled": true
   },
   "outputs": [
    {
     "data": {
      "text/plain": [
       "'3.141.0'"
      ]
     },
     "execution_count": 6,
     "metadata": {},
     "output_type": "execute_result"
    }
   ],
   "source": [
    "import selenium\n",
    "selenium.__version__"
   ]
  },
  {
   "cell_type": "code",
   "execution_count": 5,
   "metadata": {},
   "outputs": [
    {
     "name": "stdout",
     "output_type": "stream",
     "text": [
      "Requirement already satisfied: selenium in /opt/anaconda3/lib/python3.11/site-packages (3.141.0)\n",
      "Collecting selenium\n",
      "  Downloading selenium-4.18.1-py3-none-any.whl.metadata (6.9 kB)\n",
      "Requirement already satisfied: urllib3<3,>=1.26 in /opt/anaconda3/lib/python3.11/site-packages (from urllib3[socks]<3,>=1.26->selenium) (2.0.3)\n",
      "Collecting trio~=0.17 (from selenium)\n",
      "  Downloading trio-0.24.0-py3-none-any.whl.metadata (4.9 kB)\n",
      "Collecting trio-websocket~=0.9 (from selenium)\n",
      "  Downloading trio_websocket-0.11.1-py3-none-any.whl.metadata (4.7 kB)\n",
      "Requirement already satisfied: certifi>=2021.10.8 in /opt/anaconda3/lib/python3.11/site-packages (from selenium) (2024.2.2)\n",
      "Requirement already satisfied: typing_extensions>=4.9.0 in /opt/anaconda3/lib/python3.11/site-packages (from selenium) (4.9.0)\n",
      "Requirement already satisfied: attrs>=20.1.0 in /opt/anaconda3/lib/python3.11/site-packages (from trio~=0.17->selenium) (23.1.0)\n",
      "Requirement already satisfied: sortedcontainers in /opt/anaconda3/lib/python3.11/site-packages (from trio~=0.17->selenium) (2.4.0)\n",
      "Requirement already satisfied: idna in /opt/anaconda3/lib/python3.11/site-packages (from trio~=0.17->selenium) (3.4)\n",
      "Collecting outcome (from trio~=0.17->selenium)\n",
      "  Downloading outcome-1.3.0.post0-py2.py3-none-any.whl.metadata (2.6 kB)\n",
      "Requirement already satisfied: sniffio>=1.3.0 in /opt/anaconda3/lib/python3.11/site-packages (from trio~=0.17->selenium) (1.3.0)\n",
      "Collecting wsproto>=0.14 (from trio-websocket~=0.9->selenium)\n",
      "  Downloading wsproto-1.2.0-py3-none-any.whl.metadata (5.6 kB)\n",
      "Requirement already satisfied: pysocks!=1.5.7,<2.0,>=1.5.6 in /opt/anaconda3/lib/python3.11/site-packages (from urllib3[socks]<3,>=1.26->selenium) (1.7.1)\n",
      "Collecting h11<1,>=0.9.0 (from wsproto>=0.14->trio-websocket~=0.9->selenium)\n",
      "  Downloading h11-0.14.0-py3-none-any.whl.metadata (8.2 kB)\n",
      "Downloading selenium-4.18.1-py3-none-any.whl (10.0 MB)\n",
      "\u001b[2K   \u001b[90m━━━━━━━━━━━━━━━━━━━━━━━━━━━━━━━━━━━━━━━━\u001b[0m \u001b[32m10.0/10.0 MB\u001b[0m \u001b[31m11.3 MB/s\u001b[0m eta \u001b[36m0:00:00\u001b[0m \u001b[36m0:00:01\u001b[0m\n",
      "\u001b[?25hDownloading trio-0.24.0-py3-none-any.whl (460 kB)\n",
      "\u001b[2K   \u001b[90m━━━━━━━━━━━━━━━━━━━━━━━━━━━━━━━━━━━━━━━━\u001b[0m \u001b[32m460.2/460.2 kB\u001b[0m \u001b[31m9.3 MB/s\u001b[0m eta \u001b[36m0:00:00\u001b[0m:00:01\u001b[0m\n",
      "\u001b[?25hDownloading trio_websocket-0.11.1-py3-none-any.whl (17 kB)\n",
      "Downloading wsproto-1.2.0-py3-none-any.whl (24 kB)\n",
      "Downloading outcome-1.3.0.post0-py2.py3-none-any.whl (10 kB)\n",
      "Downloading h11-0.14.0-py3-none-any.whl (58 kB)\n",
      "\u001b[2K   \u001b[90m━━━━━━━━━━━━━━━━━━━━━━━━━━━━━━━━━━━━━━━━\u001b[0m \u001b[32m58.3/58.3 kB\u001b[0m \u001b[31m9.1 MB/s\u001b[0m eta \u001b[36m0:00:00\u001b[0m\n",
      "\u001b[?25hInstalling collected packages: outcome, h11, wsproto, trio, trio-websocket, selenium\n",
      "  Attempting uninstall: selenium\n",
      "    Found existing installation: selenium 3.141.0\n",
      "    Uninstalling selenium-3.141.0:\n",
      "      Successfully uninstalled selenium-3.141.0\n",
      "Successfully installed h11-0.14.0 outcome-1.3.0.post0 selenium-4.18.1 trio-0.24.0 trio-websocket-0.11.1 wsproto-1.2.0\n"
     ]
    }
   ],
   "source": [
    "!pip install selenium --upgrade"
   ]
  },
  {
   "cell_type": "markdown",
   "metadata": {},
   "source": [
    "-----"
   ]
  },
  {
   "cell_type": "markdown",
   "metadata": {},
   "source": [
    "### WebDriver Manager 설치\n",
    "\n",
    "브라우저에 맞는 WebDriver를 자동으로 다운로드 받고 설치하기 위한 WebDriver Manager"
   ]
  },
  {
   "cell_type": "code",
   "execution_count": 7,
   "metadata": {},
   "outputs": [
    {
     "name": "stdout",
     "output_type": "stream",
     "text": [
      "Collecting webdriver-manager\n",
      "  Downloading webdriver_manager-4.0.1-py2.py3-none-any.whl.metadata (12 kB)\n",
      "Requirement already satisfied: requests in /opt/anaconda3/lib/python3.11/site-packages (from webdriver-manager) (2.31.0)\n",
      "Requirement already satisfied: python-dotenv in /opt/anaconda3/lib/python3.11/site-packages (from webdriver-manager) (0.21.0)\n",
      "Requirement already satisfied: packaging in /opt/anaconda3/lib/python3.11/site-packages (from webdriver-manager) (23.1)\n",
      "Requirement already satisfied: charset-normalizer<4,>=2 in /opt/anaconda3/lib/python3.11/site-packages (from requests->webdriver-manager) (2.0.4)\n",
      "Requirement already satisfied: idna<4,>=2.5 in /opt/anaconda3/lib/python3.11/site-packages (from requests->webdriver-manager) (3.4)\n",
      "Requirement already satisfied: urllib3<3,>=1.21.1 in /opt/anaconda3/lib/python3.11/site-packages (from requests->webdriver-manager) (2.0.3)\n",
      "Requirement already satisfied: certifi>=2017.4.17 in /opt/anaconda3/lib/python3.11/site-packages (from requests->webdriver-manager) (2024.2.2)\n",
      "Downloading webdriver_manager-4.0.1-py2.py3-none-any.whl (27 kB)\n",
      "Installing collected packages: webdriver-manager\n",
      "Successfully installed webdriver-manager-4.0.1\n"
     ]
    }
   ],
   "source": [
    "!pip install webdriver-manager"
   ]
  },
  {
   "cell_type": "markdown",
   "metadata": {},
   "source": [
    "### WebDriver Manager와 webdriver모듈 임포트\n",
    "\n",
    "- [WebDriver Manager for Python](https://github.com/SergeyPirogov/webdriver_manager)"
   ]
  },
  {
   "cell_type": "code",
   "execution_count": 8,
   "metadata": {},
   "outputs": [],
   "source": [
    "from selenium import webdriver\n",
    "from selenium.webdriver.chrome.service import Service as ChromeService\n",
    "from webdriver_manager.chrome import ChromeDriverManager\n",
    "from selenium.webdriver.common.by import By"
   ]
  },
  {
   "cell_type": "markdown",
   "metadata": {},
   "source": [
    "- 크롬브라우저에 맞는 webdriver 설치"
   ]
  },
  {
   "cell_type": "code",
   "execution_count": 9,
   "metadata": {},
   "outputs": [],
   "source": [
    "service = ChromeService(executable_path=ChromeDriverManager().install())"
   ]
  },
  {
   "cell_type": "markdown",
   "metadata": {},
   "source": [
    "---"
   ]
  },
  {
   "cell_type": "markdown",
   "metadata": {},
   "source": [
    "### selenium 관련 함수"
   ]
  },
  {
   "cell_type": "markdown",
   "metadata": {},
   "source": [
    "- Webdriver 객체 생성\n",
    "    * driver = webdriver.Chrome(드라이버경로)\n",
    "\n",
    "\n",
    "- url에 접근하는 메서드\n",
    "    * get(url)\n",
    "    \n",
    "    \n",
    "- 웹페이지 단일 element에 접근하는 메서드\n",
    "    * find_element(By.TAG_NAME, 'tag_name')\n",
    "    * find_element(By.ID, 'id_name')\n",
    "    * find_element(By.CLASS_NAME, 'class_name')\n",
    "    * find_element(By.CSS_SELECTOR, 'selector')\n",
    "    * find_element(By.XPATH('xpath경로') : 스크립트 실행 경로를 찾아 접근\n",
    "\n",
    "    \n",
    "- 페이지의 여러 element에 접근하는 메서드\n",
    "    * find_elements(By.TAG_NAME, 'tag_name')\n",
    "    * find_elements(By.ID, 'id_name')\n",
    "    * find_elements(By.CLASS_NAME, 'class_name')\n",
    "    * find_elements(By.CSS_SELECTOR, 'selector')\n",
    "    * find_elements(By.XPATH('xpath경로')    "
   ]
  },
  {
   "cell_type": "markdown",
   "metadata": {},
   "source": [
    "- By 모듈의 tag, css, xpath 찾는 기준    "
   ]
  },
  {
   "attachments": {
    "image.png": {
     "image/png": "[encoded data removed]"
    }
   },
   "cell_type": "markdown",
   "metadata": {},
   "source": [
    "![image.png](attachment:image.png)"
   ]
  },
  {
   "cell_type": "markdown",
   "metadata": {},
   "source": [
    "- 자바스크립트 문장 실행\n",
    "    * execute_script('자바스크립트')"
   ]
  },
  {
   "cell_type": "markdown",
   "metadata": {},
   "source": [
    "- 접근한 페이지 source 추출\n",
    "    * html=diver.page_source\n"
   ]
  },
  {
   "cell_type": "markdown",
   "metadata": {},
   "source": [
    "- 찾은 element에 적용하는 행동 함수들\n",
    "    * 마우스 click() \n",
    "    * 키보드 send_keys() \n"
   ]
  },
  {
   "cell_type": "markdown",
   "metadata": {},
   "source": [
    "- 드라이버 종료\n",
    "    * close()"
   ]
  },
  {
   "cell_type": "markdown",
   "metadata": {},
   "source": [
    "## #2. Selenium 사용하기"
   ]
  },
  {
   "cell_type": "markdown",
   "metadata": {},
   "source": [
    "### 1. 브라우저에 맞는 웹드라이버 객체 생성"
   ]
  },
  {
   "cell_type": "code",
   "execution_count": 10,
   "metadata": {
    "scrolled": true
   },
   "outputs": [],
   "source": [
    "#webdriver 객체 생성\n",
    "driver = webdriver.Chrome(service=service)"
   ]
  },
  {
   "cell_type": "markdown",
   "metadata": {},
   "source": [
    "webdriver가 실행되면 빈페이지가 생성 => 이 빈페이지에서 동적으로 웹페이지를 불러올것임"
   ]
  },
  {
   "cell_type": "code",
   "execution_count": 11,
   "metadata": {},
   "outputs": [],
   "source": [
    "#web페이지가 로드될 때까지 3초 기다림을 지정\n",
    "driver.implicitly_wait(3)"
   ]
  },
  {
   "cell_type": "markdown",
   "metadata": {},
   "source": [
    "### 2. 네이버 로그인 페이지 접속"
   ]
  },
  {
   "cell_type": "code",
   "execution_count": 12,
   "metadata": {},
   "outputs": [],
   "source": [
    "#네이버 로그인 페이지 접근\n",
    "url = 'https://nid.naver.com/nidlogin.login'\n",
    "driver.get(url)"
   ]
  },
  {
   "cell_type": "code",
   "execution_count": 13,
   "metadata": {},
   "outputs": [
    {
     "data": {
      "text/plain": [
       "True"
      ]
     },
     "execution_count": 13,
     "metadata": {},
     "output_type": "execute_result"
    }
   ],
   "source": [
    "#화면 캡쳐\n",
    "driver.save_screenshot('crawl_data/sshot1.png')"
   ]
  },
  {
   "cell_type": "markdown",
   "metadata": {},
   "source": [
    "### 3. 동적 로그인 진행"
   ]
  },
  {
   "cell_type": "markdown",
   "metadata": {},
   "source": [
    "#### 로그인 아이디 정보 전달"
   ]
  },
  {
   "cell_type": "code",
   "execution_count": 15,
   "metadata": {},
   "outputs": [],
   "source": [
    "id_elem = driver.find_element('id', 'id')\n",
    "id_elem.clear()\n",
    "id_elem.send_keys('crystal9807')"
   ]
  },
  {
   "cell_type": "markdown",
   "metadata": {},
   "source": [
    "#### 로그인 비밀번호 전달"
   ]
  },
  {
   "cell_type": "code",
   "execution_count": 16,
   "metadata": {},
   "outputs": [],
   "source": [
    "pw_elem = driver.find_element('id', 'pw')\n",
    "pw_elem.clear()\n",
    "pw_elem.send_keys('Na0319na?!')"
   ]
  },
  {
   "cell_type": "markdown",
   "metadata": {},
   "source": [
    "#### XPath를이용하여 버튼 클릭 위치 지정하고 로그인 버튼 클릭\n",
    "\n",
    "##### XPath\n",
    "- XML Path Language\n",
    "- https://ko.wikipedia.org/wiki/XPath\n",
    "- W3C의 표준으로 확장 생성 언어 문서의 구조를 통해 경로 위에 지정한 구문을 사용하여 항목을 배치하고 처리하는 방법을 기술하는 언어\n",
    "- XML 문서의 노드를 정의하기 위하여 경로식을 사용\n",
    "- 웹페이지 내용을 XML 형식으로 보여줌\n",
    "- 접근 가능한 위치 정보를 확인할 수 있음"
   ]
  },
  {
   "cell_type": "code",
   "execution_count": 17,
   "metadata": {},
   "outputs": [],
   "source": [
    "xpath = '//*[@id=\"log.login\"]'\n",
    "driver.find_element(By.XPATH, xpath).click()"
   ]
  },
  {
   "cell_type": "code",
   "execution_count": 50,
   "metadata": {},
   "outputs": [],
   "source": [
    "#driver.close()"
   ]
  },
  {
   "cell_type": "markdown",
   "metadata": {
    "jp-MarkdownHeadingCollapsed": true
   },
   "source": [
    "##### => 자동입력 방지 문자가 나타남\n",
    "- send_keys() 함수 사용 - 봇으로 인식"
   ]
  },
  {
   "cell_type": "markdown",
   "metadata": {},
   "source": [
    "### 자동입력 방지 문자 우회하여 로그인 진행 방법\n",
    "\n",
    "- 자동입력 방지 문자 우회하기 위해\n",
    "- 브라우저 종료 후 다시 접속\n",
    "- send_keys() 함수 대신에 직접 id/pass값을 대입하는 script 코드를 작성 후 webdriver 통해 실행"
   ]
  },
  {
   "cell_type": "code",
   "execution_count": 46,
   "metadata": {},
   "outputs": [],
   "source": [
    "driver = webdriver.Chrome(service=service)\n",
    "url = 'https://nid.naver.com/nidlogin.login'\n",
    "driver.get(url)"
   ]
  },
  {
   "cell_type": "markdown",
   "metadata": {},
   "source": [
    "#### webdriver 통해 script 코드 직접 실행하여 로그인\n",
    "- **driver.execute_script()** 함수 - driver로 script 코드를 직접 실행"
   ]
  },
  {
   "cell_type": "code",
   "execution_count": 47,
   "metadata": {},
   "outputs": [],
   "source": [
    "id_input = 'crystal9807'\n",
    "pw_input = 'Na0319na?!'\n",
    "\n",
    "id_script = \"document.getElementsByName('id')[0].value = \" + \"\\'\" + id_input + \"\\'\"\n",
    "pw_script = \"document.getElementsByName('pw')[0].value = \" + \"\\'\" + pw_input + \"\\'\""
   ]
  },
  {
   "cell_type": "code",
   "execution_count": 48,
   "metadata": {},
   "outputs": [],
   "source": [
    "#스크립트 실행(아이디와 비번입력)\n",
    "driver.execute_script(id_script)\n",
    "driver.execute_script(pw_script)"
   ]
  },
  {
   "cell_type": "code",
   "execution_count": 49,
   "metadata": {},
   "outputs": [],
   "source": [
    "#로그인버튼 클릭\n",
    "xpath = '//*[@id=\"log.login\"]'\n",
    "driver.find_element(By.XPATH, xpath).click()"
   ]
  },
  {
   "cell_type": "markdown",
   "metadata": {},
   "source": [
    "#### 메일 보낸이와 메일제목 추출"
   ]
  },
  {
   "cell_type": "code",
   "execution_count": 51,
   "metadata": {},
   "outputs": [],
   "source": [
    "#메일 페이지로 이동\n",
    "driver.get('https://mail.naver.com')"
   ]
  },
  {
   "cell_type": "code",
   "execution_count": 53,
   "metadata": {},
   "outputs": [],
   "source": [
    "html = driver.page_source\n",
    "soup = BeautifulSoup(html, 'html.parser')\n",
    "#soup"
   ]
  },
  {
   "cell_type": "markdown",
   "metadata": {},
   "source": [
    "- 보낸 사람과 메일 제목 추출"
   ]
  },
  {
   "cell_type": "code",
   "execution_count": 81,
   "metadata": {},
   "outputs": [
    {
     "data": {
      "text/plain": [
       "'Re: [무신사] 퇴직자 경력 증명서 요청_문수정'"
      ]
     },
     "execution_count": 81,
     "metadata": {},
     "output_type": "execute_result"
    }
   ],
   "source": [
    "soup.select('div.mail_title span.text')[0].text"
   ]
  },
  {
   "cell_type": "code",
   "execution_count": 82,
   "metadata": {},
   "outputs": [
    {
     "data": {
      "text/plain": [
       "'권지희'"
      ]
     },
     "execution_count": 82,
     "metadata": {},
     "output_type": "execute_result"
    }
   ],
   "source": [
    "soup.select('div.mail_sender button.button_sender')[0].text.replace('보낸 사람', '')"
   ]
  },
  {
   "cell_type": "code",
   "execution_count": 84,
   "metadata": {},
   "outputs": [
    {
     "data": {
      "text/html": [
       "<div>\n",
       "<style scoped>\n",
       "    .dataframe tbody tr th:only-of-type {\n",
       "        vertical-align: middle;\n",
       "    }\n",
       "\n",
       "    .dataframe tbody tr th {\n",
       "        vertical-align: top;\n",
       "    }\n",
       "\n",
       "    .dataframe thead th {\n",
       "        text-align: right;\n",
       "    }\n",
       "</style>\n",
       "<table border=\"1\" class=\"dataframe\">\n",
       "  <thead>\n",
       "    <tr style=\"text-align: right;\">\n",
       "      <th></th>\n",
       "      <th>보낸사람</th>\n",
       "      <th>메일제목</th>\n",
       "    </tr>\n",
       "  </thead>\n",
       "  <tbody>\n",
       "    <tr>\n",
       "      <th>0</th>\n",
       "      <td>권지희</td>\n",
       "      <td>Re: [무신사] 퇴직자 경력 증명서 요청_문수정</td>\n",
       "    </tr>\n",
       "    <tr>\n",
       "      <th>1</th>\n",
       "      <td>무신사 인사팀</td>\n",
       "      <td>[무신사] 퇴직자 경력증명서 발급 요청</td>\n",
       "    </tr>\n",
       "    <tr>\n",
       "      <th>2</th>\n",
       "      <td>월드잡플러스</td>\n",
       "      <td>[월드잡플러스] 2024년 3월 해외취업아카데미(K-Learning) 참가자 모집 안내</td>\n",
       "    </tr>\n",
       "    <tr>\n",
       "      <th>3</th>\n",
       "      <td>Korean Air</td>\n",
       "      <td>[대한항공] 스카이패스 서비스 중단 안내</td>\n",
       "    </tr>\n",
       "    <tr>\n",
       "      <th>4</th>\n",
       "      <td>사람인 | 기업연구소</td>\n",
       "      <td>문수정님, (주)무신사에서 새로운 채용이 시작됐어요!</td>\n",
       "    </tr>\n",
       "    <tr>\n",
       "      <th>...</th>\n",
       "      <td>...</td>\n",
       "      <td>...</td>\n",
       "    </tr>\n",
       "    <tr>\n",
       "      <th>95</th>\n",
       "      <td>AliExpress</td>\n",
       "      <td>주문 8145946104361973이/가 완료되었습니다.</td>\n",
       "    </tr>\n",
       "    <tr>\n",
       "      <th>96</th>\n",
       "      <td>BenQ_svc@mediawill.com</td>\n",
       "      <td>벤큐 AS 서비스 접수</td>\n",
       "    </tr>\n",
       "    <tr>\n",
       "      <th>97</th>\n",
       "      <td>패스트캠퍼스</td>\n",
       "      <td>[패스트캠퍼스] 문수정님 결제하신 강의내역을 안내해드립니다.</td>\n",
       "    </tr>\n",
       "    <tr>\n",
       "      <th>98</th>\n",
       "      <td>롯데e커머스</td>\n",
       "      <td>롯데e커머스 비대면 면접 가이드 전달의 건</td>\n",
       "    </tr>\n",
       "    <tr>\n",
       "      <th>99</th>\n",
       "      <td>hyewon.kim01@lotte.net</td>\n",
       "      <td>[롯데e커머스] 1차 면접 및 인성진단 안내 드립니다.</td>\n",
       "    </tr>\n",
       "  </tbody>\n",
       "</table>\n",
       "<p>100 rows × 2 columns</p>\n",
       "</div>"
      ],
      "text/plain": [
       "                      보낸사람                                              메일제목\n",
       "0                      권지희                       Re: [무신사] 퇴직자 경력 증명서 요청_문수정\n",
       "1                  무신사 인사팀                             [무신사] 퇴직자 경력증명서 발급 요청\n",
       "2                   월드잡플러스  [월드잡플러스] 2024년 3월 해외취업아카데미(K-Learning) 참가자 모집 안내\n",
       "3               Korean Air                            [대한항공] 스카이패스 서비스 중단 안내\n",
       "4              사람인 | 기업연구소                     문수정님, (주)무신사에서 새로운 채용이 시작됐어요!\n",
       "..                     ...                                               ...\n",
       "95              AliExpress                   주문 8145946104361973이/가 완료되었습니다.\n",
       "96  BenQ_svc@mediawill.com                                      벤큐 AS 서비스 접수\n",
       "97                  패스트캠퍼스                 [패스트캠퍼스] 문수정님 결제하신 강의내역을 안내해드립니다.\n",
       "98                  롯데e커머스                           롯데e커머스 비대면 면접 가이드 전달의 건\n",
       "99  hyewon.kim01@lotte.net                    [롯데e커머스] 1차 면접 및 인성진단 안내 드립니다.\n",
       "\n",
       "[100 rows x 2 columns]"
      ]
     },
     "execution_count": 84,
     "metadata": {},
     "output_type": "execute_result"
    }
   ],
   "source": [
    "senders = soup.select('div.mail_sender button.button_sender')\n",
    "titles = soup.select('div.mail_title span.text')\n",
    "\n",
    "sender = []\n",
    "title = []\n",
    "    \n",
    "for tit in titles:\n",
    "    title.append(tit.text)\n",
    "    \n",
    "for i, send in enumerate(senders):\n",
    "    sender.append(senders[i].text.replace('보낸 사람', ''))\n",
    "    \n",
    "mail = {'보낸사람': sender, '메일제목': title}\n",
    "\n",
    "import pandas as pd\n",
    "mail_df = pd.DataFrame(mail)\n",
    "mail_df"
   ]
  },
  {
   "cell_type": "code",
   "execution_count": 76,
   "metadata": {},
   "outputs": [
    {
     "name": "stdout",
     "output_type": "stream",
     "text": [
      "보낸이:권지희, 제목:Re: [무신사] 퇴직자 경력 증명서 요청_문수정\n",
      "보낸이:무신사 인사팀, 제목:[무신사] 퇴직자 경력증명서 발급 요청\n",
      "보낸이:월드잡플러스, 제목:[월드잡플러스] 2024년 3월 해외취업아카데미(K-Learning) 참가자 모집 안내\n",
      "보낸이:Korean Air, 제목:[대한항공] 스카이패스 서비스 중단 안내\n",
      "보낸이:사람인 | 기업연구소, 제목:문수정님, (주)무신사에서 새로운 채용이 시작됐어요!\n",
      "보낸이:Klook.com, 제목:[Klook] 클룩 경기 광주 곤지암리조트 23/24 리프트권/렌탈PKG 예약 확정 안내 (본 메일을 잘 보관해주세요!)\n",
      "보낸이:채송화, 제목:[멀티캠퍼스] 입과안내_멀티잇 데이터 분석&서비스개발(Python) 7회차\n",
      "보낸이:send@dongyangbooks.co.kr, 제목:[동양북스] 임시비밀번호 발급 안내\n",
      "보낸이:BAND, 제목:[BAND] 장기 미접속자 계정 삭제 예정 안내\n",
      "보낸이:채송화, 제목:[멀티캠퍼스] 입과안내_멀티잇 데이터 분석&서비스개발(Python) 7회차\n",
      "보낸이:jeehyun97@hrdkorea.or.kr, 제목:[월드잡 플러스] STX SERVICE SINGAPORE PTE.LTD. 채용공고 추천\n",
      "보낸이:메디체크, 제목:한국건강관리협회에서문수정님의 검진하신 검진결과서가 발급되었습니다.\n",
      "보낸이:pes0626@nonghyup.com, 제목:국민내일배움카드 발급확인서.pdf\n",
      "보낸이:신한투자증권, 제목:[신한투자증권]오픈뱅킹 금융거래정보제공내역\n",
      "보낸이:문수정, 제목:인수인계자료\n",
      "보낸이:NH농협은행, 제목:'NH농협은행 상품가입서류\n",
      "보낸이:박현민, 제목:[멀티캠퍼스] K-Digital Training 선발결과 안내_멀티잇 데이터 분석&서비스개발(Python) 7회차\n",
      "보낸이:shyuncho@hrdkorea.or.kr, 제목:[월드잡플러스] 독일 취업 설명회 강의자료 송부\n",
      "보낸이:하나은행, 제목:퇴직연금 매수예정 상품 등록(변경) 완료 안내 (계속성)(DC,IRP)\n",
      "보낸이:no-reply@cbp.dhs.gov, 제목:ESTA Status Change\n",
      "보낸이:no-reply@cbp.dhs.gov, 제목:ESTA Status Change\n",
      "보낸이:No-reply-esta1@cbp.dhs.gov, 제목:ESTA Application Number\n",
      "보낸이:No-reply-esta1@cbp.dhs.gov, 제목:ESTA Application Number\n",
      "보낸이:장현정, 제목:RE: 인지치료 작업지\n",
      "보낸이:NH농협은행, 제목:[NH농협은행] 예금 상품가입서류 발송 안내\n",
      "보낸이:Klook.com, 제목:[Klook] 클룩 예약 취소 안내 - 서울 롯데월드 종합이용권 + After4 종합이용권 (문자로 바로 입장)\n",
      "보낸이:Klook.com, 제목:[Klook] 클룩 서울 롯데월드 종합이용권 + After4 종합이용권 (문자로 바로 입장) 예약 확정 안내 (본 메일을 잘 보관해주세요!)\n",
      "보낸이:Klook.com, 제목:[Klook] 클룩 예약내역 안내\n",
      "보낸이:Wise (formerly TransferWise), 제목:Welcome to Wise\n",
      "보낸이:Amazon Associates, 제목:Your application has been received!\n",
      "보낸이:정숙화, 제목:상하이.mp4\n",
      "보낸이:문수정, 제목:상하이.mp4\n",
      "보낸이:NH농협은행, 제목:[NH농협은행] 예금 상품가입서류 발송 안내\n",
      "보낸이:Klook.com, 제목:[Klook] 클룩 [프로모션] 상하이 디즈니랜드 티켓 예약 확정 안내 (본 메일을 잘 보관해주세요!)\n",
      "보낸이:문수정, 제목:토익 모의고사 문제.pdf\n",
      "보낸이:마케팅.취업지원실, 제목:[KAIST경영대학]2024학년도 MBA/Master 입학설명회(8/19(토)) 사전신청이 완료되었습니다.\n",
      "보낸이:hanintel@hanintel.com, 제목:[Hanintel.com] 문수정님, 장기 미이용 회원 휴면계정 전환 안내\n",
      "보낸이:정숙화, 제목:유림관리실.hwp\n",
      "보낸이:손혜림, 제목:[한국콘텐츠진흥원] 뉴콘텐츠아카데미 1기 교육생 및 프로젝트 팀 모집 안내\n",
      "보낸이:Sony Customer Station, 제목:고객님의 SCS 정품등록이 완료되었습니다.\n",
      "보낸이:Sony Customer Station, 제목:고객님의 SCS 사이트 회원가입을 축하드립니다.\n",
      "보낸이:Sony, 제목:소니 계정 만들기\n",
      "보낸이:kaistbs@gmail.com, 제목:2024학년도 MBA/Master 입학설명회 (8/19 (토), KAIST 서울캠퍼스)에 등록이 완료 되었습니다.\n",
      "보낸이:Apple, 제목:Subscription Confirmation\n",
      "보낸이:Canva, 제목:Your Canva account will be deleted in 14 days\n",
      "보낸이:Agoda Customer Service, 제목:[아고다] 예약 확정 (예약 번호: 976814484 | 체크인: 금요일, 08 9월 2023)\n",
      "보낸이:현대카드 PRIVIA, 제목:[현대카드 PRIVIA 항공] 항공 안내사항입니다.\n",
      "보낸이:현대카드 PRIVIA, 제목:[현대카드 PRIVIA 항공] 항공 예약내역입니다.\n",
      "보낸이:service@visaforchina.org, 제목:Chinese visa application service center appointment information\n",
      "보낸이:새로나스튜디오 평택, 제목:안녕하세요 새로나스튜디오입니다~!\n",
      "보낸이:문수정, 제목:농협 예금 계약서\n",
      "보낸이:NH농협은행, 제목:[NH농협은행] 예금 상품가입서류 발송 안내\n",
      "보낸이:네이버 전자문서, 제목:[국민연금공단] 가입내역안내서 확인하기 알림\n",
      "보낸이:Klook.com, 제목:[Klook] 클룩 오사카 유니버셜 스튜디오 재팬 티켓 예약 확정 안내 (본 메일을 잘 보관해주세요!)\n",
      "보낸이:Klook.com, 제목:[Klook] 클룩 일본 4G 포켓 WiFi (와이파이 도시락 / 인천, 김포 공항 수령) 예약 확정 안내 (본 메일을 잘 보관해주세요!)\n",
      "보낸이:MyRealTrip, 제목:예약 확정 - 오사카 사이코우칸 본점\n",
      "보낸이:투어비스, 제목:[투어비스] 전자항공권 발행 확인서(E-Ticket)입니다.\n",
      "보낸이:투어비스, 제목:[투어비스] 문수정 회원님의 국제선 항공권 예약 내역입니다.\n",
      "보낸이:국민건강보험공단, 제목:건강검진 결과통보서 \"박내과의원\"\n",
      "보낸이:나이스페이먼츠, 제목:문*정님, 나이스페이를 통해 취소하신 내역입니다.\n",
      "보낸이:배상엽, 제목:RE: 1900 프론트화목 문수정 (스토리보드)\n",
      "보낸이:webmaster@lotte.net, 제목:롯데제과 고객의 소리 인증 메일입니다.\n",
      "보낸이:백범진, 제목:수정님! 프론트엔드1/평일 02.13 10회차 녹화본 송부합니다!\n",
      "보낸이:장연주, 제목:캘리포니아 드림을 위하여: 프론트엔드 기초(HTML/CSS)\n",
      "보낸이:백범진, 제목:안녕하세요 수정님 프론트엔드 1 1,2회차 녹화본 송부합니다 감사합니다!\n",
      "보낸이:문수정, 제목:건축물 대장.pdf\n",
      "보낸이:김인회, 제목:[무신사] 신입 MD 출근 장소 및 시간 안내드립니다.\n",
      "보낸이:kaistbs@gmail.com, 제목:2023학년도 경영공학부 석박사과정 입학설명회(4/28 & 5/27)_설문에 등록이 완료 되었습니다.\n",
      "보낸이:KAIST 경영공학부 마케팅취업지원실, 제목:[안내] KAIST 경영공학부 석박사과정 온라인 입학설명회 (4.28) 설문 (~5/1)\n",
      "보낸이:김인회, 제목:Re: 근무지 관련 문의\n",
      "보낸이:경영공학부 마케팅취업지원실, 제목:(안내) 2023학년도 KAIST 경영공학부 석박사과정 온라인 입학설명회 초대 링크 발송_4/28(목) 16:30\n",
      "보낸이:경영공학부 마케팅취업지원실, 제목:(안내) 2023학년도 KAIST 경영공학부 석박사과정 온라인 입학설명회 초대 링크 발송_4/28(목) 16:30\n",
      "보낸이:recruit+md@musinsa.com, 제목:신입MD 회신요청사항_문수정\n",
      "보낸이:인사팀, 제목:[무신사] 신입 MD 공채 결과 안내드립니다.\n",
      "보낸이:kaistbs@gmail.com, 제목:2023학년도 경영공학부 석·박사과정 입학설명회(4/28 & 5/27)에 등록이 완료 되었습니다.\n",
      "보낸이:패스트캠퍼스, 제목:[패스트캠퍼스] 문수정님 결제하신 강의내역을 안내해드립니다.\n",
      "보낸이:패스트캠퍼스, 제목:[패스트캠퍼스] 문수정님 수강 신청 정보 안내드립니다.\n",
      "보낸이:인사팀, 제목:[무신사] 신입MD 면접 일정 안내드립니다.\n",
      "보낸이:recruit+md@musinsa.com, 제목:신입MD_사전과제_문수정.pdf\n",
      "보낸이:인사팀, 제목:[무신사] MD 신입 공채 사전과제 관련 문의\n",
      "보낸이:인사팀, 제목:[추가안내][무신사] MD 신입 공채 서류 전형 결과 안내드립니다.\n",
      "보낸이:패스트캠퍼스, 제목:[패스트캠퍼스] 문수정님 결제하신 강의내역을 안내해드립니다.\n",
      "보낸이:Apple Volume Licensing, 제목:Your Apple License Agreement for SO# 3606879673***DO NOT REPLY***\n",
      "보낸이:Apple Volume Licensing, 제목:Your Apple License Content Code for SO# 3606879673***DO NOT REPLY***\n",
      "보낸이:무신사, 제목:[무신사] 문수정님 [신입] MD 모집 지원이 정상적으로 완료되었습니다.\n",
      "보낸이:Apple Store, 제목:계정에 W1040111353 주문이 추가되었습니다.\n",
      "보낸이:Apple Store, 제목:주문 확인  W1040111353\n",
      "보낸이:KG이니시스, 제목:[KG이니시스  결제확인] 문 수정님, 애플코리아 유한회사에서 결제하신 내역 확인바랍니다.\n",
      "보낸이:Apple Store, 제목:주문해 주셔서 감사합니다 - W1040111353\n",
      "보낸이:아이핀 관리자, 제목:[KCB 아이핀] 회원님의 아이핀 인증처리가 되었습니다.\n",
      "보낸이:NOW, 제목:Welcome to your NOW Membership\n",
      "보낸이:NOW, 제목:Your NOW receipt\n",
      "보낸이:Mark Manson, 제목:Your Emotional Intelligence eBook\n",
      "보낸이:김예림, 제목:2021_문수정_이력서 .pdf\n",
      "보낸이:UNiDAYS, 제목:UNiDAYS 비밀번호 재설정\n",
      "보낸이:AliExpress, 제목:주문 8145946104361973이/가 완료되었습니다.\n",
      "보낸이:BenQ_svc@mediawill.com, 제목:벤큐 AS 서비스 접수\n",
      "보낸이:패스트캠퍼스, 제목:[패스트캠퍼스] 문수정님 결제하신 강의내역을 안내해드립니다.\n",
      "보낸이:롯데e커머스, 제목:롯데e커머스 비대면 면접 가이드 전달의 건\n",
      "보낸이:hyewon.kim01@lotte.net, 제목:[롯데e커머스] 1차 면접 및 인성진단 안내 드립니다.\n"
     ]
    }
   ],
   "source": [
    "mail_list = soup.find_all('li', {'class':'mail_item'})\n",
    "\n",
    "for mail in mail_list:\n",
    "    sender = mail.find('button', {'class':'button_sender'}).get_text().replace('보낸 사람', '')\n",
    "    title = mail.find('span', {'class':'text'}).text\n",
    "    print(f'보낸이:{sender}, 제목:{title}')"
   ]
  },
  {
   "cell_type": "markdown",
   "metadata": {},
   "source": [
    "#### 드라이버 연결 끊기"
   ]
  },
  {
   "cell_type": "code",
   "execution_count": null,
   "metadata": {},
   "outputs": [],
   "source": [
    "driver.close()"
   ]
  },
  {
   "cell_type": "markdown",
   "metadata": {},
   "source": [
    "-----"
   ]
  }
 ],
 "metadata": {
  "kernelspec": {
   "display_name": "Python 3 (ipykernel)",
   "language": "python",
   "name": "python3"
  },
  "language_info": {
   "codemirror_mode": {
    "name": "ipython",
    "version": 3
   },
   "file_extension": ".py",
   "mimetype": "text/x-python",
   "name": "python",
   "nbconvert_exporter": "python",
   "pygments_lexer": "ipython3",
   "version": "3.11.7"
  }
 },
 "nbformat": 4,
 "nbformat_minor": 4
}
