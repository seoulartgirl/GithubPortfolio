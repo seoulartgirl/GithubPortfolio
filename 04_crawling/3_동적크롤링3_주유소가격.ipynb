{
 "cells": [
  {
   "cell_type": "markdown",
   "metadata": {},
   "source": [
    "# Selenium이용한 크롤링실습"
   ]
  },
  {
   "cell_type": "code",
   "execution_count": 53,
   "metadata": {},
   "outputs": [],
   "source": [
    "import numpy as np\n",
    "import pandas as pd\n",
    "from bs4 import BeautifulSoup"
   ]
  },
  {
   "cell_type": "code",
   "execution_count": 54,
   "metadata": {},
   "outputs": [],
   "source": [
    "import selenium\n",
    "from selenium import webdriver\n",
    "from selenium.webdriver.common.by import By\n",
    "from selenium.webdriver.chrome.service import Service\n",
    "from webdriver_manager.chrome import ChromeDriverManager"
   ]
  },
  {
   "cell_type": "code",
   "execution_count": 55,
   "metadata": {},
   "outputs": [],
   "source": [
    "service = Service(executable_path=ChromeDriverManager().install())"
   ]
  },
  {
   "cell_type": "markdown",
   "metadata": {},
   "source": [
    "## 싼 주유소 찾기 Opinet\n",
    "\n",
    "- https://www.opinet.co.kr/user/main/mainView.do"
   ]
  },
  {
   "cell_type": "markdown",
   "metadata": {},
   "source": [
    "### 서울시 구별 주유소 가격 정도 얻어오기\n",
    "\n",
    "- 사이트에서 [싼주유소찾기] > [지역별] 메뉴 선택\n",
    "- 지역은 '서울' > 원하는 구 지정\n",
    "    - '시/군/구'를 선택하는 select option의 XPath 찾기\n",
    "\n",
    "- '조회'버튼 클릭\n",
    "- 조회된 주유소 정보 '엑셀저장' 버튼 클릭하여 엑셀파일 다운로드"
   ]
  },
  {
   "cell_type": "markdown",
   "metadata": {},
   "source": [
    "#### 크롬 드라이버 객체 생성"
   ]
  },
  {
   "cell_type": "code",
   "execution_count": 56,
   "metadata": {},
   "outputs": [],
   "source": [
    "driver = webdriver.Chrome(service=service)"
   ]
  },
  {
   "cell_type": "markdown",
   "metadata": {},
   "source": [
    "#### 웹페이지 로드"
   ]
  },
  {
   "cell_type": "code",
   "execution_count": 5,
   "metadata": {},
   "outputs": [],
   "source": [
    "driver.implicitly_wait(3)"
   ]
  },
  {
   "cell_type": "code",
   "execution_count": 7,
   "metadata": {},
   "outputs": [],
   "source": [
    "url = 'https://www.opinet.co.kr/user/main/mainView.do'\n",
    "driver.get(url)"
   ]
  },
  {
   "cell_type": "markdown",
   "metadata": {},
   "source": [
    "#### [싼주유소찾기]-[지역] 페이지로 이동\n",
    "\n",
    "- 자바스트립트 코드 실행으로 통해서 이동"
   ]
  },
  {
   "cell_type": "code",
   "execution_count": 8,
   "metadata": {},
   "outputs": [],
   "source": [
    "driver.execute_script('goSubPage(0,0,99)')"
   ]
  },
  {
   "cell_type": "markdown",
   "metadata": {},
   "source": [
    "#### 구 이름 찾기"
   ]
  },
  {
   "cell_type": "code",
   "execution_count": 10,
   "metadata": {},
   "outputs": [],
   "source": [
    "#시군구 이름 찾기 - 방법1\n",
    "xpath = '//*[@id=\"SIGUNGU_NM0\"]'\n",
    "gu_lists = driver.find_element(By.XPATH, xpath)\n",
    "gu_opt = gu_lists.find_elements(By.TAG_NAME, 'option')\n",
    "\n",
    "gu_names = []\n",
    "for opt in gu_opt:\n",
    "    gu_names.append(opt.get_attribute('value'))\n",
    "# gu_names"
   ]
  },
  {
   "cell_type": "code",
   "execution_count": 25,
   "metadata": {},
   "outputs": [],
   "source": [
    "#시군구 이름 찾기 - 방법2\n",
    "xpath = '//*[@id=\"SIGUNGU_NM0\"]'\n",
    "gu_lists = driver.find_element(By.XPATH, xpath)\n",
    "gu_opt = gu_lists.find_elements(By.TAG_NAME, 'option')\n",
    "gu_names = [opt.get_attribute('value') for opt in gu_opt][1:]\n",
    "# gu_names"
   ]
  },
  {
   "cell_type": "code",
   "execution_count": 24,
   "metadata": {},
   "outputs": [],
   "source": [
    "#시도 이름 찾기\n",
    "xpath = '//*[@id=\"SIDO_NM0\"]'\n",
    "sido_lists = driver.find_element(By.XPATH, xpath)\n",
    "sido_opt = sido_lists.find_elements(By.TAG_NAME, 'option')\n",
    "sido_names = [opt.get_attribute('value') for opt in sido_opt][1:]\n",
    "#sido_names"
   ]
  },
  {
   "cell_type": "markdown",
   "metadata": {},
   "source": [
    "#### 서울시 찾기 / '강남구' 주유소 지정"
   ]
  },
  {
   "cell_type": "code",
   "execution_count": 18,
   "metadata": {},
   "outputs": [],
   "source": [
    "#시도 이름 선택\n",
    "element = driver.find_element(By.ID, 'SIDO_NM0')\n",
    "element.send_keys('서울특별시')"
   ]
  },
  {
   "cell_type": "code",
   "execution_count": 19,
   "metadata": {},
   "outputs": [],
   "source": [
    "#시군구 이름 선택\n",
    "element = driver.find_element(By.ID, 'SIGUNGU_NM0')\n",
    "element.send_keys('강남구')"
   ]
  },
  {
   "cell_type": "markdown",
   "metadata": {},
   "source": [
    "#### '조회' 버튼 클릭"
   ]
  },
  {
   "cell_type": "code",
   "execution_count": 20,
   "metadata": {},
   "outputs": [],
   "source": [
    "xpath = '//*[@id=\"searRgSelect\"]'\n",
    "driver.find_element(By.XPATH, xpath).click()"
   ]
  },
  {
   "cell_type": "markdown",
   "metadata": {},
   "source": [
    "#### 조회된 주유소 '엑셀저장' 버튼 클릭"
   ]
  },
  {
   "cell_type": "code",
   "execution_count": 22,
   "metadata": {},
   "outputs": [],
   "source": [
    "xpath = '//*[@id=\"glopopd_excel\"]'\n",
    "driver.find_element(By.XPATH, xpath).click()"
   ]
  },
  {
   "cell_type": "markdown",
   "metadata": {},
   "source": [
    "=> '지역_위치별(주유소).xls'파일 다운로드 폴더에 저장됨"
   ]
  },
  {
   "cell_type": "markdown",
   "metadata": {},
   "source": [
    "### 25개 구 주유소 엑셀파일 다운로드\n",
    "\n",
    "- 함수로 작성하여 실행"
   ]
  },
  {
   "cell_type": "code",
   "execution_count": 29,
   "metadata": {},
   "outputs": [],
   "source": [
    "import time\n",
    "\n",
    "#서울시 휘발유 가격 엑셀파일 다운로드 함수\n",
    "# 시군구 주유소 검색 후 엑셀 다운로드\n",
    "def search_download_sigungu(sigungu):\n",
    "    #시군구 이름 선택\n",
    "    element = driver.find_element(By.ID, 'SIGUNGU_NM0')\n",
    "    element.send_keys(sigungu)\n",
    "    time.sleep(2)\n",
    "\n",
    "    #조회 버튼 클릭\n",
    "    xpath = '//*[@id=\"searRgSelect\"]'\n",
    "    driver.find_element(By.XPATH, xpath).click()\n",
    "    time.sleep(2)\n",
    "\n",
    "    #엑셀저장 버튼 클릭\n",
    "    xpath = '//*[@id=\"glopopd_excel\"]'\n",
    "    driver.find_element(By.XPATH, xpath).click()\n",
    "    time.sleep(2)\n",
    "\n",
    "\n",
    "#입력한 시도의 모든 구군별 주유소 검색 후 엑셀 다운로드\n",
    "def search_download_sido(sido):\n",
    "\n",
    "    #시도 이름 선택\n",
    "    element = driver.find_element(By.ID, 'SIDO_NM0')\n",
    "    element.send_keys(sido)\n",
    "    time.sleep(2)\n",
    "    \n",
    "    #시군구 이름 찾기\n",
    "    xpath = '//*[@id=\"SIGUNGU_NM0\"]'\n",
    "    gu_lists = driver.find_element(By.XPATH, xpath)\n",
    "    gu_opt = gu_lists.find_elements(By.TAG_NAME, 'option')\n",
    "    gu_names = [opt.get_attribute('value') for opt in gu_opt][1:]\n",
    "        \n",
    "    #구군 조회 후 엑셀 다운로드\n",
    "    for sigungu in gu_names:\n",
    "        #구군 조회 후 엑셀 다운로드\n",
    "        search_download_sigungu(sigungu)\n",
    "\n",
    "\n",
    "#전체 시도별 주유소 가격 다운로드\n",
    "def search_all():\n",
    "    #시도명 찾기\n",
    "    xpath = '//*[@id=\"SIDO_NM0\"]'\n",
    "    sido_lists = driver.find_element(By.XPATH, xpath)\n",
    "    sido_opt = gu_lists.find_elements(By.TAG_NAME, 'option')\n",
    "    sido_names = [opt.get_attribute('value') for opt in sido_opt][1:]\n",
    "\n",
    "    #시도별 주유소 가격 다운로드\n",
    "    for sido in sido_names:\n",
    "        search_download_sido(sido)"
   ]
  },
  {
   "cell_type": "code",
   "execution_count": 30,
   "metadata": {},
   "outputs": [],
   "source": [
    "search_download_sido('서울특별시')"
   ]
  },
  {
   "cell_type": "markdown",
   "metadata": {},
   "source": [
    "### 엑셀 파일 읽어오기"
   ]
  },
  {
   "cell_type": "code",
   "execution_count": 43,
   "metadata": {},
   "outputs": [],
   "source": [
    "from glob import glob\n",
    "#glob 함수 : 파일 경로 및 이름을 모아서 리스트에 저장\n",
    "# * 문자 사용"
   ]
  },
  {
   "cell_type": "code",
   "execution_count": 37,
   "metadata": {},
   "outputs": [
    {
     "data": {
      "text/plain": [
       "'/Users/crystal.moon/crystal.moon/Python/04_crawling'"
      ]
     },
     "execution_count": 37,
     "metadata": {},
     "output_type": "execute_result"
    }
   ],
   "source": [
    "import os\n",
    "cpath = os.getcwd()\n",
    "cpath"
   ]
  },
  {
   "cell_type": "code",
   "execution_count": 45,
   "metadata": {},
   "outputs": [
    {
     "data": {
      "text/plain": [
       "['지역_위치별(주유소) (9).xls',\n",
       " '지역_위치별(주유소) (12).xls',\n",
       " '지역_위치별(주유소) (5).xls',\n",
       " '.DS_Store',\n",
       " '지역_위치별(주유소) (4).xls',\n",
       " '지역_위치별(주유소) (13).xls',\n",
       " '지역_위치별(주유소) (8).xls',\n",
       " '.localized',\n",
       " '지역_위치별(주유소) (3).xls',\n",
       " '지역_위치별(주유소) (18).xls',\n",
       " '지역_위치별(주유소) (22).xls',\n",
       " '지역_위치별(주유소) (14).xls',\n",
       " '지역_위치별(주유소) (15).xls',\n",
       " '지역_위치별(주유소) (23).xls',\n",
       " '지역_위치별(주유소) (19).xls',\n",
       " '지역_위치별(주유소) (2).xls',\n",
       " '지역_위치별(주유소) (20).xls',\n",
       " '지역_위치별(주유소) (1).xls',\n",
       " '지역_위치별(주유소) (16).xls',\n",
       " '지역_위치별(주유소) (17).xls',\n",
       " '지역_위치별(주유소) (21).xls',\n",
       " '지역_위치별(주유소) (10).xls',\n",
       " '지역_위치별(주유소).xls',\n",
       " '지역_위치별(주유소) (7).xls',\n",
       " '지역_위치별(주유소) (6).xls',\n",
       " '지역_위치별(주유소) (11).xls']"
      ]
     },
     "execution_count": 45,
     "metadata": {},
     "output_type": "execute_result"
    }
   ],
   "source": [
    "path = '/Users/crystal.moon/Downloads/'\n",
    "os.listdir(path)"
   ]
  },
  {
   "cell_type": "code",
   "execution_count": 46,
   "metadata": {},
   "outputs": [
    {
     "data": {
      "text/plain": [
       "24"
      ]
     },
     "execution_count": 46,
     "metadata": {},
     "output_type": "execute_result"
    }
   ],
   "source": [
    "# * : all 이라는 의미 \n",
    "filename = '지역_위치별*.xls'\n",
    "# path + filename\n",
    "files = glob(path+filename)\n",
    "len(files)"
   ]
  },
  {
   "cell_type": "code",
   "execution_count": 50,
   "metadata": {},
   "outputs": [
    {
     "data": {
      "text/plain": [
       "'/Users/crystal.moon/Downloads/지역_위치별(주유소) (9).xls'"
      ]
     },
     "execution_count": 50,
     "metadata": {},
     "output_type": "execute_result"
    }
   ],
   "source": [
    "files[0]"
   ]
  },
  {
   "cell_type": "code",
   "execution_count": 58,
   "metadata": {},
   "outputs": [
    {
     "name": "stdout",
     "output_type": "stream",
     "text": [
      "Collecting xlrd\n",
      "  Downloading xlrd-2.0.1-py2.py3-none-any.whl.metadata (3.4 kB)\n",
      "Downloading xlrd-2.0.1-py2.py3-none-any.whl (96 kB)\n",
      "\u001b[2K   \u001b[90m━━━━━━━━━━━━━━━━━━━━━━━━━━━━━━━━━━━━━━━━\u001b[0m \u001b[32m96.5/96.5 kB\u001b[0m \u001b[31m5.6 MB/s\u001b[0m eta \u001b[36m0:00:00\u001b[0m\n",
      "\u001b[?25hInstalling collected packages: xlrd\n",
      "Successfully installed xlrd-2.0.1\n"
     ]
    }
   ],
   "source": [
    "# xlrd upgrade 요청 에러\n",
    "!pip install xlrd"
   ]
  },
  {
   "cell_type": "code",
   "execution_count": 61,
   "metadata": {},
   "outputs": [
    {
     "data": {
      "text/plain": [
       "pandas.core.frame.DataFrame"
      ]
     },
     "execution_count": 61,
     "metadata": {},
     "output_type": "execute_result"
    }
   ],
   "source": [
    "station = pd.read_excel(files[0], header=2)\n",
    "type(station)"
   ]
  },
  {
   "cell_type": "markdown",
   "metadata": {},
   "source": [
    "### 데이터 합치기"
   ]
  },
  {
   "cell_type": "code",
   "execution_count": 63,
   "metadata": {},
   "outputs": [
    {
     "data": {
      "text/html": [
       "<div>\n",
       "<style scoped>\n",
       "    .dataframe tbody tr th:only-of-type {\n",
       "        vertical-align: middle;\n",
       "    }\n",
       "\n",
       "    .dataframe tbody tr th {\n",
       "        vertical-align: top;\n",
       "    }\n",
       "\n",
       "    .dataframe thead th {\n",
       "        text-align: right;\n",
       "    }\n",
       "</style>\n",
       "<table border=\"1\" class=\"dataframe\">\n",
       "  <thead>\n",
       "    <tr style=\"text-align: right;\">\n",
       "      <th></th>\n",
       "      <th>지역</th>\n",
       "      <th>상호</th>\n",
       "      <th>주소</th>\n",
       "      <th>상표</th>\n",
       "      <th>전화번호</th>\n",
       "      <th>셀프여부</th>\n",
       "      <th>고급휘발유</th>\n",
       "      <th>휘발유</th>\n",
       "      <th>경유</th>\n",
       "      <th>실내등유</th>\n",
       "    </tr>\n",
       "  </thead>\n",
       "  <tbody>\n",
       "    <tr>\n",
       "      <th>0</th>\n",
       "      <td>서울특별시</td>\n",
       "      <td>(주)자연에너지 국민주유소</td>\n",
       "      <td>서울 동대문구 답십리로 223 (답십리동)</td>\n",
       "      <td>HD현대오일뱅크</td>\n",
       "      <td>02-2216-7155</td>\n",
       "      <td>Y</td>\n",
       "      <td>1820</td>\n",
       "      <td>1597</td>\n",
       "      <td>1497</td>\n",
       "      <td>-</td>\n",
       "    </tr>\n",
       "    <tr>\n",
       "      <th>1</th>\n",
       "      <td>서울특별시</td>\n",
       "      <td>동서울고속주유소</td>\n",
       "      <td>서울 동대문구 한천로 414</td>\n",
       "      <td>SK에너지</td>\n",
       "      <td>02-969-1144</td>\n",
       "      <td>Y</td>\n",
       "      <td>1820</td>\n",
       "      <td>1597</td>\n",
       "      <td>1497</td>\n",
       "      <td>-</td>\n",
       "    </tr>\n",
       "    <tr>\n",
       "      <th>2</th>\n",
       "      <td>서울특별시</td>\n",
       "      <td>재정제2주유소</td>\n",
       "      <td>서울 동대문구 사가정로 90 (전농동)</td>\n",
       "      <td>HD현대오일뱅크</td>\n",
       "      <td>02-2249-6682</td>\n",
       "      <td>Y</td>\n",
       "      <td>-</td>\n",
       "      <td>1607</td>\n",
       "      <td>1507</td>\n",
       "      <td>-</td>\n",
       "    </tr>\n",
       "    <tr>\n",
       "      <th>3</th>\n",
       "      <td>서울특별시</td>\n",
       "      <td>재정주유소</td>\n",
       "      <td>서울 동대문구 전농로 121 (전농동)</td>\n",
       "      <td>HD현대오일뱅크</td>\n",
       "      <td>070-8256-4617</td>\n",
       "      <td>Y</td>\n",
       "      <td>1830</td>\n",
       "      <td>1607</td>\n",
       "      <td>1507</td>\n",
       "      <td>-</td>\n",
       "    </tr>\n",
       "    <tr>\n",
       "      <th>4</th>\n",
       "      <td>서울특별시</td>\n",
       "      <td>풍한주유소</td>\n",
       "      <td>서울 동대문구 안암로 168</td>\n",
       "      <td>SK에너지</td>\n",
       "      <td>02-924-5189</td>\n",
       "      <td>N</td>\n",
       "      <td>-</td>\n",
       "      <td>1615</td>\n",
       "      <td>1515</td>\n",
       "      <td>-</td>\n",
       "    </tr>\n",
       "    <tr>\n",
       "      <th>...</th>\n",
       "      <td>...</td>\n",
       "      <td>...</td>\n",
       "      <td>...</td>\n",
       "      <td>...</td>\n",
       "      <td>...</td>\n",
       "      <td>...</td>\n",
       "      <td>...</td>\n",
       "      <td>...</td>\n",
       "      <td>...</td>\n",
       "      <td>...</td>\n",
       "    </tr>\n",
       "    <tr>\n",
       "      <th>7</th>\n",
       "      <td>서울특별시</td>\n",
       "      <td>에스에스오토셀프</td>\n",
       "      <td>서울 마포구 서강로 76 (창전동)</td>\n",
       "      <td>HD현대오일뱅크</td>\n",
       "      <td>02-336-5185</td>\n",
       "      <td>Y</td>\n",
       "      <td>2099</td>\n",
       "      <td>1689</td>\n",
       "      <td>1619</td>\n",
       "      <td>-</td>\n",
       "    </tr>\n",
       "    <tr>\n",
       "      <th>8</th>\n",
       "      <td>서울특별시</td>\n",
       "      <td>(주)안국에너지 망원동주유소</td>\n",
       "      <td>서울 마포구 월드컵로 119 (망원동)</td>\n",
       "      <td>SK에너지</td>\n",
       "      <td>02-334-0917</td>\n",
       "      <td>N</td>\n",
       "      <td>-</td>\n",
       "      <td>1698</td>\n",
       "      <td>1598</td>\n",
       "      <td>-</td>\n",
       "    </tr>\n",
       "    <tr>\n",
       "      <th>9</th>\n",
       "      <td>서울특별시</td>\n",
       "      <td>(주)만성상사 대흥주유소</td>\n",
       "      <td>서울 마포구 대흥로 61 (대흥동)</td>\n",
       "      <td>SK에너지</td>\n",
       "      <td>02-3273-5151</td>\n",
       "      <td>N</td>\n",
       "      <td>2149</td>\n",
       "      <td>1699</td>\n",
       "      <td>1629</td>\n",
       "      <td>1745</td>\n",
       "    </tr>\n",
       "    <tr>\n",
       "      <th>10</th>\n",
       "      <td>서울특별시</td>\n",
       "      <td>SK에너지 양지주유소</td>\n",
       "      <td>서울 마포구 마포대로 69 (도화동)</td>\n",
       "      <td>SK에너지</td>\n",
       "      <td>02-706-8955</td>\n",
       "      <td>N</td>\n",
       "      <td>1919</td>\n",
       "      <td>1699</td>\n",
       "      <td>1659</td>\n",
       "      <td>-</td>\n",
       "    </tr>\n",
       "    <tr>\n",
       "      <th>11</th>\n",
       "      <td>서울특별시</td>\n",
       "      <td>SK에너지(주) 안국주유소</td>\n",
       "      <td>서울 마포구 양화로 33</td>\n",
       "      <td>SK에너지</td>\n",
       "      <td>02-3144-1197</td>\n",
       "      <td>N</td>\n",
       "      <td>1919</td>\n",
       "      <td>1729</td>\n",
       "      <td>1679</td>\n",
       "      <td>-</td>\n",
       "    </tr>\n",
       "  </tbody>\n",
       "</table>\n",
       "<p>420 rows × 10 columns</p>\n",
       "</div>"
      ],
      "text/plain": [
       "       지역               상호                       주소        상표           전화번호  \\\n",
       "0   서울특별시   (주)자연에너지 국민주유소  서울 동대문구 답십리로 223 (답십리동)  HD현대오일뱅크   02-2216-7155   \n",
       "1   서울특별시         동서울고속주유소          서울 동대문구 한천로 414     SK에너지    02-969-1144   \n",
       "2   서울특별시          재정제2주유소    서울 동대문구 사가정로 90 (전농동)  HD현대오일뱅크   02-2249-6682   \n",
       "3   서울특별시            재정주유소    서울 동대문구 전농로 121 (전농동)  HD현대오일뱅크  070-8256-4617   \n",
       "4   서울특별시            풍한주유소          서울 동대문구 안암로 168     SK에너지    02-924-5189   \n",
       "..    ...              ...                      ...       ...            ...   \n",
       "7   서울특별시         에스에스오토셀프      서울 마포구 서강로 76 (창전동)  HD현대오일뱅크    02-336-5185   \n",
       "8   서울특별시  (주)안국에너지 망원동주유소    서울 마포구 월드컵로 119 (망원동)     SK에너지    02-334-0917   \n",
       "9   서울특별시    (주)만성상사 대흥주유소      서울 마포구 대흥로 61 (대흥동)     SK에너지   02-3273-5151   \n",
       "10  서울특별시      SK에너지 양지주유소     서울 마포구 마포대로 69 (도화동)     SK에너지    02-706-8955   \n",
       "11  서울특별시   SK에너지(주) 안국주유소            서울 마포구 양화로 33     SK에너지   02-3144-1197   \n",
       "\n",
       "   셀프여부 고급휘발유   휘발유    경유  실내등유  \n",
       "0     Y  1820  1597  1497     -  \n",
       "1     Y  1820  1597  1497     -  \n",
       "2     Y     -  1607  1507     -  \n",
       "3     Y  1830  1607  1507     -  \n",
       "4     N     -  1615  1515     -  \n",
       "..  ...   ...   ...   ...   ...  \n",
       "7     Y  2099  1689  1619     -  \n",
       "8     N     -  1698  1598     -  \n",
       "9     N  2149  1699  1629  1745  \n",
       "10    N  1919  1699  1659     -  \n",
       "11    N  1919  1729  1679     -  \n",
       "\n",
       "[420 rows x 10 columns]"
      ]
     },
     "execution_count": 63,
     "metadata": {},
     "output_type": "execute_result"
    }
   ],
   "source": [
    "tmp = []\n",
    "for file in files:\n",
    "    station = pd.read_excel(file, header=2)\n",
    "    tmp.append(station)\n",
    "stations = pd.concat(tmp)\n",
    "stations"
   ]
  },
  {
   "cell_type": "code",
   "execution_count": 64,
   "metadata": {},
   "outputs": [
    {
     "name": "stdout",
     "output_type": "stream",
     "text": [
      "<class 'pandas.core.frame.DataFrame'>\n",
      "Index: 420 entries, 0 to 11\n",
      "Data columns (total 10 columns):\n",
      " #   Column  Non-Null Count  Dtype \n",
      "---  ------  --------------  ----- \n",
      " 0   지역      420 non-null    object\n",
      " 1   상호      420 non-null    object\n",
      " 2   주소      420 non-null    object\n",
      " 3   상표      420 non-null    object\n",
      " 4   전화번호    420 non-null    object\n",
      " 5   셀프여부    420 non-null    object\n",
      " 6   고급휘발유   420 non-null    object\n",
      " 7   휘발유     420 non-null    object\n",
      " 8   경유      420 non-null    object\n",
      " 9   실내등유    420 non-null    object\n",
      "dtypes: object(10)\n",
      "memory usage: 36.1+ KB\n"
     ]
    }
   ],
   "source": [
    "stations.info()"
   ]
  },
  {
   "cell_type": "code",
   "execution_count": 65,
   "metadata": {},
   "outputs": [],
   "source": [
    "#csv 저장\n",
    "stations.to_csv('주유소.csv')"
   ]
  },
  {
   "cell_type": "code",
   "execution_count": 67,
   "metadata": {},
   "outputs": [],
   "source": [
    "#driver.close()"
   ]
  },
  {
   "cell_type": "markdown",
   "metadata": {},
   "source": [
    "-----"
   ]
  }
 ],
 "metadata": {
  "kernelspec": {
   "display_name": "Python 3 (ipykernel)",
   "language": "python",
   "name": "python3"
  },
  "language_info": {
   "codemirror_mode": {
    "name": "ipython",
    "version": 3
   },
   "file_extension": ".py",
   "mimetype": "text/x-python",
   "name": "python",
   "nbconvert_exporter": "python",
   "pygments_lexer": "ipython3",
   "version": "3.11.7"
  }
 },
 "nbformat": 4,
 "nbformat_minor": 4
}
