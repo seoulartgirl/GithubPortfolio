{
 "cells": [
  {
   "cell_type": "markdown",
   "id": "0364a841-1235-4d80-aefa-de05d6811111",
   "metadata": {},
   "source": [
    "## 참고. 파일 및 디렉터리 관리"
   ]
  },
  {
   "cell_type": "code",
   "execution_count": 2,
   "id": "ceefa147-3ef7-4924-a052-10f8bff2afbf",
   "metadata": {},
   "outputs": [],
   "source": [
    "import os"
   ]
  },
  {
   "cell_type": "code",
   "execution_count": 3,
   "id": "ff5e009a-29b0-469a-bfa6-aed54cc6b085",
   "metadata": {},
   "outputs": [
    {
     "data": {
      "text/plain": [
       "'/Users/crystal.moon/crystal.moon/Python/04_crawling'"
      ]
     },
     "execution_count": 3,
     "metadata": {},
     "output_type": "execute_result"
    }
   ],
   "source": [
    "os.getcwd()"
   ]
  },
  {
   "cell_type": "code",
   "execution_count": 5,
   "id": "2b2e6f86-cb55-4afd-b8b1-5579aae4fb35",
   "metadata": {},
   "outputs": [],
   "source": [
    "os.chdir('/Users')"
   ]
  },
  {
   "cell_type": "code",
   "execution_count": 6,
   "id": "8f771e29-cd35-45f9-a7f6-c35e5eb97306",
   "metadata": {},
   "outputs": [
    {
     "data": {
      "text/plain": [
       "'/Users'"
      ]
     },
     "execution_count": 6,
     "metadata": {},
     "output_type": "execute_result"
    }
   ],
   "source": [
    "os.getcwd()"
   ]
  },
  {
   "cell_type": "code",
   "execution_count": 7,
   "id": "ce767c45-f243-48dc-96bc-4a8d3b0246a9",
   "metadata": {},
   "outputs": [],
   "source": [
    "os.chdir('/Users/crystal.moon/crystal.moon/Python/04_crawling')"
   ]
  },
  {
   "cell_type": "code",
   "execution_count": 8,
   "id": "7be74c02-7a7b-46b0-a564-fc9cf61f4bfc",
   "metadata": {},
   "outputs": [
    {
     "data": {
      "text/plain": [
       "['3_동적크롤링3_주유소가격.ipynb',\n",
       " '.DS_Store',\n",
       " '3_동적크롤링1_소개_네이버로그인.ipynb',\n",
       " 'Untitled.ipynb',\n",
       " '2_정적크롤링3_쇼핑몰.ipynb',\n",
       " 'quotes.csv',\n",
       " '2_정적크롤링1_명언사이트.ipynb',\n",
       " 'quotes.xlsx',\n",
       " 'crawl_data',\n",
       " '.ipynb_checkpoints',\n",
       " '2_정적크롤링2_다음뉴스크롤링.ipynb',\n",
       " '2_정적크롤링4_음악차트순위.ipynb',\n",
       " 'data',\n",
       " '1_웹크롤링_개요.ipynb',\n",
       " '3_동적크롤링2_네이버뉴스_댓글수.ipynb']"
      ]
     },
     "execution_count": 8,
     "metadata": {},
     "output_type": "execute_result"
    }
   ],
   "source": [
    "#현재 위치에 있는 파일과 디렉터리 이름들 목록\n",
    "os.listdir()"
   ]
  },
  {
   "cell_type": "code",
   "execution_count": 9,
   "id": "7c0e4176-5e69-4309-bd7a-f7eeefbc91be",
   "metadata": {},
   "outputs": [],
   "source": [
    "# 디렉터리 생성\n",
    "os.mkdir('test')"
   ]
  },
  {
   "cell_type": "code",
   "execution_count": 10,
   "id": "df22695e-54bf-4293-84d9-d392c85b4e1f",
   "metadata": {},
   "outputs": [
    {
     "data": {
      "text/plain": [
       "['3_동적크롤링3_주유소가격.ipynb',\n",
       " '.DS_Store',\n",
       " 'test',\n",
       " '3_동적크롤링1_소개_네이버로그인.ipynb',\n",
       " 'Untitled.ipynb',\n",
       " '2_정적크롤링3_쇼핑몰.ipynb',\n",
       " 'quotes.csv',\n",
       " '2_정적크롤링1_명언사이트.ipynb',\n",
       " 'quotes.xlsx',\n",
       " 'crawl_data',\n",
       " '.ipynb_checkpoints',\n",
       " '2_정적크롤링2_다음뉴스크롤링.ipynb',\n",
       " '2_정적크롤링4_음악차트순위.ipynb',\n",
       " 'data',\n",
       " '1_웹크롤링_개요.ipynb',\n",
       " '3_동적크롤링2_네이버뉴스_댓글수.ipynb']"
      ]
     },
     "execution_count": 10,
     "metadata": {},
     "output_type": "execute_result"
    }
   ],
   "source": [
    "os.listdir()"
   ]
  },
  {
   "cell_type": "code",
   "execution_count": 29,
   "id": "19676223-f2ef-4318-970a-265749456b6b",
   "metadata": {},
   "outputs": [],
   "source": [
    "#디렉터리 삭제\n",
    "import shutil\n",
    "\n",
    "shutil.rmtree('test')"
   ]
  },
  {
   "cell_type": "code",
   "execution_count": 12,
   "id": "4c288d5e-c2db-4650-8e78-0d7faa550213",
   "metadata": {},
   "outputs": [
    {
     "data": {
      "text/plain": [
       "['3_동적크롤링3_주유소가격.ipynb',\n",
       " '.DS_Store',\n",
       " '3_동적크롤링1_소개_네이버로그인.ipynb',\n",
       " 'Untitled.ipynb',\n",
       " '2_정적크롤링3_쇼핑몰.ipynb',\n",
       " 'quotes.csv',\n",
       " '2_정적크롤링1_명언사이트.ipynb',\n",
       " 'quotes.xlsx',\n",
       " 'crawl_data',\n",
       " '.ipynb_checkpoints',\n",
       " '2_정적크롤링2_다음뉴스크롤링.ipynb',\n",
       " '2_정적크롤링4_음악차트순위.ipynb',\n",
       " 'data',\n",
       " '1_웹크롤링_개요.ipynb',\n",
       " '3_동적크롤링2_네이버뉴스_댓글수.ipynb']"
      ]
     },
     "execution_count": 12,
     "metadata": {},
     "output_type": "execute_result"
    }
   ],
   "source": [
    "os.listdir()"
   ]
  },
  {
   "cell_type": "code",
   "execution_count": 25,
   "id": "cb08ef74-35d7-4d00-af5d-6e3504a20bb1",
   "metadata": {},
   "outputs": [],
   "source": [
    "os.mkdir('test')"
   ]
  },
  {
   "cell_type": "code",
   "execution_count": 15,
   "id": "93dda5a6-6472-422b-9489-bf1d29170783",
   "metadata": {},
   "outputs": [],
   "source": [
    "# os.mkdir('test')\n",
    "#FileExistError"
   ]
  },
  {
   "cell_type": "code",
   "execution_count": 28,
   "id": "1e9f63a9-898c-48a5-806e-9caa2b0cb3de",
   "metadata": {},
   "outputs": [
    {
     "name": "stdout",
     "output_type": "stream",
     "text": [
      "Exist test directory!\n"
     ]
    }
   ],
   "source": [
    "if os.path.isdir('test'):\n",
    "    print('Exist test directory!')"
   ]
  },
  {
   "cell_type": "code",
   "execution_count": 26,
   "id": "32462467-d6d5-40fa-9cb7-759471c8a145",
   "metadata": {},
   "outputs": [
    {
     "name": "stdout",
     "output_type": "stream",
     "text": [
      "Exist test directory!\n"
     ]
    }
   ],
   "source": [
    "os.rmdir('test')\n",
    "if os.path.isdir('test'):\n",
    "    print('Exist test directory!')"
   ]
  },
  {
   "cell_type": "code",
   "execution_count": 30,
   "id": "7c747e84-ee32-46cc-894a-5f5f643b5496",
   "metadata": {},
   "outputs": [
    {
     "data": {
      "text/plain": [
       "['3_동적크롤링3_주유소가격.ipynb',\n",
       " '.DS_Store',\n",
       " '3_동적크롤링1_소개_네이버로그인.ipynb',\n",
       " 'Untitled.ipynb',\n",
       " '2_정적크롤링3_쇼핑몰.ipynb',\n",
       " 'quotes.csv',\n",
       " '2_정적크롤링1_명언사이트.ipynb',\n",
       " 'quotes.xlsx',\n",
       " 'crawl_data',\n",
       " '.ipynb_checkpoints',\n",
       " '2_정적크롤링2_다음뉴스크롤링.ipynb',\n",
       " '2_정적크롤링4_음악차트순위.ipynb',\n",
       " 'data',\n",
       " '1_웹크롤링_개요.ipynb',\n",
       " '3_동적크롤링2_네이버뉴스_댓글수.ipynb']"
      ]
     },
     "execution_count": 30,
     "metadata": {},
     "output_type": "execute_result"
    }
   ],
   "source": [
    "os.listdir()"
   ]
  },
  {
   "cell_type": "code",
   "execution_count": 27,
   "id": "f7572524-ee49-4dd4-a7db-79941a7b1511",
   "metadata": {},
   "outputs": [],
   "source": [
    "if not os.path.isdir('test'):\n",
    "    os.mkdir('test')"
   ]
  },
  {
   "cell_type": "code",
   "execution_count": 31,
   "id": "958247ba-4bc4-459c-9afe-9375681aa837",
   "metadata": {},
   "outputs": [
    {
     "data": {
      "text/plain": [
       "[('/Users/crystal.moon/crystal.moon/Python/04_crawling',\n",
       "  ['crawl_data', '.ipynb_checkpoints', 'data'],\n",
       "  ['3_동적크롤링3_주유소가격.ipynb',\n",
       "   '.DS_Store',\n",
       "   '3_동적크롤링1_소개_네이버로그인.ipynb',\n",
       "   'Untitled.ipynb',\n",
       "   '2_정적크롤링3_쇼핑몰.ipynb',\n",
       "   'quotes.csv',\n",
       "   '2_정적크롤링1_명언사이트.ipynb',\n",
       "   'quotes.xlsx',\n",
       "   '2_정적크롤링2_다음뉴스크롤링.ipynb',\n",
       "   '2_정적크롤링4_음악차트순위.ipynb',\n",
       "   '1_웹크롤링_개요.ipynb',\n",
       "   '3_동적크롤링2_네이버뉴스_댓글수.ipynb']),\n",
       " ('/Users/crystal.moon/crystal.moon/Python/04_crawling/crawl_data',\n",
       "  ['.ipynb_checkpoints'],\n",
       "  ['sshot1.png']),\n",
       " ('/Users/crystal.moon/crystal.moon/Python/04_crawling/crawl_data/.ipynb_checkpoints',\n",
       "  [],\n",
       "  ['sshot1-checkpoint.png']),\n",
       " ('/Users/crystal.moon/crystal.moon/Python/04_crawling/.ipynb_checkpoints',\n",
       "  [],\n",
       "  ['3_동적크롤링1_소개_네이버로그인-checkpoint.ipynb',\n",
       "   'quotes-checkpoint.csv',\n",
       "   '3_동적크롤링3_주유소가격-checkpoint.ipynb',\n",
       "   '2_정적크롤링1_명언사이트-checkpoint.ipynb',\n",
       "   '3_동적크롤링2_네이버뉴스_댓글수-checkpoint.ipynb',\n",
       "   'Untitled-checkpoint.ipynb',\n",
       "   '1_웹크롤링_개요-checkpoint.ipynb',\n",
       "   '2_정적크롤링2_다음뉴스크롤링-checkpoint.ipynb']),\n",
       " ('/Users/crystal.moon/crystal.moon/Python/04_crawling/data', [], [])]"
      ]
     },
     "execution_count": 31,
     "metadata": {},
     "output_type": "execute_result"
    }
   ],
   "source": [
    "#지정한 디렉토리의 파일과 하위의 모든 폴더의 목록\n",
    "path = os.getcwd()\n",
    "list(os.walk(path))"
   ]
  },
  {
   "cell_type": "markdown",
   "id": "6b44e142-7755-4660-ba70-8c4ac48a313f",
   "metadata": {},
   "source": [
    "- 파일 디렉터리 존재 유무: os.path.exists(), os.path.isdir(), os.path.isfile()"
   ]
  },
  {
   "cell_type": "code",
   "execution_count": 33,
   "id": "1baf425f-407f-4b9a-b9c9-4d8bb608127f",
   "metadata": {},
   "outputs": [
    {
     "data": {
      "text/plain": [
       "True"
      ]
     },
     "execution_count": 33,
     "metadata": {},
     "output_type": "execute_result"
    }
   ],
   "source": [
    "os.path.isfile('3_동적크롤링3_주유소가격.ipynb')"
   ]
  },
  {
   "cell_type": "code",
   "execution_count": 34,
   "id": "9b251953-a324-453e-9514-871cc87d2604",
   "metadata": {},
   "outputs": [
    {
     "data": {
      "text/plain": [
       "True"
      ]
     },
     "execution_count": 34,
     "metadata": {},
     "output_type": "execute_result"
    }
   ],
   "source": [
    "os.path.exists('3_동적크롤링3_주유소가격.ipynb')"
   ]
  },
  {
   "cell_type": "code",
   "execution_count": 35,
   "id": "103f0403-9f83-4ba0-be25-e2b596885e35",
   "metadata": {},
   "outputs": [
    {
     "data": {
      "text/plain": [
       "True"
      ]
     },
     "execution_count": 35,
     "metadata": {},
     "output_type": "execute_result"
    }
   ],
   "source": [
    "os.path.isdir('/Users/crystal.moon/crystal.moon/Python/04_crawling')"
   ]
  },
  {
   "cell_type": "code",
   "execution_count": 36,
   "id": "0b32b3ec-8634-40fc-b89e-c78042b778b7",
   "metadata": {},
   "outputs": [
    {
     "data": {
      "text/plain": [
       "True"
      ]
     },
     "execution_count": 36,
     "metadata": {},
     "output_type": "execute_result"
    }
   ],
   "source": [
    "os.path.isdir('/Users/crystal.moon/')"
   ]
  },
  {
   "cell_type": "markdown",
   "id": "4c494fc9-e1a8-4825-8bf1-c4a03dfb71b6",
   "metadata": {},
   "source": [
    "- 파일 삭제, 파일 크기 확인"
   ]
  },
  {
   "cell_type": "code",
   "execution_count": 37,
   "id": "d02b18b3-dd52-4903-aa90-e5a5bf95180e",
   "metadata": {},
   "outputs": [
    {
     "data": {
      "text/plain": [
       "False"
      ]
     },
     "execution_count": 37,
     "metadata": {},
     "output_type": "execute_result"
    }
   ],
   "source": [
    "# 파일 삭제\n",
    "os.remove('quotes.xlsx')\n",
    "os.path.isfile('quotes.xlsx')"
   ]
  },
  {
   "cell_type": "code",
   "execution_count": 38,
   "id": "8c34d2e0-ad66-4d5c-b04c-c524e93ea863",
   "metadata": {},
   "outputs": [
    {
     "data": {
      "text/plain": [
       "2215"
      ]
     },
     "execution_count": 38,
     "metadata": {},
     "output_type": "execute_result"
    }
   ],
   "source": [
    "# 파일 크기 확인\n",
    "os.path.getsize('quotes.csv')"
   ]
  },
  {
   "cell_type": "code",
   "execution_count": 39,
   "id": "504f5cae-9d8b-4236-95df-21558ce71b8e",
   "metadata": {},
   "outputs": [],
   "source": [
    "import random, datetime\n",
    "\n",
    "dir = 'log'\n",
    "if not os.path.isdir('log'):\n",
    "    os.mkdir(dir)\n",
    "\n",
    "path = 'log/count_log.txt'\n",
    "if not os.path.exists(path):\n",
    "    f = open(path, 'w', encoding = 'utf-8')\n",
    "    f.write('기록시작\\n')\n",
    "    f.close()\n",
    "\n",
    "with open(path, 'a', encoding='utf-8') as f:\n",
    "    for i in range(20):\n",
    "        stamp = str(datetime.datetime.now())\n",
    "        value = random.random() * 1000\n",
    "        log = stamp + '\\t' + str(value) + '값 생성\\n'\n",
    "        f.write(log)"
   ]
  },
  {
   "cell_type": "code",
   "execution_count": 40,
   "id": "a186cde5-8f9e-4542-bceb-6498d82856b0",
   "metadata": {
    "scrolled": true
   },
   "outputs": [
    {
     "data": {
      "text/plain": [
       "['3_동적크롤링3_주유소가격.ipynb',\n",
       " '.DS_Store',\n",
       " '파일 및 디렉터리 관리.ipynb',\n",
       " '3_동적크롤링1_소개_네이버로그인.ipynb',\n",
       " '2_정적크롤링3_쇼핑몰.ipynb',\n",
       " 'quotes.csv',\n",
       " '2_정적크롤링1_명언사이트.ipynb',\n",
       " 'crawl_data',\n",
       " 'log',\n",
       " '.ipynb_checkpoints',\n",
       " '2_정적크롤링2_다음뉴스크롤링.ipynb',\n",
       " '2_정적크롤링4_음악차트순위.ipynb',\n",
       " 'data',\n",
       " '1_웹크롤링_개요.ipynb',\n",
       " '3_동적크롤링2_네이버뉴스_댓글수.ipynb']"
      ]
     },
     "execution_count": 40,
     "metadata": {},
     "output_type": "execute_result"
    }
   ],
   "source": [
    "os.listdir()"
   ]
  },
  {
   "cell_type": "code",
   "execution_count": 41,
   "id": "99cfd13b-f0fd-4ce2-9711-a26f9130762c",
   "metadata": {},
   "outputs": [],
   "source": [
    "os.chdir('log')"
   ]
  },
  {
   "cell_type": "code",
   "execution_count": 42,
   "id": "a50b351f-fd11-425f-8b03-d7cdc39c2360",
   "metadata": {},
   "outputs": [
    {
     "data": {
      "text/plain": [
       "['count_log.txt']"
      ]
     },
     "execution_count": 42,
     "metadata": {},
     "output_type": "execute_result"
    }
   ],
   "source": [
    "os.listdir()"
   ]
  },
  {
   "cell_type": "code",
   "execution_count": null,
   "id": "095bd458-73a6-4584-8928-7f1ea0d1801f",
   "metadata": {},
   "outputs": [],
   "source": []
  },
  {
   "cell_type": "code",
   "execution_count": 1,
   "id": "33f019be-9f43-47cb-a645-03b225776da1",
   "metadata": {},
   "outputs": [],
   "source": [
    "import requests\n",
    "from urllib.request import urlopen\n",
    "from bs4 import BeautifulSoup\n",
    "\n",
    "url = 'https://www.starbucks.co.kr/store/store_map.do'\n",
    "soup = BeautifulSoup(urlopen(url).read(), 'html.parser')\n",
    "\n",
    "# def returnSoupObj(url):\n",
    "#     soup = BeautifulSoup(urlopen(url).read(), 'html.parser')\n",
    "#     return soup"
   ]
  },
  {
   "cell_type": "code",
   "execution_count": 1,
   "id": "9ec3c96d-2ad6-491e-b7fa-437783494861",
   "metadata": {},
   "outputs": [],
   "source": [
    "# addr = soup.findAll('p', {'class':'result_details'})\n",
    "# addr"
   ]
  }
 ],
 "metadata": {
  "kernelspec": {
   "display_name": "Python 3 (ipykernel)",
   "language": "python",
   "name": "python3"
  },
  "language_info": {
   "codemirror_mode": {
    "name": "ipython",
    "version": 3
   },
   "file_extension": ".py",
   "mimetype": "text/x-python",
   "name": "python",
   "nbconvert_exporter": "python",
   "pygments_lexer": "ipython3",
   "version": "3.11.7"
  }
 },
 "nbformat": 4,
 "nbformat_minor": 5
}
