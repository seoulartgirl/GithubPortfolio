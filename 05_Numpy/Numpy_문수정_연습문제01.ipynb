{
 "cells": [
  {
   "cell_type": "markdown",
   "id": "75a2f0d6",
   "metadata": {},
   "source": [
    "## Numpy 연습문제1"
   ]
  },
  {
   "cell_type": "markdown",
   "id": "f5ab92e9",
   "metadata": {},
   "source": [
    "#### 1. np이름으로 numpy 패키지 가져오기"
   ]
  },
  {
   "cell_type": "code",
   "execution_count": 2,
   "id": "2da7c108",
   "metadata": {},
   "outputs": [],
   "source": [
    "import numpy as np"
   ]
  },
  {
   "cell_type": "markdown",
   "id": "7455d8a7",
   "metadata": {},
   "source": [
    "#### 2. numpy 버전 출력하기"
   ]
  },
  {
   "cell_type": "code",
   "execution_count": 3,
   "id": "82df5a56",
   "metadata": {},
   "outputs": [
    {
     "data": {
      "text/plain": [
       "'1.26.4'"
      ]
     },
     "execution_count": 3,
     "metadata": {},
     "output_type": "execute_result"
    }
   ],
   "source": [
    "np.__version__"
   ]
  },
  {
   "cell_type": "markdown",
   "id": "411f7038",
   "metadata": {},
   "source": [
    "#### 3. 모두 0의 값을 갖는 사이즈가 10인 벡터 생성하기"
   ]
  },
  {
   "cell_type": "code",
   "execution_count": 4,
   "id": "d8da97d6",
   "metadata": {},
   "outputs": [
    {
     "data": {
      "text/plain": [
       "array([0., 0., 0., 0., 0., 0., 0., 0., 0., 0.])"
      ]
     },
     "execution_count": 4,
     "metadata": {},
     "output_type": "execute_result"
    }
   ],
   "source": [
    "np.zeros(10)"
   ]
  },
  {
   "cell_type": "markdown",
   "id": "ce6bc591",
   "metadata": {},
   "source": [
    "#### 4. 값 10~49를 갖는 벡터 생성하기"
   ]
  },
  {
   "cell_type": "code",
   "execution_count": 5,
   "id": "8187b84f",
   "metadata": {},
   "outputs": [
    {
     "data": {
      "text/plain": [
       "array([10, 11, 12, 13, 14, 15, 16, 17, 18, 19, 20, 21, 22, 23, 24, 25, 26,\n",
       "       27, 28, 29, 30, 31, 32, 33, 34, 35, 36, 37, 38, 39, 40, 41, 42, 43,\n",
       "       44, 45, 46, 47, 48, 49])"
      ]
     },
     "execution_count": 5,
     "metadata": {},
     "output_type": "execute_result"
    }
   ],
   "source": [
    "np.arange(10,50)"
   ]
  },
  {
   "cell_type": "markdown",
   "id": "b2f84df3",
   "metadata": {},
   "source": [
    "#### 5. 0~8 사이의 정수 값을 3X3 크기로 갖는 행렬 생성하기 "
   ]
  },
  {
   "cell_type": "code",
   "execution_count": 11,
   "id": "d4147c05",
   "metadata": {},
   "outputs": [
    {
     "data": {
      "text/plain": [
       "array([[5, 0, 6],\n",
       "       [2, 8, 3],\n",
       "       [7, 2, 5]])"
      ]
     },
     "execution_count": 11,
     "metadata": {},
     "output_type": "execute_result"
    }
   ],
   "source": [
    "np.random.randint(9, size=(3,3))"
   ]
  },
  {
   "cell_type": "markdown",
   "id": "05ced12a",
   "metadata": {},
   "source": [
    "#### 6. 실수 난수를 3X3X3의 크기로 갖는 배열 생성하기"
   ]
  },
  {
   "cell_type": "code",
   "execution_count": 12,
   "id": "aa79f4cc",
   "metadata": {},
   "outputs": [
    {
     "data": {
      "text/plain": [
       "array([[[0.16793606, 0.48157137, 0.34432324],\n",
       "        [0.2442388 , 0.59126158, 0.28345845],\n",
       "        [0.21927595, 0.18871027, 0.5467188 ]],\n",
       "\n",
       "       [[0.25479537, 0.54003484, 0.12587062],\n",
       "        [0.01542898, 0.10296242, 0.4389225 ],\n",
       "        [0.21992565, 0.50960288, 0.48145217]],\n",
       "\n",
       "       [[0.79300253, 0.05818749, 0.83632692],\n",
       "        [0.2576087 , 0.41143737, 0.79239383],\n",
       "        [0.28573524, 0.08882898, 0.02914716]]])"
      ]
     },
     "execution_count": 12,
     "metadata": {},
     "output_type": "execute_result"
    }
   ],
   "source": [
    "np.random.rand(3,3,3)"
   ]
  }
 ],
 "metadata": {
  "kernelspec": {
   "display_name": "Python 3 (ipykernel)",
   "language": "python",
   "name": "python3"
  },
  "language_info": {
   "codemirror_mode": {
    "name": "ipython",
    "version": 3
   },
   "file_extension": ".py",
   "mimetype": "text/x-python",
   "name": "python",
   "nbconvert_exporter": "python",
   "pygments_lexer": "ipython3",
   "version": "3.11.7"
  }
 },
 "nbformat": 4,
 "nbformat_minor": 5
}
