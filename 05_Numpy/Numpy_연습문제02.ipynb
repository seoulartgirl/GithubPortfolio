{
 "cells": [
  {
   "cell_type": "markdown",
   "id": "75a2f0d6",
   "metadata": {},
   "source": [
    "## Numpy 연습문제2"
   ]
  },
  {
   "cell_type": "code",
   "execution_count": 2,
   "id": "c7d94cdc",
   "metadata": {},
   "outputs": [],
   "source": [
    "import numpy as np"
   ]
  },
  {
   "cell_type": "markdown",
   "id": "ce6bc591",
   "metadata": {},
   "source": [
    "#### 1. 값 20~49를 갖는 벡터 x  생성하기"
   ]
  },
  {
   "cell_type": "code",
   "execution_count": 30,
   "id": "8187b84f",
   "metadata": {},
   "outputs": [
    {
     "data": {
      "text/plain": [
       "array([20, 21, 22, 23, 24, 25, 26, 27, 28, 29, 30, 31, 32, 33, 34, 35, 36,\n",
       "       37, 38, 39, 40, 41, 42, 43, 44, 45, 46, 47, 48, 49])"
      ]
     },
     "execution_count": 30,
     "metadata": {},
     "output_type": "execute_result"
    }
   ],
   "source": [
    "x= np.arange(20,50)\n",
    "x"
   ]
  },
  {
   "cell_type": "markdown",
   "id": "ab1b401c",
   "metadata": {},
   "source": [
    "#### 2. 1번에서 생성한 벡터 요소를 역순으로 갖는 벡터 출력하기 "
   ]
  },
  {
   "cell_type": "code",
   "execution_count": 5,
   "id": "47a7d869",
   "metadata": {},
   "outputs": [
    {
     "data": {
      "text/plain": [
       "array([49, 48, 47, 46, 45, 44, 43, 42, 41, 40, 39, 38, 37, 36, 35, 34, 33,\n",
       "       32, 31, 30, 29, 28, 27, 26, 25, 24, 23, 22, 21, 20])"
      ]
     },
     "execution_count": 5,
     "metadata": {},
     "output_type": "execute_result"
    }
   ],
   "source": [
    "x[::-1]"
   ]
  },
  {
   "cell_type": "markdown",
   "id": "fbb1f612",
   "metadata": {},
   "source": [
    "#### 3. 다음의 코드의 실행 결과를 예상해보기"
   ]
  },
  {
   "cell_type": "markdown",
   "id": "d33d1418",
   "metadata": {},
   "source": [
    "**1)**"
   ]
  },
  {
   "cell_type": "markdown",
   "id": "f7a5c8d0",
   "metadata": {},
   "source": [
    "0 * np.nan"
   ]
  },
  {
   "cell_type": "code",
   "execution_count": 6,
   "id": "58457b1c-e6cb-428c-b514-4aca16d792cf",
   "metadata": {},
   "outputs": [
    {
     "data": {
      "text/plain": [
       "nan"
      ]
     },
     "execution_count": 6,
     "metadata": {},
     "output_type": "execute_result"
    }
   ],
   "source": [
    "0 * np.nan"
   ]
  },
  {
   "cell_type": "markdown",
   "id": "3a0b8761",
   "metadata": {},
   "source": [
    "**2)**"
   ]
  },
  {
   "cell_type": "markdown",
   "id": "5dc7bae9",
   "metadata": {},
   "source": [
    "np.nan == np.nan"
   ]
  },
  {
   "cell_type": "code",
   "execution_count": 7,
   "id": "2cab7e4a-b3f0-4651-8271-5e145116d274",
   "metadata": {},
   "outputs": [
    {
     "data": {
      "text/plain": [
       "False"
      ]
     },
     "execution_count": 7,
     "metadata": {},
     "output_type": "execute_result"
    }
   ],
   "source": [
    "np.nan == np.nan"
   ]
  },
  {
   "cell_type": "markdown",
   "id": "e908946d",
   "metadata": {},
   "source": [
    "**3)**"
   ]
  },
  {
   "cell_type": "markdown",
   "id": "32a0a8bf",
   "metadata": {},
   "source": [
    "np.nan - np.nan"
   ]
  },
  {
   "cell_type": "code",
   "execution_count": 8,
   "id": "042b94b9-b777-4f44-985e-92e805ce3db2",
   "metadata": {},
   "outputs": [
    {
     "data": {
      "text/plain": [
       "nan"
      ]
     },
     "execution_count": 8,
     "metadata": {},
     "output_type": "execute_result"
    }
   ],
   "source": [
    "np.nan - np.nan"
   ]
  },
  {
   "cell_type": "markdown",
   "id": "98528724",
   "metadata": {},
   "source": [
    "**4)**"
   ]
  },
  {
   "cell_type": "markdown",
   "id": "6cdcbae3",
   "metadata": {},
   "source": [
    "np.inf > np.nan"
   ]
  },
  {
   "cell_type": "code",
   "execution_count": 9,
   "id": "5372a254-561f-40a7-b2e3-92847b831657",
   "metadata": {},
   "outputs": [
    {
     "data": {
      "text/plain": [
       "False"
      ]
     },
     "execution_count": 9,
     "metadata": {},
     "output_type": "execute_result"
    }
   ],
   "source": [
    "np.inf > np.nan"
   ]
  },
  {
   "cell_type": "markdown",
   "id": "ae18edf7",
   "metadata": {},
   "source": [
    "**5)**"
   ]
  },
  {
   "cell_type": "markdown",
   "id": "3d0356b5",
   "metadata": {},
   "source": [
    "np.nan in set([np.nan])"
   ]
  },
  {
   "cell_type": "code",
   "execution_count": 10,
   "id": "d1786c55-cfe3-4517-8e5f-ba9a5fc3a9f8",
   "metadata": {},
   "outputs": [
    {
     "data": {
      "text/plain": [
       "True"
      ]
     },
     "execution_count": 10,
     "metadata": {},
     "output_type": "execute_result"
    }
   ],
   "source": [
    "np.nan in set([np.nan])"
   ]
  },
  {
   "cell_type": "markdown",
   "id": "318c2e9c",
   "metadata": {},
   "source": [
    "#### 4. 모두 1의 요소를 갖는 5X3 크기 행렬 A와 3X2 크기 행렬 B 생성하기"
   ]
  },
  {
   "cell_type": "code",
   "execution_count": 15,
   "id": "2f988fcd",
   "metadata": {},
   "outputs": [
    {
     "data": {
      "text/plain": [
       "array([[1., 1., 1.],\n",
       "       [1., 1., 1.],\n",
       "       [1., 1., 1.],\n",
       "       [1., 1., 1.],\n",
       "       [1., 1., 1.]])"
      ]
     },
     "execution_count": 15,
     "metadata": {},
     "output_type": "execute_result"
    }
   ],
   "source": [
    "A = np.ones((5, 3))\n",
    "A"
   ]
  },
  {
   "cell_type": "code",
   "execution_count": 14,
   "id": "e9fe7ac2-2df8-42f6-93fb-0d834d11a1cb",
   "metadata": {},
   "outputs": [
    {
     "data": {
      "text/plain": [
       "array([[1., 1.],\n",
       "       [1., 1.],\n",
       "       [1., 1.]])"
      ]
     },
     "execution_count": 14,
     "metadata": {},
     "output_type": "execute_result"
    }
   ],
   "source": [
    "B = np.ones((3, 2))\n",
    "B"
   ]
  },
  {
   "cell_type": "markdown",
   "id": "018e7359",
   "metadata": {},
   "source": [
    "#### 5. 4번에서 생성한 두 행렬의 곱(dot)을 한 결과는?"
   ]
  },
  {
   "cell_type": "code",
   "execution_count": 18,
   "id": "ddca391b",
   "metadata": {},
   "outputs": [
    {
     "data": {
      "text/plain": [
       "array([[3., 3.],\n",
       "       [3., 3.],\n",
       "       [3., 3.],\n",
       "       [3., 3.],\n",
       "       [3., 3.]])"
      ]
     },
     "execution_count": 18,
     "metadata": {},
     "output_type": "execute_result"
    }
   ],
   "source": [
    "np.dot(A,B)"
   ]
  },
  {
   "cell_type": "markdown",
   "id": "8e736ddb",
   "metadata": {},
   "source": [
    "#### 6. 다음의 결과를 예상하시오."
   ]
  },
  {
   "cell_type": "markdown",
   "id": "4ff45003",
   "metadata": {},
   "source": [
    "**1)**"
   ]
  },
  {
   "cell_type": "markdown",
   "id": "bb40a75e",
   "metadata": {},
   "source": [
    "np.array(0) / np.array(0)"
   ]
  },
  {
   "cell_type": "code",
   "execution_count": 19,
   "id": "32a02f0f-0141-43a1-adc8-ddf645ac9c2b",
   "metadata": {},
   "outputs": [
    {
     "name": "stderr",
     "output_type": "stream",
     "text": [
      "/var/folders/d8/9nns59h14_z0hzcqldblr_v00000gn/T/ipykernel_28703/873513115.py:1: RuntimeWarning: invalid value encountered in divide\n",
      "  np.array(0) / np.array(0)\n"
     ]
    },
    {
     "data": {
      "text/plain": [
       "nan"
      ]
     },
     "execution_count": 19,
     "metadata": {},
     "output_type": "execute_result"
    }
   ],
   "source": [
    "np.array(0) / np.array(0)"
   ]
  },
  {
   "cell_type": "markdown",
   "id": "296eb6aa",
   "metadata": {},
   "source": [
    "**2)**"
   ]
  },
  {
   "cell_type": "markdown",
   "id": "473309e9",
   "metadata": {},
   "source": [
    "np.array(0) // np.array(0)"
   ]
  },
  {
   "cell_type": "code",
   "execution_count": 24,
   "id": "3829a176-188e-44ee-a22f-8587a4413c84",
   "metadata": {},
   "outputs": [
    {
     "name": "stderr",
     "output_type": "stream",
     "text": [
      "/var/folders/d8/9nns59h14_z0hzcqldblr_v00000gn/T/ipykernel_28703/2018018105.py:1: RuntimeWarning: divide by zero encountered in floor_divide\n",
      "  np.array(0) // np.array(0)\n"
     ]
    },
    {
     "data": {
      "text/plain": [
       "0"
      ]
     },
     "execution_count": 24,
     "metadata": {},
     "output_type": "execute_result"
    }
   ],
   "source": [
    "np.array(0) // np.array(0)"
   ]
  },
  {
   "cell_type": "markdown",
   "id": "ff663312",
   "metadata": {},
   "source": [
    "**3)**"
   ]
  },
  {
   "cell_type": "markdown",
   "id": "2f6c8b15",
   "metadata": {},
   "source": [
    "np.array([np.nan]).astype(int).astype(float)"
   ]
  },
  {
   "cell_type": "code",
   "execution_count": 25,
   "id": "747a7812-a90f-44c5-a4c9-c0ead1c243c1",
   "metadata": {},
   "outputs": [
    {
     "name": "stderr",
     "output_type": "stream",
     "text": [
      "/var/folders/d8/9nns59h14_z0hzcqldblr_v00000gn/T/ipykernel_28703/699728972.py:1: RuntimeWarning: invalid value encountered in cast\n",
      "  np.array([np.nan]).astype(int).astype(float)\n"
     ]
    },
    {
     "data": {
      "text/plain": [
       "array([0.])"
      ]
     },
     "execution_count": 25,
     "metadata": {},
     "output_type": "execute_result"
    }
   ],
   "source": [
    "np.array([np.nan]).astype(int).astype(float)"
   ]
  },
  {
   "cell_type": "markdown",
   "id": "033314bc",
   "metadata": {},
   "source": [
    "#### 7. 1번에서 생성한 벡터에서 30에서 38사이의 모든 요소 가져오기"
   ]
  },
  {
   "cell_type": "code",
   "execution_count": 33,
   "id": "c57c9bb2",
   "metadata": {},
   "outputs": [
    {
     "data": {
      "text/plain": [
       "array([30, 31, 32, 33, 34, 35, 36, 37, 38])"
      ]
     },
     "execution_count": 33,
     "metadata": {},
     "output_type": "execute_result"
    }
   ],
   "source": [
    "x[10:19]"
   ]
  },
  {
   "cell_type": "code",
   "execution_count": 61,
   "id": "7d2f9658-014c-4f5b-9336-466e9f8c4000",
   "metadata": {},
   "outputs": [
    {
     "data": {
      "text/plain": [
       "array([30, 31, 32, 33, 34, 35, 36, 37, 38])"
      ]
     },
     "execution_count": 61,
     "metadata": {},
     "output_type": "execute_result"
    }
   ],
   "source": [
    "x[(x>29) & (x<39)]"
   ]
  },
  {
   "cell_type": "markdown",
   "id": "8a00709d",
   "metadata": {},
   "source": [
    "#### 8. 크기 10의 실수 랜덤 벡터를 생성하고, 최대값을 0으로 변경하기"
   ]
  },
  {
   "cell_type": "code",
   "execution_count": 41,
   "id": "7d9caf3f",
   "metadata": {},
   "outputs": [
    {
     "data": {
      "text/plain": [
       "array([0.79359586, 0.92140598, 0.09676108, 0.62268681, 0.61782236,\n",
       "       0.86661656, 0.        , 0.59403159, 0.15230749, 0.72391772])"
      ]
     },
     "execution_count": 41,
     "metadata": {},
     "output_type": "execute_result"
    }
   ],
   "source": [
    "data = np.random.rand(10)\n",
    "data[np.argmax(data)] = 0\n",
    "data"
   ]
  },
  {
   "cell_type": "markdown",
   "id": "ef49effa",
   "metadata": {},
   "source": [
    "#### 9. 1에서 10사이의 실수를 등간격으로 50개 갖는 벡터를 생성하되 32비트 실수로 생성하기"
   ]
  },
  {
   "cell_type": "code",
   "execution_count": 48,
   "id": "100f7793",
   "metadata": {},
   "outputs": [
    {
     "data": {
      "text/plain": [
       "array([ 1.       ,  1.1836735,  1.3673469,  1.5510204,  1.7346939,\n",
       "        1.9183674,  2.1020408,  2.2857144,  2.4693878,  2.6530612,\n",
       "        2.8367348,  3.0204082,  3.2040815,  3.3877552,  3.5714285,\n",
       "        3.7551022,  3.9387755,  4.122449 ,  4.3061223,  4.4897957,\n",
       "        4.6734695,  4.857143 ,  5.0408163,  5.2244897,  5.408163 ,\n",
       "        5.591837 ,  5.7755103,  5.9591837,  6.142857 ,  6.3265305,\n",
       "        6.5102043,  6.6938777,  6.877551 ,  7.0612245,  7.244898 ,\n",
       "        7.428571 ,  7.612245 ,  7.7959185,  7.979592 ,  8.163265 ,\n",
       "        8.346939 ,  8.530612 ,  8.714286 ,  8.897959 ,  9.081633 ,\n",
       "        9.265306 ,  9.448979 ,  9.632653 ,  9.816326 , 10.       ],\n",
       "      dtype=float32)"
      ]
     },
     "execution_count": 48,
     "metadata": {},
     "output_type": "execute_result"
    }
   ],
   "source": [
    "y = np.linspace(1,10,50, dtype=np.float32)\n",
    "y"
   ]
  },
  {
   "cell_type": "markdown",
   "id": "ed925f2a",
   "metadata": {},
   "source": [
    "#### 10. 9번에서 생성한 벡터를 32비트 정수형으로 변환하기"
   ]
  },
  {
   "cell_type": "code",
   "execution_count": 49,
   "id": "bac916de",
   "metadata": {
    "scrolled": true
   },
   "outputs": [
    {
     "data": {
      "text/plain": [
       "array([ 1,  1,  1,  1,  1,  1,  2,  2,  2,  2,  2,  3,  3,  3,  3,  3,  3,\n",
       "        4,  4,  4,  4,  4,  5,  5,  5,  5,  5,  5,  6,  6,  6,  6,  6,  7,\n",
       "        7,  7,  7,  7,  7,  8,  8,  8,  8,  8,  9,  9,  9,  9,  9, 10],\n",
       "      dtype=int32)"
      ]
     },
     "execution_count": 49,
     "metadata": {},
     "output_type": "execute_result"
    }
   ],
   "source": [
    "y.astype(np.int32)"
   ]
  },
  {
   "cell_type": "markdown",
   "id": "53226649",
   "metadata": {},
   "source": [
    "#### 11. 2022년 12월에 해당하는 모든 날짜를 갖는 벡터 생성하기\n",
    "\n",
    "- 힌트 : arange()함수 사용하되 데이터 유형을 'datetime64[D]'로 지정할 것"
   ]
  },
  {
   "cell_type": "code",
   "execution_count": 53,
   "id": "be3f9053",
   "metadata": {},
   "outputs": [
    {
     "data": {
      "text/plain": [
       "array(['2022-12-01', '2022-12-02', '2022-12-03', '2022-12-04',\n",
       "       '2022-12-05', '2022-12-06', '2022-12-07', '2022-12-08',\n",
       "       '2022-12-09', '2022-12-10', '2022-12-11', '2022-12-12',\n",
       "       '2022-12-13', '2022-12-14', '2022-12-15', '2022-12-16',\n",
       "       '2022-12-17', '2022-12-18', '2022-12-19', '2022-12-20',\n",
       "       '2022-12-21', '2022-12-22', '2022-12-23', '2022-12-24',\n",
       "       '2022-12-25', '2022-12-26', '2022-12-27', '2022-12-28',\n",
       "       '2022-12-29', '2022-12-30'], dtype='datetime64[D]')"
      ]
     },
     "execution_count": 53,
     "metadata": {},
     "output_type": "execute_result"
    }
   ],
   "source": [
    "np.arange(np.datetime64('2022-12-01'), np.datetime64('2022-12-31'))"
   ]
  },
  {
   "cell_type": "code",
   "execution_count": 70,
   "id": "09cd4a28-229d-4ce2-801f-76156789d7ed",
   "metadata": {},
   "outputs": [
    {
     "data": {
      "text/plain": [
       "array(['2022-12', '2023-01', '2023-02', '2023-03', '2023-04', '2023-05',\n",
       "       '2023-06', '2023-07', '2023-08', '2023-09', '2023-10', '2023-11'],\n",
       "      dtype='datetime64[M]')"
      ]
     },
     "execution_count": 70,
     "metadata": {},
     "output_type": "execute_result"
    }
   ],
   "source": [
    "dates = np.arange('2022-12-01', '2023-12-01', dtype='datetime64[M]') #Month\n",
    "dates"
   ]
  },
  {
   "cell_type": "code",
   "execution_count": 70,
   "id": "b4ebf93b-bc8c-419c-b965-43f650c87388",
   "metadata": {},
   "outputs": [
    {
     "data": {
      "text/plain": [
       "array(['2022-12', '2023-01', '2023-02', '2023-03', '2023-04', '2023-05',\n",
       "       '2023-06', '2023-07', '2023-08', '2023-09', '2023-10', '2023-11'],\n",
       "      dtype='datetime64[M]')"
      ]
     },
     "execution_count": 70,
     "metadata": {},
     "output_type": "execute_result"
    }
   ],
   "source": [
    "dates = np.arange('2022-12-01', '2023-12-01', dtype='datetime64[Y]') #Year\n",
    "dates"
   ]
  },
  {
   "cell_type": "code",
   "execution_count": 70,
   "id": "1fcae1af-4381-4873-9f00-45f02c138b7d",
   "metadata": {},
   "outputs": [
    {
     "data": {
      "text/plain": [
       "array(['2022-12', '2023-01', '2023-02', '2023-03', '2023-04', '2023-05',\n",
       "       '2023-06', '2023-07', '2023-08', '2023-09', '2023-10', '2023-11'],\n",
       "      dtype='datetime64[M]')"
      ]
     },
     "execution_count": 70,
     "metadata": {},
     "output_type": "execute_result"
    }
   ],
   "source": [
    "dates = np.arange('2022-12-01', '2023-12-01', dtype='datetime64[H]') #hour\n",
    "dates"
   ]
  },
  {
   "cell_type": "markdown",
   "id": "bc23786a",
   "metadata": {},
   "source": [
    "#### 12. 오늘의 날짜를 생성하고, 어제, 내일의 날짜 생성해보기\n",
    "- 힌트 : np.datetime64('today'), np.timedelta64() 사용"
   ]
  },
  {
   "cell_type": "code",
   "execution_count": 55,
   "id": "3073b489",
   "metadata": {},
   "outputs": [
    {
     "data": {
      "text/plain": [
       "numpy.datetime64('2024-03-19')"
      ]
     },
     "execution_count": 55,
     "metadata": {},
     "output_type": "execute_result"
    }
   ],
   "source": [
    "today = np.datetime64('today')\n",
    "today"
   ]
  },
  {
   "cell_type": "code",
   "execution_count": 65,
   "id": "567eff5e",
   "metadata": {},
   "outputs": [
    {
     "data": {
      "text/plain": [
       "numpy.datetime64('2024-03-18')"
      ]
     },
     "execution_count": 65,
     "metadata": {},
     "output_type": "execute_result"
    }
   ],
   "source": [
    "yester = today - np.timedelta64(1)\n",
    "yester"
   ]
  },
  {
   "cell_type": "code",
   "execution_count": 66,
   "id": "731e1033",
   "metadata": {},
   "outputs": [
    {
     "data": {
      "text/plain": [
       "numpy.datetime64('2024-03-20')"
      ]
     },
     "execution_count": 66,
     "metadata": {},
     "output_type": "execute_result"
    }
   ],
   "source": [
    "tomor = today + np.timedelta64(1)\n",
    "tomor"
   ]
  },
  {
   "cell_type": "code",
   "execution_count": 64,
   "id": "c5d5ff71-3077-40c3-ad00-967b825c5f9f",
   "metadata": {},
   "outputs": [
    {
     "data": {
      "text/plain": [
       "numpy.datetime64('2024-03-20')"
      ]
     },
     "execution_count": 64,
     "metadata": {},
     "output_type": "execute_result"
    }
   ],
   "source": [
    "one_day = np.timedelta64(1,'D')\n",
    "one_day\n",
    "tomor = today + one_day\n",
    "tomor"
   ]
  },
  {
   "cell_type": "markdown",
   "id": "78960b0f",
   "metadata": {},
   "source": [
    "----"
   ]
  }
 ],
 "metadata": {
  "kernelspec": {
   "display_name": "Python 3 (ipykernel)",
   "language": "python",
   "name": "python3"
  },
  "language_info": {
   "codemirror_mode": {
    "name": "ipython",
    "version": 3
   },
   "file_extension": ".py",
   "mimetype": "text/x-python",
   "name": "python",
   "nbconvert_exporter": "python",
   "pygments_lexer": "ipython3",
   "version": "3.11.7"
  }
 },
 "nbformat": 4,
 "nbformat_minor": 5
}
