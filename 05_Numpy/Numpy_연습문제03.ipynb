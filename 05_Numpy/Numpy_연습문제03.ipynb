{
 "cells": [
  {
   "cell_type": "markdown",
   "id": "035433a4",
   "metadata": {},
   "source": [
    "### Numpy 연습문제3"
   ]
  },
  {
   "cell_type": "code",
   "execution_count": 1,
   "id": "dc8e17f9",
   "metadata": {},
   "outputs": [],
   "source": [
    "import numpy as np"
   ]
  },
  {
   "cell_type": "markdown",
   "id": "ab73396f",
   "metadata": {},
   "source": [
    "### 연습문제. 마스크 인덱싱"
   ]
  },
  {
   "cell_type": "code",
   "execution_count": 17,
   "id": "ce0dd3ac",
   "metadata": {},
   "outputs": [],
   "source": [
    "names = np.array(['Beomwoo','Beomwoo','Kim','Joan','Lee','Beomwoo',\n",
    "                  'Park','Beomwoo'])\n",
    "data = np.random.randn(8,4)  # 표준정규분포난수"
   ]
  },
  {
   "cell_type": "code",
   "execution_count": 18,
   "id": "719932ad",
   "metadata": {
    "scrolled": true
   },
   "outputs": [
    {
     "data": {
      "text/plain": [
       "array([[ 0.25366454, -0.20037555,  0.13942995, -0.3297124 ],\n",
       "       [ 0.55402282,  0.86483924,  1.36457421,  0.29021372],\n",
       "       [ 2.08437993, -0.751212  ,  0.60201831,  0.57641732],\n",
       "       [ 0.17471195,  0.42982158, -0.00704453, -0.80361422],\n",
       "       [ 0.28577658, -1.39316567,  2.72800661,  0.40199233],\n",
       "       [ 0.37245514,  0.08919579,  0.59171826, -0.83800382],\n",
       "       [-0.09075571, -0.67335694,  0.56276275,  1.51107125],\n",
       "       [-0.27027708,  0.31341666, -0.55006402, -0.06869444]])"
      ]
     },
     "execution_count": 18,
     "metadata": {},
     "output_type": "execute_result"
    }
   ],
   "source": [
    "data"
   ]
  },
  {
   "cell_type": "markdown",
   "id": "d2f00f67",
   "metadata": {},
   "source": [
    "#### 문제1. data array에서 0번째 열이 0보다 작은 행 데이터 가져오기"
   ]
  },
  {
   "cell_type": "code",
   "execution_count": 19,
   "id": "f8cb2ff0",
   "metadata": {},
   "outputs": [
    {
     "data": {
      "text/plain": [
       "array([[-0.09075571, -0.67335694,  0.56276275,  1.51107125],\n",
       "       [-0.27027708,  0.31341666, -0.55006402, -0.06869444]])"
      ]
     },
     "execution_count": 19,
     "metadata": {},
     "output_type": "execute_result"
    }
   ],
   "source": [
    "data[data[:, 0] < 0]"
   ]
  },
  {
   "cell_type": "markdown",
   "id": "8dee5f6b",
   "metadata": {},
   "source": [
    "#### 문제2. data array에서 0번째 열이 0보다 작은 행의 2, 3번째 열 데이터 가져오기"
   ]
  },
  {
   "cell_type": "code",
   "execution_count": 20,
   "id": "1aafed28",
   "metadata": {},
   "outputs": [
    {
     "data": {
      "text/plain": [
       "array([[ 0.56276275,  1.51107125],\n",
       "       [-0.55006402, -0.06869444]])"
      ]
     },
     "execution_count": 20,
     "metadata": {},
     "output_type": "execute_result"
    }
   ],
   "source": [
    "data[data[:, 0] < 0, 2:4]"
   ]
  },
  {
   "cell_type": "markdown",
   "id": "5cc888e2",
   "metadata": {},
   "source": [
    "----------------------------------------------"
   ]
  },
  {
   "cell_type": "markdown",
   "id": "2872c994",
   "metadata": {},
   "source": [
    "### 연습문제: 정렬"
   ]
  },
  {
   "cell_type": "code",
   "execution_count": 13,
   "id": "36ba6d67",
   "metadata": {},
   "outputs": [],
   "source": [
    "name_array = np.array(['John', 'Mike', 'Sarah', 'Kate', 'Samuel'])\n",
    "score_array = np.array([78, 95, 84, 98, 88])"
   ]
  },
  {
   "cell_type": "markdown",
   "id": "726dbc9a",
   "metadata": {},
   "source": [
    "#### 문제1. 위 행렬에서 성적의 오름차순으로 학생의 이름을 출력하시오."
   ]
  },
  {
   "cell_type": "code",
   "execution_count": 23,
   "id": "a5634d57",
   "metadata": {},
   "outputs": [
    {
     "data": {
      "text/plain": [
       "array(['John', 'Kate', 'Mike', 'Samuel', 'Sarah'], dtype='<U6')"
      ]
     },
     "execution_count": 23,
     "metadata": {},
     "output_type": "execute_result"
    }
   ],
   "source": [
    "np.sort(name_array)"
   ]
  },
  {
   "cell_type": "code",
   "execution_count": 22,
   "id": "02727405-10dc-491e-b5d9-2743effb9415",
   "metadata": {},
   "outputs": [
    {
     "data": {
      "text/plain": [
       "array(['John', 'Kate', 'Mike', 'Samuel', 'Sarah'], dtype='<U6')"
      ]
     },
     "execution_count": 22,
     "metadata": {},
     "output_type": "execute_result"
    }
   ],
   "source": [
    "idx = np.argsort(name_array)\n",
    "name_array[idx]"
   ]
  },
  {
   "cell_type": "markdown",
   "id": "26f12f79",
   "metadata": {},
   "source": [
    "#### 문제2. 성적이 가장 좋은 사람의 이름을 출력하시오"
   ]
  },
  {
   "cell_type": "code",
   "execution_count": null,
   "id": "e842b6f9",
   "metadata": {},
   "outputs": [],
   "source": [
    "name_array[np.argmax(score_array)]"
   ]
  }
 ],
 "metadata": {
  "kernelspec": {
   "display_name": "Python 3 (ipykernel)",
   "language": "python",
   "name": "python3"
  },
  "language_info": {
   "codemirror_mode": {
    "name": "ipython",
    "version": 3
   },
   "file_extension": ".py",
   "mimetype": "text/x-python",
   "name": "python",
   "nbconvert_exporter": "python",
   "pygments_lexer": "ipython3",
   "version": "3.11.7"
  }
 },
 "nbformat": 4,
 "nbformat_minor": 5
}
