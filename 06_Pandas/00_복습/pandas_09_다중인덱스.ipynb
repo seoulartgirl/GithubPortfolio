{
 "cells": [
  {
   "cell_type": "code",
   "execution_count": null,
   "metadata": {},
   "outputs": [],
   "source": []
  },
  {
   "cell_type": "code",
   "execution_count": null,
   "metadata": {},
   "outputs": [],
   "source": []
  },
  {
   "cell_type": "markdown",
   "metadata": {},
   "source": [
    "### 참고. 난수 생성 : np.random 모듈\n",
    "\n",
    ": https://docs.python.org/ko/3/library/random.html\n",
    "\n",
    "##### np.random.seed(seed값)\n",
    "\n",
    "- seed : 난수 알고리즘에서 사용하는 기본 값\n",
    "    - seed 값이 같으면 동일한 난수 발생\n",
    "    - 예. np.random.seed(10) \n",
    "\n",
    "\n",
    "- 계속 변경되는 난수를 생성하려면 시드값이 매번 변하도록 지정\n",
    "    - 예. np.random.seed(int(time.time()))\n",
    "    \n",
    "\n",
    "#### 난수 생성 함수\n",
    "\n",
    "- random.rand() : 주어진 형태의 난수 배열 생성\n",
    "- random.randint(최소값, 최대값, size=n) \n",
    "    - [최소값, 최대값)의 범위에서 임의의 정수 생성\n",
    "    \n",
    "- random.randn() : 표준정규분포(Standard normal distribution)로부터 샘플링된 난수 생성\n",
    "\n",
    "- random.standard_normal() : 표준정규분포 난수 발생\n",
    "\n",
    "- random.normal([loc, scale, size]) : 정규분포 난수 생성\n",
    "\n",
    "- random.random_sample(size) : [0,1)사이의 난수 생성\n",
    "\n",
    "- random.choice(a[, size, replace, p]) : 주어진 배열로 부터 표본추출"
   ]
  },
  {
   "cell_type": "code",
   "execution_count": null,
   "metadata": {},
   "outputs": [],
   "source": []
  },
  {
   "cell_type": "code",
   "execution_count": null,
   "metadata": {},
   "outputs": [],
   "source": []
  },
  {
   "cell_type": "code",
   "execution_count": null,
   "metadata": {},
   "outputs": [],
   "source": []
  },
  {
   "cell_type": "code",
   "execution_count": null,
   "metadata": {},
   "outputs": [],
   "source": []
  },
  {
   "cell_type": "markdown",
   "metadata": {},
   "source": [
    "### 참고. 파이썬의 random 모듈\n",
    "\n",
    "#### 정수 난수 발생 함수\n",
    "\n",
    "##### random.randrange(start, stop[, step])\n",
    "- range(start, stop, step)에서 임의로 선택된 요소를 반환\n",
    "- choice(range(start, stop, step))와 동등하지만 실제로 range 객체를 만들지는 않음\n",
    "\n",
    "##### random.randint(a, b)\n",
    "- `a <= N <= b` 를 만족하는 임의의 정수 N을 반환\n",
    "- randrange(a, b+1)의 별칭\n",
    "\n",
    "#### 시퀀스 난수 발생 함수\n",
    "##### random.choice(seq)\n",
    "- 비어 있지 않은 시퀀스 seq에서 임의의 요소를 반환\n",
    "- seq가 비어 있으면, IndexError를 발생\n",
    "\n",
    "\n",
    "##### random.choices(population, weights=None, *, cum_weights=None, k=1)\n",
    "- population에서 중복을 허락하면서(with replacement) 선택한 k 크기의 요소 리스트를 반환\n",
    "- population이 비어 있으면 IndexError 발생\n",
    "- weights 시퀀스가 지정되면 상대 가중치에 따라 선택됨\n",
    "- weights나 cum_weights를 지정하지 않으면 같은 확률로 선택\n",
    "- weights 시퀀스가 제공되면, population 시퀀스와 길이가 같아야 함\n",
    "- weights와 cum_weights를 모두 지정하는 것은 TypeError\n",
    "\n",
    "##### random.sample(population, k, *, counts=None)\n",
    "- population 시퀀스로부터 추출한 k개 길이의 새 리스트를 반환\n",
    "- random sampling without replacement\n",
    "\n",
    "#### 실수 난수 발생 함수\n",
    "##### random.random()\n",
    "- `0.0 <= X < 1.0` 사이의 실수 반환\n",
    "\n",
    "##### random.uniform(a, b)\n",
    "- `a <= b` 일 때 `a <= N <= b`, `b < a` 일 때 `b <= N <= a`를 만족하는 임의의 부동 소수점 숫자 N을 반환\n",
    "- 종단 값 b는 방정식 a + (b-a) * random()의 부동 소수점 자리 올림에 따라 범위에 포함되거나 포함되지 않을 수 있음"
   ]
  },
  {
   "cell_type": "markdown",
   "metadata": {},
   "source": [
    "----"
   ]
  },
  {
   "cell_type": "markdown",
   "metadata": {},
   "source": [
    "# pandas 다중 인덱스(multi index)"
   ]
  },
  {
   "cell_type": "markdown",
   "metadata": {},
   "source": [
    "- 행이나 열 인덱스가 계층으로 구성된 인덱스(Hierarchical indexing)"
   ]
  },
  {
   "cell_type": "code",
   "execution_count": null,
   "metadata": {
    "scrolled": true
   },
   "outputs": [],
   "source": []
  },
  {
   "cell_type": "markdown",
   "metadata": {},
   "source": [
    "[학습 내용]\n",
    "\n",
    "1. 다중 인덱스를 갖는 Series\n",
    "2. 다중 인덱스를 갖는 DataFrame\n",
    "3. MultiIndex 객체\n",
    "4. 다중인덱스의 특정 레벨 제거 : droplevel()\n",
    "5. 행인덱스 레벨 해제 : unstack()\n",
    "6. 열인덱스 레벨 해제 : stack()\n",
    "7. 다중인덱스의 레벨 교환 : swaplevel()\n",
    "8. 다중인덱스의 행/열 추가\n",
    "9. 다중인덱스 정렬"
   ]
  },
  {
   "cell_type": "markdown",
   "metadata": {},
   "source": [
    "### 1. 다중인덱스를 갖는 Series"
   ]
  },
  {
   "cell_type": "markdown",
   "metadata": {},
   "source": [
    "#### 예1. 난수 데이터를 갖는 Series"
   ]
  },
  {
   "cell_type": "code",
   "execution_count": null,
   "metadata": {
    "scrolled": true
   },
   "outputs": [],
   "source": [
    "arrays = [np.array([\"bar\", \"bar\", \"baz\", \"baz\",\n",
    "                    \"foo\", \"foo\", \"qux\", \"qux\"]),\n",
    "          np.array([\"one\", \"two\", \"one\", \"two\",\n",
    "                    \"one\", \"two\", \"one\", \"two\"])]\n"
   ]
  },
  {
   "cell_type": "markdown",
   "metadata": {},
   "source": [
    "#### 예2. 키를 튜플로 갖는 딕셔너리의 데이터로 Series 생성"
   ]
  },
  {
   "cell_type": "code",
   "execution_count": null,
   "metadata": {},
   "outputs": [],
   "source": [
    "# 키를 튜플로 갖는 딕셔너리 데이터\n",
    "data = {('James', 'Eng'): 100,\n",
    "        ('James', 'Math') : 90,\n",
    "        ('Ted', 'Eng') : 90,\n",
    "        ('Ted', 'Math') : 70,\n",
    "        ('Adam', 'Eng') : 85,\n",
    "        ('Adam', 'Math') : 90 }\n"
   ]
  },
  {
   "cell_type": "code",
   "execution_count": null,
   "metadata": {},
   "outputs": [],
   "source": []
  },
  {
   "cell_type": "code",
   "execution_count": null,
   "metadata": {
    "scrolled": true
   },
   "outputs": [],
   "source": []
  },
  {
   "cell_type": "markdown",
   "metadata": {},
   "source": [
    "#### 인덱스의 이름 지정 : 시리즈.index.names = [ , ]"
   ]
  },
  {
   "cell_type": "code",
   "execution_count": null,
   "metadata": {},
   "outputs": [],
   "source": []
  },
  {
   "cell_type": "markdown",
   "metadata": {},
   "source": [
    "#### 다중인덱스를 갖는 Series의 인덱싱\n",
    "\n",
    "- 시리즈[상위인덱스]\n",
    "- 시리즈.상위인덱스\n",
    "- 시리즈[(상위인덱스, 하위인덱스)]\n",
    "- 시리즈.상위인데스,하위인덱스\n",
    "- 시리즈[:, 하위인덱스]"
   ]
  },
  {
   "cell_type": "code",
   "execution_count": null,
   "metadata": {},
   "outputs": [],
   "source": []
  },
  {
   "cell_type": "code",
   "execution_count": null,
   "metadata": {},
   "outputs": [],
   "source": []
  },
  {
   "cell_type": "code",
   "execution_count": null,
   "metadata": {},
   "outputs": [],
   "source": []
  },
  {
   "cell_type": "code",
   "execution_count": null,
   "metadata": {},
   "outputs": [],
   "source": []
  },
  {
   "cell_type": "code",
   "execution_count": null,
   "metadata": {},
   "outputs": [],
   "source": []
  },
  {
   "cell_type": "code",
   "execution_count": null,
   "metadata": {},
   "outputs": [],
   "source": []
  },
  {
   "cell_type": "code",
   "execution_count": null,
   "metadata": {},
   "outputs": [],
   "source": []
  },
  {
   "cell_type": "markdown",
   "metadata": {},
   "source": [
    "### 2. 다중 인덱스를 갖는 DataFrame"
   ]
  },
  {
   "cell_type": "markdown",
   "metadata": {},
   "source": [
    "- 데이터 프레임 생성 시 생성자에서 columns인수나 index 인수를  2차원 리스트(행렬) 형태로 지정할 경우"
   ]
  },
  {
   "cell_type": "markdown",
   "metadata": {},
   "source": [
    "#### 1) column인덱스를 다중 인덱스로 갖는 DataFrame"
   ]
  },
  {
   "cell_type": "code",
   "execution_count": null,
   "metadata": {},
   "outputs": [],
   "source": []
  },
  {
   "cell_type": "code",
   "execution_count": null,
   "metadata": {},
   "outputs": [],
   "source": []
  },
  {
   "cell_type": "code",
   "execution_count": null,
   "metadata": {},
   "outputs": [],
   "source": []
  },
  {
   "cell_type": "markdown",
   "metadata": {},
   "source": [
    "#### 열 인덱싱(1): df[상위인덱스]\n",
    "- 상위 인덱스의 모든 열에 대한 데이터프레임 반환"
   ]
  },
  {
   "cell_type": "code",
   "execution_count": null,
   "metadata": {},
   "outputs": [],
   "source": []
  },
  {
   "cell_type": "markdown",
   "metadata": {},
   "source": [
    "#### 열 인덱싱(2): df[(상위인덱스, 하위인덱스)]\n",
    "- 인덱스가 하나가 아니므로 묶어서(튜플로) 전달해야 함\n",
    "- 시리즈로 반환"
   ]
  },
  {
   "cell_type": "code",
   "execution_count": null,
   "metadata": {},
   "outputs": [],
   "source": []
  },
  {
   "cell_type": "code",
   "execution_count": null,
   "metadata": {
    "scrolled": true
   },
   "outputs": [],
   "source": []
  },
  {
   "cell_type": "markdown",
   "metadata": {},
   "source": [
    "#### 열인덱싱(3) :  . 연산자로 확장\n",
    "\n",
    "- df.상위인덱스\n",
    "- df.상위인덱스.하위인덱스"
   ]
  },
  {
   "cell_type": "code",
   "execution_count": null,
   "metadata": {},
   "outputs": [],
   "source": []
  },
  {
   "cell_type": "code",
   "execution_count": null,
   "metadata": {
    "scrolled": true
   },
   "outputs": [],
   "source": []
  },
  {
   "cell_type": "markdown",
   "metadata": {},
   "source": [
    "#### 열인덱스 이름 지정 : df.columns.names = []"
   ]
  },
  {
   "cell_type": "code",
   "execution_count": null,
   "metadata": {},
   "outputs": [],
   "source": []
  },
  {
   "cell_type": "markdown",
   "metadata": {},
   "source": [
    "#### 2) 행인덱스를 다중 인덱스로 갖는 DataFrame"
   ]
  },
  {
   "cell_type": "code",
   "execution_count": null,
   "metadata": {},
   "outputs": [],
   "source": []
  },
  {
   "cell_type": "code",
   "execution_count": null,
   "metadata": {},
   "outputs": [],
   "source": []
  },
  {
   "cell_type": "markdown",
   "metadata": {},
   "source": [
    "#### 행인덱싱(1) : df.loc[상위인덱스]"
   ]
  },
  {
   "cell_type": "code",
   "execution_count": null,
   "metadata": {
    "scrolled": true
   },
   "outputs": [],
   "source": []
  },
  {
   "cell_type": "code",
   "execution_count": null,
   "metadata": {},
   "outputs": [],
   "source": []
  },
  {
   "cell_type": "markdown",
   "metadata": {},
   "source": [
    "#### 행인덱싱(2) : df.loc[(상위인덱스, 하위인덱스)]\n",
    "- 상위인덱스와 하위인덱스를 튜플로 전달"
   ]
  },
  {
   "cell_type": "code",
   "execution_count": null,
   "metadata": {},
   "outputs": [],
   "source": []
  },
  {
   "cell_type": "markdown",
   "metadata": {},
   "source": [
    "#### 인덱서 iloc : df.iloc[  ]\n",
    "- iloc인덱서는 행이름, 열이름 기반이 아님"
   ]
  },
  {
   "cell_type": "code",
   "execution_count": null,
   "metadata": {},
   "outputs": [],
   "source": []
  },
  {
   "cell_type": "code",
   "execution_count": null,
   "metadata": {},
   "outputs": [],
   "source": []
  },
  {
   "cell_type": "code",
   "execution_count": null,
   "metadata": {},
   "outputs": [],
   "source": []
  },
  {
   "cell_type": "markdown",
   "metadata": {},
   "source": [
    "#### 3)  행과 열에 모두 다중인덱스를 갖는 DataFrame"
   ]
  },
  {
   "cell_type": "code",
   "execution_count": null,
   "metadata": {},
   "outputs": [],
   "source": []
  },
  {
   "cell_type": "code",
   "execution_count": null,
   "metadata": {},
   "outputs": [],
   "source": []
  },
  {
   "cell_type": "markdown",
   "metadata": {},
   "source": [
    "#### 행/열 각 인덱스에 이름(names) 설정\n",
    "\n",
    "- 이름을 지정하면 직관성이 높아지고 편리하게 사용할 수 있음\n",
    "- 열이름/행이름 구분하는데 용이\n",
    "- 문법\n",
    "    - df.columns.names = 값 또는 리스트\n",
    "    - df.index.names = 값 또는 리스트"
   ]
  },
  {
   "cell_type": "code",
   "execution_count": null,
   "metadata": {},
   "outputs": [],
   "source": []
  },
  {
   "cell_type": "markdown",
   "metadata": {},
   "source": [
    "### 3. MultiIndex 객체\n",
    "- https://pandas.pydata.org/docs/user_guide/advanced.html\n",
    "\n",
    "- 생성 방법\n",
    "1. MultiIndex.from_arrays() 사용 : 배열(array)의 리스트\n",
    "2. MultiIndex.from_tuples() : 튜플들(tuples)의 리스트\n",
    "3. MultiIndex.from_product() : 리스트의 cross product\n",
    "4. MultiIndex.from_frame() : DataFrame"
   ]
  },
  {
   "cell_type": "code",
   "execution_count": null,
   "metadata": {},
   "outputs": [],
   "source": [
    "# 1. MultiIndex.from_arrays() 이용한 다중인덱스 생성\n",
    "\n"
   ]
  },
  {
   "cell_type": "code",
   "execution_count": null,
   "metadata": {},
   "outputs": [],
   "source": [
    "# 2. MultiIndex.from_tuples() 이용한 다중인덱스 생성\n",
    "\n"
   ]
  },
  {
   "cell_type": "code",
   "execution_count": null,
   "metadata": {},
   "outputs": [],
   "source": [
    "# 3. MultiIndex.from_product() 사용한 다중인덱스 생성\n",
    "\n"
   ]
  },
  {
   "cell_type": "code",
   "execution_count": null,
   "metadata": {},
   "outputs": [],
   "source": [
    "# 4. MultiIndex.from_frame()를 사용한 다중인덱스 생성\n",
    "\n"
   ]
  },
  {
   "cell_type": "markdown",
   "metadata": {},
   "source": [
    "#### 예제. MultiIndex객체 생성하여 다중인덱스 설정"
   ]
  },
  {
   "cell_type": "code",
   "execution_count": null,
   "metadata": {},
   "outputs": [],
   "source": []
  },
  {
   "cell_type": "code",
   "execution_count": null,
   "metadata": {
    "scrolled": true
   },
   "outputs": [],
   "source": []
  },
  {
   "cell_type": "markdown",
   "metadata": {},
   "source": [
    "### 4. 다중인덱스의 특정 레벨 제거 : droplevel(level, axis)"
   ]
  },
  {
   "cell_type": "markdown",
   "metadata": {},
   "source": [
    "#### 1) 시리즈의 다중인덱스 레벨 제거"
   ]
  },
  {
   "cell_type": "code",
   "execution_count": null,
   "metadata": {},
   "outputs": [],
   "source": []
  },
  {
   "cell_type": "code",
   "execution_count": null,
   "metadata": {},
   "outputs": [],
   "source": []
  },
  {
   "cell_type": "code",
   "execution_count": null,
   "metadata": {},
   "outputs": [],
   "source": []
  },
  {
   "cell_type": "markdown",
   "metadata": {},
   "source": [
    "#### 2) 데이터프레임에서 다중인덱스 레벨 제거"
   ]
  },
  {
   "cell_type": "code",
   "execution_count": null,
   "metadata": {
    "scrolled": true
   },
   "outputs": [],
   "source": []
  },
  {
   "cell_type": "markdown",
   "metadata": {},
   "source": [
    "#### 행인덱스 레벨 제거"
   ]
  },
  {
   "cell_type": "code",
   "execution_count": null,
   "metadata": {},
   "outputs": [],
   "source": []
  },
  {
   "cell_type": "code",
   "execution_count": null,
   "metadata": {},
   "outputs": [],
   "source": []
  },
  {
   "cell_type": "markdown",
   "metadata": {},
   "source": [
    "#### 열인덱스 레벨 제거"
   ]
  },
  {
   "cell_type": "code",
   "execution_count": null,
   "metadata": {},
   "outputs": [],
   "source": []
  },
  {
   "cell_type": "code",
   "execution_count": null,
   "metadata": {},
   "outputs": [],
   "source": []
  },
  {
   "cell_type": "markdown",
   "metadata": {},
   "source": [
    "### 5. 행인덱스 레벨 해제 : unstack()\n",
    "\n",
    ": 행인덱스 -> 열인덱스로 변환"
   ]
  },
  {
   "cell_type": "markdown",
   "metadata": {},
   "source": [
    "#### 1) 시리즈의 다중인덱스 레벨 해제\n",
    "\n",
    "- 해제된 레벨 인덱스는 열인덱스로 변경되며, 데이터프레임으로 반환됨"
   ]
  },
  {
   "cell_type": "code",
   "execution_count": null,
   "metadata": {},
   "outputs": [],
   "source": []
  },
  {
   "cell_type": "markdown",
   "metadata": {},
   "source": [
    "#### 마지막 레벨 해제 : unstack(level=-1)"
   ]
  },
  {
   "cell_type": "code",
   "execution_count": null,
   "metadata": {},
   "outputs": [],
   "source": []
  },
  {
   "cell_type": "markdown",
   "metadata": {},
   "source": [
    "#### 첫번째 레벨 해제 : unstack(level=0)"
   ]
  },
  {
   "cell_type": "code",
   "execution_count": null,
   "metadata": {
    "scrolled": true
   },
   "outputs": [],
   "source": []
  },
  {
   "cell_type": "markdown",
   "metadata": {},
   "source": [
    "#### 2) 데이터프레임의 다중 행인덱스 레벨 해제\n",
    "\n",
    "- 데이터프레임의 인덱스 레벨 해제\n",
    "- 해제된 레벨은 열인덱스 중 가장 마지막 레벨이 됨"
   ]
  },
  {
   "cell_type": "markdown",
   "metadata": {},
   "source": [
    "[형식] DataFrame.unstack(level=-1, fill_value=None)\n",
    "\n",
    "\n",
    "- level : int, str, or list of these, default= -1 (last level)\n",
    "    - Level(s) of index to unstack, can pass level name.\n",
    "\n",
    "- fill_value : int, str or dict\n",
    "    - Replace NaN with this value if the unstack produces missing values.\n",
    "\n",
    "\n",
    "- https://pandas.pydata.org/docs/reference/api/pandas.DataFrame.unstack.html"
   ]
  },
  {
   "cell_type": "code",
   "execution_count": null,
   "metadata": {},
   "outputs": [],
   "source": []
  },
  {
   "cell_type": "code",
   "execution_count": null,
   "metadata": {},
   "outputs": [],
   "source": []
  },
  {
   "cell_type": "code",
   "execution_count": null,
   "metadata": {},
   "outputs": [],
   "source": []
  },
  {
   "cell_type": "code",
   "execution_count": null,
   "metadata": {},
   "outputs": [],
   "source": []
  },
  {
   "cell_type": "code",
   "execution_count": null,
   "metadata": {},
   "outputs": [],
   "source": []
  },
  {
   "cell_type": "markdown",
   "metadata": {},
   "source": [
    "### 6. 열인덱스 레벨 해제 : stack()\n",
    "\n",
    ": 열인덱스 -> 행인덱스로 변환"
   ]
  },
  {
   "cell_type": "markdown",
   "metadata": {},
   "source": [
    "#### 데이터프레임에서 열인덱스 레벨 해제"
   ]
  },
  {
   "cell_type": "markdown",
   "metadata": {},
   "source": [
    "- 지정한 열인덱스가 행인덱스의 마지막 레벨로 변환 추가됨\n",
    "- single level 열인덱스를 갖는 경우 시리즈로 반환\n",
    "- multi level 열인덱스를 갖는 경우 데이터프레임 반환"
   ]
  },
  {
   "cell_type": "markdown",
   "metadata": {},
   "source": [
    "[형식] DataFrame.stack(level=- 1, dropna=True)\n",
    "\n",
    "- level위치 또는 열이름 지정\n",
    "- level : int, str, list, default= -1\n",
    "- dropna : bool, default True\n",
    "\n",
    "- https://pandas.pydata.org/docs/reference/api/pandas.DataFrame.stack.html"
   ]
  },
  {
   "cell_type": "markdown",
   "metadata": {},
   "source": [
    "#### 예1. 1차 레벨을 가진 데이터프레임"
   ]
  },
  {
   "cell_type": "code",
   "execution_count": null,
   "metadata": {},
   "outputs": [],
   "source": []
  },
  {
   "cell_type": "code",
   "execution_count": null,
   "metadata": {},
   "outputs": [],
   "source": []
  },
  {
   "cell_type": "code",
   "execution_count": null,
   "metadata": {},
   "outputs": [],
   "source": []
  },
  {
   "cell_type": "markdown",
   "metadata": {},
   "source": [
    "#### 예2. 다중레벨을 갖는 데이터프레임"
   ]
  },
  {
   "cell_type": "code",
   "execution_count": null,
   "metadata": {},
   "outputs": [],
   "source": []
  },
  {
   "cell_type": "code",
   "execution_count": null,
   "metadata": {},
   "outputs": [],
   "source": []
  },
  {
   "cell_type": "code",
   "execution_count": null,
   "metadata": {},
   "outputs": [],
   "source": []
  },
  {
   "cell_type": "code",
   "execution_count": null,
   "metadata": {},
   "outputs": [],
   "source": []
  },
  {
   "cell_type": "markdown",
   "metadata": {},
   "source": [
    "#### 예3. 열인덱스 이름을 갖는 데이터프레임"
   ]
  },
  {
   "cell_type": "code",
   "execution_count": null,
   "metadata": {},
   "outputs": [],
   "source": []
  },
  {
   "cell_type": "code",
   "execution_count": null,
   "metadata": {},
   "outputs": [],
   "source": []
  },
  {
   "cell_type": "code",
   "execution_count": null,
   "metadata": {
    "scrolled": true
   },
   "outputs": [],
   "source": []
  },
  {
   "cell_type": "markdown",
   "metadata": {},
   "source": [
    "### 7. 다중인덱스의 레벨 교환 : swaplevel()"
   ]
  },
  {
   "cell_type": "markdown",
   "metadata": {},
   "source": [
    "[형식] DataFrame.swaplevel(i=- 2, j=- 1, axis=0)\n",
    "\n",
    "- i, j : int or str\n",
    "    - Levels of the indices to be swapped. Can pass level name as string.\n",
    "\n",
    "- axis : 0 or ‘index’, 1 or ‘columns', default=0\n",
    "    - The axis to swap levels on\n",
    "    - 0 or‘index’ for row-wise\n",
    "    - 1 or ‘columns’ for column-wise\n",
    "\n",
    "- https://pandas.pydata.org/docs/reference/api/pandas.DataFrame.swaplevel.html"
   ]
  },
  {
   "cell_type": "code",
   "execution_count": null,
   "metadata": {},
   "outputs": [],
   "source": [
    "df = pd.DataFrame({\"Grade\": [\"A\", \"B\", \"A\", \"C\"]},\n",
    "                  index=[\n",
    "                      [\"Final exam\", \"Final exam\", \"Coursework\", \"Coursework\"],\n",
    "                      [\"History\", \"Geography\", \"History\", \"Geography\"],\n",
    "                      [\"January\", \"February\", \"March\", \"April\"],],)\n",
    "df"
   ]
  },
  {
   "cell_type": "code",
   "execution_count": null,
   "metadata": {},
   "outputs": [],
   "source": []
  },
  {
   "cell_type": "code",
   "execution_count": null,
   "metadata": {},
   "outputs": [],
   "source": []
  },
  {
   "cell_type": "code",
   "execution_count": null,
   "metadata": {
    "scrolled": true
   },
   "outputs": [],
   "source": []
  },
  {
   "cell_type": "markdown",
   "metadata": {},
   "source": [
    "### [정리] 다중인덱스의 접근 방법\n",
    "\n",
    "- 인덱스가 하나가 아니므로 묶어서(튜플로) 전달\n",
    "- 열 접근 : df[(튜플)]\n",
    "- 행 접근 : df.loc[(튜플)]\n",
    "- 참고. df.iloc[]은 정수위치로 접근하여 다중인덱스에 구애받지 않음"
   ]
  },
  {
   "cell_type": "markdown",
   "metadata": {},
   "source": [
    "-----"
   ]
  },
  {
   "cell_type": "markdown",
   "metadata": {},
   "source": [
    "### 8. 다중인덱스의 행/열 추가"
   ]
  },
  {
   "cell_type": "code",
   "execution_count": null,
   "metadata": {},
   "outputs": [],
   "source": [
    "data = np.round(np.random.rand(6, 4), 2)\n",
    "columns = pd.MultiIndex.from_product([['A','B'],['C1','C2']],\n",
    "                                   names=['cidx1','cidx2'])\n",
    "index = pd.MultiIndex.from_product([['M','F'],['id1','id2','id3']],\n",
    "                                    names=['ridx1','ridx2'])\n",
    "df = pd.DataFrame(data=data, index=index, columns=columns)\n",
    "df"
   ]
  },
  {
   "cell_type": "code",
   "execution_count": null,
   "metadata": {
    "scrolled": true
   },
   "outputs": [],
   "source": []
  },
  {
   "cell_type": "markdown",
   "metadata": {},
   "source": [
    "#### 값입력을 위한 위치 지정 실수?"
   ]
  },
  {
   "cell_type": "code",
   "execution_count": null,
   "metadata": {},
   "outputs": [],
   "source": []
  },
  {
   "cell_type": "markdown",
   "metadata": {},
   "source": [
    "#### 각 행의 총합을 마지막 열로 추가"
   ]
  },
  {
   "cell_type": "code",
   "execution_count": null,
   "metadata": {},
   "outputs": [],
   "source": []
  },
  {
   "cell_type": "code",
   "execution_count": null,
   "metadata": {},
   "outputs": [],
   "source": []
  },
  {
   "cell_type": "code",
   "execution_count": null,
   "metadata": {},
   "outputs": [],
   "source": []
  },
  {
   "cell_type": "markdown",
   "metadata": {},
   "source": [
    "#### 각 열의 총합을 마지막 행으로 추가"
   ]
  },
  {
   "cell_type": "code",
   "execution_count": null,
   "metadata": {},
   "outputs": [],
   "source": []
  },
  {
   "cell_type": "markdown",
   "metadata": {},
   "source": [
    "### 9. 다중인덱스 정렬\n",
    "\n",
    "### 1) sort_index()\n",
    "\n",
    "[형식] sort_index(*, axis=0, level=None, ascending=True, inplace=False,)\n",
    "\n",
    "- 행/열 인덱스 기준으로 정렬\n",
    "- 기본 정렬 방식 : 오름차순 정렬\n",
    "- 내림차순 : ascending=Flase 설정"
   ]
  },
  {
   "cell_type": "markdown",
   "metadata": {},
   "source": [
    "####  행인덱스 정렬"
   ]
  },
  {
   "cell_type": "code",
   "execution_count": null,
   "metadata": {
    "scrolled": true
   },
   "outputs": [],
   "source": []
  },
  {
   "cell_type": "code",
   "execution_count": null,
   "metadata": {
    "scrolled": true
   },
   "outputs": [],
   "source": []
  },
  {
   "cell_type": "markdown",
   "metadata": {},
   "source": [
    "#### 열인덱스 기준으로 정렬"
   ]
  },
  {
   "cell_type": "code",
   "execution_count": null,
   "metadata": {},
   "outputs": [],
   "source": []
  },
  {
   "cell_type": "code",
   "execution_count": null,
   "metadata": {},
   "outputs": [],
   "source": []
  },
  {
   "cell_type": "markdown",
   "metadata": {},
   "source": [
    "### 2) sort_values()\n",
    "\n",
    "[형식] ort_values(by, *, axis=0, ascending=True, inplace=False, )\n",
    "\n",
    "- 특정 컬럼 값을 기준으로 정렬\n",
    "- by = 특정컬럼\n",
    "    - 특정컬럼이 다중인덱스 일 경우 컬럼명을 튜플로 전달"
   ]
  },
  {
   "cell_type": "markdown",
   "metadata": {},
   "source": [
    "#### df의 A.C1 컬럼을 기준으로 정렬"
   ]
  },
  {
   "cell_type": "code",
   "execution_count": null,
   "metadata": {},
   "outputs": [],
   "source": []
  },
  {
   "cell_type": "markdown",
   "metadata": {},
   "source": [
    "-----------"
   ]
  }
 ],
 "metadata": {
  "kernelspec": {
   "display_name": "Python 3 (ipykernel)",
   "language": "python",
   "name": "python3"
  },
  "language_info": {
   "codemirror_mode": {
    "name": "ipython",
    "version": 3
   },
   "file_extension": ".py",
   "mimetype": "text/x-python",
   "name": "python",
   "nbconvert_exporter": "python",
   "pygments_lexer": "ipython3",
   "version": "3.11.7"
  }
 },
 "nbformat": 4,
 "nbformat_minor": 4
}
