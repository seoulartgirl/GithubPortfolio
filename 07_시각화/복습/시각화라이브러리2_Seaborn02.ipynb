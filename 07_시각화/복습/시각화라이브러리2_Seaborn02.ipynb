{
 "cells": [
  {
   "cell_type": "markdown",
   "metadata": {},
   "source": [
    "# Seaborn"
   ]
  },
  {
   "cell_type": "code",
   "execution_count": 1,
   "metadata": {},
   "outputs": [],
   "source": [
    "import numpy as np\n",
    "import pandas as pd\n",
    "import matplotlib.pyplot as plt\n",
    "import seaborn as sns\n",
    "import warnings\n",
    "warnings.filterwarnings(action='ignore')"
   ]
  },
  {
   "cell_type": "code",
   "execution_count": 2,
   "metadata": {},
   "outputs": [],
   "source": [
    "# 한글 폰트 지원\n",
    "import platform\n",
    "from matplotlib import font_manager, rc\n",
    "\n",
    "plt.rcParams['axes.unicode_minus'] = False\n",
    "if platform.system() == 'Darwin':  # 맥OS \n",
    "    rc('font', family='AppleGothic')\n",
    "elif platform.system() == 'Windows':  # 윈도우\n",
    "    path = \"c:/Windows/Fonts/malgun.ttf\"\n",
    "    font_name = font_manager.FontProperties(fname=path).get_name()\n",
    "    rc('font', family=font_name)\n",
    "else:\n",
    "    print('Unknown system...  sorry~~~')"
   ]
  },
  {
   "cell_type": "markdown",
   "metadata": {},
   "source": [
    "------------------------"
   ]
  },
  {
   "cell_type": "markdown",
   "metadata": {},
   "source": [
    "# 시각화의 목적에 따른 플롯"
   ]
  },
  {
   "cell_type": "markdown",
   "metadata": {},
   "source": [
    "- 데이터 분포 파악\n",
    "- 데이터 관계 파악\n",
    "- **집단간 비교**\n",
    "- **시간에 따른 변화**"
   ]
  },
  {
   "cell_type": "markdown",
   "metadata": {},
   "source": [
    "## 3. 집단 간 비교"
   ]
  },
  {
   "cell_type": "markdown",
   "metadata": {},
   "source": [
    ": 그룹별 데이터 분포 비교\n",
    "- FacetGrid를 이용한 범주형 플롯 시각화\n",
    "    "
   ]
  },
  {
   "cell_type": "markdown",
   "metadata": {},
   "source": [
    "- 막대그래프(barplot)\n",
    "    - matplotlib.pyplot.bar()\n",
    "    - matplotlib.pyplot.barh()\n",
    "    - DataFrame.plot(kind='bar'|'barh')\n",
    "    - DataFrame.plot.bar()\n",
    "    - DataFrame.plot.barh()\n",
    "    - seaborn.barplot()\n",
    "    - seaborn.catplot(kind='bar')"
   ]
  },
  {
   "cell_type": "markdown",
   "metadata": {},
   "source": [
    "- 바이올린플롯(violin plot)\n",
    "    - matplotlib.pyplot.violinplot()\n",
    "    - seaborn.viloinplot()\n",
    "    - seaborn.catplot(kind='violin')"
   ]
  },
  {
   "cell_type": "markdown",
   "metadata": {},
   "source": [
    "- strip plot\n",
    "    - seaborn.stripplot()\n",
    "    - seaborn.catplot(kind='strip')"
   ]
  },
  {
   "cell_type": "markdown",
   "metadata": {},
   "source": [
    "- swarm plot\n",
    "    - seaborn.swarmplot()\n",
    "    - seaborn.catplot(kind='swarm')"
   ]
  },
  {
   "cell_type": "markdown",
   "metadata": {},
   "source": [
    "### 1) 막대 그래프(barplot)\n",
    "\n",
    "- 범주형 데이터의 범주별 빈도 비교"
   ]
  },
  {
   "cell_type": "code",
   "execution_count": null,
   "metadata": {},
   "outputs": [],
   "source": []
  },
  {
   "cell_type": "code",
   "execution_count": null,
   "metadata": {},
   "outputs": [],
   "source": []
  },
  {
   "cell_type": "markdown",
   "metadata": {},
   "source": [
    "### ① matplotlib.pyplot의 막대그래프 함수\n",
    "\n",
    "- 형식\n",
    "    - bar(x, height, width=0.8, bottom=None, align='center', data=None,...)\n",
    "    - barh(y, width, height=0.8, left=None, *, align='center', **kwargs)"
   ]
  },
  {
   "cell_type": "code",
   "execution_count": null,
   "metadata": {},
   "outputs": [],
   "source": []
  },
  {
   "cell_type": "code",
   "execution_count": null,
   "metadata": {},
   "outputs": [],
   "source": []
  },
  {
   "cell_type": "code",
   "execution_count": null,
   "metadata": {},
   "outputs": [],
   "source": []
  },
  {
   "cell_type": "code",
   "execution_count": null,
   "metadata": {},
   "outputs": [],
   "source": []
  },
  {
   "cell_type": "markdown",
   "metadata": {},
   "source": [
    "### ② seaborn의 막대그래프 함수\n",
    "\n",
    "- 형식1\n",
    "    - barplot(x=None, y=None, hue=None, data=None, order=None, orient='v'|'h', dodge=True, ...)\n",
    "    - https://seaborn.pydata.org/generated/seaborn.barplot.html#seaborn.barplot\n",
    "    \n",
    "    "
   ]
  },
  {
   "cell_type": "markdown",
   "metadata": {},
   "source": [
    "- 형식2\n",
    "    - catplot(kind='bar', x=None, y=None, hue=None, data=None, row=None, col=None,...)\n",
    "    - https://seaborn.pydata.org/generated/seaborn.catplot.html#seaborn.catplot"
   ]
  },
  {
   "cell_type": "markdown",
   "metadata": {},
   "source": [
    "### sns.barplot()"
   ]
  },
  {
   "cell_type": "code",
   "execution_count": null,
   "metadata": {},
   "outputs": [],
   "source": []
  },
  {
   "cell_type": "code",
   "execution_count": null,
   "metadata": {},
   "outputs": [],
   "source": []
  },
  {
   "cell_type": "code",
   "execution_count": null,
   "metadata": {},
   "outputs": [],
   "source": []
  },
  {
   "cell_type": "code",
   "execution_count": null,
   "metadata": {},
   "outputs": [],
   "source": []
  },
  {
   "cell_type": "code",
   "execution_count": null,
   "metadata": {},
   "outputs": [],
   "source": []
  },
  {
   "cell_type": "markdown",
   "metadata": {},
   "source": [
    "- 누적막대그래프(stacked bar chart)"
   ]
  },
  {
   "cell_type": "code",
   "execution_count": null,
   "metadata": {},
   "outputs": [],
   "source": []
  },
  {
   "cell_type": "markdown",
   "metadata": {},
   "source": [
    "### sns.catplot(kind='bar')"
   ]
  },
  {
   "cell_type": "code",
   "execution_count": null,
   "metadata": {},
   "outputs": [],
   "source": []
  },
  {
   "cell_type": "code",
   "execution_count": null,
   "metadata": {},
   "outputs": [],
   "source": []
  },
  {
   "cell_type": "markdown",
   "metadata": {},
   "source": [
    "#### catplot()의 col인수\n",
    "- 윈도우에 범주별 막대그래프를 따로 표현"
   ]
  },
  {
   "cell_type": "code",
   "execution_count": null,
   "metadata": {},
   "outputs": [],
   "source": []
  },
  {
   "cell_type": "code",
   "execution_count": null,
   "metadata": {},
   "outputs": [],
   "source": []
  },
  {
   "cell_type": "markdown",
   "metadata": {},
   "source": [
    "### 2) 바이올린 플롯\n",
    "\n",
    "- 박스플롯의 기능과 함께 데이터의 커널밀도곡선을 제시\n",
    "- 데이터의 분포와 범위를 한눈에 보기 쉽게 나타내는 그래프\n",
    "- 더 실제에 가까운 분포를 알 수 있음"
   ]
  },
  {
   "cell_type": "markdown",
   "metadata": {},
   "source": [
    "#### 예제 데이터. iris dataset"
   ]
  },
  {
   "cell_type": "code",
   "execution_count": null,
   "metadata": {},
   "outputs": [],
   "source": []
  },
  {
   "cell_type": "markdown",
   "metadata": {},
   "source": [
    "### ① matplotlib.pyplot의 바이올린 플롯 함수\n",
    "\n",
    "- 형식\n",
    "    - violinplot(dataset, positions=None, vert=True, widths=0.5,  *, data=None)\n",
    "    - https://matplotlib.org/stable/api/_as_gen/matplotlib.pyplot.violinplot.html"
   ]
  },
  {
   "cell_type": "code",
   "execution_count": null,
   "metadata": {},
   "outputs": [],
   "source": []
  },
  {
   "cell_type": "code",
   "execution_count": null,
   "metadata": {},
   "outputs": [],
   "source": []
  },
  {
   "cell_type": "markdown",
   "metadata": {},
   "source": [
    "### ② seaborn의 바이올린 플롯 함수\n",
    "\n",
    "- 형식1\n",
    "    - violinplot(x=None, y=None, hue=None, data=None, order=None, ...)\n",
    "    - https://seaborn.pydata.org/generated/seaborn.violinplot.html#seaborn.violinplot\n",
    "    \n",
    "    \n",
    "- 형식2\n",
    "    - catplot(kind='violin', x=None, y=None, hue=None, data=None, row=None, col=None,...)\n",
    "    - https://seaborn.pydata.org/generated/seaborn.catplot.html#seaborn.catplot"
   ]
  },
  {
   "cell_type": "markdown",
   "metadata": {},
   "source": [
    "### sns.violinplot()"
   ]
  },
  {
   "cell_type": "code",
   "execution_count": null,
   "metadata": {},
   "outputs": [],
   "source": []
  },
  {
   "cell_type": "code",
   "execution_count": null,
   "metadata": {},
   "outputs": [],
   "source": []
  },
  {
   "cell_type": "code",
   "execution_count": null,
   "metadata": {},
   "outputs": [],
   "source": []
  },
  {
   "cell_type": "code",
   "execution_count": null,
   "metadata": {},
   "outputs": [],
   "source": []
  },
  {
   "cell_type": "code",
   "execution_count": null,
   "metadata": {},
   "outputs": [],
   "source": []
  },
  {
   "cell_type": "code",
   "execution_count": null,
   "metadata": {},
   "outputs": [],
   "source": []
  },
  {
   "cell_type": "code",
   "execution_count": null,
   "metadata": {},
   "outputs": [],
   "source": []
  },
  {
   "cell_type": "markdown",
   "metadata": {},
   "source": [
    "### sns.catplot(kind='violin')"
   ]
  },
  {
   "cell_type": "code",
   "execution_count": null,
   "metadata": {},
   "outputs": [],
   "source": []
  },
  {
   "cell_type": "code",
   "execution_count": null,
   "metadata": {},
   "outputs": [],
   "source": []
  },
  {
   "cell_type": "markdown",
   "metadata": {},
   "source": [
    "### 3) Strip plot\n",
    "\n",
    "- 겹치는 데이터를 파악할 수 있도록 같은 값에 jitter를 통해 겹치지 않게 그려주는 그래프"
   ]
  },
  {
   "cell_type": "markdown",
   "metadata": {},
   "source": [
    "### seaborn의 strip plot 함수\n",
    "\n",
    "- 형식1\n",
    "    - stripplot(x=None, y=None, hue=None, data=None, order=None, jitter=True, ...)\n",
    "    - https://seaborn.pydata.org/generated/seaborn.stripplot.html#seaborn.stripplot\n",
    "    \n",
    "    \n",
    "- 형식2\n",
    "    - catplot(kind='strip', x=None, y=None, hue=None, data=None, row=None, col=None,...)\n",
    "    - https://seaborn.pydata.org/generated/seaborn.catplot.html#seaborn.catplot"
   ]
  },
  {
   "cell_type": "markdown",
   "metadata": {},
   "source": [
    "### sns.stripplot()"
   ]
  },
  {
   "cell_type": "code",
   "execution_count": null,
   "metadata": {},
   "outputs": [],
   "source": []
  },
  {
   "cell_type": "code",
   "execution_count": null,
   "metadata": {},
   "outputs": [],
   "source": []
  },
  {
   "cell_type": "code",
   "execution_count": null,
   "metadata": {},
   "outputs": [],
   "source": []
  },
  {
   "cell_type": "code",
   "execution_count": null,
   "metadata": {},
   "outputs": [],
   "source": []
  },
  {
   "cell_type": "code",
   "execution_count": null,
   "metadata": {},
   "outputs": [],
   "source": []
  },
  {
   "cell_type": "code",
   "execution_count": null,
   "metadata": {},
   "outputs": [],
   "source": []
  },
  {
   "cell_type": "markdown",
   "metadata": {},
   "source": [
    "### sns.catplot(kind='strip')"
   ]
  },
  {
   "cell_type": "code",
   "execution_count": null,
   "metadata": {},
   "outputs": [],
   "source": []
  },
  {
   "cell_type": "markdown",
   "metadata": {},
   "source": [
    "### 4) Swarm plot\n",
    "\n",
    "- 데이터의 분산까지 고려하여 겹치는 데이터를 겹치지 않게 그려주는 그래프\n",
    "- 데이터가 퍼져 있는 정도를 입체적으로 볼 수 있음"
   ]
  },
  {
   "cell_type": "markdown",
   "metadata": {},
   "source": [
    "### seaborn의 swarm plot 함수\n",
    "\n",
    "- 형식1\n",
    "    - swarmplot(x=None, y=None, hue=None, data=None, order=None, ...)\n",
    "    - https://seaborn.pydata.org/generated/seaborn.swarmplot.html#seaborn.swarmplot\n",
    "    \n",
    "    "
   ]
  },
  {
   "cell_type": "markdown",
   "metadata": {},
   "source": [
    "- 형식2\n",
    "    - catplot(kind='swarm', x=None, y=None, hue=None, data=None, row=None, col=None,...)\n",
    "    - https://seaborn.pydata.org/generated/seaborn.catplot.html#seaborn.catplot"
   ]
  },
  {
   "cell_type": "code",
   "execution_count": null,
   "metadata": {},
   "outputs": [],
   "source": []
  },
  {
   "cell_type": "code",
   "execution_count": null,
   "metadata": {},
   "outputs": [],
   "source": []
  },
  {
   "cell_type": "code",
   "execution_count": null,
   "metadata": {},
   "outputs": [],
   "source": []
  },
  {
   "cell_type": "markdown",
   "metadata": {},
   "source": [
    "#### box plot과 swarmplot을 같이 표시"
   ]
  },
  {
   "cell_type": "code",
   "execution_count": null,
   "metadata": {},
   "outputs": [],
   "source": []
  },
  {
   "cell_type": "markdown",
   "metadata": {},
   "source": [
    "------"
   ]
  },
  {
   "cell_type": "markdown",
   "metadata": {},
   "source": [
    "## 4. 시간에 따라 변화하는 데이터 표현"
   ]
  },
  {
   "cell_type": "markdown",
   "metadata": {},
   "source": [
    "- 시계열 데이터 시각화\n",
    "- 시간에 따른 추세 파악\n",
    "- 선그래프(line plot)\n",
    "    - matplotlib.pyplot.plot()\n",
    "    - seaborn.lineplot()\n",
    "    - seaborn.relplot(kind='line')\n",
    "    - DataFrame.plot(kind='line')\n",
    "    - DataFrame.plot.line()"
   ]
  },
  {
   "cell_type": "markdown",
   "metadata": {},
   "source": [
    "### 예제 데이터. 미세먼지"
   ]
  },
  {
   "cell_type": "code",
   "execution_count": null,
   "metadata": {},
   "outputs": [],
   "source": []
  },
  {
   "cell_type": "markdown",
   "metadata": {},
   "source": [
    "### ① matplotlib의 plot()을 이용하여 라인플롯 그리기\n",
    "\n",
    "- 형식 : plot(x, y, fmt, ..., data=None, scalex=True, scaley=True, **kwargs)\n",
    "    - x, y : array-like or scalar\n",
    "    - fmt : str, optional"
   ]
  },
  {
   "cell_type": "code",
   "execution_count": null,
   "metadata": {},
   "outputs": [],
   "source": []
  },
  {
   "cell_type": "markdown",
   "metadata": {},
   "source": [
    "#### plot()의 data 인수\n",
    "- indexable object : If given, provide the label names to plot in x and y."
   ]
  },
  {
   "cell_type": "code",
   "execution_count": null,
   "metadata": {},
   "outputs": [],
   "source": []
  },
  {
   "cell_type": "markdown",
   "metadata": {},
   "source": [
    "### ② seaborn의 선그래프 함수 이용\n",
    "\n",
    "- 형식1.\n",
    "    - lineplot(* , x=None, y=None, hue=None, size=None, style=None, data=None, palette=None,...)\n",
    "    - https://seaborn.pydata.org/generated/seaborn.lineplot.html#seaborn.lineplot\n",
    "    \n",
    "    "
   ]
  },
  {
   "cell_type": "markdown",
   "metadata": {},
   "source": [
    "- 형식2.\n",
    "    - relplot(kind='line', x=None, y=None, hue=None, size=None, style=None, data=None, row=None, col=None,...)\n",
    "    - https://seaborn.pydata.org/generated/seaborn.relplot.html#seaborn.relplot"
   ]
  },
  {
   "cell_type": "markdown",
   "metadata": {},
   "source": [
    "### sns.lineplot()"
   ]
  },
  {
   "cell_type": "code",
   "execution_count": null,
   "metadata": {},
   "outputs": [],
   "source": []
  },
  {
   "cell_type": "code",
   "execution_count": null,
   "metadata": {},
   "outputs": [],
   "source": []
  },
  {
   "cell_type": "code",
   "execution_count": null,
   "metadata": {},
   "outputs": [],
   "source": []
  },
  {
   "cell_type": "markdown",
   "metadata": {},
   "source": [
    "#### seaborn의 set_style() 이용하여 라인플롯 그리기"
   ]
  },
  {
   "cell_type": "code",
   "execution_count": null,
   "metadata": {},
   "outputs": [],
   "source": []
  },
  {
   "cell_type": "markdown",
   "metadata": {},
   "source": [
    "**sns.despine() 함수를 이용한 그림 테두리 제거**\n",
    "\n",
    ": sns.despine(right=True,left=True,top=False,bottom=False)"
   ]
  },
  {
   "cell_type": "code",
   "execution_count": null,
   "metadata": {},
   "outputs": [],
   "source": []
  },
  {
   "cell_type": "markdown",
   "metadata": {},
   "source": [
    "### ③ pandas.DataFrame.plot(kind='line') 이용"
   ]
  },
  {
   "cell_type": "code",
   "execution_count": null,
   "metadata": {},
   "outputs": [],
   "source": []
  },
  {
   "cell_type": "markdown",
   "metadata": {},
   "source": [
    "------------------------------------------------"
   ]
  },
  {
   "cell_type": "markdown",
   "metadata": {},
   "source": [
    "## 5. 히트맵(heatmap)"
   ]
  },
  {
   "cell_type": "markdown",
   "metadata": {},
   "source": [
    "### (1) seaborn의 heatmap() 함수 사용"
   ]
  },
  {
   "cell_type": "markdown",
   "metadata": {},
   "source": [
    "- 범주형-범주형-수치형 자료의 시각화\n",
    "    - X축과 Y축에 2개의 범주형 자료의 계급(class)별로 연속형 자료를 집계한 자료의 시각화\n",
    "- 집계한 값에 비례하여 색깔을 다르게 해서 2차원으로 자료를 시각화\n",
    "\n",
    "\n",
    "- 형식 : heatmap(data, vmin=None, vmax=None, cmap=None, center=None, robust=False, annot=None, fmt='.2g', annot_kws=None, linewidths=0, linecolor='white', cbar=True, cbar_kws=None, cbar_ax=None, square=False, xticklabels='auto', yticklabels='auto', mask=None, ax=None, **kwargs)\n",
    "\n",
    "\n",
    "- https://seaborn.pydata.org/generated/seaborn.heatmap.html#seaborn.heatmap"
   ]
  },
  {
   "cell_type": "markdown",
   "metadata": {},
   "source": [
    "### 예제 데이터\n",
    "- 캐글 자전거수요예측 데이터\n",
    "- https://www.kaggle.com/competitions/bike-sharing-demand"
   ]
  },
  {
   "cell_type": "code",
   "execution_count": null,
   "metadata": {},
   "outputs": [],
   "source": []
  },
  {
   "cell_type": "code",
   "execution_count": null,
   "metadata": {},
   "outputs": [],
   "source": []
  },
  {
   "cell_type": "code",
   "execution_count": null,
   "metadata": {},
   "outputs": [],
   "source": []
  },
  {
   "cell_type": "markdown",
   "metadata": {},
   "source": [
    "- datetime : hourly date + timestamp (날짜와 시간)\n",
    "\n",
    "- season : 1 = spring, 2 = summer, 3 = fall, 4 = winter (계절)\n",
    "\n",
    "- holiday : whether the day is considered a holiday (휴일)\n",
    "\n",
    "- workingday ; whether the day is neither a weekend nor holiday (평일)\n",
    "\n",
    "- weather\n",
    "    - 1: Clear, Few clouds, Partly cloudy, Partly cloudy (맑은 날씨)\n",
    "    - 2: Mist + Cloudy, Mist + Broken clouds, Mist + Few clouds, Mist (안개)\n",
    "    - 3: Light Snow, Light Rain + Thunderstorm + Scattered clouds, Light Rain + Scattered clouds (가벼운 눈, 비)\n",
    "    - 4: Heavy Rain + Ice Pallets + Thunderstorm + Mist, Snow + Fog (폭설, 폭우)\n",
    "\n",
    "- temp : temperature in Celsius (온도)\n",
    "\n",
    "- atemp : “feels like” temperature in Celsius (체감 온도)\n",
    "\n",
    "- humidity : relative humidity (상대 습도)\n",
    "\n",
    "- windspeed : wind speed (풍속)\n",
    "\n",
    "- casual : number of non-registered user rentals initiated (비회원 대여량)\n",
    "\n",
    "- registered : number of registered user rentals initiated (회원 대여량)\n",
    "\n",
    "- count : number of total rentals (총 대여량)"
   ]
  },
  {
   "cell_type": "code",
   "execution_count": null,
   "metadata": {},
   "outputs": [],
   "source": []
  },
  {
   "cell_type": "code",
   "execution_count": null,
   "metadata": {},
   "outputs": [],
   "source": []
  },
  {
   "cell_type": "code",
   "execution_count": null,
   "metadata": {},
   "outputs": [],
   "source": []
  },
  {
   "cell_type": "code",
   "execution_count": null,
   "metadata": {},
   "outputs": [],
   "source": []
  },
  {
   "cell_type": "code",
   "execution_count": null,
   "metadata": {},
   "outputs": [],
   "source": []
  },
  {
   "cell_type": "code",
   "execution_count": null,
   "metadata": {},
   "outputs": [],
   "source": []
  },
  {
   "cell_type": "code",
   "execution_count": null,
   "metadata": {},
   "outputs": [],
   "source": []
  },
  {
   "cell_type": "code",
   "execution_count": null,
   "metadata": {},
   "outputs": [],
   "source": []
  },
  {
   "cell_type": "markdown",
   "metadata": {},
   "source": [
    "#### sns.heatmap() 사용하여 계절(season)과 시간대별(hours) 자전거  총대여량 시각화"
   ]
  },
  {
   "cell_type": "markdown",
   "metadata": {},
   "source": [
    "#### 데이터 피봇팅\n",
    "\n",
    "- pivot() 함수\n",
    "    - 형식1. pd.pivot(data, index=None, columns=None, values=None)\n",
    "    - 형식2. 데이터프레임.pivot(index=None, columns=None, values=None)\n",
    "    - https://pandas.pydata.org/docs/reference/api/pandas.pivot.html\n",
    "    \n",
    "    \n",
    "- pivot_table() 함수\n",
    "    - 형식1. pd.pivot_table(data, values=None, index=None, columns=None, aggfunc='mean', fill_value=None, margins=False, dropna=True, margins_name='All', observed=False, sort=True) \n",
    "    - 형식2. 데이터프레임.pivot_table( )\n",
    "    - https://pandas.pydata.org/docs/reference/api/pandas.pivot_table.html"
   ]
  },
  {
   "cell_type": "code",
   "execution_count": null,
   "metadata": {},
   "outputs": [],
   "source": []
  },
  {
   "cell_type": "markdown",
   "metadata": {},
   "source": [
    "- heatmap()의 색상 스케일 최소값(vmin), 최대값(vmax) 인수 사용"
   ]
  },
  {
   "cell_type": "code",
   "execution_count": null,
   "metadata": {},
   "outputs": [],
   "source": []
  },
  {
   "cell_type": "markdown",
   "metadata": {},
   "source": [
    "#### heatmap()의 annot, fmt 인수\n",
    "- annot=True : 히트맵의 각 셀에 값 표시\n",
    "- fmt='d' or 'f' : 히트맵에 표시하는 값의 서식(format) 지정 (정수, 실수)"
   ]
  },
  {
   "cell_type": "code",
   "execution_count": null,
   "metadata": {},
   "outputs": [],
   "source": []
  },
  {
   "cell_type": "code",
   "execution_count": null,
   "metadata": {},
   "outputs": [],
   "source": []
  },
  {
   "cell_type": "markdown",
   "metadata": {},
   "source": [
    "#### sns.heatmap()함수의 cmap인수 사용하여 다른 color map 지정\n",
    "\n",
    "- color maps in Matplotlib 링크 참고: \n",
    "- https://matplotlib.org/stable/tutorials/colors/colormaps.html"
   ]
  },
  {
   "cell_type": "code",
   "execution_count": null,
   "metadata": {},
   "outputs": [],
   "source": []
  },
  {
   "cell_type": "code",
   "execution_count": null,
   "metadata": {},
   "outputs": [],
   "source": []
  },
  {
   "cell_type": "markdown",
   "metadata": {},
   "source": [
    "### (2) matplotlib의 pcolor()를 이용한 heatmap 그리기"
   ]
  },
  {
   "cell_type": "code",
   "execution_count": null,
   "metadata": {},
   "outputs": [],
   "source": []
  },
  {
   "cell_type": "markdown",
   "metadata": {},
   "source": [
    "------------------------------------------"
   ]
  },
  {
   "cell_type": "markdown",
   "metadata": {},
   "source": [
    "### 예제 데이터\n",
    "\n",
    "- seaborn 패키지의 flights dataset"
   ]
  },
  {
   "cell_type": "code",
   "execution_count": null,
   "metadata": {},
   "outputs": [],
   "source": []
  },
  {
   "cell_type": "code",
   "execution_count": null,
   "metadata": {},
   "outputs": [],
   "source": []
  },
  {
   "cell_type": "code",
   "execution_count": null,
   "metadata": {},
   "outputs": [],
   "source": []
  },
  {
   "cell_type": "markdown",
   "metadata": {
    "collapsed": true,
    "jupyter": {
     "outputs_hidden": true
    }
   },
   "source": [
    "**heatmap을 그리기 위한 데이터 테이블 생성**\n",
    "- pivot 테이블을 이용해서 연도별 각 월 승객수로 구조를 변환"
   ]
  },
  {
   "cell_type": "code",
   "execution_count": null,
   "metadata": {},
   "outputs": [],
   "source": []
  },
  {
   "cell_type": "code",
   "execution_count": null,
   "metadata": {},
   "outputs": [],
   "source": []
  },
  {
   "cell_type": "markdown",
   "metadata": {},
   "source": [
    "**seaborn.heatmap() 그리기**"
   ]
  },
  {
   "cell_type": "code",
   "execution_count": null,
   "metadata": {},
   "outputs": [],
   "source": []
  },
  {
   "cell_type": "code",
   "execution_count": null,
   "metadata": {},
   "outputs": [],
   "source": []
  },
  {
   "cell_type": "markdown",
   "metadata": {},
   "source": [
    "----------------------------------------------------"
   ]
  }
 ],
 "metadata": {
  "kernelspec": {
   "display_name": "Python 3 (ipykernel)",
   "language": "python",
   "name": "python3"
  },
  "language_info": {
   "codemirror_mode": {
    "name": "ipython",
    "version": 3
   },
   "file_extension": ".py",
   "mimetype": "text/x-python",
   "name": "python",
   "nbconvert_exporter": "python",
   "pygments_lexer": "ipython3",
   "version": "3.11.7"
  }
 },
 "nbformat": 4,
 "nbformat_minor": 4
}
