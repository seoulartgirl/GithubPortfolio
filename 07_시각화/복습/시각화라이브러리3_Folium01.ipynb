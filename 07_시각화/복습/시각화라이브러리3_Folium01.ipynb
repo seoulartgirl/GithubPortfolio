{
 "cells": [
  {
   "cell_type": "markdown",
   "metadata": {},
   "source": [
    "# folium"
   ]
  },
  {
   "attachments": {},
   "cell_type": "markdown",
   "metadata": {},
   "source": [
    "- Leaflet.js 기반의 지도 시각화 특화 라이브러리\n",
    "- 웹 기반 퍼블리싱이 용이 (html)\n",
    "- 무료로 사용 가능\n",
    "- open street map과 같은 지도 데이터에 위치정보 시각화\n",
    "- 마커 형태로 위치정보를 지도상에 표현\n",
    "- https://python-visualization.github.io/folium/"
   ]
  },
  {
   "cell_type": "markdown",
   "metadata": {},
   "source": [
    "## folium 설치"
   ]
  },
  {
   "cell_type": "markdown",
   "metadata": {},
   "source": [
    "- 프롬프트에서 설치\n",
    "    - pip install folium\n",
    "    - (Anaconda) conda install -c conda-forge folium"
   ]
  },
  {
   "cell_type": "code",
   "execution_count": null,
   "metadata": {},
   "outputs": [],
   "source": []
  },
  {
   "cell_type": "markdown",
   "metadata": {},
   "source": [
    "### 패키지 임포트"
   ]
  },
  {
   "cell_type": "code",
   "execution_count": null,
   "metadata": {},
   "outputs": [],
   "source": []
  },
  {
   "cell_type": "markdown",
   "metadata": {},
   "source": [
    "#### folium 버전"
   ]
  },
  {
   "cell_type": "code",
   "execution_count": null,
   "metadata": {},
   "outputs": [],
   "source": []
  },
  {
   "cell_type": "markdown",
   "metadata": {},
   "source": [
    "## 1. 지도 생성하기"
   ]
  },
  {
   "cell_type": "markdown",
   "metadata": {},
   "source": [
    "### 1) 지도 생성 : Map 객체"
   ]
  },
  {
   "attachments": {},
   "cell_type": "markdown",
   "metadata": {},
   "source": [
    "**foilum.Map(location=None**, width='100%', height='100%', left='0%', top='0%',\n",
    "    position='relative', tiles='OpenStreetMap', attr=None, \n",
    "    min_zoom=0, max_zoom=18, zoom_start=10, \n",
    "    min_lat=- 90, max_lat=90, min_lon=- 180, max_lon=180, max_bounds=False, \n",
    "    crs='EPSG3857', control_scale=False, prefer_canvas=False,\n",
    "    no_touch=False, disable_3d=False, png_enabled=False,\n",
    "    zoom_control=True, **kwargs )\n",
    "\n",
    "https://python-visualization.github.io/folium/latest/reference.html\n",
    " \n",
    "- 중심 좌표 인수 location=[Latitude, Longitude]\n",
    "- Map() 메소드에 중심 좌표값을 지정하여 생성\n",
    "- 위도와 경도를 data로 지도를 그려 줌\n",
    "- 크롬에서는 출력이 가능, 익스플로러에서는 저장만 가능(출력되지 않음)"
   ]
  },
  {
   "cell_type": "code",
   "execution_count": null,
   "metadata": {},
   "outputs": [],
   "source": []
  },
  {
   "cell_type": "markdown",
   "metadata": {},
   "source": [
    "### 2) 지도 표시 위치 지정\n",
    "\n",
    "**Map()의 location인수**\n",
    "- tuple or list, default None\n",
    "- Latitude and Longitude of Map (Northing, Easting)"
   ]
  },
  {
   "cell_type": "code",
   "execution_count": null,
   "metadata": {},
   "outputs": [],
   "source": []
  },
  {
   "cell_type": "markdown",
   "metadata": {},
   "source": [
    "#### 참고. 지도의 위도, 경도 찾기\n",
    "\n",
    "- 네이버/카카오 지도 앱에서 찾는 지점 클릭 후 해당 주소를 복사\n",
    "- 위도, 경도 찾는 사이트에서 주소 입력하여 해당 위치의 경도, 위도 검색\n",
    "- 웹툴사이트 :  https://xn--yq5bk9r.com/blog/map-coordinates"
   ]
  },
  {
   "cell_type": "code",
   "execution_count": null,
   "metadata": {},
   "outputs": [],
   "source": []
  },
  {
   "cell_type": "code",
   "execution_count": null,
   "metadata": {},
   "outputs": [],
   "source": []
  },
  {
   "cell_type": "markdown",
   "metadata": {},
   "source": [
    "### 3) 지도의 가로와 세로 크기 조정\n",
    "\n",
    "**Map()의 width, height 인수**\n",
    "- width, height : pixel int or percentage string (default : '100%')."
   ]
  },
  {
   "cell_type": "code",
   "execution_count": null,
   "metadata": {},
   "outputs": [],
   "source": []
  },
  {
   "cell_type": "code",
   "execution_count": null,
   "metadata": {},
   "outputs": [],
   "source": []
  },
  {
   "cell_type": "markdown",
   "metadata": {},
   "source": [
    "## 2. 지도 조절\n",
    "\n",
    "- Map()의 zoom_start 인수 : Map을 처음 그릴 때 zoom의 범위 값 설정\n",
    "- Map()의 control_scale 인수 : 스케일 컨트롤 버튼 표시 여부\n",
    "- Map()의 zoom_control 인수 : zoom in/out 버튼 표시 여부"
   ]
  },
  {
   "cell_type": "markdown",
   "metadata": {},
   "source": [
    "#### ① 지도 확대/축소하기 : Map( )의 **zoom_start** 인수"
   ]
  },
  {
   "cell_type": "markdown",
   "metadata": {},
   "source": [
    "- 화면 확대 비율 조절\n",
    "- 기본값은 10\n",
    "- 값이 커질수록 확대 : (+)버튼 기능을 클릭한 것과 같은 효과"
   ]
  },
  {
   "cell_type": "code",
   "execution_count": null,
   "metadata": {},
   "outputs": [],
   "source": []
  },
  {
   "cell_type": "code",
   "execution_count": null,
   "metadata": {},
   "outputs": [],
   "source": []
  },
  {
   "cell_type": "code",
   "execution_count": null,
   "metadata": {},
   "outputs": [],
   "source": []
  },
  {
   "cell_type": "code",
   "execution_count": null,
   "metadata": {},
   "outputs": [],
   "source": []
  },
  {
   "cell_type": "markdown",
   "metadata": {},
   "source": [
    "② control scale 표시 : Map( )의 **control_scale 인수**\n",
    "- bool, default True"
   ]
  },
  {
   "cell_type": "code",
   "execution_count": null,
   "metadata": {},
   "outputs": [],
   "source": []
  },
  {
   "cell_type": "code",
   "execution_count": null,
   "metadata": {},
   "outputs": [],
   "source": []
  },
  {
   "cell_type": "markdown",
   "metadata": {},
   "source": [
    "③ zoom control 표시 : Map( )의 **zoom_control 인수**\n",
    "- bool or position string\n",
    "- default: True (top left corner)\n",
    "- other options : 'topleft', 'topright', 'bottomleft' or 'bottomright'"
   ]
  },
  {
   "cell_type": "code",
   "execution_count": null,
   "metadata": {},
   "outputs": [],
   "source": []
  },
  {
   "cell_type": "code",
   "execution_count": null,
   "metadata": {},
   "outputs": [],
   "source": []
  },
  {
   "cell_type": "markdown",
   "metadata": {},
   "source": [
    "## 3. 지도 html 형식으로 저장하기"
   ]
  },
  {
   "cell_type": "markdown",
   "metadata": {},
   "source": [
    "#### save() 메소드로 저장\n",
    "\n",
    "folium.Map([ ... ]).**save('파일이름.html')**"
   ]
  },
  {
   "cell_type": "code",
   "execution_count": null,
   "metadata": {},
   "outputs": [],
   "source": []
  },
  {
   "cell_type": "code",
   "execution_count": null,
   "metadata": {},
   "outputs": [],
   "source": []
  },
  {
   "cell_type": "markdown",
   "metadata": {},
   "source": [
    "## 4. 지도 스타일 변경하기"
   ]
  },
  {
   "cell_type": "markdown",
   "metadata": {},
   "source": [
    "### Map()의 **tiles 인수** : 지도스타일 정의\n",
    "\n",
    "**Map(tiles= str | TileLayer)**"
   ]
  },
  {
   "cell_type": "markdown",
   "metadata": {},
   "source": [
    "#### 1) tiles = str를 이용한 기본 타일\n",
    "- 'OpenStreetMap' 이 기본값\n",
    "- 'CartoDB positron'\n",
    "- 'CartoDB Voyager'\n",
    "- 'CartoDB dark_matter'\n",
    "- 'NASAGIBS Blue Marble'\n",
    "- 'Stamen Terrain' : 산악 지형이 선명하게 보임\n",
    "- 'Stamen Toner' : 흑백 스타일로 도로망 강조\n",
    "- 그외 customized tile 사용 가능"
   ]
  },
  {
   "cell_type": "code",
   "execution_count": null,
   "metadata": {},
   "outputs": [],
   "source": []
  },
  {
   "cell_type": "code",
   "execution_count": null,
   "metadata": {},
   "outputs": [],
   "source": []
  },
  {
   "cell_type": "code",
   "execution_count": null,
   "metadata": {},
   "outputs": [],
   "source": []
  },
  {
   "cell_type": "code",
   "execution_count": null,
   "metadata": {},
   "outputs": [],
   "source": []
  },
  {
   "cell_type": "markdown",
   "metadata": {},
   "source": [
    "#### 2) **folium.TileLayer()** 를 이용한 지도 기본 tiles 지정\n",
    "\n",
    "folium.raster_layers.**TileLayer(tiles: str | TileProvider = 'OpenStreetMap'**, min_zoom: int = 0, max_zoom: int = 18, max_native_zoom: int | None = None, attr: str | None = None, detect_retina: bool = False, name: str | None = None, overlay: bool = False, control: bool = True, show: bool = True, no_wrap: bool = False, subdomains: str = 'abc', tms: bool = False, opacity: float = 1, **kwargs)\n",
    "\n",
    "\n",
    "https://python-visualization.github.io/folium/latest/reference.html#folium.raster_layers.TileLayer"
   ]
  },
  {
   "cell_type": "code",
   "execution_count": null,
   "metadata": {},
   "outputs": [],
   "source": []
  },
  {
   "cell_type": "code",
   "execution_count": null,
   "metadata": {},
   "outputs": [],
   "source": []
  },
  {
   "cell_type": "code",
   "execution_count": null,
   "metadata": {},
   "outputs": [],
   "source": []
  },
  {
   "cell_type": "markdown",
   "metadata": {},
   "source": [
    "#### 3) **custom 타일** 사용하기\n",
    "\n",
    "- 제공되는 custom tile 미리보기 : http://leaflet-extras.github.io/leaflet-providers/preview"
   ]
  },
  {
   "cell_type": "markdown",
   "metadata": {},
   "source": [
    "- Map(tiles=custome타일url, attr=provider명)"
   ]
  },
  {
   "cell_type": "code",
   "execution_count": null,
   "metadata": {},
   "outputs": [],
   "source": []
  },
  {
   "cell_type": "markdown",
   "metadata": {},
   "source": [
    "- **TileLayer(tiles=TilesUrl, attr=str)** 사용하여 custome tiles 지정"
   ]
  },
  {
   "cell_type": "code",
   "execution_count": null,
   "metadata": {},
   "outputs": [],
   "source": []
  },
  {
   "cell_type": "markdown",
   "metadata": {},
   "source": [
    "- **Vworld 오픈API** 이용    \n",
    "\n",
    "   - 국토교통부 공간정보산업진흥원 브이월드(https://www.vworld.kr/v4po_main.do)\n",
    "   - 참고. 국토정보플랫폼의 바로e맵(https://map.ngii.go.kr/mi/emapMain/emapIntro01.do)\n",
    "   - 타일종류 / 타일 타입\n",
    "      - Base / png\n",
    "      - gray / png\n",
    "      - midnight / png\n",
    "      - Hybrid / png\n",
    "      - Satellite / jpeg"
   ]
  },
  {
   "cell_type": "code",
   "execution_count": null,
   "metadata": {},
   "outputs": [],
   "source": []
  },
  {
   "cell_type": "code",
   "execution_count": null,
   "metadata": {},
   "outputs": [],
   "source": []
  },
  {
   "cell_type": "code",
   "execution_count": null,
   "metadata": {},
   "outputs": [],
   "source": []
  },
  {
   "cell_type": "code",
   "execution_count": null,
   "metadata": {},
   "outputs": [],
   "source": []
  },
  {
   "cell_type": "code",
   "execution_count": null,
   "metadata": {},
   "outputs": [],
   "source": []
  },
  {
   "cell_type": "markdown",
   "metadata": {},
   "source": [
    "#### 구글 지도 설정"
   ]
  },
  {
   "cell_type": "markdown",
   "metadata": {},
   "source": [
    "지도 타일명 : lyrs=값str\n",
    "- Standard Road Map : m\n",
    "- Terran Map : p\n",
    "- Somehow Altered Road Map : r\n",
    "- Satellite Map : s\n",
    "- Terran Only : t\n",
    "- Hybrid : y\n",
    "- Roads Only : h"
   ]
  },
  {
   "cell_type": "code",
   "execution_count": null,
   "metadata": {},
   "outputs": [],
   "source": []
  },
  {
   "cell_type": "code",
   "execution_count": null,
   "metadata": {},
   "outputs": [],
   "source": []
  },
  {
   "cell_type": "code",
   "execution_count": null,
   "metadata": {},
   "outputs": [],
   "source": []
  },
  {
   "cell_type": "code",
   "execution_count": null,
   "metadata": {},
   "outputs": [],
   "source": []
  },
  {
   "cell_type": "code",
   "execution_count": null,
   "metadata": {},
   "outputs": [],
   "source": []
  },
  {
   "cell_type": "code",
   "execution_count": null,
   "metadata": {},
   "outputs": [],
   "source": []
  },
  {
   "cell_type": "code",
   "execution_count": null,
   "metadata": {},
   "outputs": [],
   "source": []
  },
  {
   "cell_type": "code",
   "execution_count": null,
   "metadata": {},
   "outputs": [],
   "source": []
  },
  {
   "cell_type": "markdown",
   "metadata": {},
   "source": [
    "참고. 지도 API\n",
    "- 네이버 Map : https://www.ncloud.com/product/applicationService/maps\n",
    "- 카카오 Mao : https://apis.map.kakao.com/ ( https://developers.kakao.com/product/map )"
   ]
  },
  {
   "cell_type": "markdown",
   "metadata": {},
   "source": [
    "----"
   ]
  }
 ],
 "metadata": {
  "kernelspec": {
   "display_name": "Python 3 (ipykernel)",
   "language": "python",
   "name": "python3"
  },
  "language_info": {
   "codemirror_mode": {
    "name": "ipython",
    "version": 3
   },
   "file_extension": ".py",
   "mimetype": "text/x-python",
   "name": "python",
   "nbconvert_exporter": "python",
   "pygments_lexer": "ipython3",
   "version": "3.11.7"
  }
 },
 "nbformat": 4,
 "nbformat_minor": 4
}
