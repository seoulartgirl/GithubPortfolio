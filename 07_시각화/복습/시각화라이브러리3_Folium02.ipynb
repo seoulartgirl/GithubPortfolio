{
 "cells": [
  {
   "cell_type": "markdown",
   "metadata": {},
   "source": [
    "# folium"
   ]
  },
  {
   "cell_type": "code",
   "execution_count": null,
   "metadata": {},
   "outputs": [],
   "source": []
  },
  {
   "cell_type": "code",
   "execution_count": null,
   "metadata": {},
   "outputs": [],
   "source": []
  },
  {
   "cell_type": "markdown",
   "metadata": {},
   "source": [
    "## 5. 지도에 마커(marker) 설정 "
   ]
  },
  {
   "cell_type": "markdown",
   "metadata": {},
   "source": [
    "- POI(Point Of Interest, 관심지점)을 추가하고 관련 정보 제공\n",
    "- 마커(marker) : 특정 위치를 표시하는 표식"
   ]
  },
  {
   "cell_type": "markdown",
   "metadata": {},
   "source": [
    "### 마커를 부착한 지도 생성"
   ]
  },
  {
   "cell_type": "markdown",
   "metadata": {},
   "source": [
    "단계1. 마커 생성   \n",
    "- **folium.Marker(location=[위도,경도], popup='', tooltip='', icon=아이콘객체)**\n",
    "   - popup : 마커 클릭 시 표시되는 문구\n",
    "       - 환경에 따라 지원 안되는 경우도 있음\n",
    "   - tooltip : 마우스 hover시 표기되는 문구\n",
    "   - icon : Marker 형태 결정\n",
    "       - 기본값 : information icon\n",
    "                \n",
    "단계2. 마커 아이콘 생성\n",
    "- **folium.Icon(color='색상', icon='아이콘 모양')**\n",
    "\n",
    "    \n",
    "   \n",
    "단계3. 마커 생성 후 부착\n",
    "- **folium.Marker().add_to(지도객체변수)**"
   ]
  },
  {
   "cell_type": "markdown",
   "metadata": {},
   "source": [
    "#### Map 객체 생성"
   ]
  },
  {
   "cell_type": "code",
   "execution_count": null,
   "metadata": {},
   "outputs": [],
   "source": []
  },
  {
   "cell_type": "markdown",
   "metadata": {},
   "source": [
    "#### Marker 객체 생성 및 Map에 부착"
   ]
  },
  {
   "cell_type": "code",
   "execution_count": null,
   "metadata": {},
   "outputs": [],
   "source": []
  },
  {
   "cell_type": "code",
   "execution_count": null,
   "metadata": {},
   "outputs": [],
   "source": []
  },
  {
   "cell_type": "code",
   "execution_count": null,
   "metadata": {},
   "outputs": [],
   "source": []
  },
  {
   "cell_type": "code",
   "execution_count": null,
   "metadata": {},
   "outputs": [],
   "source": []
  },
  {
   "cell_type": "code",
   "execution_count": null,
   "metadata": {},
   "outputs": [],
   "source": []
  },
  {
   "cell_type": "code",
   "execution_count": null,
   "metadata": {},
   "outputs": [],
   "source": []
  },
  {
   "cell_type": "markdown",
   "metadata": {},
   "source": [
    "### 마커 클릭 시 특정 사이트로 이동하기"
   ]
  },
  {
   "cell_type": "code",
   "execution_count": null,
   "metadata": {},
   "outputs": [],
   "source": []
  },
  {
   "cell_type": "markdown",
   "metadata": {},
   "source": [
    "### 마커에 custom icon 적용하기 "
   ]
  },
  {
   "cell_type": "markdown",
   "metadata": {},
   "source": [
    "- icon옵션 custom\n",
    "    - prefix 옵션 : 두 가지 - fa, glyphicon\n",
    "    - prefix='fa' 옵션을 선택할 때 icon 선택하는 사이트\n",
    "        - https://fontawesome.com/\n",
    "    - prefix = 'glyphicon' 옵션을 선택할 때 icon 선택하는 사이트\n",
    "        - http://bootstrapk.com/components/"
   ]
  },
  {
   "cell_type": "code",
   "execution_count": null,
   "metadata": {},
   "outputs": [],
   "source": []
  },
  {
   "cell_type": "code",
   "execution_count": null,
   "metadata": {},
   "outputs": [],
   "source": []
  },
  {
   "cell_type": "markdown",
   "metadata": {},
   "source": [
    "### 문제\n",
    "\n",
    "1. 수원역에 있는 에이케이플라자를 지도에 표시\n",
    "\n",
    "\n",
    "2. icon은 검정색, 건물모양으로 표시\n",
    "  - color = 'black'\n",
    "  - icon = 'building'\n",
    "  - prefix = 'fa' \n",
    "\n",
    "\n",
    "3. 아이콘에 마우스를 올리면 AK플라자 글씨를 나타나게 함\n",
    "\n",
    "\n",
    "4. 아이콘 클릭 시 AK플라자 사이트로 연결\n",
    "    - http://www.akplaza.com/main.do"
   ]
  },
  {
   "cell_type": "code",
   "execution_count": null,
   "metadata": {},
   "outputs": [],
   "source": []
  },
  {
   "cell_type": "code",
   "execution_count": null,
   "metadata": {},
   "outputs": [],
   "source": []
  },
  {
   "cell_type": "markdown",
   "metadata": {},
   "source": [
    "## 6. 지도에 원 그리기"
   ]
  },
  {
   "cell_type": "markdown",
   "metadata": {},
   "source": [
    ": 지도에 데이터 값, 영역 등의 정보를 표현하기 위한 방법\n",
    "\n",
    "- folium.Circle()\n",
    "- folium.CircleMarker()"
   ]
  },
  {
   "cell_type": "markdown",
   "metadata": {},
   "source": [
    "#### Circle()  생성"
   ]
  },
  {
   "cell_type": "code",
   "execution_count": null,
   "metadata": {},
   "outputs": [],
   "source": []
  },
  {
   "cell_type": "code",
   "execution_count": null,
   "metadata": {},
   "outputs": [],
   "source": []
  },
  {
   "cell_type": "markdown",
   "metadata": {},
   "source": [
    "#### CircleMarker 생성"
   ]
  },
  {
   "cell_type": "code",
   "execution_count": null,
   "metadata": {},
   "outputs": [],
   "source": []
  },
  {
   "cell_type": "code",
   "execution_count": null,
   "metadata": {},
   "outputs": [],
   "source": []
  },
  {
   "cell_type": "markdown",
   "metadata": {},
   "source": [
    "## 7. MarkerCluster 생성 \n",
    "\n",
    "- 가까운 거리의 Marker들을 그룹화하여 Marker의 개수로 표현\n",
    "- folium.plugin의 MarkerCluster클래스\n",
    "- https://python-visualization.github.io/folium/latest/user_guide/plugins/marker_cluster.html#MarkerCluster"
   ]
  },
  {
   "cell_type": "markdown",
   "metadata": {},
   "source": [
    "### MarkerCluster 추가 방법\n",
    "\n",
    "1. Map 객체 생성\n",
    "2. MarkerCluster 객체 생성하여 Map에 추가\n",
    "3. MarkerCluster 객체에 Marker 추가"
   ]
  },
  {
   "cell_type": "code",
   "execution_count": 56,
   "metadata": {},
   "outputs": [],
   "source": [
    "# 서울시 구청 위치 정보\n",
    "gu_loc = {'강남구청':[37.52579, 127.0483],\n",
    "        '서초구청':[37.49093, 127.0329],\n",
    "        '동작구청':[37.51871, 126.9364],\n",
    "        '구로구청':[37.50237, 126.8890],\n",
    "        '양천구청' :[37.52007, 126.9549],\n",
    "        '영등포구청': [37.54240, 126.8402],\n",
    "        '관악구청': [37.48467, 126.9515],\n",
    "        '용산구청' :[37.53804, 126.9913],\n",
    "        '서대문구청': [37.58567, 126.9357],\n",
    "        '마포구청' : [37.57003, 126.9019],\n",
    "        '은평구청' : [37.60675, 126.9302],\n",
    "        '종로구청' : [37.57615, 126.9790],\n",
    "        '중구청' : [37.56798, 126.9975],\n",
    "        '성북구청' : [37.59342, 127.0172],\n",
    "        '동대문구청' : [37.57792, 127.0401],\n",
    "        '중랑구청' : [37.60961, 127.0931],\n",
    "        '노원구청' : [37.65664, 127.0559],\n",
    "        '도봉구청' : [37.67214, 127.0462],\n",
    "        '강북구청' : [37.64278, 127.0253],\n",
    "        '광진구청' : [37.54104, 127.0826],\n",
    "        '강동구청' : [37.53246, 127.1237],\n",
    "        '송파구청' : [37.51803, 127.105]\n",
    "       }"
   ]
  },
  {
   "cell_type": "markdown",
   "metadata": {},
   "source": [
    "- map 객체 생성"
   ]
  },
  {
   "cell_type": "code",
   "execution_count": null,
   "metadata": {},
   "outputs": [],
   "source": []
  },
  {
   "cell_type": "markdown",
   "metadata": {},
   "source": [
    "- MarkerCluster 추가"
   ]
  },
  {
   "cell_type": "code",
   "execution_count": null,
   "metadata": {},
   "outputs": [],
   "source": []
  },
  {
   "cell_type": "code",
   "execution_count": null,
   "metadata": {},
   "outputs": [],
   "source": []
  },
  {
   "cell_type": "markdown",
   "metadata": {},
   "source": [
    "-----"
   ]
  },
  {
   "cell_type": "markdown",
   "metadata": {},
   "source": [
    "### 연습문제. 서울시 지진대피소 위치를 MarkerCluster 표시하기"
   ]
  },
  {
   "cell_type": "markdown",
   "metadata": {},
   "source": [
    "- 데이터 : 서울시 지진옥외대피소\n",
    "- 대피소별 주소, 면적, 표값 제공(좌표계: 위경도(GPS), XY좌표(GRS90-중부원점))\r\n",
    "- 출처 : 서울시 열린데이터 광장\n",
    "- https://data.seoul.go.kr/dataList/OA-21063/S/1/datasetView.do"
   ]
  },
  {
   "cell_type": "code",
   "execution_count": null,
   "metadata": {},
   "outputs": [],
   "source": []
  },
  {
   "cell_type": "code",
   "execution_count": null,
   "metadata": {},
   "outputs": [],
   "source": []
  },
  {
   "cell_type": "code",
   "execution_count": null,
   "metadata": {},
   "outputs": [],
   "source": []
  },
  {
   "cell_type": "code",
   "execution_count": null,
   "metadata": {},
   "outputs": [],
   "source": []
  },
  {
   "cell_type": "code",
   "execution_count": null,
   "metadata": {},
   "outputs": [],
   "source": []
  },
  {
   "cell_type": "markdown",
   "metadata": {},
   "source": [
    "------"
   ]
  }
 ],
 "metadata": {
  "kernelspec": {
   "display_name": "Python 3 (ipykernel)",
   "language": "python",
   "name": "python3"
  },
  "language_info": {
   "codemirror_mode": {
    "name": "ipython",
    "version": 3
   },
   "file_extension": ".py",
   "mimetype": "text/x-python",
   "name": "python",
   "nbconvert_exporter": "python",
   "pygments_lexer": "ipython3",
   "version": "3.11.7"
  }
 },
 "nbformat": 4,
 "nbformat_minor": 4
}
