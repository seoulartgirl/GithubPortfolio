{
 "cells": [
  {
   "cell_type": "markdown",
   "id": "5ec15029-3acc-4cca-bb3b-c85be5b3f004",
   "metadata": {},
   "source": [
    "# 텍스트 분석과 시각화"
   ]
  },
  {
   "cell_type": "markdown",
   "id": "70a717cf-b497-4f0a-9c00-ef0b504c3e7c",
   "metadata": {},
   "source": [
    "- 빈도를 바탕으로 한 그래프와 워드 클라우드(word cloud)\n",
    "- 텍스트 분석은 문서를 구성하는 단어 파악이 핵심\n",
    "- 예. 대통령 연설문에 사용된 단어들의 빈도 분석 -> 대통령이 중요시하는 것이 무엇인지 의도파악\n",
    "  - https://cyram.tistory.com/309"
   ]
  },
  {
   "cell_type": "markdown",
   "id": "e5f88987-f9a7-4b7e-9eca-8d1ed953d845",
   "metadata": {},
   "source": [
    "## 1. 단어 빈도 그래프 : 가장 많이 쓰인 단어는?\n",
    "\n",
    "- 토큰화, 어간 추출, 불용어 제거 등 텍스트 데이터 전처리 후 진행"
   ]
  },
  {
   "cell_type": "markdown",
   "id": "98755f59-057f-4e39-b3d2-0625b05d7a77",
   "metadata": {},
   "source": [
    "#### 예제 데이터. \n",
    "- 영어소설 : 루이스캐럴의 '이상한 나라의 앨리스'\n",
    "- 구텐베르크 프로젝트 : 저작권 만료 소설 ebook 제공\n",
    "    - https://www.gutenberg.org"
   ]
  },
  {
   "cell_type": "markdown",
   "id": "f98813cd-4b8b-4b40-bedd-7cda77723acd",
   "metadata": {},
   "source": [
    "### 1) 데이터 로딩과 텍스트 전처리"
   ]
  },
  {
   "cell_type": "code",
   "execution_count": null,
   "id": "0c9a197c-7a26-4801-83d9-2ebe5f200ec0",
   "metadata": {},
   "outputs": [],
   "source": []
  },
  {
   "cell_type": "markdown",
   "id": "21a486de-73b7-4804-9e3e-6a1513953d34",
   "metadata": {},
   "source": [
    "- 문서 다운로드 및 내용 확인"
   ]
  },
  {
   "cell_type": "code",
   "execution_count": null,
   "id": "5b6ed859-1fb6-4e22-9b6d-b740f5b92990",
   "metadata": {},
   "outputs": [],
   "source": []
  },
  {
   "cell_type": "code",
   "execution_count": null,
   "id": "173908ef-0a2b-4c74-87c5-789483f2adae",
   "metadata": {},
   "outputs": [],
   "source": []
  },
  {
   "cell_type": "markdown",
   "id": "cab5c79a-a552-49d9-85f0-8a0e8498c57d",
   "metadata": {},
   "source": [
    "- 토큰화"
   ]
  },
  {
   "cell_type": "code",
   "execution_count": null,
   "id": "4a2a2544-e8ee-466a-815b-22b1fb629217",
   "metadata": {},
   "outputs": [],
   "source": []
  },
  {
   "cell_type": "markdown",
   "id": "14af3313-46b0-47e9-b262-4ad4879b6d71",
   "metadata": {},
   "source": [
    "- 어간 추출"
   ]
  },
  {
   "cell_type": "code",
   "execution_count": null,
   "id": "73387605-da10-491e-acf1-883ea7659095",
   "metadata": {},
   "outputs": [],
   "source": []
  },
  {
   "cell_type": "markdown",
   "id": "3dcb316b-96dd-4f6e-a98c-dc5071047099",
   "metadata": {},
   "source": [
    "- 표제어 추출"
   ]
  },
  {
   "cell_type": "code",
   "execution_count": null,
   "id": "7a7b43ff-4d0b-4a85-b236-51f2a76df0a0",
   "metadata": {},
   "outputs": [],
   "source": []
  },
  {
   "cell_type": "markdown",
   "id": "6b801f33-ca5d-44d6-a4b3-23f8af8a126f",
   "metadata": {},
   "source": [
    "- 정규표현식을 이용한 토큰화"
   ]
  },
  {
   "cell_type": "code",
   "execution_count": null,
   "id": "dc5fa4ba-e691-4bb9-be01-597b4e131a43",
   "metadata": {},
   "outputs": [],
   "source": []
  },
  {
   "cell_type": "code",
   "execution_count": null,
   "id": "56363b5d-dac4-4249-a58e-65f6c1e3a25a",
   "metadata": {},
   "outputs": [],
   "source": []
  },
  {
   "cell_type": "markdown",
   "id": "71862f48-efc6-428b-84d1-7969eaeba4c9",
   "metadata": {},
   "source": [
    "- 불용어 제거"
   ]
  },
  {
   "cell_type": "code",
   "execution_count": null,
   "id": "c9aa6576-22f3-4cd8-a556-623c9991274b",
   "metadata": {},
   "outputs": [],
   "source": []
  },
  {
   "cell_type": "markdown",
   "id": "43809c07-3f24-4394-97b6-36395e9275df",
   "metadata": {},
   "source": [
    "- 단어별 빈도"
   ]
  },
  {
   "cell_type": "code",
   "execution_count": null,
   "id": "dcc6777b-a10d-4c62-9980-3e265fc76afd",
   "metadata": {},
   "outputs": [],
   "source": []
  },
  {
   "cell_type": "markdown",
   "id": "b303be5c-3e06-4c31-9e36-8b7869fc0ee8",
   "metadata": {},
   "source": [
    "- 품사 태깅하여 명사, 동사, 형용사만 추출"
   ]
  },
  {
   "cell_type": "code",
   "execution_count": null,
   "id": "6c651a23-cd38-44e4-af81-58718143a90a",
   "metadata": {},
   "outputs": [],
   "source": []
  },
  {
   "cell_type": "markdown",
   "id": "7fbedd45-64bd-4acc-93f3-bf1ad3d9f212",
   "metadata": {},
   "source": [
    "### 2) 시각화 "
   ]
  },
  {
   "cell_type": "code",
   "execution_count": null,
   "id": "113b5ba7-862a-4d34-897d-9abe3d9bc29f",
   "metadata": {},
   "outputs": [],
   "source": []
  },
  {
   "cell_type": "code",
   "execution_count": null,
   "id": "06b05d7f-b4f6-4127-816f-26d17fb75ab5",
   "metadata": {},
   "outputs": [],
   "source": []
  },
  {
   "cell_type": "markdown",
   "id": "8a2fb619-75b1-47bb-9721-7b2430b6c7f9",
   "metadata": {},
   "source": [
    "#### 전체 단어별 빈도수 시각화"
   ]
  },
  {
   "cell_type": "code",
   "execution_count": null,
   "id": "ce8d2d7e-792a-4a0d-b42c-46fbbbbb33e4",
   "metadata": {},
   "outputs": [],
   "source": []
  },
  {
   "cell_type": "markdown",
   "id": "d23fa2a7-8289-48c9-848a-5f1cef5d3227",
   "metadata": {},
   "source": [
    "지프의 법칙(Zipf's law)\n",
    "- 하버드대학교 언어학자 조지 킹슬리 지프가 제안\n",
    "- 말뭉치의 단어들을 사용빈도가 높은 순서대로 나열하면 단어의 사용빈도는 순위에 반비례한다"
   ]
  },
  {
   "cell_type": "markdown",
   "id": "34376d84-fb05-4279-9d7b-1c94701ff7f9",
   "metadata": {},
   "source": [
    "#### 빈도수 막대그래프\n",
    "- 사용 빈도가 높은 상위 20개 단어"
   ]
  },
  {
   "cell_type": "code",
   "execution_count": null,
   "id": "f2e5abf5-e40d-4883-89ce-f78553f8887f",
   "metadata": {},
   "outputs": [],
   "source": []
  },
  {
   "cell_type": "code",
   "execution_count": null,
   "id": "5cd1ee2d-be52-4ce9-8c2d-16d876d75b17",
   "metadata": {},
   "outputs": [],
   "source": []
  },
  {
   "cell_type": "code",
   "execution_count": null,
   "id": "815db6c8-5c75-4c31-aeb1-3817d73ffb5e",
   "metadata": {},
   "outputs": [],
   "source": []
  },
  {
   "cell_type": "code",
   "execution_count": null,
   "id": "874cacc6-6eee-4cfb-8b4a-0ba98fa78f27",
   "metadata": {},
   "outputs": [],
   "source": []
  },
  {
   "cell_type": "markdown",
   "id": "e114e11c-a9ff-46b9-bc3d-e2937f4ab182",
   "metadata": {},
   "source": [
    "#### 워드 클라우드(word cloud)\n",
    "\n",
    "- 텍스트 분석 결과를 보여주는 시각화 도구\n",
    "- 빈도가 높은 단어는 크게, 낮은 단어는 작게 표시\n",
    "- 단어 빈도 분포를 한 눈에 파악할 수 있음"
   ]
  },
  {
   "cell_type": "markdown",
   "id": "8af054a4-52ad-452e-ba50-e4dd1c9e09f8",
   "metadata": {},
   "source": [
    "워드 클라우드 설치"
   ]
  },
  {
   "cell_type": "code",
   "execution_count": null,
   "id": "db23304b-1071-4096-8a77-17ddf2ae1e5f",
   "metadata": {},
   "outputs": [],
   "source": []
  },
  {
   "cell_type": "code",
   "execution_count": null,
   "id": "61e1c110-f511-4472-8fcb-c040c6f095d2",
   "metadata": {},
   "outputs": [],
   "source": []
  },
  {
   "cell_type": "markdown",
   "id": "e04a76bc-66d7-444c-b2db-af107a44efba",
   "metadata": {},
   "source": [
    "워드 클라우드 이미지 생성 후 plt.imshow()를 이용하여 이미지 출력"
   ]
  },
  {
   "cell_type": "code",
   "execution_count": null,
   "id": "6f7b8487-632f-4040-a916-889296213044",
   "metadata": {},
   "outputs": [],
   "source": []
  },
  {
   "cell_type": "code",
   "execution_count": null,
   "id": "ee1e6134-6812-47b6-a6df-becfec8d2590",
   "metadata": {},
   "outputs": [],
   "source": []
  },
  {
   "cell_type": "code",
   "execution_count": null,
   "id": "7c4c7cb2-a8f8-4ef5-8c07-3afe080c170d",
   "metadata": {},
   "outputs": [],
   "source": []
  },
  {
   "cell_type": "markdown",
   "id": "0ad06900-030b-4ace-946c-4293abefd468",
   "metadata": {},
   "source": [
    "wordcloud 폰트 크기 조절 : max_font_size\n",
    "- 빈도수가 높은 단어와 낮은 단어의 폰트 크기 차이 조절\n",
    "- 폰트 최대 크기 제한"
   ]
  },
  {
   "cell_type": "code",
   "execution_count": null,
   "id": "8ac3efd5-d6bf-4593-b96f-6794316d6a40",
   "metadata": {},
   "outputs": [],
   "source": []
  },
  {
   "cell_type": "markdown",
   "id": "74d1a8ec-73ef-49d7-a3cf-5d8b3c52b3f8",
   "metadata": {},
   "source": [
    "토큰화, 불용어 제거, 품사 태깅 등의 작업 결과 활용한 워드클라우드\n",
    "- generate_from_frequencies() 메서드"
   ]
  },
  {
   "cell_type": "code",
   "execution_count": null,
   "id": "201cb16c-8fb0-4a0c-b1a7-e5104f0d021d",
   "metadata": {},
   "outputs": [],
   "source": []
  },
  {
   "cell_type": "markdown",
   "id": "129a7a46-e0d4-4dbe-bed4-20ef63e49fa5",
   "metadata": {},
   "source": [
    "이미지 위에 워드 클라우드 출력\n",
    "- mask 매개변수 사용"
   ]
  },
  {
   "cell_type": "code",
   "execution_count": null,
   "id": "91d7ab98-e9de-4f81-bb21-c3c73c75e553",
   "metadata": {},
   "outputs": [],
   "source": []
  },
  {
   "cell_type": "markdown",
   "id": "3b11bf23-6bb7-4116-8308-968b6446ed2a",
   "metadata": {},
   "source": [
    "## 2. 한국어 문서에 대한 시각화"
   ]
  },
  {
   "cell_type": "markdown",
   "id": "ddc58c13-1a0e-433a-822b-9d4ed10960e5",
   "metadata": {},
   "source": [
    "### 예제 데이터\n",
    "\n",
    "- KoNLPy에서 제공하는 헌법 텍스트\n",
    "- https://konlpy.org/ko/latest/data/"
   ]
  },
  {
   "cell_type": "markdown",
   "id": "1ff9dc44-8b9e-490a-964c-c86f0f398167",
   "metadata": {},
   "source": [
    "### 1) 데이터 준비 및 전처리"
   ]
  },
  {
   "cell_type": "markdown",
   "id": "82f6c9db-ee52-4876-b3f5-00ce2ed21768",
   "metadata": {},
   "source": [
    "#### 데이터 읽기"
   ]
  },
  {
   "cell_type": "code",
   "execution_count": null,
   "id": "5c4d706c-3873-4d01-aa8e-e49198d76f59",
   "metadata": {},
   "outputs": [],
   "source": []
  },
  {
   "cell_type": "markdown",
   "id": "a2c3b652-7642-4c58-891e-86a485197b2b",
   "metadata": {},
   "source": [
    "#### 형태소 분석"
   ]
  },
  {
   "cell_type": "code",
   "execution_count": null,
   "id": "f872a694-a63f-4411-ae6c-43904fc6536a",
   "metadata": {},
   "outputs": [],
   "source": []
  },
  {
   "cell_type": "markdown",
   "id": "9b1870ad-fd86-41c6-8166-29d1a63697b9",
   "metadata": {},
   "source": [
    "- 명사만 추출"
   ]
  },
  {
   "cell_type": "code",
   "execution_count": null,
   "id": "2631d9c7-a663-4704-905d-69db2a1573d7",
   "metadata": {},
   "outputs": [],
   "source": []
  },
  {
   "cell_type": "markdown",
   "id": "7f2a110f-bf8a-40e0-9472-bd163f32b4b8",
   "metadata": {},
   "source": [
    "#### 한 글자 단어 제외"
   ]
  },
  {
   "cell_type": "code",
   "execution_count": null,
   "id": "a7c1ea4a-5f93-4373-879d-a6b53db2d69f",
   "metadata": {},
   "outputs": [],
   "source": []
  },
  {
   "cell_type": "markdown",
   "id": "c5882397-19ca-4bb0-8a15-eed57931f37d",
   "metadata": {},
   "source": [
    "### 3) 시각화"
   ]
  },
  {
   "cell_type": "markdown",
   "id": "7121ca59-5082-49bc-9662-d51b50b92505",
   "metadata": {},
   "source": [
    "#### 빈도 그래프"
   ]
  },
  {
   "cell_type": "code",
   "execution_count": null,
   "id": "a9f0905e-3cf4-4763-b781-006057c070f1",
   "metadata": {},
   "outputs": [],
   "source": []
  },
  {
   "cell_type": "markdown",
   "id": "f19a2f7a-3048-41ce-8cbf-030dabdc11a5",
   "metadata": {},
   "source": [
    "#### 워드 클라우드"
   ]
  },
  {
   "cell_type": "code",
   "execution_count": null,
   "id": "9a2caf43-9c98-4684-9715-f67ee4143586",
   "metadata": {},
   "outputs": [],
   "source": []
  },
  {
   "cell_type": "markdown",
   "id": "5dd28f86-768f-4019-9dd0-d2a029bef5a7",
   "metadata": {},
   "source": [
    "- 원 문서를 기반으로 한 워드클라우드"
   ]
  },
  {
   "cell_type": "code",
   "execution_count": null,
   "id": "d9cc294b-04b4-44db-ad6d-de0f9eb1e2af",
   "metadata": {},
   "outputs": [],
   "source": []
  },
  {
   "cell_type": "markdown",
   "id": "7ef46473-50cb-4eb6-a2ff-e5903f9bba97",
   "metadata": {},
   "source": [
    "- 텍스트 전처리한 데이터 기반의 워드 클라우드"
   ]
  },
  {
   "cell_type": "code",
   "execution_count": null,
   "id": "2e023c5d-31c2-42a1-b7d7-77637820b884",
   "metadata": {},
   "outputs": [],
   "source": []
  },
  {
   "cell_type": "markdown",
   "id": "af57406b-d293-4187-bbfc-3077134aca54",
   "metadata": {},
   "source": [
    "----"
   ]
  }
 ],
 "metadata": {
  "kernelspec": {
   "display_name": "Python 3 (ipykernel)",
   "language": "python",
   "name": "python3"
  },
  "language_info": {
   "codemirror_mode": {
    "name": "ipython",
    "version": 3
   },
   "file_extension": ".py",
   "mimetype": "text/x-python",
   "name": "python",
   "nbconvert_exporter": "python",
   "pygments_lexer": "ipython3",
   "version": "3.11.7"
  }
 },
 "nbformat": 4,
 "nbformat_minor": 5
}
