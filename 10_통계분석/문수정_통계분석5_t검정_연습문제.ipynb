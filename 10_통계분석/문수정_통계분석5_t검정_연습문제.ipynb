{
 "cells": [
  {
   "cell_type": "code",
   "execution_count": 2,
   "metadata": {},
   "outputs": [
    {
     "data": {
      "text/plain": [
       "'%.3f'"
      ]
     },
     "execution_count": 2,
     "metadata": {},
     "output_type": "execute_result"
    }
   ],
   "source": [
    "import numpy as np\n",
    "import pandas as pd\n",
    "from scipy import stats\n",
    "import matplotlib.pyplot as plt\n",
    "import seaborn as sns\n",
    "import scipy.stats as stats\n",
    "\n",
    "%precision 3"
   ]
  },
  {
   "cell_type": "markdown",
   "metadata": {},
   "source": [
    "### 문제1. 초등학생 신체데이터\n",
    "\n",
    "2018년 초등학생 키와 몸무게 자료이다. 초등학교 6학년 남학생의 평균키는 152.5라고 한다. 2018년에 표본조사된 6학년 남학생의 키는 152.5보다 큰가? 유의수준 5%에서 가설검정을 수행하시오."
   ]
  },
  {
   "cell_type": "code",
   "execution_count": 3,
   "metadata": {},
   "outputs": [
    {
     "data": {
      "text/html": [
       "<div>\n",
       "<style scoped>\n",
       "    .dataframe tbody tr th:only-of-type {\n",
       "        vertical-align: middle;\n",
       "    }\n",
       "\n",
       "    .dataframe tbody tr th {\n",
       "        vertical-align: top;\n",
       "    }\n",
       "\n",
       "    .dataframe thead th {\n",
       "        text-align: right;\n",
       "    }\n",
       "</style>\n",
       "<table border=\"1\" class=\"dataframe\">\n",
       "  <thead>\n",
       "    <tr style=\"text-align: right;\">\n",
       "      <th></th>\n",
       "      <th>개인ID</th>\n",
       "      <th>도시규모</th>\n",
       "      <th>도시규모별 분석용</th>\n",
       "      <th>광역시도</th>\n",
       "      <th>학교급별</th>\n",
       "      <th>학년</th>\n",
       "      <th>성별</th>\n",
       "      <th>생년월일</th>\n",
       "      <th>건강검진일</th>\n",
       "      <th>키</th>\n",
       "      <th>몸무게</th>\n",
       "    </tr>\n",
       "  </thead>\n",
       "  <tbody>\n",
       "    <tr>\n",
       "      <th>0</th>\n",
       "      <td>212111q</td>\n",
       "      <td>특별/광역시</td>\n",
       "      <td>1</td>\n",
       "      <td>서울</td>\n",
       "      <td>초</td>\n",
       "      <td>1</td>\n",
       "      <td>남</td>\n",
       "      <td>20110302</td>\n",
       "      <td>20180511</td>\n",
       "      <td>124.1</td>\n",
       "      <td>25.3</td>\n",
       "    </tr>\n",
       "    <tr>\n",
       "      <th>1</th>\n",
       "      <td>212112w</td>\n",
       "      <td>특별/광역시</td>\n",
       "      <td>1</td>\n",
       "      <td>서울</td>\n",
       "      <td>초</td>\n",
       "      <td>1</td>\n",
       "      <td>남</td>\n",
       "      <td>20110111</td>\n",
       "      <td>20180511</td>\n",
       "      <td>131.1</td>\n",
       "      <td>30.8</td>\n",
       "    </tr>\n",
       "    <tr>\n",
       "      <th>2</th>\n",
       "      <td>212113e</td>\n",
       "      <td>특별/광역시</td>\n",
       "      <td>1</td>\n",
       "      <td>서울</td>\n",
       "      <td>초</td>\n",
       "      <td>1</td>\n",
       "      <td>남</td>\n",
       "      <td>20110719</td>\n",
       "      <td>20180511</td>\n",
       "      <td>121.1</td>\n",
       "      <td>27.4</td>\n",
       "    </tr>\n",
       "    <tr>\n",
       "      <th>3</th>\n",
       "      <td>212114r</td>\n",
       "      <td>특별/광역시</td>\n",
       "      <td>1</td>\n",
       "      <td>서울</td>\n",
       "      <td>초</td>\n",
       "      <td>1</td>\n",
       "      <td>남</td>\n",
       "      <td>20110330</td>\n",
       "      <td>20180511</td>\n",
       "      <td>122.1</td>\n",
       "      <td>23.1</td>\n",
       "    </tr>\n",
       "    <tr>\n",
       "      <th>4</th>\n",
       "      <td>212115t</td>\n",
       "      <td>특별/광역시</td>\n",
       "      <td>1</td>\n",
       "      <td>서울</td>\n",
       "      <td>초</td>\n",
       "      <td>1</td>\n",
       "      <td>남</td>\n",
       "      <td>20111008</td>\n",
       "      <td>20180511</td>\n",
       "      <td>120.0</td>\n",
       "      <td>20.9</td>\n",
       "    </tr>\n",
       "    <tr>\n",
       "      <th>...</th>\n",
       "      <td>...</td>\n",
       "      <td>...</td>\n",
       "      <td>...</td>\n",
       "      <td>...</td>\n",
       "      <td>...</td>\n",
       "      <td>...</td>\n",
       "      <td>...</td>\n",
       "      <td>...</td>\n",
       "      <td>...</td>\n",
       "      <td>...</td>\n",
       "      <td>...</td>\n",
       "    </tr>\n",
       "    <tr>\n",
       "      <th>17408</th>\n",
       "      <td>8987615g</td>\n",
       "      <td>면지역</td>\n",
       "      <td>2</td>\n",
       "      <td>제주</td>\n",
       "      <td>초</td>\n",
       "      <td>6</td>\n",
       "      <td>남</td>\n",
       "      <td>20060628</td>\n",
       "      <td>20180420</td>\n",
       "      <td>152.0</td>\n",
       "      <td>44.0</td>\n",
       "    </tr>\n",
       "    <tr>\n",
       "      <th>17409</th>\n",
       "      <td>8987616h</td>\n",
       "      <td>면지역</td>\n",
       "      <td>2</td>\n",
       "      <td>제주</td>\n",
       "      <td>초</td>\n",
       "      <td>6</td>\n",
       "      <td>남</td>\n",
       "      <td>20060216</td>\n",
       "      <td>20180420</td>\n",
       "      <td>156.0</td>\n",
       "      <td>42.8</td>\n",
       "    </tr>\n",
       "    <tr>\n",
       "      <th>17410</th>\n",
       "      <td>8987617j</td>\n",
       "      <td>면지역</td>\n",
       "      <td>2</td>\n",
       "      <td>제주</td>\n",
       "      <td>초</td>\n",
       "      <td>6</td>\n",
       "      <td>남</td>\n",
       "      <td>20060713</td>\n",
       "      <td>20180420</td>\n",
       "      <td>150.0</td>\n",
       "      <td>32.6</td>\n",
       "    </tr>\n",
       "    <tr>\n",
       "      <th>17411</th>\n",
       "      <td>8987618k</td>\n",
       "      <td>면지역</td>\n",
       "      <td>2</td>\n",
       "      <td>제주</td>\n",
       "      <td>초</td>\n",
       "      <td>6</td>\n",
       "      <td>남</td>\n",
       "      <td>20060311</td>\n",
       "      <td>20180420</td>\n",
       "      <td>151.0</td>\n",
       "      <td>56.5</td>\n",
       "    </tr>\n",
       "    <tr>\n",
       "      <th>17412</th>\n",
       "      <td>8987619l</td>\n",
       "      <td>면지역</td>\n",
       "      <td>2</td>\n",
       "      <td>제주</td>\n",
       "      <td>초</td>\n",
       "      <td>6</td>\n",
       "      <td>남</td>\n",
       "      <td>20060518</td>\n",
       "      <td>20180420</td>\n",
       "      <td>164.0</td>\n",
       "      <td>51.6</td>\n",
       "    </tr>\n",
       "  </tbody>\n",
       "</table>\n",
       "<p>17413 rows × 11 columns</p>\n",
       "</div>"
      ],
      "text/plain": [
       "           개인ID    도시규모  도시규모별 분석용 광역시도 학교급별  학년 성별      생년월일     건강검진일  \\\n",
       "0       212111q  특별/광역시          1   서울    초   1  남  20110302  20180511   \n",
       "1       212112w  특별/광역시          1   서울    초   1  남  20110111  20180511   \n",
       "2       212113e  특별/광역시          1   서울    초   1  남  20110719  20180511   \n",
       "3       212114r  특별/광역시          1   서울    초   1  남  20110330  20180511   \n",
       "4       212115t  특별/광역시          1   서울    초   1  남  20111008  20180511   \n",
       "...         ...     ...        ...  ...  ...  .. ..       ...       ...   \n",
       "17408  8987615g     면지역          2   제주    초   6  남  20060628  20180420   \n",
       "17409  8987616h     면지역          2   제주    초   6  남  20060216  20180420   \n",
       "17410  8987617j     면지역          2   제주    초   6  남  20060713  20180420   \n",
       "17411  8987618k     면지역          2   제주    초   6  남  20060311  20180420   \n",
       "17412  8987619l     면지역          2   제주    초   6  남  20060518  20180420   \n",
       "\n",
       "           키   몸무게  \n",
       "0      124.1  25.3  \n",
       "1      131.1  30.8  \n",
       "2      121.1  27.4  \n",
       "3      122.1  23.1  \n",
       "4      120.0  20.9  \n",
       "...      ...   ...  \n",
       "17408  152.0  44.0  \n",
       "17409  156.0  42.8  \n",
       "17410  150.0  32.6  \n",
       "17411  151.0  56.5  \n",
       "17412  164.0  51.6  \n",
       "\n",
       "[17413 rows x 11 columns]"
      ]
     },
     "execution_count": 3,
     "metadata": {},
     "output_type": "execute_result"
    }
   ],
   "source": [
    "df = pd.read_excel('data/학생건강검사_초등학생2018.xlsx')\n",
    "df"
   ]
  },
  {
   "cell_type": "code",
   "execution_count": 4,
   "metadata": {
    "scrolled": true
   },
   "outputs": [
    {
     "data": {
      "text/html": [
       "<div>\n",
       "<style scoped>\n",
       "    .dataframe tbody tr th:only-of-type {\n",
       "        vertical-align: middle;\n",
       "    }\n",
       "\n",
       "    .dataframe tbody tr th {\n",
       "        vertical-align: top;\n",
       "    }\n",
       "\n",
       "    .dataframe thead th {\n",
       "        text-align: right;\n",
       "    }\n",
       "</style>\n",
       "<table border=\"1\" class=\"dataframe\">\n",
       "  <thead>\n",
       "    <tr style=\"text-align: right;\">\n",
       "      <th></th>\n",
       "      <th>height</th>\n",
       "    </tr>\n",
       "  </thead>\n",
       "  <tbody>\n",
       "    <tr>\n",
       "      <th>45</th>\n",
       "      <td>154.3</td>\n",
       "    </tr>\n",
       "    <tr>\n",
       "      <th>46</th>\n",
       "      <td>140.2</td>\n",
       "    </tr>\n",
       "    <tr>\n",
       "      <th>47</th>\n",
       "      <td>156.3</td>\n",
       "    </tr>\n",
       "    <tr>\n",
       "      <th>48</th>\n",
       "      <td>150.0</td>\n",
       "    </tr>\n",
       "    <tr>\n",
       "      <th>49</th>\n",
       "      <td>144.1</td>\n",
       "    </tr>\n",
       "    <tr>\n",
       "      <th>...</th>\n",
       "      <td>...</td>\n",
       "    </tr>\n",
       "    <tr>\n",
       "      <th>17408</th>\n",
       "      <td>152.0</td>\n",
       "    </tr>\n",
       "    <tr>\n",
       "      <th>17409</th>\n",
       "      <td>156.0</td>\n",
       "    </tr>\n",
       "    <tr>\n",
       "      <th>17410</th>\n",
       "      <td>150.0</td>\n",
       "    </tr>\n",
       "    <tr>\n",
       "      <th>17411</th>\n",
       "      <td>151.0</td>\n",
       "    </tr>\n",
       "    <tr>\n",
       "      <th>17412</th>\n",
       "      <td>164.0</td>\n",
       "    </tr>\n",
       "  </tbody>\n",
       "</table>\n",
       "<p>1758 rows × 1 columns</p>\n",
       "</div>"
      ],
      "text/plain": [
       "       height\n",
       "45      154.3\n",
       "46      140.2\n",
       "47      156.3\n",
       "48      150.0\n",
       "49      144.1\n",
       "...       ...\n",
       "17408   152.0\n",
       "17409   156.0\n",
       "17410   150.0\n",
       "17411   151.0\n",
       "17412   164.0\n",
       "\n",
       "[1758 rows x 1 columns]"
      ]
     },
     "execution_count": 4,
     "metadata": {},
     "output_type": "execute_result"
    }
   ],
   "source": [
    "# 데이터 전처리 : 확인\n",
    "boy6 = pd.DataFrame({'height': df[(df['성별']=='남') & (df['학년']==6)]['키']})\n",
    "boy6"
   ]
  },
  {
   "cell_type": "code",
   "execution_count": 68,
   "metadata": {
    "scrolled": true
   },
   "outputs": [
    {
     "data": {
      "image/png": "[encoded data removed]",
      "text/plain": [
       "<Figure size 640x480 with 1 Axes>"
      ]
     },
     "metadata": {},
     "output_type": "display_data"
    }
   ],
   "source": [
    "# 시각화\n",
    "plt.boxplot(boy6)\n",
    "plt.xticks([1], ['boy6 height'])\n",
    "plt.show()"
   ]
  },
  {
   "cell_type": "code",
   "execution_count": 79,
   "metadata": {},
   "outputs": [
    {
     "data": {
      "text/plain": [
       "ShapiroResult(statistic=0.9973427057266235, pvalue=0.004541476257145405)"
      ]
     },
     "execution_count": 79,
     "metadata": {},
     "output_type": "execute_result"
    }
   ],
   "source": [
    "# 정규성 검정\n",
    "stats.shapiro(boy6.height)"
   ]
  },
  {
   "cell_type": "code",
   "execution_count": 83,
   "metadata": {},
   "outputs": [
    {
     "data": {
      "text/plain": [
       "ShapiroResult(statistic=0.997248113155365, pvalue=0.003507910529151559)"
      ]
     },
     "execution_count": 83,
     "metadata": {},
     "output_type": "execute_result"
    }
   ],
   "source": [
    "# 이상치 제거\n",
    "boys6 = boy6.height[boy6.height > boy6.height.min()]\n",
    "boys6 = boy6.height[boy6.height < boy6.height.max()]\n",
    "stats.shapiro(boys6)\n",
    "\n",
    "#pval이 0.05보다 크면 정규분포를 따르는 것 (따르지 X)"
   ]
  },
  {
   "cell_type": "code",
   "execution_count": 84,
   "metadata": {},
   "outputs": [
    {
     "name": "stdout",
     "output_type": "stream",
     "text": [
      "t검정통계량: -0.8239901093043531, p_value: 0.4100570142652121\n",
      "Accept H0\n"
     ]
    }
   ],
   "source": [
    "#귀무: 2018년 6학년 남학생 키는 152.5보다 크지 않다\n",
    "#대립: 2018년 6학년 남학생 키는 152.5보다 크다\n",
    "\n",
    "# ttest 수행\n",
    "s_mean = 152.5\n",
    "\n",
    "t_sat, p_val = stats.ttest_1samp(boy6.height, s_mean)\n",
    "print(f't검정통계량: {t_sat}, p_value: {p_val}')\n",
    "\n",
    "alpha = 0.05\n",
    "print('Reject H0' if p_val < alpha else 'Accept H0')"
   ]
  },
  {
   "cell_type": "markdown",
   "metadata": {},
   "source": [
    "결론\n",
    "- 귀무가설 채택 / 통계적으로 유의미 X / 152.5보다 크지 않다."
   ]
  },
  {
   "cell_type": "markdown",
   "metadata": {},
   "source": [
    "### 문제2.\n",
    "\n",
    "초등학교 1학년 남자와 여자의 혈압에 차이가 있는지 유의수준 5%에서 가설검정을 수행하시오.(모분산을 모름)"
   ]
  },
  {
   "cell_type": "code",
   "execution_count": null,
   "metadata": {},
   "outputs": [],
   "source": [
    "male = [114, 96, 80, 102, 94, 94, 98, 92, 94, 100, 108, 110, 90, 90, 82, 106]\n",
    "female = [108, 98, 88, 86, 100, 98, 104, 102, 94]"
   ]
  },
  {
   "cell_type": "code",
   "execution_count": 98,
   "metadata": {},
   "outputs": [
    {
     "data": {
      "text/html": [
       "<div>\n",
       "<style scoped>\n",
       "    .dataframe tbody tr th:only-of-type {\n",
       "        vertical-align: middle;\n",
       "    }\n",
       "\n",
       "    .dataframe tbody tr th {\n",
       "        vertical-align: top;\n",
       "    }\n",
       "\n",
       "    .dataframe thead th {\n",
       "        text-align: right;\n",
       "    }\n",
       "</style>\n",
       "<table border=\"1\" class=\"dataframe\">\n",
       "  <thead>\n",
       "    <tr style=\"text-align: right;\">\n",
       "      <th></th>\n",
       "      <th>male</th>\n",
       "      <th>female</th>\n",
       "    </tr>\n",
       "  </thead>\n",
       "  <tbody>\n",
       "    <tr>\n",
       "      <th>0</th>\n",
       "      <td>114</td>\n",
       "      <td>108.0</td>\n",
       "    </tr>\n",
       "    <tr>\n",
       "      <th>1</th>\n",
       "      <td>96</td>\n",
       "      <td>98.0</td>\n",
       "    </tr>\n",
       "    <tr>\n",
       "      <th>2</th>\n",
       "      <td>80</td>\n",
       "      <td>88.0</td>\n",
       "    </tr>\n",
       "    <tr>\n",
       "      <th>3</th>\n",
       "      <td>102</td>\n",
       "      <td>86.0</td>\n",
       "    </tr>\n",
       "    <tr>\n",
       "      <th>4</th>\n",
       "      <td>94</td>\n",
       "      <td>100.0</td>\n",
       "    </tr>\n",
       "    <tr>\n",
       "      <th>5</th>\n",
       "      <td>94</td>\n",
       "      <td>98.0</td>\n",
       "    </tr>\n",
       "    <tr>\n",
       "      <th>6</th>\n",
       "      <td>98</td>\n",
       "      <td>104.0</td>\n",
       "    </tr>\n",
       "    <tr>\n",
       "      <th>7</th>\n",
       "      <td>92</td>\n",
       "      <td>102.0</td>\n",
       "    </tr>\n",
       "    <tr>\n",
       "      <th>8</th>\n",
       "      <td>94</td>\n",
       "      <td>94.0</td>\n",
       "    </tr>\n",
       "    <tr>\n",
       "      <th>9</th>\n",
       "      <td>100</td>\n",
       "      <td>NaN</td>\n",
       "    </tr>\n",
       "    <tr>\n",
       "      <th>10</th>\n",
       "      <td>108</td>\n",
       "      <td>NaN</td>\n",
       "    </tr>\n",
       "    <tr>\n",
       "      <th>11</th>\n",
       "      <td>110</td>\n",
       "      <td>NaN</td>\n",
       "    </tr>\n",
       "    <tr>\n",
       "      <th>12</th>\n",
       "      <td>90</td>\n",
       "      <td>NaN</td>\n",
       "    </tr>\n",
       "    <tr>\n",
       "      <th>13</th>\n",
       "      <td>90</td>\n",
       "      <td>NaN</td>\n",
       "    </tr>\n",
       "    <tr>\n",
       "      <th>14</th>\n",
       "      <td>82</td>\n",
       "      <td>NaN</td>\n",
       "    </tr>\n",
       "    <tr>\n",
       "      <th>15</th>\n",
       "      <td>106</td>\n",
       "      <td>NaN</td>\n",
       "    </tr>\n",
       "  </tbody>\n",
       "</table>\n",
       "</div>"
      ],
      "text/plain": [
       "    male  female\n",
       "0    114   108.0\n",
       "1     96    98.0\n",
       "2     80    88.0\n",
       "3    102    86.0\n",
       "4     94   100.0\n",
       "5     94    98.0\n",
       "6     98   104.0\n",
       "7     92   102.0\n",
       "8     94    94.0\n",
       "9    100     NaN\n",
       "10   108     NaN\n",
       "11   110     NaN\n",
       "12    90     NaN\n",
       "13    90     NaN\n",
       "14    82     NaN\n",
       "15   106     NaN"
      ]
     },
     "execution_count": 98,
     "metadata": {},
     "output_type": "execute_result"
    }
   ],
   "source": [
    "# 1. EDA\n",
    "len(male) - len(female)\n",
    "df = pd.DataFrame({'male': male, 'female': female + [np.nan] * (len(male) - len(female))})\n",
    "df"
   ]
  },
  {
   "cell_type": "code",
   "execution_count": 99,
   "metadata": {},
   "outputs": [
    {
     "data": {
      "image/png": "[encoded data removed]",
      "text/plain": [
       "<Figure size 640x480 with 1 Axes>"
      ]
     },
     "metadata": {},
     "output_type": "display_data"
    }
   ],
   "source": [
    "sns.boxplot(df)\n",
    "plt.show()"
   ]
  },
  {
   "cell_type": "code",
   "execution_count": 54,
   "metadata": {},
   "outputs": [
    {
     "name": "stdout",
     "output_type": "stream",
     "text": [
      "ShapiroResult(statistic=0.9729186296463013, pvalue=0.8833795189857483)\n",
      "ShapiroResult(statistic=0.9574438333511353, pvalue=0.7712234258651733)\n"
     ]
    }
   ],
   "source": [
    "# 2. 정규성 검정\n",
    "print(stats.shapiro(male))\n",
    "print(stats.shapiro(female))"
   ]
  },
  {
   "cell_type": "markdown",
   "metadata": {},
   "source": [
    "=> 두 그룹의 데이터는 모두 정규성을 만족함"
   ]
  },
  {
   "cell_type": "code",
   "execution_count": 100,
   "metadata": {},
   "outputs": [
    {
     "data": {
      "text/plain": [
       "LeveneResult(statistic=0.782472546935884, pvalue=0.38554013266768483)"
      ]
     },
     "execution_count": 100,
     "metadata": {},
     "output_type": "execute_result"
    }
   ],
   "source": [
    "# 3. 등분산성 검정\n",
    "stats.levene(male, female)"
   ]
  },
  {
   "cell_type": "markdown",
   "metadata": {},
   "source": [
    "=> 등분산임"
   ]
  },
  {
   "cell_type": "code",
   "execution_count": 56,
   "metadata": {},
   "outputs": [
    {
     "data": {
      "text/plain": [
       "(96.875, 9.521)"
      ]
     },
     "execution_count": 56,
     "metadata": {},
     "output_type": "execute_result"
    }
   ],
   "source": [
    "np.mean(male), np.std(male, ddof=1)"
   ]
  },
  {
   "cell_type": "code",
   "execution_count": 57,
   "metadata": {},
   "outputs": [
    {
     "data": {
      "text/plain": [
       "(97.556, 7.196)"
      ]
     },
     "execution_count": 57,
     "metadata": {},
     "output_type": "execute_result"
    }
   ],
   "source": [
    "np.mean(female), np.std(female, ddof=1)"
   ]
  },
  {
   "cell_type": "code",
   "execution_count": 101,
   "metadata": {},
   "outputs": [
    {
     "data": {
      "text/plain": [
       "TtestResult(statistic=-0.18597961132240054, pvalue=0.8540912649163084, df=23.0)"
      ]
     },
     "execution_count": 101,
     "metadata": {},
     "output_type": "execute_result"
    }
   ],
   "source": [
    "# 4. 독립표본 ttest 수행\n",
    "stats.ttest_ind(male, female, equal_var=True, alternative='two-sided')"
   ]
  },
  {
   "cell_type": "markdown",
   "metadata": {},
   "source": [
    "결론:\n",
    "\n",
    "- 두 그룹의 순위는 같다.\n",
    "- pvalue가 0.05보다 크므로 귀무가설을 채택"
   ]
  },
  {
   "cell_type": "code",
   "execution_count": 85,
   "metadata": {},
   "outputs": [],
   "source": [
    "# # 표본평균 및 표본표준편차 계산\n",
    "# mean = np.mean(boy6)\n",
    "# std = np.std(boy6, ddof=1)\n",
    "\n",
    "# # 정규분포 곡선 그리기 위한 x 값 생성\n",
    "# x = np.linspace(mean - 4*std, mean + 4*std, 1000)\n",
    "# y = stats.norm.pdf(x, mean, std)\n",
    "\n",
    "# # 히스토그램과 정규분포 곡선 그리기\n",
    "# plt.hist(boy6, bins=30, density=True, alpha=0.6, color='b', edgecolor='black')\n",
    "# plt.plot(x, y, 'r-', linewidth=2)\n",
    "# plt.xlabel(\"height\")\n",
    "# plt.ylabel(\"density\")\n",
    "# plt.show()"
   ]
  }
 ],
 "metadata": {
  "kernelspec": {
   "display_name": "Python 3 (ipykernel)",
   "language": "python",
   "name": "python3"
  },
  "language_info": {
   "codemirror_mode": {
    "name": "ipython",
    "version": 3
   },
   "file_extension": ".py",
   "mimetype": "text/x-python",
   "name": "python",
   "nbconvert_exporter": "python",
   "pygments_lexer": "ipython3",
   "version": "3.11.8"
  }
 },
 "nbformat": 4,
 "nbformat_minor": 2
}
