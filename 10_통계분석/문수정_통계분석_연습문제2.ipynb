{
 "cells": [
  {
   "cell_type": "markdown",
   "id": "832e63c2",
   "metadata": {},
   "source": [
    "### 통계분석 연습문제2. 확률분포와 표본분포"
   ]
  },
  {
   "cell_type": "markdown",
   "id": "c84508bd",
   "metadata": {},
   "source": [
    "1-1. 모집단의 평균과 표준편차를 **모수(parameter)** 라 하고, 표본으로부터 얻은 평균과 표\n",
    "준편차를 **표본 평균, 표본 분산** 이라 한다.\n",
    "\n",
    "\n",
    "1-2. 통계적 추론은 두 분야로 구분하는데, **추정**과 **가설검정**이 있다.\n",
    "\n",
    "\n",
    "1-3. 중심극한정리는 모집단 분포가 어떤 분포이든지 표본의 크기가 충분히 크다면 표본\n",
    "평균은 **정규 분포**를 따른다는 것이다."
   ]
  },
  {
   "cell_type": "markdown",
   "id": "37bd5f66",
   "metadata": {},
   "source": [
    "다음의 조사에 대해 전수조사인지 표본조사인지를 구별하시오. \n",
    "\n",
    "1 어느 고등학교의 신체검사 - 전수조사\n",
    "\n",
    "2 대통령 선거에 대한 여론조사 - 표본조사\n",
    "\n",
    "3 청년실업률 조사 - 표본조사\n",
    "\n",
    "4 수능성적결과 - 전수조사\n",
    "\n",
    "5 인구조사 - 전수조사\n",
    "\n",
    "6 스마트폰 액정 강도조사 - 표본조사"
   ]
  },
  {
   "cell_type": "markdown",
   "id": "f8e8fc0e",
   "metadata": {},
   "source": [
    "3. 동일한 모집단에 대해 표본의 크기를 증가시킬 때 표준오차는 어떻게 되는가? - 3 작아진다"
   ]
  },
  {
   "cell_type": "markdown",
   "id": "32705134",
   "metadata": {},
   "source": [
    "4. 프로그래밍 과목의 평균 점수는 75점이고, 표준편차가 10인 정규분포를 따른다고 한 다. 점수가 상위 5%안에 들어야 A학점을 준다고 하는데 A학점을 받으려면 몇점 이 상을 받아야 하는가?"
   ]
  },
  {
   "cell_type": "code",
   "execution_count": 7,
   "id": "36766c1f",
   "metadata": {},
   "outputs": [
    {
     "name": "stdout",
     "output_type": "stream",
     "text": [
      "상위 5%에 해당하는 Z점수는 1.6448536269514722\n",
      "A학점을 받으려면 최소 91.44853626951472점 이상을 받아야 함\n"
     ]
    }
   ],
   "source": [
    "from scipy.stats import norm\n",
    "\n",
    "#평균과 표준편차\n",
    "mu = 75\n",
    "std = 10\n",
    "\n",
    "#상위 5%에 해당하는 Z 점수 계산 - 표준 정규분포포로 Z점수 찾기\n",
    "z_score = norm.ppf(0.95)\n",
    "print(f'상위 5%에 해당하는 Z점수는 {z_score}') \n",
    "\n",
    "# X=μ+(Z×σ) / X는 원래 점수 평균 + (Z점수 * 표준편차)\n",
    "x = mu + z_score * std\n",
    "print(f'A학점을 받으려면 최소 {x}점 이상을 받아야 함')\n",
    "\n",
    "rv = stats.norm(loc=75, scale=10)\n",
    "rv.ppf(0.95)"
   ]
  },
  {
   "cell_type": "markdown",
   "id": "bef00bbc",
   "metadata": {},
   "source": [
    "5. t분포에 대해서 P(-1≤X≤1)의 확률을 계산하되, \n",
    "\n",
    "자유도가 10, 30, 50, 100인 경우의 확률을 각각 계산하고,\n",
    "\n",
    "표준정규분포에 대해 P(-1≤Z≤1)의 확률과 비교하시오.\n"
   ]
  },
  {
   "cell_type": "code",
   "execution_count": 2,
   "id": "f1abe66d",
   "metadata": {},
   "outputs": [
    {
     "name": "stdout",
     "output_type": "stream",
     "text": [
      "자유도 10의 t-분포에서의 확률 : 0.8296\n",
      "자유도 30의 t-분포에서의 확률 : 0.8373\n",
      "자유도 50의 t-분포에서의 확률 : 0.8389\n",
      "자유도 100의 t-분포에서의 확률 : 0.8401\n",
      "표준정규분포에서의 확률 : 0.6827\n"
     ]
    }
   ],
   "source": [
    "# cdf: 누적 분포 함수(Cumulative Distribution Function)\n",
    "# 확률 변수가 특정 값보다 작거나 같을 확률을 계산하는 함수. \n",
    "# 누적 분포 함수는 주어진 값까지의 확률을 모두 합산하여 누적하는 방식으로 작동.\n",
    "\n",
    "from scipy.stats import t, norm\n",
    "\n",
    "#degrees of freedom\n",
    "dfs = [10, 30, 50, 100]\n",
    "\n",
    "#t분포에서 P(-1 ≤ X ≤ 1)의 확률 계산\n",
    "t_probs = []\n",
    "for df in dfs:\n",
    "    t_prob = t.cdf(1, df)\n",
    "    t_probs.append(t_prob)\n",
    "    \n",
    "# 표준정규분포에서 P(-1 ≤ Z ≤ 1)의 확률 계산\n",
    "z_prob = norm.cdf(1) - norm.cdf(-1)\n",
    "\n",
    "for i, df in enumerate(dfs):\n",
    "    print(f'자유도 {df}의 t-분포에서의 확률 : {t_probs[i]:.4f}')\n",
    "\n",
    "print(f'표준정규분포에서의 확률 : {z_prob:.4f}')"
   ]
  },
  {
   "cell_type": "code",
   "execution_count": 5,
   "id": "39bc897c",
   "metadata": {},
   "outputs": [],
   "source": [
    "#다른 방법\n",
    "# t_prob = {}\n",
    "# for df in [10,30,50,100]:\n",
    "#     rv = stats.norm(loc=0, scale=1)\n",
    "#     t_prob[df] = rv.cdf(1) - rv.cdf(-1)\n",
    "# t_prob"
   ]
  },
  {
   "cell_type": "markdown",
   "id": "b6e39460",
   "metadata": {},
   "source": [
    "6. 평균이 70이고 표준편차가 15인 정규분포를 따르는 난수 1,000개를 발생하여 \n",
    "\n",
    "이들의 확률분포를 히스토그램으로 나타내는 프로그램을 작성하시오."
   ]
  },
  {
   "cell_type": "code",
   "execution_count": 23,
   "id": "752c145b",
   "metadata": {},
   "outputs": [
    {
     "data": {
      "text/plain": [
       "Text(0, 0.5, 'Density')"
      ]
     },
     "execution_count": 23,
     "metadata": {},
     "output_type": "execute_result"
    },
    {
     "data": {
      "image/png": "[encoded data removed]",
      "text/plain": [
       "<Figure size 640x480 with 1 Axes>"
      ]
     },
     "metadata": {},
     "output_type": "display_data"
    }
   ],
   "source": [
    "import numpy as np\n",
    "import matplotlib.pyplot as plt\n",
    "\n",
    "mean = 70\n",
    "std = 15\n",
    "num = 1000\n",
    "random_num = np.random.normal(mean, std, num)\n",
    "\n",
    "plt.hist(random_num, bins=30, density=True, color='skyblue', edgecolor='black')\n",
    "\n",
    "plt.xlabel('Value')\n",
    "plt.ylabel('Density')"
   ]
  },
  {
   "cell_type": "code",
   "execution_count": 22,
   "id": "f6f96ba8",
   "metadata": {},
   "outputs": [],
   "source": [
    "# 정규분포의 확률밀도함수 그리기\n",
    "# xmin, xmax = plt.xlim()\n",
    "# x = np.linspace(xmin, xmax, 100)\n",
    "# p = (1 / (std * np.sqrt(2 * np.pi))) * np.exp(-(x - mean)**2 / (2 * std**2))\n",
    "# plt.plot(x, p, 'k', linewidth=2)"
   ]
  }
 ],
 "metadata": {
  "kernelspec": {
   "display_name": "Python 3 (ipykernel)",
   "language": "python",
   "name": "python3"
  },
  "language_info": {
   "codemirror_mode": {
    "name": "ipython",
    "version": 3
   },
   "file_extension": ".py",
   "mimetype": "text/x-python",
   "name": "python",
   "nbconvert_exporter": "python",
   "pygments_lexer": "ipython3",
   "version": "3.11.8"
  }
 },
 "nbformat": 4,
 "nbformat_minor": 5
}
