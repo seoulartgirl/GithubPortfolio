{
 "cells": [
  {
   "cell_type": "markdown",
   "id": "be3f23d9",
   "metadata": {},
   "source": [
    "1-1. ('구간추정')은 점추정과는 달리 모수가 포함될 것이라고 기대하는 \n",
    "범위를 설정하여 모수를 추정하는 방법이다.\n",
    "\n",
    "\n",
    "1-2.  모집단의 표준편차 a를 모르는 경우, 표준화 Z에 대해 a를 사용할 수 없으므로 a대신 \n",
    "표본 표준편차인 S를 이용하고, 정규분포 대신 ('t-분포')를 이용하여 신뢰구간을 계산한다.\n",
    "\n",
    "\n",
    "1-3. 표본의 크기를 늘리면 추정된 신뢰구간의 폭은 (감소) 된다.\n",
    "\n",
    "\n",
    "1-4. 신뢰수준을 높이면 추정된 신뢰구간의 폭은 (증가) 된다."
   ]
  },
  {
   "cell_type": "markdown",
   "id": "9d5eab54",
   "metadata": {},
   "source": [
    "2. 다음 주장이 타당한지에 대해 통계 조사를 한다고 할 때 \n",
    "H0가설(귀무가설)과 H1가설(대립가설)을 세우시오.\n",
    "\n",
    "1) 경찰청은 코로나 거리두기 규제로 음주운전 적발사례가 과거보다 줄어들었다고 발표 하였다.\n",
    "- H0(귀무가설): 코로나 거리두기 규제로 음주운전 적발사례가 과거와 같다.\n",
    "- H1(대립가설): 코로나 거리두기 규제로 음주운전 적발사례가 과거보다 줄었다.\n",
    "\n",
    "\n",
    "2) 국민건강보험공단은 개개인이 개인방역수칙을 준수하여 국민총의료비가 코로나 이전보다 줄어들 것으로 예상하였다.\n",
    "- H0(귀무가설): 국민총의료비가 코로나 이전과 같다.\n",
    "- H1(대립가설): 국민총의료비가 코로나 이전 보다 줄었다.\n",
    "\n",
    "3) 타이어를 생산하는 A기업은 최근에 개발한 타이어의 평균 수명이 이전 제품보다 늘어났다고 선전하고 있다.\n",
    "- H0(귀무가설): 최근 개발한 타이어의 평균 수명이 이전 제품과 같다.\n",
    "- H1(대립가설): 최근 개발한 타이어의 평균 수명이 이전 제품보다 늘었다.\n",
    "\n",
    "4) 과학기술정보통신부는 코로나로 인한 원격학습과 재택근무의 영향으로 인터넷 사용 시간이 코로나 이전보다 늘어났다고 발표하였다.\n",
    "- H0(귀무가설): 코로나로 이전과 이후의 인터넷 사용 시간은 같다.\n",
    "- H1(대립가설): 코로나로 인한 원격학습과 재택근무의 영향으로 인터넷 사용 시간이 코로나 이전보다 늘어났다.\n",
    "\n",
    "5) 운동기구를 판매하는 C업체는 최근 실시한 TV광고의 효과로 매출액에 차이가 있을 것으로 생각하고 있다.\n",
    "- H0(귀무가설): 최근 실시한 TV광고의 효과로 매출액에 차이가 없다.\n",
    "- H1(대립가설): 최근 실시한 TV광고의 효과로 매출액에 차이가 있다.\n",
    "\n",
    "6) 보건복지부는 코로나 유행의 결과로 흡연율에 변화가 있을 것으로 생각하고 있다.\n",
    "- H0(귀무가설): 코로나 유행의 결과로 흡연율에 변화가 없다.\n",
    "- H1(대립가설): 코로나 유행의 결과로 흡연율에 변화가 있다. "
   ]
  },
  {
   "cell_type": "markdown",
   "id": "5aa1b6c0",
   "metadata": {},
   "source": [
    "3. 다음의 설명이 맞으면 O, 틀리면 X표시하시오.\n",
    "\n",
    "1) 고전적 가설검정은 검정이 이루어지기 전에 오로지 유의수준에 의해서 H0 가설을 기각할 것인가 채택할 것인가의 기준이 정해지므로 유의수준의 크기를 어떻게 정하느냐에 따라 검정결과가 달라진다.( O )\n",
    "\n",
    "2) 검정과정에서 계산된 p값이 알파(유의수준)의 크기보다 크다면 귀무가설을 기각한다. ( X )\n",
    "-> 검정과정에서 계산된 p값이 알파(유의수준)의 크기보다 작을 때, 귀무가설을 기각하고 대립가설을 채택함.\n",
    "\n",
    "3) p값은 단측검정이던 양측검정이던 모두 동일하게 계산된다. ( O )"
   ]
  },
  {
   "cell_type": "markdown",
   "id": "a9b2bd73",
   "metadata": {},
   "source": [
    "3. 사당에서 출발하는 통학버스의 학교도착 소요시간을 25번 조사한 결과 평균이 35분, \n",
    "\n",
    "표준편차는 5분으로 조사되었다. 소요시간 평균에 대한 95% 신뢰구간을 계산하시오."
   ]
  },
  {
   "cell_type": "code",
   "execution_count": 1,
   "id": "8da01efc",
   "metadata": {},
   "outputs": [
    {
     "data": {
      "text/plain": [
       "'%.4f'"
      ]
     },
     "execution_count": 1,
     "metadata": {},
     "output_type": "execute_result"
    }
   ],
   "source": [
    "import scipy.stats as stats\n",
    "import pandas as pd\n",
    "import numpy as np\n",
    "from scipy import stats\n",
    "import matplotlib.pyplot as plt\n",
    "\n",
    "%precision 4"
   ]
  },
  {
   "cell_type": "code",
   "execution_count": 6,
   "id": "adf17755",
   "metadata": {},
   "outputs": [
    {
     "name": "stdout",
     "output_type": "stream",
     "text": [
      "오차범위: 1.960\n",
      "신뢰구간: 33.040, 36.960\n"
     ]
    }
   ],
   "source": [
    "#표본평균, 표준편차, 표본크기\n",
    "mean, std, size  = 35, 5, 25\n",
    "\n",
    "#신뢰수준에 해당하는 z 값 계산 (95% 신뢰수준)\n",
    "#표준정규분포의 퍼센트 포인트 함수 (ppf) 사용\n",
    "z_value = stats.norm.ppf(0.975) #양측검정이므로 0.025\n",
    "\n",
    "#신뢰구간(confidence interval) 계산\n",
    "margin_of_error = z_value * (std / (size ** 0.5))\n",
    "print(f'오차범위: {margin_of_error:.3f}')\n",
    "print(f'신뢰구간: {mean - margin_of_error:.3f}, {mean + margin_of_error:.3f}')"
   ]
  },
  {
   "cell_type": "code",
   "execution_count": 7,
   "id": "ef4e5a59",
   "metadata": {},
   "outputs": [
    {
     "name": "stdout",
     "output_type": "stream",
     "text": [
      "오차범위: 1.960\n",
      "신뢰구간: 33.040, 36.960\n"
     ]
    }
   ],
   "source": [
    "mean, std, size  = 35, 5, 25\n",
    "z_value = stats.norm.ppf(0.975) #양측검정이므로 0.025\n",
    "margin_of_error = z_value * (std / (size ** 0.5))\n",
    "print(f'오차범위: {margin_of_error:.3f}')\n",
    "print(f'신뢰구간: {mean - margin_of_error:.3f}, {mean + margin_of_error:.3f}')"
   ]
  },
  {
   "cell_type": "code",
   "execution_count": 33,
   "id": "e42088c1",
   "metadata": {},
   "outputs": [
    {
     "name": "stdout",
     "output_type": "stream",
     "text": [
      "오차범위: 2.0639\n",
      "신뢰구간: 32.9361, 37.0639\n"
     ]
    }
   ],
   "source": [
    "mean, std, size, alpha = 35, 5, 25, 0.05\n",
    "\n",
    "t_value = stats.t.ppf(1 - alpha/2, df=size-1)\n",
    "margin_of_error = t_value * (std / np.sqrt(size))\n",
    "\n",
    "lower = mean - margin_of_error\n",
    "upper = mean + margin_of_error\n",
    "\n",
    "print(f'오차범위: {margin_of_error:.4f}')\n",
    "print(f'신뢰구간: {lower:.4f}, {upper:.4f}')"
   ]
  },
  {
   "cell_type": "code",
   "execution_count": 31,
   "id": "6920ec74",
   "metadata": {},
   "outputs": [
    {
     "data": {
      "text/plain": [
       "(2.0639, 32.9361, 37.0639)"
      ]
     },
     "execution_count": 31,
     "metadata": {},
     "output_type": "execute_result"
    }
   ],
   "source": [
    "s_mean, s_std, n, alpha = 35, 5, 25, 0.05\n",
    "eb = stats.t(n-1).isf(alpha/2) * (s_std / np.sqrt(n))\n",
    "lower = s_mean - eb\n",
    "upper = s_mean + eb\n",
    "eb, lower, upper"
   ]
  },
  {
   "cell_type": "markdown",
   "id": "893af4c1",
   "metadata": {},
   "source": [
    "4. 신입생 중 임의로 20명을 선택하여 신장을 조사한 결과 평균은 170cm, \n",
    "\n",
    "표준편차는 15cm로 조사되었다. 신입생의 신장에 대한 95%와 99% 신뢰구간을 계산하시오."
   ]
  },
  {
   "cell_type": "code",
   "execution_count": 34,
   "id": "6d084a39",
   "metadata": {},
   "outputs": [
    {
     "name": "stdout",
     "output_type": "stream",
     "text": [
      "95% 신뢰 수준에 대한 오차범위: 6.57\n",
      "99% 신뢰 수준에 대한 오차범위: 8.64\n",
      "95% 신뢰 수준에 대한 신뢰구간: 163.43, 176.57\n",
      "99% 신뢰 수준에 대한 신뢰구간: 161.36, 178.64\n"
     ]
    }
   ],
   "source": [
    "mean, std, size = 170, 15, 20\n",
    "\n",
    "# 95% 신뢰 수준에 대한 z값\n",
    "z_value_95 = stats.norm.ppf(0.975)\n",
    "# 99% 신뢰 수준에 대한 z값\n",
    "z_value_99 = stats.norm.ppf(0.995)\n",
    "\n",
    "#신뢰구간 계산\n",
    "margin_of_error_95 = z_value_95 * (std / (size**0.5))\n",
    "margin_of_error_99 = z_value_99 * (std / size**0.5)\n",
    "\n",
    "print(f'95% 신뢰 수준에 대한 오차범위: {margin_of_error_95:.2f}')\n",
    "print(f'99% 신뢰 수준에 대한 오차범위: {margin_of_error_99:.2f}')\n",
    "print(f'95% 신뢰 수준에 대한 신뢰구간: {mean - margin_of_error_95:.2f}, {mean + margin_of_error_95:.2f}')\n",
    "print(f'99% 신뢰 수준에 대한 신뢰구간: {mean - margin_of_error_99:.2f}, {mean + margin_of_error_99:.2f}')"
   ]
  },
  {
   "cell_type": "code",
   "execution_count": 12,
   "id": "23e70e0d",
   "metadata": {},
   "outputs": [
    {
     "data": {
      "text/plain": [
       "(167.9361, 172.0639)"
      ]
     },
     "execution_count": 12,
     "metadata": {},
     "output_type": "execute_result"
    }
   ],
   "source": [
    "mean = 170\n",
    "std = 15\n",
    "size = 20\n",
    "alpha = 0.05\n",
    "eb = stats.t(n-1).isf(alpha/2) * s_std / np.sqrt(n)\n",
    "lower = mean - eb\n",
    "upper = mean + eb\n",
    "lower, upper"
   ]
  },
  {
   "cell_type": "markdown",
   "id": "17e29dea",
   "metadata": {},
   "source": [
    "5. 직장인 전문 여론조사기관인 A리서치는 직장인들의 평균 점심비용(음료 제외)은 6,300원으로 \n",
    "\n",
    "조사되었고 발표하였다. 이에 구내식당이 없는 S기업 직원 중 100명을 대상으로 일주일간\n",
    "\n",
    "점심비용의 평균을 조사한 결과((S기업 점심비용.xlsx)를 이용하여 A리서치가 발표한 내용에\n",
    "\n",
    "대해 S기업의 조사결과와 차이가 있는지에 대해 유의수준 5%하에서 가설을 세우고 검정하시오.\n"
   ]
  },
  {
   "cell_type": "code",
   "execution_count": 23,
   "id": "57de5715",
   "metadata": {},
   "outputs": [
    {
     "name": "stdout",
     "output_type": "stream",
     "text": [
      "t-검정 통계량: 57.52077166994374, P값: 6.867333427692821e-78\n",
      "A리서치는 S기업의 평균 점심비용 조사결과와 다르다.\n"
     ]
    }
   ],
   "source": [
    "#H0(귀무가설): A리서치가 발표한 내용은 S기업의 평균 점심비용 조사결과와 같다.\n",
    "#H1(대립가설): A리서치가 발표한 내용은 S기업의 평균 점심비용 조사결과와 다르다.\n",
    "#유의수준(알파) : 0.05 (5%)\n",
    "df = pd.read_excel('data/S기업 점심비용.xlsx')\n",
    "\n",
    "a_mean = 6300\n",
    "s_mean = df.lunch.mean()\n",
    "\n",
    "#t검정(stats.ttest_1samp)\n",
    "t_stats, p_value = stats.ttest_1samp(df.lunch, len(df))\n",
    "\n",
    "print(f't-검정 통계량: {t_stats}, P값: {p_value}')\n",
    "#t-검정통계량 양수/음수: 표본평균이 가정된 모집단 평균보다 큰 것/ 음수면 작은 것\n",
    "#t-검정통계량 절대값: 절대값이 클 수록 표본 평균과 모집단 평균 간의 차이가 통계적으로 유의미\n",
    "\n",
    "alpha = 0.05 #유의수준 5% 검정 결과\n",
    "if p_value < alpha:\n",
    "    print('A리서치는 S기업의 평균 점심비용 조사결과와 다르다.') # O : 귀무가설 기각\n",
    "else:\n",
    "    print('A리서치는 S기업의 평균 점심비용 조사결과와 같다.') # X : 귀무가설 채택"
   ]
  },
  {
   "cell_type": "code",
   "execution_count": 38,
   "id": "5581c3d9",
   "metadata": {},
   "outputs": [
    {
     "data": {
      "text/html": [
       "<div>\n",
       "<style scoped>\n",
       "    .dataframe tbody tr th:only-of-type {\n",
       "        vertical-align: middle;\n",
       "    }\n",
       "\n",
       "    .dataframe tbody tr th {\n",
       "        vertical-align: top;\n",
       "    }\n",
       "\n",
       "    .dataframe thead th {\n",
       "        text-align: right;\n",
       "    }\n",
       "</style>\n",
       "<table border=\"1\" class=\"dataframe\">\n",
       "  <thead>\n",
       "    <tr style=\"text-align: right;\">\n",
       "      <th></th>\n",
       "      <th>lunch</th>\n",
       "    </tr>\n",
       "  </thead>\n",
       "  <tbody>\n",
       "    <tr>\n",
       "      <th>0</th>\n",
       "      <td>6900</td>\n",
       "    </tr>\n",
       "    <tr>\n",
       "      <th>1</th>\n",
       "      <td>6400</td>\n",
       "    </tr>\n",
       "    <tr>\n",
       "      <th>2</th>\n",
       "      <td>6100</td>\n",
       "    </tr>\n",
       "    <tr>\n",
       "      <th>3</th>\n",
       "      <td>5600</td>\n",
       "    </tr>\n",
       "    <tr>\n",
       "      <th>4</th>\n",
       "      <td>7600</td>\n",
       "    </tr>\n",
       "    <tr>\n",
       "      <th>...</th>\n",
       "      <td>...</td>\n",
       "    </tr>\n",
       "    <tr>\n",
       "      <th>95</th>\n",
       "      <td>5300</td>\n",
       "    </tr>\n",
       "    <tr>\n",
       "      <th>96</th>\n",
       "      <td>6600</td>\n",
       "    </tr>\n",
       "    <tr>\n",
       "      <th>97</th>\n",
       "      <td>6100</td>\n",
       "    </tr>\n",
       "    <tr>\n",
       "      <th>98</th>\n",
       "      <td>5600</td>\n",
       "    </tr>\n",
       "    <tr>\n",
       "      <th>99</th>\n",
       "      <td>7300</td>\n",
       "    </tr>\n",
       "  </tbody>\n",
       "</table>\n",
       "<p>100 rows × 1 columns</p>\n",
       "</div>"
      ],
      "text/plain": [
       "    lunch\n",
       "0    6900\n",
       "1    6400\n",
       "2    6100\n",
       "3    5600\n",
       "4    7600\n",
       "..    ...\n",
       "95   5300\n",
       "96   6600\n",
       "97   6100\n",
       "98   5600\n",
       "99   7300\n",
       "\n",
       "[100 rows x 1 columns]"
      ]
     },
     "execution_count": 38,
     "metadata": {},
     "output_type": "execute_result"
    }
   ],
   "source": [
    "df = pd.read_excel('data/S기업 점심비용.xlsx')\n",
    "df"
   ]
  },
  {
   "cell_type": "code",
   "execution_count": 17,
   "id": "9f1e5cab",
   "metadata": {},
   "outputs": [
    {
     "name": "stdout",
     "output_type": "stream",
     "text": [
      "t-검정 통계량: 1.2168903384547618, P값: 0.2265389718688151\n",
      "A리서치는 S기업의 평균 점심비용 조사결과와 같다.\n"
     ]
    }
   ],
   "source": [
    "# s_mean = df.lunch.mean()\n",
    "a_mean = 6300\n",
    "\n",
    "#t검정(stats.ttest_1samp)\n",
    "t_stats, p_value = stats.ttest_1samp(df.lunch, a_mean)\n",
    "print(f't-검정 통계량: {t_stats}, P값: {p_value}')\n",
    "\n",
    "alpha = 0.05 #유의수준 5% 검정 결과\n",
    "if p_value < alpha:\n",
    "    print('A리서치는 S기업의 평균 점심비용 조사결과와 다르다.')\n",
    "else:\n",
    "    print('A리서치는 S기업의 평균 점심비용 조사결과와 같다.') "
   ]
  },
  {
   "cell_type": "code",
   "execution_count": 22,
   "id": "a2190990",
   "metadata": {},
   "outputs": [
    {
     "name": "stdout",
     "output_type": "stream",
     "text": [
      "1.2169\n"
     ]
    }
   ],
   "source": [
    "s_mean, s_std, n, mu = df.lunch.mean(), df.lunch.std(), len(df.lunch), 6300\n",
    "t = (s_mean - mu) / (s_std / np.sqrt(n))\n",
    "print(f'{t:.4f}')"
   ]
  },
  {
   "cell_type": "code",
   "execution_count": 23,
   "id": "45868527",
   "metadata": {},
   "outputs": [
    {
     "name": "stdout",
     "output_type": "stream",
     "text": [
      "임계값: 1.9842\n"
     ]
    }
   ],
   "source": [
    "#임계값 설정\n",
    "alpha = 0.05\n",
    "cr = stats.t(n-1).isf(alpha/2)\n",
    "print(f'임계값: {cr:.4f}')"
   ]
  },
  {
   "cell_type": "code",
   "execution_count": 24,
   "id": "ca3f3e43",
   "metadata": {},
   "outputs": [
    {
     "name": "stdout",
     "output_type": "stream",
     "text": [
      "p-value:0.2265\n"
     ]
    }
   ],
   "source": [
    "#p값 계산\n",
    "p_value = (1- stats.t(n-1).cdf(t))*2\n",
    "print(f'p-value: {p_value:.4f}')"
   ]
  },
  {
   "cell_type": "code",
   "execution_count": 25,
   "id": "f09f6da9",
   "metadata": {},
   "outputs": [
    {
     "name": "stdout",
     "output_type": "stream",
     "text": [
      "Accept H0\n"
     ]
    }
   ],
   "source": [
    "if p_value < alpha:\n",
    "    print('Reject H0')\n",
    "else:\n",
    "    print('Accept H0')"
   ]
  },
  {
   "cell_type": "code",
   "execution_count": 26,
   "id": "0ac4b800",
   "metadata": {},
   "outputs": [
    {
     "name": "stdout",
     "output_type": "stream",
     "text": [
      "t통계량 : 1.2169, p-value: 0.2265, Accept H0\n"
     ]
    }
   ],
   "source": [
    "#scipy의 ttest_1samp() 이용하여 가설검정\n",
    "t_stat, pv = stats.ttest_1samp(df.lunch, mu, alternative = 'two-sided')\n",
    "alpha = 0.05\n",
    "result = 'reject H0' if pv < alpha else 'Accept H0'\n",
    "print(f't통계량 : {t_stat:.4f}, p-value: {pv:.4f}, {result}')"
   ]
  },
  {
   "cell_type": "code",
   "execution_count": 28,
   "id": "a12a98e5",
   "metadata": {},
   "outputs": [
    {
     "data": {
      "text/plain": [
       "(6084.1752, 6515.8248)"
      ]
     },
     "execution_count": 28,
     "metadata": {},
     "output_type": "execute_result"
    }
   ],
   "source": [
    "rv = stats.norm(loc=6300, scale=s_std/np.sqrt(n))\n",
    "rv.interval(0.95)\n",
    "\n",
    "# s_mean이 임계치를 안넘어가서 귀무가설이 기각 X\n",
    "# 신뢰구간 : (6084.1752, 6515.8248)"
   ]
  },
  {
   "cell_type": "markdown",
   "id": "383bce88",
   "metadata": {},
   "source": [
    "6. 인터넷신문 B사는 성인 500명을 대상으로 주당 스마트폰 이용시간을 조사한 결과 \n",
    "\n",
    "평균 35시간(1일 5시간)으로 발표하였다. 이에 파이썬 과목을 수강하는 40명의 대학생을 \n",
    "\n",
    "상대로 주당 스마트폰 이용시간을 조사한 결과(스마트폰_이용시간.csv)를 토대로 \n",
    "\n",
    "인터넷신문 B사의 발표내용에 대해 차이가 있는지에 대해 유의수준 5%하에서 \n",
    "\n",
    "가설을 세우고 검정하시오."
   ]
  },
  {
   "cell_type": "code",
   "execution_count": 44,
   "id": "b6cfd1cb",
   "metadata": {},
   "outputs": [
    {
     "data": {
      "text/plain": [
       "40"
      ]
     },
     "execution_count": 44,
     "metadata": {},
     "output_type": "execute_result"
    }
   ],
   "source": [
    "# H0(귀무가설): 대학생 상대로 주당 스마트폰 이용시간 조사결과는 인터넷신문 B사의 발표내용과 같다.\n",
    "# H1(대립가설): 대학생 상대로 주당 스마트폰 이용시간 조사결과는 인터넷신문 B사의 발표내용과 다르다.\n",
    "\n",
    "df = pd.read_csv('data/스마트폰_이용시간.csv', header=None)\n",
    "len(df)"
   ]
  },
  {
   "cell_type": "code",
   "execution_count": 45,
   "id": "a2a99e62",
   "metadata": {},
   "outputs": [
    {
     "data": {
      "image/png": "[encoded data removed]",
      "text/plain": [
       "<Figure size 640x480 with 1 Axes>"
      ]
     },
     "metadata": {},
     "output_type": "display_data"
    }
   ],
   "source": [
    "plt.hist(df, bins=7, label='Smart Phone Screentime')\n",
    "plt.legend()\n",
    "plt.show()"
   ]
  },
  {
   "cell_type": "code",
   "execution_count": 49,
   "id": "79a42223",
   "metadata": {},
   "outputs": [
    {
     "name": "stdout",
     "output_type": "stream",
     "text": [
      "t검정통계량: [2.6994], p값: [0.0102]\n",
      "대학생 상대 조사결과는 인터넷신문 B사의 발표내용과 다르다.\n"
     ]
    }
   ],
   "source": [
    "b_mean = 35 #주당 (1일 5시간) / 500명 대상\n",
    "\n",
    "#t검정\n",
    "t_stats, p_value = stats.ttest_1samp(df, b_mean)\n",
    "print(f't검정통계량: {t_stats}, p값: {p_value}')\n",
    "\n",
    "alpha = 0.05 #0.01하면 귀무가설 채택됨\n",
    "if p_value < alpha:\n",
    "    print('대학생 상대 조사결과는 인터넷신문 B사의 발표내용과 다르다.') # O : 귀무가설 기각\n",
    "else:\n",
    "    print('대학생 상대 조사결과는 인터넷신문 B사의 발표내용과 같다.') # X : 귀무가설 채택"
   ]
  }
 ],
 "metadata": {
  "kernelspec": {
   "display_name": "Python 3 (ipykernel)",
   "language": "python",
   "name": "python3"
  },
  "language_info": {
   "codemirror_mode": {
    "name": "ipython",
    "version": 3
   },
   "file_extension": ".py",
   "mimetype": "text/x-python",
   "name": "python",
   "nbconvert_exporter": "python",
   "pygments_lexer": "ipython3",
   "version": "3.11.8"
  }
 },
 "nbformat": 4,
 "nbformat_minor": 5
}
