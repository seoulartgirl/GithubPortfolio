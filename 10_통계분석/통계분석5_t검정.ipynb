{
 "cells": [
  {
   "cell_type": "code",
   "execution_count": 48,
   "metadata": {},
   "outputs": [
    {
     "data": {
      "text/plain": [
       "'%.3f'"
      ]
     },
     "execution_count": 48,
     "metadata": {},
     "output_type": "execute_result"
    }
   ],
   "source": [
    "import numpy as np\n",
    "import pandas as pd\n",
    "from scipy import stats\n",
    "import matplotlib.pyplot as plt\n",
    "import seaborn as sns\n",
    "\n",
    "%precision 3"
   ]
  },
  {
   "cell_type": "markdown",
   "metadata": {},
   "source": [
    "# t-검정"
   ]
  },
  {
   "cell_type": "markdown",
   "metadata": {},
   "source": [
    "### 가설 검정단계\n",
    "\n",
    "- 1단계. 가설 설정\n",
    "- 2단계. 유의수준을 설정(α=0.05)\n",
    "- 3단계. 검정 통계량 및 p-value 계산\n",
    "- 4단계. 귀무가설 기각 여부 판단 => p-value < α 이면 귀무가설 기각\n",
    "\n",
    "#### p-value란?\n",
    "\n",
    "- 검정과정에서 밝혀진 유의수준"
   ]
  },
  {
   "cell_type": "markdown",
   "metadata": {},
   "source": [
    "## 1. 단일표본과 모집단의 평균차이 검정\n",
    "\n",
    "- 양측검정\n",
    "    - 귀무가설($H_0$) : $ \\mu = \\mu_0 $\n",
    "    - 대립가설($H_1$) : $ \\mu \\ne \\mu_0 $\n",
    "    \n",
    "- 좌측검정\n",
    "    - 귀무가설($H_0$) : $ \\mu = \\mu_0 $\n",
    "    - 대립가설($H_1$) : $ \\mu < \\mu_0 $\n",
    "    \n",
    "- 우측검정\n",
    "    - 귀무가설($H_0$) : $ \\mu = \\mu_0 $\n",
    "    - 대립가설($H_1$) : $ \\mu > \\mu_0 $"
   ]
  },
  {
   "cell_type": "markdown",
   "metadata": {},
   "source": [
    "### 1) one sample Z-test\n",
    "\n",
    "- 모분산을 아는 경우\n",
    "- 표본데이터가 충분히 많은 경우\n",
    "- 검정통계량 : $ Z = {{\\bar X - \\mu} \\over {\\sigma \\over \\sqrt n }} \\sim N(0,1) $ "
   ]
  },
  {
   "cell_type": "markdown",
   "metadata": {},
   "source": [
    "#### 예제.\n",
    "A교수는 지난 20년 동안 1000명의 학생들을 대상으로 통계학개론을 강의하였다. 올해도 36명을 대상으로 통계학개론을 강의하고 있다고 한다. 이번 학기 학생들이 지난 과거의 학생들과 다른지 알고 싶다. 과거 1000명 학생들의 통계학\n",
    "개론 평균점수는 99점이고 표준편차는 2.5이고, 이번 학기 학생들의 평균은 100, 표준편차는 5라고 한다. 이번 학기 학생들은 지난 과거 학생들과 다르다고 말할 수 있을까?"
   ]
  },
  {
   "cell_type": "markdown",
   "metadata": {},
   "source": [
    "#### 가설검정 단계\n",
    "1. 가설설정\n",
    "- 귀무가설($H_0$) : $ \\mu = 99 $\n",
    "- 대립가설($H_1$) : $ \\mu \\ne 99 $\n",
    "\n",
    "\n",
    "2. 유의수준 $\\alpha = 0.05$\n",
    "\n",
    "\n",
    "3. 검정통계량 계산 \n",
    "\n",
    "\n",
    "4. p값 계산하여 유의수준과 비교 후 귀무가설 기각여부 판단"
   ]
  },
  {
   "cell_type": "code",
   "execution_count": 5,
   "metadata": {},
   "outputs": [
    {
     "name": "stdout",
     "output_type": "stream",
     "text": [
      "검정통계량 : 2.4000\n",
      "p-value: 0.0082\n",
      "Reject H0\n"
     ]
    }
   ],
   "source": [
    "p_mean, p_std, s_mean, s_std, n, alpha = 99, 2.5, 100, 5, 36, 0.05\n",
    "\n",
    "z = (s_mean - p_mean) / (p_std/np.sqrt(n))\n",
    "print(f'검정통계량 : {z:.4f}')\n",
    "\n",
    "rv = stats.norm()\n",
    "p_value = 1-rv.cdf(z) if z>0 else rv.cdf(z)*2\n",
    "print(f'p-value: {p_value:.4f}')\n",
    "\n",
    "print('Reject H0' if p_value < alpha else 'Accept H0')"
   ]
  },
  {
   "cell_type": "markdown",
   "metadata": {},
   "source": [
    "### 2) one sample t-test\n",
    "\n",
    "- 모분산을 모르는 경우\n",
    "- 검정통계량 : $ t = {{\\bar X - \\mu} \\over {S \\over \\sqrt n }} \\sim t(n-1) $ \n",
    "- 표본의 크기 커질수록 t-분포는 정규분포로 근사하므로 모분산대신에 표본분산을 사용한 one sample Z-검정과 같은 결과가 나옴"
   ]
  },
  {
   "cell_type": "code",
   "execution_count": 8,
   "metadata": {
    "scrolled": true
   },
   "outputs": [
    {
     "name": "stdout",
     "output_type": "stream",
     "text": [
      "검정통계량 : 1.2000\n",
      "p-value: 0.0218\n",
      "Reject H0\n"
     ]
    }
   ],
   "source": [
    "p_mean, p_std, s_mean, s_std, n, alpha = 99, 2.5, 100, 5, 36, 0.05\n",
    "\n",
    "t = (s_mean - p_mean) / (s_std/np.sqrt(n))\n",
    "print(f'검정통계량 : {t:.4f}')\n",
    "\n",
    "rv = stats.t(n-1)\n",
    "p_value = (1-rv.cdf(z))*2 if z>0 else rv.cdf(z)*2\n",
    "print(f'p-value: {p_value:.4f}')\n",
    "\n",
    "print('Reject H0' if p_value < alpha else 'Accept H0')"
   ]
  },
  {
   "cell_type": "markdown",
   "metadata": {},
   "source": [
    "### scipy.stats의 ttest_1samp() 함수\n",
    "\n",
    "- https://docs.scipy.org/doc/scipy/reference/generated/scipy.stats.ttest_1samp.html#scipy.stats.ttest_1samp"
   ]
  },
  {
   "cell_type": "raw",
   "metadata": {},
   "source": [
    "stats.ttest_1sample(a, popmean, alternative='two-sided | less | greater')"
   ]
  },
  {
   "cell_type": "markdown",
   "metadata": {},
   "source": [
    "#### 문제. 초등학생 신체데이터\n",
    "\n",
    "2018년 초등학생 키와 몸무게 자료이다. 초등학교 6학년 남학생의 평균키는 152.5라고 한다. 2018년에 표본조사된 6학년 남학생의 키는 152.5보다 큰가? 유의수준 5%에서 가설검정을 수행하시오."
   ]
  },
  {
   "cell_type": "markdown",
   "metadata": {},
   "source": [
    "## 2. 두 집단의 평균차이 검정\n",
    "\n",
    "- 대응표본(종속관계) t-검정 \n",
    "- 독립표본 t-검정"
   ]
  },
  {
   "cell_type": "markdown",
   "metadata": {},
   "source": [
    "### 1) 대응표본(paired) t-test\n",
    "\n",
    "짝지은 두 그룹의 차이값에 대한 단일표본 t-test 적용"
   ]
  },
  {
   "cell_type": "markdown",
   "metadata": {},
   "source": [
    "#### 가설검정 단계\n",
    "\n",
    "1. 데이터를 건강식품 복용전과 후의 몸무게 차이를 계산한 데이터로 변환\n",
    "\n",
    "\n",
    "2. 일표본 t-test 과정으로 검정 수행\n",
    "    - **scipy.stats.ttest_rel()**"
   ]
  },
  {
   "cell_type": "markdown",
   "metadata": {},
   "source": [
    "#### 예제\n",
    "\n",
    "A제약회사에서 개발한 건강식품이 체중 조절에 효과가 있는지 실험하기 위해 20명을 대상으로 건강식품 복용 전과 후의 몸무게를 측정하였다. 이 건강식품이 체중 조절에 효과가 있는가(체중이 감소되었는가)? 유의수준을 5%, 1%로 두었을 때 가설검정을 수행하시오."
   ]
  },
  {
   "cell_type": "code",
   "execution_count": 9,
   "metadata": {},
   "outputs": [],
   "source": [
    "data = np.array([[75, 73],[74, 74],[75, 76],[75, 71],[83, 76],\n",
    "                 [77, 68],[82, 75],[62, 61],[77, 68],[82, 75],\n",
    "                 [72, 70],[75, 71],[78, 71],[71, 70],[68, 67],\n",
    "                 [76, 73],[71, 74],[54, 50],[75, 76],[77, 68]])"
   ]
  },
  {
   "cell_type": "markdown",
   "metadata": {},
   "source": [
    "- 일표본 t-검정"
   ]
  },
  {
   "cell_type": "code",
   "execution_count": 10,
   "metadata": {},
   "outputs": [
    {
     "data": {
      "text/plain": [
       "array([ 2,  0, -1,  4,  7,  9,  7,  1,  9,  7,  2,  4,  7,  1,  1,  3, -3,\n",
       "        4, -1,  9])"
      ]
     },
     "execution_count": 10,
     "metadata": {},
     "output_type": "execute_result"
    }
   ],
   "source": [
    "before = data[:,0]\n",
    "after = data[:,1]\n",
    "diff = before - after\n",
    "diff"
   ]
  },
  {
   "cell_type": "code",
   "execution_count": 13,
   "metadata": {},
   "outputs": [
    {
     "data": {
      "image/png": "[encoded data removed]",
      "text/plain": [
       "<Figure size 640x480 with 1 Axes>"
      ]
     },
     "metadata": {},
     "output_type": "display_data"
    }
   ],
   "source": [
    "plt.boxplot(diff)\n",
    "plt.xticks([1], ['diff'])\n",
    "plt.show()"
   ]
  },
  {
   "cell_type": "code",
   "execution_count": 17,
   "metadata": {},
   "outputs": [
    {
     "data": {
      "text/plain": [
       "(3.600, 3.597, 0.043)"
      ]
     },
     "execution_count": 17,
     "metadata": {},
     "output_type": "execute_result"
    }
   ],
   "source": [
    "s_mean, s_std, s_skew = diff.mean(), diff.std(), stats.skew(diff)\n",
    "s_mean, s_std, s_skew"
   ]
  },
  {
   "cell_type": "code",
   "execution_count": 14,
   "metadata": {},
   "outputs": [
    {
     "data": {
      "text/plain": [
       "TtestResult(statistic=4.362266189267664, pvalue=0.00033530219011457306, df=19)"
      ]
     },
     "execution_count": 14,
     "metadata": {},
     "output_type": "execute_result"
    }
   ],
   "source": [
    "stats.ttest_1samp(diff, popmean=0, alternative='two-sided') #양측검정"
   ]
  },
  {
   "cell_type": "code",
   "execution_count": 15,
   "metadata": {},
   "outputs": [
    {
     "data": {
      "text/plain": [
       "TtestResult(statistic=4.362266189267664, pvalue=0.00016765109505728653, df=19)"
      ]
     },
     "execution_count": 15,
     "metadata": {},
     "output_type": "execute_result"
    }
   ],
   "source": [
    "stats.ttest_1samp(diff, popmean=0, alternative='greater')"
   ]
  },
  {
   "cell_type": "markdown",
   "metadata": {
    "scrolled": false
   },
   "source": [
    "-> 귀무가설을 기각하므로 체중조절에 효과가 있다고 말할 수 있다"
   ]
  },
  {
   "cell_type": "markdown",
   "metadata": {},
   "source": [
    "- 체중이 감소되었는지 가설검정을 수행"
   ]
  },
  {
   "cell_type": "code",
   "execution_count": 18,
   "metadata": {},
   "outputs": [
    {
     "data": {
      "text/plain": [
       "array([ 2,  0, -1,  4,  7,  9,  7,  1,  9,  7,  2,  4,  7,  1,  1,  3, -3,\n",
       "        4, -1,  9])"
      ]
     },
     "execution_count": 18,
     "metadata": {},
     "output_type": "execute_result"
    }
   ],
   "source": [
    "before = data[:,0]\n",
    "after = data[:,1]\n",
    "diff = before - after\n",
    "diff"
   ]
  },
  {
   "cell_type": "code",
   "execution_count": 38,
   "metadata": {},
   "outputs": [
    {
     "name": "stdout",
     "output_type": "stream",
     "text": [
      "검정통계량 : 4.3623\n",
      "임계값 : 1.7291\n",
      "p-value: 0.000168\n",
      "Reject H0\n"
     ]
    }
   ],
   "source": [
    "# 1. 가설설정 - 체중 감소되었다\n",
    "# 2. 귀무가설(𝐻0), 대립가설(𝐻1) - 체중 같다, 체중 감소\n",
    "# 3. 유의수준 𝛼=0.05, 𝛼=0.01\n",
    "# 4. 검정통계량 계산\n",
    "# 5. p값 계산하여 유의수준과 비교 후 귀무가설 기각여부 판단\n",
    "\n",
    "s_mean, s_std, n, p_mean = diff.mean(), diff.std(ddof=1), len(diff), 0\n",
    "alpha = 0.05\n",
    "# alpha = 0.01\n",
    "\n",
    "# 검정통계량\n",
    "t = (s_mean - p_mean) / (s_std / np.sqrt(n))\n",
    "print(f'검정통계량 : {t:.4f}')\n",
    "\n",
    "# 임계값\n",
    "cri = stats.t(n-1).isf(alpha)\n",
    "print(f'임계값 : {cri:.4f}')\n",
    "\n",
    "# p값 계산\n",
    "p_value = (1-stats.t(n-1).cdf(t)) if t>0 else (stats.t(n-1).cdf(t))*2\n",
    "print(f'p-value: {p_value:.6f}')\n",
    "print('Reject H0' if p_value < alpha else 'Accept H0')"
   ]
  },
  {
   "cell_type": "markdown",
   "metadata": {},
   "source": [
    "#### 일표본 t-검정 수행 기준\n",
    "- 자료 유형 : 반응변수 - 연속형, 설명변수 - 그룹1개(범주형)\n",
    "- Z검정 : 모분산을 아는 경우\n",
    "- t검정 : 모분산을 모르는 경우\n",
    "- 표본의 크기 :\n",
    "    - 대표본인 경우(n>=30) t검정 (모집단의 분포가 정규분포-정규성만족)\n",
    "    - 소표본인 경우 :\n",
    "        - 정규성을 만족하지 않는 경우 : 비모수적 방법(Wilcoxon rank sum test)\n",
    "        - 정규성을 만족하는 경우 : t검정"
   ]
  },
  {
   "cell_type": "markdown",
   "metadata": {},
   "source": [
    "#### 정규성 검정\n",
    "- 샤피로-윌크 테스트(Shapiro-Wilk test)\n",
    "- scipy.stats.shapiro()"
   ]
  },
  {
   "cell_type": "code",
   "execution_count": 49,
   "metadata": {},
   "outputs": [
    {
     "name": "stdout",
     "output_type": "stream",
     "text": [
      "Accept H0\n",
      "0.21451647579669952\n"
     ]
    }
   ],
   "source": [
    "stats, pval = stats.shapiro(diff)\n",
    "alpha = 0.05\n",
    "print('Reject H0' if pval < alpha else 'Accept H0')\n",
    "print(pval)\n",
    "\n",
    "# p-value < 0.05: 귀무가설 기각 (통계적으로 유의미한 결과)\n",
    "# p-value ≥ 0.05: 귀무가설 채택 (통계적으로 유의미하지 않은 결과)"
   ]
  },
  {
   "cell_type": "code",
   "execution_count": 50,
   "metadata": {},
   "outputs": [
    {
     "data": {
      "text/html": [
       "<div>\n",
       "<style scoped>\n",
       "    .dataframe tbody tr th:only-of-type {\n",
       "        vertical-align: middle;\n",
       "    }\n",
       "\n",
       "    .dataframe tbody tr th {\n",
       "        vertical-align: top;\n",
       "    }\n",
       "\n",
       "    .dataframe thead th {\n",
       "        text-align: right;\n",
       "    }\n",
       "</style>\n",
       "<table border=\"1\" class=\"dataframe\">\n",
       "  <thead>\n",
       "    <tr style=\"text-align: right;\">\n",
       "      <th></th>\n",
       "      <th>무게</th>\n",
       "    </tr>\n",
       "  </thead>\n",
       "  <tbody>\n",
       "    <tr>\n",
       "      <th>0</th>\n",
       "      <td>122.02</td>\n",
       "    </tr>\n",
       "    <tr>\n",
       "      <th>1</th>\n",
       "      <td>131.73</td>\n",
       "    </tr>\n",
       "    <tr>\n",
       "      <th>2</th>\n",
       "      <td>130.60</td>\n",
       "    </tr>\n",
       "    <tr>\n",
       "      <th>3</th>\n",
       "      <td>131.82</td>\n",
       "    </tr>\n",
       "    <tr>\n",
       "      <th>4</th>\n",
       "      <td>132.05</td>\n",
       "    </tr>\n",
       "  </tbody>\n",
       "</table>\n",
       "</div>"
      ],
      "text/plain": [
       "       무게\n",
       "0  122.02\n",
       "1  131.73\n",
       "2  130.60\n",
       "3  131.82\n",
       "4  132.05"
      ]
     },
     "execution_count": 50,
     "metadata": {},
     "output_type": "execute_result"
    }
   ],
   "source": [
    "df = pd.read_csv('data/potato.csv')\n",
    "df.head()"
   ]
  },
  {
   "cell_type": "code",
   "execution_count": 52,
   "metadata": {},
   "outputs": [
    {
     "data": {
      "text/plain": [
       "ShapiroResult(statistic=0.9412717223167419, pvalue=0.4348631501197815)"
      ]
     },
     "execution_count": 52,
     "metadata": {},
     "output_type": "execute_result"
    }
   ],
   "source": [
    "from scipy import stats\n",
    "stats.shapiro(df.무게)"
   ]
  },
  {
   "cell_type": "code",
   "execution_count": 53,
   "metadata": {},
   "outputs": [
    {
     "data": {
      "text/plain": [
       "TtestResult(statistic=-1.4551960206404198, pvalue=0.16933464230414275, df=13)"
      ]
     },
     "execution_count": 53,
     "metadata": {},
     "output_type": "execute_result"
    }
   ],
   "source": [
    "stats.ttest_1samp(df.무게, 130)"
   ]
  },
  {
   "cell_type": "markdown",
   "metadata": {},
   "source": [
    "#### paired t-test 함수 적용"
   ]
  },
  {
   "cell_type": "markdown",
   "metadata": {},
   "source": [
    "- 데이터 분포 시각화"
   ]
  },
  {
   "cell_type": "code",
   "execution_count": 54,
   "metadata": {},
   "outputs": [],
   "source": [
    "data = np.array([[75, 73],[74, 74],[75, 76],[75, 71],[83, 76],\n",
    "                 [77, 68],[82, 75],[62, 61],[77, 68],[82, 75],\n",
    "                 [72, 70],[75, 71],[78, 71],[71, 70],[68, 67],\n",
    "                 [76, 73],[71, 74],[54, 50],[75, 76],[77, 68]])\n",
    "\n",
    "before = data[:,0]\n",
    "after = data[:,1]\n",
    "diff = before - after\n",
    "diff"
   ]
  },
  {
   "cell_type": "code",
   "execution_count": 55,
   "metadata": {},
   "outputs": [
    {
     "data": {
      "image/png": "[encoded data removed]",
      "text/plain": [
       "<Figure size 640x480 with 1 Axes>"
      ]
     },
     "metadata": {},
     "output_type": "display_data"
    }
   ],
   "source": [
    "sns.boxplot(data=data)\n",
    "plt.xticks([0,1],['before', 'after'])\n",
    "plt.show()"
   ]
  },
  {
   "cell_type": "markdown",
   "metadata": {},
   "source": [
    "- 정규성 검정"
   ]
  },
  {
   "cell_type": "code",
   "execution_count": 56,
   "metadata": {},
   "outputs": [
    {
     "data": {
      "text/plain": [
       "ShapiroResult(statistic=0.8608343601226807, pvalue=0.008140737190842628)"
      ]
     },
     "execution_count": 56,
     "metadata": {},
     "output_type": "execute_result"
    }
   ],
   "source": [
    "stats.shapiro(before)"
   ]
  },
  {
   "cell_type": "code",
   "execution_count": 57,
   "metadata": {},
   "outputs": [
    {
     "data": {
      "text/plain": [
       "ShapiroResult(statistic=0.7824622988700867, pvalue=0.0004786155477631837)"
      ]
     },
     "execution_count": 57,
     "metadata": {},
     "output_type": "execute_result"
    }
   ],
   "source": [
    "stats.shapiro(after)"
   ]
  },
  {
   "cell_type": "markdown",
   "metadata": {},
   "source": [
    "- 비모수적 검정 : Wilcoxon"
   ]
  },
  {
   "cell_type": "code",
   "execution_count": 58,
   "metadata": {},
   "outputs": [
    {
     "name": "stderr",
     "output_type": "stream",
     "text": [
      "/opt/anaconda3/lib/python3.11/site-packages/scipy/stats/_morestats.py:4088: UserWarning: Exact p-value calculation does not work if there are zeros. Switching to normal approximation.\n",
      "  warnings.warn(\"Exact p-value calculation does not work if there are \"\n"
     ]
    },
    {
     "data": {
      "text/plain": [
       "WilcoxonResult(statistic=14.5, pvalue=0.0011431765973566523)"
      ]
     },
     "execution_count": 58,
     "metadata": {},
     "output_type": "execute_result"
    }
   ],
   "source": [
    "stats.wilcoxon(before, after)"
   ]
  },
  {
   "cell_type": "code",
   "execution_count": 59,
   "metadata": {},
   "outputs": [
    {
     "data": {
      "text/plain": [
       "WilcoxonResult(statistic=14.5, pvalue=0.0011431765973566523)"
      ]
     },
     "execution_count": 59,
     "metadata": {},
     "output_type": "execute_result"
    }
   ],
   "source": [
    "stats.wilcoxon(before-after)"
   ]
  },
  {
   "cell_type": "markdown",
   "metadata": {},
   "source": [
    "- paired t-test 함수 적용"
   ]
  },
  {
   "cell_type": "code",
   "execution_count": 60,
   "metadata": {},
   "outputs": [
    {
     "data": {
      "text/plain": [
       "TtestResult(statistic=4.362266189267664, pvalue=0.00033530219011457306, df=19)"
      ]
     },
     "execution_count": 60,
     "metadata": {},
     "output_type": "execute_result"
    }
   ],
   "source": [
    "stats.ttest_rel(before, after)"
   ]
  },
  {
   "cell_type": "markdown",
   "metadata": {},
   "source": [
    "### 2) 독립표본 t-test\n",
    "\n",
    "독립된 두 모집단의 평균차이 검정"
   ]
  },
  {
   "cell_type": "markdown",
   "metadata": {},
   "source": [
    "#### 가설검정 단계\n",
    "\n",
    "1. 데이터 시각화(분포분석)\n",
    "\n",
    "\n",
    "2. 정규성 검정\n",
    "    - shapiro-wilk test\n",
    "    - 정규성 만족하지 않는 경우 비모수적 평균차이 검정 : Mann Whiteny U test\n",
    "    \n",
    "\n",
    "3. 등분산성 검정\n",
    "    - Levene test : stats.levene()\n",
    "    - Flinger test : stats.flinger()\n",
    "    - Bartlet test : stats.bartlett()\n",
    "\n",
    "\n",
    "4. 검정통계량과 p값 계산하여 기각여부 판단\n",
    "    - stats.ttest_ind()"
   ]
  },
  {
   "cell_type": "markdown",
   "metadata": {},
   "source": [
    "#### 예제\n",
    "어느 학교에서 학생들을 두 가지 교육방식 (A, B)에 의해 교육을 한 뒤 각 그룹에서 무작위로 10명씩 시험성적 표본을 얻었다. 학생들의 시험성적은 정규분포를 따르며 분산이 252으로 알려져 있다고 한다. 두 교육방식에 의한 성적 차이에 대한 95% 신뢰구간을 구하고, 두 집단 간 성적에 차이가 있는지 양측검정을 수행하시오."
   ]
  },
  {
   "cell_type": "code",
   "execution_count": 61,
   "metadata": {},
   "outputs": [],
   "source": [
    "groupA = [215, 258, 248, 270, 291, 299, 244, 265, 250, 260]\n",
    "groupB = [257, 284, 305, 308, 320, 240, 248, 278, 280, 280]"
   ]
  },
  {
   "cell_type": "code",
   "execution_count": 69,
   "metadata": {},
   "outputs": [
    {
     "data": {
      "text/html": [
       "<div>\n",
       "<style scoped>\n",
       "    .dataframe tbody tr th:only-of-type {\n",
       "        vertical-align: middle;\n",
       "    }\n",
       "\n",
       "    .dataframe tbody tr th {\n",
       "        vertical-align: top;\n",
       "    }\n",
       "\n",
       "    .dataframe thead th {\n",
       "        text-align: right;\n",
       "    }\n",
       "</style>\n",
       "<table border=\"1\" class=\"dataframe\">\n",
       "  <thead>\n",
       "    <tr style=\"text-align: right;\">\n",
       "      <th></th>\n",
       "      <th>A</th>\n",
       "      <th>B</th>\n",
       "    </tr>\n",
       "  </thead>\n",
       "  <tbody>\n",
       "    <tr>\n",
       "      <th>0</th>\n",
       "      <td>215</td>\n",
       "      <td>257</td>\n",
       "    </tr>\n",
       "    <tr>\n",
       "      <th>1</th>\n",
       "      <td>258</td>\n",
       "      <td>284</td>\n",
       "    </tr>\n",
       "    <tr>\n",
       "      <th>2</th>\n",
       "      <td>248</td>\n",
       "      <td>305</td>\n",
       "    </tr>\n",
       "    <tr>\n",
       "      <th>3</th>\n",
       "      <td>270</td>\n",
       "      <td>308</td>\n",
       "    </tr>\n",
       "    <tr>\n",
       "      <th>4</th>\n",
       "      <td>291</td>\n",
       "      <td>320</td>\n",
       "    </tr>\n",
       "    <tr>\n",
       "      <th>5</th>\n",
       "      <td>299</td>\n",
       "      <td>240</td>\n",
       "    </tr>\n",
       "    <tr>\n",
       "      <th>6</th>\n",
       "      <td>244</td>\n",
       "      <td>248</td>\n",
       "    </tr>\n",
       "    <tr>\n",
       "      <th>7</th>\n",
       "      <td>265</td>\n",
       "      <td>278</td>\n",
       "    </tr>\n",
       "    <tr>\n",
       "      <th>8</th>\n",
       "      <td>250</td>\n",
       "      <td>280</td>\n",
       "    </tr>\n",
       "    <tr>\n",
       "      <th>9</th>\n",
       "      <td>260</td>\n",
       "      <td>280</td>\n",
       "    </tr>\n",
       "  </tbody>\n",
       "</table>\n",
       "</div>"
      ],
      "text/plain": [
       "     A    B\n",
       "0  215  257\n",
       "1  258  284\n",
       "2  248  305\n",
       "3  270  308\n",
       "4  291  320\n",
       "5  299  240\n",
       "6  244  248\n",
       "7  265  278\n",
       "8  250  280\n",
       "9  260  280"
      ]
     },
     "execution_count": 69,
     "metadata": {},
     "output_type": "execute_result"
    }
   ],
   "source": [
    "df = pd.DataFrame({'A': groupA, 'B': groupB})\n",
    "df"
   ]
  },
  {
   "cell_type": "code",
   "execution_count": 71,
   "metadata": {},
   "outputs": [
    {
     "data": {
      "image/png": "[encoded data removed]",
      "text/plain": [
       "<Figure size 640x480 with 1 Axes>"
      ]
     },
     "metadata": {},
     "output_type": "display_data"
    }
   ],
   "source": [
    "plt.boxplot(df)\n",
    "plt.xticks([1,2], ['A', 'B'])\n",
    "plt.show()"
   ]
  },
  {
   "cell_type": "markdown",
   "metadata": {},
   "source": [
    "- 정규성 검정"
   ]
  },
  {
   "cell_type": "code",
   "execution_count": 73,
   "metadata": {},
   "outputs": [
    {
     "data": {
      "text/plain": [
       "ShapiroResult(statistic=0.9620079398155212, pvalue=0.8085048794746399)"
      ]
     },
     "execution_count": 73,
     "metadata": {},
     "output_type": "execute_result"
    }
   ],
   "source": [
    "stats.shapiro(df.A)"
   ]
  },
  {
   "cell_type": "code",
   "execution_count": 74,
   "metadata": {},
   "outputs": [
    {
     "data": {
      "text/plain": [
       "ShapiroResult(statistic=0.9506453275680542, pvalue=0.6761407256126404)"
      ]
     },
     "execution_count": 74,
     "metadata": {},
     "output_type": "execute_result"
    }
   ],
   "source": [
    "stats.shapiro(df.B)"
   ]
  },
  {
   "cell_type": "markdown",
   "metadata": {},
   "source": [
    "=> 두 그룹의 데이터는 모두 정규성을 만족함"
   ]
  },
  {
   "cell_type": "code",
   "execution_count": 84,
   "metadata": {},
   "outputs": [],
   "source": [
    "# a = df.A\n",
    "# # stats.shapiro(df.A)\n",
    "# stats.shapiro(a)\n",
    "# stats.levene(a, df.B)\n",
    "# stats.ttest_ind(a, df.B, equal_var=True)"
   ]
  },
  {
   "cell_type": "markdown",
   "metadata": {},
   "source": [
    "- 등분산성 검정\n",
    "    - H0 : 두 집단의 분산이 같다(등분산이다)"
   ]
  },
  {
   "cell_type": "code",
   "execution_count": 75,
   "metadata": {},
   "outputs": [
    {
     "data": {
      "text/plain": [
       "LeveneResult(statistic=0.11090193393804541, pvalue=0.7429671197300978)"
      ]
     },
     "execution_count": 75,
     "metadata": {},
     "output_type": "execute_result"
    }
   ],
   "source": [
    "stats.levene(df.A, df.B)"
   ]
  },
  {
   "cell_type": "code",
   "execution_count": 103,
   "metadata": {},
   "outputs": [
    {
     "data": {
      "text/plain": [
       "(15.099, 13.872)"
      ]
     },
     "execution_count": 103,
     "metadata": {},
     "output_type": "execute_result"
    }
   ],
   "source": [
    "np.mean(df.A), np.mean(df.B)"
   ]
  },
  {
   "cell_type": "code",
   "execution_count": 82,
   "metadata": {},
   "outputs": [
    {
     "data": {
      "text/plain": [
       "TtestResult(statistic=-1.7834724523628507, pvalue=0.09137972048711938, df=18.0)"
      ]
     },
     "execution_count": 82,
     "metadata": {},
     "output_type": "execute_result"
    }
   ],
   "source": [
    "stats.ttest_ind(df.A, df.B, equal_var=True)"
   ]
  },
  {
   "cell_type": "markdown",
   "metadata": {},
   "source": [
    "=> 두 그룹의 평균은 차이가 없다 (두 교육방식에는 차이가 없다)"
   ]
  },
  {
   "cell_type": "markdown",
   "metadata": {},
   "source": [
    "#### 문제1.\n",
    "두 종류 자동차의 연비 비교하여 차이가 있는지 유의수준 5%에서 가설검정을 수행하시오.\n",
    "\n",
    "- 시각화\n",
    "- 정규성 검정\n",
    "- 등분산성 검정\n",
    "- 독립표본 t-test 수행"
   ]
  },
  {
   "cell_type": "code",
   "execution_count": 119,
   "metadata": {},
   "outputs": [],
   "source": [
    "A = [12.60, 15.15,  17.62,  16.81,  15.51,  15.12,  14.39,  15.20,  13.70,  14.75,\n",
    "     15.13,  15.66,  13.69,  15.74,  14.96,  15.20,  16.45,  13.66,  16.16,  14.47]\n",
    "B = [13.77,  13.63,  12.63,  14.13,  13.50,  13.09,  13.96,  13.41,  14.03,  14.25, \n",
    "    13.47,  13.43,  13.24,  14.61,  13.82,  14.07,  15.96,  13.69,  14.25,  14.50]"
   ]
  },
  {
   "cell_type": "code",
   "execution_count": 120,
   "metadata": {},
   "outputs": [],
   "source": [
    "df = pd.DataFrame({'A': A, 'B': B})"
   ]
  },
  {
   "cell_type": "code",
   "execution_count": 121,
   "metadata": {},
   "outputs": [
    {
     "data": {
      "image/png": "[encoded data removed]",
      "text/plain": [
       "<Figure size 640x480 with 1 Axes>"
      ]
     },
     "metadata": {},
     "output_type": "display_data"
    }
   ],
   "source": [
    "#시각화\n",
    "plt.boxplot(df)\n",
    "plt.xticks([1,2], ['A', 'B'])\n",
    "plt.show()"
   ]
  },
  {
   "cell_type": "code",
   "execution_count": 122,
   "metadata": {},
   "outputs": [
    {
     "data": {
      "text/plain": [
       "ShapiroResult(statistic=0.9804083704948425, pvalue=0.939264714717865)"
      ]
     },
     "execution_count": 122,
     "metadata": {},
     "output_type": "execute_result"
    }
   ],
   "source": [
    "#정규성 검정\n",
    "stats.shapiro(A)"
   ]
  },
  {
   "cell_type": "code",
   "execution_count": 123,
   "metadata": {
    "scrolled": true
   },
   "outputs": [
    {
     "data": {
      "text/plain": [
       "ShapiroResult(statistic=0.9171658158302307, pvalue=0.08739958703517914)"
      ]
     },
     "execution_count": 123,
     "metadata": {},
     "output_type": "execute_result"
    }
   ],
   "source": [
    "stats.shapiro(B)"
   ]
  },
  {
   "cell_type": "markdown",
   "metadata": {},
   "source": [
    "=> 두 그룹의 데이터는 모두 정규성을 만족함"
   ]
  },
  {
   "cell_type": "markdown",
   "metadata": {},
   "source": [
    "이상치 제거는 데이터 분석에서 중요한 단계입니다. 이상치는 데이터의 전반적인 통계적 특성을 왜곡하고 분석 결과에 부정적인 영향을 미칠 수 있기 때문입니다. 이상치를 제거하는 이유는 다음과 같습니다:\n",
    "\n",
    "- 데이터 분포 왜곡 방지: 이상치는 데이터의 평균, 표준편차 등 통계량에 큰 영향을 미칠 수 있어 데이터의 본래 분포를 왜곡할 수 있습니다.\n",
    "- 모델 성능 향상: 이상치는 머신러닝 모델의 학습 과정에서 모델을 오버피팅하거나 잘못된 패턴을 학습하게 만들 수 있습니다. 따라서 모델 성능을 향상시키기 위해 이상치를 제거합니다.\n",
    "- 정확한 통계 분석: 통계적 가정을 만족하기 위해 이상치를 제거합니다. 예를 들어, 많은 통계적 검정은 데이터가 정규 분포를 따르는 것을 가정합니다."
   ]
  },
  {
   "cell_type": "code",
   "execution_count": 140,
   "metadata": {},
   "outputs": [
    {
     "name": "stdout",
     "output_type": "stream",
     "text": [
      "ShapiroResult(statistic=0.9578263759613037, pvalue=0.5602692365646362)\n",
      "ShapiroResult(statistic=0.9835568070411682, pvalue=0.9754699468612671)\n"
     ]
    }
   ],
   "source": [
    "#이상치 제거 후\n",
    "a = df.A[(df.A > df.A.min()) & (df.A < df.A.max())]\n",
    "b = df.B[df.B < df.B.max()]\n",
    "\n",
    "print(stats.shapiro(a))\n",
    "print(stats.shapiro(b))"
   ]
  },
  {
   "cell_type": "code",
   "execution_count": 141,
   "metadata": {},
   "outputs": [
    {
     "name": "stdout",
     "output_type": "stream",
     "text": [
      "ShapiroResult(statistic=0.9578263759613037, pvalue=0.5602692365646362)\n",
      "ShapiroResult(statistic=0.9772162437438965, pvalue=0.9168412089347839)\n"
     ]
    }
   ],
   "source": [
    "#이상치 제거 후\n",
    "a = df.A[(df.A > df.A.min()) & (df.A < df.A.max())]\n",
    "b = df.B[(df.B > df.B.min()) & (df.B < df.B.max())]\n",
    "\n",
    "print(stats.shapiro(a))\n",
    "print(stats.shapiro(b))"
   ]
  },
  {
   "cell_type": "code",
   "execution_count": 102,
   "metadata": {},
   "outputs": [
    {
     "data": {
      "text/plain": [
       "LeveneResult(statistic=3.082483460226059, pvalue=0.0871982523331269)"
      ]
     },
     "execution_count": 102,
     "metadata": {},
     "output_type": "execute_result"
    }
   ],
   "source": [
    "#등분산성 검정\n",
    "stats.levene(A, B) #분산 동일함"
   ]
  },
  {
   "cell_type": "code",
   "execution_count": 129,
   "metadata": {},
   "outputs": [
    {
     "data": {
      "text/plain": [
       "FlignerResult(statistic=2.5167951903337924, pvalue=0.1126392957200572)"
      ]
     },
     "execution_count": 129,
     "metadata": {},
     "output_type": "execute_result"
    }
   ],
   "source": [
    "#fligner test\n",
    "stats.fligner(A, B)"
   ]
  },
  {
   "cell_type": "code",
   "execution_count": 131,
   "metadata": {},
   "outputs": [
    {
     "data": {
      "text/plain": [
       "BartlettResult(statistic=5.046486981498095, pvalue=0.024675919716903333)"
      ]
     },
     "execution_count": 131,
     "metadata": {},
     "output_type": "execute_result"
    }
   ],
   "source": [
    "#Bartlett test\n",
    "stats.bartlett(A, B)"
   ]
  },
  {
   "cell_type": "markdown",
   "metadata": {},
   "source": [
    "=> p-value가 0.05보다 크면 샘플 간의 분산이 동일하다고 판단"
   ]
  },
  {
   "cell_type": "code",
   "execution_count": 105,
   "metadata": {},
   "outputs": [
    {
     "data": {
      "text/plain": [
       "TtestResult(statistic=4.010487120208981, pvalue=0.0002737353871039974, df=38.0)"
      ]
     },
     "execution_count": 105,
     "metadata": {},
     "output_type": "execute_result"
    }
   ],
   "source": [
    "# 독립표본 t-test 수행\n",
    "stats.ttest_ind(A, B, equal_var=True)"
   ]
  },
  {
   "cell_type": "markdown",
   "metadata": {},
   "source": [
    "=> p-value가 유의수준(0.05)보다 작기 때문에, 귀무가설(H0)을 기각, 통계적으로 유의미함\n",
    "\n",
    "=> p-value가 유의수준(0.05)보다 크면 귀무가설 채택"
   ]
  },
  {
   "cell_type": "markdown",
   "metadata": {},
   "source": [
    "#### 문제2.\n",
    "제품개발 시 사용하는 화학첨가제의 종류에 따른 제품 수율에 차이가 있는지 유의수준 5%에서 가설 검정을 수행하시오."
   ]
  },
  {
   "cell_type": "code",
   "execution_count": 107,
   "metadata": {},
   "outputs": [],
   "source": [
    "A = [68.86, 74.64, 75.80, 76.41, 67.37, 79.98, 74.95, \n",
    "     76.36, 72.39, 76.73, 75.56, 73.59, 78.49, 69.49,\n",
    "     72.38, 73.38, 77.29, 80.43, 73.94, 73.35]\n",
    "B = [65.92, 64.49, 68.24, 74.38, 70.82, 61.30, 73.09,\n",
    "     71.20, 74.31, 73.14, 68.76, 71.12, 65.62, 72.11,\n",
    "     72.20, 76.57, 65.26,  73.82, 71.42, 71.93]"
   ]
  },
  {
   "cell_type": "code",
   "execution_count": 108,
   "metadata": {},
   "outputs": [
    {
     "data": {
      "image/png": "[encoded data removed]",
      "text/plain": [
       "<Figure size 640x480 with 1 Axes>"
      ]
     },
     "metadata": {},
     "output_type": "display_data"
    }
   ],
   "source": [
    "#시각화\n",
    "df = pd.DataFrame({'A': A, 'B': B})\n",
    "plt.boxplot(df)\n",
    "plt.xticks([1,2], ['A', 'B'])\n",
    "plt.show()"
   ]
  },
  {
   "cell_type": "code",
   "execution_count": 109,
   "metadata": {},
   "outputs": [
    {
     "data": {
      "text/plain": [
       "ShapiroResult(statistic=0.9707767963409424, pvalue=0.7711927890777588)"
      ]
     },
     "execution_count": 109,
     "metadata": {},
     "output_type": "execute_result"
    }
   ],
   "source": [
    "#정규성 검정\n",
    "stats.shapiro(A)"
   ]
  },
  {
   "cell_type": "code",
   "execution_count": 110,
   "metadata": {},
   "outputs": [
    {
     "data": {
      "text/plain": [
       "ShapiroResult(statistic=0.9359825849533081, pvalue=0.2011210024356842)"
      ]
     },
     "execution_count": 110,
     "metadata": {},
     "output_type": "execute_result"
    }
   ],
   "source": [
    "stats.shapiro(B)"
   ]
  },
  {
   "cell_type": "markdown",
   "metadata": {},
   "source": [
    "=> 두 그룹의 데이터는 모두 정규성을 만족함"
   ]
  },
  {
   "cell_type": "code",
   "execution_count": 112,
   "metadata": {
    "scrolled": true
   },
   "outputs": [
    {
     "data": {
      "text/plain": [
       "LeveneResult(statistic=0.24341187979154805, pvalue=0.6245920666095643)"
      ]
     },
     "execution_count": 112,
     "metadata": {},
     "output_type": "execute_result"
    }
   ],
   "source": [
    "#등분산성 검정\n",
    "stats.levene(A, B)"
   ]
  },
  {
   "cell_type": "markdown",
   "metadata": {},
   "source": [
    "=> p-value가 0.05보다 크면 샘플 간의 분산이 동일하다고 판단"
   ]
  },
  {
   "cell_type": "code",
   "execution_count": 115,
   "metadata": {},
   "outputs": [
    {
     "data": {
      "text/plain": [
       "TtestResult(statistic=3.645069059188556, pvalue=0.0007967396305993584, df=38.0)"
      ]
     },
     "execution_count": 115,
     "metadata": {},
     "output_type": "execute_result"
    }
   ],
   "source": [
    "# 독립표본 t-test 수행\n",
    "stats.ttest_ind(A, B, equal_var=True)"
   ]
  },
  {
   "cell_type": "markdown",
   "metadata": {},
   "source": [
    "=> p-value가 유의수준(0.05)보다 작기 때문에, 귀무가설(H0)을 기각, 통계적으로 유의미함"
   ]
  },
  {
   "cell_type": "markdown",
   "metadata": {},
   "source": [
    "#### Mann-Whitney U Test\n",
    "- 정규성을 만족하지 않는 경우 두 독립표본에 대한 평균차이 검정을 위한 비모수적 방법"
   ]
  },
  {
   "cell_type": "code",
   "execution_count": 134,
   "metadata": {},
   "outputs": [
    {
     "name": "stdout",
     "output_type": "stream",
     "text": [
      "ShapiroResult(statistic=0.9604217410087585, pvalue=0.8109170198440552)\n",
      "ShapiroResult(statistic=0.9118359684944153, pvalue=0.4921836256980896)\n"
     ]
    }
   ],
   "source": [
    "males = [19,22,16,19,24]\n",
    "females = [20,11,17,12]\n",
    "\n",
    "print(stats.shapiro(males))\n",
    "print(stats.shapiro(females))"
   ]
  },
  {
   "cell_type": "code",
   "execution_count": 135,
   "metadata": {},
   "outputs": [
    {
     "data": {
      "text/plain": [
       "(20.000, 3.082)"
      ]
     },
     "execution_count": 135,
     "metadata": {},
     "output_type": "execute_result"
    }
   ],
   "source": [
    "np.mean(males), np.std(males, ddof=1)"
   ]
  },
  {
   "cell_type": "code",
   "execution_count": 136,
   "metadata": {},
   "outputs": [
    {
     "data": {
      "text/plain": [
       "(15.000, 4.243)"
      ]
     },
     "execution_count": 136,
     "metadata": {},
     "output_type": "execute_result"
    }
   ],
   "source": [
    "np.mean(females), np.std(females, ddof=1)"
   ]
  },
  {
   "cell_type": "code",
   "execution_count": 137,
   "metadata": {},
   "outputs": [
    {
     "data": {
      "text/plain": [
       "MannwhitneyuResult(statistic=16.0, pvalue=0.17609777149412875)"
      ]
     },
     "execution_count": 137,
     "metadata": {},
     "output_type": "execute_result"
    }
   ],
   "source": [
    "stats.mannwhitneyu(males, females)"
   ]
  }
 ],
 "metadata": {
  "kernelspec": {
   "display_name": "Python 3 (ipykernel)",
   "language": "python",
   "name": "python3"
  },
  "language_info": {
   "codemirror_mode": {
    "name": "ipython",
    "version": 3
   },
   "file_extension": ".py",
   "mimetype": "text/x-python",
   "name": "python",
   "nbconvert_exporter": "python",
   "pygments_lexer": "ipython3",
   "version": "3.11.8"
  }
 },
 "nbformat": 4,
 "nbformat_minor": 2
}
