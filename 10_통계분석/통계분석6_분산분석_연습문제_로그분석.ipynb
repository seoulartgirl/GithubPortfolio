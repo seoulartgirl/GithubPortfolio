{
 "cells": [
  {
   "cell_type": "markdown",
   "id": "4c331bd3",
   "metadata": {},
   "source": [
    "# 연습문제: 로그 데이터 분석"
   ]
  },
  {
   "cell_type": "markdown",
   "id": "be7f156e",
   "metadata": {},
   "source": [
    "다음 데이터는 깃허브 서비스에서 요일 별 사용자들의 푸시 횟수로, 요일별로 푸시 횟수가 다르다고 한다. 분산분석을 수행하여 검증하시오.\n",
    "\n",
    "- 데이터파일 : log_push.csv"
   ]
  },
  {
   "cell_type": "markdown",
   "id": "b41c2b56",
   "metadata": {},
   "source": [
    "### 필요 모듈 임포트"
   ]
  },
  {
   "cell_type": "code",
   "execution_count": 1,
   "id": "ab0c39c6",
   "metadata": {},
   "outputs": [],
   "source": [
    "import numpy as np\n",
    "import pandas as pd\n",
    "import matplotlib.pyplot as plt\n",
    "import seaborn as sns\n",
    "from scipy import stats\n",
    "\n",
    "%precision 4\n",
    "plt.rcParams['font.family'] = 'AppleGothic'"
   ]
  },
  {
   "cell_type": "markdown",
   "id": "ab5d965e",
   "metadata": {},
   "source": [
    "#### 분산분석을 위한 모듈들 임포트"
   ]
  },
  {
   "cell_type": "code",
   "execution_count": 2,
   "id": "926015e6",
   "metadata": {},
   "outputs": [],
   "source": [
    "import statsmodels\n",
    "from statsmodels.formula.api import ols\n",
    "from statsmodels.stats.anova import anova_lm\n",
    "from statsmodels.sandbox.stats.multicomp import MultiComparison\n",
    "from statsmodels.stats.multicomp import pairwise_tukeyhsd\n",
    "import pingouin\n",
    "from pingouin import welch_anova, read_dataset"
   ]
  },
  {
   "cell_type": "markdown",
   "id": "674551be",
   "metadata": {},
   "source": [
    "### 데이터 수집"
   ]
  },
  {
   "cell_type": "code",
   "execution_count": 3,
   "id": "cabea8df",
   "metadata": {},
   "outputs": [
    {
     "data": {
      "text/html": [
       "<div>\n",
       "<style scoped>\n",
       "    .dataframe tbody tr th:only-of-type {\n",
       "        vertical-align: middle;\n",
       "    }\n",
       "\n",
       "    .dataframe tbody tr th {\n",
       "        vertical-align: top;\n",
       "    }\n",
       "\n",
       "    .dataframe thead th {\n",
       "        text-align: right;\n",
       "    }\n",
       "</style>\n",
       "<table border=\"1\" class=\"dataframe\">\n",
       "  <thead>\n",
       "    <tr style=\"text-align: right;\">\n",
       "      <th></th>\n",
       "      <th>log_date</th>\n",
       "      <th>push_count</th>\n",
       "    </tr>\n",
       "  </thead>\n",
       "  <tbody>\n",
       "    <tr>\n",
       "      <th>0</th>\n",
       "      <td>19-02-01</td>\n",
       "      <td>736729</td>\n",
       "    </tr>\n",
       "    <tr>\n",
       "      <th>1</th>\n",
       "      <td>19-02-02</td>\n",
       "      <td>511067</td>\n",
       "    </tr>\n",
       "    <tr>\n",
       "      <th>2</th>\n",
       "      <td>19-02-03</td>\n",
       "      <td>528724</td>\n",
       "    </tr>\n",
       "    <tr>\n",
       "      <th>3</th>\n",
       "      <td>19-02-04</td>\n",
       "      <td>709256</td>\n",
       "    </tr>\n",
       "    <tr>\n",
       "      <th>4</th>\n",
       "      <td>19-02-05</td>\n",
       "      <td>740087</td>\n",
       "    </tr>\n",
       "    <tr>\n",
       "      <th>...</th>\n",
       "      <td>...</td>\n",
       "      <td>...</td>\n",
       "    </tr>\n",
       "    <tr>\n",
       "      <th>343</th>\n",
       "      <td>20-01-10</td>\n",
       "      <td>1000151</td>\n",
       "    </tr>\n",
       "    <tr>\n",
       "      <th>344</th>\n",
       "      <td>20-01-11</td>\n",
       "      <td>729593</td>\n",
       "    </tr>\n",
       "    <tr>\n",
       "      <th>345</th>\n",
       "      <td>20-01-12</td>\n",
       "      <td>748161</td>\n",
       "    </tr>\n",
       "    <tr>\n",
       "      <th>346</th>\n",
       "      <td>20-01-13</td>\n",
       "      <td>1034195</td>\n",
       "    </tr>\n",
       "    <tr>\n",
       "      <th>347</th>\n",
       "      <td>20-01-14</td>\n",
       "      <td>1067085</td>\n",
       "    </tr>\n",
       "  </tbody>\n",
       "</table>\n",
       "<p>348 rows × 2 columns</p>\n",
       "</div>"
      ],
      "text/plain": [
       "     log_date  push_count\n",
       "0    19-02-01      736729\n",
       "1    19-02-02      511067\n",
       "2    19-02-03      528724\n",
       "3    19-02-04      709256\n",
       "4    19-02-05      740087\n",
       "..        ...         ...\n",
       "343  20-01-10     1000151\n",
       "344  20-01-11      729593\n",
       "345  20-01-12      748161\n",
       "346  20-01-13     1034195\n",
       "347  20-01-14     1067085\n",
       "\n",
       "[348 rows x 2 columns]"
      ]
     },
     "execution_count": 3,
     "metadata": {},
     "output_type": "execute_result"
    }
   ],
   "source": [
    "df = pd.read_csv('data/log_push.csv')\n",
    "df"
   ]
  },
  {
   "cell_type": "markdown",
   "id": "97542179",
   "metadata": {},
   "source": [
    "### 데이터 기초 정보 파악"
   ]
  },
  {
   "cell_type": "markdown",
   "id": "7ab33234",
   "metadata": {},
   "source": [
    ": 데이터 일부, 변수, 관측값수, 결측치 여부, 변수의 데이터타입, 기술통계량 등을 확인"
   ]
  },
  {
   "cell_type": "code",
   "execution_count": 4,
   "id": "3fcd67af",
   "metadata": {},
   "outputs": [
    {
     "name": "stdout",
     "output_type": "stream",
     "text": [
      "<class 'pandas.core.frame.DataFrame'>\n",
      "RangeIndex: 348 entries, 0 to 347\n",
      "Data columns (total 2 columns):\n",
      " #   Column      Non-Null Count  Dtype \n",
      "---  ------      --------------  ----- \n",
      " 0   log_date    348 non-null    object\n",
      " 1   push_count  348 non-null    int64 \n",
      "dtypes: int64(1), object(1)\n",
      "memory usage: 5.6+ KB\n"
     ]
    }
   ],
   "source": [
    "df.info()"
   ]
  },
  {
   "cell_type": "code",
   "execution_count": 5,
   "id": "8ccfd0e5",
   "metadata": {},
   "outputs": [
    {
     "data": {
      "text/html": [
       "<div>\n",
       "<style scoped>\n",
       "    .dataframe tbody tr th:only-of-type {\n",
       "        vertical-align: middle;\n",
       "    }\n",
       "\n",
       "    .dataframe tbody tr th {\n",
       "        vertical-align: top;\n",
       "    }\n",
       "\n",
       "    .dataframe thead th {\n",
       "        text-align: right;\n",
       "    }\n",
       "</style>\n",
       "<table border=\"1\" class=\"dataframe\">\n",
       "  <thead>\n",
       "    <tr style=\"text-align: right;\">\n",
       "      <th></th>\n",
       "      <th>push_count</th>\n",
       "    </tr>\n",
       "  </thead>\n",
       "  <tbody>\n",
       "    <tr>\n",
       "      <th>count</th>\n",
       "      <td>3.480000e+02</td>\n",
       "    </tr>\n",
       "    <tr>\n",
       "      <th>mean</th>\n",
       "      <td>8.725456e+05</td>\n",
       "    </tr>\n",
       "    <tr>\n",
       "      <th>std</th>\n",
       "      <td>1.522160e+05</td>\n",
       "    </tr>\n",
       "    <tr>\n",
       "      <th>min</th>\n",
       "      <td>2.861550e+05</td>\n",
       "    </tr>\n",
       "    <tr>\n",
       "      <th>25%</th>\n",
       "      <td>7.229318e+05</td>\n",
       "    </tr>\n",
       "    <tr>\n",
       "      <th>50%</th>\n",
       "      <td>9.278870e+05</td>\n",
       "    </tr>\n",
       "    <tr>\n",
       "      <th>75%</th>\n",
       "      <td>9.864538e+05</td>\n",
       "    </tr>\n",
       "    <tr>\n",
       "      <th>max</th>\n",
       "      <td>1.135921e+06</td>\n",
       "    </tr>\n",
       "  </tbody>\n",
       "</table>\n",
       "</div>"
      ],
      "text/plain": [
       "         push_count\n",
       "count  3.480000e+02\n",
       "mean   8.725456e+05\n",
       "std    1.522160e+05\n",
       "min    2.861550e+05\n",
       "25%    7.229318e+05\n",
       "50%    9.278870e+05\n",
       "75%    9.864538e+05\n",
       "max    1.135921e+06"
      ]
     },
     "execution_count": 5,
     "metadata": {},
     "output_type": "execute_result"
    }
   ],
   "source": [
    "df.describe()"
   ]
  },
  {
   "cell_type": "markdown",
   "id": "d0d0310f",
   "metadata": {},
   "source": [
    "### 데이터 가공"
   ]
  },
  {
   "cell_type": "markdown",
   "id": "0b4f7902",
   "metadata": {},
   "source": [
    "#### log_date컬럼을 이용하여 요일 컬럼(day_of_week) 생성"
   ]
  },
  {
   "cell_type": "markdown",
   "id": "0c7d73e2",
   "metadata": {},
   "source": [
    "- log_date를 날짜형식으로 변경"
   ]
  },
  {
   "cell_type": "code",
   "execution_count": 6,
   "id": "ca9c239f",
   "metadata": {},
   "outputs": [
    {
     "data": {
      "text/plain": [
       "0      2019-02-01\n",
       "1      2019-02-02\n",
       "2      2019-02-03\n",
       "3      2019-02-04\n",
       "4      2019-02-05\n",
       "          ...    \n",
       "343    2020-01-10\n",
       "344    2020-01-11\n",
       "345    2020-01-12\n",
       "346    2020-01-13\n",
       "347    2020-01-14\n",
       "Name: log_date, Length: 348, dtype: object"
      ]
     },
     "execution_count": 6,
     "metadata": {},
     "output_type": "execute_result"
    }
   ],
   "source": [
    "df.log_date = '20' + df.log_date\n",
    "df.log_date"
   ]
  },
  {
   "cell_type": "code",
   "execution_count": 7,
   "id": "e04a614c",
   "metadata": {},
   "outputs": [
    {
     "data": {
      "text/html": [
       "<div>\n",
       "<style scoped>\n",
       "    .dataframe tbody tr th:only-of-type {\n",
       "        vertical-align: middle;\n",
       "    }\n",
       "\n",
       "    .dataframe tbody tr th {\n",
       "        vertical-align: top;\n",
       "    }\n",
       "\n",
       "    .dataframe thead th {\n",
       "        text-align: right;\n",
       "    }\n",
       "</style>\n",
       "<table border=\"1\" class=\"dataframe\">\n",
       "  <thead>\n",
       "    <tr style=\"text-align: right;\">\n",
       "      <th></th>\n",
       "      <th>log_date</th>\n",
       "      <th>push_count</th>\n",
       "    </tr>\n",
       "  </thead>\n",
       "  <tbody>\n",
       "    <tr>\n",
       "      <th>0</th>\n",
       "      <td>2019-02-01</td>\n",
       "      <td>736729</td>\n",
       "    </tr>\n",
       "    <tr>\n",
       "      <th>1</th>\n",
       "      <td>2019-02-02</td>\n",
       "      <td>511067</td>\n",
       "    </tr>\n",
       "    <tr>\n",
       "      <th>2</th>\n",
       "      <td>2019-02-03</td>\n",
       "      <td>528724</td>\n",
       "    </tr>\n",
       "    <tr>\n",
       "      <th>3</th>\n",
       "      <td>2019-02-04</td>\n",
       "      <td>709256</td>\n",
       "    </tr>\n",
       "    <tr>\n",
       "      <th>4</th>\n",
       "      <td>2019-02-05</td>\n",
       "      <td>740087</td>\n",
       "    </tr>\n",
       "    <tr>\n",
       "      <th>...</th>\n",
       "      <td>...</td>\n",
       "      <td>...</td>\n",
       "    </tr>\n",
       "    <tr>\n",
       "      <th>343</th>\n",
       "      <td>2020-01-10</td>\n",
       "      <td>1000151</td>\n",
       "    </tr>\n",
       "    <tr>\n",
       "      <th>344</th>\n",
       "      <td>2020-01-11</td>\n",
       "      <td>729593</td>\n",
       "    </tr>\n",
       "    <tr>\n",
       "      <th>345</th>\n",
       "      <td>2020-01-12</td>\n",
       "      <td>748161</td>\n",
       "    </tr>\n",
       "    <tr>\n",
       "      <th>346</th>\n",
       "      <td>2020-01-13</td>\n",
       "      <td>1034195</td>\n",
       "    </tr>\n",
       "    <tr>\n",
       "      <th>347</th>\n",
       "      <td>2020-01-14</td>\n",
       "      <td>1067085</td>\n",
       "    </tr>\n",
       "  </tbody>\n",
       "</table>\n",
       "<p>348 rows × 2 columns</p>\n",
       "</div>"
      ],
      "text/plain": [
       "      log_date  push_count\n",
       "0   2019-02-01      736729\n",
       "1   2019-02-02      511067\n",
       "2   2019-02-03      528724\n",
       "3   2019-02-04      709256\n",
       "4   2019-02-05      740087\n",
       "..         ...         ...\n",
       "343 2020-01-10     1000151\n",
       "344 2020-01-11      729593\n",
       "345 2020-01-12      748161\n",
       "346 2020-01-13     1034195\n",
       "347 2020-01-14     1067085\n",
       "\n",
       "[348 rows x 2 columns]"
      ]
     },
     "execution_count": 7,
     "metadata": {},
     "output_type": "execute_result"
    }
   ],
   "source": [
    "df['log_date'] = pd.to_datetime(df['log_date'])\n",
    "df"
   ]
  },
  {
   "cell_type": "markdown",
   "id": "4afc11ff",
   "metadata": {},
   "source": [
    "- log_date를 이용하여 요일 컬럼(day_of_week) 생성"
   ]
  },
  {
   "cell_type": "code",
   "execution_count": 8,
   "id": "46c1bc5f",
   "metadata": {},
   "outputs": [
    {
     "data": {
      "text/html": [
       "<div>\n",
       "<style scoped>\n",
       "    .dataframe tbody tr th:only-of-type {\n",
       "        vertical-align: middle;\n",
       "    }\n",
       "\n",
       "    .dataframe tbody tr th {\n",
       "        vertical-align: top;\n",
       "    }\n",
       "\n",
       "    .dataframe thead th {\n",
       "        text-align: right;\n",
       "    }\n",
       "</style>\n",
       "<table border=\"1\" class=\"dataframe\">\n",
       "  <thead>\n",
       "    <tr style=\"text-align: right;\">\n",
       "      <th></th>\n",
       "      <th>log_date</th>\n",
       "      <th>push_count</th>\n",
       "      <th>day_of_week</th>\n",
       "    </tr>\n",
       "  </thead>\n",
       "  <tbody>\n",
       "    <tr>\n",
       "      <th>0</th>\n",
       "      <td>2019-02-01</td>\n",
       "      <td>736729</td>\n",
       "      <td>Friday</td>\n",
       "    </tr>\n",
       "    <tr>\n",
       "      <th>1</th>\n",
       "      <td>2019-02-02</td>\n",
       "      <td>511067</td>\n",
       "      <td>Saturday</td>\n",
       "    </tr>\n",
       "    <tr>\n",
       "      <th>2</th>\n",
       "      <td>2019-02-03</td>\n",
       "      <td>528724</td>\n",
       "      <td>Sunday</td>\n",
       "    </tr>\n",
       "    <tr>\n",
       "      <th>3</th>\n",
       "      <td>2019-02-04</td>\n",
       "      <td>709256</td>\n",
       "      <td>Monday</td>\n",
       "    </tr>\n",
       "    <tr>\n",
       "      <th>4</th>\n",
       "      <td>2019-02-05</td>\n",
       "      <td>740087</td>\n",
       "      <td>Tuesday</td>\n",
       "    </tr>\n",
       "    <tr>\n",
       "      <th>...</th>\n",
       "      <td>...</td>\n",
       "      <td>...</td>\n",
       "      <td>...</td>\n",
       "    </tr>\n",
       "    <tr>\n",
       "      <th>343</th>\n",
       "      <td>2020-01-10</td>\n",
       "      <td>1000151</td>\n",
       "      <td>Friday</td>\n",
       "    </tr>\n",
       "    <tr>\n",
       "      <th>344</th>\n",
       "      <td>2020-01-11</td>\n",
       "      <td>729593</td>\n",
       "      <td>Saturday</td>\n",
       "    </tr>\n",
       "    <tr>\n",
       "      <th>345</th>\n",
       "      <td>2020-01-12</td>\n",
       "      <td>748161</td>\n",
       "      <td>Sunday</td>\n",
       "    </tr>\n",
       "    <tr>\n",
       "      <th>346</th>\n",
       "      <td>2020-01-13</td>\n",
       "      <td>1034195</td>\n",
       "      <td>Monday</td>\n",
       "    </tr>\n",
       "    <tr>\n",
       "      <th>347</th>\n",
       "      <td>2020-01-14</td>\n",
       "      <td>1067085</td>\n",
       "      <td>Tuesday</td>\n",
       "    </tr>\n",
       "  </tbody>\n",
       "</table>\n",
       "<p>348 rows × 3 columns</p>\n",
       "</div>"
      ],
      "text/plain": [
       "      log_date  push_count day_of_week\n",
       "0   2019-02-01      736729      Friday\n",
       "1   2019-02-02      511067    Saturday\n",
       "2   2019-02-03      528724      Sunday\n",
       "3   2019-02-04      709256      Monday\n",
       "4   2019-02-05      740087     Tuesday\n",
       "..         ...         ...         ...\n",
       "343 2020-01-10     1000151      Friday\n",
       "344 2020-01-11      729593    Saturday\n",
       "345 2020-01-12      748161      Sunday\n",
       "346 2020-01-13     1034195      Monday\n",
       "347 2020-01-14     1067085     Tuesday\n",
       "\n",
       "[348 rows x 3 columns]"
      ]
     },
     "execution_count": 8,
     "metadata": {},
     "output_type": "execute_result"
    }
   ],
   "source": [
    "df['day_of_week'] = df['log_date'].dt.day_name()\n",
    "df"
   ]
  },
  {
   "cell_type": "markdown",
   "id": "9e316104",
   "metadata": {},
   "source": [
    "- 요일 컬럼의 데이터를 범주형(Category)으로 변경 "
   ]
  },
  {
   "cell_type": "code",
   "execution_count": 9,
   "id": "944fd414",
   "metadata": {},
   "outputs": [
    {
     "data": {
      "text/html": [
       "<div>\n",
       "<style scoped>\n",
       "    .dataframe tbody tr th:only-of-type {\n",
       "        vertical-align: middle;\n",
       "    }\n",
       "\n",
       "    .dataframe tbody tr th {\n",
       "        vertical-align: top;\n",
       "    }\n",
       "\n",
       "    .dataframe thead th {\n",
       "        text-align: right;\n",
       "    }\n",
       "</style>\n",
       "<table border=\"1\" class=\"dataframe\">\n",
       "  <thead>\n",
       "    <tr style=\"text-align: right;\">\n",
       "      <th></th>\n",
       "      <th>log_date</th>\n",
       "      <th>push_count</th>\n",
       "      <th>day_of_week</th>\n",
       "    </tr>\n",
       "  </thead>\n",
       "  <tbody>\n",
       "    <tr>\n",
       "      <th>0</th>\n",
       "      <td>2019-02-01</td>\n",
       "      <td>736729</td>\n",
       "      <td>Friday</td>\n",
       "    </tr>\n",
       "    <tr>\n",
       "      <th>1</th>\n",
       "      <td>2019-02-02</td>\n",
       "      <td>511067</td>\n",
       "      <td>Saturday</td>\n",
       "    </tr>\n",
       "    <tr>\n",
       "      <th>2</th>\n",
       "      <td>2019-02-03</td>\n",
       "      <td>528724</td>\n",
       "      <td>Sunday</td>\n",
       "    </tr>\n",
       "    <tr>\n",
       "      <th>3</th>\n",
       "      <td>2019-02-04</td>\n",
       "      <td>709256</td>\n",
       "      <td>Monday</td>\n",
       "    </tr>\n",
       "    <tr>\n",
       "      <th>4</th>\n",
       "      <td>2019-02-05</td>\n",
       "      <td>740087</td>\n",
       "      <td>Tuesday</td>\n",
       "    </tr>\n",
       "    <tr>\n",
       "      <th>...</th>\n",
       "      <td>...</td>\n",
       "      <td>...</td>\n",
       "      <td>...</td>\n",
       "    </tr>\n",
       "    <tr>\n",
       "      <th>343</th>\n",
       "      <td>2020-01-10</td>\n",
       "      <td>1000151</td>\n",
       "      <td>Friday</td>\n",
       "    </tr>\n",
       "    <tr>\n",
       "      <th>344</th>\n",
       "      <td>2020-01-11</td>\n",
       "      <td>729593</td>\n",
       "      <td>Saturday</td>\n",
       "    </tr>\n",
       "    <tr>\n",
       "      <th>345</th>\n",
       "      <td>2020-01-12</td>\n",
       "      <td>748161</td>\n",
       "      <td>Sunday</td>\n",
       "    </tr>\n",
       "    <tr>\n",
       "      <th>346</th>\n",
       "      <td>2020-01-13</td>\n",
       "      <td>1034195</td>\n",
       "      <td>Monday</td>\n",
       "    </tr>\n",
       "    <tr>\n",
       "      <th>347</th>\n",
       "      <td>2020-01-14</td>\n",
       "      <td>1067085</td>\n",
       "      <td>Tuesday</td>\n",
       "    </tr>\n",
       "  </tbody>\n",
       "</table>\n",
       "<p>348 rows × 3 columns</p>\n",
       "</div>"
      ],
      "text/plain": [
       "      log_date  push_count day_of_week\n",
       "0   2019-02-01      736729      Friday\n",
       "1   2019-02-02      511067    Saturday\n",
       "2   2019-02-03      528724      Sunday\n",
       "3   2019-02-04      709256      Monday\n",
       "4   2019-02-05      740087     Tuesday\n",
       "..         ...         ...         ...\n",
       "343 2020-01-10     1000151      Friday\n",
       "344 2020-01-11      729593    Saturday\n",
       "345 2020-01-12      748161      Sunday\n",
       "346 2020-01-13     1034195      Monday\n",
       "347 2020-01-14     1067085     Tuesday\n",
       "\n",
       "[348 rows x 3 columns]"
      ]
     },
     "execution_count": 9,
     "metadata": {},
     "output_type": "execute_result"
    }
   ],
   "source": [
    "df['day_of_week'].astype('category')\n",
    "df"
   ]
  },
  {
   "cell_type": "markdown",
   "id": "cc0a80b2",
   "metadata": {},
   "source": [
    "### 데이터 탐색 및 시각화"
   ]
  },
  {
   "cell_type": "markdown",
   "id": "a88860c9",
   "metadata": {},
   "source": [
    "#### 요일별 빈도수"
   ]
  },
  {
   "cell_type": "code",
   "execution_count": 10,
   "id": "ef25e76b",
   "metadata": {},
   "outputs": [
    {
     "data": {
      "text/plain": [
       "day_of_week\n",
       "Friday       50\n",
       "Saturday     50\n",
       "Sunday       50\n",
       "Monday       50\n",
       "Tuesday      50\n",
       "Wednesday    49\n",
       "Thursday     49\n",
       "Name: count, dtype: int64"
      ]
     },
     "execution_count": 10,
     "metadata": {},
     "output_type": "execute_result"
    }
   ],
   "source": [
    "df.day_of_week.value_counts()"
   ]
  },
  {
   "cell_type": "code",
   "execution_count": 11,
   "id": "82d107b3",
   "metadata": {
    "scrolled": true
   },
   "outputs": [
    {
     "data": {
      "text/plain": [
       "day_of_week\n",
       "Friday       50\n",
       "Monday       50\n",
       "Saturday     50\n",
       "Sunday       50\n",
       "Thursday     49\n",
       "Tuesday      50\n",
       "Wednesday    49\n",
       "Name: count, dtype: object"
      ]
     },
     "execution_count": 11,
     "metadata": {},
     "output_type": "execute_result"
    }
   ],
   "source": [
    "df.groupby(by='day_of_week').describe()['log_date']['count']"
   ]
  },
  {
   "cell_type": "code",
   "execution_count": 12,
   "id": "63778e10",
   "metadata": {
    "scrolled": true
   },
   "outputs": [
    {
     "data": {
      "text/plain": [
       "{'Friday': 50,\n",
       " 'Monday': 50,\n",
       " 'Saturday': 50,\n",
       " 'Sunday': 50,\n",
       " 'Thursday': 49,\n",
       " 'Tuesday': 50,\n",
       " 'Wednesday': 49}"
      ]
     },
     "execution_count": 12,
     "metadata": {},
     "output_type": "execute_result"
    }
   ],
   "source": [
    "df.groupby(by='day_of_week').describe()['log_date']['count'].to_dict()"
   ]
  },
  {
   "cell_type": "markdown",
   "id": "dd360411",
   "metadata": {},
   "source": [
    "#### 요일별 push수에 대한 기술통계량"
   ]
  },
  {
   "cell_type": "code",
   "execution_count": 13,
   "id": "03add5eb",
   "metadata": {},
   "outputs": [
    {
     "data": {
      "text/html": [
       "<div>\n",
       "<style scoped>\n",
       "    .dataframe tbody tr th:only-of-type {\n",
       "        vertical-align: middle;\n",
       "    }\n",
       "\n",
       "    .dataframe tbody tr th {\n",
       "        vertical-align: top;\n",
       "    }\n",
       "\n",
       "    .dataframe thead th {\n",
       "        text-align: right;\n",
       "    }\n",
       "</style>\n",
       "<table border=\"1\" class=\"dataframe\">\n",
       "  <thead>\n",
       "    <tr style=\"text-align: right;\">\n",
       "      <th></th>\n",
       "      <th>count</th>\n",
       "      <th>mean</th>\n",
       "      <th>min</th>\n",
       "      <th>25%</th>\n",
       "      <th>50%</th>\n",
       "      <th>75%</th>\n",
       "      <th>max</th>\n",
       "      <th>std</th>\n",
       "    </tr>\n",
       "    <tr>\n",
       "      <th>day_of_week</th>\n",
       "      <th></th>\n",
       "      <th></th>\n",
       "      <th></th>\n",
       "      <th></th>\n",
       "      <th></th>\n",
       "      <th></th>\n",
       "      <th></th>\n",
       "      <th></th>\n",
       "    </tr>\n",
       "  </thead>\n",
       "  <tbody>\n",
       "    <tr>\n",
       "      <th>Friday</th>\n",
       "      <td>50.0</td>\n",
       "      <td>897827.440000</td>\n",
       "      <td>660287.0</td>\n",
       "      <td>872606.25</td>\n",
       "      <td>906519.5</td>\n",
       "      <td>928941.00</td>\n",
       "      <td>1022900.0</td>\n",
       "      <td>68275.935770</td>\n",
       "    </tr>\n",
       "    <tr>\n",
       "      <th>Monday</th>\n",
       "      <td>50.0</td>\n",
       "      <td>955284.360000</td>\n",
       "      <td>709256.0</td>\n",
       "      <td>921506.75</td>\n",
       "      <td>954091.0</td>\n",
       "      <td>1004844.25</td>\n",
       "      <td>1087212.0</td>\n",
       "      <td>70766.469732</td>\n",
       "    </tr>\n",
       "    <tr>\n",
       "      <th>Saturday</th>\n",
       "      <td>50.0</td>\n",
       "      <td>657864.100000</td>\n",
       "      <td>511067.0</td>\n",
       "      <td>636199.75</td>\n",
       "      <td>653765.0</td>\n",
       "      <td>696757.50</td>\n",
       "      <td>738410.0</td>\n",
       "      <td>46452.600564</td>\n",
       "    </tr>\n",
       "    <tr>\n",
       "      <th>Sunday</th>\n",
       "      <td>50.0</td>\n",
       "      <td>689255.040000</td>\n",
       "      <td>528724.0</td>\n",
       "      <td>650460.50</td>\n",
       "      <td>695012.0</td>\n",
       "      <td>730139.75</td>\n",
       "      <td>766976.0</td>\n",
       "      <td>51013.933708</td>\n",
       "    </tr>\n",
       "    <tr>\n",
       "      <th>Thursday</th>\n",
       "      <td>49.0</td>\n",
       "      <td>952641.510204</td>\n",
       "      <td>286155.0</td>\n",
       "      <td>940762.00</td>\n",
       "      <td>963577.0</td>\n",
       "      <td>1008383.00</td>\n",
       "      <td>1109582.0</td>\n",
       "      <td>118751.401232</td>\n",
       "    </tr>\n",
       "    <tr>\n",
       "      <th>Tuesday</th>\n",
       "      <td>50.0</td>\n",
       "      <td>987446.620000</td>\n",
       "      <td>693257.0</td>\n",
       "      <td>960108.25</td>\n",
       "      <td>987347.5</td>\n",
       "      <td>1015885.00</td>\n",
       "      <td>1135921.0</td>\n",
       "      <td>83908.212000</td>\n",
       "    </tr>\n",
       "    <tr>\n",
       "      <th>Wednesday</th>\n",
       "      <td>49.0</td>\n",
       "      <td>971072.448980</td>\n",
       "      <td>570350.0</td>\n",
       "      <td>945094.00</td>\n",
       "      <td>985706.0</td>\n",
       "      <td>1029029.00</td>\n",
       "      <td>1121567.0</td>\n",
       "      <td>102305.775606</td>\n",
       "    </tr>\n",
       "  </tbody>\n",
       "</table>\n",
       "</div>"
      ],
      "text/plain": [
       "             count           mean       min        25%       50%         75%  \\\n",
       "day_of_week                                                                    \n",
       "Friday        50.0  897827.440000  660287.0  872606.25  906519.5   928941.00   \n",
       "Monday        50.0  955284.360000  709256.0  921506.75  954091.0  1004844.25   \n",
       "Saturday      50.0  657864.100000  511067.0  636199.75  653765.0   696757.50   \n",
       "Sunday        50.0  689255.040000  528724.0  650460.50  695012.0   730139.75   \n",
       "Thursday      49.0  952641.510204  286155.0  940762.00  963577.0  1008383.00   \n",
       "Tuesday       50.0  987446.620000  693257.0  960108.25  987347.5  1015885.00   \n",
       "Wednesday     49.0  971072.448980  570350.0  945094.00  985706.0  1029029.00   \n",
       "\n",
       "                   max            std  \n",
       "day_of_week                            \n",
       "Friday       1022900.0   68275.935770  \n",
       "Monday       1087212.0   70766.469732  \n",
       "Saturday      738410.0   46452.600564  \n",
       "Sunday        766976.0   51013.933708  \n",
       "Thursday     1109582.0  118751.401232  \n",
       "Tuesday      1135921.0   83908.212000  \n",
       "Wednesday    1121567.0  102305.775606  "
      ]
     },
     "execution_count": 13,
     "metadata": {},
     "output_type": "execute_result"
    }
   ],
   "source": [
    "df1 = df.groupby(by='day_of_week').describe()['push_count']\n",
    "df1"
   ]
  },
  {
   "cell_type": "markdown",
   "id": "490bd09f",
   "metadata": {},
   "source": [
    "#### 요일별 push수에 대한 박스플롯"
   ]
  },
  {
   "cell_type": "code",
   "execution_count": 14,
   "id": "afb2d004",
   "metadata": {
    "scrolled": true
   },
   "outputs": [
    {
     "data": {
      "image/png": "[encoded data removed]",
      "text/plain": [
       "<Figure size 640x480 with 1 Axes>"
      ]
     },
     "metadata": {},
     "output_type": "display_data"
    }
   ],
   "source": [
    "sns.boxplot(data=df, x='day_of_week', y='push_count')\n",
    "plt.show()"
   ]
  },
  {
   "cell_type": "markdown",
   "id": "9c266409",
   "metadata": {},
   "source": [
    "#### push_count에 대한 요일별  히스토그램\n",
    "\n",
    "- matplotlib을 이용하여 요일별 히스토그램을 한 윈도우에 겹쳐서 그리기"
   ]
  },
  {
   "cell_type": "code",
   "execution_count": 15,
   "id": "854872e2",
   "metadata": {},
   "outputs": [
    {
     "data": {
      "image/png": "[encoded data removed]",
      "text/plain": [
       "<Figure size 640x480 with 1 Axes>"
      ]
     },
     "metadata": {},
     "output_type": "display_data"
    }
   ],
   "source": [
    "for day in df['day_of_week'].unique():\n",
    "    plt.hist(df[df['day_of_week']==day]['push_count'], alpha=0.6, label=day)\n",
    "    plt.legend()"
   ]
  },
  {
   "cell_type": "markdown",
   "id": "d8f90870",
   "metadata": {},
   "source": [
    "- seaborn을 이용하여 요일별 히스토그램 그리기"
   ]
  },
  {
   "cell_type": "code",
   "execution_count": 16,
   "id": "9923290b",
   "metadata": {},
   "outputs": [
    {
     "name": "stderr",
     "output_type": "stream",
     "text": [
      "/opt/anaconda3/lib/python3.11/site-packages/seaborn/_oldcore.py:1119: FutureWarning: use_inf_as_na option is deprecated and will be removed in a future version. Convert inf values to NaN before operating instead.\n",
      "  with pd.option_context('mode.use_inf_as_na', True):\n"
     ]
    },
    {
     "data": {
      "text/plain": [
       "<Axes: xlabel='push_count', ylabel='Count'>"
      ]
     },
     "execution_count": 16,
     "metadata": {},
     "output_type": "execute_result"
    },
    {
     "data": {
      "image/png": "[encoded data removed]",
      "text/plain": [
       "<Figure size 640x480 with 1 Axes>"
      ]
     },
     "metadata": {},
     "output_type": "display_data"
    }
   ],
   "source": [
    "sns.histplot(data=df, x='push_count', hue='day_of_week', multiple='stack')"
   ]
  },
  {
   "cell_type": "markdown",
   "id": "19f6a78c",
   "metadata": {},
   "source": [
    "### 이상치 탐색 및 제거"
   ]
  },
  {
   "cell_type": "code",
   "execution_count": 17,
   "id": "45c7f4c9",
   "metadata": {},
   "outputs": [],
   "source": [
    "# 이상치 제거 함수화\n",
    "def remove_outliers(x):\n",
    "    q1 = x['push_count'].quantile(0.25)\n",
    "    q3 = x['push_count'].quantile(0.75)\n",
    "    IQR = q3 - q1\n",
    "    lower = q1 - 1.5 * IQR\n",
    "    upper = q3 + 1.5 * IQR\n",
    "    return x[(x['push_count'] >= lower) & (x['push_count'] <= upper)]"
   ]
  },
  {
   "cell_type": "code",
   "execution_count": 18,
   "id": "051b8035",
   "metadata": {
    "scrolled": false
   },
   "outputs": [
    {
     "data": {
      "text/html": [
       "<div>\n",
       "<style scoped>\n",
       "    .dataframe tbody tr th:only-of-type {\n",
       "        vertical-align: middle;\n",
       "    }\n",
       "\n",
       "    .dataframe tbody tr th {\n",
       "        vertical-align: top;\n",
       "    }\n",
       "\n",
       "    .dataframe thead th {\n",
       "        text-align: right;\n",
       "    }\n",
       "</style>\n",
       "<table border=\"1\" class=\"dataframe\">\n",
       "  <thead>\n",
       "    <tr style=\"text-align: right;\">\n",
       "      <th></th>\n",
       "      <th>push_count</th>\n",
       "      <th>day_of_week</th>\n",
       "    </tr>\n",
       "  </thead>\n",
       "  <tbody>\n",
       "    <tr>\n",
       "      <th>7</th>\n",
       "      <td>876558</td>\n",
       "      <td>Friday</td>\n",
       "    </tr>\n",
       "    <tr>\n",
       "      <th>14</th>\n",
       "      <td>848699</td>\n",
       "      <td>Friday</td>\n",
       "    </tr>\n",
       "    <tr>\n",
       "      <th>21</th>\n",
       "      <td>917177</td>\n",
       "      <td>Friday</td>\n",
       "    </tr>\n",
       "    <tr>\n",
       "      <th>28</th>\n",
       "      <td>877648</td>\n",
       "      <td>Friday</td>\n",
       "    </tr>\n",
       "    <tr>\n",
       "      <th>35</th>\n",
       "      <td>871289</td>\n",
       "      <td>Friday</td>\n",
       "    </tr>\n",
       "    <tr>\n",
       "      <th>...</th>\n",
       "      <td>...</td>\n",
       "      <td>...</td>\n",
       "    </tr>\n",
       "    <tr>\n",
       "      <th>307</th>\n",
       "      <td>1109582</td>\n",
       "      <td>Thursday</td>\n",
       "    </tr>\n",
       "    <tr>\n",
       "      <th>314</th>\n",
       "      <td>1061678</td>\n",
       "      <td>Thursday</td>\n",
       "    </tr>\n",
       "    <tr>\n",
       "      <th>321</th>\n",
       "      <td>999443</td>\n",
       "      <td>Thursday</td>\n",
       "    </tr>\n",
       "    <tr>\n",
       "      <th>335</th>\n",
       "      <td>854673</td>\n",
       "      <td>Thursday</td>\n",
       "    </tr>\n",
       "    <tr>\n",
       "      <th>342</th>\n",
       "      <td>1045746</td>\n",
       "      <td>Thursday</td>\n",
       "    </tr>\n",
       "  </tbody>\n",
       "</table>\n",
       "<p>328 rows × 2 columns</p>\n",
       "</div>"
      ],
      "text/plain": [
       "     push_count day_of_week\n",
       "7        876558      Friday\n",
       "14       848699      Friday\n",
       "21       917177      Friday\n",
       "28       877648      Friday\n",
       "35       871289      Friday\n",
       "..          ...         ...\n",
       "307     1109582    Thursday\n",
       "314     1061678    Thursday\n",
       "321      999443    Thursday\n",
       "335      854673    Thursday\n",
       "342     1045746    Thursday\n",
       "\n",
       "[328 rows x 2 columns]"
      ]
     },
     "execution_count": 18,
     "metadata": {},
     "output_type": "execute_result"
    }
   ],
   "source": [
    "ol_df = pd.DataFrame()\n",
    "for day in df['day_of_week'].unique():\n",
    "    ro = remove_outliers(df[df['day_of_week'] == day])\n",
    "    df1 = pd.DataFrame(ro[['push_count', 'day_of_week']])\n",
    "    ol_df = pd.concat([ol_df, df1])\n",
    "ol_df"
   ]
  },
  {
   "cell_type": "markdown",
   "id": "72fb7bda",
   "metadata": {},
   "source": [
    "#### 이상치 제거 후 push_count의 요일별 박스플롯"
   ]
  },
  {
   "cell_type": "code",
   "execution_count": 21,
   "id": "bd3b662e",
   "metadata": {},
   "outputs": [
    {
     "data": {
      "image/png": "[encoded data removed]",
      "text/plain": [
       "<Figure size 640x480 with 1 Axes>"
      ]
     },
     "metadata": {},
     "output_type": "display_data"
    }
   ],
   "source": [
    "days = ['Monday', 'Tuesday', 'Wednesday','Thursday', 'Friday', 'Saturday', 'Sunday']\n",
    "plt.boxplot([ol_df[ol_df['day_of_week'] == day].push_count for day in days])\n",
    "plt.xticks([1,2,3,4,5,6,7], days)\n",
    "plt.show()"
   ]
  },
  {
   "cell_type": "markdown",
   "id": "12ed1b30",
   "metadata": {},
   "source": [
    "## 일원분산분석"
   ]
  },
  {
   "cell_type": "markdown",
   "id": "1a6fcd42",
   "metadata": {},
   "source": [
    "### 1. 가설 설정"
   ]
  },
  {
   "cell_type": "raw",
   "id": "223bcdce",
   "metadata": {},
   "source": [
    "깃허브 서비스에서 요일 별 사용자들의 푸시 횟수는 요일별로 푸시 횟수가 다른가?\n",
    "\n",
    "H0 : 요일 별로 푸시 횟수는 동일하다\n",
    "H1 : 요일 별로 푸시 횟수는 다르다."
   ]
  },
  {
   "cell_type": "markdown",
   "id": "184dc098",
   "metadata": {},
   "source": [
    "### 2. 정규성 검정"
   ]
  },
  {
   "cell_type": "markdown",
   "id": "891f0fc9",
   "metadata": {},
   "source": [
    "- 원 데이터로 요일별 push_count의 정규성 검정"
   ]
  },
  {
   "cell_type": "code",
   "execution_count": 25,
   "id": "451077a0",
   "metadata": {},
   "outputs": [
    {
     "data": {
      "text/plain": [
       "3       709256\n",
       "10      933373\n",
       "17      895603\n",
       "24      975518\n",
       "31      953642\n",
       "38      958071\n",
       "45      973138\n",
       "52      985210\n",
       "59      942929\n",
       "66     1019979\n",
       "73      960241\n",
       "80      869363\n",
       "87      950336\n",
       "94      945787\n",
       "101     944651\n",
       "108     937562\n",
       "115     863598\n",
       "122     941040\n",
       "129     921310\n",
       "136     918547\n",
       "143     914440\n",
       "150     881688\n",
       "157     915404\n",
       "164     925569\n",
       "171     922097\n",
       "178     969388\n",
       "185     954540\n",
       "192     918449\n",
       "199     980444\n",
       "206     929137\n",
       "213     893356\n",
       "220     975349\n",
       "227     997987\n",
       "234    1012245\n",
       "241     994475\n",
       "248     981909\n",
       "255    1007130\n",
       "262    1035013\n",
       "269    1013830\n",
       "276    1009602\n",
       "283    1026837\n",
       "290    1037372\n",
       "297    1072204\n",
       "304    1087212\n",
       "311    1084186\n",
       "318    1029784\n",
       "325     823771\n",
       "332     792344\n",
       "339     945107\n",
       "346    1034195\n",
       "Name: push_count, dtype: int64"
      ]
     },
     "execution_count": 25,
     "metadata": {},
     "output_type": "execute_result"
    }
   ],
   "source": [
    "df[df['day_of_week']=='Monday'].push_count"
   ]
  },
  {
   "cell_type": "code",
   "execution_count": 32,
   "id": "a2e06d7c",
   "metadata": {},
   "outputs": [
    {
     "name": "stdout",
     "output_type": "stream",
     "text": [
      "Monday : ShapiroResult(statistic=0.9503622651100159, pvalue=0.035305023193359375)\n",
      "Tuesday : ShapiroResult(statistic=0.8026376962661743, pvalue=1.0089271427204949e-06)\n",
      "Wednesday : ShapiroResult(statistic=0.7955164909362793, pvalue=8.438798886345467e-07)\n",
      "Thursday : ShapiroResult(statistic=0.6433734893798828, pvalue=1.169132346490187e-09)\n",
      "Friday : ShapiroResult(statistic=0.9204055666923523, pvalue=0.0024389210157096386)\n",
      "Saturday : ShapiroResult(statistic=0.9624285101890564, pvalue=0.11236860603094101)\n",
      "Sunday : ShapiroResult(statistic=0.9517911672592163, pvalue=0.040432821959257126)\n"
     ]
    }
   ],
   "source": [
    "days = ['Monday', 'Tuesday', 'Wednesday','Thursday', 'Friday', 'Saturday', 'Sunday']\n",
    "for day in days:\n",
    "    print(f\"{day} : {stats.shapiro(df[df['day_of_week'] == day].push_count)}\")"
   ]
  },
  {
   "cell_type": "markdown",
   "id": "cfc2e5b1",
   "metadata": {},
   "source": [
    "- 이상치 제거한 데이터로 요일별 push_count의 정규성 검정"
   ]
  },
  {
   "cell_type": "code",
   "execution_count": 33,
   "id": "dc26ead1",
   "metadata": {
    "scrolled": true
   },
   "outputs": [
    {
     "name": "stdout",
     "output_type": "stream",
     "text": [
      "Monday : ShapiroResult(statistic=0.988259494304657, pvalue=0.9085444211959839)\n",
      "Tuesday : ShapiroResult(statistic=0.953101634979248, pvalue=0.07741111516952515)\n",
      "Wednesday : ShapiroResult(statistic=0.9800050854682922, pvalue=0.5924699902534485)\n",
      "Thursday : ShapiroResult(statistic=0.9782474637031555, pvalue=0.5360512733459473)\n",
      "Friday : ShapiroResult(statistic=0.9857091307640076, pvalue=0.8369552493095398)\n",
      "Saturday : ShapiroResult(statistic=0.9630800485610962, pvalue=0.12683847546577454)\n",
      "Sunday : ShapiroResult(statistic=0.9575086832046509, pvalue=0.07481449097394943)\n"
     ]
    }
   ],
   "source": [
    "days = ['Monday', 'Tuesday', 'Wednesday','Thursday', 'Friday', 'Saturday', 'Sunday']\n",
    "for day in days:\n",
    "    print(f\"{day} : {stats.shapiro(ol_df[ol_df['day_of_week'] == day].push_count)}\")"
   ]
  },
  {
   "cell_type": "markdown",
   "id": "a38a67d1",
   "metadata": {},
   "source": [
    "- p-value < 0.05 (유의 수준): 귀무가설 기각. 즉, 데이터가 정규 분포를 따르지 않는다.\n",
    "- p-value ≥ 0.05 : 귀무가설 기각하지 않음. 즉, 데이터가 정규 분포를 따른다.\n",
    "\n",
    "=> 위 경우엔 정규분포를 따름"
   ]
  },
  {
   "cell_type": "markdown",
   "id": "91547a46",
   "metadata": {},
   "source": [
    "### 3. 등분산성 검정"
   ]
  },
  {
   "cell_type": "code",
   "execution_count": 44,
   "id": "acb4827a",
   "metadata": {},
   "outputs": [
    {
     "data": {
      "text/plain": [
       "LeveneResult(statistic=2.1706182771306146, pvalue=0.04555511566154481)"
      ]
     },
     "execution_count": 44,
     "metadata": {},
     "output_type": "execute_result"
    }
   ],
   "source": [
    "stats.levene(*[ol_df[ol_df['day_of_week'] == day]['push_count'] for day in days])\n",
    "\n",
    "# Ensure there are at least two groups before calling stats.levene\n",
    "# if len(list1) < 2:\n",
    "#     raise ValueError(\"Must enter at least two input sample vectors.\")"
   ]
  },
  {
   "cell_type": "markdown",
   "id": "f8269e6e",
   "metadata": {},
   "source": [
    "- p-value < 0.05 (유의 수준): 귀무가설 기각. 즉, 그룹 간 분산이 동일하지 않다다.\n",
    "- p-value ≥ 0.05: 귀무가설 기각하지 않음. 즉, 그룹 간 분산이 동일하다.\n",
    "\n",
    "=> p-value < 0.05이므로 귀무가설을 기각함 / 즉 이분산을 보임."
   ]
  },
  {
   "cell_type": "markdown",
   "id": "543454dc",
   "metadata": {},
   "source": [
    "### 4. 분산분석 수행\n",
    "- 가정 검정 결과에 맞게 분석을 수행하시오."
   ]
  },
  {
   "cell_type": "code",
   "execution_count": 46,
   "id": "08ebb130",
   "metadata": {},
   "outputs": [
    {
     "data": {
      "text/html": [
       "<div>\n",
       "<style scoped>\n",
       "    .dataframe tbody tr th:only-of-type {\n",
       "        vertical-align: middle;\n",
       "    }\n",
       "\n",
       "    .dataframe tbody tr th {\n",
       "        vertical-align: top;\n",
       "    }\n",
       "\n",
       "    .dataframe thead th {\n",
       "        text-align: right;\n",
       "    }\n",
       "</style>\n",
       "<table border=\"1\" class=\"dataframe\">\n",
       "  <thead>\n",
       "    <tr style=\"text-align: right;\">\n",
       "      <th></th>\n",
       "      <th>Source</th>\n",
       "      <th>ddof1</th>\n",
       "      <th>ddof2</th>\n",
       "      <th>F</th>\n",
       "      <th>p-unc</th>\n",
       "      <th>np2</th>\n",
       "    </tr>\n",
       "  </thead>\n",
       "  <tbody>\n",
       "    <tr>\n",
       "      <th>0</th>\n",
       "      <td>day_of_week</td>\n",
       "      <td>6</td>\n",
       "      <td>149.7967</td>\n",
       "      <td>246.894436</td>\n",
       "      <td>5.168652e-75</td>\n",
       "      <td>0.722468</td>\n",
       "    </tr>\n",
       "  </tbody>\n",
       "</table>\n",
       "</div>"
      ],
      "text/plain": [
       "        Source  ddof1     ddof2           F         p-unc       np2\n",
       "0  day_of_week      6  149.7967  246.894436  5.168652e-75  0.722468"
      ]
     },
     "execution_count": 46,
     "metadata": {},
     "output_type": "execute_result"
    }
   ],
   "source": [
    "welch_anova(dv='push_count', between='day_of_week', data=df)"
   ]
  },
  {
   "cell_type": "markdown",
   "id": "29cffca0",
   "metadata": {},
   "source": [
    "=> 'p-value'가 0.05보다 작으므로 귀무가설 기각. 통계적으로 유의미. 요일별 푸시 횟수 다름."
   ]
  },
  {
   "cell_type": "markdown",
   "id": "2f2cb4b7",
   "metadata": {},
   "source": [
    "### 5. 사후검정 수행"
   ]
  },
  {
   "cell_type": "markdown",
   "id": "a2553b7a",
   "metadata": {},
   "source": [
    "- 어느 요일간에 차이가 있는가?"
   ]
  },
  {
   "cell_type": "code",
   "execution_count": 49,
   "id": "c15028c2",
   "metadata": {},
   "outputs": [
    {
     "data": {
      "text/html": [
       "<table class=\"simpletable\">\n",
       "<caption>Test Multiple Comparison ttest_ind \n",
       "FWER=0.05 method=bonf\n",
       "alphacSidak=0.00, alphacBonf=0.002</caption>\n",
       "<tr>\n",
       "   <th>group1</th>   <th>group2</th>     <th>stat</th>    <th>pval</th>  <th>pval_corr</th> <th>reject</th>\n",
       "</tr>\n",
       "<tr>\n",
       "   <td>Friday</td>   <td>Monday</td>    <td>-4.1317</td> <td>0.0001</td>  <td>0.0016</td>    <td>True</td> \n",
       "</tr>\n",
       "<tr>\n",
       "   <td>Friday</td>  <td>Saturday</td>   <td>20.5473</td>   <td>0.0</td>     <td>0.0</td>     <td>True</td> \n",
       "</tr>\n",
       "<tr>\n",
       "   <td>Friday</td>   <td>Sunday</td>    <td>17.3043</td>   <td>0.0</td>     <td>0.0</td>     <td>True</td> \n",
       "</tr>\n",
       "<tr>\n",
       "   <td>Friday</td>  <td>Thursday</td>   <td>-2.8226</td> <td>0.0058</td>  <td>0.1214</td>    <td>False</td>\n",
       "</tr>\n",
       "<tr>\n",
       "   <td>Friday</td>   <td>Tuesday</td>   <td>-5.858</td>    <td>0.0</td>     <td>0.0</td>     <td>True</td> \n",
       "</tr>\n",
       "<tr>\n",
       "   <td>Friday</td>  <td>Wednesday</td>  <td>-4.1979</td> <td>0.0001</td>  <td>0.0013</td>    <td>True</td> \n",
       "</tr>\n",
       "<tr>\n",
       "   <td>Monday</td>  <td>Saturday</td>   <td>24.8442</td>   <td>0.0</td>     <td>0.0</td>     <td>True</td> \n",
       "</tr>\n",
       "<tr>\n",
       "   <td>Monday</td>   <td>Sunday</td>    <td>21.5632</td>   <td>0.0</td>     <td>0.0</td>     <td>True</td> \n",
       "</tr>\n",
       "<tr>\n",
       "   <td>Monday</td>  <td>Thursday</td>   <td>0.1348</td>   <td>0.893</td>    <td>1.0</td>     <td>False</td>\n",
       "</tr>\n",
       "<tr>\n",
       "   <td>Monday</td>   <td>Tuesday</td>   <td>-2.0719</td> <td>0.0409</td>   <td>0.859</td>    <td>False</td>\n",
       "</tr>\n",
       "<tr>\n",
       "   <td>Monday</td>  <td>Wednesday</td>  <td>-0.8945</td> <td>0.3733</td>    <td>1.0</td>     <td>False</td>\n",
       "</tr>\n",
       "<tr>\n",
       "  <td>Saturday</td>  <td>Sunday</td>    <td>-3.2172</td> <td>0.0018</td>  <td>0.0369</td>    <td>True</td> \n",
       "</tr>\n",
       "<tr>\n",
       "  <td>Saturday</td> <td>Thursday</td>  <td>-16.3256</td>   <td>0.0</td>     <td>0.0</td>     <td>True</td> \n",
       "</tr>\n",
       "<tr>\n",
       "  <td>Saturday</td>  <td>Tuesday</td>  <td>-24.2992</td>   <td>0.0</td>     <td>0.0</td>     <td>True</td> \n",
       "</tr>\n",
       "<tr>\n",
       "  <td>Saturday</td> <td>Wednesday</td> <td>-19.6783</td>   <td>0.0</td>     <td>0.0</td>     <td>True</td> \n",
       "</tr>\n",
       "<tr>\n",
       "   <td>Sunday</td>  <td>Thursday</td>  <td>-14.3882</td>   <td>0.0</td>     <td>0.0</td>     <td>True</td> \n",
       "</tr>\n",
       "<tr>\n",
       "   <td>Sunday</td>   <td>Tuesday</td>  <td>-21.4721</td>   <td>0.0</td>     <td>0.0</td>     <td>True</td> \n",
       "</tr>\n",
       "<tr>\n",
       "   <td>Sunday</td>  <td>Wednesday</td> <td>-17.3972</td>   <td>0.0</td>     <td>0.0</td>     <td>True</td> \n",
       "</tr>\n",
       "<tr>\n",
       "  <td>Thursday</td>  <td>Tuesday</td>   <td>-1.6869</td> <td>0.0948</td>    <td>1.0</td>     <td>False</td>\n",
       "</tr>\n",
       "<tr>\n",
       "  <td>Thursday</td> <td>Wednesday</td>  <td>-0.8231</td> <td>0.4125</td>    <td>1.0</td>     <td>False</td>\n",
       "</tr>\n",
       "<tr>\n",
       "   <td>Tuesday</td> <td>Wednesday</td>  <td>0.8715</td>  <td>0.3856</td>    <td>1.0</td>     <td>False</td>\n",
       "</tr>\n",
       "</table>"
      ],
      "text/latex": [
       "\\begin{center}\n",
       "\\begin{tabular}{cccccc}\n",
       "\\toprule\n",
       "\\textbf{group1} & \\textbf{group2} & \\textbf{stat} & \\textbf{pval} & \\textbf{pval\\_corr} & \\textbf{reject}  \\\\\n",
       "\\midrule\n",
       "     Friday     &      Monday     &    -4.1317    &     0.0001    &        0.0016       &       True       \\\\\n",
       "     Friday     &     Saturday    &    20.5473    &      0.0      &         0.0         &       True       \\\\\n",
       "     Friday     &      Sunday     &    17.3043    &      0.0      &         0.0         &       True       \\\\\n",
       "     Friday     &     Thursday    &    -2.8226    &     0.0058    &        0.1214       &      False       \\\\\n",
       "     Friday     &     Tuesday     &     -5.858    &      0.0      &         0.0         &       True       \\\\\n",
       "     Friday     &    Wednesday    &    -4.1979    &     0.0001    &        0.0013       &       True       \\\\\n",
       "     Monday     &     Saturday    &    24.8442    &      0.0      &         0.0         &       True       \\\\\n",
       "     Monday     &      Sunday     &    21.5632    &      0.0      &         0.0         &       True       \\\\\n",
       "     Monday     &     Thursday    &     0.1348    &     0.893     &         1.0         &      False       \\\\\n",
       "     Monday     &     Tuesday     &    -2.0719    &     0.0409    &        0.859        &      False       \\\\\n",
       "     Monday     &    Wednesday    &    -0.8945    &     0.3733    &         1.0         &      False       \\\\\n",
       "    Saturday    &      Sunday     &    -3.2172    &     0.0018    &        0.0369       &       True       \\\\\n",
       "    Saturday    &     Thursday    &    -16.3256   &      0.0      &         0.0         &       True       \\\\\n",
       "    Saturday    &     Tuesday     &    -24.2992   &      0.0      &         0.0         &       True       \\\\\n",
       "    Saturday    &    Wednesday    &    -19.6783   &      0.0      &         0.0         &       True       \\\\\n",
       "     Sunday     &     Thursday    &    -14.3882   &      0.0      &         0.0         &       True       \\\\\n",
       "     Sunday     &     Tuesday     &    -21.4721   &      0.0      &         0.0         &       True       \\\\\n",
       "     Sunday     &    Wednesday    &    -17.3972   &      0.0      &         0.0         &       True       \\\\\n",
       "    Thursday    &     Tuesday     &    -1.6869    &     0.0948    &         1.0         &      False       \\\\\n",
       "    Thursday    &    Wednesday    &    -0.8231    &     0.4125    &         1.0         &      False       \\\\\n",
       "    Tuesday     &    Wednesday    &     0.8715    &     0.3856    &         1.0         &      False       \\\\\n",
       "\\bottomrule\n",
       "\\end{tabular}\n",
       "%\\caption{Test Multiple Comparison ttest_ind \n",
       "FWER=0.05 method=bonf\n",
       "alphacSidak=0.00, alphacBonf=0.002}\n",
       "\\end{center}"
      ],
      "text/plain": [
       "<class 'statsmodels.iolib.table.SimpleTable'>"
      ]
     },
     "execution_count": 49,
     "metadata": {},
     "output_type": "execute_result"
    }
   ],
   "source": [
    "# Bonferroni test\n",
    "comp = MultiComparison(df.push_count, df.day_of_week)\n",
    "result = comp.allpairtest(stats.ttest_ind, method='bonf')\n",
    "result[0]"
   ]
  },
  {
   "cell_type": "code",
   "execution_count": 50,
   "id": "55e39b6f",
   "metadata": {},
   "outputs": [
    {
     "data": {
      "text/html": [
       "<table class=\"simpletable\">\n",
       "<caption>Multiple Comparison of Means - Tukey HSD, FWER=0.05</caption>\n",
       "<tr>\n",
       "   <th>group1</th>   <th>group2</th>    <th>meandiff</th>    <th>p-adj</th>    <th>lower</th>       <th>upper</th>    <th>reject</th>\n",
       "</tr>\n",
       "<tr>\n",
       "   <td>Friday</td>   <td>Monday</td>    <td>57456.92</td>   <td>0.0079</td>   <td>9471.29</td>    <td>105442.55</td>   <td>True</td> \n",
       "</tr>\n",
       "<tr>\n",
       "   <td>Friday</td>  <td>Saturday</td>  <td>-239963.34</td>    <td>0.0</td>  <td>-287948.97</td>  <td>-191977.71</td>   <td>True</td> \n",
       "</tr>\n",
       "<tr>\n",
       "   <td>Friday</td>   <td>Sunday</td>    <td>-208572.4</td>    <td>0.0</td>  <td>-256558.03</td>  <td>-160586.77</td>   <td>True</td> \n",
       "</tr>\n",
       "<tr>\n",
       "   <td>Friday</td>  <td>Thursday</td>  <td>54814.0702</td>  <td>0.0145</td>  <td>6584.237</td>   <td>103043.9035</td>  <td>True</td> \n",
       "</tr>\n",
       "<tr>\n",
       "   <td>Friday</td>   <td>Tuesday</td>   <td>89619.18</td>     <td>0.0</td>   <td>41633.55</td>    <td>137604.81</td>   <td>True</td> \n",
       "</tr>\n",
       "<tr>\n",
       "   <td>Friday</td>  <td>Wednesday</td>  <td>73245.009</td>  <td>0.0002</td> <td>25015.1757</td>  <td>121474.8422</td>  <td>True</td> \n",
       "</tr>\n",
       "<tr>\n",
       "   <td>Monday</td>  <td>Saturday</td>  <td>-297420.26</td>    <td>0.0</td>  <td>-345405.89</td>  <td>-249434.63</td>   <td>True</td> \n",
       "</tr>\n",
       "<tr>\n",
       "   <td>Monday</td>   <td>Sunday</td>   <td>-266029.32</td>    <td>0.0</td>  <td>-314014.95</td>  <td>-218043.69</td>   <td>True</td> \n",
       "</tr>\n",
       "<tr>\n",
       "   <td>Monday</td>  <td>Thursday</td>  <td>-2642.8498</td>    <td>1.0</td>  <td>-50872.683</td>  <td>45586.9835</td>   <td>False</td>\n",
       "</tr>\n",
       "<tr>\n",
       "   <td>Monday</td>   <td>Tuesday</td>   <td>32162.26</td>   <td>0.4242</td>  <td>-15823.37</td>   <td>80147.89</td>    <td>False</td>\n",
       "</tr>\n",
       "<tr>\n",
       "   <td>Monday</td>  <td>Wednesday</td>  <td>15788.089</td>  <td>0.9599</td> <td>-32441.7443</td> <td>64017.9222</td>   <td>False</td>\n",
       "</tr>\n",
       "<tr>\n",
       "  <td>Saturday</td>  <td>Sunday</td>    <td>31390.94</td>   <td>0.4551</td>  <td>-16594.69</td>   <td>79376.57</td>    <td>False</td>\n",
       "</tr>\n",
       "<tr>\n",
       "  <td>Saturday</td> <td>Thursday</td>  <td>294777.4102</td>   <td>0.0</td>  <td>246547.577</td>  <td>343007.2435</td>  <td>True</td> \n",
       "</tr>\n",
       "<tr>\n",
       "  <td>Saturday</td>  <td>Tuesday</td>   <td>329582.52</td>    <td>0.0</td>   <td>281596.89</td>   <td>377568.15</td>   <td>True</td> \n",
       "</tr>\n",
       "<tr>\n",
       "  <td>Saturday</td> <td>Wednesday</td> <td>313208.349</td>    <td>0.0</td>  <td>264978.5157</td> <td>361438.1822</td>  <td>True</td> \n",
       "</tr>\n",
       "<tr>\n",
       "   <td>Sunday</td>  <td>Thursday</td>  <td>263386.4702</td>   <td>0.0</td>  <td>215156.637</td>  <td>311616.3035</td>  <td>True</td> \n",
       "</tr>\n",
       "<tr>\n",
       "   <td>Sunday</td>   <td>Tuesday</td>   <td>298191.58</td>    <td>0.0</td>   <td>250205.95</td>   <td>346177.21</td>   <td>True</td> \n",
       "</tr>\n",
       "<tr>\n",
       "   <td>Sunday</td>  <td>Wednesday</td> <td>281817.409</td>    <td>0.0</td>  <td>233587.5757</td> <td>330047.2422</td>  <td>True</td> \n",
       "</tr>\n",
       "<tr>\n",
       "  <td>Thursday</td>  <td>Tuesday</td>  <td>34805.1098</td>  <td>0.3314</td> <td>-13424.7235</td>  <td>83034.943</td>   <td>False</td>\n",
       "</tr>\n",
       "<tr>\n",
       "  <td>Thursday</td> <td>Wednesday</td> <td>18430.9388</td>  <td>0.9192</td> <td>-30041.8675</td>  <td>66903.745</td>   <td>False</td>\n",
       "</tr>\n",
       "<tr>\n",
       "   <td>Tuesday</td> <td>Wednesday</td> <td>-16374.171</td>  <td>0.9522</td> <td>-64604.0043</td> <td>31855.6622</td>   <td>False</td>\n",
       "</tr>\n",
       "</table>"
      ],
      "text/latex": [
       "\\begin{center}\n",
       "\\begin{tabular}{ccccccc}\n",
       "\\toprule\n",
       "\\textbf{group1} & \\textbf{group2} & \\textbf{meandiff} & \\textbf{p-adj} & \\textbf{lower} & \\textbf{upper} & \\textbf{reject}  \\\\\n",
       "\\midrule\n",
       "     Friday     &      Monday     &      57456.92     &     0.0079     &    9471.29     &   105442.55    &       True       \\\\\n",
       "     Friday     &     Saturday    &     -239963.34    &      0.0       &   -287948.97   &   -191977.71   &       True       \\\\\n",
       "     Friday     &      Sunday     &     -208572.4     &      0.0       &   -256558.03   &   -160586.77   &       True       \\\\\n",
       "     Friday     &     Thursday    &     54814.0702    &     0.0145     &    6584.237    &  103043.9035   &       True       \\\\\n",
       "     Friday     &     Tuesday     &      89619.18     &      0.0       &    41633.55    &   137604.81    &       True       \\\\\n",
       "     Friday     &    Wednesday    &     73245.009     &     0.0002     &   25015.1757   &  121474.8422   &       True       \\\\\n",
       "     Monday     &     Saturday    &     -297420.26    &      0.0       &   -345405.89   &   -249434.63   &       True       \\\\\n",
       "     Monday     &      Sunday     &     -266029.32    &      0.0       &   -314014.95   &   -218043.69   &       True       \\\\\n",
       "     Monday     &     Thursday    &     -2642.8498    &      1.0       &   -50872.683   &   45586.9835   &      False       \\\\\n",
       "     Monday     &     Tuesday     &      32162.26     &     0.4242     &   -15823.37    &    80147.89    &      False       \\\\\n",
       "     Monday     &    Wednesday    &     15788.089     &     0.9599     &  -32441.7443   &   64017.9222   &      False       \\\\\n",
       "    Saturday    &      Sunday     &      31390.94     &     0.4551     &   -16594.69    &    79376.57    &      False       \\\\\n",
       "    Saturday    &     Thursday    &    294777.4102    &      0.0       &   246547.577   &  343007.2435   &       True       \\\\\n",
       "    Saturday    &     Tuesday     &     329582.52     &      0.0       &   281596.89    &   377568.15    &       True       \\\\\n",
       "    Saturday    &    Wednesday    &     313208.349    &      0.0       &  264978.5157   &  361438.1822   &       True       \\\\\n",
       "     Sunday     &     Thursday    &    263386.4702    &      0.0       &   215156.637   &  311616.3035   &       True       \\\\\n",
       "     Sunday     &     Tuesday     &     298191.58     &      0.0       &   250205.95    &   346177.21    &       True       \\\\\n",
       "     Sunday     &    Wednesday    &     281817.409    &      0.0       &  233587.5757   &  330047.2422   &       True       \\\\\n",
       "    Thursday    &     Tuesday     &     34805.1098    &     0.3314     &  -13424.7235   &   83034.943    &      False       \\\\\n",
       "    Thursday    &    Wednesday    &     18430.9388    &     0.9192     &  -30041.8675   &   66903.745    &      False       \\\\\n",
       "    Tuesday     &    Wednesday    &     -16374.171    &     0.9522     &  -64604.0043   &   31855.6622   &      False       \\\\\n",
       "\\bottomrule\n",
       "\\end{tabular}\n",
       "%\\caption{Multiple Comparison of Means - Tukey HSD, FWER=0.05}\n",
       "\\end{center}"
      ],
      "text/plain": [
       "<class 'statsmodels.iolib.table.SimpleTable'>"
      ]
     },
     "execution_count": 50,
     "metadata": {},
     "output_type": "execute_result"
    }
   ],
   "source": [
    "# Tukey's HSD test\n",
    "hsd = pairwise_tukeyhsd(df.push_count, df.day_of_week)\n",
    "hsd.summary()"
   ]
  },
  {
   "cell_type": "code",
   "execution_count": 51,
   "id": "161b489c",
   "metadata": {},
   "outputs": [
    {
     "data": {
      "image/png": "[encoded data removed]",
      "text/plain": [
       "<Figure size 1000x600 with 1 Axes>"
      ]
     },
     "metadata": {},
     "output_type": "display_data"
    }
   ],
   "source": [
    "fig = hsd.plot_simultaneous()"
   ]
  },
  {
   "cell_type": "markdown",
   "id": "83325fec",
   "metadata": {},
   "source": [
    "----------------------------------"
   ]
  }
 ],
 "metadata": {
  "kernelspec": {
   "display_name": "Python 3 (ipykernel)",
   "language": "python",
   "name": "python3"
  },
  "language_info": {
   "codemirror_mode": {
    "name": "ipython",
    "version": 3
   },
   "file_extension": ".py",
   "mimetype": "text/x-python",
   "name": "python",
   "nbconvert_exporter": "python",
   "pygments_lexer": "ipython3",
   "version": "3.11.8"
  }
 },
 "nbformat": 4,
 "nbformat_minor": 5
}
