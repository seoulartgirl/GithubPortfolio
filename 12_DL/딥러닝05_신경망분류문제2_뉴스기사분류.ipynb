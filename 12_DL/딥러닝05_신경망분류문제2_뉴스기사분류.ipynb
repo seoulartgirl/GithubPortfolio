{
 "cells": [
  {
   "cell_type": "code",
   "execution_count": null,
   "metadata": {},
   "outputs": [],
   "source": [
    "import numpy as np\n",
    "import matplotlib.pyplot as plt"
   ]
  },
  {
   "cell_type": "markdown",
   "metadata": {
    "id": "QHOcHxYJGoR4"
   },
   "source": [
    "# 신경망을 이용한 분류(2) : 다중분류\n",
    "\n",
    "### 뉴스 기사 분류(다중분류)\n",
    "\n",
    "- Reuter news 데이터셋\n",
    "- 46개 토픽, 토필벽 최소 10개 샘플을 가짐\n",
    "- 다중분류 문제 : 46개 토픽으로 뉴스 기사 분류 "
   ]
  },
  {
   "cell_type": "markdown",
   "metadata": {
    "id": "UAlCCMvHHbyM"
   },
   "source": [
    "### 데이터 로드\n",
    "\n",
    " - 단어 1만개만 사용하여 데이터 로딩"
   ]
  },
  {
   "cell_type": "code",
   "execution_count": null,
   "metadata": {
    "colab": {
     "base_uri": "https://localhost:8080/"
    },
    "executionInfo": {
     "elapsed": 2652,
     "status": "ok",
     "timestamp": 1644979888258,
     "user": {
      "displayName": "Kyungmi Lee",
      "photoUrl": "https://lh3.googleusercontent.com/a/default-user=s64",
      "userId": "14076883295874579202"
     },
     "user_tz": -540
    },
    "id": "EnQVJt-TMYeJ",
    "outputId": "0b51c045-4d9c-42b6-d793-17c475175b72"
   },
   "outputs": [],
   "source": []
  },
  {
   "cell_type": "code",
   "execution_count": null,
   "metadata": {
    "colab": {
     "base_uri": "https://localhost:8080/"
    },
    "executionInfo": {
     "elapsed": 290,
     "status": "ok",
     "timestamp": 1644979892991,
     "user": {
      "displayName": "Kyungmi Lee",
      "photoUrl": "https://lh3.googleusercontent.com/a/default-user=s64",
      "userId": "14076883295874579202"
     },
     "user_tz": -540
    },
    "id": "vCXxE_OAHbIB",
    "outputId": "a558b6e8-b054-4c6e-c753-03139fdb5100"
   },
   "outputs": [],
   "source": []
  },
  {
   "cell_type": "code",
   "execution_count": null,
   "metadata": {
    "colab": {
     "base_uri": "https://localhost:8080/"
    },
    "executionInfo": {
     "elapsed": 8,
     "status": "ok",
     "timestamp": 1644979910536,
     "user": {
      "displayName": "Kyungmi Lee",
      "photoUrl": "https://lh3.googleusercontent.com/a/default-user=s64",
      "userId": "14076883295874579202"
     },
     "user_tz": -540
    },
    "id": "AA_lnKchcV8v",
    "outputId": "d3608db9-b5cb-427f-af67-36d2f6fd2835"
   },
   "outputs": [],
   "source": []
  },
  {
   "cell_type": "code",
   "execution_count": null,
   "metadata": {
    "colab": {
     "base_uri": "https://localhost:8080/"
    },
    "executionInfo": {
     "elapsed": 280,
     "status": "ok",
     "timestamp": 1644979926348,
     "user": {
      "displayName": "Kyungmi Lee",
      "photoUrl": "https://lh3.googleusercontent.com/a/default-user=s64",
      "userId": "14076883295874579202"
     },
     "user_tz": -540
    },
    "id": "_As4es34cZLH",
    "outputId": "5488aec9-0ca3-487b-e539-c6dd661575ca"
   },
   "outputs": [],
   "source": []
  },
  {
   "cell_type": "code",
   "execution_count": null,
   "metadata": {
    "colab": {
     "base_uri": "https://localhost:8080/"
    },
    "executionInfo": {
     "elapsed": 319,
     "status": "ok",
     "timestamp": 1644979949133,
     "user": {
      "displayName": "Kyungmi Lee",
      "photoUrl": "https://lh3.googleusercontent.com/a/default-user=s64",
      "userId": "14076883295874579202"
     },
     "user_tz": -540
    },
    "id": "-bomzAdvIbOi",
    "outputId": "7bb29db8-5a76-4dfd-dae3-5ba48d2ad4a0"
   },
   "outputs": [],
   "source": []
  },
  {
   "cell_type": "code",
   "execution_count": null,
   "metadata": {
    "colab": {
     "base_uri": "https://localhost:8080/"
    },
    "executionInfo": {
     "elapsed": 277,
     "status": "ok",
     "timestamp": 1644979963008,
     "user": {
      "displayName": "Kyungmi Lee",
      "photoUrl": "https://lh3.googleusercontent.com/a/default-user=s64",
      "userId": "14076883295874579202"
     },
     "user_tz": -540
    },
    "id": "diiCe5e2If-s",
    "outputId": "05770062-8f6f-4653-e552-fcbadac5698a"
   },
   "outputs": [],
   "source": []
  },
  {
   "cell_type": "code",
   "execution_count": null,
   "metadata": {
    "colab": {
     "base_uri": "https://localhost:8080/"
    },
    "executionInfo": {
     "elapsed": 296,
     "status": "ok",
     "timestamp": 1644979976534,
     "user": {
      "displayName": "Kyungmi Lee",
      "photoUrl": "https://lh3.googleusercontent.com/a/default-user=s64",
      "userId": "14076883295874579202"
     },
     "user_tz": -540
    },
    "id": "Cs-Y7_GbI5ro",
    "outputId": "d318cc02-7075-4c90-ce37-0065fb5cec90"
   },
   "outputs": [],
   "source": []
  },
  {
   "cell_type": "code",
   "execution_count": null,
   "metadata": {
    "colab": {
     "base_uri": "https://localhost:8080/"
    },
    "executionInfo": {
     "elapsed": 388,
     "status": "ok",
     "timestamp": 1644979989730,
     "user": {
      "displayName": "Kyungmi Lee",
      "photoUrl": "https://lh3.googleusercontent.com/a/default-user=s64",
      "userId": "14076883295874579202"
     },
     "user_tz": -540
    },
    "id": "Kzp70B5JJHHC",
    "outputId": "b4f87ed9-b1fa-4c26-cb0e-b70ee61a2f12"
   },
   "outputs": [],
   "source": []
  },
  {
   "cell_type": "code",
   "execution_count": null,
   "metadata": {
    "colab": {
     "base_uri": "https://localhost:8080/"
    },
    "executionInfo": {
     "elapsed": 324,
     "status": "ok",
     "timestamp": 1644979997230,
     "user": {
      "displayName": "Kyungmi Lee",
      "photoUrl": "https://lh3.googleusercontent.com/a/default-user=s64",
      "userId": "14076883295874579202"
     },
     "user_tz": -540
    },
    "id": "4hUVsuEqJ3bi",
    "outputId": "1d677691-f8b1-4cfd-8239-ddf49f2cd1ba"
   },
   "outputs": [],
   "source": []
  },
  {
   "cell_type": "code",
   "execution_count": null,
   "metadata": {
    "colab": {
     "base_uri": "https://localhost:8080/",
     "height": 92
    },
    "executionInfo": {
     "elapsed": 318,
     "status": "ok",
     "timestamp": 1644980001834,
     "user": {
      "displayName": "Kyungmi Lee",
      "photoUrl": "https://lh3.googleusercontent.com/a/default-user=s64",
      "userId": "14076883295874579202"
     },
     "user_tz": -540
    },
    "id": "SRcFkVajKWee",
    "outputId": "c5fb517f-718f-4a80-b151-d6ffc749096f"
   },
   "outputs": [],
   "source": []
  },
  {
   "cell_type": "markdown",
   "metadata": {
    "id": "0ApYRmt5NQoE"
   },
   "source": [
    "### 데이터 준비\n",
    "\n",
    ": 신경망에 숫자를 입력으로 줄 수 없으므로, 텐서 형식으로 변환 필요\n",
    "\n",
    "- 피처(x)를 텐서로 변환"
   ]
  },
  {
   "cell_type": "code",
   "execution_count": null,
   "metadata": {},
   "outputs": [],
   "source": []
  },
  {
   "cell_type": "code",
   "execution_count": null,
   "metadata": {
    "id": "MkwgiW5tKK4w"
   },
   "outputs": [],
   "source": []
  },
  {
   "cell_type": "markdown",
   "metadata": {
    "id": "0VW-iu5QdVq6"
   },
   "source": [
    "- 레이블(y)을 벡터로 변경\n",
    "  - 방법1. 레이블의 리스트를 정수 텐서로 변환\n",
    "  - 방법2. 원-핫 인코딩(one-hot encoding)\n",
    "    - 범주형 인코딩\n",
    "    - 각 레이블의 인덱스 자리는 1이고 나머지는 0\n",
    "    - 원핫인코딩 함수 정의하거나 keras.utils.np_utils.to_categorical() 함수 사용"
   ]
  },
  {
   "cell_type": "code",
   "execution_count": null,
   "metadata": {},
   "outputs": [],
   "source": []
  },
  {
   "cell_type": "code",
   "execution_count": null,
   "metadata": {
    "id": "TLNJpkDjOp2-"
   },
   "outputs": [],
   "source": []
  },
  {
   "cell_type": "code",
   "execution_count": null,
   "metadata": {
    "colab": {
     "base_uri": "https://localhost:8080/"
    },
    "executionInfo": {
     "elapsed": 272,
     "status": "ok",
     "timestamp": 1644983278230,
     "user": {
      "displayName": "Kyungmi Lee",
      "photoUrl": "https://lh3.googleusercontent.com/a/default-user=s64",
      "userId": "14076883295874579202"
     },
     "user_tz": -540
    },
    "id": "m1aqdBz-pKh0",
    "outputId": "9cb3a5ce-fc1b-48c6-9ec5-45ced0f5d6ab"
   },
   "outputs": [],
   "source": []
  },
  {
   "cell_type": "code",
   "execution_count": null,
   "metadata": {
    "id": "tCZ5ppS8OdLE"
   },
   "outputs": [],
   "source": [
    "# keras의 to_categorical() 함수 이용한 원핫인코딩\n",
    "\n"
   ]
  },
  {
   "cell_type": "code",
   "execution_count": null,
   "metadata": {
    "colab": {
     "base_uri": "https://localhost:8080/"
    },
    "executionInfo": {
     "elapsed": 9,
     "status": "ok",
     "timestamp": 1644983298648,
     "user": {
      "displayName": "Kyungmi Lee",
      "photoUrl": "https://lh3.googleusercontent.com/a/default-user=s64",
      "userId": "14076883295874579202"
     },
     "user_tz": -540
    },
    "id": "QtC6tzVfOkjp",
    "outputId": "061c9482-0726-47ad-ac89-bba61f7bf2fd"
   },
   "outputs": [],
   "source": []
  },
  {
   "cell_type": "markdown",
   "metadata": {
    "id": "6KGBTr17PVvA"
   },
   "source": [
    "### 1) 신경망 모델 생성\n"
   ]
  },
  {
   "cell_type": "markdown",
   "metadata": {
    "id": "JeBM3Ar3pdaD"
   },
   "source": [
    "- 출력 클래스 수가 46개(토픽 분류)\n",
    "- 은닉층의 유닛은 46개 이상되어야 하므로 64개로 지정\n",
    "- 다중분류이므로 마지막층의 활성화함수는 softmax로 지정"
   ]
  },
  {
   "cell_type": "code",
   "execution_count": null,
   "metadata": {
    "id": "13nPvnlyPStv"
   },
   "outputs": [],
   "source": []
  },
  {
   "cell_type": "markdown",
   "metadata": {
    "id": "4Y18fweoQNBU"
   },
   "source": [
    "### 2) 모델 컴파일"
   ]
  },
  {
   "cell_type": "code",
   "execution_count": null,
   "metadata": {
    "id": "1ZdNbb1vPVZX"
   },
   "outputs": [],
   "source": []
  },
  {
   "cell_type": "markdown",
   "metadata": {
    "id": "Q78SD4jeVOZa"
   },
   "source": [
    "### 3) 모델 훈련 및 검증\n",
    "\n",
    "- 검증(validation) 세트 구성\n",
    "\n",
    ": 모델의 정확도를 측정하기 위해 훈련데이터에서 1000개 샘플을 떼어 검증 세트 구성"
   ]
  },
  {
   "cell_type": "code",
   "execution_count": null,
   "metadata": {
    "id": "bZEF2UByQwUB"
   },
   "outputs": [],
   "source": []
  },
  {
   "cell_type": "markdown",
   "metadata": {
    "id": "RznxVENQWWOJ"
   },
   "source": [
    "- 모델 훈련"
   ]
  },
  {
   "cell_type": "code",
   "execution_count": null,
   "metadata": {
    "colab": {
     "base_uri": "https://localhost:8080/"
    },
    "executionInfo": {
     "elapsed": 14608,
     "status": "ok",
     "timestamp": 1644985210597,
     "user": {
      "displayName": "Kyungmi Lee",
      "photoUrl": "https://lh3.googleusercontent.com/a/default-user=s64",
      "userId": "14076883295874579202"
     },
     "user_tz": -540
    },
    "id": "M0FRinW7WDmw",
    "outputId": "894ad100-9eea-4388-d3ba-0c43cb0c57d7"
   },
   "outputs": [],
   "source": []
  },
  {
   "cell_type": "code",
   "execution_count": null,
   "metadata": {
    "id": "Yc4ZZty08eRQ"
   },
   "outputs": [],
   "source": []
  },
  {
   "cell_type": "markdown",
   "metadata": {
    "id": "Lyfr7ILKW7Te"
   },
   "source": [
    "### 4) 훈련과 검증 손실(loss) 그래프 그리기"
   ]
  },
  {
   "cell_type": "code",
   "execution_count": null,
   "metadata": {},
   "outputs": [],
   "source": []
  },
  {
   "cell_type": "markdown",
   "metadata": {
    "id": "1RgjJnC87w_J"
   },
   "source": [
    "- 훈련과 검증 정확도(accuracy) 그래프"
   ]
  },
  {
   "cell_type": "code",
   "execution_count": null,
   "metadata": {},
   "outputs": [],
   "source": []
  },
  {
   "cell_type": "markdown",
   "metadata": {
    "id": "6RREaZug_OWZ"
   },
   "source": [
    "-  다시 모델 훈련하기"
   ]
  },
  {
   "cell_type": "code",
   "execution_count": null,
   "metadata": {},
   "outputs": [],
   "source": []
  },
  {
   "cell_type": "code",
   "execution_count": null,
   "metadata": {
    "colab": {
     "base_uri": "https://localhost:8080/"
    },
    "executionInfo": {
     "elapsed": 292,
     "status": "ok",
     "timestamp": 1644985434970,
     "user": {
      "displayName": "Kyungmi Lee",
      "photoUrl": "https://lh3.googleusercontent.com/a/default-user=s64",
      "userId": "14076883295874579202"
     },
     "user_tz": -540
    },
    "id": "JnaWEeNjA5LD",
    "outputId": "9b6781a0-1f0f-45b4-c8f5-64d04a6f888d"
   },
   "outputs": [],
   "source": []
  },
  {
   "cell_type": "markdown",
   "metadata": {
    "id": "TnKHWdh6-3G6"
   },
   "source": [
    "### 5) 훈련된 모델로 새로운 데이터에 대해 예측하기"
   ]
  },
  {
   "cell_type": "code",
   "execution_count": null,
   "metadata": {
    "id": "EjC0-JWM-AC0"
   },
   "outputs": [],
   "source": []
  },
  {
   "cell_type": "code",
   "execution_count": null,
   "metadata": {
    "colab": {
     "base_uri": "https://localhost:8080/"
    },
    "executionInfo": {
     "elapsed": 291,
     "status": "ok",
     "timestamp": 1644985502480,
     "user": {
      "displayName": "Kyungmi Lee",
      "photoUrl": "https://lh3.googleusercontent.com/a/default-user=s64",
      "userId": "14076883295874579202"
     },
     "user_tz": -540
    },
    "id": "OZaZvU1Txpvb",
    "outputId": "858cfa93-e422-4060-f1bc-10b3ef116824"
   },
   "outputs": [],
   "source": []
  },
  {
   "cell_type": "code",
   "execution_count": null,
   "metadata": {
    "colab": {
     "base_uri": "https://localhost:8080/"
    },
    "executionInfo": {
     "elapsed": 274,
     "status": "ok",
     "timestamp": 1644985509668,
     "user": {
      "displayName": "Kyungmi Lee",
      "photoUrl": "https://lh3.googleusercontent.com/a/default-user=s64",
      "userId": "14076883295874579202"
     },
     "user_tz": -540
    },
    "id": "pKc9jmjcxp24",
    "outputId": "bd255c1f-4646-465c-94ac-288122d084dc"
   },
   "outputs": [],
   "source": [
    "# 테스트 데이터셋의 0번째 샘플에 대한 46개 토픽에 대한 예측확률값\n",
    "\n"
   ]
  },
  {
   "cell_type": "code",
   "execution_count": null,
   "metadata": {
    "colab": {
     "base_uri": "https://localhost:8080/"
    },
    "executionInfo": {
     "elapsed": 7,
     "status": "ok",
     "timestamp": 1644985635162,
     "user": {
      "displayName": "Kyungmi Lee",
      "photoUrl": "https://lh3.googleusercontent.com/a/default-user=s64",
      "userId": "14076883295874579202"
     },
     "user_tz": -540
    },
    "id": "OHkhPOybyGVO",
    "outputId": "21b06358-14bb-4755-ac0b-ef420da01b4b"
   },
   "outputs": [],
   "source": [
    "# 테스트 데이터셋의 0번째 샘플에 대한 46개 토픽에 대한 예측확률값 중 최대값\n"
   ]
  },
  {
   "cell_type": "code",
   "execution_count": null,
   "metadata": {
    "colab": {
     "base_uri": "https://localhost:8080/"
    },
    "executionInfo": {
     "elapsed": 284,
     "status": "ok",
     "timestamp": 1644985552385,
     "user": {
      "displayName": "Kyungmi Lee",
      "photoUrl": "https://lh3.googleusercontent.com/a/default-user=s64",
      "userId": "14076883295874579202"
     },
     "user_tz": -540
    },
    "id": "SKZZx3SUxzVf",
    "outputId": "4b46a101-f62a-4205-fb1b-9bf43ccaa3c2"
   },
   "outputs": [],
   "source": [
    "# 테스트 데이터셋의 0번째 샘플에 대한 예측값\n"
   ]
  },
  {
   "cell_type": "code",
   "execution_count": null,
   "metadata": {
    "colab": {
     "base_uri": "https://localhost:8080/"
    },
    "executionInfo": {
     "elapsed": 266,
     "status": "ok",
     "timestamp": 1644985840910,
     "user": {
      "displayName": "Kyungmi Lee",
      "photoUrl": "https://lh3.googleusercontent.com/a/default-user=s64",
      "userId": "14076883295874579202"
     },
     "user_tz": -540
    },
    "id": "cgE2TtMsygMY",
    "outputId": "064d4b82-f1c9-4c50-96d6-d549797565be"
   },
   "outputs": [],
   "source": [
    "# 테스트 데이터셋의 0번째 샘플에 대한 실제 레이블\n"
   ]
  },
  {
   "cell_type": "markdown",
   "metadata": {
    "id": "MykMwLUEzUv5"
   },
   "source": [
    "### 레이블과 손실을 다루는 다른 방법\n",
    "\n",
    "- 레이블 인코딩을 정수 텐서로 변환하여 사용할 경우 모델을 훈련할 때 loss를 'sparse_categirical_crossentropy'를 사용하면 됨"
   ]
  },
  {
   "cell_type": "code",
   "execution_count": null,
   "metadata": {
    "colab": {
     "base_uri": "https://localhost:8080/"
    },
    "executionInfo": {
     "elapsed": 21177,
     "status": "ok",
     "timestamp": 1644986608585,
     "user": {
      "displayName": "Kyungmi Lee",
      "photoUrl": "https://lh3.googleusercontent.com/a/default-user=s64",
      "userId": "14076883295874579202"
     },
     "user_tz": -540
    },
    "id": "2tJ6bHeDz1xJ",
    "outputId": "7799a5dd-9863-4b0a-b3d4-35a8741e3987"
   },
   "outputs": [],
   "source": [
    "# 레이블을 정수 텐서로 변환\n",
    "\n"
   ]
  },
  {
   "cell_type": "code",
   "execution_count": null,
   "metadata": {},
   "outputs": [],
   "source": []
  },
  {
   "cell_type": "code",
   "execution_count": null,
   "metadata": {},
   "outputs": [],
   "source": []
  },
  {
   "cell_type": "code",
   "execution_count": null,
   "metadata": {
    "colab": {
     "base_uri": "https://localhost:8080/"
    },
    "executionInfo": {
     "elapsed": 436,
     "status": "ok",
     "timestamp": 1644987118866,
     "user": {
      "displayName": "Kyungmi Lee",
      "photoUrl": "https://lh3.googleusercontent.com/a/default-user=s64",
      "userId": "14076883295874579202"
     },
     "user_tz": -540
    },
    "id": "SgSWoJ_L16J1",
    "outputId": "d6273652-0019-42f2-d8db-77bdcf71dcdb"
   },
   "outputs": [],
   "source": []
  },
  {
   "cell_type": "code",
   "execution_count": null,
   "metadata": {
    "colab": {
     "base_uri": "https://localhost:8080/"
    },
    "executionInfo": {
     "elapsed": 298,
     "status": "ok",
     "timestamp": 1644987181971,
     "user": {
      "displayName": "Kyungmi Lee",
      "photoUrl": "https://lh3.googleusercontent.com/a/default-user=s64",
      "userId": "14076883295874579202"
     },
     "user_tz": -540
    },
    "id": "2YLfN4v_2PAq",
    "outputId": "c18e8932-dbf0-42c1-919f-2fc4022dd17a"
   },
   "outputs": [],
   "source": []
  },
  {
   "cell_type": "markdown",
   "metadata": {
    "id": "3Vmk2wxKBMx2"
   },
   "source": [
    "### 충분히 큰 중간층 사용 : 정보의 병목(bottleneck) 방지\n",
    "\n",
    "1. 병목이 있는 모델: 중간층의 히든 유닛을 46개 보다 적개 구성한 경우"
   ]
  },
  {
   "cell_type": "code",
   "execution_count": null,
   "metadata": {
    "colab": {
     "base_uri": "https://localhost:8080/"
    },
    "executionInfo": {
     "elapsed": 14306,
     "status": "ok",
     "timestamp": 1644987595065,
     "user": {
      "displayName": "Kyungmi Lee",
      "photoUrl": "https://lh3.googleusercontent.com/a/default-user=s64",
      "userId": "14076883295874579202"
     },
     "user_tz": -540
    },
    "id": "fLBBmCbc_FVD",
    "outputId": "d47611b5-84da-4d66-c431-d6dd32244ab2"
   },
   "outputs": [],
   "source": []
  },
  {
   "cell_type": "code",
   "execution_count": null,
   "metadata": {},
   "outputs": [],
   "source": []
  },
  {
   "cell_type": "code",
   "execution_count": null,
   "metadata": {},
   "outputs": [],
   "source": []
  },
  {
   "cell_type": "code",
   "execution_count": null,
   "metadata": {
    "colab": {
     "base_uri": "https://localhost:8080/"
    },
    "executionInfo": {
     "elapsed": 1139,
     "status": "ok",
     "timestamp": 1644987967551,
     "user": {
      "displayName": "Kyungmi Lee",
      "photoUrl": "https://lh3.googleusercontent.com/a/default-user=s64",
      "userId": "14076883295874579202"
     },
     "user_tz": -540
    },
    "id": "0eqOMYBS61Zh",
    "outputId": "4a357b4b-c906-4a15-984f-6ac2e3b8fe66"
   },
   "outputs": [],
   "source": []
  },
  {
   "cell_type": "code",
   "execution_count": null,
   "metadata": {
    "colab": {
     "base_uri": "https://localhost:8080/"
    },
    "executionInfo": {
     "elapsed": 4,
     "status": "ok",
     "timestamp": 1644987978188,
     "user": {
      "displayName": "Kyungmi Lee",
      "photoUrl": "https://lh3.googleusercontent.com/a/default-user=s64",
      "userId": "14076883295874579202"
     },
     "user_tz": -540
    },
    "id": "zuKYg0Al63ra",
    "outputId": "ba731501-c858-40e4-9bbb-dce4717099a5"
   },
   "outputs": [],
   "source": []
  },
  {
   "cell_type": "markdown",
   "metadata": {
    "id": "zm3-U9VtA1S8"
   },
   "source": [
    "## [연습]\n",
    "1. 더 크거나 작은 층을 사용하여 모델 훈련하고 검증과 테스트 정확도 비교해보기\n",
    "  - 32개 유닛, 64개 유닛 등\n",
    "\n",
    "2. 은닉층을 1개 또는 3개로 사용하여 비교해보기 "
   ]
  },
  {
   "cell_type": "markdown",
   "metadata": {
    "id": "nEfJ37azBOw9"
   },
   "source": [
    "## [정리]\n",
    "\n",
    "- N개 클래스로 분류하는 경우 네트워크의 마지막 Dense 층의 크기는 N이어야 함\n",
    "\n",
    "- 단일레이블, 다중 분류 문제에서는 N개의 클래스에 대한 확률 분포를 출력하기 위해 softmax 활성화함수를 사용함\n",
    "\n",
    "- 단일레이블, 다중 분류 문제에서 손실함수는 항상 범주형 crossentropy를 사용해야 함\n",
    "\n",
    "- 다중 분류에서 레이블을 다루는 방법\n",
    "  1. 레이블을 범주형 인코딩(또는 원핫인코딩)을 사용하고, categorical_crossentropy 손실함수를 사용\n",
    "  2. 레이블을 정수로 인코딩하고, sparse_categorical_crossentropy 손실함수를 사용\n",
    "\n",
    "- 많은 수의 범주를 분류할 때 중간층의 크기가 너무 작아 네트워크에 정보의 병목이 생기지 않도록 해야 함"
   ]
  }
 ],
 "metadata": {
  "colab": {
   "authorship_tag": "ABX9TyPJXPlZtRY6QZVUasSmBKtm",
   "collapsed_sections": [
    "6KGBTr17PVvA",
    "Q78SD4jeVOZa",
    "TnKHWdh6-3G6",
    "MykMwLUEzUv5"
   ],
   "name": "1_03_신경망_분류문제2_뉴스기사분류.ipynb",
   "provenance": [
    {
     "file_id": "1INbz6oBRXUmNFoIa6o7QY1mLQJ-pEFil",
     "timestamp": 1644979532198
    }
   ]
  },
  "kernelspec": {
   "display_name": "Python 3 (ipykernel)",
   "language": "python",
   "name": "python3"
  },
  "language_info": {
   "codemirror_mode": {
    "name": "ipython",
    "version": 3
   },
   "file_extension": ".py",
   "mimetype": "text/x-python",
   "name": "python",
   "nbconvert_exporter": "python",
   "pygments_lexer": "ipython3",
   "version": "3.11.8"
  }
 },
 "nbformat": 4,
 "nbformat_minor": 4
}
