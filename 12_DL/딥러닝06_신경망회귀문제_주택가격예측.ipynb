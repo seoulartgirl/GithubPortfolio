{
 "cells": [
  {
   "cell_type": "code",
   "execution_count": 3,
   "metadata": {},
   "outputs": [],
   "source": [
    "import numpy as np\n",
    "import matplotlib.pyplot as plt\n",
    "from tensorflow import keras"
   ]
  },
  {
   "cell_type": "code",
   "execution_count": 2,
   "metadata": {},
   "outputs": [
    {
     "data": {
      "text/plain": [
       "'2.16.1'"
      ]
     },
     "execution_count": 2,
     "metadata": {},
     "output_type": "execute_result"
    }
   ],
   "source": [
    "import tensorflow as tf\n",
    "tf.__version__"
   ]
  },
  {
   "cell_type": "markdown",
   "metadata": {
    "id": "QHOcHxYJGoR4"
   },
   "source": [
    "## 신경망을 이용한 예측 : 회귀문제"
   ]
  },
  {
   "cell_type": "markdown",
   "metadata": {
    "id": "QHOcHxYJGoR4"
   },
   "source": [
    "### 주택 가격 예측\n",
    "\n",
    "- 1970년 중반 보스턴 주택 가격 데이터셋\n",
    "- 데이터 506개: 훈련 샘플-404개, 테스트 샘플-102개\n",
    "- 14개 변수\n",
    "  - CRIM : 자치시(town) 별 1인당 범죄율\n",
    "  - ZN : 25,000 평방피트를 초과하는 거주지역의 비율\n",
    "  - INDUS : 비소매상업지역이 점유하고 있는 토지의 비율\n",
    "  - CHAS : 찰스강에 대한 더미변수(강의 경계에 위치한 경우는 1, 아니면 0)\n",
    "  - NOX : 10ppm 당 농축 일산화질소\n",
    "  - RM :  주택 1가구당 평균 방의 개수\n",
    "  - AGE : 1940년 이전에 건축된 소유주택의 비율\n",
    "  - DIS : 5개의 보스턴 직업센터까지의 접근성 지수\n",
    "  - RAD : 방사형 도로까지의 접근성 지수\n",
    "  - TAX : 10,000 달러 당 재산세율\n",
    "  - PTRATIO : 자치시(town)별 학생/교사 비율\n",
    "  - B : 1000(Bk-0.63)^2, 여기서 Bk는 자치시별 흑인의 비율을 말함\n",
    "  - LSTAT : 모집단의 하위계층의 비율(%)\n",
    "  - MEDV : 본인 소유의 주택가격(중앙값) (단위: $1,000)"
   ]
  },
  {
   "cell_type": "markdown",
   "metadata": {
    "id": "UAlCCMvHHbyM"
   },
   "source": [
    "### 데이터 로드"
   ]
  },
  {
   "cell_type": "code",
   "execution_count": 4,
   "metadata": {
    "id": "EnQVJt-TMYeJ"
   },
   "outputs": [],
   "source": [
    "from keras.datasets import boston_housing"
   ]
  },
  {
   "cell_type": "code",
   "execution_count": 5,
   "metadata": {
    "colab": {
     "base_uri": "https://localhost:8080/"
    },
    "executionInfo": {
     "elapsed": 274,
     "status": "ok",
     "timestamp": 1644991741052,
     "user": {
      "displayName": "Kyungmi Lee",
      "photoUrl": "https://lh3.googleusercontent.com/a/default-user=s64",
      "userId": "14076883295874579202"
     },
     "user_tz": -540
    },
    "id": "vCXxE_OAHbIB",
    "outputId": "6ba15a58-e03a-4157-8fc3-c45c518c66ac"
   },
   "outputs": [
    {
     "name": "stdout",
     "output_type": "stream",
     "text": [
      "Downloading data from https://storage.googleapis.com/tensorflow/tf-keras-datasets/boston_housing.npz\n",
      "\u001b[1m57026/57026\u001b[0m \u001b[32m━━━━━━━━━━━━━━━━━━━━\u001b[0m\u001b[37m\u001b[0m \u001b[1m0s\u001b[0m 0us/step\n"
     ]
    }
   ],
   "source": [
    "(train_data, train_targets), (test_data, test_targets) = boston_housing.load_data()"
   ]
  },
  {
   "cell_type": "code",
   "execution_count": 6,
   "metadata": {
    "colab": {
     "base_uri": "https://localhost:8080/"
    },
    "executionInfo": {
     "elapsed": 273,
     "status": "ok",
     "timestamp": 1644991754581,
     "user": {
      "displayName": "Kyungmi Lee",
      "photoUrl": "https://lh3.googleusercontent.com/a/default-user=s64",
      "userId": "14076883295874579202"
     },
     "user_tz": -540
    },
    "id": "AA_lnKchcV8v",
    "outputId": "fdd42cbc-c454-445e-c9ba-676235b5646c"
   },
   "outputs": [
    {
     "data": {
      "text/plain": [
       "((404, 13), (102, 13))"
      ]
     },
     "execution_count": 6,
     "metadata": {},
     "output_type": "execute_result"
    }
   ],
   "source": [
    "train_data.shape, test_data.shape"
   ]
  },
  {
   "cell_type": "code",
   "execution_count": 7,
   "metadata": {
    "colab": {
     "base_uri": "https://localhost:8080/"
    },
    "executionInfo": {
     "elapsed": 3,
     "status": "ok",
     "timestamp": 1644992941622,
     "user": {
      "displayName": "Kyungmi Lee",
      "photoUrl": "https://lh3.googleusercontent.com/a/default-user=s64",
      "userId": "14076883295874579202"
     },
     "user_tz": -540
    },
    "id": "_As4es34cZLH",
    "outputId": "f37d0c0c-42dc-48e6-f6e9-cc7d3d33afa7"
   },
   "outputs": [
    {
     "data": {
      "text/plain": [
       "dtype('float64')"
      ]
     },
     "execution_count": 7,
     "metadata": {},
     "output_type": "execute_result"
    }
   ],
   "source": [
    "train_data[0].dtype"
   ]
  },
  {
   "cell_type": "code",
   "execution_count": 8,
   "metadata": {
    "colab": {
     "base_uri": "https://localhost:8080/"
    },
    "executionInfo": {
     "elapsed": 271,
     "status": "ok",
     "timestamp": 1644992950039,
     "user": {
      "displayName": "Kyungmi Lee",
      "photoUrl": "https://lh3.googleusercontent.com/a/default-user=s64",
      "userId": "14076883295874579202"
     },
     "user_tz": -540
    },
    "id": "-bomzAdvIbOi",
    "outputId": "0786061f-638d-4eb5-908a-0222c2484f54"
   },
   "outputs": [
    {
     "data": {
      "text/plain": [
       "array([  1.23247,   0.     ,   8.14   ,   0.     ,   0.538  ,   6.142  ,\n",
       "        91.7    ,   3.9769 ,   4.     , 307.     ,  21.     , 396.9    ,\n",
       "        18.72   ])"
      ]
     },
     "execution_count": 8,
     "metadata": {},
     "output_type": "execute_result"
    }
   ],
   "source": [
    "train_data[0]"
   ]
  },
  {
   "cell_type": "code",
   "execution_count": 10,
   "metadata": {},
   "outputs": [
    {
     "data": {
      "text/plain": [
       "404"
      ]
     },
     "execution_count": 10,
     "metadata": {},
     "output_type": "execute_result"
    }
   ],
   "source": [
    "len(train_targets) #404개"
   ]
  },
  {
   "cell_type": "code",
   "execution_count": 11,
   "metadata": {},
   "outputs": [
    {
     "data": {
      "text/plain": [
       "array([15.2, 42.3, 50. , 21.1, 17.7, 18.5, 11.3, 15.6, 15.6, 14.4])"
      ]
     },
     "execution_count": 11,
     "metadata": {},
     "output_type": "execute_result"
    }
   ],
   "source": [
    "train_targets[:10]"
   ]
  },
  {
   "cell_type": "code",
   "execution_count": 12,
   "metadata": {},
   "outputs": [
    {
     "data": {
      "text/plain": [
       "(5.0, 50.0)"
      ]
     },
     "execution_count": 12,
     "metadata": {},
     "output_type": "execute_result"
    }
   ],
   "source": [
    "np.min(train_targets), np.max(train_targets)"
   ]
  },
  {
   "cell_type": "markdown",
   "metadata": {},
   "source": [
    "=> 주택가격 (targets) : 천달러 단위"
   ]
  },
  {
   "cell_type": "markdown",
   "metadata": {
    "id": "0ApYRmt5NQoE"
   },
   "source": [
    "### 데이터 준비\n",
    "\n",
    "- 데이터 표준화\n",
    "  - 상이한 스케일을 가진 값을 신경망에 주입하면 문제가 발생\n",
    "  - 입력 데이터에 있는 각 특성을 평균은 0, 표준편차 1이 되도록 표준화함"
   ]
  },
  {
   "cell_type": "code",
   "execution_count": 13,
   "metadata": {
    "colab": {
     "base_uri": "https://localhost:8080/"
    },
    "executionInfo": {
     "elapsed": 9,
     "status": "ok",
     "timestamp": 1644994149075,
     "user": {
      "displayName": "Kyungmi Lee",
      "photoUrl": "https://lh3.googleusercontent.com/a/default-user=s64",
      "userId": "14076883295874579202"
     },
     "user_tz": -540
    },
    "id": "z-5j1eloSo1C",
    "outputId": "abf07fb1-ba44-4b42-9fc4-34928ead363e"
   },
   "outputs": [
    {
     "data": {
      "text/plain": [
       "array([3.74511057e+00, 1.14801980e+01, 1.11044307e+01, 6.18811881e-02,\n",
       "       5.57355941e-01, 6.26708168e+00, 6.90106436e+01, 3.74027079e+00,\n",
       "       9.44059406e+00, 4.05898515e+02, 1.84759901e+01, 3.54783168e+02,\n",
       "       1.27408168e+01])"
      ]
     },
     "execution_count": 13,
     "metadata": {},
     "output_type": "execute_result"
    }
   ],
   "source": [
    "train_data.mean(axis=0)"
   ]
  },
  {
   "cell_type": "code",
   "execution_count": 14,
   "metadata": {
    "colab": {
     "base_uri": "https://localhost:8080/"
    },
    "executionInfo": {
     "elapsed": 295,
     "status": "ok",
     "timestamp": 1644994165705,
     "user": {
      "displayName": "Kyungmi Lee",
      "photoUrl": "https://lh3.googleusercontent.com/a/default-user=s64",
      "userId": "14076883295874579202"
     },
     "user_tz": -540
    },
    "id": "90u_Fa_vStnv",
    "outputId": "8a08850d-2e29-40e6-e2b9-7a180f274ba3"
   },
   "outputs": [
    {
     "data": {
      "text/plain": [
       "array([9.22929073e+00, 2.37382770e+01, 6.80287253e+00, 2.40939633e-01,\n",
       "       1.17147847e-01, 7.08908627e-01, 2.79060634e+01, 2.02770050e+00,\n",
       "       8.68758849e+00, 1.66168506e+02, 2.19765689e+00, 9.39946015e+01,\n",
       "       7.24556085e+00])"
      ]
     },
     "execution_count": 14,
     "metadata": {},
     "output_type": "execute_result"
    }
   ],
   "source": [
    "train_data.std(axis=0)"
   ]
  },
  {
   "cell_type": "code",
   "execution_count": 15,
   "metadata": {},
   "outputs": [],
   "source": [
    "#데이터 표준화 (평균=0, 표준편차=1)\n",
    "mean = train_data.mean(axis=0)\n",
    "std = train_data.std(axis=0)\n",
    "\n",
    "train_data -= mean\n",
    "train_data /= std\n",
    "test_data -= mean\n",
    "test_data /= std"
   ]
  },
  {
   "cell_type": "code",
   "execution_count": 16,
   "metadata": {
    "colab": {
     "base_uri": "https://localhost:8080/"
    },
    "executionInfo": {
     "elapsed": 5,
     "status": "ok",
     "timestamp": 1644994281371,
     "user": {
      "displayName": "Kyungmi Lee",
      "photoUrl": "https://lh3.googleusercontent.com/a/default-user=s64",
      "userId": "14076883295874579202"
     },
     "user_tz": -540
    },
    "id": "Rc8LxrJ_S4yt",
    "outputId": "75a33724-18cd-4370-de71-dd6ea26983a8"
   },
   "outputs": [
    {
     "data": {
      "text/plain": [
       "array([-1.01541438e-16,  1.09923072e-17,  1.74337992e-15, -1.26686340e-16,\n",
       "       -5.25377321e-15,  6.41414864e-15,  2.98441140e-16,  4.94653823e-16,\n",
       "        1.12671149e-17, -1.98136337e-16,  2.36686358e-14,  5.95679996e-15,\n",
       "        6.13920356e-16])"
      ]
     },
     "execution_count": 16,
     "metadata": {},
     "output_type": "execute_result"
    }
   ],
   "source": [
    "train_data.mean(axis=0)"
   ]
  },
  {
   "cell_type": "code",
   "execution_count": 17,
   "metadata": {
    "colab": {
     "base_uri": "https://localhost:8080/"
    },
    "executionInfo": {
     "elapsed": 257,
     "status": "ok",
     "timestamp": 1644994297070,
     "user": {
      "displayName": "Kyungmi Lee",
      "photoUrl": "https://lh3.googleusercontent.com/a/default-user=s64",
      "userId": "14076883295874579202"
     },
     "user_tz": -540
    },
    "id": "uMq3p6WFTNfZ",
    "outputId": "dad1d2d5-f7dc-43ae-86d1-90903827f849"
   },
   "outputs": [
    {
     "data": {
      "text/plain": [
       "array([1., 1., 1., 1., 1., 1., 1., 1., 1., 1., 1., 1., 1.])"
      ]
     },
     "execution_count": 17,
     "metadata": {},
     "output_type": "execute_result"
    }
   ],
   "source": [
    "train_data.std(axis=0)"
   ]
  },
  {
   "cell_type": "markdown",
   "metadata": {
    "id": "6KGBTr17PVvA"
   },
   "source": [
    "### 1) 신경망 모델 정의 및 컴파일"
   ]
  },
  {
   "cell_type": "markdown",
   "metadata": {
    "id": "JeBM3Ar3pdaD"
   },
   "source": [
    "- 샘플 개수가 적으므로 64개 유닛을 가진 2개의 은닉층으로 네트워크 구성\n",
    "\n",
    "\n",
    "- 모델 정의 및 컴파일을 위한 함수 생성 build_model()"
   ]
  },
  {
   "cell_type": "code",
   "execution_count": 19,
   "metadata": {
    "id": "13nPvnlyPStv"
   },
   "outputs": [],
   "source": [
    "from keras import models, layers\n",
    "\n",
    "def build_housing_model():\n",
    "    model = keras.Sequential([\n",
    "        layers.Dense(64, activation='relu'),\n",
    "        layers.Dense(64, activation='relu'),\n",
    "        layers.Dense(1)])\n",
    "    model.compile(optimizer='rmsprop', loss='mse', metrics=['mae'])\n",
    "    return model"
   ]
  },
  {
   "cell_type": "markdown",
   "metadata": {
    "id": "WapcthhIggeZ"
   },
   "source": [
    "### 2) 모델 훈련 및 검증\n",
    "\n",
    "**K-fold cross-validation을 사용**"
   ]
  },
  {
   "cell_type": "code",
   "execution_count": 23,
   "metadata": {
    "colab": {
     "base_uri": "https://localhost:8080/"
    },
    "executionInfo": {
     "elapsed": 288,
     "status": "ok",
     "timestamp": 1645000230881,
     "user": {
      "displayName": "Kyungmi Lee",
      "photoUrl": "https://lh3.googleusercontent.com/a/default-user=s64",
      "userId": "14076883295874579202"
     },
     "user_tz": -540
    },
    "id": "3h4_HXO8p2qc",
    "outputId": "cd0bb7e0-dc09-4cf5-e196-d3147eb99012"
   },
   "outputs": [
    {
     "name": "stdout",
     "output_type": "stream",
     "text": [
      "\u001b[1m4/4\u001b[0m \u001b[32m━━━━━━━━━━━━━━━━━━━━\u001b[0m\u001b[37m\u001b[0m \u001b[1m0s\u001b[0m 847us/step - loss: 6.8184 - mae: 1.8053\n",
      "\u001b[1m4/4\u001b[0m \u001b[32m━━━━━━━━━━━━━━━━━━━━\u001b[0m\u001b[37m\u001b[0m \u001b[1m0s\u001b[0m 837us/step - loss: 11.5362 - mae: 2.6639\n",
      "\u001b[1m4/4\u001b[0m \u001b[32m━━━━━━━━━━━━━━━━━━━━\u001b[0m\u001b[37m\u001b[0m \u001b[1m0s\u001b[0m 849us/step - loss: 12.5530 - mae: 2.4585\n",
      "\u001b[1m4/4\u001b[0m \u001b[32m━━━━━━━━━━━━━━━━━━━━\u001b[0m\u001b[37m\u001b[0m \u001b[1m0s\u001b[0m 838us/step - loss: 12.8460 - mae: 2.4518\n"
     ]
    }
   ],
   "source": [
    "k = 4\n",
    "n_val_samples = len(train_data) // k\n",
    "n_epochs = 100\n",
    "all_scores = []\n",
    "for i in range(k):\n",
    "    val_X = train_data[i * n_val_samples : (i+1) * n_val_samples]\n",
    "    val_y = train_targets[i * n_val_samples : (i+1) * n_val_samples]\n",
    "    part_train_x = np.concatenate([train_data[:i * n_val_samples],\n",
    "                                      train_data[(i+1) * n_val_samples:]], axis=0)\n",
    "    part_train_y = np.concatenate([train_targets[:i * n_val_samples],\n",
    "                                      train_targets[(i+1) * n_val_samples:]], axis=0)\n",
    "    model = build_housing_model()\n",
    "    model.fit(part_train_x, part_train_y, epochs=n_epochs, batch_size=16, verbose=0)\n",
    "    val_mse, val_mae = model.evaluate(val_X, val_y)\n",
    "    all_scores.append(val_mae)"
   ]
  },
  {
   "cell_type": "code",
   "execution_count": 24,
   "metadata": {},
   "outputs": [
    {
     "data": {
      "text/plain": [
       "[1.8876049518585205, 2.5959231853485107, 2.4599521160125732, 2.308755397796631]"
      ]
     },
     "execution_count": 24,
     "metadata": {},
     "output_type": "execute_result"
    }
   ],
   "source": [
    "all_scores #1887달러 (1이 1000달러)"
   ]
  },
  {
   "cell_type": "code",
   "execution_count": 25,
   "metadata": {
    "colab": {
     "base_uri": "https://localhost:8080/"
    },
    "executionInfo": {
     "elapsed": 3,
     "status": "ok",
     "timestamp": 1645000251357,
     "user": {
      "displayName": "Kyungmi Lee",
      "photoUrl": "https://lh3.googleusercontent.com/a/default-user=s64",
      "userId": "14076883295874579202"
     },
     "user_tz": -540
    },
    "id": "HTBnY33ap6fZ",
    "outputId": "d5342cb6-da0a-48d2-fc58-4b9190944987"
   },
   "outputs": [
    {
     "name": "stdout",
     "output_type": "stream",
     "text": [
      "평균 MAE: 2.3131\n"
     ]
    }
   ],
   "source": [
    "print(f'평균 MAE: {np.mean(all_scores):.4f}') #2,313달러"
   ]
  },
  {
   "cell_type": "markdown",
   "metadata": {
    "id": "Q78SD4jeVOZa"
   },
   "source": [
    "- 각 폴드에서 검증 점수를 로그에 저장하기\n",
    "\n",
    "  - epochs를 500으로 하여 다시 훈련하여 검증"
   ]
  },
  {
   "cell_type": "code",
   "execution_count": 27,
   "metadata": {},
   "outputs": [],
   "source": [
    "n_epochs = 500\n",
    "all_scores = []\n",
    "for i in range(k):\n",
    "    val_X = train_data[i * n_val_samples : (i+1) * n_val_samples]\n",
    "    val_y = train_targets[i * n_val_samples : (i+1) * n_val_samples]\n",
    "    part_train_x = np.concatenate([train_data[:i * n_val_samples],\n",
    "                                      train_data[(i+1) * n_val_samples:]], axis=0)\n",
    "    part_train_y = np.concatenate([train_targets[:i * n_val_samples],\n",
    "                                      train_targets[(i+1) * n_val_samples:]], axis=0)\n",
    "    model = build_housing_model()\n",
    "    history = model.fit(part_train_x, part_train_y, \n",
    "              validation_data=(val_X, val_y),\n",
    "              epochs=n_epochs, batch_size=16, verbose=0)\n",
    "    all_scores.append(history.history['val_mae'])"
   ]
  },
  {
   "cell_type": "code",
   "execution_count": 31,
   "metadata": {},
   "outputs": [
    {
     "data": {
      "text/plain": [
       "(4, 500)"
      ]
     },
     "execution_count": 31,
     "metadata": {},
     "output_type": "execute_result"
    }
   ],
   "source": [
    "len(all_scores), len(all_scores[0]) #500개씩 4번이 들어가있는 것"
   ]
  },
  {
   "cell_type": "markdown",
   "metadata": {
    "id": "RznxVENQWWOJ"
   },
   "source": [
    "### 3) 모델 성능 시각화"
   ]
  },
  {
   "cell_type": "markdown",
   "metadata": {
    "id": "RznxVENQWWOJ"
   },
   "source": [
    "- 마지막 폴드에 대한 (k=3 교차 검증) 성능 시각화"
   ]
  },
  {
   "cell_type": "code",
   "execution_count": 38,
   "metadata": {},
   "outputs": [],
   "source": [
    "def draw_metric_plot(history):\n",
    "    loss = ['loss', 'val_loss']\n",
    "    mae = ['mae', 'val_mae']\n",
    "    title = ['Loss', 'MAE']\n",
    "    plt.figure(figsize=(10,5))\n",
    "    for i, item in enumerate([loss, mae]):\n",
    "        n = len(history.history[item[0]])\n",
    "        plt.subplot(1,2,i+1)\n",
    "        plt.plot(history.history[item[0]], label='train')\n",
    "        plt.plot(history.history[item[1]], label='validation')\n",
    "        plt.xlabel('epoch')\n",
    "        plt.ylabel(title[i])\n",
    "        plt.title(title[i] + ' plot')\n",
    "        plt.legend()\n",
    "    plt.show()"
   ]
  },
  {
   "cell_type": "code",
   "execution_count": 39,
   "metadata": {},
   "outputs": [
    {
     "data": {
      "image/png": "[encoded data removed]",
      "text/plain": [
       "<Figure size 1000x500 with 2 Axes>"
      ]
     },
     "metadata": {},
     "output_type": "display_data"
    }
   ],
   "source": [
    "draw_metric_plot(history)"
   ]
  },
  {
   "cell_type": "markdown",
   "metadata": {
    "id": "RznxVENQWWOJ"
   },
   "source": [
    "- 모든 폴드에 대해 에포크별 MAE 평균점수"
   ]
  },
  {
   "cell_type": "code",
   "execution_count": 41,
   "metadata": {},
   "outputs": [
    {
     "name": "stdout",
     "output_type": "stream",
     "text": [
      "500\n",
      "[17.83032989501953, 13.649746894836426, 9.091383934020996, 5.774437427520752, 4.273107051849365, 3.5048413276672363, 3.164862632751465, 3.0482990741729736, 2.945321559906006, 2.8745741844177246, 2.8479228019714355, 2.7050793170928955, 2.6520228385925293, 2.5986385345458984, 2.637235641479492, 2.44779372215271, 2.383551597595215, 2.421257972717285, 2.286271095275879, 2.34796404838562, 2.2901294231414795, 2.4262731075286865, 2.1851489543914795, 2.3321430683135986, 2.208169937133789, 2.2118136882781982, 2.143657922744751, 2.1151041984558105, 2.078803062438965, 2.127777099609375, 2.066761016845703, 2.1224207878112793, 2.0592434406280518, 2.2973122596740723, 2.189434051513672, 2.105231761932373, 2.081386089324951, 2.1211142539978027, 2.097522497177124, 2.0647783279418945, 2.063530683517456, 2.0316591262817383, 1.9784189462661743, 2.132251739501953, 2.0339019298553467, 2.11244797706604, 1.941090703010559, 2.0215349197387695, 1.9766417741775513, 2.0482659339904785, 1.9665734767913818, 2.0808932781219482, 1.9772416353225708, 2.0781567096710205, 1.9641761779785156, 2.073089599609375, 1.9659405946731567, 2.0344412326812744, 2.1560745239257812, 2.068844795227051, 2.0682997703552246, 2.0025577545166016, 2.170903444290161, 2.0009925365448, 2.076800584793091, 1.936824083328247, 2.1629154682159424, 2.103317975997925, 2.140002489089966, 2.0397720336914062, 2.027763605117798, 1.9274998903274536, 2.0806572437286377, 2.2420265674591064, 2.0364086627960205, 2.140557050704956, 2.050208330154419, 1.983330488204956, 2.003129482269287, 2.013888359069824, 2.0135326385498047, 2.072747230529785, 1.9572055339813232, 2.0189571380615234, 2.2068779468536377, 1.9440791606903076, 2.094409465789795, 1.975709319114685, 1.9746121168136597, 2.030865430831909, 2.0472893714904785, 2.04526686668396, 1.9224437475204468, 2.0066757202148438, 2.365029811859131, 1.9447559118270874, 1.9702887535095215, 2.2132785320281982, 2.0387909412384033, 1.9812124967575073, 1.9447855949401855, 2.136702060699463, 2.0113301277160645, 2.0151314735412598, 1.9833475351333618, 1.9843257665634155, 1.9974637031555176, 2.261979579925537, 2.0842700004577637, 2.6259701251983643, 2.181943416595459, 2.1154258251190186, 2.0726799964904785, 2.1173765659332275, 1.99154794216156, 2.0433714389801025, 2.1115002632141113, 2.0210087299346924, 2.1126790046691895, 2.0749034881591797, 2.0418896675109863, 2.0106537342071533, 1.974363088607788, 2.067734718322754, 2.0988786220550537, 2.000164270401001, 1.9993493556976318, 2.118177890777588, 2.030013084411621, 2.0632925033569336, 1.9979926347732544, 2.135634422302246, 2.1818783283233643, 2.072956085205078, 2.0546233654022217, 2.0740017890930176, 2.0238616466522217, 2.046151876449585, 2.0591180324554443, 2.2727952003479004, 2.198983669281006, 2.131561040878296, 2.0278983116149902, 2.1348774433135986, 2.261169672012329, 2.042296886444092, 2.1215150356292725, 2.0338101387023926, 2.1234240531921387, 2.115877628326416, 2.0977444648742676, 2.0122225284576416, 2.147876024246216, 2.2154853343963623, 2.049691915512085, 2.0449137687683105, 2.06695818901062, 2.104074478149414, 2.0420422554016113, 2.168294668197632, 2.049487352371216, 2.241589307785034, 2.1054770946502686, 2.202591896057129, 2.0423030853271484, 2.035709857940674, 2.0715651512145996, 2.059126853942871, 2.1236491203308105, 2.0363337993621826, 2.1092147827148438, 2.1206555366516113, 2.0065431594848633, 2.2190561294555664, 1.9981666803359985, 2.140702486038208, 2.2690653800964355, 2.0307681560516357, 2.119781732559204, 2.033362865447998, 2.1973788738250732, 2.215008020401001, 2.2977116107940674, 2.246213912963867, 2.1477136611938477, 2.0662686824798584, 2.2105460166931152, 2.1600182056427, 2.1020119190216064, 2.1384692192077637, 2.0961039066314697, 2.0762364864349365, 2.121140241622925, 2.0912535190582275, 2.150175094604492, 2.0536153316497803, 2.187485933303833, 2.2186472415924072, 2.096442699432373, 2.173693895339966, 2.1524338722229004, 2.182015895843506, 2.1572065353393555, 2.0568203926086426, 1.9988789558410645, 2.1580123901367188, 2.2767434120178223, 2.342745304107666, 2.2201149463653564, 2.4005982875823975, 2.1922755241394043, 2.057964563369751, 2.0919435024261475, 2.2003464698791504, 2.1429660320281982, 2.1103904247283936, 2.1508522033691406, 2.176056146621704, 2.1198477745056152, 1.9854291677474976, 2.1481683254241943, 2.241234540939331, 2.119476079940796, 2.1016576290130615, 2.0817575454711914, 2.2413759231567383, 2.076355218887329, 2.084350109100342, 2.311796188354492, 2.172396659851074, 2.14858341217041, 2.428494691848755, 2.0888044834136963, 2.0060336589813232, 2.2882771492004395, 2.0950639247894287, 2.0787131786346436, 2.0500338077545166, 2.102022647857666, 2.2416810989379883, 2.1474738121032715, 2.145998001098633, 2.1103978157043457, 2.277449607849121, 2.120110511779785, 2.2803890705108643, 2.1901893615722656, 2.092991590499878, 2.22652268409729, 2.1162221431732178, 2.086656093597412, 2.180529832839966, 2.4387059211730957, 2.13261342048645, 2.1385743618011475, 2.1137332916259766, 2.1321334838867188, 2.201382875442505, 2.2226955890655518, 2.1231021881103516, 2.078153133392334, 2.224207878112793, 2.0742316246032715, 2.133197069168091, 2.107693910598755, 2.090988874435425, 2.337103843688965, 2.2092723846435547, 2.1680939197540283, 2.1619224548339844, 2.2136871814727783, 2.225923538208008, 2.135648012161255, 2.1341702938079834, 2.1421639919281006, 2.098973274230957, 2.1480088233947754, 2.16573429107666, 2.1774675846099854, 2.1217048168182373, 2.112412452697754, 2.374232769012451, 2.240928888320923, 2.1340041160583496, 2.1449649333953857, 2.226044178009033, 2.199037790298462, 2.265397787094116, 2.310839891433716, 2.238964080810547, 2.1998541355133057, 2.2584235668182373, 2.08852219581604, 2.161616325378418, 2.247462749481201, 2.1566948890686035, 2.410475969314575, 2.11091685295105, 2.3123323917388916, 2.26511549949646, 2.26102352142334, 2.1111931800842285, 2.2387542724609375, 2.392993688583374, 2.095633029937744, 2.110483407974243, 2.1039376258850098, 2.1709938049316406, 2.1395299434661865, 2.219136953353882, 2.3054986000061035, 2.13044810295105, 2.38493275642395, 2.2041962146759033, 2.1609745025634766, 2.19986891746521, 2.3442203998565674, 2.2221426963806152, 2.2575154304504395, 2.1912529468536377, 2.205489158630371, 2.3885815143585205, 2.360013008117676, 2.198671817779541, 2.192626953125, 2.1899542808532715, 2.302290201187134, 2.183826446533203, 2.2531795501708984, 2.195045232772827, 2.2734339237213135, 2.1463751792907715, 2.24760365486145, 2.1986517906188965, 2.178730010986328, 2.341371536254883, 2.3682913780212402, 2.4160454273223877, 2.241431713104248, 2.3889105319976807, 2.2639153003692627, 2.250758647918701, 2.1509666442871094, 2.4018497467041016, 2.2032110691070557, 2.1292810440063477, 2.1905131340026855, 2.292659282684326, 2.2215263843536377, 2.257495641708374, 2.216691732406616, 2.25718355178833, 2.246689558029175, 2.3549201488494873, 2.2242467403411865, 2.18861722946167, 2.350543975830078, 2.2034964561462402, 2.381817579269409, 2.1702663898468018, 2.1744892597198486, 2.271850347518921, 2.1544904708862305, 2.190589427947998, 2.440095901489258, 2.1644909381866455, 2.217500925064087, 2.2501399517059326, 2.2209973335266113, 2.130047082901001, 2.3385753631591797, 2.4593234062194824, 2.267890214920044, 2.2468483448028564, 2.2112679481506348, 2.157559394836426, 2.2819199562072754, 2.2167203426361084, 2.2492146492004395, 2.2657835483551025, 2.324444055557251, 2.2964963912963867, 2.182978868484497, 2.2613229751586914, 2.201709508895874, 2.564465284347534, 2.4883532524108887, 2.1963820457458496, 2.440520763397217, 2.318660259246826, 2.5352389812469482, 2.238384246826172, 2.2655701637268066, 2.285163164138794, 2.219266414642334, 2.185002326965332, 2.3915247917175293, 2.435776710510254, 2.269712448120117, 2.4571967124938965, 2.356363534927368, 2.1566014289855957, 2.2119998931884766, 2.2451300621032715, 2.3003838062286377, 2.333561897277832, 2.3105804920196533, 2.240448236465454, 2.203559637069702, 2.3127501010894775, 2.2476272583007812, 2.1520133018493652, 2.193965435028076, 2.190768003463745, 2.441385507583618, 2.3323354721069336, 2.4627456665039062, 2.1719131469726562, 2.2379088401794434, 2.5050911903381348, 2.295516014099121, 2.266042947769165, 2.2866601943969727, 2.2686359882354736, 2.2554574012756348, 2.2220418453216553, 2.397765636444092, 2.1929283142089844, 2.3018805980682373, 2.222513437271118, 2.237092971801758, 2.2950170040130615, 2.214343786239624, 2.291721820831299, 2.1575489044189453, 2.264408826828003, 2.213588237762451, 2.325850486755371, 2.2310214042663574, 2.2832424640655518, 2.2184536457061768, 2.1992976665496826, 2.360541820526123, 2.2323949337005615, 2.159885883331299, 2.18502140045166, 2.3728866577148438, 2.310851573944092, 2.193443775177002, 2.1780624389648438, 2.481578826904297, 2.2615103721618652, 2.3635969161987305, 2.205951690673828, 2.223533868789673, 2.3132731914520264, 2.397798776626587, 2.265719175338745, 2.2940428256988525, 2.3096561431884766, 2.268846035003662, 2.391483783721924, 2.2422263622283936, 2.243885040283203, 2.547126293182373, 2.254326581954956, 2.5342750549316406, 2.286104679107666, 2.4098215103149414, 2.362159252166748, 2.492086172103882, 2.4324162006378174, 2.2066457271575928, 2.1643197536468506, 2.203716516494751, 2.224696159362793, 2.3548810482025146, 2.244751214981079, 2.4113047122955322, 2.229116439819336, 2.388092279434204, 2.254889965057373, 2.2545766830444336, 2.3096365928649902, 2.3525242805480957, 2.419388771057129, 2.4187982082366943, 2.2362682819366455, 2.252056837081909, 2.1477878093719482, 2.4066765308380127, 2.3977301120758057, 2.2463290691375732, 2.3094019889831543, 2.382291793823242, 2.187983989715576, 2.1744704246520996, 2.207388401031494, 2.299462080001831, 2.3045473098754883]\n",
      "500\n",
      "[18.02857780456543, 13.90279483795166, 9.765216827392578, 6.925418853759766, 5.482937812805176, 4.661258220672607, 4.061110019683838, 3.70855450630188, 3.4595887660980225, 3.2542338371276855, 3.203864336013794, 3.076951026916504, 2.9484379291534424, 3.059798240661621, 3.024095296859741, 2.8775644302368164, 2.8480403423309326, 3.1219685077667236, 2.7615349292755127, 2.782364845275879, 2.9120402336120605, 2.8453304767608643, 2.6811389923095703, 2.785076856613159, 2.760021448135376, 2.7659242153167725, 2.7484519481658936, 2.7755465507507324, 2.697979211807251, 2.687920570373535, 2.689800500869751, 2.7049810886383057, 2.6677310466766357, 2.7298762798309326, 2.75000262260437, 2.71947979927063, 2.6977505683898926, 2.6254372596740723, 2.579693555831909, 2.6821608543395996, 2.6897220611572266, 2.7686495780944824, 2.743468999862671, 2.6812405586242676, 2.7080137729644775, 2.6848764419555664, 2.6072134971618652, 2.781816005706787, 2.8020095825195312, 2.7486038208007812, 2.7591636180877686, 2.6560747623443604, 2.7128982543945312, 2.6278514862060547, 2.6318113803863525, 2.6928865909576416, 2.6366915702819824, 2.6690821647644043, 2.658850908279419, 2.621074676513672, 2.6466407775878906, 2.6779446601867676, 2.663541078567505, 2.638462781906128, 2.612966775894165, 2.7436320781707764, 2.683410882949829, 2.6059536933898926, 2.68801212310791, 2.615497350692749, 2.7638258934020996, 2.618304491043091, 2.5771336555480957, 2.632416009902954, 2.6923351287841797, 2.586836814880371, 2.592566967010498, 2.659114360809326, 2.6571648120880127, 2.584010601043701, 2.5457377433776855, 2.5985710620880127, 2.699949264526367, 2.680072784423828, 2.698918104171753, 2.6008219718933105, 2.6613848209381104, 2.52929949760437, 2.570749521255493, 2.563201904296875, 2.603458881378174, 2.6827120780944824, 2.7040960788726807, 2.5412752628326416, 2.513007402420044, 2.590465784072876, 2.6045525074005127, 2.522152900695801, 2.5675249099731445, 2.775557518005371, 2.6828665733337402, 2.6695010662078857, 2.7747347354888916, 2.7495057582855225, 2.642137050628662, 2.5471346378326416, 2.6883013248443604, 2.5583925247192383, 2.572502613067627, 2.567795515060425, 2.765510082244873, 2.7096011638641357, 2.699225664138794, 2.555750846862793, 2.733593702316284, 2.7735729217529297, 2.5818285942077637, 2.740638017654419, 2.4829652309417725, 2.6344001293182373, 2.761770725250244, 2.809082269668579, 2.5797030925750732, 2.6964211463928223, 2.616373300552368, 2.5632779598236084, 2.559514045715332, 2.653029680252075, 2.699937343597412, 2.546602249145508, 2.5781679153442383, 2.556283473968506, 2.614833354949951, 2.526596784591675, 2.5620951652526855, 2.6310856342315674, 2.7010748386383057, 2.6303632259368896, 2.6352756023406982, 2.7362372875213623, 2.5822460651397705, 2.5402722358703613, 2.584155321121216, 2.581475257873535, 2.5313467979431152, 2.5654783248901367, 2.6577229499816895, 2.51381778717041, 2.6591062545776367, 2.846566677093506, 2.830008029937744, 2.6161797046661377, 2.683063507080078, 2.643674612045288, 2.6285932064056396, 2.7739686965942383, 2.577169179916382, 2.4829351902008057, 2.593837022781372, 2.542694330215454, 2.7934086322784424, 2.630415201187134, 2.732527256011963, 2.5900299549102783, 2.8579256534576416, 2.573514699935913, 2.657993793487549, 2.5742828845977783, 2.6735572814941406, 2.66257643699646, 2.6055126190185547, 2.7786617279052734, 2.6572318077087402, 2.8615972995758057, 2.681107521057129, 2.7809255123138428, 2.7743477821350098, 2.568495273590088, 2.52224063873291, 2.774688482284546, 2.5041863918304443, 2.6073453426361084, 3.1366641521453857, 2.516648769378662, 2.5970258712768555, 2.5752251148223877, 2.6157517433166504, 2.524416208267212, 2.5168049335479736, 2.6919591426849365, 2.5084733963012695, 2.8339333534240723, 2.578284502029419, 2.6622724533081055, 2.5939085483551025, 2.6029350757598877, 2.5853328704833984, 2.5276846885681152, 2.5971596240997314, 2.6798341274261475, 2.7560348510742188, 2.748844861984253, 2.5999858379364014, 2.7666854858398438, 2.695305347442627, 2.5448362827301025, 2.6002964973449707, 2.4988155364990234, 2.6532950401306152, 2.536637783050537, 2.545867919921875, 2.620917797088623, 2.826097249984741, 2.6548404693603516, 2.58024525642395, 2.554182291030884, 2.569230794906616, 2.609271764755249, 2.4763646125793457, 2.66631817817688, 2.514545202255249, 2.7763400077819824, 2.679168462753296, 2.612182378768921, 2.7300868034362793, 2.596045732498169, 2.671116828918457, 2.7539308071136475, 2.5957090854644775, 2.572866916656494, 2.8336880207061768, 2.503173828125, 2.6823978424072266, 2.611860513687134, 2.70759654045105, 2.5416409969329834, 2.75319504737854, 2.7663753032684326, 2.8539609909057617, 2.502897262573242, 2.6300852298736572, 2.661712408065796, 2.483538866043091, 2.7500360012054443, 2.529925584793091, 2.6004638671875, 2.64740252494812, 2.6360206604003906, 2.5052285194396973, 2.5283918380737305, 2.611342430114746, 2.6950161457061768, 2.9390769004821777, 2.717538356781006, 2.5691299438476562, 2.64614200592041, 2.6247129440307617, 2.5129687786102295, 2.645170211791992, 2.5392754077911377, 2.5421924591064453, 3.035231828689575, 2.651188611984253, 2.6772572994232178, 2.997915744781494, 2.6391546726226807, 2.543753147125244, 2.5744965076446533, 2.562357187271118, 2.5376646518707275, 2.64263653755188, 2.6237242221832275, 2.5490641593933105, 2.682954788208008, 2.630006790161133, 2.693744421005249, 2.632081985473633, 2.7762577533721924, 2.6687793731689453, 2.7492830753326416, 2.542994737625122, 2.7281131744384766, 2.6135663986206055, 2.6889142990112305, 2.56823468208313, 2.773125648498535, 2.5574703216552734, 2.848259687423706, 2.5785295963287354, 2.885333776473999, 2.7516300678253174, 2.609767436981201, 2.5845823287963867, 2.50258207321167, 2.6938931941986084, 2.7085378170013428, 2.570924997329712, 2.632399082183838, 2.787702798843384, 2.668307065963745, 2.6252031326293945, 3.199246883392334, 2.61513614654541, 2.625084400177002, 2.8856191635131836, 2.5009005069732666, 2.583364963531494, 2.8682963848114014, 2.609520673751831, 2.7717294692993164, 2.704209327697754, 2.9138123989105225, 2.5945634841918945, 2.7727866172790527, 2.6143529415130615, 2.7475900650024414, 2.6737422943115234, 2.5453667640686035, 2.529430627822876, 2.554933786392212, 2.670346736907959, 2.736320972442627, 2.6652443408966064, 2.588848829269409, 2.6137583255767822, 2.631472110748291, 2.6219868659973145, 2.6574594974517822, 2.549872875213623, 2.5002505779266357, 2.5999016761779785, 2.5689010620117188, 2.717026472091675, 2.7112607955932617, 2.728219509124756, 2.5449512004852295, 2.648667097091675, 2.7569797039031982, 2.7153124809265137, 2.7294275760650635, 2.5848660469055176, 2.9757351875305176, 2.664912700653076, 2.6912283897399902, 2.668471336364746, 2.5845487117767334, 2.632349967956543, 2.6165273189544678, 2.6600284576416016, 2.79672908782959, 2.7124929428100586, 2.7608065605163574, 2.6596081256866455, 2.6913814544677734, 2.6473851203918457, 2.9589388370513916, 2.6858580112457275, 2.817406415939331, 2.9908251762390137, 2.5253071784973145, 2.8185372352600098, 2.5630152225494385, 2.7511351108551025, 2.7509617805480957, 3.000047206878662, 2.6917519569396973, 2.670793294906616, 2.672334671020508, 2.827481746673584, 2.705190896987915, 2.842054843902588, 2.6519041061401367, 2.746870279312134, 2.6481051445007324, 2.9754741191864014, 2.7338337898254395, 2.8217780590057373, 2.643085241317749, 2.9993093013763428, 2.7363550662994385, 2.6546947956085205, 2.71940541267395, 2.6364269256591797, 2.593945264816284, 2.740487813949585, 2.789247512817383, 2.6537373065948486, 2.960298538208008, 3.023343563079834, 2.6334197521209717, 2.683779239654541, 2.9798552989959717, 2.7367589473724365, 2.7012927532196045, 2.666827917098999, 2.7124247550964355, 2.7296671867370605, 2.7357001304626465, 2.706130266189575, 2.686551570892334, 2.623209238052368, 2.746953010559082, 2.7653696537017822, 2.7762699127197266, 2.993809461593628, 2.8049099445343018, 2.8887667655944824, 2.701185464859009, 2.674603223800659, 2.5719082355499268, 3.0526630878448486, 2.7063496112823486, 2.6929218769073486, 2.8084990978240967, 2.940152883529663, 2.6916897296905518, 2.6359102725982666, 2.8168282508850098, 2.8504106998443604, 2.6858737468719482, 2.6908068656921387, 2.9098310470581055, 2.7482211589813232, 2.8584179878234863, 2.643084764480591, 2.653265953063965, 2.8936069011688232, 2.8534176349639893, 2.759124755859375, 2.661377191543579, 2.728517532348633, 2.784921169281006, 2.7301785945892334, 2.7085793018341064, 2.693479537963867, 2.69792103767395, 2.768153190612793, 2.857465982437134, 3.118358612060547, 2.7632148265838623, 2.8502280712127686, 2.650238037109375, 2.781949520111084, 2.7136876583099365, 2.7529125213623047, 2.789165735244751, 2.6420178413391113, 2.6446497440338135, 2.9220731258392334, 3.172574520111084, 2.7380707263946533, 2.779139518737793, 2.7589564323425293, 2.737501621246338, 3.1209194660186768, 2.8333895206451416, 2.760549306869507, 2.668330430984497, 2.7218189239501953, 2.8215954303741455, 2.8759100437164307, 2.770843267440796, 2.7342491149902344, 2.6799511909484863, 2.8514370918273926, 2.831570863723755, 2.7086846828460693, 2.7053399085998535, 2.6652050018310547, 2.803727626800537, 2.7011537551879883, 2.8424785137176514, 2.956902027130127, 2.70939564704895, 2.8096702098846436, 2.7053229808807373, 3.0228116512298584, 3.2990200519561768, 2.8129982948303223, 2.794034719467163, 2.7574737071990967, 2.85992169380188, 2.8686680793762207, 3.0875067710876465, 2.9091851711273193, 3.1596262454986572, 2.957547903060913, 3.160598039627075, 2.8252158164978027, 2.6597537994384766, 2.816833257675171, 2.8247616291046143, 2.7208666801452637, 2.803333282470703, 2.859355926513672, 3.068749189376831, 2.7482311725616455, 2.8698654174804688, 2.8352179527282715, 2.7113254070281982]\n",
      "500\n",
      "[18.203779220581055, 14.630697250366211, 10.358004570007324, 7.3433661460876465, 5.725859642028809, 4.555027961730957, 3.9166667461395264, 3.6946194171905518, 3.528381109237671, 3.3782734870910645, 3.1876285076141357, 3.0854380130767822, 3.0127220153808594, 2.9046292304992676, 2.834749937057495, 2.840874195098877, 2.795658588409424, 2.811324119567871, 2.726576805114746, 2.851393222808838, 2.757171630859375, 2.7143969535827637, 2.7247486114501953, 2.6433305740356445, 2.6463093757629395, 2.6807379722595215, 2.622453212738037, 2.639613151550293, 2.672062397003174, 2.672280788421631, 2.5756523609161377, 2.672161340713501, 2.57755184173584, 2.5578668117523193, 2.567873001098633, 2.5436291694641113, 2.5499625205993652, 2.5245327949523926, 2.5194358825683594, 2.569183588027954, 2.537950277328491, 2.5204696655273438, 2.50846529006958, 2.493729829788208, 2.533970594406128, 2.578190565109253, 2.481454610824585, 2.4916348457336426, 2.4834935665130615, 2.4980859756469727, 2.5039501190185547, 2.4796290397644043, 2.457380533218384, 2.5275049209594727, 2.5039825439453125, 2.4450230598449707, 2.5090761184692383, 2.4665958881378174, 2.5330305099487305, 2.4366891384124756, 2.4442293643951416, 2.4058220386505127, 2.4039502143859863, 2.4476137161254883, 2.4589807987213135, 2.536058187484741, 2.420485734939575, 2.401625156402588, 2.4088540077209473, 2.438992977142334, 2.3894410133361816, 2.4773306846618652, 2.3972480297088623, 2.4517581462860107, 2.492121934890747, 2.4608166217803955, 2.4315786361694336, 2.502746343612671, 2.4244449138641357, 2.4389185905456543, 2.378974199295044, 2.409377098083496, 2.3636109828948975, 2.488996744155884, 2.431420087814331, 2.4180285930633545, 2.4787838459014893, 2.407594680786133, 2.3476171493530273, 2.4576475620269775, 2.3696229457855225, 2.4705514907836914, 2.417067766189575, 2.45107364654541, 2.3402209281921387, 2.3621721267700195, 2.467092752456665, 2.3451573848724365, 2.3721327781677246, 2.333833694458008, 2.3829071521759033, 2.555321455001831, 2.3355987071990967, 2.3647587299346924, 2.4312355518341064, 2.419135332107544, 2.374284267425537, 2.409642219543457, 2.377732515335083, 2.5288007259368896, 2.3677902221679688, 2.3574941158294678, 2.3779489994049072, 2.4196712970733643, 2.4664998054504395, 2.3246424198150635, 2.3797695636749268, 2.3738362789154053, 2.4312922954559326, 2.3686769008636475, 2.379901647567749, 2.4324660301208496, 2.366861343383789, 2.3621788024902344, 2.4190711975097656, 2.4267003536224365, 2.436372756958008, 2.3954010009765625, 2.3723690509796143, 2.3681881427764893, 2.422438859939575, 2.385902166366577, 2.452162504196167, 2.378099203109741, 2.412062168121338, 2.4928741455078125, 2.4188473224639893, 2.488142490386963, 2.407578945159912, 2.426129102706909, 2.5173561573028564, 2.4965617656707764, 2.441668748855591, 2.4483444690704346, 2.5322744846343994, 2.460510015487671, 2.3499815464019775, 2.4376065731048584, 2.3392653465270996, 2.4870195388793945, 2.3713433742523193, 2.352221965789795, 2.394059419631958, 2.4010069370269775, 2.3651938438415527, 2.465390682220459, 2.427067756652832, 2.417038679122925, 2.392529010772705, 2.4808237552642822, 2.3988304138183594, 2.433596611022949, 2.4842402935028076, 2.395015001296997, 2.40324068069458, 2.407205820083618, 2.379768133163452, 2.4033203125, 2.411975145339966, 2.4357380867004395, 2.38268780708313, 2.343047618865967, 2.397636890411377, 2.3323848247528076, 2.374302625656128, 2.5445001125335693, 2.4128146171569824, 2.3703203201293945, 2.36981463432312, 2.4175004959106445, 2.4567654132843018, 2.399233102798462, 2.4730448722839355, 2.4679934978485107, 2.4513754844665527, 2.4257826805114746, 2.3739542961120605, 2.5855462551116943, 2.3827919960021973, 2.5173606872558594, 2.434511184692383, 2.4183707237243652, 2.498514413833618, 2.354703426361084, 2.4377834796905518, 2.4036643505096436, 2.4061520099639893, 2.4021501541137695, 2.452439308166504, 2.40836501121521, 2.4038050174713135, 2.4645144939422607, 2.4862561225891113, 2.4390499591827393, 2.4518978595733643, 2.560690402984619, 2.4302942752838135, 2.396604537963867, 2.4826600551605225, 2.4792299270629883, 2.4235267639160156, 2.398404836654663, 2.509108066558838, 2.446295976638794, 2.3977394104003906, 2.4659273624420166, 2.4471492767333984, 2.4290499687194824, 2.4193451404571533, 2.3720591068267822, 2.5018155574798584, 2.448033571243286, 2.47495436668396, 2.5906131267547607, 2.4571218490600586, 2.4852848052978516, 2.5671372413635254, 2.43912672996521, 2.4144272804260254, 2.4484660625457764, 2.437333106994629, 2.4761247634887695, 2.461686372756958, 2.4223742485046387, 2.4798216819763184, 2.4759321212768555, 2.509016990661621, 2.425980567932129, 2.4523661136627197, 2.4658150672912598, 2.4383671283721924, 2.463064193725586, 2.534522294998169, 2.4851198196411133, 2.479440450668335, 2.4676642417907715, 2.599482536315918, 2.4822099208831787, 2.4965808391571045, 2.5025153160095215, 2.5833935737609863, 2.4777095317840576, 2.555656909942627, 2.4690194129943848, 2.475186586380005, 2.480196714401245, 2.4717025756835938, 2.4893698692321777, 2.43265438079834, 2.5062294006347656, 2.566483974456787, 2.530625820159912, 2.501776933670044, 2.590275764465332, 2.5606138706207275, 2.5219388008117676, 2.496480941772461, 2.5638723373413086, 2.498953342437744, 2.4717490673065186, 2.5243215560913086, 2.505077838897705, 2.5217533111572266, 2.527811288833618, 2.596402645111084, 2.505289077758789, 2.5516693592071533, 2.622072219848633, 2.5256218910217285, 2.483405113220215, 2.51489520072937, 2.4958503246307373, 2.5081474781036377, 2.5184950828552246, 2.4924750328063965, 2.6138508319854736, 2.4958572387695312, 2.518930435180664, 2.5725655555725098, 2.5676631927490234, 2.59612774848938, 2.564955234527588, 2.6539981365203857, 2.6059298515319824, 2.487110137939453, 2.5640316009521484, 2.556684732437134, 2.5052614212036133, 2.5481619834899902, 2.5227010250091553, 2.561145782470703, 2.5954113006591797, 2.5466036796569824, 2.560502052307129, 2.5415163040161133, 2.5435521602630615, 2.5641279220581055, 2.5619280338287354, 2.599623918533325, 2.5546703338623047, 2.5663645267486572, 2.656862497329712, 2.5194034576416016, 2.563838005065918, 2.551354169845581, 2.5535359382629395, 2.589604377746582, 2.519880771636963, 2.6626601219177246, 2.5984902381896973, 2.502605438232422, 2.629359483718872, 2.511596441268921, 2.6524624824523926, 2.57285213470459, 2.5627939701080322, 2.6511242389678955, 2.5834734439849854, 2.577899217605591, 2.572336435317993, 2.5685367584228516, 2.5474119186401367, 2.673919677734375, 2.6961758136749268, 2.534290075302124, 2.5573978424072266, 2.549855947494507, 2.551445484161377, 2.699129104614258, 2.607285261154175, 2.5550084114074707, 2.614753246307373, 2.507697343826294, 2.595980167388916, 2.559518575668335, 2.7574124336242676, 2.58913516998291, 2.6610941886901855, 2.5923471450805664, 2.5845634937286377, 2.6177828311920166, 2.530346155166626, 2.588284969329834, 2.6464314460754395, 2.6165661811828613, 2.5821034908294678, 2.4833693504333496, 2.5715184211730957, 2.6260814666748047, 2.540436029434204, 2.6025381088256836, 2.5548207759857178, 2.6071853637695312, 2.584650993347168, 2.645941972732544, 2.5831775665283203, 2.5923171043395996, 2.6356394290924072, 2.6125404834747314, 2.579059600830078, 2.5741994380950928, 2.6000335216522217, 2.611267328262329, 2.6152737140655518, 2.620243787765503, 2.625216245651245, 2.61126708984375, 2.6047134399414062, 2.607253074645996, 2.5859994888305664, 2.6582045555114746, 2.627279758453369, 2.7755255699157715, 2.545112133026123, 2.639058828353882, 2.636045455932617, 2.6977944374084473, 2.592350482940674, 2.600865125656128, 2.5106194019317627, 2.577366352081299, 2.564483880996704, 2.5568113327026367, 2.689495086669922, 2.5967302322387695, 2.605295419692993, 2.6634624004364014, 2.6259732246398926, 2.5730273723602295, 2.5424466133117676, 2.64140248298645, 2.621333122253418, 2.58246111869812, 2.5445749759674072, 2.692145824432373, 2.6642017364501953, 2.652614116668701, 2.69492244720459, 2.730684280395508, 2.617565393447876, 2.6228480339050293, 2.638749837875366, 2.6978518962860107, 2.6661536693573, 2.6538805961608887, 2.6900620460510254, 2.583953619003296, 2.7252285480499268, 2.6387250423431396, 2.616560935974121, 2.612833261489868, 2.6079485416412354, 2.6641407012939453, 2.8906960487365723, 2.628668785095215, 2.7261481285095215, 2.5860707759857178, 2.5955326557159424, 2.5921154022216797, 2.759409189224243, 2.652101993560791, 2.6780240535736084, 2.641911506652832, 2.664808750152588, 2.697826385498047, 2.7201662063598633, 2.690680742263794, 2.710536479949951, 2.6462888717651367, 2.7084994316101074, 2.5874202251434326, 2.6054108142852783, 2.6781063079833984, 2.6834917068481445, 2.5790696144104004, 2.6722404956817627, 2.625756025314331, 2.672487497329712, 2.6031107902526855, 2.6548404693603516, 2.7210512161254883, 2.6623034477233887, 2.6630544662475586, 2.620847463607788, 2.6058239936828613, 2.6528239250183105, 2.7464563846588135, 2.689375162124634, 2.6911890506744385, 2.661829948425293, 2.711495876312256, 2.6091396808624268, 2.656993865966797, 2.6522715091705322, 2.6738393306732178, 2.6118252277374268, 2.669198751449585, 2.655376672744751, 2.663133144378662, 2.7240326404571533, 2.643995761871338, 2.7051079273223877, 2.6300950050354004, 2.638899087905884, 2.6937828063964844, 2.683626890182495, 2.688358783721924, 2.744598150253296, 2.692094564437866, 2.660505771636963, 2.6367108821868896, 2.6585803031921387, 2.698439836502075, 2.6206789016723633, 2.6666007041931152, 2.7740399837493896, 2.727205753326416, 2.7567832469940186, 2.7574543952941895, 2.717853546142578, 2.677783966064453, 2.6929054260253906, 2.7068710327148438, 2.6287460327148438, 2.6860785484313965, 2.7276482582092285, 2.663550615310669, 2.6453018188476562, 2.6324923038482666, 2.6862518787384033]\n",
      "500\n",
      "[20.77587890625, 16.960041046142578, 12.433804512023926, 8.484559059143066, 6.588557720184326, 5.32874870300293, 4.5380096435546875, 4.027541637420654, 3.740834951400757, 3.5155627727508545, 3.2721424102783203, 3.1466481685638428, 3.0601706504821777, 3.0197699069976807, 2.95470929145813, 2.8747341632843018, 2.8921592235565186, 2.7932136058807373, 2.6502110958099365, 2.697364091873169, 2.6347463130950928, 2.6456828117370605, 2.6581430435180664, 2.5893352031707764, 2.519169569015503, 2.5334041118621826, 2.552727460861206, 2.647118330001831, 2.65207839012146, 2.6626534461975098, 2.632692813873291, 2.498443841934204, 2.4542720317840576, 2.5063743591308594, 2.392528533935547, 2.4520184993743896, 2.5283658504486084, 2.5643951892852783, 2.446934223175049, 2.4048683643341064, 2.4881863594055176, 2.4071171283721924, 2.3618807792663574, 2.3910460472106934, 2.489232063293457, 2.444798469543457, 2.485142946243286, 2.4717631340026855, 2.3568825721740723, 2.4325876235961914, 2.4055583477020264, 2.3081541061401367, 2.4585959911346436, 2.4142682552337646, 2.2919201850891113, 2.3675427436828613, 2.3435943126678467, 2.2986719608306885, 2.4341659545898438, 2.385542631149292, 2.3017969131469727, 2.3703408241271973, 2.302515983581543, 2.332820177078247, 2.3496809005737305, 2.3030922412872314, 2.3924875259399414, 2.3339831829071045, 2.346938133239746, 2.3867032527923584, 2.429842710494995, 2.3766167163848877, 2.3586106300354004, 2.3632454872131348, 2.42461895942688, 2.365344762802124, 2.3810977935791016, 2.397698163986206, 2.3347396850585938, 2.311682939529419, 2.372947931289673, 2.3276329040527344, 2.3668296337127686, 2.3786537647247314, 2.351510763168335, 2.3511626720428467, 2.3691062927246094, 2.3712141513824463, 2.340877056121826, 2.390458822250366, 2.3805174827575684, 2.3887879848480225, 2.4113214015960693, 2.396674394607544, 2.4752306938171387, 2.3850910663604736, 2.314345121383667, 2.3407747745513916, 2.4195058345794678, 2.3624253273010254, 2.3615758419036865, 2.3654229640960693, 2.366304874420166, 2.387686014175415, 2.3137779235839844, 2.4122095108032227, 2.3292603492736816, 2.6802008152008057, 2.3247525691986084, 2.365230083465576, 2.383800506591797, 2.4369823932647705, 2.3479251861572266, 2.334566831588745, 2.3725361824035645, 2.323364734649658, 2.364704132080078, 2.341524124145508, 2.333237648010254, 2.3618900775909424, 2.4257798194885254, 2.348696231842041, 2.370927333831787, 2.3473899364471436, 2.3636088371276855, 2.298182964324951, 2.308661937713623, 2.3485963344573975, 2.345648765563965, 2.3213250637054443, 2.335791826248169, 2.3271665573120117, 2.3564810752868652, 2.332627058029175, 2.3360302448272705, 2.3159430027008057, 2.3378424644470215, 2.31327223777771, 2.324742555618286, 2.3744165897369385, 2.318767547607422, 2.37746000289917, 2.319033145904541, 2.310513496398926, 2.328808307647705, 2.313746929168701, 2.463866949081421, 2.3502657413482666, 2.3375399112701416, 2.37809681892395, 2.3812315464019775, 2.392435312271118, 2.3912220001220703, 2.3168396949768066, 2.402681827545166, 2.5225930213928223, 2.344893455505371, 2.3824880123138428, 2.3533596992492676, 2.346247673034668, 2.3774476051330566, 2.3783648014068604, 2.342344284057617, 2.462599992752075, 2.4142532348632812, 2.3436145782470703, 2.3555643558502197, 2.374121904373169, 2.36747670173645, 2.4273369312286377, 2.3907225131988525, 2.400728702545166, 2.4408323764801025, 2.3939642906188965, 2.406323194503784, 2.428579807281494, 2.444584369659424, 2.367283344268799, 2.38142991065979, 2.489535093307495, 2.426331043243408, 2.407006025314331, 2.3445892333984375, 2.369871139526367, 2.3872084617614746, 2.454474925994873, 2.3893327713012695, 2.399188280105591, 2.426326036453247, 2.3980841636657715, 2.4155194759368896, 2.4851882457733154, 2.3591716289520264, 2.3992927074432373, 2.375749349594116, 2.376400947570801, 2.474424362182617, 2.3478288650512695, 2.391089916229248, 2.419860601425171, 2.3832693099975586, 2.454526424407959, 2.3892948627471924, 2.3797404766082764, 2.40197491645813, 2.3613970279693604, 2.3657681941986084, 2.4314568042755127, 2.4468507766723633, 2.4460649490356445, 2.4093751907348633, 2.3891940116882324, 2.390131950378418, 2.4596505165100098, 2.4126782417297363, 2.3731441497802734, 2.329807996749878, 2.454583168029785, 2.3694541454315186, 2.3855271339416504, 2.3404860496520996, 2.5175819396972656, 2.3568410873413086, 2.4284849166870117, 2.336390972137451, 2.3671913146972656, 2.381413221359253, 2.5405898094177246, 2.374361991882324, 2.454983949661255, 2.393765687942505, 2.388742208480835, 2.3611958026885986, 2.423797130584717, 2.381837844848633, 2.336989164352417, 2.377138137817383, 2.315636396408081, 2.3749947547912598, 2.3480043411254883, 2.31453800201416, 2.42995285987854, 2.3956425189971924, 2.350612163543701, 2.388512134552002, 2.3986876010894775, 2.408045530319214, 2.416567325592041, 2.3258161544799805, 2.381801128387451, 2.488633632659912, 2.374727964401245, 2.410017490386963, 2.3916215896606445, 2.353882074356079, 2.414278030395508, 2.396224021911621, 2.437896966934204, 2.4628944396972656, 2.3549036979675293, 2.4488306045532227, 2.6098110675811768, 2.3511600494384766, 2.4132111072540283, 2.4475016593933105, 2.4625637531280518, 2.4229016304016113, 2.38509464263916, 2.414457321166992, 2.5086491107940674, 2.4112203121185303, 2.402775764465332, 2.3968441486358643, 2.3903958797454834, 2.4619860649108887, 2.368628740310669, 2.425483465194702, 2.432345151901245, 2.4351861476898193, 2.392991781234741, 2.377232074737549, 2.5197150707244873, 2.426272392272949, 2.411747932434082, 2.4166347980499268, 2.397850513458252, 2.3567960262298584, 2.4009640216827393, 2.562887668609619, 2.4189813137054443, 2.390687942504883, 2.4046571254730225, 2.4801039695739746, 2.4687137603759766, 2.546515703201294, 2.4068939685821533, 2.464554786682129, 2.3582189083099365, 2.4383797645568848, 2.417908191680908, 2.393890142440796, 2.4728806018829346, 2.4704318046569824, 2.3519251346588135, 2.4344637393951416, 2.522303581237793, 2.418069362640381, 2.5075974464416504, 2.432194948196411, 2.4412171840667725, 2.4442384243011475, 2.4064576625823975, 2.416511297225952, 2.402045249938965, 2.4227793216705322, 2.4971611499786377, 2.4289560317993164, 2.4279019832611084, 2.4366345405578613, 2.3828086853027344, 2.394655466079712, 2.3906121253967285, 2.4422476291656494, 2.369816303253174, 2.4137508869171143, 2.411768674850464, 2.4426801204681396, 2.5289344787597656, 2.4171674251556396, 2.494157552719116, 2.5880608558654785, 2.4226908683776855, 2.464690923690796, 2.4169676303863525, 2.4245200157165527, 2.437415361404419, 2.4368600845336914, 2.3892219066619873, 2.43703293800354, 2.430532217025757, 2.4257779121398926, 2.420335292816162, 2.417252779006958, 2.451749086380005, 2.399613857269287, 2.364675760269165, 2.3886537551879883, 2.4102044105529785, 2.4842617511749268, 2.4083034992218018, 2.4623942375183105, 2.4236085414886475, 2.446894407272339, 2.4760260581970215, 2.4726808071136475, 2.3974404335021973, 2.451324224472046, 2.4134879112243652, 2.4132792949676514, 2.430105209350586, 2.3999171257019043, 2.4583208560943604, 2.399019241333008, 2.412444591522217, 2.428312063217163, 2.506443500518799, 2.4361355304718018, 2.4223320484161377, 2.4302456378936768, 2.4063243865966797, 2.4179110527038574, 2.468050003051758, 2.4722468852996826, 2.411367893218994, 2.473318099975586, 2.3865714073181152, 2.43874454498291, 2.4760076999664307, 2.5019426345825195, 2.451206922531128, 2.4266226291656494, 2.4847540855407715, 2.4043374061584473, 2.385519027709961, 2.4593188762664795, 2.415328025817871, 2.4110546112060547, 2.4525933265686035, 2.4387993812561035, 2.4147980213165283, 2.5977749824523926, 2.432760000228882, 2.4700818061828613, 2.4862987995147705, 2.4376020431518555, 2.414111375808716, 2.4752650260925293, 2.448810338973999, 2.3928720951080322, 2.5891666412353516, 2.444180727005005, 2.4918739795684814, 2.4916832447052, 2.5438954830169678, 2.4683828353881836, 2.4331111907958984, 2.4290428161621094, 2.3889732360839844, 2.425628185272217, 2.4649195671081543, 2.4395666122436523, 2.4358444213867188, 2.4238040447235107, 2.4473090171813965, 2.467451572418213, 2.576247215270996, 2.4778857231140137, 2.430582284927368, 2.4847962856292725, 2.4964938163757324, 2.5250132083892822, 2.4850056171417236, 2.452335834503174, 2.4293243885040283, 2.548503875732422, 2.639554262161255, 2.523456573486328, 2.4407153129577637, 2.5384650230407715, 2.4976625442504883, 2.57401967048645, 2.4647421836853027, 2.5044333934783936, 2.4674861431121826, 2.4793472290039062, 2.394059181213379, 2.489347457885742, 2.4913830757141113, 2.4408645629882812, 2.423008441925049, 2.4992847442626953, 2.5733373165130615, 2.603637456893921, 2.566971778869629, 2.477656364440918, 2.4525234699249268, 2.4763333797454834, 2.4555485248565674, 2.4638707637786865, 2.4537553787231445, 2.4714303016662598, 2.4514834880828857, 2.4591569900512695, 2.3956844806671143, 2.4636940956115723, 2.4257171154022217, 2.50947904586792, 2.4952893257141113, 2.4568190574645996, 2.55507755279541, 2.4160428047180176, 2.4358901977539062, 2.511091947555542, 2.5929477214813232, 2.5645763874053955, 2.482856035232544, 2.420874834060669, 2.507596254348755, 2.488652229309082, 2.409184694290161, 2.4403762817382812, 2.509873628616333, 2.454047441482544, 2.4280612468719482, 2.4384920597076416, 2.5412392616271973, 2.4203386306762695, 2.4194493293762207, 2.4792087078094482, 2.432954788208008, 2.452496290206909, 2.5691897869110107, 2.3912432193756104, 2.4713096618652344, 2.446469783782959, 2.4979159832000732, 2.455004930496216, 2.564028024673462, 2.4653940200805664, 2.41117787361145, 2.4381942749023438, 2.4363045692443848, 2.391009569168091, 2.445981979370117, 2.4724740982055664, 2.6234312057495117, 2.474339246749878, 2.51005482673645, 2.4886302947998047, 2.480940818786621]\n"
     ]
    }
   ],
   "source": [
    "for i in range(k):\n",
    "    print(len(all_scores[i])) #len 500개\n",
    "    print(all_scores[i])"
   ]
  },
  {
   "cell_type": "code",
   "execution_count": 49,
   "metadata": {},
   "outputs": [],
   "source": [
    "avg_mae_hist = [np.mean([x[i] for x in all_scores]) for i in range(n_epochs)] #len 500개"
   ]
  },
  {
   "cell_type": "code",
   "execution_count": 51,
   "metadata": {},
   "outputs": [
    {
     "data": {
      "text/plain": [
       "(2.3084639608860016, 18.709641456604004)"
      ]
     },
     "execution_count": 51,
     "metadata": {},
     "output_type": "execute_result"
    }
   ],
   "source": [
    "np.min(avg_mae_hist), np.max(avg_mae_hist)"
   ]
  },
  {
   "cell_type": "code",
   "execution_count": 52,
   "metadata": {},
   "outputs": [
    {
     "data": {
      "text/plain": [
       "(88, 0)"
      ]
     },
     "execution_count": 52,
     "metadata": {},
     "output_type": "execute_result"
    }
   ],
   "source": [
    "np.argmin(avg_mae_hist), np.argmax(avg_mae_hist)"
   ]
  },
  {
   "cell_type": "code",
   "execution_count": 55,
   "metadata": {},
   "outputs": [
    {
     "data": {
      "image/png": "[encoded data removed]",
      "text/plain": [
       "<Figure size 640x480 with 1 Axes>"
      ]
     },
     "metadata": {},
     "output_type": "display_data"
    }
   ],
   "source": [
    "plt.plot(range(1, len(avg_mae_hist)+1), avg_mae_hist)\n",
    "plt.xlabel('Epochs')\n",
    "plt.ylabel('Validation Mean MAE')\n",
    "plt.show()"
   ]
  },
  {
   "cell_type": "code",
   "execution_count": 56,
   "metadata": {},
   "outputs": [
    {
     "data": {
      "image/png": "[encoded data removed]",
      "text/plain": [
       "<Figure size 640x480 with 1 Axes>"
      ]
     },
     "metadata": {},
     "output_type": "display_data"
    }
   ],
   "source": [
    "part_mae_hist = avg_mae_hist[10:]\n",
    "plt.plot(range(1, len(part_mae_hist)+1), part_mae_hist)\n",
    "plt.xlabel('Epochs')\n",
    "plt.ylabel('Validation Mean MAE')\n",
    "plt.show()"
   ]
  },
  {
   "cell_type": "markdown",
   "metadata": {
    "id": "6RREaZug_OWZ"
   },
   "source": [
    "### 4) 최종 모델 훈련하기\n",
    "\n",
    "- 에포크수, 은닉층의 크기 등 모델의 여러 매개변수에 대한 튜닝이 끝나면 모든 훈련데이터를 사용하여 모델을 훈련함"
   ]
  },
  {
   "cell_type": "code",
   "execution_count": 57,
   "metadata": {
    "colab": {
     "base_uri": "https://localhost:8080/"
    },
    "executionInfo": {
     "elapsed": 5937,
     "status": "ok",
     "timestamp": 1645008958583,
     "user": {
      "displayName": "Kyungmi Lee",
      "photoUrl": "https://lh3.googleusercontent.com/a/default-user=s64",
      "userId": "14076883295874579202"
     },
     "user_tz": -540
    },
    "id": "JLvmITCZ_NtK",
    "outputId": "ab3da519-4567-4268-c1e5-80abd97ab11f"
   },
   "outputs": [
    {
     "data": {
      "text/plain": [
       "<keras.src.callbacks.history.History at 0x317d47c90>"
      ]
     },
     "execution_count": 57,
     "metadata": {},
     "output_type": "execute_result"
    }
   ],
   "source": [
    "model = build_housing_model()\n",
    "model.fit(train_data, train_targets, epochs=130, batch_size=16, verbose=0)"
   ]
  },
  {
   "cell_type": "markdown",
   "metadata": {
    "id": "TnKHWdh6-3G6"
   },
   "source": [
    "### 5) 테스트 데이터로 성능 확인"
   ]
  },
  {
   "cell_type": "code",
   "execution_count": 58,
   "metadata": {
    "colab": {
     "base_uri": "https://localhost:8080/"
    },
    "executionInfo": {
     "elapsed": 280,
     "status": "ok",
     "timestamp": 1645008962382,
     "user": {
      "displayName": "Kyungmi Lee",
      "photoUrl": "https://lh3.googleusercontent.com/a/default-user=s64",
      "userId": "14076883295874579202"
     },
     "user_tz": -540
    },
    "id": "EjC0-JWM-AC0",
    "outputId": "137994b6-91a7-4851-ab82-c8cbdcc254ca"
   },
   "outputs": [
    {
     "name": "stdout",
     "output_type": "stream",
     "text": [
      "\u001b[1m4/4\u001b[0m \u001b[32m━━━━━━━━━━━━━━━━━━━━\u001b[0m\u001b[37m\u001b[0m \u001b[1m0s\u001b[0m 989us/step - loss: 12.0203 - mae: 2.4107\n"
     ]
    }
   ],
   "source": [
    "test_mse, test_mae = model.evaluate(test_data, test_targets)"
   ]
  },
  {
   "cell_type": "code",
   "execution_count": 59,
   "metadata": {
    "colab": {
     "base_uri": "https://localhost:8080/"
    },
    "executionInfo": {
     "elapsed": 267,
     "status": "ok",
     "timestamp": 1645008981418,
     "user": {
      "displayName": "Kyungmi Lee",
      "photoUrl": "https://lh3.googleusercontent.com/a/default-user=s64",
      "userId": "14076883295874579202"
     },
     "user_tz": -540
    },
    "id": "OZaZvU1Txpvb",
    "outputId": "407a4198-7534-46e9-cf2c-c7985be60a40"
   },
   "outputs": [
    {
     "name": "stdout",
     "output_type": "stream",
     "text": [
      "테스트데이터 MSE: 16.2521, 테스트데이터 MAE: 2.5675\n"
     ]
    }
   ],
   "source": [
    "print(f'테스트데이터 MSE: {test_mse:.4f}, 테스트데이터 MAE: {test_mae:.4f}')\n",
    "#오차가 2,567달러"
   ]
  },
  {
   "cell_type": "markdown",
   "metadata": {},
   "source": [
    "### 6) 새로운 데이터에 대해 예측"
   ]
  },
  {
   "cell_type": "code",
   "execution_count": 61,
   "metadata": {},
   "outputs": [
    {
     "name": "stdout",
     "output_type": "stream",
     "text": [
      "\u001b[1m4/4\u001b[0m \u001b[32m━━━━━━━━━━━━━━━━━━━━\u001b[0m\u001b[37m\u001b[0m \u001b[1m0s\u001b[0m 676us/step\n"
     ]
    },
    {
     "data": {
      "text/plain": [
       "(7.2, array([8.680684], dtype=float32))"
      ]
     },
     "execution_count": 61,
     "metadata": {},
     "output_type": "execute_result"
    }
   ],
   "source": [
    "pred_y = model.predict(test_data)\n",
    "test_targets[0], pred_y[0]"
   ]
  },
  {
   "cell_type": "markdown",
   "metadata": {},
   "source": [
    "----"
   ]
  },
  {
   "cell_type": "markdown",
   "metadata": {
    "id": "dwl7DpOpDyEF"
   },
   "source": [
    "## [정리]\n",
    "\n",
    "- 회귀는 분류에서 사용했던 것과 다른 손실함수 사용 : 평균제곱오차(MSE)\n",
    "- 회귀에서 사용되는 평가지표 : 평균절대오차(MAE)\n",
    "- 입력 데이터의 특성이 서로 다른 범위를 가지면 전처리 단계에서 각 특성을 개별적으로 스케일링해야 함 -> 정규화\n",
    "- 가용한 데이터가 적다면 K-fold 교차검증을 사용하는 것이 신뢰할 수 있는 모델 평가방법임\n",
    "- 가용한 훈련 데이터가 적다면 과대적합을 피하기 위해 은닉층의 수를 줄임 모델이 좋음(일반적으로 1개 또는 2개)"
   ]
  },
  {
   "cell_type": "markdown",
   "metadata": {},
   "source": [
    "### 연습문제.\n",
    "\n",
    "1. 위 모델에서 최적화 알고리즘을 'Adam'을 사용한 경우 모델을 학습하고 평가하여 결과를 비교해보세요.\n",
    "\n",
    "\n",
    "2. 학습의 epochs수와 batch사이즈를 조절하여 결과를 모델 성능을 비교하세요.\n",
    "\n",
    "\n",
    "3. 2개의 은닉층과 1개의 출력층을 갖는 모델을 구성하여고 최적화는 'rmsprop'을 적용한 경우와 'adam'을 적용한 경우를 비교해보시오.\n",
    "\n",
    "\n",
    "4. 위의 모델에서 콜백함수의 Early stopping 기법을 적용하여 최적의 epoch가 언제인지 찾아내시오."
   ]
  },
  {
   "cell_type": "markdown",
   "metadata": {},
   "source": [
    "---"
   ]
  }
 ],
 "metadata": {
  "colab": {
   "authorship_tag": "ABX9TyOx0xhrOlluvgyz2oJ5qTBK",
   "collapsed_sections": [],
   "name": "1_03_신경망_회귀문제_주택가격예측.ipynb",
   "provenance": [
    {
     "file_id": "1rbkI1e-HQBRRKp86oszWrt_nzP4PjouL",
     "timestamp": 1644988778984
    },
    {
     "file_id": "1INbz6oBRXUmNFoIa6o7QY1mLQJ-pEFil",
     "timestamp": 1644979532198
    }
   ]
  },
  "kernelspec": {
   "display_name": "Python 3 (ipykernel)",
   "language": "python",
   "name": "python3"
  },
  "language_info": {
   "codemirror_mode": {
    "name": "ipython",
    "version": 3
   },
   "file_extension": ".py",
   "mimetype": "text/x-python",
   "name": "python",
   "nbconvert_exporter": "python",
   "pygments_lexer": "ipython3",
   "version": "3.11.8"
  }
 },
 "nbformat": 4,
 "nbformat_minor": 4
}
