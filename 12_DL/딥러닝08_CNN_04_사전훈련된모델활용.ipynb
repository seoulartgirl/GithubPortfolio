{
  "cells": [
    {
      "cell_type": "markdown",
      "metadata": {
        "id": "view-in-github",
        "colab_type": "text"
      },
      "source": [
        "<a href=\"https://colab.research.google.com/github/seoulartgirl/GithubPortfolio/blob/main/%E1%84%83%E1%85%B5%E1%86%B8%E1%84%85%E1%85%A5%E1%84%82%E1%85%B5%E1%86%BC08_CNN_04_%E1%84%89%E1%85%A1%E1%84%8C%E1%85%A5%E1%86%AB%E1%84%92%E1%85%AE%E1%86%AB%E1%84%85%E1%85%A7%E1%86%AB%E1%84%83%E1%85%AC%E1%86%AB%E1%84%86%E1%85%A9%E1%84%83%E1%85%A6%E1%86%AF%E1%84%92%E1%85%AA%E1%86%AF%E1%84%8B%E1%85%AD%E1%86%BC.ipynb\" target=\"_parent\"><img src=\"https://colab.research.google.com/assets/colab-badge.svg\" alt=\"Open In Colab\"/></a>"
      ]
    },
    {
      "cell_type": "markdown",
      "id": "29d1e762-3bdf-4b58-ae32-f6721dcca0d5",
      "metadata": {
        "id": "29d1e762-3bdf-4b58-ae32-f6721dcca0d5"
      },
      "source": [
        "## 사전 훈련된 모델(pretrained model) 활용하기"
      ]
    },
    {
      "cell_type": "markdown",
      "id": "87898699-7ab5-4c07-acc1-fc362e06fe74",
      "metadata": {
        "id": "87898699-7ab5-4c07-acc1-fc362e06fe74"
      },
      "source": [
        "#### 사전 훈련된 모델이란? (전이학습 - 이미 훈련된 모델)\n",
        "\n",
        "- 대규모 이미지 분류 문제를 위해 대량의 데이터셋에서 미리 훈련된 모델\n",
        "- 원본 데이터셋이 충분히 크고 일반적이라면 사전 훈련된 모델에 의해 학습된 특성의 계층 구조는 실제 일반적인 모델로 효율적인 역할을 할 수 있음\n",
        "- 새로운 문제가 원래 작업과 완전히 다른 클래스에 대한 것이더라도 많은 컴퓨터 비전 문제에 유용함\n",
        "    - 예. 대부분 동물이나 생활용품으로 이루어진 ImageNet 데이터셋에 모델을 훈련한 후 모델을 이미지에서 가구 아이템을 식별하는 용도로 사용 가능\n",
        "    - ImageNet :  1400만개 레이블된 이미지와 1000개 클래스로 구성\n",
        "- 사전 훈련된 모델 사례\n",
        "    - VGG16\n",
        "    - ResNet\n",
        "    - Inception\n",
        "    - Xception"
      ]
    },
    {
      "cell_type": "markdown",
      "id": "fa421844-d25d-4e2a-80bb-16cd7446fa52",
      "metadata": {
        "id": "fa421844-d25d-4e2a-80bb-16cd7446fa52"
      },
      "source": [
        "#### 사전 훈련된 모델을 사용하는 방법\n",
        "\n",
        "1. 특성 추출(feature extraction)\n",
        "2. 미세 조정(fine tuning)"
      ]
    },
    {
      "cell_type": "markdown",
      "id": "fc772407-7ec1-4075-af43-adcceac762d4",
      "metadata": {
        "id": "fc772407-7ec1-4075-af43-adcceac762d4"
      },
      "source": [
        "### 사전 훈련된 모델을 사용한 특성 추출\n",
        "\n",
        "- 특성 추출이란\n",
        "    사전에 학습된 모델의 표현을 사용하여 새로운 샘플에서 흥미로운 특성을 뽑아내는 것\n",
        "- 합성곱 기반 층(합성곱과 풀링 층)을 선택하여 새로운 데이터를 통과시키고, 그 출력으로 새로운 분류기를 훈련"
      ]
    },
    {
      "cell_type": "markdown",
      "id": "94f06991-6430-43ea-8f48-ef29a5cafb21",
      "metadata": {
        "id": "94f06991-6430-43ea-8f48-ef29a5cafb21"
      },
      "source": [
        "#### 합성곱 층만 재사용하는 이유\n",
        "- 합성곱 층에 의해 학습된 표현이 일반적인어서 재사용 가능\n",
        "- 컨브넷의 특성 맵은 이미지에 대한 일반적인 컨셉의 존재 여부를 기록한 맵으로 주어진 컴퓨터 비전 문제에 상관없이 유용하게 사용할 수 있음\n",
        "- 분류기에서 학습한 표현은 모델이 훈련된 클래스 집합에 특화되어 있음\n",
        "    - 분류기는 전체 사진에 어떤 클래스가 존재할 확률에 관한 정보만 담고 있음\n",
        "    - 밀집 연결층에서 찾은 표현은 입력 이미지에 있는 객체의 위치정보를 가지고 있지 않음\n",
        "- 합성곱의 특성 맵은 객체 위치를 고려함\n",
        "- 특정 합성곱 층에서 추출한 표현의 일반성(과 재사용성) 수준은 모델에 있는 층의 깊이에 달려 있음\n",
        "    - 모델의 하위 층은 (에지, 색깔, 질감 등) 지역적이고 매우 일반적인 특성 팹을 추출\n",
        "    - 모델의 상위 층은 ('강아지 눈'이나 '고양이 귀'처럼) 좀 더 추상적인 개념을 추출\n",
        "- 새로운 데이터 셋이 원본 모델이 훈련한 데이터셋과 많이 다르다면 전체 합성곱 기반 층을 사용하는 것보다는 모델의 하위 층 몇개만 특성 추출에 사용하는 것이 좋음"
      ]
    },
    {
      "cell_type": "markdown",
      "id": "570c3eca-b523-4d09-8345-e9685eee0a31",
      "metadata": {
        "id": "570c3eca-b523-4d09-8345-e9685eee0a31"
      },
      "source": [
        "#### keras.applications 모듈에서 제공하는 이미지 분류 모델들\n",
        "\n",
        "- Xception\n",
        "- ResNet\n",
        "- MobileNet\n",
        "- EfficientNet\n",
        "- DenseNet\n",
        "- MobileNet\n",
        "- 그 외"
      ]
    },
    {
      "cell_type": "markdown",
      "id": "baa42796-971c-4ceb-bfb8-2a406177388d",
      "metadata": {
        "id": "baa42796-971c-4ceb-bfb8-2a406177388d"
      },
      "source": [
        "#### VGG16 네트워크의 합성곱 기반 층을 사용한 모델\n",
        "\n",
        "- ImageNet 데이터셋에 훈련된 VGG16 네트워크의 합성곱 기반 층을 사용"
      ]
    },
    {
      "cell_type": "code",
      "execution_count": null,
      "id": "0c74fc06-a9b5-4c54-9eca-1a1679bba031",
      "metadata": {
        "colab": {
          "base_uri": "https://localhost:8080/"
        },
        "id": "0c74fc06-a9b5-4c54-9eca-1a1679bba031",
        "outputId": "76c227f8-87e3-4224-d3c5-80fb9c95cb62"
      },
      "outputs": [
        {
          "output_type": "stream",
          "name": "stdout",
          "text": [
            "Downloading data from https://storage.googleapis.com/tensorflow/keras-applications/vgg16/vgg16_weights_tf_dim_ordering_tf_kernels_notop.h5\n",
            "58889256/58889256 [==============================] - 4s 0us/step\n"
          ]
        }
      ],
      "source": [
        "from tensorflow import keras\n",
        "\n",
        "conv_base = keras.applications.vgg16.VGG16(weights='imagenet',\n",
        "                                     include_top=False,\n",
        "                                     input_shape=(180, 180, 3)) # 원하는 이미지의 크기 지정 컬러라서 3"
      ]
    },
    {
      "cell_type": "code",
      "execution_count": null,
      "id": "SJ0OZFzTzthR",
      "metadata": {
        "colab": {
          "base_uri": "https://localhost:8080/"
        },
        "id": "SJ0OZFzTzthR",
        "outputId": "ad6dd4bd-ff54-447f-82e2-6f0c453e90fa"
      },
      "outputs": [
        {
          "output_type": "stream",
          "name": "stdout",
          "text": [
            "Model: \"vgg16\"\n",
            "_________________________________________________________________\n",
            " Layer (type)                Output Shape              Param #   \n",
            "=================================================================\n",
            " input_1 (InputLayer)        [(None, 180, 180, 3)]     0         \n",
            "                                                                 \n",
            " block1_conv1 (Conv2D)       (None, 180, 180, 64)      1792      \n",
            "                                                                 \n",
            " block1_conv2 (Conv2D)       (None, 180, 180, 64)      36928     \n",
            "                                                                 \n",
            " block1_pool (MaxPooling2D)  (None, 90, 90, 64)        0         \n",
            "                                                                 \n",
            " block2_conv1 (Conv2D)       (None, 90, 90, 128)       73856     \n",
            "                                                                 \n",
            " block2_conv2 (Conv2D)       (None, 90, 90, 128)       147584    \n",
            "                                                                 \n",
            " block2_pool (MaxPooling2D)  (None, 45, 45, 128)       0         \n",
            "                                                                 \n",
            " block3_conv1 (Conv2D)       (None, 45, 45, 256)       295168    \n",
            "                                                                 \n",
            " block3_conv2 (Conv2D)       (None, 45, 45, 256)       590080    \n",
            "                                                                 \n",
            " block3_conv3 (Conv2D)       (None, 45, 45, 256)       590080    \n",
            "                                                                 \n",
            " block3_pool (MaxPooling2D)  (None, 22, 22, 256)       0         \n",
            "                                                                 \n",
            " block4_conv1 (Conv2D)       (None, 22, 22, 512)       1180160   \n",
            "                                                                 \n",
            " block4_conv2 (Conv2D)       (None, 22, 22, 512)       2359808   \n",
            "                                                                 \n",
            " block4_conv3 (Conv2D)       (None, 22, 22, 512)       2359808   \n",
            "                                                                 \n",
            " block4_pool (MaxPooling2D)  (None, 11, 11, 512)       0         \n",
            "                                                                 \n",
            " block5_conv1 (Conv2D)       (None, 11, 11, 512)       2359808   \n",
            "                                                                 \n",
            " block5_conv2 (Conv2D)       (None, 11, 11, 512)       2359808   \n",
            "                                                                 \n",
            " block5_conv3 (Conv2D)       (None, 11, 11, 512)       2359808   \n",
            "                                                                 \n",
            " block5_pool (MaxPooling2D)  (None, 5, 5, 512)         0         \n",
            "                                                                 \n",
            "=================================================================\n",
            "Total params: 14714688 (56.13 MB)\n",
            "Trainable params: 14714688 (56.13 MB)\n",
            "Non-trainable params: 0 (0.00 Byte)\n",
            "_________________________________________________________________\n"
          ]
        }
      ],
      "source": [
        "conv_base.summary() # 총 다섯 블록 - 필터는 64, 128, ..., 512"
      ]
    },
    {
      "cell_type": "markdown",
      "id": "11d9dce8-6704-4fcc-b30b-9692a390afaa",
      "metadata": {
        "id": "11d9dce8-6704-4fcc-b30b-9692a390afaa"
      },
      "source": [
        "**밀집연결층을 놓는 두 가지 방식**\n",
        "- 방식1\n",
        "    - 새로운 데이터셋에서 합성곱 기반 층을 실행하고 출력을 넘파이 배열로 디스크에 저장\n",
        "    - 저장한 데이터를 독립된 밀집 연결 분류기에 입력으로 사용\n",
        "    - 입력 이미지에 대해 합성곱 기반 층을 한번만 실행하므로 빠르고 비용이 적게 드나 데이터 증식을 할 수 없음\n",
        "- 방식2\n",
        "    - 준비한 모델 위에 Dense층을 쌓아 확장\n",
        "    - 입력데이터에서 엔드-투-앤드로 전체 모델을 실행\n",
        "    - 모델에 노출된 모든 입력 이미지가 매번 합성곱 기반층을 통과하므로 데이터 증식을 사용할 수 있으나 방식1보다 비용이 많이 듬"
      ]
    },
    {
      "cell_type": "code",
      "execution_count": null,
      "id": "vMfYJWJT0QEu",
      "metadata": {
        "id": "vMfYJWJT0QEu"
      },
      "outputs": [],
      "source": [
        "import numpy as np\n",
        "import matplotlib.pyplot as plt\n",
        "import os, shutil, pathlib\n",
        "from keras.utils import image_dataset_from_directory"
      ]
    },
    {
      "cell_type": "code",
      "execution_count": null,
      "id": "EDSAmtOl0iXF",
      "metadata": {
        "colab": {
          "base_uri": "https://localhost:8080/"
        },
        "id": "EDSAmtOl0iXF",
        "outputId": "c0b8005c-7a26-43cd-f989-e13adc650edc"
      },
      "outputs": [
        {
          "output_type": "stream",
          "name": "stdout",
          "text": [
            "Mounted at /content/drive\n"
          ]
        }
      ],
      "source": [
        "from google.colab import drive\n",
        "drive.mount('/content/drive')"
      ]
    },
    {
      "cell_type": "code",
      "execution_count": null,
      "id": "G71614nw4bVQ",
      "metadata": {
        "colab": {
          "base_uri": "https://localhost:8080/"
        },
        "id": "G71614nw4bVQ",
        "outputId": "fc36bf20-e1ec-48c1-9eb2-0d442fc78907"
      },
      "outputs": [
        {
          "output_type": "stream",
          "name": "stdout",
          "text": [
            "/content/drive/MyDrive/Colab Notebooks/DeepLearning/data/cats_vs_dogs_small/train\n",
            "Found 2000 files belonging to 2 classes.\n",
            "Found 1000 files belonging to 2 classes.\n",
            "Found 2000 files belonging to 2 classes.\n"
          ]
        }
      ],
      "source": [
        "base_path = pathlib.Path('/content/drive/MyDrive/Colab Notebooks/DeepLearning')\n",
        "data_dir = pathlib.Path('data/cats_vs_dogs_small')\n",
        "model_dir = pathlib.Path('model')\n",
        "\n",
        "train_dir = base_path / data_dir / 'train'\n",
        "validation_dir = base_path / data_dir / 'validation'\n",
        "test_dir = base_path / data_dir / 'test'\n",
        "print(train_dir)\n",
        "\n",
        "train_ds = image_dataset_from_directory(train_dir, image_size=(180,180), batch_size=32)\n",
        "validation_ds = image_dataset_from_directory(validation_dir, image_size=(180,180), batch_size=32)\n",
        "test_ds = image_dataset_from_directory(test_dir, image_size=(180,180), batch_size=32)"
      ]
    },
    {
      "cell_type": "markdown",
      "id": "c590aa61-e51f-4d1f-bedc-a88f05a79223",
      "metadata": {
        "id": "c590aa61-e51f-4d1f-bedc-a88f05a79223"
      },
      "source": [
        "#### 데이터 증식을 사용하지 않는 빠른 특성 추출"
      ]
    },
    {
      "cell_type": "markdown",
      "id": "YsGjXM_W3kaX",
      "metadata": {
        "id": "YsGjXM_W3kaX"
      },
      "source": [
        "- 훈련, 검증, 테스트 데이터셋에서 conv_base 모델의 predict() 메서드를 호출해서 numpy 배열로 빠른 특성 추출"
      ]
    },
    {
      "cell_type": "code",
      "execution_count": null,
      "id": "581fa439-a9b7-4890-b16a-6c5443125246",
      "metadata": {
        "id": "581fa439-a9b7-4890-b16a-6c5443125246"
      },
      "outputs": [],
      "source": [
        "def get_features_and_labels(dataset):\n",
        "    all_ftrs = []\n",
        "    all_labels = []\n",
        "    for images, labels in dataset:\n",
        "        preprocessed_images = keras.applications.vgg16.preprocess_input(images)\n",
        "        ftrs = conv_base.predict(preprocessed_images)\n",
        "        all_ftrs.append(ftrs)\n",
        "        all_labels.append(labels)\n",
        "    return np.concatenate(all_ftrs), np.concatenate(all_labels) #하나로 합쳐주기\n"
      ]
    },
    {
      "cell_type": "code",
      "execution_count": null,
      "id": "c2430c28-f473-4165-9596-1530d57a4918",
      "metadata": {
        "colab": {
          "base_uri": "https://localhost:8080/"
        },
        "id": "c2430c28-f473-4165-9596-1530d57a4918",
        "outputId": "8494b028-431e-4af5-eaed-a95a40bc408c"
      },
      "outputs": [
        {
          "output_type": "stream",
          "name": "stdout",
          "text": [
            "1/1 [==============================] - 5s 5s/step\n",
            "1/1 [==============================] - 0s 30ms/step\n",
            "1/1 [==============================] - 0s 40ms/step\n",
            "1/1 [==============================] - 0s 33ms/step\n",
            "1/1 [==============================] - 0s 25ms/step\n",
            "1/1 [==============================] - 0s 24ms/step\n",
            "1/1 [==============================] - 0s 24ms/step\n",
            "1/1 [==============================] - 0s 31ms/step\n",
            "1/1 [==============================] - 0s 30ms/step\n",
            "1/1 [==============================] - 0s 29ms/step\n",
            "1/1 [==============================] - 0s 30ms/step\n",
            "1/1 [==============================] - 0s 35ms/step\n",
            "1/1 [==============================] - 0s 30ms/step\n",
            "1/1 [==============================] - 0s 24ms/step\n",
            "1/1 [==============================] - 0s 25ms/step\n",
            "1/1 [==============================] - 0s 25ms/step\n",
            "1/1 [==============================] - 0s 24ms/step\n",
            "1/1 [==============================] - 0s 24ms/step\n",
            "1/1 [==============================] - 0s 25ms/step\n",
            "1/1 [==============================] - 0s 24ms/step\n",
            "1/1 [==============================] - 0s 32ms/step\n",
            "1/1 [==============================] - 0s 32ms/step\n",
            "1/1 [==============================] - 0s 31ms/step\n",
            "1/1 [==============================] - 0s 25ms/step\n",
            "1/1 [==============================] - 0s 24ms/step\n",
            "1/1 [==============================] - 0s 25ms/step\n",
            "1/1 [==============================] - 0s 25ms/step\n",
            "1/1 [==============================] - 0s 24ms/step\n",
            "1/1 [==============================] - 0s 25ms/step\n",
            "1/1 [==============================] - 0s 25ms/step\n",
            "1/1 [==============================] - 0s 24ms/step\n",
            "1/1 [==============================] - 0s 24ms/step\n",
            "1/1 [==============================] - 0s 29ms/step\n",
            "1/1 [==============================] - 0s 25ms/step\n",
            "1/1 [==============================] - 0s 25ms/step\n",
            "1/1 [==============================] - 0s 26ms/step\n",
            "1/1 [==============================] - 0s 25ms/step\n",
            "1/1 [==============================] - 0s 24ms/step\n",
            "1/1 [==============================] - 0s 24ms/step\n",
            "1/1 [==============================] - 0s 25ms/step\n",
            "1/1 [==============================] - 0s 24ms/step\n",
            "1/1 [==============================] - 0s 27ms/step\n",
            "1/1 [==============================] - 0s 25ms/step\n",
            "1/1 [==============================] - 0s 26ms/step\n",
            "1/1 [==============================] - 0s 24ms/step\n",
            "1/1 [==============================] - 0s 24ms/step\n",
            "1/1 [==============================] - 0s 25ms/step\n",
            "1/1 [==============================] - 0s 24ms/step\n",
            "1/1 [==============================] - 0s 24ms/step\n",
            "1/1 [==============================] - 0s 25ms/step\n",
            "1/1 [==============================] - 0s 29ms/step\n",
            "1/1 [==============================] - 0s 30ms/step\n",
            "1/1 [==============================] - 0s 24ms/step\n",
            "1/1 [==============================] - 0s 25ms/step\n",
            "1/1 [==============================] - 0s 24ms/step\n",
            "1/1 [==============================] - 0s 24ms/step\n",
            "1/1 [==============================] - 0s 24ms/step\n",
            "1/1 [==============================] - 0s 24ms/step\n",
            "1/1 [==============================] - 0s 23ms/step\n",
            "1/1 [==============================] - 0s 24ms/step\n",
            "1/1 [==============================] - 0s 23ms/step\n",
            "1/1 [==============================] - 0s 24ms/step\n",
            "1/1 [==============================] - 2s 2s/step\n",
            "1/1 [==============================] - 0s 26ms/step\n",
            "1/1 [==============================] - 0s 26ms/step\n",
            "1/1 [==============================] - 0s 25ms/step\n",
            "1/1 [==============================] - 0s 25ms/step\n",
            "1/1 [==============================] - 0s 29ms/step\n",
            "1/1 [==============================] - 0s 25ms/step\n",
            "1/1 [==============================] - 0s 24ms/step\n",
            "1/1 [==============================] - 0s 26ms/step\n",
            "1/1 [==============================] - 0s 25ms/step\n",
            "1/1 [==============================] - 0s 26ms/step\n",
            "1/1 [==============================] - 0s 26ms/step\n",
            "1/1 [==============================] - 0s 26ms/step\n",
            "1/1 [==============================] - 0s 24ms/step\n",
            "1/1 [==============================] - 0s 25ms/step\n",
            "1/1 [==============================] - 0s 25ms/step\n",
            "1/1 [==============================] - 0s 31ms/step\n",
            "1/1 [==============================] - 0s 25ms/step\n",
            "1/1 [==============================] - 0s 25ms/step\n",
            "1/1 [==============================] - 0s 24ms/step\n",
            "1/1 [==============================] - 0s 24ms/step\n",
            "1/1 [==============================] - 0s 25ms/step\n",
            "1/1 [==============================] - 0s 25ms/step\n",
            "1/1 [==============================] - 0s 26ms/step\n",
            "1/1 [==============================] - 0s 29ms/step\n",
            "1/1 [==============================] - 0s 29ms/step\n",
            "1/1 [==============================] - 0s 29ms/step\n",
            "1/1 [==============================] - 0s 24ms/step\n",
            "1/1 [==============================] - 0s 24ms/step\n",
            "1/1 [==============================] - 0s 24ms/step\n",
            "1/1 [==============================] - 0s 24ms/step\n",
            "1/1 [==============================] - 0s 24ms/step\n",
            "1/1 [==============================] - 1s 1s/step\n",
            "1/1 [==============================] - 0s 26ms/step\n",
            "1/1 [==============================] - 0s 24ms/step\n",
            "1/1 [==============================] - 0s 25ms/step\n",
            "1/1 [==============================] - 0s 24ms/step\n",
            "1/1 [==============================] - 0s 25ms/step\n",
            "1/1 [==============================] - 0s 24ms/step\n",
            "1/1 [==============================] - 0s 25ms/step\n",
            "1/1 [==============================] - 0s 24ms/step\n",
            "1/1 [==============================] - 0s 25ms/step\n",
            "1/1 [==============================] - 0s 25ms/step\n",
            "1/1 [==============================] - 0s 25ms/step\n",
            "1/1 [==============================] - 0s 24ms/step\n",
            "1/1 [==============================] - 0s 25ms/step\n",
            "1/1 [==============================] - 0s 30ms/step\n",
            "1/1 [==============================] - 0s 25ms/step\n",
            "1/1 [==============================] - 0s 25ms/step\n",
            "1/1 [==============================] - 0s 24ms/step\n",
            "1/1 [==============================] - 0s 24ms/step\n",
            "1/1 [==============================] - 0s 36ms/step\n",
            "1/1 [==============================] - 0s 24ms/step\n",
            "1/1 [==============================] - 0s 25ms/step\n",
            "1/1 [==============================] - 0s 25ms/step\n",
            "1/1 [==============================] - 0s 25ms/step\n",
            "1/1 [==============================] - 0s 25ms/step\n",
            "1/1 [==============================] - 0s 27ms/step\n",
            "1/1 [==============================] - 0s 24ms/step\n",
            "1/1 [==============================] - 0s 25ms/step\n",
            "1/1 [==============================] - 0s 25ms/step\n",
            "1/1 [==============================] - 0s 24ms/step\n",
            "1/1 [==============================] - 0s 25ms/step\n",
            "1/1 [==============================] - 0s 29ms/step\n",
            "1/1 [==============================] - 0s 30ms/step\n",
            "1/1 [==============================] - 0s 29ms/step\n",
            "1/1 [==============================] - 0s 25ms/step\n",
            "1/1 [==============================] - 0s 25ms/step\n",
            "1/1 [==============================] - 0s 24ms/step\n",
            "1/1 [==============================] - 0s 24ms/step\n",
            "1/1 [==============================] - 0s 25ms/step\n",
            "1/1 [==============================] - 0s 24ms/step\n",
            "1/1 [==============================] - 0s 25ms/step\n",
            "1/1 [==============================] - 0s 25ms/step\n",
            "1/1 [==============================] - 0s 25ms/step\n",
            "1/1 [==============================] - 0s 30ms/step\n",
            "1/1 [==============================] - 0s 24ms/step\n",
            "1/1 [==============================] - 0s 25ms/step\n",
            "1/1 [==============================] - 0s 24ms/step\n",
            "1/1 [==============================] - 0s 25ms/step\n",
            "1/1 [==============================] - 0s 25ms/step\n",
            "1/1 [==============================] - 0s 25ms/step\n",
            "1/1 [==============================] - 0s 24ms/step\n",
            "1/1 [==============================] - 0s 25ms/step\n",
            "1/1 [==============================] - 0s 24ms/step\n",
            "1/1 [==============================] - 0s 31ms/step\n",
            "1/1 [==============================] - 0s 26ms/step\n",
            "1/1 [==============================] - 0s 36ms/step\n",
            "1/1 [==============================] - 0s 25ms/step\n",
            "1/1 [==============================] - 0s 25ms/step\n",
            "1/1 [==============================] - 0s 24ms/step\n",
            "1/1 [==============================] - 0s 25ms/step\n",
            "1/1 [==============================] - 0s 25ms/step\n",
            "1/1 [==============================] - 0s 25ms/step\n",
            "1/1 [==============================] - 0s 24ms/step\n",
            "1/1 [==============================] - 0s 23ms/step\n"
          ]
        }
      ],
      "source": [
        "train_X, train_y = get_features_and_labels(train_ds)\n",
        "val_X, val_y = get_features_and_labels(validation_ds)\n",
        "test_X, test_y = get_features_and_labels(test_ds)"
      ]
    },
    {
      "cell_type": "code",
      "execution_count": null,
      "id": "eeb972ea-3a77-429d-8146-ed3954ac9439",
      "metadata": {
        "id": "eeb972ea-3a77-429d-8146-ed3954ac9439",
        "colab": {
          "base_uri": "https://localhost:8080/"
        },
        "outputId": "d8581683-79a8-44c0-9157-43637b638acf"
      },
      "outputs": [
        {
          "output_type": "execute_result",
          "data": {
            "text/plain": [
              "((2000, 5, 5, 512), (1000, 5, 5, 512), (2000, 5, 5, 512))"
            ]
          },
          "metadata": {},
          "execution_count": 9
        }
      ],
      "source": [
        "train_X.shape, val_X.shape, test_X.shape"
      ]
    },
    {
      "cell_type": "markdown",
      "id": "772dc433-ce84-4d94-87b1-be2a53bbaf34",
      "metadata": {
        "id": "772dc433-ce84-4d94-87b1-be2a53bbaf34"
      },
      "source": [
        "- 밀집 연결 분류기 정의하고 훈련하기"
      ]
    },
    {
      "cell_type": "code",
      "execution_count": null,
      "id": "9ef6b1cc-4a7b-41d3-a07d-167426c6d070",
      "metadata": {
        "id": "9ef6b1cc-4a7b-41d3-a07d-167426c6d070",
        "colab": {
          "base_uri": "https://localhost:8080/"
        },
        "outputId": "69f2bd06-1227-4284-ae72-8a6944847f9d"
      },
      "outputs": [
        {
          "output_type": "stream",
          "name": "stdout",
          "text": [
            "Epoch 1/30\n",
            "100/100 [==============================] - 3s 6ms/step - loss: 22.0070 - accuracy: 0.9170 - val_loss: 9.0812 - val_accuracy: 0.9480\n",
            "Epoch 2/30\n",
            "100/100 [==============================] - 0s 4ms/step - loss: 3.5527 - accuracy: 0.9740 - val_loss: 9.3152 - val_accuracy: 0.9530\n",
            "Epoch 3/30\n",
            "100/100 [==============================] - 0s 4ms/step - loss: 2.2210 - accuracy: 0.9870 - val_loss: 5.7146 - val_accuracy: 0.9760\n",
            "Epoch 4/30\n",
            "100/100 [==============================] - 0s 4ms/step - loss: 1.3022 - accuracy: 0.9905 - val_loss: 10.0450 - val_accuracy: 0.9550\n",
            "Epoch 5/30\n",
            "100/100 [==============================] - 0s 4ms/step - loss: 1.2203 - accuracy: 0.9900 - val_loss: 4.2469 - val_accuracy: 0.9770\n",
            "Epoch 6/30\n",
            "100/100 [==============================] - 0s 4ms/step - loss: 0.6598 - accuracy: 0.9940 - val_loss: 6.2815 - val_accuracy: 0.9770\n",
            "Epoch 7/30\n",
            "100/100 [==============================] - 0s 4ms/step - loss: 0.5082 - accuracy: 0.9970 - val_loss: 5.4605 - val_accuracy: 0.9750\n",
            "Epoch 8/30\n",
            "100/100 [==============================] - 0s 4ms/step - loss: 0.3508 - accuracy: 0.9955 - val_loss: 4.5214 - val_accuracy: 0.9810\n",
            "Epoch 9/30\n",
            "100/100 [==============================] - 0s 4ms/step - loss: 0.4453 - accuracy: 0.9970 - val_loss: 6.2468 - val_accuracy: 0.9770\n",
            "Epoch 10/30\n",
            "100/100 [==============================] - 0s 4ms/step - loss: 0.3223 - accuracy: 0.9950 - val_loss: 5.5585 - val_accuracy: 0.9790\n",
            "Epoch 11/30\n",
            "100/100 [==============================] - 0s 4ms/step - loss: 0.0884 - accuracy: 0.9990 - val_loss: 6.0974 - val_accuracy: 0.9800\n",
            "Epoch 12/30\n",
            "100/100 [==============================] - 0s 4ms/step - loss: 0.0266 - accuracy: 0.9995 - val_loss: 7.2326 - val_accuracy: 0.9660\n",
            "Epoch 13/30\n",
            "100/100 [==============================] - 0s 4ms/step - loss: 0.0578 - accuracy: 0.9985 - val_loss: 5.5935 - val_accuracy: 0.9800\n",
            "Epoch 14/30\n",
            "100/100 [==============================] - 0s 4ms/step - loss: 0.3636 - accuracy: 0.9975 - val_loss: 7.6447 - val_accuracy: 0.9750\n",
            "Epoch 15/30\n",
            "100/100 [==============================] - 0s 4ms/step - loss: 0.2157 - accuracy: 0.9965 - val_loss: 6.4583 - val_accuracy: 0.9810\n",
            "Epoch 16/30\n",
            "100/100 [==============================] - 0s 4ms/step - loss: 0.0387 - accuracy: 0.9990 - val_loss: 7.1134 - val_accuracy: 0.9740\n",
            "Epoch 17/30\n",
            "100/100 [==============================] - 0s 4ms/step - loss: 0.4599 - accuracy: 0.9975 - val_loss: 7.6095 - val_accuracy: 0.9780\n",
            "Epoch 18/30\n",
            "100/100 [==============================] - 0s 4ms/step - loss: 2.2402e-05 - accuracy: 1.0000 - val_loss: 6.2186 - val_accuracy: 0.9770\n",
            "Epoch 19/30\n",
            "100/100 [==============================] - 0s 4ms/step - loss: 0.0733 - accuracy: 0.9990 - val_loss: 6.0391 - val_accuracy: 0.9810\n",
            "Epoch 20/30\n",
            "100/100 [==============================] - 0s 4ms/step - loss: 0.0000e+00 - accuracy: 1.0000 - val_loss: 6.0391 - val_accuracy: 0.9810\n",
            "Epoch 21/30\n",
            "100/100 [==============================] - 0s 4ms/step - loss: 1.5007e-07 - accuracy: 1.0000 - val_loss: 5.9386 - val_accuracy: 0.9790\n",
            "Epoch 22/30\n",
            "100/100 [==============================] - 0s 4ms/step - loss: 9.1068e-34 - accuracy: 1.0000 - val_loss: 5.9386 - val_accuracy: 0.9790\n",
            "Epoch 23/30\n",
            "100/100 [==============================] - 0s 4ms/step - loss: 0.0668 - accuracy: 0.9990 - val_loss: 5.8943 - val_accuracy: 0.9800\n",
            "Epoch 24/30\n",
            "100/100 [==============================] - 0s 4ms/step - loss: 0.0053 - accuracy: 0.9990 - val_loss: 6.0708 - val_accuracy: 0.9810\n",
            "Epoch 25/30\n",
            "100/100 [==============================] - 0s 4ms/step - loss: 0.0537 - accuracy: 0.9990 - val_loss: 6.3519 - val_accuracy: 0.9800\n",
            "Epoch 26/30\n",
            "100/100 [==============================] - 0s 4ms/step - loss: 0.0180 - accuracy: 0.9990 - val_loss: 6.5151 - val_accuracy: 0.9740\n",
            "Epoch 27/30\n",
            "100/100 [==============================] - 0s 4ms/step - loss: 3.3312e-21 - accuracy: 1.0000 - val_loss: 6.5151 - val_accuracy: 0.9740\n",
            "Epoch 28/30\n",
            "100/100 [==============================] - 0s 4ms/step - loss: 3.6966e-19 - accuracy: 1.0000 - val_loss: 6.5151 - val_accuracy: 0.9740\n",
            "Epoch 29/30\n",
            "100/100 [==============================] - 0s 4ms/step - loss: 1.8319e-07 - accuracy: 1.0000 - val_loss: 6.5509 - val_accuracy: 0.9760\n",
            "Epoch 30/30\n",
            "100/100 [==============================] - 0s 4ms/step - loss: 1.0694e-22 - accuracy: 1.0000 - val_loss: 6.5509 - val_accuracy: 0.9760\n"
          ]
        }
      ],
      "source": [
        "# 모델 재구성\n",
        "inputs = keras.Input(shape=(5, 5, 512))\n",
        "x = keras.layers.Flatten()(inputs) # 펼치기\n",
        "x = keras.layers.Dense(256)(x)\n",
        "x = keras.layers.Dropout(0.5)(x) # 드롭아웃 50%\n",
        "outputs = keras.layers.Dense(1, activation='sigmoid')(x)\n",
        "model = keras.Model(inputs, outputs)\n",
        "\n",
        "# 컴파일\n",
        "model.compile(optimizer='rmsprop',\n",
        "              loss='binary_crossentropy', # 이진\n",
        "              metrics=['accuracy'])\n",
        "\n",
        "# 콜백\n",
        "base_path = pathlib.Path('/content/drive/MyDrive/Colab Notebooks/DeepLearning')\n",
        "model_dir = 'model'\n",
        "model_name = 'Cat_Dog_VGG16_model1.keras'\n",
        "chkpt = keras.callbacks.ModelCheckpoint(filepath = str(base_path / model_dir / model_name),\n",
        "                                        save_best_only=True)\n",
        "\n",
        "# 훈련\n",
        "history = model.fit(train_X, train_y,\n",
        "                    epochs=30,\n",
        "                    batch_size=20,\n",
        "                    validation_data=(val_X, val_y))"
      ]
    },
    {
      "cell_type": "code",
      "execution_count": null,
      "id": "2ccb6bdd-6527-4cb8-94fc-68c7cf156051",
      "metadata": {
        "id": "2ccb6bdd-6527-4cb8-94fc-68c7cf156051"
      },
      "outputs": [],
      "source": [
        "def draw_metric_plot2(history):\n",
        "    loss = ['loss', 'val_loss']\n",
        "    acc = ['accuracy', 'val_accuracy']\n",
        "    title = ['Loss', 'Accuracy']\n",
        "    plt.figure(figsize=(10,5))\n",
        "    for i, item in enumerate([loss, acc]):\n",
        "        n = len(history.history[item[0]])\n",
        "        plt.subplot(1,2,i+1)\n",
        "        plt.plot(history.history[item[0]], label='train')\n",
        "        plt.plot(history.history[item[1]], label='validation')\n",
        "        plt.xlabel('epoch')\n",
        "        plt.ylabel(title[i])\n",
        "        plt.xticks(range(n), range(1, n+1))\n",
        "        plt.title(title[i] + ' plot')\n",
        "        plt.legend()\n",
        "    plt.show()\n",
        "draw_metric_plot2(history)"
      ]
    },
    {
      "cell_type": "code",
      "execution_count": null,
      "id": "6ac29815-febb-424f-987a-2739b8101f00",
      "metadata": {
        "id": "6ac29815-febb-424f-987a-2739b8101f00",
        "colab": {
          "base_uri": "https://localhost:8080/",
          "height": 369
        },
        "outputId": "1b0d91f0-9808-4841-c1a5-570b979be40b"
      },
      "outputs": [
        {
          "output_type": "display_data",
          "data": {
            "text/plain": [
              "<Figure size 1000x500 with 2 Axes>"
            ],
            "image/png": "[encoded data removed]"
          },
          "metadata": {}
        }
      ],
      "source": [
        "draw_metric_plot2(history)"
      ]
    },
    {
      "cell_type": "markdown",
      "id": "016ad4d3-186c-4240-a81b-6e442b5c9f4a",
      "metadata": {
        "id": "016ad4d3-186c-4240-a81b-6e442b5c9f4a"
      },
      "source": [
        "#### 데이터 증식을 사용한 특성 추출"
      ]
    },
    {
      "cell_type": "markdown",
      "id": "135cdb33-67d7-43bc-be2c-5f6d3869bfb2",
      "metadata": {
        "id": "135cdb33-67d7-43bc-be2c-5f6d3869bfb2"
      },
      "source": [
        "conv_base와 새로운 밀집 분류기를 연결한 모델 생성 후 입력 데이터를 사용하여 엔드-투-엔드로 실행"
      ]
    },
    {
      "cell_type": "markdown",
      "id": "fb61a0e9-2388-42b2-9c38-78fb12bf5667",
      "metadata": {
        "id": "fb61a0e9-2388-42b2-9c38-78fb12bf5667"
      },
      "source": [
        "**VGG16 합성곱 기반 층 동결(freezing)**\n",
        "- 층을 동결하는 것은 훈련하는 동안 가중치가 업데이트 되지 않도록 막는 다는 것\n",
        "- keras에서는 trainable 속성을 False로 설정하여 층이나 모델을 동결\n",
        "    - 층이나 모델의 훈련 가능한 가중치 리스트가 비게 됨"
      ]
    },
    {
      "cell_type": "code",
      "execution_count": null,
      "id": "cc2c55a3-d7a7-4ed0-add9-d3ad3d1e413c",
      "metadata": {
        "id": "cc2c55a3-d7a7-4ed0-add9-d3ad3d1e413c",
        "colab": {
          "base_uri": "https://localhost:8080/"
        },
        "outputId": "a05b37be-5663-4a2c-da0f-68779ef5302c"
      },
      "outputs": [
        {
          "output_type": "stream",
          "name": "stdout",
          "text": [
            "Model: \"vgg16\"\n",
            "_________________________________________________________________\n",
            " Layer (type)                Output Shape              Param #   \n",
            "=================================================================\n",
            " input_1 (InputLayer)        [(None, 180, 180, 3)]     0         \n",
            "                                                                 \n",
            " block1_conv1 (Conv2D)       (None, 180, 180, 64)      1792      \n",
            "                                                                 \n",
            " block1_conv2 (Conv2D)       (None, 180, 180, 64)      36928     \n",
            "                                                                 \n",
            " block1_pool (MaxPooling2D)  (None, 90, 90, 64)        0         \n",
            "                                                                 \n",
            " block2_conv1 (Conv2D)       (None, 90, 90, 128)       73856     \n",
            "                                                                 \n",
            " block2_conv2 (Conv2D)       (None, 90, 90, 128)       147584    \n",
            "                                                                 \n",
            " block2_pool (MaxPooling2D)  (None, 45, 45, 128)       0         \n",
            "                                                                 \n",
            " block3_conv1 (Conv2D)       (None, 45, 45, 256)       295168    \n",
            "                                                                 \n",
            " block3_conv2 (Conv2D)       (None, 45, 45, 256)       590080    \n",
            "                                                                 \n",
            " block3_conv3 (Conv2D)       (None, 45, 45, 256)       590080    \n",
            "                                                                 \n",
            " block3_pool (MaxPooling2D)  (None, 22, 22, 256)       0         \n",
            "                                                                 \n",
            " block4_conv1 (Conv2D)       (None, 22, 22, 512)       1180160   \n",
            "                                                                 \n",
            " block4_conv2 (Conv2D)       (None, 22, 22, 512)       2359808   \n",
            "                                                                 \n",
            " block4_conv3 (Conv2D)       (None, 22, 22, 512)       2359808   \n",
            "                                                                 \n",
            " block4_pool (MaxPooling2D)  (None, 11, 11, 512)       0         \n",
            "                                                                 \n",
            " block5_conv1 (Conv2D)       (None, 11, 11, 512)       2359808   \n",
            "                                                                 \n",
            " block5_conv2 (Conv2D)       (None, 11, 11, 512)       2359808   \n",
            "                                                                 \n",
            " block5_conv3 (Conv2D)       (None, 11, 11, 512)       2359808   \n",
            "                                                                 \n",
            " block5_pool (MaxPooling2D)  (None, 5, 5, 512)         0         \n",
            "                                                                 \n",
            "=================================================================\n",
            "Total params: 14714688 (56.13 MB)\n",
            "Trainable params: 14714688 (56.13 MB)\n",
            "Non-trainable params: 0 (0.00 Byte)\n",
            "_________________________________________________________________\n"
          ]
        }
      ],
      "source": [
        "conv_base.summary()"
      ]
    },
    {
      "cell_type": "code",
      "execution_count": null,
      "id": "c18c1ddc-3ab5-4cd7-b7fb-aea5f0414b01",
      "metadata": {
        "id": "c18c1ddc-3ab5-4cd7-b7fb-aea5f0414b01"
      },
      "outputs": [],
      "source": [
        "#합성곱 기반의 층을 동결\n",
        "conv_base.trainable = False"
      ]
    },
    {
      "cell_type": "code",
      "source": [
        "len(conv_base.trainable_weights)"
      ],
      "metadata": {
        "colab": {
          "base_uri": "https://localhost:8080/"
        },
        "id": "pC8Mj8h6KAYb",
        "outputId": "17e68098-f0fb-4bca-b828-3acc6b0ce699"
      },
      "id": "pC8Mj8h6KAYb",
      "execution_count": null,
      "outputs": [
        {
          "output_type": "execute_result",
          "data": {
            "text/plain": [
              "0"
            ]
          },
          "metadata": {},
          "execution_count": 15
        }
      ]
    },
    {
      "cell_type": "code",
      "source": [
        "# conv_base.trainable = True"
      ],
      "metadata": {
        "id": "f39r5b-GKKv_"
      },
      "id": "f39r5b-GKKv_",
      "execution_count": null,
      "outputs": []
    },
    {
      "cell_type": "code",
      "source": [
        "# conv_base.trainable_weights #len이 26개가 됨"
      ],
      "metadata": {
        "id": "6-8RTtVrKQJ1"
      },
      "id": "6-8RTtVrKQJ1",
      "execution_count": null,
      "outputs": []
    },
    {
      "cell_type": "markdown",
      "id": "9ce0c924-a3ad-4e29-b77b-9f88315d7017",
      "metadata": {
        "id": "9ce0c924-a3ad-4e29-b77b-9f88315d7017"
      },
      "source": [
        "**새로운 모델 생성**\n",
        "1. 데이터 증식 단계\n",
        "2. 동결된 합성곱 기반 층\n",
        "3. 밀집 분류기"
      ]
    },
    {
      "cell_type": "markdown",
      "id": "96fd6712-135b-481d-ac1c-9e497f2c62b2",
      "metadata": {
        "id": "96fd6712-135b-481d-ac1c-9e497f2c62b2"
      },
      "source": [
        "`이 기법은 연산비용이 크므로 GPU를 사용`"
      ]
    },
    {
      "cell_type": "code",
      "execution_count": null,
      "id": "67d5d10e-9289-49a4-9e79-06c6a064b051",
      "metadata": {
        "id": "67d5d10e-9289-49a4-9e79-06c6a064b051"
      },
      "outputs": [],
      "source": [
        "data_augmentation = keras.Sequential(\n",
        "    [\n",
        "        keras.layers.RandomFlip('horizontal'),\n",
        "        keras.layers.RandomRotation(0.1),\n",
        "        keras.layers.RandomZoom(0.2),\n",
        "    ]\n",
        ")"
      ]
    },
    {
      "cell_type": "code",
      "execution_count": null,
      "id": "9ecbd44a-5c6e-4fd2-a9df-befeda5ba05f",
      "metadata": {
        "id": "9ecbd44a-5c6e-4fd2-a9df-befeda5ba05f"
      },
      "outputs": [],
      "source": [
        "inputs = keras.Input(shape=(180, 180, 3))\n",
        "x = data_augmentation(inputs)\n",
        "x = keras.applications.vgg16.preprocess_input(x)\n",
        "x = conv_base(x)\n",
        "x = keras.layers.Flatten()(x)\n",
        "x = keras.layers.Dense(256)(x)\n",
        "x = keras.layers.Dropout(0.5)(x)\n",
        "outputs = keras.layers.Dense(1, activation='sigmoid')(x)\n",
        "model = keras.Model(inputs, outputs)"
      ]
    },
    {
      "cell_type": "code",
      "execution_count": null,
      "id": "ceb52a01-c5a5-4ea1-9c45-1ee886cfcf3e",
      "metadata": {
        "id": "ceb52a01-c5a5-4ea1-9c45-1ee886cfcf3e",
        "colab": {
          "base_uri": "https://localhost:8080/"
        },
        "outputId": "d3117c15-b224-4be5-dc5f-a83280846b5a"
      },
      "outputs": [
        {
          "output_type": "stream",
          "name": "stdout",
          "text": [
            "Model: \"model_1\"\n",
            "_________________________________________________________________\n",
            " Layer (type)                Output Shape              Param #   \n",
            "=================================================================\n",
            " input_3 (InputLayer)        [(None, 180, 180, 3)]     0         \n",
            "                                                                 \n",
            " sequential (Sequential)     (None, 180, 180, 3)       0         \n",
            "                                                                 \n",
            " tf.__operators__.getitem (  (None, 180, 180, 3)       0         \n",
            " SlicingOpLambda)                                                \n",
            "                                                                 \n",
            " tf.nn.bias_add (TFOpLambda  (None, 180, 180, 3)       0         \n",
            " )                                                               \n",
            "                                                                 \n",
            " vgg16 (Functional)          (None, 5, 5, 512)         14714688  \n",
            "                                                                 \n",
            " flatten_1 (Flatten)         (None, 12800)             0         \n",
            "                                                                 \n",
            " dense_2 (Dense)             (None, 256)               3277056   \n",
            "                                                                 \n",
            " dropout_1 (Dropout)         (None, 256)               0         \n",
            "                                                                 \n",
            " dense_3 (Dense)             (None, 1)                 257       \n",
            "                                                                 \n",
            "=================================================================\n",
            "Total params: 17992001 (68.63 MB)\n",
            "Trainable params: 3277313 (12.50 MB)\n",
            "Non-trainable params: 14714688 (56.13 MB)\n",
            "_________________________________________________________________\n"
          ]
        }
      ],
      "source": [
        "model.summary() #동결해서 weight 수정 안함"
      ]
    },
    {
      "cell_type": "code",
      "execution_count": null,
      "id": "cefab489-2974-4dd1-9db6-a44daa8462c1",
      "metadata": {
        "id": "cefab489-2974-4dd1-9db6-a44daa8462c1"
      },
      "outputs": [],
      "source": [
        "# 컴파일\n",
        "model.compile(optimizer='rmsprop',\n",
        "              loss='binary_crossentropy', # 이진\n",
        "              metrics=['accuracy'])\n",
        "\n",
        "# 콜백\n",
        "base_path = '/content/drive/MyDrive/Colab Notebooks/DeepLearning/'\n",
        "model_dir = 'model/'\n",
        "model_name2 = base_path + model_dir + 'Cat_Dog_VGG16_freezing_model2.h5'\n",
        "chkpt = keras.callbacks.ModelCheckpoint(filepath = model_name2,\n",
        "                                        save_best_only=True, monitor='val_loss')"
      ]
    },
    {
      "cell_type": "code",
      "source": [
        "history2 = model.fit(train_ds, epochs=50,\n",
        "                     validation_data=validation_ds,\n",
        "                     callbacks=[chkpt])"
      ],
      "metadata": {
        "colab": {
          "base_uri": "https://localhost:8080/"
        },
        "id": "SUkKrfpbMybT",
        "outputId": "7e6d3f6c-d831-4799-d336-6f6f40b52e75"
      },
      "id": "SUkKrfpbMybT",
      "execution_count": null,
      "outputs": [
        {
          "output_type": "stream",
          "name": "stdout",
          "text": [
            "Epoch 1/50\n",
            "63/63 [==============================] - ETA: 0s - loss: 17.9146 - accuracy: 0.9065"
          ]
        },
        {
          "output_type": "stream",
          "name": "stderr",
          "text": [
            "/usr/local/lib/python3.10/dist-packages/keras/src/engine/training.py:3103: UserWarning: You are saving your model as an HDF5 file via `model.save()`. This file format is considered legacy. We recommend using instead the native Keras format, e.g. `model.save('my_model.keras')`.\n",
            "  saving_api.save_model(\n"
          ]
        },
        {
          "output_type": "stream",
          "name": "stdout",
          "text": [
            "\b\b\b\b\b\b\b\b\b\b\b\b\b\b\b\b\b\b\b\b\b\b\b\b\b\b\b\b\b\b\b\b\b\b\b\b\b\b\b\b\b\b\b\b\b\b\b\b\b\b\b\b\b\b\b\b\b\b\b\b\b\b\b\b\b\b\b\b\b\b\b\b\b\b\b\b\b\b\b\b\b\b\b\r63/63 [==============================] - 13s 179ms/step - loss: 17.9146 - accuracy: 0.9065 - val_loss: 3.5876 - val_accuracy: 0.9660\n",
            "Epoch 2/50\n",
            "63/63 [==============================] - 7s 106ms/step - loss: 7.8144 - accuracy: 0.9395 - val_loss: 4.1852 - val_accuracy: 0.9680\n",
            "Epoch 3/50\n",
            "63/63 [==============================] - 7s 105ms/step - loss: 6.2912 - accuracy: 0.9455 - val_loss: 16.3990 - val_accuracy: 0.9400\n",
            "Epoch 4/50\n",
            "63/63 [==============================] - 7s 105ms/step - loss: 5.6795 - accuracy: 0.9560 - val_loss: 6.1839 - val_accuracy: 0.9750\n",
            "Epoch 5/50\n",
            "63/63 [==============================] - 7s 105ms/step - loss: 4.4388 - accuracy: 0.9675 - val_loss: 4.3434 - val_accuracy: 0.9770\n",
            "Epoch 6/50\n",
            "63/63 [==============================] - 7s 104ms/step - loss: 3.0170 - accuracy: 0.9715 - val_loss: 5.2701 - val_accuracy: 0.9720\n",
            "Epoch 7/50\n",
            "63/63 [==============================] - 7s 104ms/step - loss: 2.8980 - accuracy: 0.9690 - val_loss: 10.5187 - val_accuracy: 0.9540\n",
            "Epoch 8/50\n",
            "63/63 [==============================] - 7s 104ms/step - loss: 2.6291 - accuracy: 0.9765 - val_loss: 4.6064 - val_accuracy: 0.9700\n",
            "Epoch 9/50\n",
            "63/63 [==============================] - 7s 104ms/step - loss: 3.4725 - accuracy: 0.9715 - val_loss: 8.6066 - val_accuracy: 0.9590\n",
            "Epoch 10/50\n",
            "63/63 [==============================] - 7s 104ms/step - loss: 3.4154 - accuracy: 0.9720 - val_loss: 3.9931 - val_accuracy: 0.9740\n",
            "Epoch 11/50\n",
            "63/63 [==============================] - 8s 124ms/step - loss: 2.8053 - accuracy: 0.9750 - val_loss: 2.6758 - val_accuracy: 0.9770\n",
            "Epoch 12/50\n",
            "63/63 [==============================] - 7s 104ms/step - loss: 2.8472 - accuracy: 0.9725 - val_loss: 3.8543 - val_accuracy: 0.9730\n",
            "Epoch 13/50\n",
            "63/63 [==============================] - 7s 104ms/step - loss: 1.8623 - accuracy: 0.9795 - val_loss: 2.7301 - val_accuracy: 0.9740\n",
            "Epoch 14/50\n",
            "63/63 [==============================] - 7s 104ms/step - loss: 2.0071 - accuracy: 0.9765 - val_loss: 3.9812 - val_accuracy: 0.9750\n",
            "Epoch 15/50\n",
            "63/63 [==============================] - 8s 125ms/step - loss: 2.1444 - accuracy: 0.9780 - val_loss: 2.1590 - val_accuracy: 0.9810\n",
            "Epoch 16/50\n",
            "63/63 [==============================] - 7s 104ms/step - loss: 1.7369 - accuracy: 0.9795 - val_loss: 3.2988 - val_accuracy: 0.9750\n",
            "Epoch 17/50\n",
            "63/63 [==============================] - 7s 109ms/step - loss: 1.6233 - accuracy: 0.9810 - val_loss: 1.8435 - val_accuracy: 0.9820\n",
            "Epoch 18/50\n",
            "63/63 [==============================] - 7s 104ms/step - loss: 1.0986 - accuracy: 0.9860 - val_loss: 1.8727 - val_accuracy: 0.9850\n",
            "Epoch 19/50\n",
            "63/63 [==============================] - 8s 128ms/step - loss: 1.9297 - accuracy: 0.9770 - val_loss: 1.6851 - val_accuracy: 0.9830\n",
            "Epoch 20/50\n",
            "63/63 [==============================] - 7s 104ms/step - loss: 1.1612 - accuracy: 0.9830 - val_loss: 2.7261 - val_accuracy: 0.9760\n",
            "Epoch 21/50\n",
            "63/63 [==============================] - 10s 156ms/step - loss: 1.7283 - accuracy: 0.9865 - val_loss: 1.1211 - val_accuracy: 0.9880\n",
            "Epoch 22/50\n",
            "63/63 [==============================] - 7s 104ms/step - loss: 1.1471 - accuracy: 0.9855 - val_loss: 1.4558 - val_accuracy: 0.9830\n",
            "Epoch 23/50\n",
            "63/63 [==============================] - 7s 103ms/step - loss: 0.8407 - accuracy: 0.9880 - val_loss: 2.9643 - val_accuracy: 0.9750\n",
            "Epoch 24/50\n",
            "63/63 [==============================] - 7s 104ms/step - loss: 1.6956 - accuracy: 0.9780 - val_loss: 2.1452 - val_accuracy: 0.9810\n",
            "Epoch 25/50\n",
            "63/63 [==============================] - 7s 105ms/step - loss: 1.0123 - accuracy: 0.9855 - val_loss: 1.9944 - val_accuracy: 0.9810\n",
            "Epoch 26/50\n",
            "63/63 [==============================] - 7s 105ms/step - loss: 0.9214 - accuracy: 0.9865 - val_loss: 1.4071 - val_accuracy: 0.9760\n",
            "Epoch 27/50\n",
            "63/63 [==============================] - 7s 104ms/step - loss: 0.7096 - accuracy: 0.9885 - val_loss: 1.8294 - val_accuracy: 0.9730\n",
            "Epoch 28/50\n",
            "63/63 [==============================] - 7s 104ms/step - loss: 1.2764 - accuracy: 0.9800 - val_loss: 1.6297 - val_accuracy: 0.9810\n",
            "Epoch 29/50\n",
            "63/63 [==============================] - 7s 104ms/step - loss: 0.9263 - accuracy: 0.9875 - val_loss: 1.6686 - val_accuracy: 0.9770\n",
            "Epoch 30/50\n",
            "63/63 [==============================] - 7s 104ms/step - loss: 0.8922 - accuracy: 0.9830 - val_loss: 2.1366 - val_accuracy: 0.9800\n",
            "Epoch 31/50\n",
            "63/63 [==============================] - 7s 104ms/step - loss: 1.1515 - accuracy: 0.9830 - val_loss: 2.1029 - val_accuracy: 0.9750\n",
            "Epoch 32/50\n",
            "63/63 [==============================] - 7s 104ms/step - loss: 0.6360 - accuracy: 0.9840 - val_loss: 2.5813 - val_accuracy: 0.9770\n",
            "Epoch 33/50\n",
            "63/63 [==============================] - 7s 104ms/step - loss: 0.9255 - accuracy: 0.9860 - val_loss: 2.1088 - val_accuracy: 0.9780\n",
            "Epoch 34/50\n",
            "63/63 [==============================] - 7s 104ms/step - loss: 0.8947 - accuracy: 0.9865 - val_loss: 1.8836 - val_accuracy: 0.9790\n",
            "Epoch 35/50\n",
            "63/63 [==============================] - 7s 105ms/step - loss: 1.1547 - accuracy: 0.9795 - val_loss: 2.2386 - val_accuracy: 0.9740\n",
            "Epoch 36/50\n",
            "63/63 [==============================] - 7s 104ms/step - loss: 0.3600 - accuracy: 0.9930 - val_loss: 2.4517 - val_accuracy: 0.9780\n",
            "Epoch 37/50\n",
            "63/63 [==============================] - 7s 104ms/step - loss: 0.8124 - accuracy: 0.9830 - val_loss: 1.7410 - val_accuracy: 0.9750\n",
            "Epoch 38/50\n",
            "63/63 [==============================] - 7s 104ms/step - loss: 0.5484 - accuracy: 0.9885 - val_loss: 2.7717 - val_accuracy: 0.9740\n",
            "Epoch 39/50\n",
            "63/63 [==============================] - 7s 103ms/step - loss: 0.4126 - accuracy: 0.9900 - val_loss: 1.6429 - val_accuracy: 0.9790\n",
            "Epoch 40/50\n",
            "63/63 [==============================] - 7s 103ms/step - loss: 0.7263 - accuracy: 0.9885 - val_loss: 2.9800 - val_accuracy: 0.9760\n",
            "Epoch 41/50\n",
            "63/63 [==============================] - 7s 104ms/step - loss: 0.4951 - accuracy: 0.9880 - val_loss: 2.0337 - val_accuracy: 0.9750\n",
            "Epoch 42/50\n",
            "63/63 [==============================] - 7s 104ms/step - loss: 0.2672 - accuracy: 0.9925 - val_loss: 2.3330 - val_accuracy: 0.9770\n",
            "Epoch 43/50\n",
            "63/63 [==============================] - 7s 104ms/step - loss: 0.3713 - accuracy: 0.9920 - val_loss: 2.5277 - val_accuracy: 0.9750\n",
            "Epoch 44/50\n",
            "63/63 [==============================] - 7s 104ms/step - loss: 0.4265 - accuracy: 0.9905 - val_loss: 1.6139 - val_accuracy: 0.9760\n",
            "Epoch 45/50\n",
            "63/63 [==============================] - 7s 104ms/step - loss: 0.3681 - accuracy: 0.9925 - val_loss: 1.6929 - val_accuracy: 0.9760\n",
            "Epoch 46/50\n",
            "63/63 [==============================] - 7s 104ms/step - loss: 0.4830 - accuracy: 0.9895 - val_loss: 2.6978 - val_accuracy: 0.9790\n",
            "Epoch 47/50\n",
            "63/63 [==============================] - 7s 104ms/step - loss: 0.7065 - accuracy: 0.9855 - val_loss: 1.6943 - val_accuracy: 0.9740\n",
            "Epoch 48/50\n",
            "63/63 [==============================] - 7s 104ms/step - loss: 0.6847 - accuracy: 0.9890 - val_loss: 1.6558 - val_accuracy: 0.9780\n",
            "Epoch 49/50\n",
            "63/63 [==============================] - 11s 177ms/step - loss: 0.7304 - accuracy: 0.9895 - val_loss: 0.9099 - val_accuracy: 0.9800\n",
            "Epoch 50/50\n",
            "63/63 [==============================] - 7s 104ms/step - loss: 0.3921 - accuracy: 0.9910 - val_loss: 1.3158 - val_accuracy: 0.9790\n"
          ]
        }
      ]
    },
    {
      "cell_type": "code",
      "source": [
        "best_epoch = np.argmin(history2.history['val_loss'])\n",
        "best_epoch2 = np.argmax(history2.history['val_accuracy'])\n",
        "#best epoch 숫자\n",
        "print(f'loss: {best_epoch}, accuracy: {best_epoch2}')\n",
        "print('## VGG16 데이터 증식 사용한 모델 훈련, 검증 데이터 성능')\n",
        "print(f'epochs: {best_epoch+1}일때', end=' ')\n",
        "for key in history2.history.keys():\n",
        "    print(f'{key}: {history2.history[key][best_epoch+1]:.4f}', end=' ')\n",
        "print()"
      ],
      "metadata": {
        "colab": {
          "base_uri": "https://localhost:8080/"
        },
        "id": "96MoFtaJkS5Q",
        "outputId": "d3472e1a-0d2a-4ddc-9941-6a0d2526e10b"
      },
      "id": "96MoFtaJkS5Q",
      "execution_count": null,
      "outputs": [
        {
          "output_type": "stream",
          "name": "stdout",
          "text": [
            "loss: 48, accuracy: 20\n",
            "## VGG16 데이터 증식 사용한 모델 훈련, 검증 데이터 성능\n",
            "epochs: 49일때 loss: 0.7304 accuracy: 0.9895 val_loss: 0.9099 val_accuracy: 0.9800 \n"
          ]
        }
      ]
    },
    {
      "cell_type": "code",
      "source": [
        "test_model = keras.models.load_model(model_name2)\n",
        "test_loss, test_acc = test_model.evaluate(test_ds)\n",
        "print('## VGG16 데이터 증식 사용한 모델 테스트 결과')\n",
        "print(f'테스트 정확도: {test_acc:.4f}, 손실: {test_loss:.4f}')"
      ],
      "metadata": {
        "colab": {
          "base_uri": "https://localhost:8080/"
        },
        "id": "S35lqbP9OriA",
        "outputId": "bd44508f-53f2-4371-cc1f-398c31c565b7"
      },
      "id": "S35lqbP9OriA",
      "execution_count": null,
      "outputs": [
        {
          "output_type": "stream",
          "name": "stdout",
          "text": [
            "63/63 [==============================] - 5s 64ms/step - loss: 2.3777 - accuracy: 0.9745\n",
            "## VGG16 데이터 증식 사용한 모델 테스트 결과\n",
            "테스트 정확도: 0.9745, 손실: 2.3777\n"
          ]
        }
      ]
    },
    {
      "cell_type": "markdown",
      "id": "4a1e4ae8-7981-4540-8fa8-5ffd6cd5e906",
      "metadata": {
        "id": "4a1e4ae8-7981-4540-8fa8-5ffd6cd5e906"
      },
      "source": [
        "### 사전 훈련된 모델 미세 조정하기"
      ]
    },
    {
      "cell_type": "markdown",
      "id": "6b729ad0-f370-4d56-a671-9089ae11be83",
      "metadata": {
        "id": "6b729ad0-f370-4d56-a671-9089ae11be83"
      },
      "source": [
        "- 모델을 재사용하는 기법 중 하나로서 특성추출을 보완하는 미세조정(fine tuning)\n",
        "- 미세 조정은 특성 추출에 사용했던 동결 모델의 상위 층 몇개를 동결에서 해제하고 모델에 새로 추가한 츨(밀집연결분류기)과 함께 훈련하는 것\n",
        "- 주어진 문제에 조금 더 밀접하게 재사용 모델의 표현을 일부 조정하기 때문에 미세조정이라고 부름\n",
        "- 미세 조정 단계\n",
        "    1. 사전에 훈련된 기반 네트워크 위에 새로운 네트워크를 추가\n",
        "    2. 기반 네트워크를 동결\n",
        "    3. 새로 추가한 네트워크를 훈련\n",
        "    4. 기반 네트워크에서 일부 층의 동결을 해제(배치 정규화 층은 동결해제하면 안됨)\n",
        "    5. 동결을 해제한 층과 새로 추가한 층을 함께 훈련"
      ]
    },
    {
      "cell_type": "markdown",
      "id": "c17d95bb-f99d-4fb1-a231-39231f703531",
      "metadata": {
        "id": "c17d95bb-f99d-4fb1-a231-39231f703531"
      },
      "source": [
        "전체 합성곱 기반 층을 미세조정하지 않는 이유\n",
        "- 합성곱 하위 층들은 좀 더 일반적이고 재사용 가능한 특성들을 인코딩. 새로운 문제에 재활용하도록 수정이 필요한 것은 구체적인 특성이므로 이를 미세조정하는 것이 유리함. 하위 층으로 갈수록 미세조정에 대한 효과가 감소함\n",
        "- 훈련해야 할 파라미터가 많을수록 과대적합의 위험이 커짐\n",
        "- 합성곱 기반 층에서 최상위 2~3개 층만 미세조정하는 것이 좋음"
      ]
    },
    {
      "cell_type": "code",
      "execution_count": null,
      "id": "979868ca-cf3f-46ae-9bbf-de7266a1c4f2",
      "metadata": {
        "id": "979868ca-cf3f-46ae-9bbf-de7266a1c4f2"
      },
      "outputs": [],
      "source": [
        "conv_base.trainable = True\n",
        "for layer in conv_base.layers[:-4]:\n",
        "    layer.trainable = False"
      ]
    },
    {
      "cell_type": "markdown",
      "id": "d49603de-7d55-4858-962a-75411d4ef071",
      "metadata": {
        "id": "d49603de-7d55-4858-962a-75411d4ef071"
      },
      "source": [
        "모델 미세 조정하기"
      ]
    },
    {
      "cell_type": "code",
      "source": [
        "inputs = keras.Input(shape=(180, 180, 3))\n",
        "x = data_augmentation(inputs)\n",
        "x = keras.applications.vgg16.preprocess_input(x)\n",
        "x = conv_base(x)\n",
        "x = keras.layers.Flatten()(x)\n",
        "x = keras.layers.Dense(256)(x)\n",
        "x = keras.layers.Dropout(0.5)(x)\n",
        "outputs = keras.layers.Dense(1, activation='sigmoid')(x)\n",
        "model2 = keras.Model(inputs, outputs)"
      ],
      "metadata": {
        "id": "Y1eDfRfgnZfw"
      },
      "id": "Y1eDfRfgnZfw",
      "execution_count": null,
      "outputs": []
    },
    {
      "cell_type": "code",
      "execution_count": null,
      "id": "040e046f-bff2-4dee-9699-20502756d3b0",
      "metadata": {
        "id": "040e046f-bff2-4dee-9699-20502756d3b0",
        "colab": {
          "base_uri": "https://localhost:8080/"
        },
        "outputId": "a43827ac-e11d-457b-b95c-6794660fde40"
      },
      "outputs": [
        {
          "output_type": "stream",
          "name": "stdout",
          "text": [
            "Epoch 1/30\n",
            "62/63 [============================>.] - ETA: 0s - loss: 0.5902 - accuracy: 0.9894"
          ]
        },
        {
          "output_type": "stream",
          "name": "stderr",
          "text": [
            "/usr/local/lib/python3.10/dist-packages/keras/src/engine/training.py:3103: UserWarning: You are saving your model as an HDF5 file via `model.save()`. This file format is considered legacy. We recommend using instead the native Keras format, e.g. `model.save('my_model.keras')`.\n",
            "  saving_api.save_model(\n"
          ]
        },
        {
          "output_type": "stream",
          "name": "stdout",
          "text": [
            "\b\b\b\b\b\b\b\b\b\b\b\b\b\b\b\b\b\b\b\b\b\b\b\b\b\b\b\b\b\b\b\b\b\b\b\b\b\b\b\b\b\b\b\b\b\b\b\b\b\b\b\b\b\b\b\b\b\b\b\b\b\b\b\b\b\b\b\b\b\b\b\b\b\b\b\b\b\b\b\b\b\b\r63/63 [==============================] - 7s 107ms/step - loss: 0.5855 - accuracy: 0.9895 - val_loss: 1.4452 - val_accuracy: 0.9780\n",
            "Epoch 2/30\n",
            "63/63 [==============================] - 7s 105ms/step - loss: 0.4434 - accuracy: 0.9900 - val_loss: 1.5713 - val_accuracy: 0.9760\n",
            "Epoch 3/30\n",
            "63/63 [==============================] - 7s 109ms/step - loss: 0.3828 - accuracy: 0.9920 - val_loss: 1.3025 - val_accuracy: 0.9820\n",
            "Epoch 4/30\n",
            "63/63 [==============================] - 7s 104ms/step - loss: 0.4577 - accuracy: 0.9885 - val_loss: 1.8626 - val_accuracy: 0.9790\n",
            "Epoch 5/30\n",
            "63/63 [==============================] - 7s 105ms/step - loss: 0.6606 - accuracy: 0.9870 - val_loss: 3.1757 - val_accuracy: 0.9740\n",
            "Epoch 6/30\n",
            "63/63 [==============================] - 7s 104ms/step - loss: 0.4030 - accuracy: 0.9895 - val_loss: 2.6184 - val_accuracy: 0.9770\n",
            "Epoch 7/30\n",
            "63/63 [==============================] - 7s 104ms/step - loss: 0.4579 - accuracy: 0.9915 - val_loss: 1.4291 - val_accuracy: 0.9800\n",
            "Epoch 8/30\n",
            "63/63 [==============================] - 7s 104ms/step - loss: 0.4454 - accuracy: 0.9895 - val_loss: 1.3201 - val_accuracy: 0.9850\n",
            "Epoch 9/30\n",
            "63/63 [==============================] - 8s 126ms/step - loss: 0.4884 - accuracy: 0.9900 - val_loss: 1.2039 - val_accuracy: 0.9820\n",
            "Epoch 10/30\n",
            "63/63 [==============================] - 7s 104ms/step - loss: 0.3766 - accuracy: 0.9890 - val_loss: 1.4207 - val_accuracy: 0.9810\n",
            "Epoch 11/30\n",
            "63/63 [==============================] - 7s 104ms/step - loss: 0.3197 - accuracy: 0.9920 - val_loss: 2.4314 - val_accuracy: 0.9720\n",
            "Epoch 12/30\n",
            "63/63 [==============================] - 7s 104ms/step - loss: 0.5027 - accuracy: 0.9925 - val_loss: 1.5677 - val_accuracy: 0.9810\n",
            "Epoch 13/30\n",
            "63/63 [==============================] - 7s 104ms/step - loss: 0.4698 - accuracy: 0.9920 - val_loss: 1.5188 - val_accuracy: 0.9830\n",
            "Epoch 14/30\n",
            "63/63 [==============================] - 7s 105ms/step - loss: 0.4874 - accuracy: 0.9890 - val_loss: 1.2617 - val_accuracy: 0.9820\n",
            "Epoch 15/30\n",
            "63/63 [==============================] - 7s 104ms/step - loss: 0.5142 - accuracy: 0.9890 - val_loss: 1.3337 - val_accuracy: 0.9820\n",
            "Epoch 16/30\n",
            "63/63 [==============================] - 8s 129ms/step - loss: 0.3418 - accuracy: 0.9890 - val_loss: 1.1681 - val_accuracy: 0.9840\n",
            "Epoch 17/30\n",
            "63/63 [==============================] - 7s 108ms/step - loss: 0.3233 - accuracy: 0.9925 - val_loss: 1.1054 - val_accuracy: 0.9820\n",
            "Epoch 18/30\n",
            "63/63 [==============================] - 7s 104ms/step - loss: 0.3281 - accuracy: 0.9920 - val_loss: 2.4143 - val_accuracy: 0.9770\n",
            "Epoch 19/30\n",
            "63/63 [==============================] - 7s 104ms/step - loss: 0.4590 - accuracy: 0.9930 - val_loss: 1.1499 - val_accuracy: 0.9820\n",
            "Epoch 20/30\n",
            "63/63 [==============================] - 8s 129ms/step - loss: 0.4301 - accuracy: 0.9915 - val_loss: 0.9132 - val_accuracy: 0.9860\n",
            "Epoch 21/30\n",
            "63/63 [==============================] - 7s 104ms/step - loss: 0.5385 - accuracy: 0.9915 - val_loss: 1.8875 - val_accuracy: 0.9790\n",
            "Epoch 22/30\n",
            "63/63 [==============================] - 7s 104ms/step - loss: 0.4181 - accuracy: 0.9915 - val_loss: 1.6912 - val_accuracy: 0.9770\n",
            "Epoch 23/30\n",
            "63/63 [==============================] - 7s 104ms/step - loss: 0.4103 - accuracy: 0.9925 - val_loss: 1.5893 - val_accuracy: 0.9810\n",
            "Epoch 24/30\n",
            "63/63 [==============================] - 7s 104ms/step - loss: 0.2612 - accuracy: 0.9935 - val_loss: 1.7437 - val_accuracy: 0.9780\n",
            "Epoch 25/30\n",
            "63/63 [==============================] - 7s 104ms/step - loss: 0.1843 - accuracy: 0.9960 - val_loss: 1.5622 - val_accuracy: 0.9790\n",
            "Epoch 26/30\n",
            "63/63 [==============================] - 7s 104ms/step - loss: 0.2013 - accuracy: 0.9935 - val_loss: 1.3188 - val_accuracy: 0.9810\n",
            "Epoch 27/30\n",
            "63/63 [==============================] - 7s 104ms/step - loss: 0.2525 - accuracy: 0.9945 - val_loss: 1.4425 - val_accuracy: 0.9800\n",
            "Epoch 28/30\n",
            "63/63 [==============================] - 7s 104ms/step - loss: 0.2424 - accuracy: 0.9925 - val_loss: 2.0751 - val_accuracy: 0.9780\n",
            "Epoch 29/30\n",
            "63/63 [==============================] - 7s 103ms/step - loss: 0.5189 - accuracy: 0.9930 - val_loss: 1.4202 - val_accuracy: 0.9810\n",
            "Epoch 30/30\n",
            "63/63 [==============================] - 7s 104ms/step - loss: 0.4747 - accuracy: 0.9895 - val_loss: 2.5939 - val_accuracy: 0.9730\n"
          ]
        }
      ],
      "source": [
        "#모델 컴파일\n",
        "model2.compile(loss='binary_crossentropy',\n",
        "              optimizer=keras.optimizers.RMSprop(learning_rate=1e-5),\n",
        "              metrics=['accuracy'])\n",
        "base_model_path = '/content/drive/MyDrive/Colab Notebooks/DeepLearning/model/'\n",
        "model_name3 = base_model_path + 'Cat_Dog_VGG16_fineTuning_model.h5'\n",
        "\n",
        "chkpt = keras.callbacks.ModelCheckpoint(filepath = model_name3,\n",
        "                                        save_best_only=True, monitor='val_loss')\n",
        "\n",
        "history3 = model.fit(train_ds, epochs=30,\n",
        "                     validation_data=validation_ds,\n",
        "                     callbacks=[chkpt])"
      ]
    },
    {
      "cell_type": "code",
      "execution_count": null,
      "id": "7628c387-977f-41cf-b702-1af2cf8514e1",
      "metadata": {
        "id": "7628c387-977f-41cf-b702-1af2cf8514e1",
        "colab": {
          "base_uri": "https://localhost:8080/",
          "height": 366
        },
        "outputId": "1a148ceb-3bdd-4713-afd7-28601e4f5780"
      },
      "outputs": [
        {
          "output_type": "display_data",
          "data": {
            "text/plain": [
              "<Figure size 1000x500 with 2 Axes>"
            ],
            "image/png": "[encoded data removed]"
          },
          "metadata": {}
        }
      ],
      "source": [
        "draw_metric_plot2(history3)"
      ]
    },
    {
      "cell_type": "code",
      "execution_count": null,
      "id": "56e015f3-2016-456f-95bb-73a46d70eeb5",
      "metadata": {
        "id": "56e015f3-2016-456f-95bb-73a46d70eeb5",
        "colab": {
          "base_uri": "https://localhost:8080/"
        },
        "outputId": "b3007606-307d-43e3-c754-59b1932ba83f"
      },
      "outputs": [
        {
          "output_type": "stream",
          "name": "stdout",
          "text": [
            "loss: 19, accuracy: 19\n",
            "## VGG16 미세조정한 모델 훈련, 검증 데이터 성능\n",
            "epochs: 20일때 loss: 1.1612 accuracy: 0.9830 val_loss: 2.7261 val_accuracy: 0.9760 \n"
          ]
        }
      ],
      "source": [
        "best_epoch = np.argmin(history3.history['val_loss'])\n",
        "best_epoch2 = np.argmax(history3.history['val_accuracy'])\n",
        "print(f'loss: {best_epoch}, accuracy: {best_epoch2}')\n",
        "print('## VGG16 미세조정한 모델 훈련, 검증 데이터 성능')\n",
        "print(f'epochs: {best_epoch+1}일때', end=' ')\n",
        "for key in history2.history.keys():\n",
        "    print(f'{key}: {history2.history[key][best_epoch]:.4f}', end=' ')\n",
        "print()"
      ]
    },
    {
      "cell_type": "code",
      "execution_count": null,
      "id": "cdcea722-365d-4584-9120-08886e5bc16e",
      "metadata": {
        "id": "cdcea722-365d-4584-9120-08886e5bc16e",
        "colab": {
          "base_uri": "https://localhost:8080/"
        },
        "outputId": "222f6a37-72d4-46da-9767-f3b614439ffb"
      },
      "outputs": [
        {
          "output_type": "stream",
          "name": "stdout",
          "text": [
            "63/63 [==============================] - 5s 64ms/step - loss: 1.9821 - accuracy: 0.9765\n",
            "## VGG16 미세조정한 모델 테스트 결과\n",
            "테스트 정확도: 0.9765, 손실: 1.9821\n"
          ]
        }
      ],
      "source": [
        "test_model3 = keras.models.load_model(model_name3)\n",
        "test_loss, test_acc = test_model3.evaluate(test_ds)\n",
        "print('## VGG16 미세조정한 모델 테스트 결과')\n",
        "print(f'테스트 정확도: {test_acc:.4f}, 손실: {test_loss:.4f}')"
      ]
    },
    {
      "cell_type": "markdown",
      "source": [
        "#### VGG16 데이터 증식 사용한 모델 테스트 결과\n",
        "- 테스트 정확도: 0.9745, 손실: 2.3777\n",
        "\n",
        "#### VGG16 미세조정한 모델 훈련, 검증 데이터 성능\n",
        "- epochs: 20일때 loss: 1.1612 accuracy: 0.9830 val_loss: 2.7261 val_accuracy: 0.9760\n",
        "\n",
        "#### VGG16 미세조정한 모델 테스트 결과\n",
        "- 테스트 정확도: 0.9765, 손실: 1.9821"
      ],
      "metadata": {
        "id": "qYsKu-70wOTB"
      },
      "id": "qYsKu-70wOTB"
    },
    {
      "cell_type": "markdown",
      "id": "56b22970-032e-46c3-ac88-9a6e38467c41",
      "metadata": {
        "id": "56b22970-032e-46c3-ac88-9a6e38467c41"
      },
      "source": [
        "----"
      ]
    }
  ],
  "metadata": {
    "accelerator": "GPU",
    "colab": {
      "gpuType": "L4",
      "machine_shape": "hm",
      "provenance": [],
      "include_colab_link": true
    },
    "kernelspec": {
      "display_name": "Python 3",
      "name": "python3"
    },
    "language_info": {
      "codemirror_mode": {
        "name": "ipython",
        "version": 3
      },
      "file_extension": ".py",
      "mimetype": "text/x-python",
      "name": "python",
      "nbconvert_exporter": "python",
      "pygments_lexer": "ipython3",
      "version": "3.11.7"
    }
  },
  "nbformat": 4,
  "nbformat_minor": 5
}
