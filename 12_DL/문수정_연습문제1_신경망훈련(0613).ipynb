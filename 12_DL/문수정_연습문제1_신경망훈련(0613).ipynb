{
 "cells": [
  {
   "cell_type": "markdown",
   "id": "b15c8dbf",
   "metadata": {},
   "source": [
    "### 확인문제\n",
    "\n",
    "1. 어떤 인공 신경망이 입력특성이 100개 이고 밀집층에 있는 뉴런 개수가 10개일 때 필요한 모델 파라미터 개수는 몇개?\n",
    "    - 입력 특성의 개수: 100개/ 뉴런의 개수: 10개\n",
    "    - 총 파라미터 개수 = (100×10)+10 = 1000+10 = 1010\n",
    "    - 필요한 모델 파라미터의 개수는 1010개."
   ]
  },
  {
   "cell_type": "markdown",
   "id": "f6b6314d",
   "metadata": {},
   "source": [
    "2. 케라스의 Dense 클래스를 사용해 신경망의 출력층을 만들려고 한다. 이 신경망이 이진 분류 모델이라면 activation 매개변수에 어떤 활성화 함수를 지정해야 하는가?\n",
    "\n",
    "    - 이진 분류 모델 출력층 활성화 함수: 시그모이드 함수(sigmoid) \n",
    "    - 시그모이드 함수는 입력 값을 0과 1 사이의 확률 값으로 변환, 이진 분류 문제에서 각 클래스에 속할 확률을 예측하는데 적합.\n",
    "    - Dense(1, activation='sigmoid')는 출력층에 1개의 뉴런을 가지고, 활성화 함수로 시그모이드 함수를 사용한다는 의미. 이 신경망은 출력값으로 0과 1 사이의 값을 반환, 이 값은 클래스 1에 속할 확률.\n",
    "\n",
    "```python\n",
    "from keras.models import Sequential\n",
    "from keras.layers import Dense\n",
    "\n",
    "model = Sequential()\n",
    "# 중간층 추가\n",
    "model.add(Dense(10, input_dim=100, activation='relu'))\n",
    "# 출력층\n",
    "model.add(Dense(1, activation='sigmoid'))\n",
    "```"
   ]
  },
  {
   "cell_type": "markdown",
   "id": "4571f695",
   "metadata": {},
   "source": [
    "3. 케라스 모델에서 손실 함수와 측정 지표 등을 지정하는 메서드는 무엇인가?\n",
    "    - compile 메서드를 사용하여 모델 학습 전에 필요한 설정함. 이 설정에 손실 함수, 옵티마이저, 측정 지표 등이 포함됨.\n",
    "    - optimizer: 학습 과정을 조정하는 알고리즘. Adam, SGD, RMSprop 등이 있음.\n",
    "    - loss: 모델이 학습할 때 최소화하려고 하는 손실 함수. 이진 분류에서는 binary_crossentropy를 사용.\n",
    "    - metrics: 모델의 성능을 평가할 때 사용할 측정 지표. 일반적으로 분류 문제에서는 정확도(accuracy) 사용.\n",
    "    - 이 방법을 통해 모델의 학습 설정 완료 후 fit 메서드를 사용하여 모델을 학습.\n",
    "    \n",
    "```python\n",
    "from keras.models import Sequential\n",
    "from keras.layers import Dense\n",
    "from keras.optimizers import Adam\n",
    "\n",
    "# 모델 생성\n",
    "model = Sequential()\n",
    "model.add(Dense(10, input_dim=100, activation='relu'))\n",
    "model.add(Dense(1, activation='sigmoid'))\n",
    "\n",
    "# 모델 컴파일\n",
    "model.compile(optimizer=Adam(), #optimizer는 Adam 옵티마이저를 사용\n",
    "              loss='binary_crossentropy', # loss는 이진 분류에 적합한 binary_crossentropy 사용\n",
    "              metrics=['accuracy']) # metrics에는 모델 성능 평가 - 정확도(accuracy) 사용\n",
    "```"
   ]
  },
  {
   "cell_type": "markdown",
   "id": "c12aed4f",
   "metadata": {},
   "source": [
    "4. 정수 레이블을 타깃으로 가지는 다중 분류 문제일 때, 케라스 모델의 compile() 메서드에 지정할 손실함수로 적절한 것은 무엇인가?\n",
    "    - 정수 레이블을 타깃으로 가지는 다중 분류 문제에는 케라스 모델의 compile 메서드에 지정할 손실 함수로 sparse_categorical_crossentropy를 사용하는 것이 적절함. 이 손실 함수는 정수형 레이블을 직접 처리할 수 있으며, 원-핫 인코딩을 사용할 필요가 없음.\n",
    "\n",
    "```python\n",
    "# 모델 컴파일\n",
    "model.compile(optimizer='adam', # optimizer는 Adam 옵티마이저를 사용\n",
    "              loss='sparse_categorical_crossentropy', # loss는 다중 분류에 적합한 sparse_categorical_crossentropy 사용\n",
    "              metrics=['accuracy']) # metrics에는 모델 성능평가 - 정확도(accuracy) 사용\n",
    "```"
   ]
  },
  {
   "cell_type": "markdown",
   "id": "9e4eebba",
   "metadata": {},
   "source": [
    "5. 크기가 $300*300$인 입력을 케라스 층으로 펼치려고 한다. 어떤 층을 사용해야 하는가?\n",
    "    - 크기가 300×300인 입력을 펼치기 위해서는 Keras의 Flatten 층 사용. 다차원 입력을 1차원으로 펼치는 역할.\n",
    "    - 300×300 크기의 이미지를 Flatten 층을 통해 펼치면 300 × 300 = 90,000 차원의 1차원 벡터로 변환.\n",
    "    - 코드: 300×300×3 크기의 컬러 이미지를 입력으로 받아 270,000 (300 * 300 * 3) 차원의 벡터로 펼침. 만약 입력이 흑백 이미지라면 채널 수는 1. \n",
    "        - Flatten 층: 다차원 배열을 1차원 벡터로 변환.\n",
    "        - InputLayer: 모델의 입력 모양 정의. \n",
    "        \n",
    "```python\n",
    "from keras.models import Sequential\n",
    "from keras.layers import Flatten\n",
    "\n",
    "model = Sequential()\n",
    "\n",
    "# 예를 들어, 입력 크기가 300x300인 입력을 펼치기 위해 InputLayer를 사용할 수 있습니다.\n",
    "model.add(keras.Input(shape=(300, 300, 3)))  # 컬러 이미지라면 채널이 3 (RGB)이 됩니다.\n",
    "model.add(Flatten())\n",
    "\n",
    "# 모델 요약을 출력해서 확인\n",
    "model.summary()\n",
    "```"
   ]
  },
  {
   "cell_type": "raw",
   "id": "70999088",
   "metadata": {},
   "source": [
    "6. 이미지 분류를 위한 심층신경망에서 널리 사용되는 케라스의 활성화 함수는 무엇인가?  \n",
    "    ① linear       \n",
    "    ② sigmoid      \n",
    "    ③ relu     \n",
    "    ④ tanh\n",
    "    \n",
    "  => ③ ReLU (Rectified Linear Unit) \n",
    "ReLU 활성화 함수는 음수를 0으로, 양수를 그대로 반환하는 함수로, 신경망의 학습 속도와 성능을 크게 개선시킴. 이미지 분류를 포함한 다양한 딥러닝 모델에서 주로 사용. ReLU는 기울기 소실 문제(vanishing gradient problem)를 완화하는 데 효과적, 이는 신경망의 깊이가 깊어질수록 중요한 장점."
   ]
  },
  {
   "cell_type": "markdown",
   "id": "f1233960",
   "metadata": {},
   "source": [
    "7. 다음 중 적응적 합습률을 사용하지 않는 옵티마이저는 무엇인가?  \n",
    "    ① SGD        \n",
    "    ② Adagrad       \n",
    "    ③ RMSprop       \n",
    "    ④ Adam\n",
    "    \n",
    "=> ① SGD (Stochastic Gradient Descent) \n",
    "적응적 학습률(Adaptive learning rate)을 사용하는 옵티마이저는 주어진 학습 데이터와 모델의 상태에 따라 학습률을 조절하여 학습을 최적화하는 방법. 여기에는 Adagrad, RMSprop, Adam 옵티마이저가 포함. SGD는 각각의 매개변수마다 동일한 학습률을 사용하며, 적응적으로 학습률을 조정하지 않음."
   ]
  },
  {
   "cell_type": "markdown",
   "id": "0b71b231",
   "metadata": {},
   "source": [
    "1. 케라스 모델의 fit() 메서드에 검증 세트를 올바르게 전달하는 코드는 무엇인가?  \n",
    "\n",
    "    ④ model.fit(... , validation_data=(val_input, val_target))     "
   ]
  },
  {
   "cell_type": "markdown",
   "id": "04dc0fb3",
   "metadata": {},
   "source": [
    "2. 이전 층의 뉴런 출력 중 70%만 사용하기 위해 드롭아웃 층을 추가하려고 한다. 옳게 설정한 것은?\n",
    "  \n",
    "    ② Dropout(0.3)  "
   ]
  },
  {
   "cell_type": "markdown",
   "id": "12891596",
   "metadata": {},
   "source": [
    "3. 케라스 모델의 가중치만 저장하는 메서드는 무엇인가?\n",
    "\n",
    "    ③ save_weights()  "
   ]
  },
  {
   "cell_type": "markdown",
   "id": "412236b2",
   "metadata": {},
   "source": [
    "4. 케라스의 조기 종료 콜백을 사용하려고 한다. 3번의 에포크 동안 손실이 감소되지 않으면 종료하고 최상의 모델 가중치를 복원하도록 설정한 것은 무엇인가?\n",
    " \n",
    "    ② EarlyStopping(monitor='val_loss', patience=3, restore_best_weights=True)  \n",
    "    \n",
    "=> monitor='val_loss': 검증 손실(validation loss)을 모니터링.\n",
    "patience=3: 손실이 개선되지 않는 에포크 수를 3으로 설정.\n",
    "restore_best_weights=True: 학습이 중지된 후 가장 좋은 가중치 복원."
   ]
  },
  {
   "cell_type": "markdown",
   "id": "2cc15d36",
   "metadata": {},
   "source": [
    "[연습]\n",
    "\n",
    "1. 은닉층을 1개 또는 3개의 층으로 사용하고 검증과 테스트의 정확도 비교해보기\n",
    "\n",
    "2. 층의 은닉 유닛을 추가하거나 줄여보기\n",
    "    - 32개 유닛, 64개 유닛 등\n",
    "3. relu 대신에 tanh 활성화 함수 사용해보기"
   ]
  },
  {
   "cell_type": "code",
   "execution_count": 2,
   "id": "dd5233b1",
   "metadata": {},
   "outputs": [],
   "source": [
    "import numpy as np\n",
    "from tensorflow import keras\n",
    "from keras.datasets import imdb"
   ]
  },
  {
   "cell_type": "markdown",
   "id": "86b371b0",
   "metadata": {},
   "source": [
    "#### 0. 데이터 전처리"
   ]
  },
  {
   "cell_type": "code",
   "execution_count": 9,
   "id": "5be68ea6",
   "metadata": {},
   "outputs": [],
   "source": [
    "from keras.preprocessing.sequence import pad_sequences\n",
    "from keras.utils import to_categorical\n",
    "\n",
    "# IMDb 데이터셋 로드 (단어 빈도 상위 10,000개 단어만 사용)\n",
    "max_features = 10000\n",
    "maxlen = 500\n",
    "\n",
    "(train_data, train_labels), (test_data, test_labels) = imdb.load_data(num_words=max_features)\n",
    "\n",
    "# 데이터 패딩 (모든 시퀀스를 동일한 길이로 맞추기)\n",
    "train_data = pad_sequences(train_data, maxlen=maxlen)\n",
    "test_data = pad_sequences(test_data, maxlen=maxlen)\n",
    "\n",
    "# 데이터 분할 (훈련 데이터와 검증 데이터)\n",
    "from sklearn.model_selection import train_test_split\n",
    "train_data, val_data, train_labels, val_labels = train_test_split(train_data, train_labels, test_size=0.2, random_state=42)"
   ]
  },
  {
   "cell_type": "markdown",
   "id": "6efe06be",
   "metadata": {},
   "source": [
    "#### 1-1. 은닉층 1개, 32개 유닛, ReLU 활성화 함수"
   ]
  },
  {
   "cell_type": "code",
   "execution_count": 10,
   "id": "bd158d3b",
   "metadata": {},
   "outputs": [
    {
     "name": "stdout",
     "output_type": "stream",
     "text": [
      "Epoch 1/20\n"
     ]
    },
    {
     "name": "stderr",
     "output_type": "stream",
     "text": [
      "/opt/anaconda3/lib/python3.11/site-packages/keras/src/layers/core/embedding.py:86: UserWarning: Argument `input_length` is deprecated. Just remove it.\n",
      "  warnings.warn(\n"
     ]
    },
    {
     "name": "stdout",
     "output_type": "stream",
     "text": [
      "\u001b[1m157/157\u001b[0m \u001b[32m━━━━━━━━━━━━━━━━━━━━\u001b[0m\u001b[37m\u001b[0m \u001b[1m3s\u001b[0m 14ms/step - accuracy: 0.6159 - loss: 0.6218 - val_accuracy: 0.8480 - val_loss: 0.3375\n",
      "Epoch 2/20\n",
      "\u001b[1m157/157\u001b[0m \u001b[32m━━━━━━━━━━━━━━━━━━━━\u001b[0m\u001b[37m\u001b[0m \u001b[1m2s\u001b[0m 13ms/step - accuracy: 0.9240 - loss: 0.2118 - val_accuracy: 0.8702 - val_loss: 0.3048\n",
      "Epoch 3/20\n",
      "\u001b[1m157/157\u001b[0m \u001b[32m━━━━━━━━━━━━━━━━━━━━\u001b[0m\u001b[37m\u001b[0m \u001b[1m2s\u001b[0m 14ms/step - accuracy: 0.9834 - loss: 0.0755 - val_accuracy: 0.8690 - val_loss: 0.3384\n",
      "Epoch 4/20\n",
      "\u001b[1m157/157\u001b[0m \u001b[32m━━━━━━━━━━━━━━━━━━━━\u001b[0m\u001b[37m\u001b[0m \u001b[1m2s\u001b[0m 13ms/step - accuracy: 0.9974 - loss: 0.0205 - val_accuracy: 0.8634 - val_loss: 0.3896\n",
      "Epoch 5/20\n",
      "\u001b[1m157/157\u001b[0m \u001b[32m━━━━━━━━━━━━━━━━━━━━\u001b[0m\u001b[37m\u001b[0m \u001b[1m2s\u001b[0m 13ms/step - accuracy: 0.9997 - loss: 0.0065 - val_accuracy: 0.8616 - val_loss: 0.4252\n",
      "Epoch 6/20\n",
      "\u001b[1m157/157\u001b[0m \u001b[32m━━━━━━━━━━━━━━━━━━━━\u001b[0m\u001b[37m\u001b[0m \u001b[1m2s\u001b[0m 13ms/step - accuracy: 1.0000 - loss: 0.0034 - val_accuracy: 0.8592 - val_loss: 0.4575\n",
      "Epoch 7/20\n",
      "\u001b[1m157/157\u001b[0m \u001b[32m━━━━━━━━━━━━━━━━━━━━\u001b[0m\u001b[37m\u001b[0m \u001b[1m2s\u001b[0m 13ms/step - accuracy: 1.0000 - loss: 0.0019 - val_accuracy: 0.8616 - val_loss: 0.4688\n",
      "Epoch 8/20\n",
      "\u001b[1m157/157\u001b[0m \u001b[32m━━━━━━━━━━━━━━━━━━━━\u001b[0m\u001b[37m\u001b[0m \u001b[1m2s\u001b[0m 14ms/step - accuracy: 1.0000 - loss: 0.0011 - val_accuracy: 0.8622 - val_loss: 0.4843\n",
      "Epoch 9/20\n",
      "\u001b[1m157/157\u001b[0m \u001b[32m━━━━━━━━━━━━━━━━━━━━\u001b[0m\u001b[37m\u001b[0m \u001b[1m2s\u001b[0m 14ms/step - accuracy: 1.0000 - loss: 7.7967e-04 - val_accuracy: 0.8626 - val_loss: 0.4995\n",
      "Epoch 10/20\n",
      "\u001b[1m157/157\u001b[0m \u001b[32m━━━━━━━━━━━━━━━━━━━━\u001b[0m\u001b[37m\u001b[0m \u001b[1m2s\u001b[0m 13ms/step - accuracy: 1.0000 - loss: 5.3769e-04 - val_accuracy: 0.8634 - val_loss: 0.5119\n",
      "Epoch 11/20\n",
      "\u001b[1m157/157\u001b[0m \u001b[32m━━━━━━━━━━━━━━━━━━━━\u001b[0m\u001b[37m\u001b[0m \u001b[1m2s\u001b[0m 14ms/step - accuracy: 1.0000 - loss: 4.1584e-04 - val_accuracy: 0.8634 - val_loss: 0.5250\n",
      "Epoch 12/20\n",
      "\u001b[1m157/157\u001b[0m \u001b[32m━━━━━━━━━━━━━━━━━━━━\u001b[0m\u001b[37m\u001b[0m \u001b[1m2s\u001b[0m 13ms/step - accuracy: 1.0000 - loss: 3.2751e-04 - val_accuracy: 0.8628 - val_loss: 0.5357\n",
      "Epoch 13/20\n",
      "\u001b[1m157/157\u001b[0m \u001b[32m━━━━━━━━━━━━━━━━━━━━\u001b[0m\u001b[37m\u001b[0m \u001b[1m2s\u001b[0m 13ms/step - accuracy: 1.0000 - loss: 2.5057e-04 - val_accuracy: 0.8638 - val_loss: 0.5458\n",
      "Epoch 14/20\n",
      "\u001b[1m157/157\u001b[0m \u001b[32m━━━━━━━━━━━━━━━━━━━━\u001b[0m\u001b[37m\u001b[0m \u001b[1m2s\u001b[0m 13ms/step - accuracy: 1.0000 - loss: 2.0996e-04 - val_accuracy: 0.8638 - val_loss: 0.5566\n",
      "Epoch 15/20\n",
      "\u001b[1m157/157\u001b[0m \u001b[32m━━━━━━━━━━━━━━━━━━━━\u001b[0m\u001b[37m\u001b[0m \u001b[1m2s\u001b[0m 15ms/step - accuracy: 1.0000 - loss: 1.7369e-04 - val_accuracy: 0.8642 - val_loss: 0.5657\n",
      "Epoch 16/20\n",
      "\u001b[1m157/157\u001b[0m \u001b[32m━━━━━━━━━━━━━━━━━━━━\u001b[0m\u001b[37m\u001b[0m \u001b[1m2s\u001b[0m 16ms/step - accuracy: 1.0000 - loss: 1.3951e-04 - val_accuracy: 0.8636 - val_loss: 0.5750\n",
      "Epoch 17/20\n",
      "\u001b[1m157/157\u001b[0m \u001b[32m━━━━━━━━━━━━━━━━━━━━\u001b[0m\u001b[37m\u001b[0m \u001b[1m2s\u001b[0m 13ms/step - accuracy: 1.0000 - loss: 1.1516e-04 - val_accuracy: 0.8644 - val_loss: 0.5837\n",
      "Epoch 18/20\n",
      "\u001b[1m157/157\u001b[0m \u001b[32m━━━━━━━━━━━━━━━━━━━━\u001b[0m\u001b[37m\u001b[0m \u001b[1m2s\u001b[0m 14ms/step - accuracy: 1.0000 - loss: 9.6670e-05 - val_accuracy: 0.8638 - val_loss: 0.5926\n",
      "Epoch 19/20\n",
      "\u001b[1m157/157\u001b[0m \u001b[32m━━━━━━━━━━━━━━━━━━━━\u001b[0m\u001b[37m\u001b[0m \u001b[1m2s\u001b[0m 14ms/step - accuracy: 1.0000 - loss: 8.1957e-05 - val_accuracy: 0.8646 - val_loss: 0.6006\n",
      "Epoch 20/20\n",
      "\u001b[1m157/157\u001b[0m \u001b[32m━━━━━━━━━━━━━━━━━━━━\u001b[0m\u001b[37m\u001b[0m \u001b[1m2s\u001b[0m 13ms/step - accuracy: 1.0000 - loss: 6.9252e-05 - val_accuracy: 0.8638 - val_loss: 0.6087\n"
     ]
    }
   ],
   "source": [
    "from keras.models import Sequential\n",
    "from keras.layers import Dense, Embedding, Flatten\n",
    "\n",
    "def model_1layer_32units():\n",
    "    model = Sequential()\n",
    "    model.add(Embedding(max_features, 32, input_length=maxlen))\n",
    "    model.add(Flatten())\n",
    "    model.add(Dense(32, activation='relu'))\n",
    "    model.add(Dense(1, activation='sigmoid'))\n",
    "    model.compile(optimizer='adam', loss='binary_crossentropy', metrics=['accuracy'])\n",
    "    return model\n",
    "\n",
    "m_1layer_32units = model_1layer_32units()\n",
    "history_1layer_32units = m_1layer_32units.fit(train_data, train_labels, epochs=20, batch_size=128, validation_data=(val_data, val_labels))"
   ]
  },
  {
   "cell_type": "markdown",
   "id": "1b96a8ce",
   "metadata": {},
   "source": [
    "#### 1-2. 은닉층 3개, 64개 유닛, ReLU 활성화 함수"
   ]
  },
  {
   "cell_type": "code",
   "execution_count": 12,
   "id": "b5d2036c",
   "metadata": {
    "scrolled": true
   },
   "outputs": [
    {
     "name": "stdout",
     "output_type": "stream",
     "text": [
      "Epoch 1/20\n",
      "\u001b[1m157/157\u001b[0m \u001b[32m━━━━━━━━━━━━━━━━━━━━\u001b[0m\u001b[37m\u001b[0m \u001b[1m4s\u001b[0m 18ms/step - accuracy: 0.5734 - loss: 0.6452 - val_accuracy: 0.8540 - val_loss: 0.3437\n",
      "Epoch 2/20\n",
      "\u001b[1m157/157\u001b[0m \u001b[32m━━━━━━━━━━━━━━━━━━━━\u001b[0m\u001b[37m\u001b[0m \u001b[1m3s\u001b[0m 19ms/step - accuracy: 0.9269 - loss: 0.1953 - val_accuracy: 0.8732 - val_loss: 0.3136\n",
      "Epoch 3/20\n",
      "\u001b[1m157/157\u001b[0m \u001b[32m━━━━━━━━━━━━━━━━━━━━\u001b[0m\u001b[37m\u001b[0m \u001b[1m3s\u001b[0m 20ms/step - accuracy: 0.9884 - loss: 0.0395 - val_accuracy: 0.8514 - val_loss: 0.5372\n",
      "Epoch 4/20\n",
      "\u001b[1m157/157\u001b[0m \u001b[32m━━━━━━━━━━━━━━━━━━━━\u001b[0m\u001b[37m\u001b[0m \u001b[1m3s\u001b[0m 18ms/step - accuracy: 0.9984 - loss: 0.0073 - val_accuracy: 0.8538 - val_loss: 0.6621\n",
      "Epoch 5/20\n",
      "\u001b[1m157/157\u001b[0m \u001b[32m━━━━━━━━━━━━━━━━━━━━\u001b[0m\u001b[37m\u001b[0m \u001b[1m3s\u001b[0m 18ms/step - accuracy: 0.9998 - loss: 0.0010 - val_accuracy: 0.8558 - val_loss: 0.7862\n",
      "Epoch 6/20\n",
      "\u001b[1m157/157\u001b[0m \u001b[32m━━━━━━━━━━━━━━━━━━━━\u001b[0m\u001b[37m\u001b[0m \u001b[1m3s\u001b[0m 19ms/step - accuracy: 1.0000 - loss: 9.5408e-05 - val_accuracy: 0.8572 - val_loss: 0.8227\n",
      "Epoch 7/20\n",
      "\u001b[1m157/157\u001b[0m \u001b[32m━━━━━━━━━━━━━━━━━━━━\u001b[0m\u001b[37m\u001b[0m \u001b[1m3s\u001b[0m 18ms/step - accuracy: 1.0000 - loss: 5.8787e-05 - val_accuracy: 0.8570 - val_loss: 0.8542\n",
      "Epoch 8/20\n",
      "\u001b[1m157/157\u001b[0m \u001b[32m━━━━━━━━━━━━━━━━━━━━\u001b[0m\u001b[37m\u001b[0m \u001b[1m3s\u001b[0m 19ms/step - accuracy: 1.0000 - loss: 3.1698e-05 - val_accuracy: 0.8582 - val_loss: 0.8771\n",
      "Epoch 9/20\n",
      "\u001b[1m157/157\u001b[0m \u001b[32m━━━━━━━━━━━━━━━━━━━━\u001b[0m\u001b[37m\u001b[0m \u001b[1m3s\u001b[0m 18ms/step - accuracy: 1.0000 - loss: 2.5500e-05 - val_accuracy: 0.8576 - val_loss: 0.8962\n",
      "Epoch 10/20\n",
      "\u001b[1m157/157\u001b[0m \u001b[32m━━━━━━━━━━━━━━━━━━━━\u001b[0m\u001b[37m\u001b[0m \u001b[1m3s\u001b[0m 18ms/step - accuracy: 1.0000 - loss: 1.7988e-05 - val_accuracy: 0.8576 - val_loss: 0.9129\n",
      "Epoch 11/20\n",
      "\u001b[1m157/157\u001b[0m \u001b[32m━━━━━━━━━━━━━━━━━━━━\u001b[0m\u001b[37m\u001b[0m \u001b[1m3s\u001b[0m 18ms/step - accuracy: 1.0000 - loss: 1.4077e-05 - val_accuracy: 0.8580 - val_loss: 0.9277\n",
      "Epoch 12/20\n",
      "\u001b[1m157/157\u001b[0m \u001b[32m━━━━━━━━━━━━━━━━━━━━\u001b[0m\u001b[37m\u001b[0m \u001b[1m3s\u001b[0m 18ms/step - accuracy: 1.0000 - loss: 1.1861e-05 - val_accuracy: 0.8578 - val_loss: 0.9418\n",
      "Epoch 13/20\n",
      "\u001b[1m157/157\u001b[0m \u001b[32m━━━━━━━━━━━━━━━━━━━━\u001b[0m\u001b[37m\u001b[0m \u001b[1m3s\u001b[0m 19ms/step - accuracy: 1.0000 - loss: 9.9881e-06 - val_accuracy: 0.8572 - val_loss: 0.9547\n",
      "Epoch 14/20\n",
      "\u001b[1m157/157\u001b[0m \u001b[32m━━━━━━━━━━━━━━━━━━━━\u001b[0m\u001b[37m\u001b[0m \u001b[1m3s\u001b[0m 20ms/step - accuracy: 1.0000 - loss: 8.4000e-06 - val_accuracy: 0.8578 - val_loss: 0.9670\n",
      "Epoch 15/20\n",
      "\u001b[1m157/157\u001b[0m \u001b[32m━━━━━━━━━━━━━━━━━━━━\u001b[0m\u001b[37m\u001b[0m \u001b[1m3s\u001b[0m 18ms/step - accuracy: 1.0000 - loss: 6.8350e-06 - val_accuracy: 0.8572 - val_loss: 0.9781\n",
      "Epoch 16/20\n",
      "\u001b[1m157/157\u001b[0m \u001b[32m━━━━━━━━━━━━━━━━━━━━\u001b[0m\u001b[37m\u001b[0m \u001b[1m3s\u001b[0m 19ms/step - accuracy: 1.0000 - loss: 5.7499e-06 - val_accuracy: 0.8576 - val_loss: 0.9887\n",
      "Epoch 17/20\n",
      "\u001b[1m157/157\u001b[0m \u001b[32m━━━━━━━━━━━━━━━━━━━━\u001b[0m\u001b[37m\u001b[0m \u001b[1m3s\u001b[0m 19ms/step - accuracy: 1.0000 - loss: 5.4376e-06 - val_accuracy: 0.8574 - val_loss: 0.9995\n",
      "Epoch 18/20\n",
      "\u001b[1m157/157\u001b[0m \u001b[32m━━━━━━━━━━━━━━━━━━━━\u001b[0m\u001b[37m\u001b[0m \u001b[1m3s\u001b[0m 19ms/step - accuracy: 1.0000 - loss: 4.2842e-06 - val_accuracy: 0.8580 - val_loss: 1.0093\n",
      "Epoch 19/20\n",
      "\u001b[1m157/157\u001b[0m \u001b[32m━━━━━━━━━━━━━━━━━━━━\u001b[0m\u001b[37m\u001b[0m \u001b[1m3s\u001b[0m 21ms/step - accuracy: 1.0000 - loss: 3.6925e-06 - val_accuracy: 0.8582 - val_loss: 1.0188\n",
      "Epoch 20/20\n",
      "\u001b[1m157/157\u001b[0m \u001b[32m━━━━━━━━━━━━━━━━━━━━\u001b[0m\u001b[37m\u001b[0m \u001b[1m3s\u001b[0m 19ms/step - accuracy: 1.0000 - loss: 3.3338e-06 - val_accuracy: 0.8578 - val_loss: 1.0287\n"
     ]
    }
   ],
   "source": [
    "def model_3layers_64units():\n",
    "    model = Sequential()\n",
    "    model.add(Embedding(max_features, 32, input_length=maxlen))\n",
    "    model.add(Flatten())\n",
    "    model.add(Dense(64, activation='relu'))\n",
    "    model.add(Dense(64, activation='relu'))\n",
    "    model.add(Dense(64, activation='relu'))\n",
    "    model.add(Dense(1, activation='sigmoid'))\n",
    "    model.compile(optimizer='adam', loss='binary_crossentropy', metrics=['accuracy'])\n",
    "    return model\n",
    "\n",
    "m_3layers_64units = model_3layers_64units()\n",
    "history_3layers_64units = m_3layers_64units.fit(train_data, train_labels, epochs=20, batch_size=128, validation_data=(val_data, val_labels))"
   ]
  },
  {
   "cell_type": "markdown",
   "id": "e454c4c7",
   "metadata": {},
   "source": [
    "#### 1-3. 은닉층 1개, 32개 유닛, Tanh 활성화 함수"
   ]
  },
  {
   "cell_type": "code",
   "execution_count": 13,
   "id": "126849fa",
   "metadata": {},
   "outputs": [
    {
     "name": "stdout",
     "output_type": "stream",
     "text": [
      "Epoch 1/20\n",
      "\u001b[1m157/157\u001b[0m \u001b[32m━━━━━━━━━━━━━━━━━━━━\u001b[0m\u001b[37m\u001b[0m \u001b[1m3s\u001b[0m 14ms/step - accuracy: 0.6255 - loss: 0.6151 - val_accuracy: 0.8688 - val_loss: 0.3101\n",
      "Epoch 2/20\n",
      "\u001b[1m157/157\u001b[0m \u001b[32m━━━━━━━━━━━━━━━━━━━━\u001b[0m\u001b[37m\u001b[0m \u001b[1m2s\u001b[0m 13ms/step - accuracy: 0.9408 - loss: 0.1740 - val_accuracy: 0.8676 - val_loss: 0.3101\n",
      "Epoch 3/20\n",
      "\u001b[1m157/157\u001b[0m \u001b[32m━━━━━━━━━━━━━━━━━━━━\u001b[0m\u001b[37m\u001b[0m \u001b[1m2s\u001b[0m 13ms/step - accuracy: 0.9907 - loss: 0.0461 - val_accuracy: 0.8622 - val_loss: 0.3811\n",
      "Epoch 4/20\n",
      "\u001b[1m157/157\u001b[0m \u001b[32m━━━━━━━━━━━━━━━━━━━━\u001b[0m\u001b[37m\u001b[0m \u001b[1m2s\u001b[0m 14ms/step - accuracy: 0.9992 - loss: 0.0095 - val_accuracy: 0.8634 - val_loss: 0.4162\n",
      "Epoch 5/20\n",
      "\u001b[1m157/157\u001b[0m \u001b[32m━━━━━━━━━━━━━━━━━━━━\u001b[0m\u001b[37m\u001b[0m \u001b[1m2s\u001b[0m 14ms/step - accuracy: 1.0000 - loss: 0.0031 - val_accuracy: 0.8634 - val_loss: 0.4401\n",
      "Epoch 6/20\n",
      "\u001b[1m157/157\u001b[0m \u001b[32m━━━━━━━━━━━━━━━━━━━━\u001b[0m\u001b[37m\u001b[0m \u001b[1m2s\u001b[0m 15ms/step - accuracy: 1.0000 - loss: 0.0016 - val_accuracy: 0.8640 - val_loss: 0.4625\n",
      "Epoch 7/20\n",
      "\u001b[1m157/157\u001b[0m \u001b[32m━━━━━━━━━━━━━━━━━━━━\u001b[0m\u001b[37m\u001b[0m \u001b[1m2s\u001b[0m 14ms/step - accuracy: 1.0000 - loss: 0.0010 - val_accuracy: 0.8640 - val_loss: 0.4770\n",
      "Epoch 8/20\n",
      "\u001b[1m157/157\u001b[0m \u001b[32m━━━━━━━━━━━━━━━━━━━━\u001b[0m\u001b[37m\u001b[0m \u001b[1m2s\u001b[0m 13ms/step - accuracy: 1.0000 - loss: 7.5730e-04 - val_accuracy: 0.8644 - val_loss: 0.4901\n",
      "Epoch 9/20\n",
      "\u001b[1m157/157\u001b[0m \u001b[32m━━━━━━━━━━━━━━━━━━━━\u001b[0m\u001b[37m\u001b[0m \u001b[1m2s\u001b[0m 13ms/step - accuracy: 1.0000 - loss: 5.2619e-04 - val_accuracy: 0.8644 - val_loss: 0.5018\n",
      "Epoch 10/20\n",
      "\u001b[1m157/157\u001b[0m \u001b[32m━━━━━━━━━━━━━━━━━━━━\u001b[0m\u001b[37m\u001b[0m \u001b[1m2s\u001b[0m 13ms/step - accuracy: 1.0000 - loss: 4.1852e-04 - val_accuracy: 0.8658 - val_loss: 0.5144\n",
      "Epoch 11/20\n",
      "\u001b[1m157/157\u001b[0m \u001b[32m━━━━━━━━━━━━━━━━━━━━\u001b[0m\u001b[37m\u001b[0m \u001b[1m2s\u001b[0m 13ms/step - accuracy: 1.0000 - loss: 3.3326e-04 - val_accuracy: 0.8648 - val_loss: 0.5232\n",
      "Epoch 12/20\n",
      "\u001b[1m157/157\u001b[0m \u001b[32m━━━━━━━━━━━━━━━━━━━━\u001b[0m\u001b[37m\u001b[0m \u001b[1m2s\u001b[0m 13ms/step - accuracy: 1.0000 - loss: 2.6202e-04 - val_accuracy: 0.8646 - val_loss: 0.5329\n",
      "Epoch 13/20\n",
      "\u001b[1m157/157\u001b[0m \u001b[32m━━━━━━━━━━━━━━━━━━━━\u001b[0m\u001b[37m\u001b[0m \u001b[1m2s\u001b[0m 13ms/step - accuracy: 1.0000 - loss: 2.1429e-04 - val_accuracy: 0.8652 - val_loss: 0.5421\n",
      "Epoch 14/20\n",
      "\u001b[1m157/157\u001b[0m \u001b[32m━━━━━━━━━━━━━━━━━━━━\u001b[0m\u001b[37m\u001b[0m \u001b[1m2s\u001b[0m 15ms/step - accuracy: 1.0000 - loss: 1.7971e-04 - val_accuracy: 0.8662 - val_loss: 0.5502\n",
      "Epoch 15/20\n",
      "\u001b[1m157/157\u001b[0m \u001b[32m━━━━━━━━━━━━━━━━━━━━\u001b[0m\u001b[37m\u001b[0m \u001b[1m2s\u001b[0m 13ms/step - accuracy: 1.0000 - loss: 1.5177e-04 - val_accuracy: 0.8664 - val_loss: 0.5589\n",
      "Epoch 16/20\n",
      "\u001b[1m157/157\u001b[0m \u001b[32m━━━━━━━━━━━━━━━━━━━━\u001b[0m\u001b[37m\u001b[0m \u001b[1m2s\u001b[0m 13ms/step - accuracy: 1.0000 - loss: 1.3207e-04 - val_accuracy: 0.8660 - val_loss: 0.5654\n",
      "Epoch 17/20\n",
      "\u001b[1m157/157\u001b[0m \u001b[32m━━━━━━━━━━━━━━━━━━━━\u001b[0m\u001b[37m\u001b[0m \u001b[1m2s\u001b[0m 13ms/step - accuracy: 1.0000 - loss: 1.0959e-04 - val_accuracy: 0.8648 - val_loss: 0.5732\n",
      "Epoch 18/20\n",
      "\u001b[1m157/157\u001b[0m \u001b[32m━━━━━━━━━━━━━━━━━━━━\u001b[0m\u001b[37m\u001b[0m \u001b[1m2s\u001b[0m 14ms/step - accuracy: 1.0000 - loss: 9.5829e-05 - val_accuracy: 0.8650 - val_loss: 0.5800\n",
      "Epoch 19/20\n",
      "\u001b[1m157/157\u001b[0m \u001b[32m━━━━━━━━━━━━━━━━━━━━\u001b[0m\u001b[37m\u001b[0m \u001b[1m2s\u001b[0m 14ms/step - accuracy: 1.0000 - loss: 8.3059e-05 - val_accuracy: 0.8650 - val_loss: 0.5862\n",
      "Epoch 20/20\n",
      "\u001b[1m157/157\u001b[0m \u001b[32m━━━━━━━━━━━━━━━━━━━━\u001b[0m\u001b[37m\u001b[0m \u001b[1m2s\u001b[0m 13ms/step - accuracy: 1.0000 - loss: 7.3630e-05 - val_accuracy: 0.8656 - val_loss: 0.5925\n"
     ]
    }
   ],
   "source": [
    "def model_1layer_32units_tanh():\n",
    "    model = Sequential()\n",
    "    model.add(Embedding(max_features, 32, input_length=maxlen))\n",
    "    model.add(Flatten())\n",
    "    model.add(Dense(32, activation='tanh'))\n",
    "    model.add(Dense(1, activation='sigmoid'))\n",
    "    model.compile(optimizer='adam', loss='binary_crossentropy', metrics=['accuracy'])\n",
    "    return model\n",
    "\n",
    "m_1layer_32units_tanh = model_1layer_32units_tanh()\n",
    "history_1layer_32units_tanh = m_1layer_32units_tanh.fit(train_data, train_labels, epochs=20, batch_size=128, validation_data=(val_data, val_labels))"
   ]
  },
  {
   "cell_type": "markdown",
   "id": "00d8ca86",
   "metadata": {},
   "source": [
    "#### 2. 정확도"
   ]
  },
  {
   "cell_type": "code",
   "execution_count": 15,
   "id": "42595587",
   "metadata": {},
   "outputs": [
    {
     "name": "stdout",
     "output_type": "stream",
     "text": [
      "\u001b[1m782/782\u001b[0m \u001b[32m━━━━━━━━━━━━━━━━━━━━\u001b[0m\u001b[37m\u001b[0m \u001b[1m1s\u001b[0m 922us/step - accuracy: 0.8653 - loss: 0.6090\n",
      "\u001b[1m782/782\u001b[0m \u001b[32m━━━━━━━━━━━━━━━━━━━━\u001b[0m\u001b[37m\u001b[0m \u001b[1m1s\u001b[0m 1ms/step - accuracy: 0.8557 - loss: 1.0494\n",
      "\u001b[1m782/782\u001b[0m \u001b[32m━━━━━━━━━━━━━━━━━━━━\u001b[0m\u001b[37m\u001b[0m \u001b[1m1s\u001b[0m 970us/step - accuracy: 0.8620 - loss: 0.6038\n",
      "Model 1 (1 layer, 32 units, ReLU) Test Accuracy: 0.8624799847602844\n",
      "Model 2 (3 layers, 64 units, ReLU) Test Accuracy: 0.8559600114822388\n",
      "Model 3 (1 layer, 32 units, Tanh) Test Accuracy: 0.8609600067138672\n"
     ]
    }
   ],
   "source": [
    "test_loss_1, test_acc_1 = m_1layer_32units.evaluate(test_data, test_labels)\n",
    "test_loss_2, test_acc_2 = m_3layers_64units.evaluate(test_data, test_labels)\n",
    "test_loss_3, test_acc_3 = m_1layer_32units_tanh.evaluate(test_data, test_labels)\n",
    "\n",
    "print(f\"Model 1 (1 layer, 32 units, ReLU) Test Accuracy: {test_acc_1}\")\n",
    "print(f\"Model 2 (3 layers, 64 units, ReLU) Test Accuracy: {test_acc_2}\")\n",
    "print(f\"Model 3 (1 layer, 32 units, Tanh) Test Accuracy: {test_acc_3}\")"
   ]
  },
  {
   "cell_type": "markdown",
   "id": "d504d334",
   "metadata": {},
   "source": [
    "#### 3. 시각화"
   ]
  },
  {
   "cell_type": "code",
   "execution_count": 14,
   "id": "bed9e4a0",
   "metadata": {},
   "outputs": [
    {
     "data": {
      "image/png": "[encoded data removed]",
      "text/plain": [
       "<Figure size 640x480 with 1 Axes>"
      ]
     },
     "metadata": {},
     "output_type": "display_data"
    }
   ],
   "source": [
    "import matplotlib.pyplot as plt\n",
    "\n",
    "# 모델 1: 은닉층 1개, 32 유닛, ReLU\n",
    "plt.plot(history_1layer_32units.history['val_accuracy'], label='1 layer, 32 units, ReLU')\n",
    "\n",
    "# 모델 2: 은닉층 3개, 64 유닛, ReLU\n",
    "plt.plot(history_3layers_64units.history['val_accuracy'], label='3 layers, 64 units, ReLU')\n",
    "\n",
    "# 모델 3: 은닉층 1개, 32 유닛, Tanh\n",
    "plt.plot(history_1layer_32units_tanh.history['val_accuracy'], label='1 layer, 32 units, Tanh')\n",
    "\n",
    "plt.xlabel('Epochs')\n",
    "plt.ylabel('Validation Accuracy')\n",
    "plt.legend()\n",
    "plt.show()"
   ]
  }
 ],
 "metadata": {
  "kernelspec": {
   "display_name": "Python 3 (ipykernel)",
   "language": "python",
   "name": "python3"
  },
  "language_info": {
   "codemirror_mode": {
    "name": "ipython",
    "version": 3
   },
   "file_extension": ".py",
   "mimetype": "text/x-python",
   "name": "python",
   "nbconvert_exporter": "python",
   "pygments_lexer": "ipython3",
   "version": "3.11.8"
  }
 },
 "nbformat": 4,
 "nbformat_minor": 5
}
